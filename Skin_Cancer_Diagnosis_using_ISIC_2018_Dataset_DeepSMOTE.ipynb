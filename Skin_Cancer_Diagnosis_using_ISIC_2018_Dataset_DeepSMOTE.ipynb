{
  "cells": [
    {
      "cell_type": "markdown",
      "metadata": {
        "id": "view-in-github",
        "colab_type": "text"
      },
      "source": [
        "<a href=\"https://colab.research.google.com/github/heroza/Skin-Cancer-Diagnosis/blob/main/Skin_Cancer_Diagnosis_using_ISIC_2018_Dataset_DeepSMOTE.ipynb\" target=\"_parent\"><img src=\"https://colab.research.google.com/assets/colab-badge.svg\" alt=\"Open In Colab\"/></a>"
      ]
    },
    {
      "cell_type": "markdown",
      "metadata": {
        "id": "PUusDE1Z9TNb"
      },
      "source": [
        "Prepare the dataset. \n",
        "Currently, we use skin cancer ISIC dataset from Kaggle https://www.kaggle.com/datasets/nodoubttome/skin-cancer9-classesisic\n",
        "\n",
        "Tutorial for how to load Kaggle dataset can be found in https://www.analyticsvidhya.com/blog/2021/06/how-to-load-kaggle-datasets-directly-into-google-colab/"
      ]
    },
    {
      "cell_type": "code",
      "execution_count": null,
      "metadata": {
        "colab": {
          "base_uri": "https://localhost:8080/"
        },
        "id": "Eus_4tUgfEk9",
        "outputId": "a02d5a34-c4f3-4c8a-9f23-78b64d5b327d"
      },
      "outputs": [
        {
          "output_type": "stream",
          "name": "stdout",
          "text": [
            "Mounted at /content/drive\n"
          ]
        }
      ],
      "source": [
        "from google.colab import drive\n",
        "drive.mount('/content/drive')"
      ]
    },
    {
      "cell_type": "markdown",
      "metadata": {
        "id": "RcRGeofw-8tK"
      },
      "source": [
        "#Load Data"
      ]
    },
    {
      "cell_type": "code",
      "execution_count": null,
      "metadata": {
        "colab": {
          "base_uri": "https://localhost:8080/"
        },
        "id": "nR2MJBYq-oiB",
        "outputId": "afe1c996-d1a1-4954-a914-0b22fb152d73"
      },
      "outputs": [
        {
          "output_type": "stream",
          "name": "stdout",
          "text": [
            "Looking in indexes: https://pypi.org/simple, https://us-python.pkg.dev/colab-wheels/public/simple/\n",
            "Requirement already satisfied: imbalanced-learn in /usr/local/lib/python3.7/dist-packages (0.8.1)\n",
            "Requirement already satisfied: numpy>=1.13.3 in /usr/local/lib/python3.7/dist-packages (from imbalanced-learn) (1.21.6)\n",
            "Requirement already satisfied: scipy>=0.19.1 in /usr/local/lib/python3.7/dist-packages (from imbalanced-learn) (1.7.3)\n",
            "Requirement already satisfied: joblib>=0.11 in /usr/local/lib/python3.7/dist-packages (from imbalanced-learn) (1.1.0)\n",
            "Requirement already satisfied: scikit-learn>=0.24 in /usr/local/lib/python3.7/dist-packages (from imbalanced-learn) (1.0.2)\n",
            "Requirement already satisfied: threadpoolctl>=2.0.0 in /usr/local/lib/python3.7/dist-packages (from scikit-learn>=0.24->imbalanced-learn) (3.1.0)\n"
          ]
        }
      ],
      "source": [
        "import pandas as pd\n",
        "import numpy as np\n",
        "import tensorflow as tf\n",
        "import matplotlib.pyplot as plt\n",
        "import seaborn as sns\n",
        "import os\n",
        "from pathlib import Path\n",
        "from PIL import Image\n",
        "from sklearn import preprocessing\n",
        "from sklearn.metrics import precision_recall_fscore_support, balanced_accuracy_score, confusion_matrix\n",
        "from keras.callbacks import ReduceLROnPlateau, EarlyStopping, ModelCheckpoint\n",
        "from keras.preprocessing.image import ImageDataGenerator\n",
        "from tensorflow import keras\n",
        "from tensorflow.keras import layers\n",
        "from tensorflow.keras.optimizers import Adam, SGD\n",
        "from tensorflow.keras.preprocessing import image\n",
        "from tensorflow.keras.applications.resnet50 import ResNet50, preprocess_input, decode_predictions\n",
        "from tensorflow.keras.layers import GlobalAveragePooling2D, Dense, Input, Dropout, Flatten\n",
        "from tensorflow.keras.models import Model, load_model\n",
        "\n",
        "!pip install imbalanced-learn\n",
        "import imblearn\n",
        "from imblearn.over_sampling import SMOTE"
      ]
    },
    {
      "cell_type": "code",
      "execution_count": null,
      "metadata": {
        "id": "3mnEebdJH6Ex"
      },
      "outputs": [],
      "source": [
        "df_train = pd.read_csv('/content/drive/MyDrive/PHD/Datasets/isic2018/ISIC2018_Task3_Training_GroundTruth/ISIC2018_Task3_Training_GroundTruth.csv') \n",
        "df_val = pd.read_csv('/content/drive/MyDrive/PHD/Datasets/isic2018/ISIC2018_Task3_Validation_GroundTruth/ISIC2018_Task3_Validation_GroundTruth.csv') \n",
        "num_classes = 7\n",
        "#df_train"
      ]
    },
    {
      "cell_type": "code",
      "execution_count": null,
      "metadata": {
        "id": "aFSe3uekK67v"
      },
      "outputs": [],
      "source": [
        "#decode one hot label\n",
        "df_train[\"Labels\"] = (df_train.iloc[:, 1:]).idxmax(axis=1)\n",
        "df_val[\"Labels\"] = (df_val.iloc[:, 1:]).idxmax(axis=1)\n",
        "\n",
        "#drop one-hot column\n",
        "df_train = df_train.drop(columns=['MEL', 'NV', 'BCC', 'AKIEC', 'BKL', 'DF', 'VASC'])\n",
        "df_val = df_val.drop(columns=['MEL', 'NV', 'BCC', 'AKIEC', 'BKL', 'DF', 'VASC'])\n",
        "\n",
        "#make filepaths of the image\n",
        "dir_train = '/content/drive/MyDrive/PHD/Datasets/isic2018/ISIC2018_Task3_Training_Input/'\n",
        "dir_val = '/content/drive/MyDrive/PHD/Datasets/isic2018/ISIC2018_Task3_Validation_Input/'\n",
        "df_train['FilePaths'] = dir_train + df_train['image'] + '.jpg'\n",
        "df_val['FilePaths'] = dir_val + df_val['image'] + '.jpg'"
      ]
    },
    {
      "cell_type": "markdown",
      "metadata": {
        "id": "38f3dgvyBqFM"
      },
      "source": [
        "Label Distribution"
      ]
    },
    {
      "cell_type": "code",
      "execution_count": null,
      "metadata": {
        "colab": {
          "base_uri": "https://localhost:8080/"
        },
        "id": "2IncA-_o_n5w",
        "outputId": "071fc22d-80e9-439f-93c9-1f8b41631d2a"
      },
      "outputs": [
        {
          "output_type": "execute_result",
          "data": {
            "text/plain": [
              "[Text(0, 0, 'DF'),\n",
              " Text(0, 0, 'VASC'),\n",
              " Text(0, 0, 'AKIEC'),\n",
              " Text(0, 0, 'BCC'),\n",
              " Text(0, 0, 'BKL'),\n",
              " Text(0, 0, 'MEL'),\n",
              " Text(0, 0, 'NV')]"
            ]
          },
          "metadata": {},
          "execution_count": 5
        },
        {
          "output_type": "display_data",
          "data": {
            "text/plain": [
              "<Figure size 1080x432 with 1 Axes>"
            ],
            "image/png": "[encoded data removed]"
          },
          "metadata": {
            "needs_background": "light"
          }
        }
      ],
      "source": [
        "# ordered count of rows per unique label\n",
        "labels_count = df_train['Labels'].value_counts(ascending=True)\n",
        "\n",
        "f = plt.figure(figsize=(15, 6))\n",
        "s = sns.barplot(x=labels_count.index,y=labels_count.values)\n",
        "s.set_xticklabels(s.get_xticklabels(), rotation = 30)"
      ]
    },
    {
      "cell_type": "markdown",
      "metadata": {
        "id": "AnKMKSb4Bkym"
      },
      "source": [
        "Plot 3 images per label"
      ]
    },
    {
      "cell_type": "code",
      "execution_count": null,
      "metadata": {
        "id": "jdnVuqbFBW3K"
      },
      "outputs": [],
      "source": [
        "def plot_images_per_label(df, label, cols: int, size: tuple):\n",
        "    fig, axs = plt.subplots(nrows=1, ncols=cols, figsize=size)\n",
        "\n",
        "    cntMax = cols\n",
        "    cntCur = 0\n",
        "    for index, row in df.iterrows():\n",
        "        if(row['Labels'] == label and cntCur < cntMax):\n",
        "            axs[cntCur].imshow(plt.imread(df.FilePaths[index]))\n",
        "            axs[cntCur].set_title(df.Labels[index])\n",
        "\n",
        "            cntCur += 1\n",
        "        else:\n",
        "            if(cntCur >= cntMax):\n",
        "                break\n",
        "    \n",
        "    plt.tight_layout()\n",
        "    plt.show()\n",
        "\n",
        "\n",
        "# unique labels\n",
        "labels = sorted(df_train['Labels'].unique())\n",
        "#for label in labels:\n",
        "#    plot_images_per_label(df_train, label, 3, (12,9))"
      ]
    },
    {
      "cell_type": "markdown",
      "metadata": {
        "id": "qRKKrNacAZtl"
      },
      "source": [
        "Drop duplicate images"
      ]
    },
    {
      "cell_type": "code",
      "execution_count": null,
      "metadata": {
        "id": "ERwfyPDHP-zC"
      },
      "outputs": [],
      "source": [
        "#df_group = pd.read_csv('/content/drive/MyDrive/PHD/Datasets/isic2018/ISIC2018_Task3_Training_LesionGroupings.csv') \n",
        "#df_train = df_train.set_index('image').join(df_group.set_index('image'))\n",
        "#df_train = df_train.drop_duplicates(subset=['lesion_id'])\n"
      ]
    },
    {
      "cell_type": "markdown",
      "metadata": {
        "id": "h35T8vKRVV1Y"
      },
      "source": [
        "Manual undersampling majority class"
      ]
    },
    {
      "cell_type": "code",
      "execution_count": null,
      "metadata": {
        "id": "BeldhlTdVQlT"
      },
      "outputs": [],
      "source": [
        "df_train = df_train.drop(df_train[df_train['Labels'] == 'NV'].sample(frac=.7).index)"
      ]
    },
    {
      "cell_type": "markdown",
      "metadata": {
        "id": "DKjC59JOB_6d"
      },
      "source": [
        "Prepare X,y"
      ]
    },
    {
      "cell_type": "code",
      "execution_count": null,
      "metadata": {
        "id": "9-c7Xghg4SB4"
      },
      "outputs": [],
      "source": [
        "# input image size\n",
        "IMAGE_W = 32\n",
        "IMAGE_H = 32\n",
        "IMG_SIZE = (IMAGE_W,IMAGE_H)"
      ]
    },
    {
      "cell_type": "code",
      "execution_count": null,
      "metadata": {
        "id": "3jyCpXnlFoQK"
      },
      "outputs": [],
      "source": [
        "#TIME CONSUMING OPERATION\n",
        "#from tensorflow.keras.preprocessing.image import load_img, img_to_array\n",
        "#X = []\n",
        "#for img in df['FilePaths']:\n",
        "    #img_arr = load_img(img, target_size=IMG_SIZE)\n",
        "#    with load_img(img, target_size=IMG_SIZE) as img_arr:\n",
        "#      X.append(img_to_array(img_arr))\n",
        "\n",
        "#X = np.array(X)\n",
        "df_train['image_px'] = df_train['FilePaths'].map(lambda x: np.asarray(Image.open(x).resize(IMG_SIZE)))\n",
        "df_val['image_px'] = df_val['FilePaths'].map(lambda x: np.asarray(Image.open(x).resize(IMG_SIZE)))"
      ]
    },
    {
      "cell_type": "code",
      "execution_count": null,
      "metadata": {
        "colab": {
          "base_uri": "https://localhost:8080/"
        },
        "id": "UZyZMydSgvZo",
        "outputId": "c4171746-0caa-43ff-b896-026b5ee2cf59"
      },
      "outputs": [
        {
          "output_type": "stream",
          "name": "stdout",
          "text": [
            "(5321, 32, 32, 3)\n",
            "(193, 32, 32, 3)\n"
          ]
        }
      ],
      "source": [
        "X_train = np.asarray(df_train['image_px'].tolist())\n",
        "X_val = np.asarray(df_val['image_px'].tolist())\n",
        "print(np.array(X_train).shape)\n",
        "print(np.array(X_val).shape)"
      ]
    },
    {
      "cell_type": "code",
      "execution_count": null,
      "metadata": {
        "colab": {
          "base_uri": "https://localhost:8080/"
        },
        "id": "uqYLmicGAjZz",
        "outputId": "5f84a2c5-2aa5-4496-e212-843946910eb0"
      },
      "outputs": [
        {
          "output_type": "stream",
          "name": "stdout",
          "text": [
            "Counter({'NV': 2011, 'MEL': 1113, 'BKL': 1099, 'BCC': 514, 'AKIEC': 327, 'VASC': 142, 'DF': 115})\n",
            "(5321,)\n"
          ]
        }
      ],
      "source": [
        "y_train = np.array(df_train['Labels'].values)\n",
        "\n",
        "# summarize class distribution\n",
        "from collections import Counter\n",
        "counter = Counter(y_train)\n",
        "print(counter)\n",
        "print(y_train.shape)"
      ]
    },
    {
      "cell_type": "code",
      "execution_count": null,
      "metadata": {
        "colab": {
          "base_uri": "https://localhost:8080/"
        },
        "id": "kEuVIGc3g859",
        "outputId": "670970c9-4f01-4e80-cc3f-f03942fb923a"
      },
      "outputs": [
        {
          "output_type": "stream",
          "name": "stdout",
          "text": [
            "Counter({'NV': 123, 'BKL': 22, 'MEL': 21, 'BCC': 15, 'AKIEC': 8, 'VASC': 3, 'DF': 1})\n",
            "(193,)\n"
          ]
        }
      ],
      "source": [
        "y_val = np.array(df_val['Labels'].values)\n",
        "print(Counter(y_val))\n",
        "print(y_val.shape)"
      ]
    },
    {
      "cell_type": "code",
      "execution_count": null,
      "metadata": {
        "colab": {
          "base_uri": "https://localhost:8080/"
        },
        "id": "QfvEVGIQhIr2",
        "outputId": "21bf3125-6210-4571-d778-4bc9562efa48"
      },
      "outputs": [
        {
          "output_type": "execute_result",
          "data": {
            "text/plain": [
              "array([5, 5, 4, ..., 4, 4, 2])"
            ]
          },
          "metadata": {},
          "execution_count": 14
        }
      ],
      "source": [
        "#label encoding\n",
        "label_encoder = preprocessing.LabelEncoder()\n",
        "y_train = label_encoder.fit_transform(y_train)\n",
        "y_val = label_encoder.fit_transform(y_val)\n",
        "y_train"
      ]
    },
    {
      "cell_type": "markdown",
      "metadata": {
        "id": "uZv-B-ygCD57"
      },
      "source": [
        "#SMOTE Oversampling"
      ]
    },
    {
      "cell_type": "code",
      "execution_count": null,
      "metadata": {
        "id": "RDskF1wjGffh"
      },
      "outputs": [],
      "source": [
        "def SMOTE_Data(X, y):\n",
        "  sm = SMOTE(random_state=42, k_neighbors=5)\n",
        "  X_resampled, y_resampled = sm.fit_resample(X.reshape((-1, IMAGE_W * IMAGE_H * 3)), y)\n",
        "  X_resampled.reshape(-1, IMAGE_W, IMAGE_H, 3)\n",
        "  return X_resampled, y_resampled"
      ]
    },
    {
      "cell_type": "code",
      "execution_count": null,
      "metadata": {
        "colab": {
          "base_uri": "https://localhost:8080/"
        },
        "id": "brshqGvOCDJL",
        "outputId": "177db98e-72a2-4308-b875-80bb6bf6d0a9"
      },
      "outputs": [
        {
          "output_type": "stream",
          "name": "stdout",
          "text": [
            "(14077, 150528)\n",
            "(14077,)\n"
          ]
        }
      ],
      "source": [
        "X_train, y_train = SMOTE_Data(X_train, y_train) #beware of the actual parameter\n",
        "print(X_train.shape)\n",
        "print(y_train.shape)"
      ]
    },
    {
      "cell_type": "code",
      "execution_count": null,
      "metadata": {
        "colab": {
          "base_uri": "https://localhost:8080/"
        },
        "id": "8GfOtcbV5vVZ",
        "outputId": "1a24cec2-e284-4588-e427-a54eb387651d"
      },
      "outputs": [
        {
          "output_type": "stream",
          "name": "stdout",
          "text": [
            "Counter({5: 2011, 4: 2011, 2: 2011, 3: 2011, 0: 2011, 1: 2011, 6: 2011})\n"
          ]
        }
      ],
      "source": [
        "counter = Counter(y_train)\n",
        "print(counter)"
      ]
    },
    {
      "cell_type": "code",
      "execution_count": null,
      "metadata": {
        "colab": {
          "base_uri": "https://localhost:8080/"
        },
        "id": "dl-nmACZOZpg",
        "outputId": "e6b51afe-0a14-4312-c5b0-9927ea4bd2f1"
      },
      "outputs": [
        {
          "output_type": "stream",
          "name": "stdout",
          "text": [
            "X_train shape:  (14077, 224, 224, 3)\n"
          ]
        }
      ],
      "source": [
        "X_train = X_train.reshape(-1, IMAGE_W, IMAGE_H, 3)\n",
        "print('X_train shape: ',X_train.shape)"
      ]
    },
    {
      "cell_type": "markdown",
      "metadata": {
        "id": "cNBXx28B9yGu"
      },
      "source": [
        "#DeepSMOTE Oversampling"
      ]
    },
    {
      "cell_type": "code",
      "execution_count": null,
      "metadata": {
        "id": "RAxUkXy8ueYG"
      },
      "outputs": [],
      "source": [
        "#Normalization\n",
        "#X_train_mean = np.mean(X_train)\n",
        "#X_train_std = np.std(X_train)\n",
        "\n",
        "#X_train = (X_train - X_train_mean)/X_train_std\n",
        "#X_val = (X_val - X_train_mean)/X_train_std"
      ]
    },
    {
      "cell_type": "code",
      "execution_count": null,
      "metadata": {
        "id": "h-Xqj-WQ90L_"
      },
      "outputs": [],
      "source": [
        "#optional\n",
        "#X=X_train\n",
        "#y=y_train\n",
        "\n",
        "from numpy import moveaxis\n",
        "X_train = moveaxis(X_train, 3, 1)\n",
        "X_train = X_train.astype('float32') / 255.\n",
        "#dec_x = X_train \n",
        "#dec_y = y\n",
        "\n",
        "#create counter for encoder\n",
        "counter = sorted(counter.items())\n",
        "counter = [value for _, value in counter]"
      ]
    },
    {
      "cell_type": "code",
      "execution_count": null,
      "metadata": {
        "colab": {
          "base_uri": "https://localhost:8080/"
        },
        "id": "0kMMmX7r-fV5",
        "outputId": "d2d4a417-d152-4fd7-c6a4-1c4f7366bf4e"
      },
      "outputs": [
        {
          "output_type": "stream",
          "name": "stdout",
          "text": [
            "11.3\n"
          ]
        }
      ],
      "source": [
        "import torch\n",
        "import torch.nn as nn\n",
        "from torch.utils.data import TensorDataset\n",
        "from sklearn.neighbors import NearestNeighbors\n",
        "import time\n",
        "import os\n",
        "\n",
        "print(torch.version.cuda) #10.1\n",
        "\n",
        "args = {}\n",
        "args['dim_h'] = 64         # factor controlling size of hidden layers\n",
        "args['n_channel'] = 3#1    # number of channels in the input data \n",
        "\n",
        "args['n_z'] = 600 #300     # number of dimensions in latent space. \n",
        "\n",
        "args['sigma'] = 1.0        # variance in n_z\n",
        "args['lambda'] = 0.01      # hyper param for weight of discriminator loss\n",
        "args['lr'] = 0.0002        # learning rate for Adam optimizer .000\n",
        "args['epochs'] = 300       # how many epochs to run for\n",
        "args['batch_size'] = 100   # batch size for SGD\n",
        "args['save'] = True        # save weights at each epoch of training if True\n",
        "args['train'] = True       # train networks if True, else load networks from\n",
        "\n",
        "args['patience'] = 20\n",
        "\n",
        "## create encoder model and decoder model\n",
        "class Encoder(nn.Module):\n",
        "    def __init__(self, args):\n",
        "        super(Encoder, self).__init__()\n",
        "\n",
        "        self.n_channel = args['n_channel']\n",
        "        self.dim_h = args['dim_h']\n",
        "        self.n_z = args['n_z']\n",
        "        \n",
        "        # convolutional filters, work excellent with image data\n",
        "        # [(W−K+2P)/S]+1\n",
        "        self.conv = nn.Sequential(\n",
        "            nn.Conv2d(self.n_channel, self.dim_h, 4, 2, 1, bias=False),# 16\n",
        "            nn.LeakyReLU(0.2, inplace=True),\n",
        "            nn.Conv2d(self.dim_h, self.dim_h * 2, 4, 2, 1, bias=False), # 8\n",
        "            nn.BatchNorm2d(self.dim_h * 2),\n",
        "            nn.LeakyReLU(0.2, inplace=True),\n",
        "            nn.Conv2d(self.dim_h * 2, self.dim_h * 4, 4, 2, 1, bias=False),# 4\n",
        "            nn.BatchNorm2d(self.dim_h * 4),\n",
        "            nn.LeakyReLU(0.2, inplace=True),\n",
        "            nn.Conv2d(self.dim_h * 4, self.dim_h * 8, 4, 2, 0, bias=False),#14\n",
        "            nn.BatchNorm2d(self.dim_h * 8),\n",
        "            nn.LeakyReLU(0.2, inplace=True))\n",
        "        self.fc = nn.Linear(self.dim_h * (2 ** 3), self.n_z)\n",
        "\n",
        "    def forward(self, x):\n",
        "        x = self.conv(x)\n",
        "        \n",
        "        x = x.squeeze()\n",
        "        x = self.fc(x)\n",
        "        return x\n",
        "\n",
        "\n",
        "class Decoder(nn.Module):\n",
        "    def __init__(self, args):\n",
        "        super(Decoder, self).__init__()\n",
        "\n",
        "        self.n_channel = args['n_channel']\n",
        "        self.dim_h = args['dim_h']\n",
        "        self.n_z = args['n_z']\n",
        "\n",
        "        # first layer is fully connected\n",
        "        self.fc = nn.Sequential(\n",
        "            nn.Linear(self.n_z, self.dim_h * 2**3 * 7 * 7),\n",
        "            nn.ReLU())\n",
        "\n",
        "        # deconvolutional filters, essentially inverse of convolutional filters\n",
        "        # H_out ​= (H_in​−1)*stride[0] − 2×padding[0] + dilation[0]×(kernel_size[0]−1) + output_padding[0] + 1\n",
        "        self.deconv = nn.Sequential(\n",
        "            nn.ConvTranspose2d(self.dim_h * 8, self.dim_h * 4, 4), #10\n",
        "            nn.BatchNorm2d(self.dim_h * 4),\n",
        "            nn.ReLU(True),\n",
        "            nn.ConvTranspose2d(self.dim_h * 4, self.dim_h * 2, 4), #13\n",
        "            nn.BatchNorm2d(self.dim_h * 2),\n",
        "            nn.ReLU(True),\n",
        "            nn.ConvTranspose2d(self.dim_h * 2, self.dim_h, 4),# 16\n",
        "            nn.BatchNorm2d(self.dim_h),\n",
        "            nn.ReLU(True),\n",
        "            nn.ConvTranspose2d(self.dim_h, 3, 4, 2, 1),# 32\n",
        "            #nn.Sigmoid())\n",
        "            nn.Tanh())\n",
        "\n",
        "    def forward(self, x):\n",
        "        #print('dec')\n",
        "        #print('input ',x.size())\n",
        "        x = self.fc(x)\n",
        "        x = x.view(-1, self.dim_h * 2**3, 7, 7)\n",
        "        x = self.deconv(x)\n",
        "        return x\n",
        "\n",
        "##############################################################################\n",
        "\"\"\"set models, loss functions\"\"\"\n",
        "# control which parameters are frozen / free for optimization\n",
        "def free_params(module: nn.Module):\n",
        "    for p in module.parameters():\n",
        "        p.requires_grad = True\n",
        "\n",
        "def frozen_params(module: nn.Module):\n",
        "    for p in module.parameters():\n",
        "        p.requires_grad = False\n",
        "\n",
        "\n",
        "##############################################################################\n",
        "\"\"\"functions to create SMOTE images\"\"\"\n",
        "\n",
        "def biased_get_class(X, y, c):\n",
        "    \n",
        "    xbeg = X[y == c]\n",
        "    ybeg = y[y == c]\n",
        "    \n",
        "    return xbeg, ybeg\n",
        "    #return xclass, yclass\n",
        "\n",
        "\n",
        "def G_SM(X, y,n_to_sample,cl):\n",
        "\n",
        "    # determining the number of samples to generate\n",
        "    #n_to_sample = 10 \n",
        "\n",
        "    # fitting the model\n",
        "    n_neigh = 5\n",
        "    nn = NearestNeighbors(n_neighbors=n_neigh, n_jobs=1)\n",
        "    nn.fit(X)\n",
        "    dist, ind = nn.kneighbors(X)\n",
        "\n",
        "    # generating samples\n",
        "    base_indices = np.random.choice(list(range(len(X))),n_to_sample)\n",
        "    neighbor_indices = np.random.choice(list(range(1, n_neigh)),n_to_sample)\n",
        "\n",
        "    X_base = X[base_indices]\n",
        "    X_neighbor = X[ind[base_indices, neighbor_indices]]\n",
        "\n",
        "    samples = X_base + np.multiply(np.random.rand(n_to_sample,1),\n",
        "            X_neighbor - X_base)\n",
        "\n",
        "    #use 10 as label because 0 to 9 real classes and 1 fake/smoted = 10\n",
        "    return samples, [cl]*n_to_sample\n",
        "\n",
        "#xsamp, ysamp = SM(xclass,yclass)"
      ]
    },
    {
      "cell_type": "code",
      "execution_count": null,
      "metadata": {
        "colab": {
          "base_uri": "https://localhost:8080/"
        },
        "id": "oHtLISURIMTg",
        "outputId": "ecab946d-c415-4d00-8294-34cca661a9d1"
      },
      "outputs": [
        {
          "output_type": "stream",
          "name": "stdout",
          "text": [
            "cuda\n",
            "Epoch: 0 \tTrain Loss: 26.939857 \tmse loss: 12.999984 \tmse2 loss: 13.939873\n",
            "Saving..\n",
            "Epoch: 1 \tTrain Loss: 4.332313 \tmse loss: 1.936372 \tmse2 loss: 2.395941\n",
            "Saving..\n",
            "Epoch: 2 \tTrain Loss: 2.459624 \tmse loss: 1.116804 \tmse2 loss: 1.342820\n",
            "Saving..\n",
            "Epoch: 3 \tTrain Loss: 2.434667 \tmse loss: 1.174978 \tmse2 loss: 1.259688\n",
            "Saving..\n",
            "Epoch: 4 \tTrain Loss: 1.587828 \tmse loss: 0.748689 \tmse2 loss: 0.839139\n",
            "Saving..\n",
            "Epoch: 5 \tTrain Loss: 1.354152 \tmse loss: 0.636336 \tmse2 loss: 0.717816\n",
            "Saving..\n",
            "Epoch: 6 \tTrain Loss: 1.211460 \tmse loss: 0.556055 \tmse2 loss: 0.655404\n",
            "Saving..\n",
            "Epoch: 7 \tTrain Loss: 1.078982 \tmse loss: 0.484661 \tmse2 loss: 0.594321\n",
            "Saving..\n",
            "Epoch: 8 \tTrain Loss: 0.949178 \tmse loss: 0.439451 \tmse2 loss: 0.509727\n",
            "Saving..\n",
            "Epoch: 9 \tTrain Loss: 0.955951 \tmse loss: 0.446710 \tmse2 loss: 0.509241\n",
            "Epoch: 10 \tTrain Loss: 0.854318 \tmse loss: 0.394892 \tmse2 loss: 0.459426\n",
            "Saving..\n",
            "Epoch: 11 \tTrain Loss: 0.802193 \tmse loss: 0.364016 \tmse2 loss: 0.438177\n",
            "Saving..\n",
            "Epoch: 12 \tTrain Loss: 0.780730 \tmse loss: 0.359180 \tmse2 loss: 0.421550\n",
            "Saving..\n",
            "Epoch: 13 \tTrain Loss: 0.752274 \tmse loss: 0.346322 \tmse2 loss: 0.405952\n",
            "Saving..\n",
            "Epoch: 14 \tTrain Loss: 0.723504 \tmse loss: 0.320666 \tmse2 loss: 0.402838\n",
            "Saving..\n",
            "Epoch: 15 \tTrain Loss: 0.680636 \tmse loss: 0.305272 \tmse2 loss: 0.375364\n",
            "Saving..\n",
            "Epoch: 16 \tTrain Loss: 0.636452 \tmse loss: 0.292413 \tmse2 loss: 0.344039\n",
            "Saving..\n",
            "Epoch: 17 \tTrain Loss: 0.646569 \tmse loss: 0.284646 \tmse2 loss: 0.361923\n",
            "Epoch: 18 \tTrain Loss: 0.607864 \tmse loss: 0.277665 \tmse2 loss: 0.330198\n",
            "Saving..\n",
            "Epoch: 19 \tTrain Loss: 0.628598 \tmse loss: 0.271915 \tmse2 loss: 0.356683\n",
            "Epoch: 20 \tTrain Loss: 0.582115 \tmse loss: 0.256695 \tmse2 loss: 0.325421\n",
            "Saving..\n",
            "Epoch: 21 \tTrain Loss: 0.549997 \tmse loss: 0.249293 \tmse2 loss: 0.300704\n",
            "Saving..\n",
            "Epoch: 22 \tTrain Loss: 0.513756 \tmse loss: 0.250082 \tmse2 loss: 0.263674\n",
            "Saving..\n",
            "Epoch: 23 \tTrain Loss: 0.528917 \tmse loss: 0.248216 \tmse2 loss: 0.280701\n",
            "Epoch: 24 \tTrain Loss: 0.530828 \tmse loss: 0.238346 \tmse2 loss: 0.292482\n",
            "Epoch: 25 \tTrain Loss: 0.522778 \tmse loss: 0.239383 \tmse2 loss: 0.283395\n",
            "Epoch: 26 \tTrain Loss: 0.473796 \tmse loss: 0.221882 \tmse2 loss: 0.251914\n",
            "Saving..\n",
            "Epoch: 27 \tTrain Loss: 0.471012 \tmse loss: 0.229394 \tmse2 loss: 0.241618\n",
            "Saving..\n",
            "Epoch: 28 \tTrain Loss: 0.479590 \tmse loss: 0.225248 \tmse2 loss: 0.254343\n",
            "Epoch: 29 \tTrain Loss: 0.535110 \tmse loss: 0.240045 \tmse2 loss: 0.295065\n",
            "Epoch: 30 \tTrain Loss: 0.492299 \tmse loss: 0.218772 \tmse2 loss: 0.273527\n",
            "Epoch: 31 \tTrain Loss: 0.478801 \tmse loss: 0.207608 \tmse2 loss: 0.271193\n",
            "Epoch: 32 \tTrain Loss: 0.491178 \tmse loss: 0.226480 \tmse2 loss: 0.264698\n",
            "Epoch: 33 \tTrain Loss: 0.474293 \tmse loss: 0.215893 \tmse2 loss: 0.258401\n",
            "Epoch: 34 \tTrain Loss: 0.450105 \tmse loss: 0.201736 \tmse2 loss: 0.248369\n",
            "Saving..\n",
            "Epoch: 35 \tTrain Loss: 0.420501 \tmse loss: 0.191571 \tmse2 loss: 0.228931\n",
            "Saving..\n",
            "Epoch: 36 \tTrain Loss: 0.401345 \tmse loss: 0.188063 \tmse2 loss: 0.213282\n",
            "Saving..\n",
            "Epoch: 37 \tTrain Loss: 0.426655 \tmse loss: 0.196958 \tmse2 loss: 0.229696\n",
            "Epoch: 38 \tTrain Loss: 0.415569 \tmse loss: 0.192968 \tmse2 loss: 0.222600\n",
            "Epoch: 39 \tTrain Loss: 0.392865 \tmse loss: 0.182207 \tmse2 loss: 0.210658\n",
            "Saving..\n",
            "Epoch: 40 \tTrain Loss: 0.414152 \tmse loss: 0.197130 \tmse2 loss: 0.217022\n",
            "Epoch: 41 \tTrain Loss: 0.398826 \tmse loss: 0.180973 \tmse2 loss: 0.217853\n",
            "Epoch: 42 \tTrain Loss: 0.404573 \tmse loss: 0.179798 \tmse2 loss: 0.224775\n",
            "Epoch: 43 \tTrain Loss: 0.404699 \tmse loss: 0.188392 \tmse2 loss: 0.216307\n",
            "Epoch: 44 \tTrain Loss: 0.383271 \tmse loss: 0.171818 \tmse2 loss: 0.211452\n",
            "Saving..\n",
            "Epoch: 45 \tTrain Loss: 0.408562 \tmse loss: 0.187270 \tmse2 loss: 0.221292\n",
            "Epoch: 46 \tTrain Loss: 0.452194 \tmse loss: 0.207740 \tmse2 loss: 0.244454\n",
            "Epoch: 47 \tTrain Loss: 0.406737 \tmse loss: 0.191076 \tmse2 loss: 0.215661\n",
            "Epoch: 48 \tTrain Loss: 0.399795 \tmse loss: 0.187954 \tmse2 loss: 0.211842\n",
            "Epoch: 49 \tTrain Loss: 0.388795 \tmse loss: 0.172251 \tmse2 loss: 0.216544\n",
            "Epoch: 50 \tTrain Loss: 0.359753 \tmse loss: 0.164466 \tmse2 loss: 0.195287\n",
            "Saving..\n",
            "Epoch: 51 \tTrain Loss: 0.365390 \tmse loss: 0.166170 \tmse2 loss: 0.199220\n",
            "Epoch: 52 \tTrain Loss: 0.367498 \tmse loss: 0.166291 \tmse2 loss: 0.201206\n",
            "Epoch: 53 \tTrain Loss: 0.333933 \tmse loss: 0.156079 \tmse2 loss: 0.177854\n",
            "Saving..\n",
            "Epoch: 54 \tTrain Loss: 0.314647 \tmse loss: 0.150677 \tmse2 loss: 0.163969\n",
            "Saving..\n",
            "Epoch: 55 \tTrain Loss: 0.355113 \tmse loss: 0.163849 \tmse2 loss: 0.191264\n",
            "Epoch: 56 \tTrain Loss: 0.356469 \tmse loss: 0.158012 \tmse2 loss: 0.198458\n",
            "Epoch: 57 \tTrain Loss: 0.349942 \tmse loss: 0.155620 \tmse2 loss: 0.194322\n",
            "Epoch: 58 \tTrain Loss: 0.358376 \tmse loss: 0.161241 \tmse2 loss: 0.197134\n",
            "Epoch: 59 \tTrain Loss: 0.306350 \tmse loss: 0.147252 \tmse2 loss: 0.159098\n",
            "Saving..\n",
            "Epoch: 60 \tTrain Loss: 0.321873 \tmse loss: 0.148907 \tmse2 loss: 0.172967\n",
            "Epoch: 61 \tTrain Loss: 0.376563 \tmse loss: 0.178515 \tmse2 loss: 0.198048\n",
            "Epoch: 62 \tTrain Loss: 0.332952 \tmse loss: 0.156828 \tmse2 loss: 0.176125\n",
            "Epoch: 63 \tTrain Loss: 0.317649 \tmse loss: 0.153005 \tmse2 loss: 0.164645\n",
            "Epoch: 64 \tTrain Loss: 0.349088 \tmse loss: 0.157273 \tmse2 loss: 0.191815\n",
            "Epoch: 65 \tTrain Loss: 0.304373 \tmse loss: 0.147733 \tmse2 loss: 0.156640\n",
            "Saving..\n",
            "Epoch: 66 \tTrain Loss: 0.318132 \tmse loss: 0.149027 \tmse2 loss: 0.169104\n",
            "Epoch: 67 \tTrain Loss: 0.303848 \tmse loss: 0.144276 \tmse2 loss: 0.159572\n",
            "Saving..\n",
            "Epoch: 68 \tTrain Loss: 0.321813 \tmse loss: 0.145808 \tmse2 loss: 0.176005\n",
            "Epoch: 69 \tTrain Loss: 0.300919 \tmse loss: 0.141191 \tmse2 loss: 0.159729\n",
            "Saving..\n",
            "Epoch: 70 \tTrain Loss: 0.319766 \tmse loss: 0.152628 \tmse2 loss: 0.167138\n",
            "Epoch: 71 \tTrain Loss: 0.297812 \tmse loss: 0.140918 \tmse2 loss: 0.156895\n",
            "Saving..\n",
            "Epoch: 72 \tTrain Loss: 0.284619 \tmse loss: 0.136349 \tmse2 loss: 0.148270\n",
            "Saving..\n",
            "Epoch: 73 \tTrain Loss: 0.289072 \tmse loss: 0.138685 \tmse2 loss: 0.150387\n",
            "Epoch: 74 \tTrain Loss: 0.277305 \tmse loss: 0.136596 \tmse2 loss: 0.140709\n",
            "Saving..\n",
            "Epoch: 75 \tTrain Loss: 0.275750 \tmse loss: 0.132060 \tmse2 loss: 0.143689\n",
            "Saving..\n",
            "Epoch: 76 \tTrain Loss: 0.267919 \tmse loss: 0.127332 \tmse2 loss: 0.140587\n",
            "Saving..\n",
            "Epoch: 77 \tTrain Loss: 0.284240 \tmse loss: 0.130433 \tmse2 loss: 0.153808\n",
            "Epoch: 78 \tTrain Loss: 0.258755 \tmse loss: 0.124608 \tmse2 loss: 0.134147\n",
            "Saving..\n",
            "Epoch: 79 \tTrain Loss: 0.254834 \tmse loss: 0.123712 \tmse2 loss: 0.131122\n",
            "Saving..\n",
            "Epoch: 80 \tTrain Loss: 0.270317 \tmse loss: 0.132339 \tmse2 loss: 0.137978\n",
            "Epoch: 81 \tTrain Loss: 0.280254 \tmse loss: 0.134518 \tmse2 loss: 0.145736\n",
            "Epoch: 82 \tTrain Loss: 0.254756 \tmse loss: 0.120378 \tmse2 loss: 0.134379\n",
            "Saving..\n",
            "Epoch: 83 \tTrain Loss: 0.271754 \tmse loss: 0.132475 \tmse2 loss: 0.139279\n",
            "Epoch: 84 \tTrain Loss: 0.283890 \tmse loss: 0.132562 \tmse2 loss: 0.151328\n",
            "Epoch: 85 \tTrain Loss: 0.249241 \tmse loss: 0.120440 \tmse2 loss: 0.128802\n",
            "Saving..\n",
            "Epoch: 86 \tTrain Loss: 0.250173 \tmse loss: 0.121326 \tmse2 loss: 0.128847\n",
            "Epoch: 87 \tTrain Loss: 0.247908 \tmse loss: 0.122021 \tmse2 loss: 0.125887\n",
            "Saving..\n",
            "Epoch: 88 \tTrain Loss: 0.252542 \tmse loss: 0.121219 \tmse2 loss: 0.131323\n",
            "Epoch: 89 \tTrain Loss: 0.255151 \tmse loss: 0.123959 \tmse2 loss: 0.131191\n",
            "Epoch: 90 \tTrain Loss: 0.263805 \tmse loss: 0.124644 \tmse2 loss: 0.139161\n",
            "Epoch: 91 \tTrain Loss: 0.250828 \tmse loss: 0.119322 \tmse2 loss: 0.131506\n",
            "Epoch: 92 \tTrain Loss: 0.235706 \tmse loss: 0.116124 \tmse2 loss: 0.119582\n",
            "Saving..\n",
            "Epoch: 93 \tTrain Loss: 0.237952 \tmse loss: 0.121197 \tmse2 loss: 0.116755\n",
            "Epoch: 94 \tTrain Loss: 0.235363 \tmse loss: 0.116698 \tmse2 loss: 0.118664\n",
            "Saving..\n",
            "Epoch: 95 \tTrain Loss: 0.225606 \tmse loss: 0.110655 \tmse2 loss: 0.114950\n",
            "Saving..\n",
            "Epoch: 96 \tTrain Loss: 0.223441 \tmse loss: 0.108403 \tmse2 loss: 0.115037\n",
            "Saving..\n",
            "Epoch: 97 \tTrain Loss: 0.243218 \tmse loss: 0.117728 \tmse2 loss: 0.125490\n",
            "Epoch: 98 \tTrain Loss: 0.252647 \tmse loss: 0.119698 \tmse2 loss: 0.132948\n",
            "Epoch: 99 \tTrain Loss: 0.235662 \tmse loss: 0.113022 \tmse2 loss: 0.122641\n",
            "Epoch: 100 \tTrain Loss: 0.240458 \tmse loss: 0.120265 \tmse2 loss: 0.120193\n",
            "Epoch: 101 \tTrain Loss: 0.218524 \tmse loss: 0.105709 \tmse2 loss: 0.112815\n",
            "Saving..\n",
            "Epoch: 102 \tTrain Loss: 0.226160 \tmse loss: 0.116071 \tmse2 loss: 0.110089\n",
            "Epoch: 103 \tTrain Loss: 0.213329 \tmse loss: 0.107222 \tmse2 loss: 0.106107\n",
            "Saving..\n",
            "Epoch: 104 \tTrain Loss: 0.214699 \tmse loss: 0.108717 \tmse2 loss: 0.105982\n",
            "Epoch: 105 \tTrain Loss: 0.232200 \tmse loss: 0.110368 \tmse2 loss: 0.121831\n",
            "Epoch: 106 \tTrain Loss: 0.221518 \tmse loss: 0.109517 \tmse2 loss: 0.112001\n",
            "Epoch: 107 \tTrain Loss: 0.217266 \tmse loss: 0.110333 \tmse2 loss: 0.106933\n",
            "Epoch: 108 \tTrain Loss: 0.227040 \tmse loss: 0.107363 \tmse2 loss: 0.119677\n",
            "Epoch: 109 \tTrain Loss: 0.210115 \tmse loss: 0.104861 \tmse2 loss: 0.105254\n",
            "Saving..\n",
            "Epoch: 110 \tTrain Loss: 0.204399 \tmse loss: 0.101225 \tmse2 loss: 0.103174\n",
            "Saving..\n",
            "Epoch: 111 \tTrain Loss: 0.223004 \tmse loss: 0.111723 \tmse2 loss: 0.111281\n",
            "Epoch: 112 \tTrain Loss: 0.209706 \tmse loss: 0.105252 \tmse2 loss: 0.104454\n",
            "Epoch: 113 \tTrain Loss: 0.213404 \tmse loss: 0.107517 \tmse2 loss: 0.105887\n",
            "Epoch: 114 \tTrain Loss: 0.222349 \tmse loss: 0.107812 \tmse2 loss: 0.114537\n",
            "Epoch: 115 \tTrain Loss: 0.205551 \tmse loss: 0.102470 \tmse2 loss: 0.103081\n",
            "Epoch: 116 \tTrain Loss: 0.193568 \tmse loss: 0.099493 \tmse2 loss: 0.094075\n",
            "Saving..\n",
            "Epoch: 117 \tTrain Loss: 0.204293 \tmse loss: 0.098891 \tmse2 loss: 0.105402\n",
            "Epoch: 118 \tTrain Loss: 0.207988 \tmse loss: 0.101869 \tmse2 loss: 0.106118\n",
            "Epoch: 119 \tTrain Loss: 0.201875 \tmse loss: 0.099795 \tmse2 loss: 0.102080\n",
            "Epoch: 120 \tTrain Loss: 0.193139 \tmse loss: 0.095450 \tmse2 loss: 0.097689\n",
            "Saving..\n",
            "Epoch: 121 \tTrain Loss: 0.206573 \tmse loss: 0.101016 \tmse2 loss: 0.105557\n",
            "Epoch: 122 \tTrain Loss: 0.205203 \tmse loss: 0.099682 \tmse2 loss: 0.105521\n",
            "Epoch: 123 \tTrain Loss: 0.209867 \tmse loss: 0.100956 \tmse2 loss: 0.108911\n",
            "Epoch: 124 \tTrain Loss: 0.187195 \tmse loss: 0.094672 \tmse2 loss: 0.092524\n",
            "Saving..\n",
            "Epoch: 125 \tTrain Loss: 0.181811 \tmse loss: 0.094010 \tmse2 loss: 0.087801\n",
            "Saving..\n",
            "Epoch: 126 \tTrain Loss: 0.180333 \tmse loss: 0.091650 \tmse2 loss: 0.088684\n",
            "Saving..\n",
            "Epoch: 127 \tTrain Loss: 0.215400 \tmse loss: 0.105901 \tmse2 loss: 0.109499\n",
            "Epoch: 128 \tTrain Loss: 0.200484 \tmse loss: 0.101456 \tmse2 loss: 0.099028\n",
            "Epoch: 129 \tTrain Loss: 0.188992 \tmse loss: 0.094078 \tmse2 loss: 0.094914\n",
            "Epoch: 130 \tTrain Loss: 0.189343 \tmse loss: 0.093944 \tmse2 loss: 0.095398\n",
            "Epoch: 131 \tTrain Loss: 0.183542 \tmse loss: 0.093675 \tmse2 loss: 0.089867\n",
            "Epoch: 132 \tTrain Loss: 0.190231 \tmse loss: 0.098905 \tmse2 loss: 0.091326\n",
            "Epoch: 133 \tTrain Loss: 0.194627 \tmse loss: 0.096995 \tmse2 loss: 0.097631\n",
            "Epoch: 134 \tTrain Loss: 0.176772 \tmse loss: 0.089412 \tmse2 loss: 0.087359\n",
            "Saving..\n",
            "Epoch: 135 \tTrain Loss: 0.172298 \tmse loss: 0.086339 \tmse2 loss: 0.085959\n",
            "Saving..\n",
            "Epoch: 136 \tTrain Loss: 0.184265 \tmse loss: 0.090309 \tmse2 loss: 0.093955\n",
            "Epoch: 137 \tTrain Loss: 0.220227 \tmse loss: 0.112629 \tmse2 loss: 0.107598\n",
            "Epoch: 138 \tTrain Loss: 0.190518 \tmse loss: 0.098263 \tmse2 loss: 0.092255\n",
            "Epoch: 139 \tTrain Loss: 0.190471 \tmse loss: 0.096479 \tmse2 loss: 0.093992\n",
            "Epoch: 140 \tTrain Loss: 0.191630 \tmse loss: 0.097725 \tmse2 loss: 0.093905\n",
            "Epoch: 141 \tTrain Loss: 0.175979 \tmse loss: 0.090326 \tmse2 loss: 0.085653\n",
            "Epoch: 142 \tTrain Loss: 0.171889 \tmse loss: 0.089637 \tmse2 loss: 0.082252\n",
            "Saving..\n",
            "Epoch: 143 \tTrain Loss: 0.164420 \tmse loss: 0.083950 \tmse2 loss: 0.080470\n",
            "Saving..\n",
            "Epoch: 144 \tTrain Loss: 0.158113 \tmse loss: 0.079717 \tmse2 loss: 0.078396\n",
            "Saving..\n",
            "Epoch: 145 \tTrain Loss: 0.163617 \tmse loss: 0.085805 \tmse2 loss: 0.077812\n",
            "Epoch: 146 \tTrain Loss: 0.165410 \tmse loss: 0.082381 \tmse2 loss: 0.083030\n",
            "Epoch: 147 \tTrain Loss: 0.169392 \tmse loss: 0.087005 \tmse2 loss: 0.082387\n",
            "Epoch: 148 \tTrain Loss: 0.171356 \tmse loss: 0.087881 \tmse2 loss: 0.083475\n",
            "Epoch: 149 \tTrain Loss: 0.154551 \tmse loss: 0.081461 \tmse2 loss: 0.073090\n",
            "Saving..\n",
            "Epoch: 150 \tTrain Loss: 0.159795 \tmse loss: 0.081762 \tmse2 loss: 0.078033\n",
            "Epoch: 151 \tTrain Loss: 0.153171 \tmse loss: 0.079542 \tmse2 loss: 0.073630\n",
            "Saving..\n",
            "Epoch: 152 \tTrain Loss: 0.164346 \tmse loss: 0.083188 \tmse2 loss: 0.081159\n",
            "Epoch: 153 \tTrain Loss: 0.162565 \tmse loss: 0.083300 \tmse2 loss: 0.079265\n",
            "Epoch: 154 \tTrain Loss: 0.162003 \tmse loss: 0.084132 \tmse2 loss: 0.077871\n",
            "Epoch: 155 \tTrain Loss: 0.143416 \tmse loss: 0.077383 \tmse2 loss: 0.066033\n",
            "Saving..\n",
            "Epoch: 156 \tTrain Loss: 0.172927 \tmse loss: 0.086680 \tmse2 loss: 0.086247\n",
            "Epoch: 157 \tTrain Loss: 0.164367 \tmse loss: 0.085154 \tmse2 loss: 0.079213\n",
            "Epoch: 158 \tTrain Loss: 0.148818 \tmse loss: 0.077301 \tmse2 loss: 0.071518\n",
            "Epoch: 159 \tTrain Loss: 0.144574 \tmse loss: 0.075852 \tmse2 loss: 0.068722\n",
            "Epoch: 160 \tTrain Loss: 0.156382 \tmse loss: 0.079640 \tmse2 loss: 0.076742\n",
            "Epoch: 161 \tTrain Loss: 0.144133 \tmse loss: 0.073112 \tmse2 loss: 0.071020\n",
            "Epoch: 162 \tTrain Loss: 0.152000 \tmse loss: 0.077211 \tmse2 loss: 0.074789\n",
            "Epoch: 163 \tTrain Loss: 0.135899 \tmse loss: 0.072839 \tmse2 loss: 0.063060\n",
            "Saving..\n",
            "Epoch: 164 \tTrain Loss: 0.144264 \tmse loss: 0.076167 \tmse2 loss: 0.068097\n",
            "Epoch: 165 \tTrain Loss: 0.142275 \tmse loss: 0.074845 \tmse2 loss: 0.067430\n",
            "Epoch: 166 \tTrain Loss: 0.146739 \tmse loss: 0.072571 \tmse2 loss: 0.074168\n",
            "Epoch: 167 \tTrain Loss: 0.153827 \tmse loss: 0.079231 \tmse2 loss: 0.074595\n",
            "Epoch: 168 \tTrain Loss: 0.140816 \tmse loss: 0.075587 \tmse2 loss: 0.065228\n",
            "Epoch: 169 \tTrain Loss: 0.133468 \tmse loss: 0.069169 \tmse2 loss: 0.064299\n",
            "Saving..\n",
            "Epoch: 170 \tTrain Loss: 0.140776 \tmse loss: 0.074897 \tmse2 loss: 0.065880\n",
            "Epoch: 171 \tTrain Loss: 0.140719 \tmse loss: 0.072340 \tmse2 loss: 0.068379\n",
            "Epoch: 172 \tTrain Loss: 0.143795 \tmse loss: 0.073846 \tmse2 loss: 0.069948\n",
            "Epoch: 173 \tTrain Loss: 0.138041 \tmse loss: 0.070877 \tmse2 loss: 0.067165\n",
            "Epoch: 174 \tTrain Loss: 0.140718 \tmse loss: 0.074095 \tmse2 loss: 0.066624\n",
            "Epoch: 175 \tTrain Loss: 0.170174 \tmse loss: 0.086143 \tmse2 loss: 0.084031\n",
            "Epoch: 176 \tTrain Loss: 0.152698 \tmse loss: 0.076544 \tmse2 loss: 0.076154\n",
            "Epoch: 177 \tTrain Loss: 0.145587 \tmse loss: 0.076143 \tmse2 loss: 0.069443\n",
            "Epoch: 178 \tTrain Loss: 0.144276 \tmse loss: 0.072065 \tmse2 loss: 0.072212\n",
            "Epoch: 179 \tTrain Loss: 0.140185 \tmse loss: 0.070854 \tmse2 loss: 0.069331\n",
            "Epoch: 180 \tTrain Loss: 0.132974 \tmse loss: 0.070668 \tmse2 loss: 0.062306\n",
            "Saving..\n",
            "Epoch: 181 \tTrain Loss: 0.141614 \tmse loss: 0.072122 \tmse2 loss: 0.069492\n",
            "Epoch: 182 \tTrain Loss: 0.134440 \tmse loss: 0.070645 \tmse2 loss: 0.063795\n",
            "Epoch: 183 \tTrain Loss: 0.161136 \tmse loss: 0.084270 \tmse2 loss: 0.076865\n",
            "Epoch: 184 \tTrain Loss: 0.138604 \tmse loss: 0.071803 \tmse2 loss: 0.066801\n",
            "Epoch: 185 \tTrain Loss: 0.140216 \tmse loss: 0.071562 \tmse2 loss: 0.068654\n",
            "Epoch: 186 \tTrain Loss: 0.129233 \tmse loss: 0.068445 \tmse2 loss: 0.060788\n",
            "Saving..\n",
            "Epoch: 187 \tTrain Loss: 0.135116 \tmse loss: 0.070008 \tmse2 loss: 0.065108\n",
            "Epoch: 188 \tTrain Loss: 0.130522 \tmse loss: 0.068552 \tmse2 loss: 0.061969\n",
            "Epoch: 189 \tTrain Loss: 0.123407 \tmse loss: 0.067837 \tmse2 loss: 0.055571\n",
            "Saving..\n",
            "Epoch: 190 \tTrain Loss: 0.141810 \tmse loss: 0.074883 \tmse2 loss: 0.066927\n",
            "Epoch: 191 \tTrain Loss: 0.127753 \tmse loss: 0.069059 \tmse2 loss: 0.058694\n",
            "Epoch: 192 \tTrain Loss: 0.145159 \tmse loss: 0.073288 \tmse2 loss: 0.071870\n",
            "Epoch: 193 \tTrain Loss: 0.123532 \tmse loss: 0.066131 \tmse2 loss: 0.057401\n",
            "Epoch: 194 \tTrain Loss: 0.120442 \tmse loss: 0.062671 \tmse2 loss: 0.057772\n",
            "Saving..\n",
            "Epoch: 195 \tTrain Loss: 0.123289 \tmse loss: 0.063424 \tmse2 loss: 0.059866\n",
            "Epoch: 196 \tTrain Loss: 0.119690 \tmse loss: 0.062785 \tmse2 loss: 0.056905\n",
            "Saving..\n",
            "Epoch: 197 \tTrain Loss: 0.118718 \tmse loss: 0.061307 \tmse2 loss: 0.057411\n",
            "Saving..\n",
            "Epoch: 198 \tTrain Loss: 0.112793 \tmse loss: 0.060872 \tmse2 loss: 0.051921\n",
            "Saving..\n",
            "Epoch: 199 \tTrain Loss: 0.118873 \tmse loss: 0.061590 \tmse2 loss: 0.057283\n",
            "Epoch: 200 \tTrain Loss: 0.122790 \tmse loss: 0.064302 \tmse2 loss: 0.058487\n",
            "Epoch: 201 \tTrain Loss: 0.138870 \tmse loss: 0.075155 \tmse2 loss: 0.063716\n",
            "Epoch: 202 \tTrain Loss: 0.125473 \tmse loss: 0.066051 \tmse2 loss: 0.059422\n",
            "Epoch: 203 \tTrain Loss: 0.129232 \tmse loss: 0.067512 \tmse2 loss: 0.061721\n",
            "Epoch: 204 \tTrain Loss: 0.117714 \tmse loss: 0.063202 \tmse2 loss: 0.054512\n",
            "Epoch: 205 \tTrain Loss: 0.124813 \tmse loss: 0.066390 \tmse2 loss: 0.058423\n",
            "Epoch: 206 \tTrain Loss: 0.124700 \tmse loss: 0.063061 \tmse2 loss: 0.061639\n",
            "Epoch: 207 \tTrain Loss: 0.118112 \tmse loss: 0.062169 \tmse2 loss: 0.055943\n",
            "Epoch: 208 \tTrain Loss: 0.114508 \tmse loss: 0.064026 \tmse2 loss: 0.050482\n",
            "Epoch: 209 \tTrain Loss: 0.112642 \tmse loss: 0.059850 \tmse2 loss: 0.052792\n",
            "Saving..\n",
            "Epoch: 210 \tTrain Loss: 0.107441 \tmse loss: 0.058300 \tmse2 loss: 0.049140\n",
            "Saving..\n",
            "Epoch: 211 \tTrain Loss: 0.116186 \tmse loss: 0.060158 \tmse2 loss: 0.056028\n",
            "Epoch: 212 \tTrain Loss: 0.111586 \tmse loss: 0.062891 \tmse2 loss: 0.048695\n",
            "Epoch: 213 \tTrain Loss: 0.119676 \tmse loss: 0.064050 \tmse2 loss: 0.055626\n",
            "Epoch: 214 \tTrain Loss: 0.119149 \tmse loss: 0.064143 \tmse2 loss: 0.055006\n",
            "Epoch: 215 \tTrain Loss: 0.124761 \tmse loss: 0.065640 \tmse2 loss: 0.059122\n",
            "Epoch: 216 \tTrain Loss: 0.110271 \tmse loss: 0.058148 \tmse2 loss: 0.052123\n",
            "Epoch: 217 \tTrain Loss: 0.113387 \tmse loss: 0.060331 \tmse2 loss: 0.053056\n",
            "Epoch: 218 \tTrain Loss: 0.154334 \tmse loss: 0.080316 \tmse2 loss: 0.074017\n",
            "Epoch: 219 \tTrain Loss: 0.116484 \tmse loss: 0.061123 \tmse2 loss: 0.055361\n",
            "Epoch: 220 \tTrain Loss: 0.113486 \tmse loss: 0.060070 \tmse2 loss: 0.053416\n",
            "Epoch: 221 \tTrain Loss: 0.126751 \tmse loss: 0.063531 \tmse2 loss: 0.063220\n",
            "Epoch: 222 \tTrain Loss: 0.113150 \tmse loss: 0.061101 \tmse2 loss: 0.052049\n",
            "Epoch: 223 \tTrain Loss: 0.111708 \tmse loss: 0.061240 \tmse2 loss: 0.050469\n",
            "Epoch: 224 \tTrain Loss: 0.110799 \tmse loss: 0.059742 \tmse2 loss: 0.051057\n",
            "Epoch: 225 \tTrain Loss: 0.123391 \tmse loss: 0.063920 \tmse2 loss: 0.059470\n",
            "Epoch: 226 \tTrain Loss: 0.116216 \tmse loss: 0.061123 \tmse2 loss: 0.055093\n",
            "Epoch: 227 \tTrain Loss: 0.111690 \tmse loss: 0.058960 \tmse2 loss: 0.052730\n",
            "Epoch: 228 \tTrain Loss: 0.124875 \tmse loss: 0.066435 \tmse2 loss: 0.058441\n",
            "Epoch: 229 \tTrain Loss: 0.113436 \tmse loss: 0.061217 \tmse2 loss: 0.052219\n",
            "Epoch: 230 \tTrain Loss: 0.114224 \tmse loss: 0.060316 \tmse2 loss: 0.053908\n",
            "Out of patience. \n",
            "\n"
          ]
        }
      ],
      "source": [
        "#Begin the training\n",
        "batch_size = args['batch_size']\n",
        "patience = args['patience']\n",
        "encoder = Encoder(args)\n",
        "decoder = Decoder(args)\n",
        "\n",
        "device = 'cuda' if torch.cuda.is_available() else 'cpu'\n",
        "print(device)\n",
        "decoder = decoder.to(device)\n",
        "encoder = encoder.to(device)\n",
        "\n",
        "train_on_gpu = torch.cuda.is_available()\n",
        "\n",
        "#decoder loss function\n",
        "criterion = nn.MSELoss()\n",
        "criterion = criterion.to(device)\n",
        "\n",
        "num_workers = 0\n",
        "\n",
        "#torch.Tensor returns float so if want long then use torch.tensor\n",
        "tensor_x = torch.Tensor(X_train)\n",
        "tensor_y = torch.tensor(y_train,dtype=torch.long)\n",
        "mnist_bal = TensorDataset(tensor_x,tensor_y) \n",
        "train_loader = torch.utils.data.DataLoader(mnist_bal, \n",
        "    batch_size=batch_size,shuffle=True,num_workers=num_workers)\n",
        "\n",
        "best_loss = np.inf\n",
        "\n",
        "t0 = time.time()\n",
        "if args['train']:\n",
        "    enc_optim = torch.optim.Adam(encoder.parameters(), lr = args['lr'])\n",
        "    dec_optim = torch.optim.Adam(decoder.parameters(), lr = args['lr'])\n",
        "\n",
        "    for epoch in range(args['epochs']):\n",
        "        train_loss = 0.0\n",
        "        tmse_loss = 0.0\n",
        "        tdiscr_loss = 0.0\n",
        "        # train for one epoch -- set nets to train mode\n",
        "        encoder.train()\n",
        "        decoder.train()\n",
        "    \n",
        "        for images,labs in train_loader:\n",
        "        \n",
        "            # zero gradients for each batch\n",
        "            encoder.zero_grad()\n",
        "            decoder.zero_grad()\n",
        "            images, labs = images.to(device), labs.to(device)\n",
        "            labsn = labs.detach().cpu().numpy()\n",
        "#            print('images shape', images.shape)\n",
        "            # run images\n",
        "            z_hat = encoder(images)\n",
        "#            print('images shape after encoding', z_hat.shape)\n",
        "        \n",
        "            x_hat = decoder(z_hat) #decoder outputs tanh\n",
        "#            print('images shape after decoding', x_hat.shape)\n",
        "            mse = criterion(x_hat,images)\n",
        "                    \n",
        "            resx = []\n",
        "            resy = []\n",
        "        \n",
        "            tc = np.random.choice(num_classes,1)\n",
        "            #tc = 9\n",
        "            xbeg = X_train[y_train == tc]\n",
        "            ybeg = y_train[y_train == tc] \n",
        "            xlen = len(xbeg)\n",
        "            nsamp = min(xlen, 100)\n",
        "            ind = np.random.choice(list(range(len(xbeg))),nsamp,replace=False)\n",
        "            xclass = xbeg[ind]\n",
        "            yclass = ybeg[ind]\n",
        "        \n",
        "            xclen = len(xclass)\n",
        "            xcminus = np.arange(1,xclen)\n",
        "            \n",
        "            xcplus = np.append(xcminus,0)\n",
        "            xcnew = (xclass[[xcplus],:])\n",
        "            xcnew = xcnew.reshape(xcnew.shape[1],xcnew.shape[2],xcnew.shape[3],xcnew.shape[4])\n",
        "        \n",
        "            xcnew = torch.Tensor(xcnew)\n",
        "            xcnew = xcnew.to(device)\n",
        "        \n",
        "            #encode xclass to feature space\n",
        "            xclass = torch.Tensor(xclass)\n",
        "            xclass = xclass.to(device)\n",
        "            xclass = encoder(xclass)\n",
        "        \n",
        "            xclass = xclass.detach().cpu().numpy()\n",
        "        \n",
        "            xc_enc = (xclass[[xcplus],:])\n",
        "            xc_enc = np.squeeze(xc_enc)\n",
        "        \n",
        "            xc_enc = torch.Tensor(xc_enc)\n",
        "            xc_enc = xc_enc.to(device)\n",
        "            \n",
        "            ximg = decoder(xc_enc)\n",
        "            \n",
        "            mse2 = criterion(ximg,xcnew)\n",
        "        \n",
        "            comb_loss = mse2 + mse\n",
        "            comb_loss.backward()\n",
        "        \n",
        "            enc_optim.step()\n",
        "            dec_optim.step()\n",
        "        \n",
        "            train_loss += comb_loss.item()*images.size(0)\n",
        "            tmse_loss += mse.item()*images.size(0)\n",
        "            tdiscr_loss += mse2.item()*images.size(0)\n",
        "\n",
        "        train_loss = train_loss/len(train_loader)\n",
        "        tmse_loss = tmse_loss/len(train_loader)\n",
        "        tdiscr_loss = tdiscr_loss/len(train_loader)\n",
        "        print('Epoch: {} \\tTrain Loss: {:.6f} \\tmse loss: {:.6f} \\tmse2 loss: {:.6f}'.format(epoch,\n",
        "                train_loss,tmse_loss,tdiscr_loss))\n",
        "        \n",
        "    \n",
        "    \n",
        "        #store the best encoder and decoder models\n",
        "        #here, /crs5 is a reference to 5 way cross validation, but is not\n",
        "        #necessary for illustration purposes\n",
        "        if train_loss < best_loss:\n",
        "            print('Saving..')\n",
        "            patience = args['patience']\n",
        "            path_enc = '/content/drive/MyDrive/PHD/Model/DeepSMOTE/32/bst_enc.pth'\n",
        "            path_dec = '/content/drive/MyDrive/PHD/Model/DeepSMOTE/32/bst_dec.pth'\n",
        "          \n",
        "            torch.save(encoder.state_dict(), path_enc)\n",
        "            torch.save(decoder.state_dict(), path_dec)\n",
        "    \n",
        "            best_loss = train_loss\n",
        "        else:\n",
        "            patience = patience - 1\n",
        "\n",
        "        if patience == 0:\n",
        "            print('Out of patience. \\n')\n",
        "            break\n",
        "    \n",
        "    \n",
        "    #in addition, store the final model (may not be the best) for\n",
        "    #informational purposes\n",
        "    #path_enc = '/content/drive/MyDrive/PHD/Model/DeepSMOTE/f_enc.pth'\n",
        "    #path_dec = '/content/drive/MyDrive/PHD/Model/DeepSMOTE/f_dec.pth'\n",
        "    #print(path_enc)\n",
        "    #print(path_dec)\n",
        "    #torch.save(encoder.state_dict(), path_enc)\n",
        "    #torch.save(decoder.state_dict(), path_dec)"
      ]
    },
    {
      "cell_type": "code",
      "execution_count": null,
      "metadata": {
        "id": "NoqPIVKqF5Ug",
        "colab": {
          "base_uri": "https://localhost:8080/"
        },
        "outputId": "c5f218d5-7316-4719-aa06-5ee78a1c742e"
      },
      "outputs": [
        {
          "output_type": "stream",
          "name": "stdout",
          "text": [
            "train imgs shape  (5321, 3, 32, 32)\n",
            "decy  (5321,)\n",
            "(14077, 3072)\n",
            "(14077,)\n"
          ]
        }
      ],
      "source": [
        "batch_size = args['batch_size']\n",
        "#Generate artificial images\n",
        "import torch\n",
        "np.printoptions(precision=5,suppress=True)\n",
        "\n",
        "#path on the computer where the models are stored\n",
        "modpth = '/content/drive/MyDrive/PHD/Model/DeepSMOTE/32/'\n",
        "\n",
        "encf = []\n",
        "decf = []\n",
        "for p in range(1):\n",
        "    enc = modpth + '/bst_enc.pth'\n",
        "    dec = modpth + '/bst_dec.pth'\n",
        "    encf.append(enc)\n",
        "    decf.append(dec)\n",
        "\n",
        "for m in range(1):\n",
        "    print('train imgs shape ',X_train.shape) #(45000,3,32,32)\n",
        "    print('decy ',y_train.shape)\n",
        "    \n",
        "    #generate some images \n",
        "    train_on_gpu = torch.cuda.is_available()\n",
        "    device = 'cuda' if torch.cuda.is_available() else 'cpu'\n",
        "    \n",
        "    path_enc = encf[m]\n",
        "    path_dec = decf[m]\n",
        "\n",
        "    encoder = Encoder(args)\n",
        "    encoder.load_state_dict(torch.load(path_enc), strict=False)\n",
        "    encoder = encoder.to(device)\n",
        "\n",
        "    decoder = Decoder(args)\n",
        "    decoder.load_state_dict(torch.load(path_dec), strict=False)\n",
        "    decoder = decoder.to(device)\n",
        "\n",
        "    encoder.eval()\n",
        "    decoder.eval()\n",
        "\n",
        "    resx = []\n",
        "    resy = []\n",
        "\n",
        "    for i in [0,1,2,3,4,6]: #skip class 5 since it's max class\n",
        "        torch.cuda.empty_cache()\n",
        "\n",
        "        xclass, yclass = biased_get_class(X_train, y_train, i)\n",
        "        #encode xclass to feature space\n",
        "        xclass = torch.Tensor(xclass)\n",
        "        xclass = xclass.to(device)\n",
        "        xclass = encoder(xclass)\n",
        "            \n",
        "        xclass = xclass.detach().cpu().numpy()\n",
        "        n = np.max(counter) - counter[i]\n",
        "#        resx2 = []\n",
        "#        resy2 = []\n",
        "#        for j in range(batch_size, n+batch_size+1, batch_size):\n",
        "#          if j <= n:\n",
        "#            batch_size_max = batch_size\n",
        "#          elif n % batch_size != 0:\n",
        "#            batch_size_max = n%batch_size\n",
        "#          else:\n",
        "#            break\n",
        "#          xsamp, ysamp = G_SM(xclass,yclass,batch_size_max,i)\n",
        "        xsamp, ysamp = G_SM(xclass,yclass,n,i)\n",
        "        ysamp = np.array(ysamp)\n",
        "    \n",
        "        \"\"\"to generate samples for resnet\"\"\"   \n",
        "        xsamp = torch.Tensor(xsamp)\n",
        "        xsamp = xsamp.to(device)\n",
        "        ximg = decoder(xsamp)\n",
        "\n",
        "        ximn = ximg.detach().cpu().numpy()\n",
        "#        resx2.append(ximn)\n",
        "#        resy2.append(ysamp)\n",
        "#        \n",
        "#        resx2 = np.vstack(resx2)\n",
        "#        resy2 = np.hstack(resy2)\n",
        "        resx.append(ximn)\n",
        "        resy.append(ysamp)\n",
        "    \n",
        "    resx1 = np.vstack(resx)\n",
        "    resy1 = np.hstack(resy)\n",
        "#    print(resx1.shape) #(34720, 3, 32, 32)\n",
        "\n",
        "    resx1 = resx1.reshape(resx1.shape[0],-1)\n",
        "#    print(resx1.shape) #(34720, 3072)\n",
        "    \n",
        "    X_train = X_train.reshape(X_train.shape[0],-1)\n",
        "#    print('decx1 ',dec_x1.shape)\n",
        "    X_train = np.vstack((resx1,X_train))\n",
        "    y_train = np.hstack((resy1,y_train))\n",
        "\n",
        "    print(X_train.shape) #(45000, 3, 32, 32)\n",
        "    print(y_train.shape) #(45000,)\n",
        "#    print()"
      ]
    },
    {
      "cell_type": "code",
      "execution_count": null,
      "metadata": {
        "id": "76bpFBQcHLIY",
        "colab": {
          "base_uri": "https://localhost:8080/"
        },
        "outputId": "59c80e36-ac67-4ab0-9e7c-76fb8f8b50fa"
      },
      "outputs": [
        {
          "output_type": "stream",
          "name": "stdout",
          "text": [
            "X_train shape:  (14077, 32, 32, 3)\n",
            "Counter({0: 2011, 1: 2011, 2: 2011, 3: 2011, 4: 2011, 6: 2011, 5: 2011})\n"
          ]
        }
      ],
      "source": [
        "X_train = X_train.reshape(-1, 3, IMAGE_W, IMAGE_H)\n",
        "X_train = moveaxis(X_train, 1, 3)\n",
        "print('X_train shape: ',X_train.shape)\n",
        "print(Counter(y_train))"
      ]
    },
    {
      "cell_type": "code",
      "execution_count": null,
      "metadata": {
        "id": "8SqyvSgX8sLO"
      },
      "outputs": [],
      "source": [
        "X_train = X_train * 255\n",
        "X_train = X_train.astype(int)"
      ]
    },
    {
      "cell_type": "code",
      "execution_count": null,
      "metadata": {
        "id": "we4D35jnEOqs"
      },
      "outputs": [],
      "source": [
        "#de-standardization\n",
        "#X_train = (X_train * X_train_std + X_train_mean).astype(int)\n",
        "#X_val = (X_val * X_train_std + X_train_mean).astype(int)"
      ]
    },
    {
      "cell_type": "markdown",
      "metadata": {
        "id": "US0KkIaVlTdU"
      },
      "source": [
        "#Data Transformation"
      ]
    },
    {
      "cell_type": "code",
      "execution_count": null,
      "metadata": {
        "id": "_a_lPCqbibaS",
        "colab": {
          "base_uri": "https://localhost:8080/"
        },
        "outputId": "cd868ef8-454c-4b66-8228-848d940db7fc"
      },
      "outputs": [
        {
          "output_type": "stream",
          "name": "stdout",
          "text": [
            "y_train shape:  (14077, 1)\n"
          ]
        }
      ],
      "source": [
        "y_train = y_train.reshape(-1, 1)\n",
        "y_val = y_val.reshape(-1, 1)\n",
        "print('y_train shape: ',y_train.shape)"
      ]
    },
    {
      "cell_type": "code",
      "execution_count": null,
      "metadata": {
        "id": "ja5ZmgbCvDw5"
      },
      "outputs": [],
      "source": [
        "from keras.utils.np_utils import to_categorical\n",
        "y_train = to_categorical(y_train, num_classes = num_classes)\n",
        "y_val = to_categorical(y_val, num_classes = num_classes)"
      ]
    },
    {
      "cell_type": "code",
      "execution_count": null,
      "metadata": {
        "id": "9QM00erNGU32",
        "colab": {
          "base_uri": "https://localhost:8080/"
        },
        "outputId": "e68afedc-de82-43c7-ceea-8dd99c2cb938"
      },
      "outputs": [
        {
          "output_type": "stream",
          "name": "stdout",
          "text": [
            "(14077, 32, 32, 3)\n",
            "(14077, 7)\n",
            "(193, 32, 32, 3)\n",
            "(193, 7)\n"
          ]
        }
      ],
      "source": [
        "print(X_train.shape)\n",
        "print(y_train.shape)\n",
        "print(X_val.shape)\n",
        "print(y_val.shape)"
      ]
    },
    {
      "cell_type": "markdown",
      "metadata": {
        "id": "0jrJ33lUDkCM"
      },
      "source": [
        "#Split dataset to train and val"
      ]
    },
    {
      "cell_type": "code",
      "execution_count": null,
      "metadata": {
        "colab": {
          "base_uri": "https://localhost:8080/"
        },
        "id": "e6qneWL_Bs2U",
        "outputId": "22c2c4ff-5544-4dd8-b69a-af96b4b97616"
      },
      "outputs": [
        {
          "name": "stdout",
          "output_type": "stream",
          "text": [
            "Train Data:  (9814, 32, 32, 3)\n",
            "Remaining Data:  (201, 32, 32, 3)\n"
          ]
        }
      ],
      "source": [
        "# stratified train and rem (20%) datasets\n",
        "from sklearn.model_selection import train_test_split\n",
        "X_train, X_val, y_train, y_val = train_test_split(X, y, test_size=0.02, stratify=y, random_state=1)\n",
        "\n",
        "print('Train Data: ', X_train.shape)\n",
        "print('Remaining Data: ', X_val.shape)"
      ]
    },
    {
      "cell_type": "code",
      "execution_count": null,
      "metadata": {
        "colab": {
          "base_uri": "https://localhost:8080/"
        },
        "id": "Vai7M7WSXVY4",
        "outputId": "b9bc1199-a518-4a8b-9d6e-4d6038efbafe"
      },
      "outputs": [
        {
          "name": "stdout",
          "output_type": "stream",
          "text": [
            "Test Data:  (416, 32, 32, 3)\n",
            "Val Data:  (416, 32, 32, 3)\n"
          ]
        }
      ],
      "source": [
        "# stratified val and test (50%) \n",
        "from sklearn.model_selection import train_test_split\n",
        "X_test, X_val, y_test, y_val = train_test_split(X_rem, y_rem, test_size=0.5, stratify=y_rem, random_state=1)\n",
        "\n",
        "print('Test Data: ', X_test.shape)\n",
        "print('Val Data: ', X_val.shape)"
      ]
    },
    {
      "cell_type": "markdown",
      "metadata": {
        "id": "I15HgVuhjFlm"
      },
      "source": []
    },
    {
      "cell_type": "code",
      "execution_count": null,
      "metadata": {
        "colab": {
          "base_uri": "https://localhost:8080/"
        },
        "id": "oVVOQPNiHXHw",
        "outputId": "a1e60310-4f3b-4063-8465-4d7120d225c9"
      },
      "outputs": [
        {
          "name": "stdout",
          "output_type": "stream",
          "text": [
            "Train Data:  (2015, 32, 32, 3)\n",
            "Test Data:  (224, 32, 32, 3)\n"
          ]
        }
      ],
      "source": [
        "#optional\n",
        "# stratified train and test (10%) datasets\n",
        "from sklearn.model_selection import train_test_split\n",
        "X_train, X_test, y_train, y_test = train_test_split(X, y, test_size=0.1, stratify=y, random_state=1)\n",
        "\n",
        "print('Train Data: ', X_train.shape)\n",
        "print('Test Data: ', X_test.shape)"
      ]
    },
    {
      "cell_type": "code",
      "execution_count": null,
      "metadata": {
        "colab": {
          "base_uri": "https://localhost:8080/"
        },
        "id": "0_oaUYYgJNV7",
        "outputId": "ca2f393a-0599-4cfc-b330-45d723f2bb06"
      },
      "outputs": [
        {
          "name": "stdout",
          "output_type": "stream",
          "text": [
            "Train Data:  (3369, 32, 32, 3)\n",
            "Val Data:  (375, 32, 32, 3)\n"
          ]
        }
      ],
      "source": [
        "#optional\n",
        "# stratified train and val (10%) datasets\n",
        "from sklearn.model_selection import train_test_split\n",
        "X_train, X_val, y_train, y_val = train_test_split(X, y, test_size=0.1, stratify=y, random_state=1)\n",
        "\n",
        "print('Train Data: ', X_train.shape)\n",
        "print('Val Data: ', X_val.shape)"
      ]
    },
    {
      "cell_type": "markdown",
      "metadata": {
        "id": "ZklPzWxCCtTW"
      },
      "source": [
        "Create and compile the model"
      ]
    },
    {
      "cell_type": "code",
      "execution_count": null,
      "metadata": {
        "id": "7jFShRvTHnqi"
      },
      "outputs": [],
      "source": [
        "print(X_train)"
      ]
    },
    {
      "cell_type": "code",
      "execution_count": null,
      "metadata": {
        "id": "8Kef4r_zxjgk"
      },
      "outputs": [],
      "source": [
        "#Data Augmentation\n",
        "dataaugment = ImageDataGenerator(\n",
        "        rotation_range=90,  # randomly rotate images in the range (degrees, 0 to 180)\n",
        "        zoom_range = 0.1, # Randomly zoom image \n",
        "        width_shift_range=0.1,  # randomly shift images horizontally (fraction of total width)\n",
        "        height_shift_range=0.1,  # randomly shift images vertically (fraction of total height)\n",
        "        horizontal_flip=True,  # randomly flip images\n",
        "        vertical_flip=True,  # randomly flip images\n",
        "        shear_range = 10) \n",
        "\n",
        "dataaugment.fit(X_train)"
      ]
    },
    {
      "cell_type": "markdown",
      "metadata": {
        "id": "5v7sLC2svMuJ"
      },
      "source": [
        "# Classification\n",
        "Model from https://github.com/AnasBrital98/CNN-From-Scratch/tree/master/Inception-V3"
      ]
    },
    {
      "cell_type": "code",
      "execution_count": null,
      "metadata": {
        "id": "A8eRZiucdYnP"
      },
      "outputs": [],
      "source": [
        "EPOCHS = 1000\n",
        "BATCH_SIZE = 32\n",
        "optimizer = Adam(learning_rate=0.0005, beta_1=0.9, beta_2=0.999, epsilon=None, decay=0.0, amsgrad=False)\n",
        "\n",
        "#USe TF.data\n",
        "training_data = tf.data.Dataset.from_tensor_slices((X_train, y_train))\n",
        "validation_data = tf.data.Dataset.from_tensor_slices((X_val, y_val))\n",
        "\n",
        "autotune = tf.data.AUTOTUNE\n",
        "train_data_batches = training_data.shuffle(buffer_size=40000).batch(32).prefetch(buffer_size=autotune)\n",
        "valid_data_batches = validation_data.shuffle(buffer_size=10000).batch(32).prefetch(buffer_size=autotune)\n",
        "\n",
        "#Data augmentation\n",
        "rescale_layer = tf.keras.Sequential([layers.experimental.preprocessing.Rescaling(1./255)])\n",
        "data_augmentation = tf.keras.Sequential([\n",
        "  layers.experimental.preprocessing.RandomFlip(\"horizontal_and_vertical\"),\n",
        "  layers.experimental.preprocessing.RandomRotation(0.2), \n",
        "  layers.experimental.preprocessing.RandomZoom(height_factor=(0.2, 0.3), width_factor=(0.2, 0.3)),\n",
        "  layers.experimental.preprocessing.RandomTranslation(0.3, 0.3, fill_mode='reflect', interpolation='bilinear',)\n",
        "])\n",
        "\n",
        "def balanced_acc(y_true, y_pred):\n",
        "    from sklearn.metrics import confusion_matrix\n",
        "    import numpy as np\n",
        "    from keras import backend as K\n",
        "\n",
        "    tensor1 = tf.math.argmax(y_true, axis=1)\n",
        "    tensor2 = tf.math.argmax(y_pred, axis=1)\n",
        "\n",
        "    cm = tf.math.confusion_matrix(tensor1, tensor2)\n",
        "    \n",
        "    diag = tf.linalg.tensor_diag_part (cm)\n",
        "    tpfn = tf.cast(K.sum(cm, axis = 1), tf.float32) + K.epsilon()\n",
        "    recall = tf.divide(tf.cast(diag, tf.float32),tpfn)\n",
        "    balanced_acc = K.mean(recall)\n",
        "    return balanced_acc\n",
        "\n",
        "#Callbacks\n",
        "best_model_fpath = '/content/drive/MyDrive/PHD/Model/best_model_SMOTE.h5'\n",
        "last_model_fpath = '/content/drive/MyDrive/PHD/Model/last_model_SMOTE.h5'\n",
        "mc = ModelCheckpoint(best_model_fpath, monitor='val_balanced_acc', mode='max', verbose=1, save_best_only=True)\n",
        "learning_rate_reduction = ReduceLROnPlateau(monitor='val_loss', patience=10, verbose=0, factor=0.5, min_lr=0.00001)\n",
        "early_stopping_monitor = EarlyStopping(patience=30,monitor='val_balanced_acc')\n"
      ]
    },
    {
      "cell_type": "code",
      "execution_count": null,
      "metadata": {
        "id": "rwwLiXUSG0IZ",
        "colab": {
          "base_uri": "https://localhost:8080/"
        },
        "outputId": "21972502-f84d-4899-e1ee-14ce2a06fd11"
      },
      "outputs": [
        {
          "output_type": "stream",
          "name": "stdout",
          "text": [
            "Downloading data from https://storage.googleapis.com/tensorflow/keras-applications/resnet/resnet50_weights_tf_dim_ordering_tf_kernels_notop.h5\n",
            "94773248/94765736 [==============================] - 0s 0us/step\n",
            "94781440/94765736 [==============================] - 0s 0us/step\n",
            "Epoch 1/1000\n",
            "440/440 [==============================] - ETA: 0s - loss: 1.4415 - accuracy: 0.4663 - balanced_acc: 0.4631\n",
            "Epoch 1: val_balanced_acc improved from -inf to 0.23574, saving model to /content/drive/MyDrive/PHD/Model/best_model_SMOTE.h5\n",
            "440/440 [==============================] - 16s 24ms/step - loss: 1.4415 - accuracy: 0.4663 - balanced_acc: 0.4631 - val_loss: 1.0962 - val_accuracy: 0.5440 - val_balanced_acc: 0.2357 - lr: 5.0000e-04\n",
            "Epoch 2/1000\n",
            "438/440 [============================>.] - ETA: 0s - loss: 1.2323 - accuracy: 0.5290 - balanced_acc: 0.5277\n",
            "Epoch 2: val_balanced_acc improved from 0.23574 to 0.34302, saving model to /content/drive/MyDrive/PHD/Model/best_model_SMOTE.h5\n",
            "440/440 [==============================] - 7s 16ms/step - loss: 1.2326 - accuracy: 0.5289 - balanced_acc: 0.5274 - val_loss: 0.8559 - val_accuracy: 0.6425 - val_balanced_acc: 0.3430 - lr: 5.0000e-04\n",
            "Epoch 3/1000\n",
            "437/440 [============================>.] - ETA: 0s - loss: 1.1702 - accuracy: 0.5569 - balanced_acc: 0.5508\n",
            "Epoch 3: val_balanced_acc did not improve from 0.34302\n",
            "440/440 [==============================] - 7s 15ms/step - loss: 1.1710 - accuracy: 0.5565 - balanced_acc: 0.5504 - val_loss: 0.8912 - val_accuracy: 0.6477 - val_balanced_acc: 0.3138 - lr: 5.0000e-04\n",
            "Epoch 4/1000\n",
            "439/440 [============================>.] - ETA: 0s - loss: 1.1340 - accuracy: 0.5658 - balanced_acc: 0.5626\n",
            "Epoch 4: val_balanced_acc improved from 0.34302 to 0.35258, saving model to /content/drive/MyDrive/PHD/Model/best_model_SMOTE.h5\n",
            "440/440 [==============================] - 8s 19ms/step - loss: 1.1341 - accuracy: 0.5660 - balanced_acc: 0.5628 - val_loss: 0.8606 - val_accuracy: 0.6684 - val_balanced_acc: 0.3526 - lr: 5.0000e-04\n",
            "Epoch 5/1000\n",
            "440/440 [==============================] - ETA: 0s - loss: 1.1217 - accuracy: 0.5677 - balanced_acc: 0.5663\n",
            "Epoch 5: val_balanced_acc did not improve from 0.35258\n",
            "440/440 [==============================] - 7s 15ms/step - loss: 1.1217 - accuracy: 0.5677 - balanced_acc: 0.5663 - val_loss: 0.9365 - val_accuracy: 0.5855 - val_balanced_acc: 0.3036 - lr: 5.0000e-04\n",
            "Epoch 6/1000\n",
            "437/440 [============================>.] - ETA: 0s - loss: 1.0856 - accuracy: 0.5842 - balanced_acc: 0.5844\n",
            "Epoch 6: val_balanced_acc improved from 0.35258 to 0.35497, saving model to /content/drive/MyDrive/PHD/Model/best_model_SMOTE.h5\n",
            "440/440 [==============================] - 9s 19ms/step - loss: 1.0857 - accuracy: 0.5840 - balanced_acc: 0.5839 - val_loss: 0.8440 - val_accuracy: 0.6684 - val_balanced_acc: 0.3550 - lr: 5.0000e-04\n",
            "Epoch 7/1000\n",
            "438/440 [============================>.] - ETA: 0s - loss: 1.0762 - accuracy: 0.5870 - balanced_acc: 0.5815\n",
            "Epoch 7: val_balanced_acc did not improve from 0.35497\n",
            "440/440 [==============================] - 7s 15ms/step - loss: 1.0765 - accuracy: 0.5870 - balanced_acc: 0.5814 - val_loss: 0.9203 - val_accuracy: 0.6373 - val_balanced_acc: 0.3098 - lr: 5.0000e-04\n",
            "Epoch 8/1000\n",
            "438/440 [============================>.] - ETA: 0s - loss: 1.0631 - accuracy: 0.5935 - balanced_acc: 0.5918\n",
            "Epoch 8: val_balanced_acc improved from 0.35497 to 0.36466, saving model to /content/drive/MyDrive/PHD/Model/best_model_SMOTE.h5\n",
            "440/440 [==============================] - 7s 16ms/step - loss: 1.0629 - accuracy: 0.5937 - balanced_acc: 0.5919 - val_loss: 1.0245 - val_accuracy: 0.5648 - val_balanced_acc: 0.3647 - lr: 5.0000e-04\n",
            "Epoch 9/1000\n",
            "439/440 [============================>.] - ETA: 0s - loss: 1.0538 - accuracy: 0.5938 - balanced_acc: 0.5862\n",
            "Epoch 9: val_balanced_acc did not improve from 0.36466\n",
            "440/440 [==============================] - 7s 15ms/step - loss: 1.0540 - accuracy: 0.5937 - balanced_acc: 0.5861 - val_loss: 0.8826 - val_accuracy: 0.6218 - val_balanced_acc: 0.2956 - lr: 5.0000e-04\n",
            "Epoch 10/1000\n",
            "437/440 [============================>.] - ETA: 0s - loss: 1.0364 - accuracy: 0.6056 - balanced_acc: 0.6013\n",
            "Epoch 10: val_balanced_acc did not improve from 0.36466\n",
            "440/440 [==============================] - 7s 15ms/step - loss: 1.0359 - accuracy: 0.6057 - balanced_acc: 0.6015 - val_loss: 0.8980 - val_accuracy: 0.5855 - val_balanced_acc: 0.2984 - lr: 5.0000e-04\n",
            "Epoch 11/1000\n",
            "438/440 [============================>.] - ETA: 0s - loss: 1.0252 - accuracy: 0.6034 - balanced_acc: 0.6028\n",
            "Epoch 11: val_balanced_acc did not improve from 0.36466\n",
            "440/440 [==============================] - 7s 16ms/step - loss: 1.0247 - accuracy: 0.6037 - balanced_acc: 0.6029 - val_loss: 1.0645 - val_accuracy: 0.5389 - val_balanced_acc: 0.2691 - lr: 5.0000e-04\n",
            "Epoch 12/1000\n",
            "440/440 [==============================] - ETA: 0s - loss: 1.0165 - accuracy: 0.6091 - balanced_acc: 0.6024\n",
            "Epoch 12: val_balanced_acc did not improve from 0.36466\n",
            "440/440 [==============================] - 7s 15ms/step - loss: 1.0165 - accuracy: 0.6091 - balanced_acc: 0.6024 - val_loss: 1.0238 - val_accuracy: 0.5596 - val_balanced_acc: 0.2850 - lr: 5.0000e-04\n",
            "Epoch 13/1000\n",
            "438/440 [============================>.] - ETA: 0s - loss: 1.0094 - accuracy: 0.6125 - balanced_acc: 0.6052\n",
            "Epoch 13: val_balanced_acc did not improve from 0.36466\n",
            "440/440 [==============================] - 7s 15ms/step - loss: 1.0090 - accuracy: 0.6127 - balanced_acc: 0.6057 - val_loss: 1.0167 - val_accuracy: 0.5648 - val_balanced_acc: 0.3047 - lr: 5.0000e-04\n",
            "Epoch 14/1000\n",
            "440/440 [==============================] - ETA: 0s - loss: 1.0043 - accuracy: 0.6159 - balanced_acc: 0.6084\n",
            "Epoch 14: val_balanced_acc did not improve from 0.36466\n",
            "440/440 [==============================] - 7s 15ms/step - loss: 1.0043 - accuracy: 0.6159 - balanced_acc: 0.6084 - val_loss: 0.9359 - val_accuracy: 0.6010 - val_balanced_acc: 0.3357 - lr: 5.0000e-04\n",
            "Epoch 15/1000\n",
            "437/440 [============================>.] - ETA: 0s - loss: 0.9953 - accuracy: 0.6168 - balanced_acc: 0.6152\n",
            "Epoch 15: val_balanced_acc did not improve from 0.36466\n",
            "440/440 [==============================] - 7s 15ms/step - loss: 0.9948 - accuracy: 0.6167 - balanced_acc: 0.6149 - val_loss: 1.0018 - val_accuracy: 0.5907 - val_balanced_acc: 0.3537 - lr: 5.0000e-04\n",
            "Epoch 16/1000\n",
            "440/440 [==============================] - ETA: 0s - loss: 0.9864 - accuracy: 0.6229 - balanced_acc: 0.6167\n",
            "Epoch 16: val_balanced_acc did not improve from 0.36466\n",
            "440/440 [==============================] - 7s 15ms/step - loss: 0.9864 - accuracy: 0.6229 - balanced_acc: 0.6167 - val_loss: 0.9771 - val_accuracy: 0.5959 - val_balanced_acc: 0.3057 - lr: 5.0000e-04\n",
            "Epoch 17/1000\n",
            "440/440 [==============================] - ETA: 0s - loss: 0.9608 - accuracy: 0.6292 - balanced_acc: 0.6263\n",
            "Epoch 17: val_balanced_acc did not improve from 0.36466\n",
            "440/440 [==============================] - 7s 15ms/step - loss: 0.9608 - accuracy: 0.6292 - balanced_acc: 0.6263 - val_loss: 0.9319 - val_accuracy: 0.5855 - val_balanced_acc: 0.3320 - lr: 2.5000e-04\n",
            "Epoch 18/1000\n",
            "438/440 [============================>.] - ETA: 0s - loss: 0.9551 - accuracy: 0.6351 - balanced_acc: 0.6322\n",
            "Epoch 18: val_balanced_acc did not improve from 0.36466\n",
            "440/440 [==============================] - 7s 15ms/step - loss: 0.9545 - accuracy: 0.6351 - balanced_acc: 0.6325 - val_loss: 0.9419 - val_accuracy: 0.5751 - val_balanced_acc: 0.2748 - lr: 2.5000e-04\n",
            "Epoch 19/1000\n",
            "440/440 [==============================] - ETA: 0s - loss: 0.9495 - accuracy: 0.6406 - balanced_acc: 0.6341\n",
            "Epoch 19: val_balanced_acc did not improve from 0.36466\n",
            "440/440 [==============================] - 7s 15ms/step - loss: 0.9495 - accuracy: 0.6406 - balanced_acc: 0.6341 - val_loss: 0.9062 - val_accuracy: 0.5959 - val_balanced_acc: 0.3090 - lr: 2.5000e-04\n",
            "Epoch 20/1000\n",
            "437/440 [============================>.] - ETA: 0s - loss: 0.9517 - accuracy: 0.6354 - balanced_acc: 0.6289\n",
            "Epoch 20: val_balanced_acc did not improve from 0.36466\n",
            "440/440 [==============================] - 7s 15ms/step - loss: 0.9522 - accuracy: 0.6351 - balanced_acc: 0.6286 - val_loss: 0.9365 - val_accuracy: 0.6010 - val_balanced_acc: 0.3358 - lr: 2.5000e-04\n",
            "Epoch 21/1000\n",
            "437/440 [============================>.] - ETA: 0s - loss: 0.9279 - accuracy: 0.6477 - balanced_acc: 0.6420\n",
            "Epoch 21: val_balanced_acc did not improve from 0.36466\n",
            "440/440 [==============================] - 7s 15ms/step - loss: 0.9283 - accuracy: 0.6473 - balanced_acc: 0.6420 - val_loss: 0.9014 - val_accuracy: 0.6166 - val_balanced_acc: 0.2685 - lr: 2.5000e-04\n",
            "Epoch 22/1000\n",
            "440/440 [==============================] - ETA: 0s - loss: 0.9372 - accuracy: 0.6401 - balanced_acc: 0.6389\n",
            "Epoch 22: val_balanced_acc did not improve from 0.36466\n",
            "440/440 [==============================] - 7s 15ms/step - loss: 0.9372 - accuracy: 0.6401 - balanced_acc: 0.6389 - val_loss: 0.9473 - val_accuracy: 0.5959 - val_balanced_acc: 0.3030 - lr: 2.5000e-04\n",
            "Epoch 23/1000\n",
            "440/440 [==============================] - ETA: 0s - loss: 0.9189 - accuracy: 0.6500 - balanced_acc: 0.6427\n",
            "Epoch 23: val_balanced_acc did not improve from 0.36466\n",
            "440/440 [==============================] - 7s 15ms/step - loss: 0.9189 - accuracy: 0.6500 - balanced_acc: 0.6427 - val_loss: 0.9442 - val_accuracy: 0.5907 - val_balanced_acc: 0.3115 - lr: 2.5000e-04\n",
            "Epoch 24/1000\n",
            "437/440 [============================>.] - ETA: 0s - loss: 0.9258 - accuracy: 0.6429 - balanced_acc: 0.6388\n",
            "Epoch 24: val_balanced_acc did not improve from 0.36466\n",
            "440/440 [==============================] - 7s 15ms/step - loss: 0.9262 - accuracy: 0.6430 - balanced_acc: 0.6389 - val_loss: 0.9589 - val_accuracy: 0.5751 - val_balanced_acc: 0.2697 - lr: 2.5000e-04\n",
            "Epoch 25/1000\n",
            "438/440 [============================>.] - ETA: 0s - loss: 0.9223 - accuracy: 0.6478 - balanced_acc: 0.6418\n",
            "Epoch 25: val_balanced_acc did not improve from 0.36466\n",
            "440/440 [==============================] - 7s 16ms/step - loss: 0.9217 - accuracy: 0.6479 - balanced_acc: 0.6417 - val_loss: 0.9890 - val_accuracy: 0.5699 - val_balanced_acc: 0.2730 - lr: 2.5000e-04\n",
            "Epoch 26/1000\n",
            "438/440 [============================>.] - ETA: 0s - loss: 0.9128 - accuracy: 0.6514 - balanced_acc: 0.6470\n",
            "Epoch 26: val_balanced_acc did not improve from 0.36466\n",
            "440/440 [==============================] - 7s 15ms/step - loss: 0.9131 - accuracy: 0.6514 - balanced_acc: 0.6468 - val_loss: 0.8653 - val_accuracy: 0.6269 - val_balanced_acc: 0.3331 - lr: 2.5000e-04\n",
            "Epoch 27/1000\n",
            "440/440 [==============================] - ETA: 0s - loss: 0.9053 - accuracy: 0.6511 - balanced_acc: 0.6473\n",
            "Epoch 27: val_balanced_acc did not improve from 0.36466\n",
            "440/440 [==============================] - 7s 15ms/step - loss: 0.9053 - accuracy: 0.6511 - balanced_acc: 0.6473 - val_loss: 0.9407 - val_accuracy: 0.5803 - val_balanced_acc: 0.2897 - lr: 1.2500e-04\n",
            "Epoch 28/1000\n",
            "439/440 [============================>.] - ETA: 0s - loss: 0.8992 - accuracy: 0.6557 - balanced_acc: 0.6502\n",
            "Epoch 28: val_balanced_acc did not improve from 0.36466\n",
            "440/440 [==============================] - 7s 15ms/step - loss: 0.8994 - accuracy: 0.6555 - balanced_acc: 0.6499 - val_loss: 0.9086 - val_accuracy: 0.6062 - val_balanced_acc: 0.2772 - lr: 1.2500e-04\n",
            "Epoch 29/1000\n",
            "440/440 [==============================] - ETA: 0s - loss: 0.8943 - accuracy: 0.6587 - balanced_acc: 0.6550\n",
            "Epoch 29: val_balanced_acc did not improve from 0.36466\n",
            "440/440 [==============================] - 7s 15ms/step - loss: 0.8943 - accuracy: 0.6587 - balanced_acc: 0.6550 - val_loss: 0.9461 - val_accuracy: 0.6166 - val_balanced_acc: 0.3600 - lr: 1.2500e-04\n",
            "Epoch 30/1000\n",
            "439/440 [============================>.] - ETA: 0s - loss: 0.8985 - accuracy: 0.6557 - balanced_acc: 0.6459\n",
            "Epoch 30: val_balanced_acc did not improve from 0.36466\n",
            "440/440 [==============================] - 7s 15ms/step - loss: 0.8985 - accuracy: 0.6558 - balanced_acc: 0.6460 - val_loss: 0.8875 - val_accuracy: 0.6114 - val_balanced_acc: 0.3079 - lr: 1.2500e-04\n",
            "Epoch 31/1000\n",
            "438/440 [============================>.] - ETA: 0s - loss: 0.8908 - accuracy: 0.6617 - balanced_acc: 0.6588\n",
            "Epoch 31: val_balanced_acc did not improve from 0.36466\n",
            "440/440 [==============================] - 7s 15ms/step - loss: 0.8903 - accuracy: 0.6619 - balanced_acc: 0.6589 - val_loss: 0.9649 - val_accuracy: 0.6010 - val_balanced_acc: 0.3214 - lr: 1.2500e-04\n",
            "Epoch 32/1000\n",
            "439/440 [============================>.] - ETA: 0s - loss: 0.8922 - accuracy: 0.6572 - balanced_acc: 0.6559\n",
            "Epoch 32: val_balanced_acc did not improve from 0.36466\n",
            "440/440 [==============================] - 7s 15ms/step - loss: 0.8918 - accuracy: 0.6575 - balanced_acc: 0.6559 - val_loss: 0.9295 - val_accuracy: 0.5907 - val_balanced_acc: 0.2715 - lr: 1.2500e-04\n",
            "Epoch 33/1000\n",
            "439/440 [============================>.] - ETA: 0s - loss: 0.8908 - accuracy: 0.6562 - balanced_acc: 0.6523\n",
            "Epoch 33: val_balanced_acc did not improve from 0.36466\n",
            "440/440 [==============================] - 7s 15ms/step - loss: 0.8910 - accuracy: 0.6562 - balanced_acc: 0.6522 - val_loss: 0.9475 - val_accuracy: 0.6010 - val_balanced_acc: 0.2884 - lr: 1.2500e-04\n",
            "Epoch 34/1000\n",
            "439/440 [============================>.] - ETA: 0s - loss: 0.8827 - accuracy: 0.6617 - balanced_acc: 0.6551\n",
            "Epoch 34: val_balanced_acc did not improve from 0.36466\n",
            "440/440 [==============================] - 7s 15ms/step - loss: 0.8833 - accuracy: 0.6613 - balanced_acc: 0.6548 - val_loss: 0.9182 - val_accuracy: 0.6166 - val_balanced_acc: 0.2833 - lr: 1.2500e-04\n",
            "Epoch 35/1000\n",
            "440/440 [==============================] - ETA: 0s - loss: 0.8769 - accuracy: 0.6660 - balanced_acc: 0.6648\n",
            "Epoch 35: val_balanced_acc did not improve from 0.36466\n",
            "440/440 [==============================] - 7s 15ms/step - loss: 0.8769 - accuracy: 0.6660 - balanced_acc: 0.6648 - val_loss: 0.9943 - val_accuracy: 0.5699 - val_balanced_acc: 0.2525 - lr: 1.2500e-04\n",
            "Epoch 36/1000\n",
            "438/440 [============================>.] - ETA: 0s - loss: 0.8842 - accuracy: 0.6660 - balanced_acc: 0.6647\n",
            "Epoch 36: val_balanced_acc did not improve from 0.36466\n",
            "440/440 [==============================] - 7s 15ms/step - loss: 0.8840 - accuracy: 0.6663 - balanced_acc: 0.6651 - val_loss: 0.9613 - val_accuracy: 0.5907 - val_balanced_acc: 0.2847 - lr: 1.2500e-04\n",
            "Epoch 37/1000\n",
            "439/440 [============================>.] - ETA: 0s - loss: 0.8694 - accuracy: 0.6697 - balanced_acc: 0.6637\n",
            "Epoch 37: val_balanced_acc did not improve from 0.36466\n",
            "440/440 [==============================] - 7s 15ms/step - loss: 0.8693 - accuracy: 0.6697 - balanced_acc: 0.6636 - val_loss: 0.9799 - val_accuracy: 0.5855 - val_balanced_acc: 0.3318 - lr: 6.2500e-05\n",
            "Epoch 38/1000\n",
            "437/440 [============================>.] - ETA: 0s - loss: 0.8804 - accuracy: 0.6655 - balanced_acc: 0.6620\n",
            "Epoch 38: val_balanced_acc did not improve from 0.36466\n",
            "440/440 [==============================] - 7s 15ms/step - loss: 0.8802 - accuracy: 0.6656 - balanced_acc: 0.6618 - val_loss: 0.9495 - val_accuracy: 0.5907 - val_balanced_acc: 0.2994 - lr: 6.2500e-05\n"
          ]
        }
      ],
      "source": [
        "#Training\n",
        "input_shape = X_train.shape[1:]\n",
        "input_tensor = Input(shape=(IMAGE_H, IMAGE_W, 3))\n",
        "x = data_augmentation(input_tensor)\n",
        "#x = rescale_layer(x)\n",
        "\n",
        "base_model = ResNet50(input_shape=input_shape, weights='imagenet', include_top=False)\n",
        "x = base_model(x)\n",
        "x = Flatten()(x)\n",
        "x = Dense(128, activation='relu')(x)\n",
        "predictions = Dense(7, activation='softmax')(x)\n",
        "model = Model(inputs=input_tensor, outputs=predictions)\n",
        "\n",
        "for layer in base_model.layers:\n",
        "    layer.trainable = False\n",
        "\n",
        "model.compile(optimizer = optimizer , loss = \"categorical_crossentropy\", metrics=['accuracy', balanced_acc])\n",
        "#hst = model.fit(dataaugment.flow(X_train,y_train, batch_size=BATCH_SIZE),\n",
        "hst = model.fit(train_data_batches,\n",
        "                    epochs = EPOCHS, validation_data = valid_data_batches,      \n",
        "                    #steps_per_epoch=X_train.shape[0] // BATCH_SIZE, \n",
        "                    callbacks=[learning_rate_reduction,early_stopping_monitor, mc])\n"
      ]
    },
    {
      "cell_type": "code",
      "execution_count": null,
      "metadata": {
        "id": "vXnW3lmCgln3",
        "colab": {
          "base_uri": "https://localhost:8080/",
          "height": 295
        },
        "outputId": "a2a6018b-3d12-4f48-89c1-1e17dc8dfadc"
      },
      "outputs": [
        {
          "output_type": "display_data",
          "data": {
            "text/plain": [
              "<Figure size 432x288 with 1 Axes>"
            ],
            "image/png": "[encoded data removed]"
          },
          "metadata": {
            "needs_background": "light"
          }
        }
      ],
      "source": [
        "# summarize history for accuracy\n",
        "plt.plot(hst.history['balanced_acc'])\n",
        "plt.plot(hst.history['val_balanced_acc'])\n",
        "plt.title('Model balanced accuracy')\n",
        "plt.ylabel('Balanced Accuracy')\n",
        "plt.xlabel('epoch')\n",
        "plt.legend(['train', 'val'], loc='upper left')\n",
        "plt.show()"
      ]
    },
    {
      "cell_type": "markdown",
      "metadata": {
        "id": "B2PgksTFkOAq"
      },
      "source": [
        "#Fine Tune"
      ]
    },
    {
      "cell_type": "code",
      "execution_count": null,
      "metadata": {
        "id": "Nr1jnSM7yzJc",
        "colab": {
          "base_uri": "https://localhost:8080/"
        },
        "outputId": "3a329686-3810-47b3-b3b1-6fa42f43e3d1"
      },
      "outputs": [
        {
          "output_type": "stream",
          "name": "stdout",
          "text": [
            "Epoch 1/1000\n",
            "440/440 [==============================] - ETA: 0s - loss: 0.8765 - accuracy: 0.6671 - balanced_acc: 0.6607\n",
            "Epoch 1: val_balanced_acc did not improve from 0.36466\n",
            "440/440 [==============================] - 11s 18ms/step - loss: 0.8765 - accuracy: 0.6671 - balanced_acc: 0.6607 - val_loss: 0.9495 - val_accuracy: 0.5907 - val_balanced_acc: 0.3475 - lr: 1.0000e-04\n",
            "Epoch 2/1000\n",
            "439/440 [============================>.] - ETA: 0s - loss: 0.8725 - accuracy: 0.6637 - balanced_acc: 0.6569\n",
            "Epoch 2: val_balanced_acc did not improve from 0.36466\n",
            "440/440 [==============================] - 7s 15ms/step - loss: 0.8729 - accuracy: 0.6636 - balanced_acc: 0.6569 - val_loss: 0.9495 - val_accuracy: 0.5907 - val_balanced_acc: 0.2918 - lr: 1.0000e-04\n",
            "Epoch 3/1000\n",
            "438/440 [============================>.] - ETA: 0s - loss: 0.8665 - accuracy: 0.6659 - balanced_acc: 0.6602\n",
            "Epoch 3: val_balanced_acc did not improve from 0.36466\n",
            "440/440 [==============================] - 7s 15ms/step - loss: 0.8668 - accuracy: 0.6658 - balanced_acc: 0.6599 - val_loss: 0.9495 - val_accuracy: 0.5907 - val_balanced_acc: 0.3231 - lr: 1.0000e-04\n",
            "Epoch 4/1000\n",
            "440/440 [==============================] - ETA: 0s - loss: 0.8714 - accuracy: 0.6665 - balanced_acc: 0.6573\n",
            "Epoch 4: val_balanced_acc did not improve from 0.36466\n",
            "440/440 [==============================] - 7s 15ms/step - loss: 0.8714 - accuracy: 0.6665 - balanced_acc: 0.6573 - val_loss: 0.9495 - val_accuracy: 0.5907 - val_balanced_acc: 0.3332 - lr: 1.0000e-04\n",
            "Epoch 5/1000\n",
            "438/440 [============================>.] - ETA: 0s - loss: 0.8767 - accuracy: 0.6660 - balanced_acc: 0.6624\n",
            "Epoch 5: val_balanced_acc did not improve from 0.36466\n",
            "440/440 [==============================] - 7s 15ms/step - loss: 0.8760 - accuracy: 0.6662 - balanced_acc: 0.6626 - val_loss: 0.9495 - val_accuracy: 0.5907 - val_balanced_acc: 0.3249 - lr: 1.0000e-04\n",
            "Epoch 6/1000\n",
            "437/440 [============================>.] - ETA: 0s - loss: 0.8739 - accuracy: 0.6649 - balanced_acc: 0.6608\n",
            "Epoch 6: val_balanced_acc did not improve from 0.36466\n",
            "440/440 [==============================] - 7s 15ms/step - loss: 0.8741 - accuracy: 0.6649 - balanced_acc: 0.6611 - val_loss: 0.9495 - val_accuracy: 0.5907 - val_balanced_acc: 0.3046 - lr: 1.0000e-04\n",
            "Epoch 7/1000\n",
            "438/440 [============================>.] - ETA: 0s - loss: 0.8761 - accuracy: 0.6664 - balanced_acc: 0.6630\n",
            "Epoch 7: val_balanced_acc did not improve from 0.36466\n",
            "440/440 [==============================] - 7s 15ms/step - loss: 0.8761 - accuracy: 0.6661 - balanced_acc: 0.6627 - val_loss: 0.9495 - val_accuracy: 0.5907 - val_balanced_acc: 0.2934 - lr: 1.0000e-04\n",
            "Epoch 8/1000\n",
            "439/440 [============================>.] - ETA: 0s - loss: 0.8589 - accuracy: 0.6743 - balanced_acc: 0.6724\n",
            "Epoch 8: val_balanced_acc did not improve from 0.36466\n",
            "440/440 [==============================] - 7s 15ms/step - loss: 0.8591 - accuracy: 0.6744 - balanced_acc: 0.6727 - val_loss: 0.9495 - val_accuracy: 0.5907 - val_balanced_acc: 0.3403 - lr: 1.0000e-04\n",
            "Epoch 9/1000\n",
            "439/440 [============================>.] - ETA: 0s - loss: 0.8685 - accuracy: 0.6720 - balanced_acc: 0.6656\n",
            "Epoch 9: val_balanced_acc did not improve from 0.36466\n",
            "440/440 [==============================] - 7s 15ms/step - loss: 0.8684 - accuracy: 0.6721 - balanced_acc: 0.6657 - val_loss: 0.9495 - val_accuracy: 0.5907 - val_balanced_acc: 0.3209 - lr: 1.0000e-04\n",
            "Epoch 10/1000\n",
            "440/440 [==============================] - ETA: 0s - loss: 0.8653 - accuracy: 0.6696 - balanced_acc: 0.6653\n",
            "Epoch 10: val_balanced_acc did not improve from 0.36466\n",
            "440/440 [==============================] - 7s 15ms/step - loss: 0.8653 - accuracy: 0.6696 - balanced_acc: 0.6653 - val_loss: 0.9495 - val_accuracy: 0.5907 - val_balanced_acc: 0.3191 - lr: 1.0000e-04\n",
            "Epoch 11/1000\n",
            "437/440 [============================>.] - ETA: 0s - loss: 0.8768 - accuracy: 0.6666 - balanced_acc: 0.6589\n",
            "Epoch 11: val_balanced_acc did not improve from 0.36466\n",
            "440/440 [==============================] - 7s 15ms/step - loss: 0.8753 - accuracy: 0.6671 - balanced_acc: 0.6593 - val_loss: 0.9495 - val_accuracy: 0.5907 - val_balanced_acc: 0.2794 - lr: 1.0000e-04\n",
            "Epoch 12/1000\n",
            "440/440 [==============================] - ETA: 0s - loss: 0.8747 - accuracy: 0.6651 - balanced_acc: 0.6621\n",
            "Epoch 12: val_balanced_acc did not improve from 0.36466\n",
            "440/440 [==============================] - 7s 15ms/step - loss: 0.8747 - accuracy: 0.6651 - balanced_acc: 0.6621 - val_loss: 0.9495 - val_accuracy: 0.5907 - val_balanced_acc: 0.3260 - lr: 5.0000e-05\n",
            "Epoch 13/1000\n",
            "440/440 [==============================] - ETA: 0s - loss: 0.8648 - accuracy: 0.6710 - balanced_acc: 0.6651\n",
            "Epoch 13: val_balanced_acc did not improve from 0.36466\n",
            "440/440 [==============================] - 7s 15ms/step - loss: 0.8648 - accuracy: 0.6710 - balanced_acc: 0.6651 - val_loss: 0.9495 - val_accuracy: 0.5907 - val_balanced_acc: 0.2897 - lr: 5.0000e-05\n",
            "Epoch 14/1000\n",
            "439/440 [============================>.] - ETA: 0s - loss: 0.8610 - accuracy: 0.6693 - balanced_acc: 0.6609\n",
            "Epoch 14: val_balanced_acc did not improve from 0.36466\n",
            "440/440 [==============================] - 7s 15ms/step - loss: 0.8616 - accuracy: 0.6693 - balanced_acc: 0.6611 - val_loss: 0.9495 - val_accuracy: 0.5907 - val_balanced_acc: 0.3074 - lr: 5.0000e-05\n",
            "Epoch 15/1000\n",
            "437/440 [============================>.] - ETA: 0s - loss: 0.8690 - accuracy: 0.6685 - balanced_acc: 0.6625\n",
            "Epoch 15: val_balanced_acc did not improve from 0.36466\n",
            "440/440 [==============================] - 7s 16ms/step - loss: 0.8690 - accuracy: 0.6688 - balanced_acc: 0.6628 - val_loss: 0.9495 - val_accuracy: 0.5907 - val_balanced_acc: 0.3026 - lr: 5.0000e-05\n",
            "Epoch 16/1000\n",
            "440/440 [==============================] - ETA: 0s - loss: 0.8672 - accuracy: 0.6715 - balanced_acc: 0.6694\n",
            "Epoch 16: val_balanced_acc did not improve from 0.36466\n",
            "440/440 [==============================] - 7s 15ms/step - loss: 0.8672 - accuracy: 0.6715 - balanced_acc: 0.6694 - val_loss: 0.9495 - val_accuracy: 0.5907 - val_balanced_acc: 0.3335 - lr: 5.0000e-05\n",
            "Epoch 17/1000\n",
            "440/440 [==============================] - ETA: 0s - loss: 0.8738 - accuracy: 0.6683 - balanced_acc: 0.6666\n",
            "Epoch 17: val_balanced_acc did not improve from 0.36466\n",
            "440/440 [==============================] - 7s 15ms/step - loss: 0.8738 - accuracy: 0.6683 - balanced_acc: 0.6666 - val_loss: 0.9495 - val_accuracy: 0.5907 - val_balanced_acc: 0.3151 - lr: 5.0000e-05\n",
            "Epoch 18/1000\n",
            "440/440 [==============================] - ETA: 0s - loss: 0.8719 - accuracy: 0.6658 - balanced_acc: 0.6612\n",
            "Epoch 18: val_balanced_acc did not improve from 0.36466\n",
            "440/440 [==============================] - 7s 15ms/step - loss: 0.8719 - accuracy: 0.6658 - balanced_acc: 0.6612 - val_loss: 0.9495 - val_accuracy: 0.5907 - val_balanced_acc: 0.3041 - lr: 5.0000e-05\n",
            "Epoch 19/1000\n",
            "440/440 [==============================] - ETA: 0s - loss: 0.8776 - accuracy: 0.6629 - balanced_acc: 0.6572\n",
            "Epoch 19: val_balanced_acc did not improve from 0.36466\n",
            "440/440 [==============================] - 7s 15ms/step - loss: 0.8776 - accuracy: 0.6629 - balanced_acc: 0.6572 - val_loss: 0.9495 - val_accuracy: 0.5907 - val_balanced_acc: 0.3331 - lr: 5.0000e-05\n",
            "Epoch 20/1000\n",
            "439/440 [============================>.] - ETA: 0s - loss: 0.8865 - accuracy: 0.6637 - balanced_acc: 0.6618\n",
            "Epoch 20: val_balanced_acc did not improve from 0.36466\n",
            "440/440 [==============================] - 7s 15ms/step - loss: 0.8869 - accuracy: 0.6636 - balanced_acc: 0.6617 - val_loss: 0.9495 - val_accuracy: 0.5907 - val_balanced_acc: 0.3290 - lr: 5.0000e-05\n",
            "Epoch 21/1000\n",
            "440/440 [==============================] - ETA: 0s - loss: 0.8625 - accuracy: 0.6703 - balanced_acc: 0.6663\n",
            "Epoch 21: val_balanced_acc did not improve from 0.36466\n",
            "440/440 [==============================] - 7s 15ms/step - loss: 0.8625 - accuracy: 0.6703 - balanced_acc: 0.6663 - val_loss: 0.9495 - val_accuracy: 0.5907 - val_balanced_acc: 0.2763 - lr: 5.0000e-05\n",
            "Epoch 22/1000\n",
            "438/440 [============================>.] - ETA: 0s - loss: 0.8619 - accuracy: 0.6692 - balanced_acc: 0.6587\n",
            "Epoch 22: val_balanced_acc did not improve from 0.36466\n",
            "440/440 [==============================] - 7s 15ms/step - loss: 0.8624 - accuracy: 0.6688 - balanced_acc: 0.6586 - val_loss: 0.9495 - val_accuracy: 0.5907 - val_balanced_acc: 0.3230 - lr: 2.5000e-05\n",
            "Epoch 23/1000\n",
            "440/440 [==============================] - ETA: 0s - loss: 0.8850 - accuracy: 0.6588 - balanced_acc: 0.6545\n",
            "Epoch 23: val_balanced_acc did not improve from 0.36466\n",
            "440/440 [==============================] - 7s 15ms/step - loss: 0.8850 - accuracy: 0.6588 - balanced_acc: 0.6545 - val_loss: 0.9495 - val_accuracy: 0.5907 - val_balanced_acc: 0.3165 - lr: 2.5000e-05\n",
            "Epoch 24/1000\n",
            "437/440 [============================>.] - ETA: 0s - loss: 0.8774 - accuracy: 0.6670 - balanced_acc: 0.6607\n",
            "Epoch 24: val_balanced_acc did not improve from 0.36466\n",
            "440/440 [==============================] - 7s 15ms/step - loss: 0.8777 - accuracy: 0.6670 - balanced_acc: 0.6605 - val_loss: 0.9495 - val_accuracy: 0.5907 - val_balanced_acc: 0.3133 - lr: 2.5000e-05\n",
            "Epoch 25/1000\n",
            "438/440 [============================>.] - ETA: 0s - loss: 0.8713 - accuracy: 0.6707 - balanced_acc: 0.6641\n",
            "Epoch 25: val_balanced_acc did not improve from 0.36466\n",
            "440/440 [==============================] - 7s 15ms/step - loss: 0.8715 - accuracy: 0.6702 - balanced_acc: 0.6639 - val_loss: 0.9495 - val_accuracy: 0.5907 - val_balanced_acc: 0.3032 - lr: 2.5000e-05\n",
            "Epoch 26/1000\n",
            "440/440 [==============================] - ETA: 0s - loss: 0.8730 - accuracy: 0.6681 - balanced_acc: 0.6677\n",
            "Epoch 26: val_balanced_acc did not improve from 0.36466\n",
            "440/440 [==============================] - 7s 15ms/step - loss: 0.8730 - accuracy: 0.6681 - balanced_acc: 0.6677 - val_loss: 0.9495 - val_accuracy: 0.5907 - val_balanced_acc: 0.3499 - lr: 2.5000e-05\n",
            "Epoch 27/1000\n",
            "440/440 [==============================] - ETA: 0s - loss: 0.8759 - accuracy: 0.6573 - balanced_acc: 0.6567\n",
            "Epoch 27: val_balanced_acc did not improve from 0.36466\n",
            "440/440 [==============================] - 7s 15ms/step - loss: 0.8759 - accuracy: 0.6573 - balanced_acc: 0.6567 - val_loss: 0.9495 - val_accuracy: 0.5907 - val_balanced_acc: 0.3546 - lr: 2.5000e-05\n",
            "Epoch 28/1000\n",
            "440/440 [==============================] - ETA: 0s - loss: 0.8791 - accuracy: 0.6677 - balanced_acc: 0.6613\n",
            "Epoch 28: val_balanced_acc did not improve from 0.36466\n",
            "440/440 [==============================] - 7s 15ms/step - loss: 0.8791 - accuracy: 0.6677 - balanced_acc: 0.6613 - val_loss: 0.9495 - val_accuracy: 0.5907 - val_balanced_acc: 0.2946 - lr: 2.5000e-05\n",
            "Epoch 29/1000\n",
            "438/440 [============================>.] - ETA: 0s - loss: 0.8734 - accuracy: 0.6681 - balanced_acc: 0.6653\n",
            "Epoch 29: val_balanced_acc did not improve from 0.36466\n",
            "440/440 [==============================] - 7s 15ms/step - loss: 0.8734 - accuracy: 0.6682 - balanced_acc: 0.6654 - val_loss: 0.9495 - val_accuracy: 0.5907 - val_balanced_acc: 0.3103 - lr: 2.5000e-05\n",
            "Epoch 30/1000\n",
            "437/440 [============================>.] - ETA: 0s - loss: 0.8773 - accuracy: 0.6665 - balanced_acc: 0.6600\n",
            "Epoch 30: val_balanced_acc did not improve from 0.36466\n",
            "440/440 [==============================] - 7s 15ms/step - loss: 0.8772 - accuracy: 0.6662 - balanced_acc: 0.6596 - val_loss: 0.9495 - val_accuracy: 0.5907 - val_balanced_acc: 0.3054 - lr: 2.5000e-05\n",
            "Epoch 31/1000\n",
            "440/440 [==============================] - ETA: 0s - loss: 0.8757 - accuracy: 0.6663 - balanced_acc: 0.6591\n",
            "Epoch 31: val_balanced_acc did not improve from 0.36466\n",
            "440/440 [==============================] - 7s 15ms/step - loss: 0.8757 - accuracy: 0.6663 - balanced_acc: 0.6591 - val_loss: 0.9495 - val_accuracy: 0.5907 - val_balanced_acc: 0.3097 - lr: 2.5000e-05\n",
            "Epoch 32/1000\n",
            "440/440 [==============================] - ETA: 0s - loss: 0.8658 - accuracy: 0.6674 - balanced_acc: 0.6627\n",
            "Epoch 32: val_balanced_acc did not improve from 0.36466\n",
            "440/440 [==============================] - 7s 15ms/step - loss: 0.8658 - accuracy: 0.6674 - balanced_acc: 0.6627 - val_loss: 0.9495 - val_accuracy: 0.5907 - val_balanced_acc: 0.3083 - lr: 1.2500e-05\n",
            "Epoch 33/1000\n",
            "437/440 [============================>.] - ETA: 0s - loss: 0.8735 - accuracy: 0.6633 - balanced_acc: 0.6581\n",
            "Epoch 33: val_balanced_acc did not improve from 0.36466\n",
            "440/440 [==============================] - 7s 15ms/step - loss: 0.8737 - accuracy: 0.6633 - balanced_acc: 0.6582 - val_loss: 0.9495 - val_accuracy: 0.5907 - val_balanced_acc: 0.2838 - lr: 1.2500e-05\n",
            "Epoch 34/1000\n",
            "437/440 [============================>.] - ETA: 0s - loss: 0.8721 - accuracy: 0.6659 - balanced_acc: 0.6649\n",
            "Epoch 34: val_balanced_acc did not improve from 0.36466\n",
            "440/440 [==============================] - 7s 15ms/step - loss: 0.8719 - accuracy: 0.6662 - balanced_acc: 0.6650 - val_loss: 0.9495 - val_accuracy: 0.5907 - val_balanced_acc: 0.2918 - lr: 1.2500e-05\n",
            "Epoch 35/1000\n",
            "438/440 [============================>.] - ETA: 0s - loss: 0.8696 - accuracy: 0.6617 - balanced_acc: 0.6557\n",
            "Epoch 35: val_balanced_acc did not improve from 0.36466\n",
            "440/440 [==============================] - 7s 15ms/step - loss: 0.8696 - accuracy: 0.6616 - balanced_acc: 0.6555 - val_loss: 0.9495 - val_accuracy: 0.5907 - val_balanced_acc: 0.3241 - lr: 1.2500e-05\n",
            "Epoch 36/1000\n",
            "439/440 [============================>.] - ETA: 0s - loss: 0.8785 - accuracy: 0.6655 - balanced_acc: 0.6590\n",
            "Epoch 36: val_balanced_acc did not improve from 0.36466\n",
            "440/440 [==============================] - 7s 15ms/step - loss: 0.8788 - accuracy: 0.6654 - balanced_acc: 0.6588 - val_loss: 0.9495 - val_accuracy: 0.5907 - val_balanced_acc: 0.2889 - lr: 1.2500e-05\n",
            "Epoch 37/1000\n",
            "439/440 [============================>.] - ETA: 0s - loss: 0.8718 - accuracy: 0.6668 - balanced_acc: 0.6629\n",
            "Epoch 37: val_balanced_acc did not improve from 0.36466\n",
            "440/440 [==============================] - 7s 16ms/step - loss: 0.8715 - accuracy: 0.6670 - balanced_acc: 0.6629 - val_loss: 0.9495 - val_accuracy: 0.5907 - val_balanced_acc: 0.3227 - lr: 1.2500e-05\n",
            "Epoch 38/1000\n",
            "437/440 [============================>.] - ETA: 0s - loss: 0.8649 - accuracy: 0.6711 - balanced_acc: 0.6636\n",
            "Epoch 38: val_balanced_acc did not improve from 0.36466\n",
            "440/440 [==============================] - 7s 15ms/step - loss: 0.8646 - accuracy: 0.6712 - balanced_acc: 0.6634 - val_loss: 0.9495 - val_accuracy: 0.5907 - val_balanced_acc: 0.2956 - lr: 1.2500e-05\n",
            "Epoch 39/1000\n",
            "437/440 [============================>.] - ETA: 0s - loss: 0.8733 - accuracy: 0.6678 - balanced_acc: 0.6623\n",
            "Epoch 39: val_balanced_acc did not improve from 0.36466\n",
            "440/440 [==============================] - 7s 15ms/step - loss: 0.8735 - accuracy: 0.6676 - balanced_acc: 0.6619 - val_loss: 0.9495 - val_accuracy: 0.5907 - val_balanced_acc: 0.2820 - lr: 1.2500e-05\n",
            "Epoch 40/1000\n",
            "439/440 [============================>.] - ETA: 0s - loss: 0.8735 - accuracy: 0.6714 - balanced_acc: 0.6646\n",
            "Epoch 40: val_balanced_acc did not improve from 0.36466\n",
            "440/440 [==============================] - 7s 15ms/step - loss: 0.8740 - accuracy: 0.6711 - balanced_acc: 0.6643 - val_loss: 0.9495 - val_accuracy: 0.5907 - val_balanced_acc: 0.3542 - lr: 1.2500e-05\n",
            "Epoch 41/1000\n",
            "438/440 [============================>.] - ETA: 0s - loss: 0.8767 - accuracy: 0.6657 - balanced_acc: 0.6629\n",
            "Epoch 41: val_balanced_acc did not improve from 0.36466\n",
            "440/440 [==============================] - 7s 15ms/step - loss: 0.8761 - accuracy: 0.6660 - balanced_acc: 0.6631 - val_loss: 0.9495 - val_accuracy: 0.5907 - val_balanced_acc: 0.2994 - lr: 1.2500e-05\n",
            "Epoch 42/1000\n",
            "438/440 [============================>.] - ETA: 0s - loss: 0.8690 - accuracy: 0.6685 - balanced_acc: 0.6637\n",
            "Epoch 42: val_balanced_acc did not improve from 0.36466\n",
            "440/440 [==============================] - 7s 15ms/step - loss: 0.8689 - accuracy: 0.6685 - balanced_acc: 0.6637 - val_loss: 0.9495 - val_accuracy: 0.5907 - val_balanced_acc: 0.3085 - lr: 1.0000e-05\n",
            "Epoch 43/1000\n",
            "439/440 [============================>.] - ETA: 0s - loss: 0.8649 - accuracy: 0.6649 - balanced_acc: 0.6620\n",
            "Epoch 43: val_balanced_acc improved from 0.36466 to 0.37920, saving model to /content/drive/MyDrive/PHD/Model/best_model_SMOTE.h5\n",
            "440/440 [==============================] - 9s 19ms/step - loss: 0.8652 - accuracy: 0.6648 - balanced_acc: 0.6618 - val_loss: 0.9495 - val_accuracy: 0.5907 - val_balanced_acc: 0.3792 - lr: 1.0000e-05\n",
            "Epoch 44/1000\n",
            "437/440 [============================>.] - ETA: 0s - loss: 0.8665 - accuracy: 0.6668 - balanced_acc: 0.6589\n",
            "Epoch 44: val_balanced_acc improved from 0.37920 to 0.41356, saving model to /content/drive/MyDrive/PHD/Model/best_model_SMOTE.h5\n",
            "440/440 [==============================] - 7s 16ms/step - loss: 0.8672 - accuracy: 0.6670 - balanced_acc: 0.6593 - val_loss: 0.9495 - val_accuracy: 0.5907 - val_balanced_acc: 0.4136 - lr: 1.0000e-05\n",
            "Epoch 45/1000\n",
            "439/440 [============================>.] - ETA: 0s - loss: 0.8656 - accuracy: 0.6696 - balanced_acc: 0.6649\n",
            "Epoch 45: val_balanced_acc did not improve from 0.41356\n",
            "440/440 [==============================] - 7s 15ms/step - loss: 0.8659 - accuracy: 0.6697 - balanced_acc: 0.6650 - val_loss: 0.9495 - val_accuracy: 0.5907 - val_balanced_acc: 0.3130 - lr: 1.0000e-05\n",
            "Epoch 46/1000\n",
            "439/440 [============================>.] - ETA: 0s - loss: 0.8660 - accuracy: 0.6671 - balanced_acc: 0.6665\n",
            "Epoch 46: val_balanced_acc did not improve from 0.41356\n",
            "440/440 [==============================] - 7s 15ms/step - loss: 0.8662 - accuracy: 0.6670 - balanced_acc: 0.6665 - val_loss: 0.9495 - val_accuracy: 0.5907 - val_balanced_acc: 0.2750 - lr: 1.0000e-05\n",
            "Epoch 47/1000\n",
            "439/440 [============================>.] - ETA: 0s - loss: 0.8644 - accuracy: 0.6706 - balanced_acc: 0.6646\n",
            "Epoch 47: val_balanced_acc did not improve from 0.41356\n",
            "440/440 [==============================] - 7s 15ms/step - loss: 0.8651 - accuracy: 0.6705 - balanced_acc: 0.6642 - val_loss: 0.9495 - val_accuracy: 0.5907 - val_balanced_acc: 0.3131 - lr: 1.0000e-05\n",
            "Epoch 48/1000\n",
            "439/440 [============================>.] - ETA: 0s - loss: 0.8717 - accuracy: 0.6657 - balanced_acc: 0.6595\n",
            "Epoch 48: val_balanced_acc did not improve from 0.41356\n",
            "440/440 [==============================] - 7s 15ms/step - loss: 0.8715 - accuracy: 0.6658 - balanced_acc: 0.6596 - val_loss: 0.9495 - val_accuracy: 0.5907 - val_balanced_acc: 0.2982 - lr: 1.0000e-05\n",
            "Epoch 49/1000\n",
            "439/440 [============================>.] - ETA: 0s - loss: 0.8721 - accuracy: 0.6668 - balanced_acc: 0.6596\n",
            "Epoch 49: val_balanced_acc did not improve from 0.41356\n",
            "440/440 [==============================] - 7s 15ms/step - loss: 0.8722 - accuracy: 0.6668 - balanced_acc: 0.6597 - val_loss: 0.9495 - val_accuracy: 0.5907 - val_balanced_acc: 0.3278 - lr: 1.0000e-05\n",
            "Epoch 50/1000\n",
            "437/440 [============================>.] - ETA: 0s - loss: 0.8684 - accuracy: 0.6674 - balanced_acc: 0.6600\n",
            "Epoch 50: val_balanced_acc did not improve from 0.41356\n",
            "440/440 [==============================] - 7s 15ms/step - loss: 0.8682 - accuracy: 0.6675 - balanced_acc: 0.6603 - val_loss: 0.9495 - val_accuracy: 0.5907 - val_balanced_acc: 0.3467 - lr: 1.0000e-05\n",
            "Epoch 51/1000\n",
            "438/440 [============================>.] - ETA: 0s - loss: 0.8788 - accuracy: 0.6630 - balanced_acc: 0.6621\n",
            "Epoch 51: val_balanced_acc did not improve from 0.41356\n",
            "440/440 [==============================] - 7s 15ms/step - loss: 0.8780 - accuracy: 0.6633 - balanced_acc: 0.6625 - val_loss: 0.9495 - val_accuracy: 0.5907 - val_balanced_acc: 0.3292 - lr: 1.0000e-05\n",
            "Epoch 52/1000\n",
            "440/440 [==============================] - ETA: 0s - loss: 0.8787 - accuracy: 0.6643 - balanced_acc: 0.6595\n",
            "Epoch 52: val_balanced_acc did not improve from 0.41356\n",
            "440/440 [==============================] - 7s 15ms/step - loss: 0.8787 - accuracy: 0.6643 - balanced_acc: 0.6595 - val_loss: 0.9495 - val_accuracy: 0.5907 - val_balanced_acc: 0.3350 - lr: 1.0000e-05\n",
            "Epoch 53/1000\n",
            "439/440 [============================>.] - ETA: 0s - loss: 0.8769 - accuracy: 0.6679 - balanced_acc: 0.6624\n",
            "Epoch 53: val_balanced_acc did not improve from 0.41356\n",
            "440/440 [==============================] - 7s 15ms/step - loss: 0.8767 - accuracy: 0.6679 - balanced_acc: 0.6625 - val_loss: 0.9495 - val_accuracy: 0.5907 - val_balanced_acc: 0.3243 - lr: 1.0000e-05\n",
            "Epoch 54/1000\n",
            "437/440 [============================>.] - ETA: 0s - loss: 0.8785 - accuracy: 0.6617 - balanced_acc: 0.6554\n",
            "Epoch 54: val_balanced_acc did not improve from 0.41356\n",
            "440/440 [==============================] - 7s 15ms/step - loss: 0.8781 - accuracy: 0.6619 - balanced_acc: 0.6557 - val_loss: 0.9495 - val_accuracy: 0.5907 - val_balanced_acc: 0.3197 - lr: 1.0000e-05\n",
            "Epoch 55/1000\n",
            "437/440 [============================>.] - ETA: 0s - loss: 0.8733 - accuracy: 0.6635 - balanced_acc: 0.6598\n",
            "Epoch 55: val_balanced_acc improved from 0.41356 to 0.42176, saving model to /content/drive/MyDrive/PHD/Model/best_model_SMOTE.h5\n",
            "440/440 [==============================] - 8s 18ms/step - loss: 0.8726 - accuracy: 0.6637 - balanced_acc: 0.6602 - val_loss: 0.9495 - val_accuracy: 0.5907 - val_balanced_acc: 0.4218 - lr: 1.0000e-05\n",
            "Epoch 56/1000\n",
            "438/440 [============================>.] - ETA: 0s - loss: 0.8549 - accuracy: 0.6702 - balanced_acc: 0.6665\n",
            "Epoch 56: val_balanced_acc did not improve from 0.42176\n",
            "440/440 [==============================] - 7s 15ms/step - loss: 0.8550 - accuracy: 0.6703 - balanced_acc: 0.6663 - val_loss: 0.9495 - val_accuracy: 0.5907 - val_balanced_acc: 0.2953 - lr: 1.0000e-05\n",
            "Epoch 57/1000\n",
            "437/440 [============================>.] - ETA: 0s - loss: 0.8762 - accuracy: 0.6644 - balanced_acc: 0.6595\n",
            "Epoch 57: val_balanced_acc did not improve from 0.42176\n",
            "440/440 [==============================] - 7s 15ms/step - loss: 0.8768 - accuracy: 0.6640 - balanced_acc: 0.6592 - val_loss: 0.9495 - val_accuracy: 0.5907 - val_balanced_acc: 0.3234 - lr: 1.0000e-05\n",
            "Epoch 58/1000\n",
            "440/440 [==============================] - ETA: 0s - loss: 0.8627 - accuracy: 0.6691 - balanced_acc: 0.6678\n",
            "Epoch 58: val_balanced_acc did not improve from 0.42176\n",
            "440/440 [==============================] - 7s 15ms/step - loss: 0.8627 - accuracy: 0.6691 - balanced_acc: 0.6678 - val_loss: 0.9495 - val_accuracy: 0.5907 - val_balanced_acc: 0.3242 - lr: 1.0000e-05\n",
            "Epoch 59/1000\n",
            "438/440 [============================>.] - ETA: 0s - loss: 0.8748 - accuracy: 0.6656 - balanced_acc: 0.6625\n",
            "Epoch 59: val_balanced_acc did not improve from 0.42176\n",
            "440/440 [==============================] - 7s 15ms/step - loss: 0.8753 - accuracy: 0.6653 - balanced_acc: 0.6622 - val_loss: 0.9495 - val_accuracy: 0.5907 - val_balanced_acc: 0.2736 - lr: 1.0000e-05\n",
            "Epoch 60/1000\n",
            "437/440 [============================>.] - ETA: 0s - loss: 0.8698 - accuracy: 0.6655 - balanced_acc: 0.6624\n",
            "Epoch 60: val_balanced_acc did not improve from 0.42176\n",
            "440/440 [==============================] - 7s 15ms/step - loss: 0.8695 - accuracy: 0.6656 - balanced_acc: 0.6626 - val_loss: 0.9495 - val_accuracy: 0.5907 - val_balanced_acc: 0.3102 - lr: 1.0000e-05\n",
            "Epoch 61/1000\n",
            "440/440 [==============================] - ETA: 0s - loss: 0.8775 - accuracy: 0.6619 - balanced_acc: 0.6583\n",
            "Epoch 61: val_balanced_acc did not improve from 0.42176\n",
            "440/440 [==============================] - 7s 15ms/step - loss: 0.8775 - accuracy: 0.6619 - balanced_acc: 0.6583 - val_loss: 0.9495 - val_accuracy: 0.5907 - val_balanced_acc: 0.3146 - lr: 1.0000e-05\n",
            "Epoch 62/1000\n",
            "437/440 [============================>.] - ETA: 0s - loss: 0.8676 - accuracy: 0.6728 - balanced_acc: 0.6677\n",
            "Epoch 62: val_balanced_acc did not improve from 0.42176\n",
            "440/440 [==============================] - 7s 15ms/step - loss: 0.8677 - accuracy: 0.6728 - balanced_acc: 0.6676 - val_loss: 0.9495 - val_accuracy: 0.5907 - val_balanced_acc: 0.3209 - lr: 1.0000e-05\n",
            "Epoch 63/1000\n",
            "438/440 [============================>.] - ETA: 0s - loss: 0.8733 - accuracy: 0.6616 - balanced_acc: 0.6599\n",
            "Epoch 63: val_balanced_acc did not improve from 0.42176\n",
            "440/440 [==============================] - 7s 15ms/step - loss: 0.8733 - accuracy: 0.6616 - balanced_acc: 0.6600 - val_loss: 0.9495 - val_accuracy: 0.5907 - val_balanced_acc: 0.2618 - lr: 1.0000e-05\n",
            "Epoch 64/1000\n",
            "440/440 [==============================] - ETA: 0s - loss: 0.8599 - accuracy: 0.6685 - balanced_acc: 0.6619\n",
            "Epoch 64: val_balanced_acc did not improve from 0.42176\n",
            "440/440 [==============================] - 7s 15ms/step - loss: 0.8599 - accuracy: 0.6685 - balanced_acc: 0.6619 - val_loss: 0.9495 - val_accuracy: 0.5907 - val_balanced_acc: 0.3086 - lr: 1.0000e-05\n",
            "Epoch 65/1000\n",
            "439/440 [============================>.] - ETA: 0s - loss: 0.8774 - accuracy: 0.6627 - balanced_acc: 0.6567\n",
            "Epoch 65: val_balanced_acc did not improve from 0.42176\n",
            "440/440 [==============================] - 7s 15ms/step - loss: 0.8769 - accuracy: 0.6628 - balanced_acc: 0.6569 - val_loss: 0.9495 - val_accuracy: 0.5907 - val_balanced_acc: 0.3188 - lr: 1.0000e-05\n",
            "Epoch 66/1000\n",
            "438/440 [============================>.] - ETA: 0s - loss: 0.8761 - accuracy: 0.6637 - balanced_acc: 0.6624\n",
            "Epoch 66: val_balanced_acc did not improve from 0.42176\n",
            "440/440 [==============================] - 7s 15ms/step - loss: 0.8755 - accuracy: 0.6638 - balanced_acc: 0.6624 - val_loss: 0.9495 - val_accuracy: 0.5907 - val_balanced_acc: 0.2639 - lr: 1.0000e-05\n",
            "Epoch 67/1000\n",
            "439/440 [============================>.] - ETA: 0s - loss: 0.8706 - accuracy: 0.6627 - balanced_acc: 0.6634\n",
            "Epoch 67: val_balanced_acc did not improve from 0.42176\n",
            "440/440 [==============================] - 7s 15ms/step - loss: 0.8714 - accuracy: 0.6624 - balanced_acc: 0.6633 - val_loss: 0.9495 - val_accuracy: 0.5907 - val_balanced_acc: 0.3065 - lr: 1.0000e-05\n",
            "Epoch 68/1000\n",
            "440/440 [==============================] - ETA: 0s - loss: 0.8652 - accuracy: 0.6702 - balanced_acc: 0.6670\n",
            "Epoch 68: val_balanced_acc did not improve from 0.42176\n",
            "440/440 [==============================] - 7s 15ms/step - loss: 0.8652 - accuracy: 0.6702 - balanced_acc: 0.6670 - val_loss: 0.9495 - val_accuracy: 0.5907 - val_balanced_acc: 0.2746 - lr: 1.0000e-05\n",
            "Epoch 69/1000\n",
            "439/440 [============================>.] - ETA: 0s - loss: 0.8803 - accuracy: 0.6666 - balanced_acc: 0.6653\n",
            "Epoch 69: val_balanced_acc did not improve from 0.42176\n",
            "440/440 [==============================] - 7s 15ms/step - loss: 0.8801 - accuracy: 0.6668 - balanced_acc: 0.6650 - val_loss: 0.9495 - val_accuracy: 0.5907 - val_balanced_acc: 0.2805 - lr: 1.0000e-05\n",
            "Epoch 70/1000\n",
            "439/440 [============================>.] - ETA: 0s - loss: 0.8679 - accuracy: 0.6688 - balanced_acc: 0.6623\n",
            "Epoch 70: val_balanced_acc did not improve from 0.42176\n",
            "440/440 [==============================] - 7s 15ms/step - loss: 0.8681 - accuracy: 0.6686 - balanced_acc: 0.6621 - val_loss: 0.9495 - val_accuracy: 0.5907 - val_balanced_acc: 0.3489 - lr: 1.0000e-05\n",
            "Epoch 71/1000\n",
            "440/440 [==============================] - ETA: 0s - loss: 0.8710 - accuracy: 0.6643 - balanced_acc: 0.6608\n",
            "Epoch 71: val_balanced_acc did not improve from 0.42176\n",
            "440/440 [==============================] - 7s 15ms/step - loss: 0.8710 - accuracy: 0.6643 - balanced_acc: 0.6608 - val_loss: 0.9495 - val_accuracy: 0.5907 - val_balanced_acc: 0.3031 - lr: 1.0000e-05\n",
            "Epoch 72/1000\n",
            "437/440 [============================>.] - ETA: 0s - loss: 0.8706 - accuracy: 0.6630 - balanced_acc: 0.6582\n",
            "Epoch 72: val_balanced_acc did not improve from 0.42176\n",
            "440/440 [==============================] - 7s 15ms/step - loss: 0.8712 - accuracy: 0.6631 - balanced_acc: 0.6582 - val_loss: 0.9495 - val_accuracy: 0.5907 - val_balanced_acc: 0.3479 - lr: 1.0000e-05\n",
            "Epoch 73/1000\n",
            "437/440 [============================>.] - ETA: 0s - loss: 0.8786 - accuracy: 0.6616 - balanced_acc: 0.6533\n",
            "Epoch 73: val_balanced_acc did not improve from 0.42176\n",
            "440/440 [==============================] - 6s 15ms/step - loss: 0.8784 - accuracy: 0.6614 - balanced_acc: 0.6535 - val_loss: 0.9495 - val_accuracy: 0.5907 - val_balanced_acc: 0.2996 - lr: 1.0000e-05\n",
            "Epoch 74/1000\n",
            "437/440 [============================>.] - ETA: 0s - loss: 0.8722 - accuracy: 0.6670 - balanced_acc: 0.6648\n",
            "Epoch 74: val_balanced_acc did not improve from 0.42176\n",
            "440/440 [==============================] - 7s 15ms/step - loss: 0.8711 - accuracy: 0.6677 - balanced_acc: 0.6655 - val_loss: 0.9495 - val_accuracy: 0.5907 - val_balanced_acc: 0.2918 - lr: 1.0000e-05\n",
            "Epoch 75/1000\n",
            "440/440 [==============================] - ETA: 0s - loss: 0.8735 - accuracy: 0.6664 - balanced_acc: 0.6666\n",
            "Epoch 75: val_balanced_acc did not improve from 0.42176\n",
            "440/440 [==============================] - 7s 15ms/step - loss: 0.8735 - accuracy: 0.6664 - balanced_acc: 0.6666 - val_loss: 0.9495 - val_accuracy: 0.5907 - val_balanced_acc: 0.3105 - lr: 1.0000e-05\n",
            "Epoch 76/1000\n",
            "440/440 [==============================] - ETA: 0s - loss: 0.8629 - accuracy: 0.6698 - balanced_acc: 0.6674\n",
            "Epoch 76: val_balanced_acc did not improve from 0.42176\n",
            "440/440 [==============================] - 7s 15ms/step - loss: 0.8629 - accuracy: 0.6698 - balanced_acc: 0.6674 - val_loss: 0.9495 - val_accuracy: 0.5907 - val_balanced_acc: 0.2893 - lr: 1.0000e-05\n",
            "Epoch 77/1000\n",
            "440/440 [==============================] - ETA: 0s - loss: 0.8677 - accuracy: 0.6682 - balanced_acc: 0.6650\n",
            "Epoch 77: val_balanced_acc did not improve from 0.42176\n",
            "440/440 [==============================] - 7s 15ms/step - loss: 0.8677 - accuracy: 0.6682 - balanced_acc: 0.6650 - val_loss: 0.9495 - val_accuracy: 0.5907 - val_balanced_acc: 0.2838 - lr: 1.0000e-05\n",
            "Epoch 78/1000\n",
            "439/440 [============================>.] - ETA: 0s - loss: 0.8702 - accuracy: 0.6675 - balanced_acc: 0.6613\n",
            "Epoch 78: val_balanced_acc did not improve from 0.42176\n",
            "440/440 [==============================] - 7s 15ms/step - loss: 0.8700 - accuracy: 0.6675 - balanced_acc: 0.6611 - val_loss: 0.9495 - val_accuracy: 0.5907 - val_balanced_acc: 0.3066 - lr: 1.0000e-05\n",
            "Epoch 79/1000\n",
            "440/440 [==============================] - ETA: 0s - loss: 0.8633 - accuracy: 0.6711 - balanced_acc: 0.6698\n",
            "Epoch 79: val_balanced_acc did not improve from 0.42176\n",
            "440/440 [==============================] - 7s 15ms/step - loss: 0.8633 - accuracy: 0.6711 - balanced_acc: 0.6698 - val_loss: 0.9495 - val_accuracy: 0.5907 - val_balanced_acc: 0.3131 - lr: 1.0000e-05\n",
            "Epoch 80/1000\n",
            "438/440 [============================>.] - ETA: 0s - loss: 0.8750 - accuracy: 0.6666 - balanced_acc: 0.6641\n",
            "Epoch 80: val_balanced_acc did not improve from 0.42176\n",
            "440/440 [==============================] - 7s 15ms/step - loss: 0.8751 - accuracy: 0.6667 - balanced_acc: 0.6640 - val_loss: 0.9495 - val_accuracy: 0.5907 - val_balanced_acc: 0.2771 - lr: 1.0000e-05\n",
            "Epoch 81/1000\n",
            "437/440 [============================>.] - ETA: 0s - loss: 0.8686 - accuracy: 0.6688 - balanced_acc: 0.6672\n",
            "Epoch 81: val_balanced_acc did not improve from 0.42176\n",
            "440/440 [==============================] - 7s 15ms/step - loss: 0.8689 - accuracy: 0.6688 - balanced_acc: 0.6671 - val_loss: 0.9495 - val_accuracy: 0.5907 - val_balanced_acc: 0.2852 - lr: 1.0000e-05\n",
            "Epoch 82/1000\n",
            "440/440 [==============================] - ETA: 0s - loss: 0.8759 - accuracy: 0.6681 - balanced_acc: 0.6614\n",
            "Epoch 82: val_balanced_acc did not improve from 0.42176\n",
            "440/440 [==============================] - 7s 15ms/step - loss: 0.8759 - accuracy: 0.6681 - balanced_acc: 0.6614 - val_loss: 0.9495 - val_accuracy: 0.5907 - val_balanced_acc: 0.3265 - lr: 1.0000e-05\n",
            "Epoch 83/1000\n",
            "440/440 [==============================] - ETA: 0s - loss: 0.8704 - accuracy: 0.6670 - balanced_acc: 0.6637\n",
            "Epoch 83: val_balanced_acc did not improve from 0.42176\n",
            "440/440 [==============================] - 7s 15ms/step - loss: 0.8704 - accuracy: 0.6670 - balanced_acc: 0.6637 - val_loss: 0.9495 - val_accuracy: 0.5907 - val_balanced_acc: 0.3327 - lr: 1.0000e-05\n",
            "Epoch 84/1000\n",
            "437/440 [============================>.] - ETA: 0s - loss: 0.8723 - accuracy: 0.6706 - balanced_acc: 0.6657\n",
            "Epoch 84: val_balanced_acc did not improve from 0.42176\n",
            "440/440 [==============================] - 7s 15ms/step - loss: 0.8724 - accuracy: 0.6703 - balanced_acc: 0.6655 - val_loss: 0.9495 - val_accuracy: 0.5907 - val_balanced_acc: 0.3357 - lr: 1.0000e-05\n",
            "Epoch 85/1000\n",
            "439/440 [============================>.] - ETA: 0s - loss: 0.8651 - accuracy: 0.6669 - balanced_acc: 0.6630\n",
            "Epoch 85: val_balanced_acc did not improve from 0.42176\n",
            "440/440 [==============================] - 7s 15ms/step - loss: 0.8649 - accuracy: 0.6670 - balanced_acc: 0.6630 - val_loss: 0.9495 - val_accuracy: 0.5907 - val_balanced_acc: 0.2944 - lr: 1.0000e-05\n"
          ]
        }
      ],
      "source": [
        "limit = 171\n",
        "for layer in model.layers[:limit]:\n",
        "   layer.trainable = False\n",
        "for layer in model.layers[limit:]:\n",
        "   layer.trainable = True\n",
        "\n",
        "optimizer_SGD = SGD(learning_rate=0.0001, momentum=0.9)\n",
        "model.compile(optimizer = optimizer_SGD , loss = \"categorical_crossentropy\", metrics=['accuracy', balanced_acc])\n",
        "hst2 = model.fit(train_data_batches,\n",
        "                    epochs = EPOCHS, validation_data = valid_data_batches,\n",
        "                    callbacks=[learning_rate_reduction,early_stopping_monitor, mc])\n"
      ]
    },
    {
      "cell_type": "code",
      "execution_count": null,
      "metadata": {
        "id": "SPz8NH1Oylv9"
      },
      "outputs": [],
      "source": [
        "#save last model\n",
        "\n",
        "model.save(last_model_fpath)"
      ]
    },
    {
      "cell_type": "code",
      "execution_count": null,
      "metadata": {
        "id": "lS3ewyxO_anU",
        "colab": {
          "base_uri": "https://localhost:8080/"
        },
        "outputId": "a124e151-ffd3-48b9-a77d-eab9e5f3c8a5"
      },
      "outputs": [
        {
          "output_type": "stream",
          "name": "stdout",
          "text": [
            "balanced accuracy on training 0.5957945584996802\n",
            "balanced accuracy on validation 0.35165015008220585\n",
            "Score on val data:  (0.4094402673350042, 0.35165015008220585, 0.34416098074634655, None)\n"
          ]
        }
      ],
      "source": [
        "last_model = load_model(last_model_fpath, custom_objects={'balanced_acc' : balanced_acc})\n",
        "y_train_pred = last_model.predict(X_train)\n",
        "y_val_pred = last_model.predict(X_val)\n",
        "\n",
        "print('balanced accuracy on training',balanced_accuracy_score(np.argmax(y_train, axis=1), np.argmax(y_train_pred, axis=1)))\n",
        "print('balanced accuracy on validation',balanced_accuracy_score(np.argmax(y_val, axis=1), np.argmax(y_val_pred, axis=1)))\n",
        "print('Score on val data: ',precision_recall_fscore_support(np.argmax(y_val, axis=1), np.argmax(y_val_pred, axis=1), average='macro'))"
      ]
    },
    {
      "cell_type": "code",
      "execution_count": null,
      "metadata": {
        "id": "W3IyWjdGG4Xq",
        "colab": {
          "base_uri": "https://localhost:8080/"
        },
        "outputId": "55a45193-294c-4e4c-e859-bd6b65c1b394"
      },
      "outputs": [
        {
          "output_type": "stream",
          "name": "stdout",
          "text": [
            "balanced accuracy on training 0.5957945584996802\n",
            "balanced accuracy on validation 0.35165015008220585\n",
            "Score on val data:  (0.4094402673350042, 0.35165015008220585, 0.34416098074634655, None)\n"
          ]
        }
      ],
      "source": [
        "best_model = load_model(best_model_fpath, custom_objects={'balanced_acc' : balanced_acc})\n",
        "y_train_pred = best_model.predict(X_train)\n",
        "y_val_pred = best_model.predict(X_val)\n",
        "\n",
        "print('balanced accuracy on training',balanced_accuracy_score(np.argmax(y_train, axis=1), np.argmax(y_train_pred, axis=1)))\n",
        "print('balanced accuracy on validation',balanced_accuracy_score(np.argmax(y_val, axis=1), np.argmax(y_val_pred, axis=1)))\n",
        "print('Score on val data: ',precision_recall_fscore_support(np.argmax(y_val, axis=1), np.argmax(y_val_pred, axis=1), average='macro'))"
      ]
    },
    {
      "cell_type": "code",
      "execution_count": null,
      "metadata": {
        "id": "vO1aAQBmiy0K",
        "colab": {
          "base_uri": "https://localhost:8080/",
          "height": 295
        },
        "outputId": "3bc431e5-91df-4e19-97e5-35aa8c0e4373"
      },
      "outputs": [
        {
          "output_type": "display_data",
          "data": {
            "text/plain": [
              "<Figure size 432x288 with 1 Axes>"
            ],
            "image/png": "[encoded data removed]"
          },
          "metadata": {
            "needs_background": "light"
          }
        }
      ],
      "source": [
        "# summarize history for accuracy\n",
        "plt.plot(hst2.history['balanced_acc'])\n",
        "plt.plot(hst2.history['val_balanced_acc'])\n",
        "plt.title('model balance_acc after tunning')\n",
        "plt.ylabel('accuracy')\n",
        "plt.xlabel('epoch')\n",
        "plt.legend(['train', 'val'], loc='upper left')\n",
        "plt.show()"
      ]
    },
    {
      "cell_type": "markdown",
      "metadata": {
        "id": "3K908bbiYwbS"
      },
      "source": [
        "#Testing\n",
        "Result from ISIC Live\n",
        "last_model: 0.506\n",
        "best_model: 0.478"
      ]
    },
    {
      "cell_type": "code",
      "execution_count": null,
      "metadata": {
        "id": "NeMY2yvMYxsC"
      },
      "outputs": [],
      "source": [
        "dir_test = '/content/drive/MyDrive/PHD/Datasets/isic2018/ISIC2018_Task3_Test_Input/'\n",
        "filepaths = sorted( filter( lambda x: (os.path.isfile(os.path.join(dir_test, x))) and (x.endswith('.jpg')),\n",
        "                        os.listdir(dir_test) ) )"
      ]
    },
    {
      "cell_type": "code",
      "execution_count": null,
      "metadata": {
        "id": "6ic95mefkpG3"
      },
      "outputs": [],
      "source": [
        "df_test = pd.DataFrame(filepaths, columns =['image'])\n",
        "df_test['FilePaths'] = dir_test + df_test['image']\n",
        "#df_test"
      ]
    },
    {
      "cell_type": "code",
      "execution_count": null,
      "metadata": {
        "id": "NBa1TxPuY8ni"
      },
      "outputs": [],
      "source": [
        "df_test['image_px'] = df_test['FilePaths'].map(lambda x: np.asarray(Image.open(x).resize(IMG_SIZE)))"
      ]
    },
    {
      "cell_type": "code",
      "execution_count": null,
      "metadata": {
        "id": "60LYAT7VsNOZ",
        "colab": {
          "base_uri": "https://localhost:8080/"
        },
        "outputId": "2d318aea-53a9-444c-b895-4b0750c6e559"
      },
      "outputs": [
        {
          "output_type": "stream",
          "name": "stdout",
          "text": [
            "(1512, 32, 32, 3)\n"
          ]
        }
      ],
      "source": [
        "X_test = np.asarray(df_test['image_px'].tolist())\n",
        "print(np.array(X_test).shape)"
      ]
    },
    {
      "cell_type": "markdown",
      "metadata": {
        "id": "FF7ml90JZ8FK"
      },
      "source": [
        "Calculate y_pred from training and testing for analysis"
      ]
    },
    {
      "cell_type": "code",
      "execution_count": null,
      "metadata": {
        "id": "dIX0AmEFNv3Y",
        "colab": {
          "base_uri": "https://localhost:8080/"
        },
        "outputId": "20c935c3-5010-43a6-b4a1-906dfd6c0b5b"
      },
      "outputs": [
        {
          "output_type": "stream",
          "name": "stdout",
          "text": [
            "Y_pred2 (1512, 7)\n",
            "y_pred2 1512\n"
          ]
        }
      ],
      "source": [
        "# predicted labels\n",
        "Y_pred2 = last_model.predict(X_test)\n",
        "print(\"Y_pred2\", Y_pred2.shape)\n",
        "# rounded labels\n",
        "y_pred2 = np.argmax(Y_pred2, axis=1)\n",
        "print(\"y_pred2\", y_pred2.size)"
      ]
    },
    {
      "cell_type": "code",
      "execution_count": null,
      "metadata": {
        "id": "7oeArO5CtxGb"
      },
      "outputs": [],
      "source": [
        "df_pred = pd.DataFrame(Y_pred2, columns = ['AKIEC', 'BCC', 'BKL', 'DF', 'MEL', 'NV', 'VASC'])\n",
        "df_pred['image'] = df_test['FilePaths'].map(lambda x: x.replace(dir_test, '').replace('.jpg', ''))\n",
        "df_pred = df_pred[['image', 'MEL', 'NV', 'BCC', 'AKIEC', 'BKL', 'DF', 'VASC']]"
      ]
    },
    {
      "cell_type": "code",
      "execution_count": null,
      "metadata": {
        "id": "sOnjc3RJ0e4T"
      },
      "outputs": [],
      "source": [
        "df_pred.set_index(\"image\", inplace = True)\n",
        "df_pred.to_csv('/content/drive/MyDrive/PHD/Datasets/isic2018/response_DeepSMOTEOversampling_last.csv')"
      ]
    },
    {
      "cell_type": "markdown",
      "metadata": {
        "id": "eaK4zbtoaAaC"
      },
      "source": [
        "#Confusion Metric on Validation Set"
      ]
    },
    {
      "cell_type": "code",
      "execution_count": null,
      "metadata": {
        "id": "E4nEpmkZaTZC",
        "colab": {
          "base_uri": "https://localhost:8080/"
        },
        "outputId": "65d3c069-af34-4263-88e9-d9c67d652b7d"
      },
      "outputs": [
        {
          "output_type": "stream",
          "name": "stdout",
          "text": [
            "[[ 2  3  1  0  2  0  0]\n",
            " [ 6  4  2  1  1  1  0]\n",
            " [ 2  2  4  0  8  6  0]\n",
            " [ 0  0  0  0  0  1  0]\n",
            " [ 1  0  2  0 15  3  0]\n",
            " [ 1  4 10  1 19 88  0]\n",
            " [ 0  2  0  0  0  0  1]]\n"
          ]
        }
      ],
      "source": [
        "#Get the confusion matrix\n",
        "cf_matrix = confusion_matrix(np.argmax(y_val, axis=1), np.argmax(y_val_pred, axis=1))\n",
        "\n",
        "print(cf_matrix)"
      ]
    },
    {
      "cell_type": "code",
      "execution_count": null,
      "metadata": {
        "id": "gVtvW3YeaLlC",
        "colab": {
          "base_uri": "https://localhost:8080/"
        },
        "outputId": "0e5673f2-892a-4894-f839-22483fb4eecf"
      },
      "outputs": [
        {
          "output_type": "display_data",
          "data": {
            "text/plain": [
              "<Figure size 432x288 with 2 Axes>"
            ],
            "image/png": "[encoded data removed]"
          },
          "metadata": {
            "needs_background": "light"
          }
        }
      ],
      "source": [
        "ax = sns.heatmap(cf_matrix / cf_matrix.sum(axis=1, keepdims=True), annot=True, \n",
        "            cmap='Blues')\n",
        "\n",
        "ax.set_title('Confusion Matrix \\n');\n",
        "ax.set_xlabel('\\nPredicted')\n",
        "ax.set_ylabel('Actual ');\n",
        "\n",
        "## Ticket labels - List must be in alphabetical order\n",
        "ax.xaxis.set_ticklabels(['AKIEC', 'BCC', 'BKL', 'DF', 'MEL', 'NV', 'VASC'])\n",
        "ax.yaxis.set_ticklabels(['AKIEC', 'BCC', 'BKL', 'DF', 'MEL', 'NV', 'VASC'])\n",
        "\n",
        "plt.rcParams[\"figure.figsize\"] = (15,3)\n",
        "\n",
        "## Display the visualization of the Confusion Matrix.\n",
        "plt.xticks(rotation=45, ha='right')\n",
        "plt.yticks(rotation=0, ha='right')\n",
        "plt.show()"
      ]
    },
    {
      "cell_type": "code",
      "execution_count": null,
      "metadata": {
        "id": "Ey-1yjWGeKs7",
        "colab": {
          "base_uri": "https://localhost:8080/"
        },
        "outputId": "727a545c-3841-496a-98ce-3b67e3c07164"
      },
      "outputs": [
        {
          "output_type": "execute_result",
          "data": {
            "text/plain": [
              "[Text(0, 0, 'AKIEC'),\n",
              " Text(0, 0, 'BCC'),\n",
              " Text(0, 0, 'BKL'),\n",
              " Text(0, 0, 'DF'),\n",
              " Text(0, 0, 'MEL'),\n",
              " Text(0, 0, 'NV'),\n",
              " Text(0, 0, 'VASC')]"
            ]
          },
          "metadata": {},
          "execution_count": 44
        },
        {
          "output_type": "display_data",
          "data": {
            "text/plain": [
              "<Figure size 1080x432 with 1 Axes>"
            ],
            "image/png": "[encoded data removed]"
          },
          "metadata": {
            "needs_background": "light"
          }
        }
      ],
      "source": [
        "# ordered count of rows per unique label\n",
        "labels_count = df_val['Labels'].value_counts().sort_index()\n",
        "\n",
        "f = plt.figure(figsize=(15, 6))\n",
        "s = sns.barplot(x=labels_count.index,y=labels_count.values)\n",
        "s.set_xticklabels(s.get_xticklabels(), rotation = 30)"
      ]
    }
  ],
  "metadata": {
    "accelerator": "GPU",
    "colab": {
      "collapsed_sections": [
        "uZv-B-ygCD57",
        "cNBXx28B9yGu",
        "0jrJ33lUDkCM",
        "3K908bbiYwbS"
      ],
      "machine_shape": "hm",
      "provenance": [],
      "name": "Skin Cancer Diagnosis using ISIC 2018 Dataset.ipynb",
      "include_colab_link": true
    },
    "gpuClass": "standard",
    "kernelspec": {
      "display_name": "Python 3",
      "name": "python3"
    },
    "language_info": {
      "name": "python"
    }
  },
  "nbformat": 4,
  "nbformat_minor": 0
}
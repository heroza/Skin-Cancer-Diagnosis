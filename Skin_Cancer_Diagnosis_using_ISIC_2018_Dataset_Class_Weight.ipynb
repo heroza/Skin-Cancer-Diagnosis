{
  "cells": [
    {
      "cell_type": "markdown",
      "metadata": {
        "id": "view-in-github",
        "colab_type": "text"
      },
      "source": [
        "<a href=\"https://colab.research.google.com/github/heroza/Skin-Cancer-Diagnosis/blob/main/Skin_Cancer_Diagnosis_using_ISIC_2018_Dataset_Class_Weight.ipynb\" target=\"_parent\"><img src=\"https://colab.research.google.com/assets/colab-badge.svg\" alt=\"Open In Colab\"/></a>"
      ]
    },
    {
      "cell_type": "markdown",
      "metadata": {
        "id": "PUusDE1Z9TNb"
      },
      "source": [
        "Prepare the dataset. \n",
        "Currently, we use skin cancer ISIC dataset from Kaggle https://www.kaggle.com/datasets/nodoubttome/skin-cancer9-classesisic\n",
        "\n",
        "Tutorial for how to load Kaggle dataset can be found in https://www.analyticsvidhya.com/blog/2021/06/how-to-load-kaggle-datasets-directly-into-google-colab/"
      ]
    },
    {
      "cell_type": "code",
      "execution_count": 1,
      "metadata": {
        "colab": {
          "base_uri": "https://localhost:8080/"
        },
        "id": "Eus_4tUgfEk9",
        "outputId": "9f59ff14-0a45-4f80-a990-247d5cb10457"
      },
      "outputs": [
        {
          "output_type": "stream",
          "name": "stdout",
          "text": [
            "Mounted at /content/drive\n"
          ]
        }
      ],
      "source": [
        "from google.colab import drive\n",
        "drive.mount('/content/drive')"
      ]
    },
    {
      "cell_type": "markdown",
      "metadata": {
        "id": "RcRGeofw-8tK"
      },
      "source": [
        "#Load Data"
      ]
    },
    {
      "cell_type": "code",
      "execution_count": 2,
      "metadata": {
        "colab": {
          "base_uri": "https://localhost:8080/"
        },
        "id": "nR2MJBYq-oiB",
        "outputId": "e8a47192-291a-43fa-bf3d-403b2d36d117"
      },
      "outputs": [
        {
          "output_type": "stream",
          "name": "stdout",
          "text": [
            "Looking in indexes: https://pypi.org/simple, https://us-python.pkg.dev/colab-wheels/public/simple/\n",
            "Requirement already satisfied: imbalanced-learn in /usr/local/lib/python3.7/dist-packages (0.8.1)\n",
            "Requirement already satisfied: scipy>=0.19.1 in /usr/local/lib/python3.7/dist-packages (from imbalanced-learn) (1.7.3)\n",
            "Requirement already satisfied: joblib>=0.11 in /usr/local/lib/python3.7/dist-packages (from imbalanced-learn) (1.1.0)\n",
            "Requirement already satisfied: numpy>=1.13.3 in /usr/local/lib/python3.7/dist-packages (from imbalanced-learn) (1.21.6)\n",
            "Requirement already satisfied: scikit-learn>=0.24 in /usr/local/lib/python3.7/dist-packages (from imbalanced-learn) (1.0.2)\n",
            "Requirement already satisfied: threadpoolctl>=2.0.0 in /usr/local/lib/python3.7/dist-packages (from scikit-learn>=0.24->imbalanced-learn) (3.1.0)\n"
          ]
        }
      ],
      "source": [
        "import pandas as pd\n",
        "import numpy as np\n",
        "import tensorflow as tf\n",
        "import matplotlib.pyplot as plt\n",
        "import seaborn as sns\n",
        "import os\n",
        "from pathlib import Path\n",
        "from PIL import Image\n",
        "from sklearn import preprocessing\n",
        "from sklearn.metrics import precision_recall_fscore_support\n",
        "from sklearn.metrics import confusion_matrix\n",
        "from keras.callbacks import ReduceLROnPlateau, EarlyStopping, ModelCheckpoint\n",
        "from keras.preprocessing.image import ImageDataGenerator\n",
        "from tensorflow.keras.optimizers import Adam, SGD\n",
        "from tensorflow.keras.preprocessing import image\n",
        "from tensorflow.keras.applications.resnet50 import ResNet50, preprocess_input, decode_predictions\n",
        "from tensorflow.keras.layers import GlobalAveragePooling2D, Dense, Input, Dropout, Flatten\n",
        "from tensorflow.keras.models import Model, load_model\n",
        "\n",
        "!pip install imbalanced-learn\n",
        "import imblearn\n",
        "from imblearn.over_sampling import SMOTE"
      ]
    },
    {
      "cell_type": "code",
      "execution_count": 3,
      "metadata": {
        "id": "3mnEebdJH6Ex"
      },
      "outputs": [],
      "source": [
        "df_train = pd.read_csv('/content/drive/MyDrive/PHD/Datasets/isic2018/ISIC2018_Task3_Training_GroundTruth/ISIC2018_Task3_Training_GroundTruth.csv') \n",
        "df_val = pd.read_csv('/content/drive/MyDrive/PHD/Datasets/isic2018/ISIC2018_Task3_Validation_GroundTruth/ISIC2018_Task3_Validation_GroundTruth.csv') \n",
        "num_classes = 7\n",
        "#df_train"
      ]
    },
    {
      "cell_type": "code",
      "execution_count": 4,
      "metadata": {
        "id": "aFSe3uekK67v"
      },
      "outputs": [],
      "source": [
        "#decode one hot label\n",
        "df_train[\"Labels\"] = (df_train.iloc[:, 1:]).idxmax(axis=1)\n",
        "df_val[\"Labels\"] = (df_val.iloc[:, 1:]).idxmax(axis=1)\n",
        "\n",
        "#drop one-hot column\n",
        "df_train = df_train.drop(columns=['MEL', 'NV', 'BCC', 'AKIEC', 'BKL', 'DF', 'VASC'])\n",
        "df_val = df_val.drop(columns=['MEL', 'NV', 'BCC', 'AKIEC', 'BKL', 'DF', 'VASC'])\n",
        "\n",
        "#make filepaths of the image\n",
        "dir_train = '/content/drive/MyDrive/PHD/Datasets/isic2018/ISIC2018_Task3_Training_Input/'\n",
        "dir_val = '/content/drive/MyDrive/PHD/Datasets/isic2018/ISIC2018_Task3_Validation_Input/'\n",
        "df_train['FilePaths'] = dir_train + df_train['image'] + '.jpg'\n",
        "df_val['FilePaths'] = dir_val + df_val['image'] + '.jpg'"
      ]
    },
    {
      "cell_type": "markdown",
      "metadata": {
        "id": "38f3dgvyBqFM"
      },
      "source": [
        "Label Distribution"
      ]
    },
    {
      "cell_type": "code",
      "execution_count": 5,
      "metadata": {
        "colab": {
          "base_uri": "https://localhost:8080/",
          "height": 512
        },
        "id": "2IncA-_o_n5w",
        "outputId": "4e036df6-9a81-4e99-d5a4-3bb2dbafcc1c"
      },
      "outputs": [
        {
          "output_type": "execute_result",
          "data": {
            "text/plain": [
              "[Text(0, 0, 'DF'),\n",
              " Text(0, 0, 'VASC'),\n",
              " Text(0, 0, 'AKIEC'),\n",
              " Text(0, 0, 'BCC'),\n",
              " Text(0, 0, 'BKL'),\n",
              " Text(0, 0, 'MEL'),\n",
              " Text(0, 0, 'NV')]"
            ]
          },
          "metadata": {},
          "execution_count": 5
        },
        {
          "output_type": "display_data",
          "data": {
            "text/plain": [
              "<Figure size 1080x432 with 1 Axes>"
            ],
            "image/png": "[encoded data removed]"
          },
          "metadata": {
            "needs_background": "light"
          }
        }
      ],
      "source": [
        "# ordered count of rows per unique label\n",
        "labels_count = df_train['Labels'].value_counts(ascending=True)\n",
        "\n",
        "f = plt.figure(figsize=(15, 6))\n",
        "s = sns.barplot(x=labels_count.index,y=labels_count.values)\n",
        "s.set_xticklabels(s.get_xticklabels(), rotation = 30)"
      ]
    },
    {
      "cell_type": "markdown",
      "metadata": {
        "id": "AnKMKSb4Bkym"
      },
      "source": [
        "Plot 3 images per label"
      ]
    },
    {
      "cell_type": "code",
      "execution_count": 6,
      "metadata": {
        "id": "jdnVuqbFBW3K"
      },
      "outputs": [],
      "source": [
        "def plot_images_per_label(df, label, cols: int, size: tuple):\n",
        "    fig, axs = plt.subplots(nrows=1, ncols=cols, figsize=size)\n",
        "\n",
        "    cntMax = cols\n",
        "    cntCur = 0\n",
        "    for index, row in df.iterrows():\n",
        "        if(row['Labels'] == label and cntCur < cntMax):\n",
        "            axs[cntCur].imshow(plt.imread(df.FilePaths[index]))\n",
        "            axs[cntCur].set_title(df.Labels[index])\n",
        "\n",
        "            cntCur += 1\n",
        "        else:\n",
        "            if(cntCur >= cntMax):\n",
        "                break\n",
        "    \n",
        "    plt.tight_layout()\n",
        "    plt.show()\n",
        "\n",
        "\n",
        "# unique labels\n",
        "labels = sorted(df_train['Labels'].unique())\n",
        "#for label in labels:\n",
        "#    plot_images_per_label(df_train, label, 3, (12,9))"
      ]
    },
    {
      "cell_type": "markdown",
      "metadata": {
        "id": "qRKKrNacAZtl"
      },
      "source": [
        "Drop duplicate images"
      ]
    },
    {
      "cell_type": "code",
      "execution_count": 7,
      "metadata": {
        "id": "ERwfyPDHP-zC"
      },
      "outputs": [],
      "source": [
        "df_group = pd.read_csv('/content/drive/MyDrive/PHD/Datasets/isic2018/ISIC2018_Task3_Training_LesionGroupings.csv') \n",
        "df_train = df_train.set_index('image').join(df_group.set_index('image'))\n",
        "df_train = df_train.drop_duplicates(subset=['lesion_id'])\n"
      ]
    },
    {
      "cell_type": "markdown",
      "metadata": {
        "id": "DKjC59JOB_6d"
      },
      "source": [
        "Prepare X,y"
      ]
    },
    {
      "cell_type": "code",
      "execution_count": 8,
      "metadata": {
        "id": "9-c7Xghg4SB4"
      },
      "outputs": [],
      "source": [
        "# input image size\n",
        "IMAGE_W = 128\n",
        "IMAGE_H = 128\n",
        "IMG_SIZE = (IMAGE_W,IMAGE_H)"
      ]
    },
    {
      "cell_type": "code",
      "execution_count": 9,
      "metadata": {
        "id": "3jyCpXnlFoQK"
      },
      "outputs": [],
      "source": [
        "#TIME CONSUMING OPERATION\n",
        "#from tensorflow.keras.preprocessing.image import load_img, img_to_array\n",
        "#X = []\n",
        "#for img in df['FilePaths']:\n",
        "    #img_arr = load_img(img, target_size=IMG_SIZE)\n",
        "#    with load_img(img, target_size=IMG_SIZE) as img_arr:\n",
        "#      X.append(img_to_array(img_arr))\n",
        "\n",
        "#X = np.array(X)\n",
        "df_train['image'] = df_train['FilePaths'].map(lambda x: np.asarray(Image.open(x).resize(IMG_SIZE)))\n",
        "df_val['image'] = df_val['FilePaths'].map(lambda x: np.asarray(Image.open(x).resize(IMG_SIZE)))\n"
      ]
    },
    {
      "cell_type": "code",
      "execution_count": 10,
      "metadata": {
        "id": "UZyZMydSgvZo",
        "colab": {
          "base_uri": "https://localhost:8080/"
        },
        "outputId": "3270acca-2838-464d-af85-572a2b0d856e"
      },
      "outputs": [
        {
          "output_type": "stream",
          "name": "stdout",
          "text": [
            "(7470, 128, 128, 3)\n",
            "(193, 128, 128, 3)\n"
          ]
        }
      ],
      "source": [
        "X_train = np.asarray(df_train['image'].tolist())\n",
        "X_val = np.asarray(df_val['image'].tolist())\n",
        "print(np.array(X_train).shape)\n",
        "print(np.array(X_val).shape)"
      ]
    },
    {
      "cell_type": "code",
      "execution_count": 11,
      "metadata": {
        "id": "RAxUkXy8ueYG"
      },
      "outputs": [],
      "source": [
        "#Normalization\n",
        "#X_train_mean = np.mean(X_train)\n",
        "#X_train_std = np.std(X_train)\n",
        "\n",
        "#X_train = (X_train - X_train_mean)/X_train_std\n",
        "#X_val = (X_val - X_train_mean)/X_train_std"
      ]
    },
    {
      "cell_type": "code",
      "execution_count": 12,
      "metadata": {
        "id": "uqYLmicGAjZz",
        "colab": {
          "base_uri": "https://localhost:8080/"
        },
        "outputId": "2c383d8a-4cec-4449-9e6a-269c6e94d096"
      },
      "outputs": [
        {
          "output_type": "stream",
          "name": "stdout",
          "text": [
            "Counter({'NV': 5403, 'BKL': 727, 'MEL': 614, 'BCC': 327, 'AKIEC': 228, 'VASC': 98, 'DF': 73})\n",
            "(7470,)\n"
          ]
        }
      ],
      "source": [
        "y_train = np.array(df_train['Labels'].values)\n",
        "\n",
        "# summarize class distribution\n",
        "from collections import Counter\n",
        "counter = Counter(y_train)\n",
        "print(counter)\n",
        "print(y_train.shape)"
      ]
    },
    {
      "cell_type": "code",
      "execution_count": 13,
      "metadata": {
        "id": "kEuVIGc3g859",
        "colab": {
          "base_uri": "https://localhost:8080/"
        },
        "outputId": "0a07bd2f-3ea8-405b-8629-6bc50c903250"
      },
      "outputs": [
        {
          "output_type": "stream",
          "name": "stdout",
          "text": [
            "Counter({'NV': 123, 'BKL': 22, 'MEL': 21, 'BCC': 15, 'AKIEC': 8, 'VASC': 3, 'DF': 1})\n",
            "(193,)\n"
          ]
        }
      ],
      "source": [
        "y_val = np.array(df_val['Labels'].values)\n",
        "print(Counter(y_val))\n",
        "print(y_val.shape)"
      ]
    },
    {
      "cell_type": "code",
      "execution_count": 14,
      "metadata": {
        "id": "QfvEVGIQhIr2",
        "colab": {
          "base_uri": "https://localhost:8080/"
        },
        "outputId": "927c4f1f-97bf-4ee5-df1d-09abc339a5cb"
      },
      "outputs": [
        {
          "output_type": "execute_result",
          "data": {
            "text/plain": [
              "array([5, 5, 5, ..., 5, 5, 5])"
            ]
          },
          "metadata": {},
          "execution_count": 14
        }
      ],
      "source": [
        "#label encoding\n",
        "label_encoder = preprocessing.LabelEncoder()\n",
        "y_train = label_encoder.fit_transform(y_train)\n",
        "y_val = label_encoder.fit_transform(y_val)\n",
        "y_train"
      ]
    },
    {
      "cell_type": "code",
      "source": [
        "from sklearn.utils import class_weight\n",
        "class_weights = class_weight.compute_class_weight(class_weight='balanced',\n",
        "                                                 classes=np.unique(y_train),\n",
        "                                                 y=y_train)"
      ],
      "metadata": {
        "colab": {
          "base_uri": "https://localhost:8080/"
        },
        "id": "jLHRj-xqk98R",
        "outputId": "472aa5c8-5a0f-402a-8ae3-a6b7c2191174"
      },
      "execution_count": 15,
      "outputs": [
        {
          "output_type": "execute_result",
          "data": {
            "text/plain": [
              "array([ 4.68045113,  3.26343381,  1.46787188, 14.6183953 ,  1.73801768,\n",
              "        0.19750932, 10.88921283])"
            ]
          },
          "metadata": {},
          "execution_count": 15
        }
      ]
    },
    {
      "cell_type": "code",
      "source": [
        "class_weights = {i : class_weights[i] for i in range(7)}"
      ],
      "metadata": {
        "id": "EAIOkkQogqZI"
      },
      "execution_count": 16,
      "outputs": []
    },
    {
      "cell_type": "code",
      "source": [
        "class_weights"
      ],
      "metadata": {
        "colab": {
          "base_uri": "https://localhost:8080/"
        },
        "id": "g8Jc9A3IgwHS",
        "outputId": "1f99f31d-edb3-4c0d-b664-ed690b326ffb"
      },
      "execution_count": 17,
      "outputs": [
        {
          "output_type": "execute_result",
          "data": {
            "text/plain": [
              "{0: 4.680451127819549,\n",
              " 1: 3.2634338138925294,\n",
              " 2: 1.467871880526626,\n",
              " 3: 14.61839530332681,\n",
              " 4: 1.7380176826430898,\n",
              " 5: 0.197509320218926,\n",
              " 6: 10.889212827988338}"
            ]
          },
          "metadata": {},
          "execution_count": 17
        }
      ]
    },
    {
      "cell_type": "markdown",
      "metadata": {
        "id": "uZv-B-ygCD57"
      },
      "source": [
        "#SMOTE Oversampling"
      ]
    },
    {
      "cell_type": "code",
      "execution_count": 18,
      "metadata": {
        "id": "RDskF1wjGffh"
      },
      "outputs": [],
      "source": [
        "def SMOTE_Data(X, y):\n",
        "  sm = SMOTE(random_state=42, k_neighbors=6)\n",
        "  X_resampled, y_resampled = sm.fit_resample(X.reshape((-1, IMAGE_W * IMAGE_H * 3)), y)\n",
        "  X_resampled.reshape(-1, IMAGE_W, IMAGE_H, 3)\n",
        "  return X_resampled, y_resampled"
      ]
    },
    {
      "cell_type": "code",
      "execution_count": 19,
      "metadata": {
        "colab": {
          "base_uri": "https://localhost:8080/"
        },
        "id": "brshqGvOCDJL",
        "outputId": "da9a2f74-bf60-483a-e30d-fbffc3df885f"
      },
      "outputs": [
        {
          "output_type": "stream",
          "name": "stdout",
          "text": [
            "(37821, 49152)\n",
            "(37821,)\n"
          ]
        }
      ],
      "source": [
        "X_train, y_train = SMOTE_Data(X_train, y_train) #beware of the actual parameter\n",
        "print(X_train.shape)\n",
        "print(y_train.shape)"
      ]
    },
    {
      "cell_type": "code",
      "execution_count": 20,
      "metadata": {
        "colab": {
          "base_uri": "https://localhost:8080/"
        },
        "id": "8GfOtcbV5vVZ",
        "outputId": "487a7fd6-dc53-4ae0-b489-cd90351f0f45"
      },
      "outputs": [
        {
          "output_type": "stream",
          "name": "stdout",
          "text": [
            "Counter({5: 5403, 4: 5403, 2: 5403, 3: 5403, 0: 5403, 1: 5403, 6: 5403})\n"
          ]
        }
      ],
      "source": [
        "counter = Counter(y_train)\n",
        "print(counter)"
      ]
    },
    {
      "cell_type": "code",
      "execution_count": 21,
      "metadata": {
        "colab": {
          "base_uri": "https://localhost:8080/"
        },
        "id": "dl-nmACZOZpg",
        "outputId": "4fb5daa4-29e8-4f2e-8f5f-de02f92218f9"
      },
      "outputs": [
        {
          "output_type": "stream",
          "name": "stdout",
          "text": [
            "X_train shape:  (37821, 128, 128, 3)\n"
          ]
        }
      ],
      "source": [
        "X_train = X_train.reshape(-1, IMAGE_W, IMAGE_H, 3)\n",
        "print('X_train shape: ',X_train.shape)"
      ]
    },
    {
      "cell_type": "markdown",
      "metadata": {
        "id": "cNBXx28B9yGu"
      },
      "source": [
        "#DeepSMOTE Oversampling"
      ]
    },
    {
      "cell_type": "code",
      "execution_count": null,
      "metadata": {
        "colab": {
          "base_uri": "https://localhost:8080/"
        },
        "id": "vi8RRUWEBD3s",
        "outputId": "4451daeb-0165-40d7-b76a-c4c90fcbe1fa"
      },
      "outputs": [
        {
          "data": {
            "text/plain": [
              "(4986, 32, 32, 3)"
            ]
          },
          "execution_count": 79,
          "metadata": {},
          "output_type": "execute_result"
        }
      ],
      "source": [
        "X_train.shape"
      ]
    },
    {
      "cell_type": "code",
      "execution_count": null,
      "metadata": {
        "id": "h-Xqj-WQ90L_"
      },
      "outputs": [],
      "source": [
        "#optional\n",
        "X=X_train\n",
        "y=y_train\n",
        "\n",
        "from numpy import moveaxis\n",
        "dec_x = moveaxis(X, 3, 1)\n",
        "dec_x = dec_x.astype('float32') / 255.\n",
        "#dec_x = X_train \n",
        "dec_y = y\n",
        "\n",
        "#create counter for encoder\n",
        "counter = sorted(counter.items())\n",
        "counter = [value for _, value in counter]"
      ]
    },
    {
      "cell_type": "code",
      "execution_count": null,
      "metadata": {
        "colab": {
          "base_uri": "https://localhost:8080/"
        },
        "id": "0kMMmX7r-fV5",
        "outputId": "d3648cdf-7d3e-4255-d712-dec90b542d1e"
      },
      "outputs": [
        {
          "name": "stdout",
          "output_type": "stream",
          "text": [
            "11.3\n"
          ]
        }
      ],
      "source": [
        "import torch\n",
        "import torch.nn as nn\n",
        "from torch.utils.data import TensorDataset\n",
        "from sklearn.neighbors import NearestNeighbors\n",
        "import time\n",
        "import os\n",
        "\n",
        "print(torch.version.cuda) #10.1\n",
        "\n",
        "args = {}\n",
        "args['dim_h'] = 64         # factor controlling size of hidden layers\n",
        "args['n_channel'] = 3#1    # number of channels in the input data \n",
        "\n",
        "args['n_z'] = 600 #300     # number of dimensions in latent space. \n",
        "\n",
        "args['sigma'] = 1.0        # variance in n_z\n",
        "args['lambda'] = 0.01      # hyper param for weight of discriminator loss\n",
        "args['lr'] = 0.0002        # learning rate for Adam optimizer .000\n",
        "args['epochs'] = 1000       # how many epochs to run for\n",
        "args['batch_size'] = 12   # batch size for SGD\n",
        "args['save'] = True        # save weights at each epoch of training if True\n",
        "args['train'] = True       # train networks if True, else load networks from\n",
        "\n",
        "args['patience'] = 20\n",
        "\n",
        "## create encoder model and decoder model\n",
        "class Encoder(nn.Module):\n",
        "    def __init__(self, args):\n",
        "        super(Encoder, self).__init__()\n",
        "\n",
        "        self.n_channel = args['n_channel']\n",
        "        self.dim_h = args['dim_h']\n",
        "        self.n_z = args['n_z']\n",
        "        \n",
        "        # convolutional filters, work excellent with image data\n",
        "        self.conv = nn.Sequential(\n",
        "            nn.Conv2d(self.n_channel, self.dim_h, 4, 2, 1, bias=False),\n",
        "            #nn.ReLU(True),\n",
        "            nn.LeakyReLU(0.2, inplace=True),\n",
        "            nn.Conv2d(self.dim_h, self.dim_h * 2, 4, 2, 1, bias=False),\n",
        "            nn.BatchNorm2d(self.dim_h * 2),\n",
        "            #nn.ReLU(True),\n",
        "            nn.LeakyReLU(0.2, inplace=True),\n",
        "            nn.Conv2d(self.dim_h * 2, self.dim_h * 4, 4, 2, 1, bias=False),\n",
        "            nn.BatchNorm2d(self.dim_h * 4),\n",
        "            #nn.ReLU(True),\n",
        "            nn.LeakyReLU(0.2, inplace=True),\n",
        "            \n",
        "            \n",
        "            #nn.Conv2d(self.dim_h * 4, self.dim_h * 8, 4, 2, 0, bias=False),\n",
        "            \n",
        "            #3d and 32 by 32\n",
        "            nn.Conv2d(self.dim_h * 4, self.dim_h * 8, 4, 1, 0, bias=False),\n",
        "            \n",
        "            nn.BatchNorm2d(self.dim_h * 8), # 40 X 8 = 320\n",
        "            #nn.ReLU(True),\n",
        "            nn.LeakyReLU(0.2, inplace=True) )#,\n",
        "            #nn.Conv2d(self.dim_h * 8, 1, 2, 1, 0, bias=False))\n",
        "            #nn.Conv2d(self.dim_h * 8, 1, 4, 1, 0, bias=False))\n",
        "        # final layer is fully connected\n",
        "        self.fc = nn.Linear(self.dim_h * (2 ** 3), self.n_z)\n",
        "        \n",
        "\n",
        "    def forward(self, x):\n",
        "        #print('enc')\n",
        "        #print('input ',x.size()) #torch.Size([100, 3,32,32])\n",
        "        x = self.conv(x)\n",
        "        \n",
        "        x = x.squeeze()\n",
        "        #print('aft squeeze ',x.size()) #torch.Size([128, 320])\n",
        "        #aft squeeze  torch.Size([100, 320])\n",
        "        x = self.fc(x)\n",
        "        #print('out ',x.size()) #torch.Size([128, 20])\n",
        "        #out  torch.Size([100, 300])\n",
        "        return x\n",
        "\n",
        "\n",
        "class Decoder(nn.Module):\n",
        "    def __init__(self, args):\n",
        "        super(Decoder, self).__init__()\n",
        "\n",
        "        self.n_channel = args['n_channel']\n",
        "        self.dim_h = args['dim_h']\n",
        "        self.n_z = args['n_z']\n",
        "\n",
        "        # first layer is fully connected\n",
        "        self.fc = nn.Sequential(\n",
        "            nn.Linear(self.n_z, self.dim_h * 2**4 * 8 * 8),\n",
        "            nn.ReLU())\n",
        "\n",
        "        # deconvolutional filters, essentially inverse of convolutional filters\n",
        "        self.deconv = nn.Sequential(\n",
        "            nn.ConvTranspose2d(self.dim_h * 16, self.dim_h * 8, 4),\n",
        "            nn.BatchNorm2d(self.dim_h * 8),\n",
        "            nn.ReLU(True),\n",
        "            nn.ConvTranspose2d(self.dim_h * 8, self.dim_h * 4, 4),\n",
        "            nn.BatchNorm2d(self.dim_h * 4),\n",
        "            nn.ReLU(True),\n",
        "            nn.ConvTranspose2d(self.dim_h * 4, self.dim_h * 2, 4),\n",
        "            nn.BatchNorm2d(self.dim_h * 2),\n",
        "            nn.ReLU(True),\n",
        "            nn.ConvTranspose2d(self.dim_h * 2, 3, 4, stride=2, padding=2),\n",
        "            #nn.Sigmoid())\n",
        "            nn.Tanh())\n",
        "\n",
        "    def forward(self, x):\n",
        "        #print('dec')\n",
        "        #print('input ',x.size())\n",
        "        x = self.fc(x)\n",
        "        x = x.view(-1, self.dim_h * 2**4, 8, 8)\n",
        "        x = self.deconv(x)\n",
        "        return x\n",
        "\n",
        "##############################################################################\n",
        "\"\"\"set models, loss functions\"\"\"\n",
        "# control which parameters are frozen / free for optimization\n",
        "def free_params(module: nn.Module):\n",
        "    for p in module.parameters():\n",
        "        p.requires_grad = True\n",
        "\n",
        "def frozen_params(module: nn.Module):\n",
        "    for p in module.parameters():\n",
        "        p.requires_grad = False\n",
        "\n",
        "\n",
        "##############################################################################\n",
        "\"\"\"functions to create SMOTE images\"\"\"\n",
        "\n",
        "def biased_get_class(c):\n",
        "    \n",
        "    xbeg = dec_x[dec_y == c]\n",
        "    ybeg = dec_y[dec_y == c]\n",
        "    \n",
        "    return xbeg, ybeg\n",
        "    #return xclass, yclass\n",
        "\n",
        "\n",
        "def G_SM(X, y,n_to_sample,cl):\n",
        "\n",
        "    # determining the number of samples to generate\n",
        "    #n_to_sample = 10 \n",
        "\n",
        "    # fitting the model\n",
        "    n_neigh = 5 + 1\n",
        "    nn = NearestNeighbors(n_neighbors=n_neigh, n_jobs=1)\n",
        "    nn.fit(X)\n",
        "    dist, ind = nn.kneighbors(X)\n",
        "\n",
        "    # generating samples\n",
        "    base_indices = np.random.choice(list(range(len(X))),n_to_sample)\n",
        "    neighbor_indices = np.random.choice(list(range(1, n_neigh)),n_to_sample)\n",
        "\n",
        "    X_base = X[base_indices]\n",
        "    X_neighbor = X[ind[base_indices, neighbor_indices]]\n",
        "\n",
        "    samples = X_base + np.multiply(np.random.rand(n_to_sample,1),\n",
        "            X_neighbor - X_base)\n",
        "\n",
        "    #use 10 as label because 0 to 9 real classes and 1 fake/smoted = 10\n",
        "    return samples, [cl]*n_to_sample\n",
        "\n",
        "#xsamp, ysamp = SM(xclass,yclass)"
      ]
    },
    {
      "cell_type": "code",
      "execution_count": null,
      "metadata": {
        "colab": {
          "base_uri": "https://localhost:8080/"
        },
        "id": "oHtLISURIMTg",
        "outputId": "233e5edf-bf0b-46f0-8bfd-f436597063bc"
      },
      "outputs": [
        {
          "name": "stdout",
          "output_type": "stream",
          "text": [
            "cuda\n",
            "Epoch: 0 \tTrain Loss: 0.460336 \tmse loss: 0.240478 \tmse2 loss: 0.219858\n",
            "Saving..\n",
            "Epoch: 1 \tTrain Loss: 0.135306 \tmse loss: 0.070629 \tmse2 loss: 0.064677\n",
            "Saving..\n",
            "Epoch: 2 \tTrain Loss: 0.109741 \tmse loss: 0.058832 \tmse2 loss: 0.050909\n",
            "Saving..\n",
            "Epoch: 3 \tTrain Loss: 0.095568 \tmse loss: 0.049689 \tmse2 loss: 0.045879\n",
            "Saving..\n",
            "Epoch: 4 \tTrain Loss: 0.085469 \tmse loss: 0.045838 \tmse2 loss: 0.039631\n",
            "Saving..\n",
            "Epoch: 5 \tTrain Loss: 0.078804 \tmse loss: 0.043548 \tmse2 loss: 0.035256\n",
            "Saving..\n",
            "Epoch: 6 \tTrain Loss: 0.075646 \tmse loss: 0.041972 \tmse2 loss: 0.033674\n",
            "Saving..\n",
            "Epoch: 7 \tTrain Loss: 0.073979 \tmse loss: 0.040878 \tmse2 loss: 0.033101\n",
            "Saving..\n",
            "Epoch: 8 \tTrain Loss: 0.065938 \tmse loss: 0.037266 \tmse2 loss: 0.028672\n",
            "Saving..\n",
            "Epoch: 9 \tTrain Loss: 0.061393 \tmse loss: 0.035039 \tmse2 loss: 0.026353\n",
            "Saving..\n",
            "Epoch: 10 \tTrain Loss: 0.060747 \tmse loss: 0.034673 \tmse2 loss: 0.026074\n",
            "Saving..\n",
            "Epoch: 11 \tTrain Loss: 0.057085 \tmse loss: 0.032988 \tmse2 loss: 0.024097\n",
            "Saving..\n",
            "Epoch: 12 \tTrain Loss: 0.054603 \tmse loss: 0.032039 \tmse2 loss: 0.022565\n",
            "Saving..\n",
            "Epoch: 13 \tTrain Loss: 0.050429 \tmse loss: 0.029791 \tmse2 loss: 0.020638\n",
            "Saving..\n",
            "Epoch: 14 \tTrain Loss: 0.046142 \tmse loss: 0.027602 \tmse2 loss: 0.018541\n",
            "Saving..\n",
            "Epoch: 15 \tTrain Loss: 0.046039 \tmse loss: 0.027895 \tmse2 loss: 0.018143\n",
            "Saving..\n",
            "Epoch: 16 \tTrain Loss: 0.043569 \tmse loss: 0.026308 \tmse2 loss: 0.017261\n",
            "Saving..\n",
            "Epoch: 17 \tTrain Loss: 0.043104 \tmse loss: 0.026006 \tmse2 loss: 0.017098\n",
            "Saving..\n",
            "Epoch: 18 \tTrain Loss: 0.040572 \tmse loss: 0.024558 \tmse2 loss: 0.016013\n",
            "Saving..\n",
            "Epoch: 19 \tTrain Loss: 0.038300 \tmse loss: 0.023391 \tmse2 loss: 0.014909\n",
            "Saving..\n",
            "Epoch: 20 \tTrain Loss: 0.036967 \tmse loss: 0.022767 \tmse2 loss: 0.014200\n",
            "Saving..\n",
            "Epoch: 21 \tTrain Loss: 0.036967 \tmse loss: 0.022921 \tmse2 loss: 0.014046\n",
            "Epoch: 22 \tTrain Loss: 0.035027 \tmse loss: 0.021855 \tmse2 loss: 0.013172\n",
            "Saving..\n",
            "Epoch: 23 \tTrain Loss: 0.033657 \tmse loss: 0.021259 \tmse2 loss: 0.012399\n",
            "Saving..\n",
            "Epoch: 24 \tTrain Loss: 0.032991 \tmse loss: 0.020740 \tmse2 loss: 0.012252\n",
            "Saving..\n",
            "Epoch: 25 \tTrain Loss: 0.031015 \tmse loss: 0.019649 \tmse2 loss: 0.011366\n",
            "Saving..\n",
            "Epoch: 26 \tTrain Loss: 0.030275 \tmse loss: 0.019245 \tmse2 loss: 0.011030\n",
            "Saving..\n",
            "Epoch: 27 \tTrain Loss: 0.029004 \tmse loss: 0.018351 \tmse2 loss: 0.010652\n",
            "Saving..\n",
            "Epoch: 28 \tTrain Loss: 0.028609 \tmse loss: 0.018064 \tmse2 loss: 0.010545\n",
            "Saving..\n",
            "Epoch: 29 \tTrain Loss: 0.027706 \tmse loss: 0.017893 \tmse2 loss: 0.009813\n",
            "Saving..\n",
            "Epoch: 30 \tTrain Loss: 0.025469 \tmse loss: 0.016538 \tmse2 loss: 0.008932\n",
            "Saving..\n",
            "Epoch: 31 \tTrain Loss: 0.026071 \tmse loss: 0.016664 \tmse2 loss: 0.009408\n",
            "Epoch: 32 \tTrain Loss: 0.025624 \tmse loss: 0.016482 \tmse2 loss: 0.009142\n",
            "Epoch: 33 \tTrain Loss: 0.024203 \tmse loss: 0.015747 \tmse2 loss: 0.008456\n",
            "Saving..\n",
            "Epoch: 34 \tTrain Loss: 0.024451 \tmse loss: 0.015649 \tmse2 loss: 0.008803\n",
            "Epoch: 35 \tTrain Loss: 0.023914 \tmse loss: 0.015583 \tmse2 loss: 0.008331\n",
            "Saving..\n",
            "Epoch: 36 \tTrain Loss: 0.021918 \tmse loss: 0.014221 \tmse2 loss: 0.007696\n",
            "Saving..\n",
            "Epoch: 37 \tTrain Loss: 0.022003 \tmse loss: 0.014464 \tmse2 loss: 0.007538\n",
            "Epoch: 38 \tTrain Loss: 0.021623 \tmse loss: 0.014253 \tmse2 loss: 0.007370\n",
            "Saving..\n",
            "Epoch: 39 \tTrain Loss: 0.021462 \tmse loss: 0.013977 \tmse2 loss: 0.007485\n",
            "Saving..\n",
            "Epoch: 40 \tTrain Loss: 0.021446 \tmse loss: 0.014052 \tmse2 loss: 0.007394\n",
            "Saving..\n",
            "Epoch: 41 \tTrain Loss: 0.019796 \tmse loss: 0.013020 \tmse2 loss: 0.006776\n",
            "Saving..\n",
            "Epoch: 42 \tTrain Loss: 0.019911 \tmse loss: 0.013204 \tmse2 loss: 0.006707\n",
            "Epoch: 43 \tTrain Loss: 0.020062 \tmse loss: 0.013419 \tmse2 loss: 0.006643\n",
            "Epoch: 44 \tTrain Loss: 0.019150 \tmse loss: 0.012785 \tmse2 loss: 0.006364\n",
            "Saving..\n",
            "Epoch: 45 \tTrain Loss: 0.018729 \tmse loss: 0.012455 \tmse2 loss: 0.006274\n",
            "Saving..\n",
            "Epoch: 46 \tTrain Loss: 0.019136 \tmse loss: 0.012741 \tmse2 loss: 0.006395\n",
            "Epoch: 47 \tTrain Loss: 0.017625 \tmse loss: 0.011815 \tmse2 loss: 0.005809\n",
            "Saving..\n",
            "Epoch: 48 \tTrain Loss: 0.018012 \tmse loss: 0.012037 \tmse2 loss: 0.005975\n",
            "Epoch: 49 \tTrain Loss: 0.017280 \tmse loss: 0.011525 \tmse2 loss: 0.005755\n",
            "Saving..\n",
            "Epoch: 50 \tTrain Loss: 0.017411 \tmse loss: 0.011715 \tmse2 loss: 0.005696\n",
            "Epoch: 51 \tTrain Loss: 0.017844 \tmse loss: 0.011775 \tmse2 loss: 0.006069\n",
            "Epoch: 52 \tTrain Loss: 0.016566 \tmse loss: 0.011062 \tmse2 loss: 0.005504\n",
            "Saving..\n",
            "Epoch: 53 \tTrain Loss: 0.016378 \tmse loss: 0.010894 \tmse2 loss: 0.005484\n",
            "Saving..\n",
            "Epoch: 54 \tTrain Loss: 0.017184 \tmse loss: 0.011550 \tmse2 loss: 0.005633\n",
            "Epoch: 55 \tTrain Loss: 0.015793 \tmse loss: 0.010701 \tmse2 loss: 0.005092\n",
            "Saving..\n",
            "Epoch: 56 \tTrain Loss: 0.015438 \tmse loss: 0.010300 \tmse2 loss: 0.005138\n",
            "Saving..\n",
            "Epoch: 57 \tTrain Loss: 0.016157 \tmse loss: 0.010662 \tmse2 loss: 0.005495\n",
            "Epoch: 58 \tTrain Loss: 0.015244 \tmse loss: 0.010235 \tmse2 loss: 0.005009\n",
            "Saving..\n",
            "Epoch: 59 \tTrain Loss: 0.014930 \tmse loss: 0.010095 \tmse2 loss: 0.004835\n",
            "Saving..\n",
            "Epoch: 60 \tTrain Loss: 0.015409 \tmse loss: 0.010347 \tmse2 loss: 0.005062\n",
            "Epoch: 61 \tTrain Loss: 0.015219 \tmse loss: 0.010300 \tmse2 loss: 0.004919\n",
            "Epoch: 62 \tTrain Loss: 0.014006 \tmse loss: 0.009613 \tmse2 loss: 0.004393\n",
            "Saving..\n",
            "Epoch: 63 \tTrain Loss: 0.014490 \tmse loss: 0.009821 \tmse2 loss: 0.004669\n",
            "Epoch: 64 \tTrain Loss: 0.014394 \tmse loss: 0.009778 \tmse2 loss: 0.004616\n",
            "Epoch: 65 \tTrain Loss: 0.014505 \tmse loss: 0.009847 \tmse2 loss: 0.004658\n",
            "Epoch: 66 \tTrain Loss: 0.014208 \tmse loss: 0.009588 \tmse2 loss: 0.004620\n",
            "Epoch: 67 \tTrain Loss: 0.013376 \tmse loss: 0.009139 \tmse2 loss: 0.004237\n",
            "Saving..\n",
            "Epoch: 68 \tTrain Loss: 0.013505 \tmse loss: 0.009141 \tmse2 loss: 0.004364\n",
            "Epoch: 69 \tTrain Loss: 0.013663 \tmse loss: 0.009328 \tmse2 loss: 0.004335\n",
            "Epoch: 70 \tTrain Loss: 0.013582 \tmse loss: 0.009176 \tmse2 loss: 0.004407\n",
            "Epoch: 71 \tTrain Loss: 0.013027 \tmse loss: 0.008761 \tmse2 loss: 0.004266\n",
            "Saving..\n",
            "Epoch: 72 \tTrain Loss: 0.012496 \tmse loss: 0.008503 \tmse2 loss: 0.003993\n",
            "Saving..\n",
            "Epoch: 73 \tTrain Loss: 0.012871 \tmse loss: 0.008745 \tmse2 loss: 0.004126\n",
            "Epoch: 74 \tTrain Loss: 0.012556 \tmse loss: 0.008532 \tmse2 loss: 0.004024\n",
            "Epoch: 75 \tTrain Loss: 0.013121 \tmse loss: 0.008932 \tmse2 loss: 0.004188\n",
            "Epoch: 76 \tTrain Loss: 0.012304 \tmse loss: 0.008359 \tmse2 loss: 0.003945\n",
            "Saving..\n",
            "Epoch: 77 \tTrain Loss: 0.011884 \tmse loss: 0.008084 \tmse2 loss: 0.003800\n",
            "Saving..\n",
            "Epoch: 78 \tTrain Loss: 0.012064 \tmse loss: 0.008280 \tmse2 loss: 0.003783\n",
            "Epoch: 79 \tTrain Loss: 0.012178 \tmse loss: 0.008239 \tmse2 loss: 0.003939\n",
            "Epoch: 80 \tTrain Loss: 0.012322 \tmse loss: 0.008342 \tmse2 loss: 0.003980\n",
            "Epoch: 81 \tTrain Loss: 0.012100 \tmse loss: 0.008222 \tmse2 loss: 0.003878\n",
            "Epoch: 82 \tTrain Loss: 0.011397 \tmse loss: 0.007763 \tmse2 loss: 0.003634\n",
            "Saving..\n",
            "Epoch: 83 \tTrain Loss: 0.011462 \tmse loss: 0.007844 \tmse2 loss: 0.003618\n",
            "Epoch: 84 \tTrain Loss: 0.012527 \tmse loss: 0.008553 \tmse2 loss: 0.003975\n",
            "Epoch: 85 \tTrain Loss: 0.011341 \tmse loss: 0.007850 \tmse2 loss: 0.003490\n",
            "Saving..\n",
            "Epoch: 86 \tTrain Loss: 0.010976 \tmse loss: 0.007601 \tmse2 loss: 0.003375\n",
            "Saving..\n",
            "Epoch: 87 \tTrain Loss: 0.010960 \tmse loss: 0.007536 \tmse2 loss: 0.003424\n",
            "Saving..\n",
            "Epoch: 88 \tTrain Loss: 0.010934 \tmse loss: 0.007500 \tmse2 loss: 0.003434\n",
            "Saving..\n",
            "Epoch: 89 \tTrain Loss: 0.010952 \tmse loss: 0.007504 \tmse2 loss: 0.003448\n",
            "Epoch: 90 \tTrain Loss: 0.010898 \tmse loss: 0.007466 \tmse2 loss: 0.003432\n",
            "Saving..\n",
            "Epoch: 91 \tTrain Loss: 0.010589 \tmse loss: 0.007292 \tmse2 loss: 0.003296\n",
            "Saving..\n",
            "Epoch: 92 \tTrain Loss: 0.010472 \tmse loss: 0.007210 \tmse2 loss: 0.003261\n",
            "Saving..\n",
            "Epoch: 93 \tTrain Loss: 0.010358 \tmse loss: 0.007162 \tmse2 loss: 0.003197\n",
            "Saving..\n",
            "Epoch: 94 \tTrain Loss: 0.010446 \tmse loss: 0.007190 \tmse2 loss: 0.003256\n",
            "Epoch: 95 \tTrain Loss: 0.010558 \tmse loss: 0.007315 \tmse2 loss: 0.003243\n",
            "Epoch: 96 \tTrain Loss: 0.010062 \tmse loss: 0.006993 \tmse2 loss: 0.003069\n",
            "Saving..\n",
            "Epoch: 97 \tTrain Loss: 0.010361 \tmse loss: 0.007120 \tmse2 loss: 0.003241\n",
            "Epoch: 98 \tTrain Loss: 0.011163 \tmse loss: 0.007587 \tmse2 loss: 0.003575\n",
            "Epoch: 99 \tTrain Loss: 0.010155 \tmse loss: 0.007001 \tmse2 loss: 0.003154\n",
            "/content/drive/MyDrive/PHD/Model/DeepSMOTE/f_enc.pth\n",
            "/content/drive/MyDrive/PHD/Model/DeepSMOTE/f_dec.pth\n"
          ]
        }
      ],
      "source": [
        "#Begin the training\n",
        "batch_size = args['batch_size']\n",
        "patience = args['patience']\n",
        "encoder = Encoder(args)\n",
        "decoder = Decoder(args)\n",
        "\n",
        "device = 'cuda' if torch.cuda.is_available() else 'cpu'\n",
        "print(device)\n",
        "decoder = decoder.to(device)\n",
        "encoder = encoder.to(device)\n",
        "\n",
        "train_on_gpu = torch.cuda.is_available()\n",
        "\n",
        "#decoder loss function\n",
        "criterion = nn.MSELoss()\n",
        "criterion = criterion.to(device)\n",
        "\n",
        "num_workers = 0\n",
        "\n",
        "#torch.Tensor returns float so if want long then use torch.tensor\n",
        "tensor_x = torch.Tensor(dec_x)\n",
        "tensor_y = torch.tensor(dec_y,dtype=torch.long)\n",
        "mnist_bal = TensorDataset(tensor_x,tensor_y) \n",
        "train_loader = torch.utils.data.DataLoader(mnist_bal, \n",
        "    batch_size=batch_size,shuffle=True,num_workers=num_workers)\n",
        "\n",
        "best_loss = np.inf\n",
        "\n",
        "t0 = time.time()\n",
        "if args['train']:\n",
        "    enc_optim = torch.optim.Adam(encoder.parameters(), lr = args['lr'])\n",
        "    dec_optim = torch.optim.Adam(decoder.parameters(), lr = args['lr'])\n",
        "\n",
        "    for epoch in range(args['epochs']):\n",
        "        train_loss = 0.0\n",
        "        tmse_loss = 0.0\n",
        "        tdiscr_loss = 0.0\n",
        "        # train for one epoch -- set nets to train mode\n",
        "        encoder.train()\n",
        "        decoder.train()\n",
        "    \n",
        "        for images,labs in train_loader:\n",
        "        \n",
        "            # zero gradients for each batch\n",
        "            encoder.zero_grad()\n",
        "            decoder.zero_grad()\n",
        "            images, labs = images.to(device), labs.to(device)\n",
        "            labsn = labs.detach().cpu().numpy()\n",
        "#            print('images shape', images.shape)\n",
        "            # run images\n",
        "            z_hat = encoder(images)\n",
        "#            print('images shape after encoding', z_hat.shape)\n",
        "        \n",
        "            x_hat = decoder(z_hat) #decoder outputs tanh\n",
        "#            print('images shape after decoding', x_hat.shape)\n",
        "            mse = criterion(x_hat,images)\n",
        "                    \n",
        "            resx = []\n",
        "            resy = []\n",
        "        \n",
        "            tc = np.random.choice(num_classes,1)\n",
        "            #tc = 9\n",
        "            xbeg = dec_x[dec_y == tc]\n",
        "            ybeg = dec_y[dec_y == tc] \n",
        "            xlen = len(xbeg)\n",
        "            nsamp = min(xlen, 100)\n",
        "            ind = np.random.choice(list(range(len(xbeg))),nsamp,replace=False)\n",
        "            xclass = xbeg[ind]\n",
        "            yclass = ybeg[ind]\n",
        "        \n",
        "            xclen = len(xclass)\n",
        "            xcminus = np.arange(1,xclen)\n",
        "            \n",
        "            xcplus = np.append(xcminus,0)\n",
        "            xcnew = (xclass[[xcplus],:])\n",
        "            xcnew = xcnew.reshape(xcnew.shape[1],xcnew.shape[2],xcnew.shape[3],xcnew.shape[4])\n",
        "        \n",
        "            xcnew = torch.Tensor(xcnew)\n",
        "            xcnew = xcnew.to(device)\n",
        "        \n",
        "            #encode xclass to feature space\n",
        "            xclass = torch.Tensor(xclass)\n",
        "            xclass = xclass.to(device)\n",
        "            xclass = encoder(xclass)\n",
        "        \n",
        "            xclass = xclass.detach().cpu().numpy()\n",
        "        \n",
        "            xc_enc = (xclass[[xcplus],:])\n",
        "            xc_enc = np.squeeze(xc_enc)\n",
        "        \n",
        "            xc_enc = torch.Tensor(xc_enc)\n",
        "            xc_enc = xc_enc.to(device)\n",
        "            \n",
        "            ximg = decoder(xc_enc)\n",
        "            \n",
        "            mse2 = criterion(ximg,xcnew)\n",
        "        \n",
        "            comb_loss = mse2 + mse\n",
        "            comb_loss.backward()\n",
        "        \n",
        "            enc_optim.step()\n",
        "            dec_optim.step()\n",
        "        \n",
        "            train_loss += comb_loss.item()*images.size(0)\n",
        "            tmse_loss += mse.item()*images.size(0)\n",
        "            tdiscr_loss += mse2.item()*images.size(0)\n",
        "\n",
        "        train_loss = train_loss/len(train_loader)\n",
        "        tmse_loss = tmse_loss/len(train_loader)\n",
        "        tdiscr_loss = tdiscr_loss/len(train_loader)\n",
        "        print('Epoch: {} \\tTrain Loss: {:.6f} \\tmse loss: {:.6f} \\tmse2 loss: {:.6f}'.format(epoch,\n",
        "                train_loss,tmse_loss,tdiscr_loss))\n",
        "        \n",
        "    \n",
        "    \n",
        "        #store the best encoder and decoder models\n",
        "        #here, /crs5 is a reference to 5 way cross validation, but is not\n",
        "        #necessary for illustration purposes\n",
        "        if train_loss < best_loss:\n",
        "            print('Saving..')\n",
        "            patience = args['patience']\n",
        "            path_enc = '/content/drive/MyDrive/PHD/Model/DeepSMOTE/bst_enc.pth'\n",
        "            path_dec = '/content/drive/MyDrive/PHD/Model/DeepSMOTE/bst_dec.pth'\n",
        "          \n",
        "            torch.save(encoder.state_dict(), path_enc)\n",
        "            torch.save(decoder.state_dict(), path_dec)\n",
        "    \n",
        "            best_loss = train_loss\n",
        "        else:\n",
        "            patience -= 1\n",
        "\n",
        "        if patience == 0:\n",
        "            print('Out of patience. \\n')\n",
        "            break\n",
        "    \n",
        "    \n",
        "    #in addition, store the final model (may not be the best) for\n",
        "    #informational purposes\n",
        "    path_enc = '/content/drive/MyDrive/PHD/Model/DeepSMOTE/f_enc.pth'\n",
        "    path_dec = '/content/drive/MyDrive/PHD/Model/DeepSMOTE/f_dec.pth'\n",
        "    print(path_enc)\n",
        "    print(path_dec)\n",
        "    torch.save(encoder.state_dict(), path_enc)\n",
        "    torch.save(decoder.state_dict(), path_dec)"
      ]
    },
    {
      "cell_type": "code",
      "execution_count": null,
      "metadata": {
        "colab": {
          "base_uri": "https://localhost:8080/"
        },
        "id": "NoqPIVKqF5Ug",
        "outputId": "5e2d2d09-4032-4d5e-c744-70f5fe20b6fd"
      },
      "outputs": [
        {
          "name": "stdout",
          "output_type": "stream",
          "text": [
            "train imgs shape  (4986, 3, 32, 32)\n",
            "decy  (4986,)\n",
            "(11732, 3072)\n",
            "(11732,)\n"
          ]
        }
      ],
      "source": [
        "#Generate artificial images\n",
        "import torch\n",
        "np.printoptions(precision=5,suppress=True)\n",
        "\n",
        "#path on the computer where the models are stored\n",
        "modpth = '/content/drive/MyDrive/PHD/Model/DeepSMOTE/'\n",
        "\n",
        "encf = []\n",
        "decf = []\n",
        "for p in range(1):\n",
        "    enc = modpth + '/bst_enc.pth'\n",
        "    dec = modpth + '/bst_dec.pth'\n",
        "    encf.append(enc)\n",
        "    decf.append(dec)\n",
        "\n",
        "for m in range(1):\n",
        "    print('train imgs shape ',dec_x.shape) #(45000,3,32,32)\n",
        "    print('decy ',dec_y.shape)\n",
        "    \n",
        "    #generate some images \n",
        "    train_on_gpu = torch.cuda.is_available()\n",
        "    device = 'cuda' if torch.cuda.is_available() else 'cpu'\n",
        "    \n",
        "    path_enc = encf[m]\n",
        "    path_dec = decf[m]\n",
        "\n",
        "    encoder = Encoder(args)\n",
        "    encoder.load_state_dict(torch.load(path_enc), strict=False)\n",
        "    encoder = encoder.to(device)\n",
        "\n",
        "    decoder = Decoder(args)\n",
        "    decoder.load_state_dict(torch.load(path_dec), strict=False)\n",
        "    decoder = decoder.to(device)\n",
        "\n",
        "    encoder.eval()\n",
        "    decoder.eval()\n",
        "\n",
        "    imbal = counter#[114, 376, 95, 438, 357, 462, 77, 181, 139]\n",
        "\n",
        "    resx = []\n",
        "    resy = []\n",
        "\n",
        "    for i in [0,1,2,3,4,6]: #skip class 5 since it's max class\n",
        "        torch.cuda.empty_cache()\n",
        "\n",
        "        xclass, yclass = biased_get_class(i)\n",
        "#        print(xclass.shape) #(500, 3, 32, 32)\n",
        "#        print(yclass[0]) #(500,)\n",
        "            \n",
        "        #encode xclass to feature space\n",
        "        xclass = torch.Tensor(xclass)\n",
        "        xclass = xclass.to(device)\n",
        "        xclass = encoder(xclass)\n",
        "            \n",
        "        xclass = xclass.detach().cpu().numpy()\n",
        "        n = imbal[5] - imbal[i]\n",
        "        xsamp, ysamp = G_SM(xclass,yclass,n,i)\n",
        "#        print(xsamp.shape) #(4500, 600)\n",
        "#        print(len(ysamp)) #4500\n",
        "        ysamp = np.array(ysamp)\n",
        "    \n",
        "        \"\"\"to generate samples for resnet\"\"\"   \n",
        "        xsamp = torch.Tensor(xsamp)\n",
        "        xsamp = xsamp.to(device)\n",
        "        ximg = decoder(xsamp)\n",
        "\n",
        "        ximn = ximg.detach().cpu().numpy()\n",
        "#        print(ximn.shape) \n",
        "        resx.append(ximn)\n",
        "        resy.append(ysamp)\n",
        "    \n",
        "    resx1 = np.vstack(resx)\n",
        "    resy1 = np.hstack(resy)\n",
        "#    print(resx1.shape) #(34720, 3, 32, 32)\n",
        "\n",
        "    resx1 = resx1.reshape(resx1.shape[0],-1)\n",
        "#    print(resx1.shape) #(34720, 3072)\n",
        "    \n",
        "    dec_x1 = dec_x.reshape(dec_x.shape[0],-1)\n",
        "#    print('decx1 ',dec_x1.shape)\n",
        "    combx = np.vstack((resx1,dec_x1))\n",
        "    comby = np.hstack((resy1,dec_y))\n",
        "\n",
        "    print(combx.shape) #(45000, 3, 32, 32)\n",
        "    print(comby.shape) #(45000,)\n",
        "#    print()"
      ]
    },
    {
      "cell_type": "code",
      "execution_count": null,
      "metadata": {
        "colab": {
          "base_uri": "https://localhost:8080/"
        },
        "id": "76bpFBQcHLIY",
        "outputId": "778df4ec-f880-41df-c474-8c2f533b4c6f"
      },
      "outputs": [
        {
          "name": "stdout",
          "output_type": "stream",
          "text": [
            "X_train shape:  (11732, 32, 32, 3)\n",
            "Counter({0: 1676, 1: 1676, 2: 1676, 3: 1676, 4: 1676, 6: 1676, 5: 1676})\n"
          ]
        }
      ],
      "source": [
        "X_train = combx.reshape(-1, 3, IMAGE_W, IMAGE_H)\n",
        "X_train = moveaxis(X_train, 1, 3)\n",
        "print('X_train shape: ',X_train.shape)\n",
        "y_train = comby\n",
        "print(Counter(comby))"
      ]
    },
    {
      "cell_type": "code",
      "execution_count": null,
      "metadata": {
        "id": "8SqyvSgX8sLO"
      },
      "outputs": [],
      "source": [
        "X_train = X_train * 255\n",
        "X_train = X_train.astype(int)"
      ]
    },
    {
      "cell_type": "markdown",
      "metadata": {
        "id": "US0KkIaVlTdU"
      },
      "source": [
        "#Data Transformation"
      ]
    },
    {
      "cell_type": "code",
      "execution_count": 22,
      "metadata": {
        "id": "_a_lPCqbibaS",
        "colab": {
          "base_uri": "https://localhost:8080/"
        },
        "outputId": "6af68ffc-1610-4463-fdf5-9cff60f341eb"
      },
      "outputs": [
        {
          "output_type": "stream",
          "name": "stdout",
          "text": [
            "y_train shape:  (37821, 1)\n"
          ]
        }
      ],
      "source": [
        "y_train = y_train.reshape(-1, 1)\n",
        "y_val = y_val.reshape(-1, 1)\n",
        "print('y_train shape: ',y_train.shape)"
      ]
    },
    {
      "cell_type": "code",
      "execution_count": 23,
      "metadata": {
        "id": "ja5ZmgbCvDw5"
      },
      "outputs": [],
      "source": [
        "from keras.utils.np_utils import to_categorical\n",
        "y_train = to_categorical(y_train, num_classes = num_classes)\n",
        "y_val = to_categorical(y_val, num_classes = num_classes)"
      ]
    },
    {
      "cell_type": "code",
      "execution_count": 24,
      "metadata": {
        "id": "ioaoIkk4G2pf"
      },
      "outputs": [],
      "source": [
        "#X_val = X_val.astype(int)"
      ]
    },
    {
      "cell_type": "code",
      "execution_count": 25,
      "metadata": {
        "id": "9QM00erNGU32",
        "colab": {
          "base_uri": "https://localhost:8080/"
        },
        "outputId": "d50125ca-b4b9-4da4-fad8-8c40d5c15aa7"
      },
      "outputs": [
        {
          "output_type": "stream",
          "name": "stdout",
          "text": [
            "(37821, 128, 128, 3)\n",
            "(37821, 7)\n",
            "(193, 128, 128, 3)\n",
            "(193, 7)\n"
          ]
        }
      ],
      "source": [
        "print(X_train.shape)\n",
        "print(y_train.shape)\n",
        "print(X_val.shape)\n",
        "print(y_val.shape)"
      ]
    },
    {
      "cell_type": "markdown",
      "metadata": {
        "id": "0jrJ33lUDkCM"
      },
      "source": [
        "#Split dataset to train and val"
      ]
    },
    {
      "cell_type": "code",
      "execution_count": null,
      "metadata": {
        "colab": {
          "base_uri": "https://localhost:8080/"
        },
        "id": "e6qneWL_Bs2U",
        "outputId": "22c2c4ff-5544-4dd8-b69a-af96b4b97616"
      },
      "outputs": [
        {
          "name": "stdout",
          "output_type": "stream",
          "text": [
            "Train Data:  (9814, 32, 32, 3)\n",
            "Remaining Data:  (201, 32, 32, 3)\n"
          ]
        }
      ],
      "source": [
        "# stratified train and rem (20%) datasets\n",
        "from sklearn.model_selection import train_test_split\n",
        "X_train, X_val, y_train, y_val = train_test_split(X, y, test_size=0.02, stratify=y, random_state=1)\n",
        "\n",
        "print('Train Data: ', X_train.shape)\n",
        "print('Remaining Data: ', X_val.shape)"
      ]
    },
    {
      "cell_type": "code",
      "execution_count": null,
      "metadata": {
        "colab": {
          "base_uri": "https://localhost:8080/"
        },
        "id": "Vai7M7WSXVY4",
        "outputId": "b9bc1199-a518-4a8b-9d6e-4d6038efbafe"
      },
      "outputs": [
        {
          "name": "stdout",
          "output_type": "stream",
          "text": [
            "Test Data:  (416, 32, 32, 3)\n",
            "Val Data:  (416, 32, 32, 3)\n"
          ]
        }
      ],
      "source": [
        "# stratified val and test (50%) \n",
        "from sklearn.model_selection import train_test_split\n",
        "X_test, X_val, y_test, y_val = train_test_split(X_rem, y_rem, test_size=0.5, stratify=y_rem, random_state=1)\n",
        "\n",
        "print('Test Data: ', X_test.shape)\n",
        "print('Val Data: ', X_val.shape)"
      ]
    },
    {
      "cell_type": "markdown",
      "metadata": {
        "id": "I15HgVuhjFlm"
      },
      "source": [
        ""
      ]
    },
    {
      "cell_type": "code",
      "execution_count": null,
      "metadata": {
        "colab": {
          "base_uri": "https://localhost:8080/"
        },
        "id": "oVVOQPNiHXHw",
        "outputId": "a1e60310-4f3b-4063-8465-4d7120d225c9"
      },
      "outputs": [
        {
          "name": "stdout",
          "output_type": "stream",
          "text": [
            "Train Data:  (2015, 32, 32, 3)\n",
            "Test Data:  (224, 32, 32, 3)\n"
          ]
        }
      ],
      "source": [
        "#optional\n",
        "# stratified train and test (10%) datasets\n",
        "from sklearn.model_selection import train_test_split\n",
        "X_train, X_test, y_train, y_test = train_test_split(X, y, test_size=0.1, stratify=y, random_state=1)\n",
        "\n",
        "print('Train Data: ', X_train.shape)\n",
        "print('Test Data: ', X_test.shape)"
      ]
    },
    {
      "cell_type": "code",
      "execution_count": null,
      "metadata": {
        "colab": {
          "base_uri": "https://localhost:8080/"
        },
        "id": "0_oaUYYgJNV7",
        "outputId": "ca2f393a-0599-4cfc-b330-45d723f2bb06"
      },
      "outputs": [
        {
          "name": "stdout",
          "output_type": "stream",
          "text": [
            "Train Data:  (3369, 32, 32, 3)\n",
            "Val Data:  (375, 32, 32, 3)\n"
          ]
        }
      ],
      "source": [
        "#optional\n",
        "# stratified train and val (10%) datasets\n",
        "from sklearn.model_selection import train_test_split\n",
        "X_train, X_val, y_train, y_val = train_test_split(X, y, test_size=0.1, stratify=y, random_state=1)\n",
        "\n",
        "print('Train Data: ', X_train.shape)\n",
        "print('Val Data: ', X_val.shape)"
      ]
    },
    {
      "cell_type": "markdown",
      "metadata": {
        "id": "ZklPzWxCCtTW"
      },
      "source": [
        "Create and compile the model"
      ]
    },
    {
      "cell_type": "code",
      "execution_count": null,
      "metadata": {
        "id": "7jFShRvTHnqi"
      },
      "outputs": [],
      "source": [
        "print(X_train)"
      ]
    },
    {
      "cell_type": "code",
      "execution_count": null,
      "metadata": {
        "id": "8Kef4r_zxjgk"
      },
      "outputs": [],
      "source": [
        "#Data Augmentation\n",
        "dataaugment = ImageDataGenerator(\n",
        "        rotation_range=90,  # randomly rotate images in the range (degrees, 0 to 180)\n",
        "        zoom_range = 0.1, # Randomly zoom image \n",
        "        width_shift_range=0.1,  # randomly shift images horizontally (fraction of total width)\n",
        "        height_shift_range=0.1,  # randomly shift images vertically (fraction of total height)\n",
        "        horizontal_flip=True,  # randomly flip images\n",
        "        vertical_flip=True,  # randomly flip images\n",
        "        shear_range = 10) \n",
        "\n",
        "dataaugment.fit(X_train)"
      ]
    },
    {
      "cell_type": "markdown",
      "metadata": {
        "id": "5v7sLC2svMuJ"
      },
      "source": [
        "# Classification\n",
        "Model from https://github.com/AnasBrital98/CNN-From-Scratch/tree/master/Inception-V3"
      ]
    },
    {
      "cell_type": "code",
      "source": [
        "#USe TF.data\n",
        "import tensorflow as tf\n",
        "training_data = tf.data.Dataset.from_tensor_slices((X_train, y_train))\n",
        "validation_data = tf.data.Dataset.from_tensor_slices((X_val, y_val))"
      ],
      "metadata": {
        "id": "A8eRZiucdYnP"
      },
      "execution_count": 26,
      "outputs": []
    },
    {
      "cell_type": "code",
      "source": [
        "autotune = tf.data.AUTOTUNE\n",
        "train_data_batches = training_data.shuffle(buffer_size=40000).batch(32).prefetch(buffer_size=autotune)\n",
        "valid_data_batches = validation_data.shuffle(buffer_size=10000).batch(32).prefetch(buffer_size=autotune)"
      ],
      "metadata": {
        "id": "7xalxBh-3LNC"
      },
      "execution_count": 27,
      "outputs": []
    },
    {
      "cell_type": "code",
      "source": [
        "from tensorflow.keras import layers\n",
        "\n",
        "rescale_layer = tf.keras.Sequential([layers.experimental.preprocessing.Rescaling(1./255)])\n",
        "\n",
        "data_augmentation = tf.keras.Sequential([\n",
        "  layers.experimental.preprocessing.RandomFlip(\"horizontal_and_vertical\"),\n",
        "  layers.experimental.preprocessing.RandomRotation(0.2), \n",
        "  layers.experimental.preprocessing.RandomZoom(height_factor=(0.2, 0.3), width_factor=(0.2, 0.3)),\n",
        "  layers.experimental.preprocessing.RandomTranslation(0.3, 0.3, fill_mode='reflect', interpolation='bilinear',)\n",
        "])"
      ],
      "metadata": {
        "id": "Ge4UmF5R0a7V"
      },
      "execution_count": 28,
      "outputs": []
    },
    {
      "cell_type": "code",
      "source": [
        "optimizer = Adam(learning_rate=0.0005, beta_1=0.9, beta_2=0.999, epsilon=None, decay=0.0, amsgrad=False)\n",
        "\n",
        "EPOCHS = 1000\n",
        "BATCH_SIZE = 32\n",
        "\n",
        "#Callbacks\n",
        "best_model_fpath = '/content/drive/MyDrive/PHD/Model/best_model.h5'\n",
        "mc = ModelCheckpoint(best_model_fpath, monitor='val_accuracy', mode='max', verbose=1, save_best_only=True)\n",
        "learning_rate_reduction = ReduceLROnPlateau(monitor='val_loss', patience=10, verbose=0, factor=0.5, min_lr=0.00001)\n",
        "early_stopping_monitor = EarlyStopping(patience=20,monitor='val_accuracy')"
      ],
      "metadata": {
        "id": "mu6rr5apdJtf"
      },
      "execution_count": 29,
      "outputs": []
    },
    {
      "cell_type": "code",
      "execution_count": 30,
      "metadata": {
        "id": "rwwLiXUSG0IZ",
        "colab": {
          "base_uri": "https://localhost:8080/"
        },
        "outputId": "5408b3d2-6768-4e10-d38c-f48b9bd0167f"
      },
      "outputs": [
        {
          "output_type": "stream",
          "name": "stdout",
          "text": [
            "Downloading data from https://storage.googleapis.com/tensorflow/keras-applications/resnet/resnet50_weights_tf_dim_ordering_tf_kernels_notop.h5\n",
            "94773248/94765736 [==============================] - 0s 0us/step\n",
            "94781440/94765736 [==============================] - 0s 0us/step\n",
            "Epoch 1/1000\n",
            "1182/1182 [==============================] - ETA: 0s - loss: 7.9243 - accuracy: 0.1477\n",
            "Epoch 1: val_accuracy improved from -inf to 0.00518, saving model to /content/drive/MyDrive/PHD/Model/best_model.h5\n",
            "1182/1182 [==============================] - 55s 35ms/step - loss: 7.9243 - accuracy: 0.1477 - val_loss: 4.1608 - val_accuracy: 0.0052 - lr: 5.0000e-04\n",
            "Epoch 2/1000\n",
            "1181/1182 [============================>.] - ETA: 0s - loss: 7.7290 - accuracy: 0.1580\n",
            "Epoch 2: val_accuracy did not improve from 0.00518\n",
            "1182/1182 [==============================] - 36s 31ms/step - loss: 7.7293 - accuracy: 0.1580 - val_loss: 3.6219 - val_accuracy: 0.0052 - lr: 5.0000e-04\n",
            "Epoch 3/1000\n",
            "1181/1182 [============================>.] - ETA: 0s - loss: 7.6847 - accuracy: 0.1605\n",
            "Epoch 3: val_accuracy did not improve from 0.00518\n",
            "1182/1182 [==============================] - 36s 31ms/step - loss: 7.6850 - accuracy: 0.1605 - val_loss: 3.9271 - val_accuracy: 0.0052 - lr: 5.0000e-04\n",
            "Epoch 4/1000\n",
            "1181/1182 [============================>.] - ETA: 0s - loss: 7.6156 - accuracy: 0.1665\n",
            "Epoch 4: val_accuracy did not improve from 0.00518\n",
            "1182/1182 [==============================] - 36s 31ms/step - loss: 7.6162 - accuracy: 0.1665 - val_loss: 3.5731 - val_accuracy: 0.0052 - lr: 5.0000e-04\n",
            "Epoch 5/1000\n",
            "1181/1182 [============================>.] - ETA: 0s - loss: 7.5735 - accuracy: 0.1701\n",
            "Epoch 5: val_accuracy did not improve from 0.00518\n",
            "1182/1182 [==============================] - 36s 31ms/step - loss: 7.5746 - accuracy: 0.1701 - val_loss: 5.0237 - val_accuracy: 0.0052 - lr: 5.0000e-04\n",
            "Epoch 6/1000\n",
            "1181/1182 [============================>.] - ETA: 0s - loss: 7.5591 - accuracy: 0.1730\n",
            "Epoch 6: val_accuracy did not improve from 0.00518\n",
            "1182/1182 [==============================] - 36s 31ms/step - loss: 7.5600 - accuracy: 0.1730 - val_loss: 3.9162 - val_accuracy: 0.0052 - lr: 5.0000e-04\n",
            "Epoch 7/1000\n",
            "1181/1182 [============================>.] - ETA: 0s - loss: 7.5248 - accuracy: 0.1735\n",
            "Epoch 7: val_accuracy improved from 0.00518 to 0.01036, saving model to /content/drive/MyDrive/PHD/Model/best_model.h5\n",
            "1182/1182 [==============================] - 38s 32ms/step - loss: 7.5256 - accuracy: 0.1735 - val_loss: 3.7154 - val_accuracy: 0.0104 - lr: 5.0000e-04\n",
            "Epoch 8/1000\n",
            "1181/1182 [============================>.] - ETA: 0s - loss: 7.5147 - accuracy: 0.1776\n",
            "Epoch 8: val_accuracy did not improve from 0.01036\n",
            "1182/1182 [==============================] - 36s 31ms/step - loss: 7.5148 - accuracy: 0.1775 - val_loss: 3.2371 - val_accuracy: 0.0052 - lr: 5.0000e-04\n",
            "Epoch 9/1000\n",
            "1181/1182 [============================>.] - ETA: 0s - loss: 7.4815 - accuracy: 0.1764\n",
            "Epoch 9: val_accuracy did not improve from 0.01036\n",
            "1182/1182 [==============================] - 36s 31ms/step - loss: 7.4812 - accuracy: 0.1764 - val_loss: 3.6396 - val_accuracy: 0.0104 - lr: 5.0000e-04\n",
            "Epoch 10/1000\n",
            "1181/1182 [============================>.] - ETA: 0s - loss: 7.4598 - accuracy: 0.1794\n",
            "Epoch 10: val_accuracy did not improve from 0.01036\n",
            "1182/1182 [==============================] - 36s 31ms/step - loss: 7.4593 - accuracy: 0.1794 - val_loss: 3.3828 - val_accuracy: 0.0052 - lr: 5.0000e-04\n",
            "Epoch 11/1000\n",
            "1181/1182 [============================>.] - ETA: 0s - loss: 7.4545 - accuracy: 0.1821\n",
            "Epoch 11: val_accuracy did not improve from 0.01036\n",
            "1182/1182 [==============================] - 36s 31ms/step - loss: 7.4554 - accuracy: 0.1822 - val_loss: 4.3974 - val_accuracy: 0.0052 - lr: 5.0000e-04\n",
            "Epoch 12/1000\n",
            "1181/1182 [============================>.] - ETA: 0s - loss: 7.4459 - accuracy: 0.1810\n",
            "Epoch 12: val_accuracy did not improve from 0.01036\n",
            "1182/1182 [==============================] - 36s 31ms/step - loss: 7.4456 - accuracy: 0.1811 - val_loss: 3.7197 - val_accuracy: 0.0052 - lr: 5.0000e-04\n",
            "Epoch 13/1000\n",
            "1181/1182 [============================>.] - ETA: 0s - loss: 7.4396 - accuracy: 0.1828\n",
            "Epoch 13: val_accuracy did not improve from 0.01036\n",
            "1182/1182 [==============================] - 36s 31ms/step - loss: 7.4401 - accuracy: 0.1830 - val_loss: 3.1615 - val_accuracy: 0.0104 - lr: 5.0000e-04\n",
            "Epoch 14/1000\n",
            "1181/1182 [============================>.] - ETA: 0s - loss: 7.4282 - accuracy: 0.1806\n",
            "Epoch 14: val_accuracy did not improve from 0.01036\n",
            "1182/1182 [==============================] - 36s 31ms/step - loss: 7.4275 - accuracy: 0.1806 - val_loss: 4.2022 - val_accuracy: 0.0052 - lr: 5.0000e-04\n",
            "Epoch 15/1000\n",
            "1181/1182 [============================>.] - ETA: 0s - loss: 7.3896 - accuracy: 0.1835\n",
            "Epoch 15: val_accuracy did not improve from 0.01036\n",
            "1182/1182 [==============================] - 36s 31ms/step - loss: 7.3906 - accuracy: 0.1836 - val_loss: 3.2032 - val_accuracy: 0.0052 - lr: 5.0000e-04\n",
            "Epoch 16/1000\n",
            "1181/1182 [============================>.] - ETA: 0s - loss: 7.3990 - accuracy: 0.1854\n",
            "Epoch 16: val_accuracy did not improve from 0.01036\n",
            "1182/1182 [==============================] - 36s 31ms/step - loss: 7.4002 - accuracy: 0.1854 - val_loss: 3.5283 - val_accuracy: 0.0052 - lr: 5.0000e-04\n",
            "Epoch 17/1000\n",
            "1181/1182 [============================>.] - ETA: 0s - loss: 7.3987 - accuracy: 0.1846\n",
            "Epoch 17: val_accuracy did not improve from 0.01036\n",
            "1182/1182 [==============================] - 36s 31ms/step - loss: 7.3997 - accuracy: 0.1846 - val_loss: 3.4446 - val_accuracy: 0.0104 - lr: 5.0000e-04\n",
            "Epoch 18/1000\n",
            "1181/1182 [============================>.] - ETA: 0s - loss: 7.3810 - accuracy: 0.1847\n",
            "Epoch 18: val_accuracy did not improve from 0.01036\n",
            "1182/1182 [==============================] - 36s 31ms/step - loss: 7.3813 - accuracy: 0.1847 - val_loss: 4.2543 - val_accuracy: 0.0104 - lr: 5.0000e-04\n",
            "Epoch 19/1000\n",
            "1181/1182 [============================>.] - ETA: 0s - loss: 7.3844 - accuracy: 0.1835\n",
            "Epoch 19: val_accuracy did not improve from 0.01036\n",
            "1182/1182 [==============================] - 36s 31ms/step - loss: 7.3836 - accuracy: 0.1835 - val_loss: 3.0855 - val_accuracy: 0.0052 - lr: 5.0000e-04\n",
            "Epoch 20/1000\n",
            "1181/1182 [============================>.] - ETA: 0s - loss: 7.3672 - accuracy: 0.1853\n",
            "Epoch 20: val_accuracy did not improve from 0.01036\n",
            "1182/1182 [==============================] - 36s 31ms/step - loss: 7.3652 - accuracy: 0.1852 - val_loss: 3.2007 - val_accuracy: 0.0104 - lr: 5.0000e-04\n",
            "Epoch 21/1000\n",
            "1181/1182 [============================>.] - ETA: 0s - loss: 7.3693 - accuracy: 0.1857\n",
            "Epoch 21: val_accuracy did not improve from 0.01036\n",
            "1182/1182 [==============================] - 36s 31ms/step - loss: 7.3685 - accuracy: 0.1857 - val_loss: 3.6654 - val_accuracy: 0.0052 - lr: 5.0000e-04\n",
            "Epoch 22/1000\n",
            "1181/1182 [============================>.] - ETA: 0s - loss: 7.3539 - accuracy: 0.1863\n",
            "Epoch 22: val_accuracy did not improve from 0.01036\n",
            "1182/1182 [==============================] - 36s 31ms/step - loss: 7.3543 - accuracy: 0.1863 - val_loss: 3.4012 - val_accuracy: 0.0052 - lr: 5.0000e-04\n",
            "Epoch 23/1000\n",
            "1181/1182 [============================>.] - ETA: 0s - loss: 7.3375 - accuracy: 0.1910\n",
            "Epoch 23: val_accuracy did not improve from 0.01036\n",
            "1182/1182 [==============================] - 36s 31ms/step - loss: 7.3370 - accuracy: 0.1910 - val_loss: 2.8980 - val_accuracy: 0.0104 - lr: 5.0000e-04\n",
            "Epoch 24/1000\n",
            "1181/1182 [============================>.] - ETA: 0s - loss: 7.3602 - accuracy: 0.1872\n",
            "Epoch 24: val_accuracy did not improve from 0.01036\n",
            "1182/1182 [==============================] - 36s 31ms/step - loss: 7.3600 - accuracy: 0.1872 - val_loss: 3.2180 - val_accuracy: 0.0104 - lr: 5.0000e-04\n",
            "Epoch 25/1000\n",
            "1181/1182 [============================>.] - ETA: 0s - loss: 7.3448 - accuracy: 0.1868\n",
            "Epoch 25: val_accuracy did not improve from 0.01036\n",
            "1182/1182 [==============================] - 36s 31ms/step - loss: 7.3444 - accuracy: 0.1869 - val_loss: 3.2893 - val_accuracy: 0.0104 - lr: 5.0000e-04\n",
            "Epoch 26/1000\n",
            "1181/1182 [============================>.] - ETA: 0s - loss: 7.3304 - accuracy: 0.1865\n",
            "Epoch 26: val_accuracy improved from 0.01036 to 0.01554, saving model to /content/drive/MyDrive/PHD/Model/best_model.h5\n",
            "1182/1182 [==============================] - 38s 32ms/step - loss: 7.3312 - accuracy: 0.1865 - val_loss: 3.1807 - val_accuracy: 0.0155 - lr: 5.0000e-04\n",
            "Epoch 27/1000\n",
            "1181/1182 [============================>.] - ETA: 0s - loss: 7.3280 - accuracy: 0.1900\n",
            "Epoch 27: val_accuracy did not improve from 0.01554\n",
            "1182/1182 [==============================] - 36s 31ms/step - loss: 7.3267 - accuracy: 0.1900 - val_loss: 3.5502 - val_accuracy: 0.0052 - lr: 5.0000e-04\n",
            "Epoch 28/1000\n",
            "1181/1182 [============================>.] - ETA: 0s - loss: 7.3028 - accuracy: 0.1909\n",
            "Epoch 28: val_accuracy did not improve from 0.01554\n",
            "1182/1182 [==============================] - 36s 31ms/step - loss: 7.3028 - accuracy: 0.1908 - val_loss: 3.2025 - val_accuracy: 0.0052 - lr: 5.0000e-04\n",
            "Epoch 29/1000\n",
            "1181/1182 [============================>.] - ETA: 0s - loss: 7.3158 - accuracy: 0.1862\n",
            "Epoch 29: val_accuracy did not improve from 0.01554\n",
            "1182/1182 [==============================] - 37s 31ms/step - loss: 7.3162 - accuracy: 0.1863 - val_loss: 2.8768 - val_accuracy: 0.0104 - lr: 5.0000e-04\n",
            "Epoch 30/1000\n",
            "1181/1182 [============================>.] - ETA: 0s - loss: 7.3086 - accuracy: 0.1905\n",
            "Epoch 30: val_accuracy did not improve from 0.01554\n",
            "1182/1182 [==============================] - 37s 31ms/step - loss: 7.3098 - accuracy: 0.1905 - val_loss: 2.6302 - val_accuracy: 0.0104 - lr: 5.0000e-04\n",
            "Epoch 31/1000\n",
            "1181/1182 [============================>.] - ETA: 0s - loss: 7.2943 - accuracy: 0.1887\n",
            "Epoch 31: val_accuracy did not improve from 0.01554\n",
            "1182/1182 [==============================] - 37s 31ms/step - loss: 7.2938 - accuracy: 0.1887 - val_loss: 3.2133 - val_accuracy: 0.0155 - lr: 5.0000e-04\n",
            "Epoch 32/1000\n",
            "1181/1182 [============================>.] - ETA: 0s - loss: 7.2820 - accuracy: 0.1922\n",
            "Epoch 32: val_accuracy did not improve from 0.01554\n",
            "1182/1182 [==============================] - 36s 31ms/step - loss: 7.2824 - accuracy: 0.1921 - val_loss: 4.0059 - val_accuracy: 0.0052 - lr: 5.0000e-04\n",
            "Epoch 33/1000\n",
            "1181/1182 [============================>.] - ETA: 0s - loss: 7.2717 - accuracy: 0.1894\n",
            "Epoch 33: val_accuracy did not improve from 0.01554\n",
            "1182/1182 [==============================] - 36s 31ms/step - loss: 7.2708 - accuracy: 0.1894 - val_loss: 3.0809 - val_accuracy: 0.0104 - lr: 5.0000e-04\n",
            "Epoch 34/1000\n",
            "1181/1182 [============================>.] - ETA: 0s - loss: 7.2769 - accuracy: 0.1907\n",
            "Epoch 34: val_accuracy did not improve from 0.01554\n",
            "1182/1182 [==============================] - 36s 31ms/step - loss: 7.2778 - accuracy: 0.1908 - val_loss: 2.8987 - val_accuracy: 0.0155 - lr: 5.0000e-04\n",
            "Epoch 35/1000\n",
            "1181/1182 [============================>.] - ETA: 0s - loss: 7.2713 - accuracy: 0.1942\n",
            "Epoch 35: val_accuracy did not improve from 0.01554\n",
            "1182/1182 [==============================] - 37s 31ms/step - loss: 7.2710 - accuracy: 0.1942 - val_loss: 3.2984 - val_accuracy: 0.0104 - lr: 5.0000e-04\n",
            "Epoch 36/1000\n",
            "1181/1182 [============================>.] - ETA: 0s - loss: 7.2611 - accuracy: 0.1929\n",
            "Epoch 36: val_accuracy did not improve from 0.01554\n",
            "1182/1182 [==============================] - 37s 32ms/step - loss: 7.2606 - accuracy: 0.1930 - val_loss: 3.5899 - val_accuracy: 0.0155 - lr: 5.0000e-04\n",
            "Epoch 37/1000\n",
            "1181/1182 [============================>.] - ETA: 0s - loss: 7.2879 - accuracy: 0.1930\n",
            "Epoch 37: val_accuracy did not improve from 0.01554\n",
            "1182/1182 [==============================] - 37s 32ms/step - loss: 7.2878 - accuracy: 0.1930 - val_loss: 3.4646 - val_accuracy: 0.0104 - lr: 5.0000e-04\n",
            "Epoch 38/1000\n",
            "1181/1182 [============================>.] - ETA: 0s - loss: 7.2880 - accuracy: 0.1893\n",
            "Epoch 38: val_accuracy did not improve from 0.01554\n",
            "1182/1182 [==============================] - 37s 31ms/step - loss: 7.2873 - accuracy: 0.1893 - val_loss: 3.0215 - val_accuracy: 0.0155 - lr: 5.0000e-04\n",
            "Epoch 39/1000\n",
            "1181/1182 [============================>.] - ETA: 0s - loss: 7.2683 - accuracy: 0.1938\n",
            "Epoch 39: val_accuracy did not improve from 0.01554\n",
            "1182/1182 [==============================] - 37s 31ms/step - loss: 7.2676 - accuracy: 0.1937 - val_loss: 2.7730 - val_accuracy: 0.0104 - lr: 5.0000e-04\n",
            "Epoch 40/1000\n",
            "1181/1182 [============================>.] - ETA: 0s - loss: 7.2403 - accuracy: 0.1963\n",
            "Epoch 40: val_accuracy did not improve from 0.01554\n",
            "1182/1182 [==============================] - 37s 32ms/step - loss: 7.2407 - accuracy: 0.1963 - val_loss: 3.1083 - val_accuracy: 0.0104 - lr: 5.0000e-04\n",
            "Epoch 41/1000\n",
            "1181/1182 [============================>.] - ETA: 0s - loss: 7.2190 - accuracy: 0.1936\n",
            "Epoch 41: val_accuracy improved from 0.01554 to 0.02591, saving model to /content/drive/MyDrive/PHD/Model/best_model.h5\n",
            "1182/1182 [==============================] - 40s 34ms/step - loss: 7.2185 - accuracy: 0.1936 - val_loss: 2.6164 - val_accuracy: 0.0259 - lr: 2.5000e-04\n",
            "Epoch 42/1000\n",
            "1181/1182 [============================>.] - ETA: 0s - loss: 7.2176 - accuracy: 0.1959\n",
            "Epoch 42: val_accuracy did not improve from 0.02591\n",
            "1182/1182 [==============================] - 38s 32ms/step - loss: 7.2170 - accuracy: 0.1958 - val_loss: 2.7824 - val_accuracy: 0.0104 - lr: 2.5000e-04\n",
            "Epoch 43/1000\n",
            "1181/1182 [============================>.] - ETA: 0s - loss: 7.2087 - accuracy: 0.1960\n",
            "Epoch 43: val_accuracy did not improve from 0.02591\n",
            "1182/1182 [==============================] - 38s 32ms/step - loss: 7.2078 - accuracy: 0.1959 - val_loss: 2.7641 - val_accuracy: 0.0259 - lr: 2.5000e-04\n",
            "Epoch 44/1000\n",
            "1181/1182 [============================>.] - ETA: 0s - loss: 7.2015 - accuracy: 0.1992\n",
            "Epoch 44: val_accuracy improved from 0.02591 to 0.04145, saving model to /content/drive/MyDrive/PHD/Model/best_model.h5\n",
            "1182/1182 [==============================] - 40s 34ms/step - loss: 7.2016 - accuracy: 0.1992 - val_loss: 2.5516 - val_accuracy: 0.0415 - lr: 2.5000e-04\n",
            "Epoch 45/1000\n",
            "1181/1182 [============================>.] - ETA: 0s - loss: 7.2019 - accuracy: 0.1982\n",
            "Epoch 45: val_accuracy did not improve from 0.04145\n",
            "1182/1182 [==============================] - 38s 32ms/step - loss: 7.2019 - accuracy: 0.1982 - val_loss: 3.0474 - val_accuracy: 0.0104 - lr: 2.5000e-04\n",
            "Epoch 46/1000\n",
            "1181/1182 [============================>.] - ETA: 0s - loss: 7.1877 - accuracy: 0.1967\n",
            "Epoch 46: val_accuracy did not improve from 0.04145\n",
            "1182/1182 [==============================] - 38s 32ms/step - loss: 7.1890 - accuracy: 0.1966 - val_loss: 3.2633 - val_accuracy: 0.0104 - lr: 2.5000e-04\n",
            "Epoch 47/1000\n",
            "1181/1182 [============================>.] - ETA: 0s - loss: 7.1645 - accuracy: 0.1999\n",
            "Epoch 47: val_accuracy did not improve from 0.04145\n",
            "1182/1182 [==============================] - 38s 32ms/step - loss: 7.1639 - accuracy: 0.1999 - val_loss: 3.2416 - val_accuracy: 0.0104 - lr: 2.5000e-04\n",
            "Epoch 48/1000\n",
            "1181/1182 [============================>.] - ETA: 0s - loss: 7.1832 - accuracy: 0.1975\n",
            "Epoch 48: val_accuracy did not improve from 0.04145\n",
            "1182/1182 [==============================] - 37s 31ms/step - loss: 7.1835 - accuracy: 0.1975 - val_loss: 2.6925 - val_accuracy: 0.0311 - lr: 2.5000e-04\n",
            "Epoch 49/1000\n",
            "1181/1182 [============================>.] - ETA: 0s - loss: 7.1764 - accuracy: 0.1977\n",
            "Epoch 49: val_accuracy did not improve from 0.04145\n",
            "1182/1182 [==============================] - 37s 31ms/step - loss: 7.1761 - accuracy: 0.1977 - val_loss: 3.0140 - val_accuracy: 0.0104 - lr: 2.5000e-04\n",
            "Epoch 50/1000\n",
            "1181/1182 [============================>.] - ETA: 0s - loss: 7.1745 - accuracy: 0.1981\n",
            "Epoch 50: val_accuracy did not improve from 0.04145\n",
            "1182/1182 [==============================] - 37s 31ms/step - loss: 7.1742 - accuracy: 0.1980 - val_loss: 2.9589 - val_accuracy: 0.0155 - lr: 2.5000e-04\n",
            "Epoch 51/1000\n",
            "1181/1182 [============================>.] - ETA: 0s - loss: 7.1578 - accuracy: 0.2009\n",
            "Epoch 51: val_accuracy did not improve from 0.04145\n",
            "1182/1182 [==============================] - 37s 31ms/step - loss: 7.1585 - accuracy: 0.2009 - val_loss: 2.9755 - val_accuracy: 0.0207 - lr: 2.5000e-04\n",
            "Epoch 52/1000\n",
            "1181/1182 [============================>.] - ETA: 0s - loss: 7.1753 - accuracy: 0.1990\n",
            "Epoch 52: val_accuracy did not improve from 0.04145\n",
            "1182/1182 [==============================] - 37s 31ms/step - loss: 7.1756 - accuracy: 0.1990 - val_loss: 3.6289 - val_accuracy: 0.0104 - lr: 2.5000e-04\n",
            "Epoch 53/1000\n",
            "1181/1182 [============================>.] - ETA: 0s - loss: 7.1833 - accuracy: 0.1995\n",
            "Epoch 53: val_accuracy did not improve from 0.04145\n",
            "1182/1182 [==============================] - 37s 31ms/step - loss: 7.1837 - accuracy: 0.1994 - val_loss: 3.0052 - val_accuracy: 0.0104 - lr: 2.5000e-04\n",
            "Epoch 54/1000\n",
            "1181/1182 [============================>.] - ETA: 0s - loss: 7.1606 - accuracy: 0.2025\n",
            "Epoch 54: val_accuracy did not improve from 0.04145\n",
            "1182/1182 [==============================] - 37s 31ms/step - loss: 7.1601 - accuracy: 0.2025 - val_loss: 3.0679 - val_accuracy: 0.0155 - lr: 2.5000e-04\n",
            "Epoch 55/1000\n",
            "1181/1182 [============================>.] - ETA: 0s - loss: 7.1338 - accuracy: 0.2003\n",
            "Epoch 55: val_accuracy did not improve from 0.04145\n",
            "1182/1182 [==============================] - 37s 31ms/step - loss: 7.1351 - accuracy: 0.2004 - val_loss: 2.8500 - val_accuracy: 0.0259 - lr: 1.2500e-04\n",
            "Epoch 56/1000\n",
            "1181/1182 [============================>.] - ETA: 0s - loss: 7.1368 - accuracy: 0.2021\n",
            "Epoch 56: val_accuracy did not improve from 0.04145\n",
            "1182/1182 [==============================] - 37s 31ms/step - loss: 7.1368 - accuracy: 0.2020 - val_loss: 2.7225 - val_accuracy: 0.0311 - lr: 1.2500e-04\n",
            "Epoch 57/1000\n",
            "1181/1182 [============================>.] - ETA: 0s - loss: 7.1348 - accuracy: 0.2008\n",
            "Epoch 57: val_accuracy did not improve from 0.04145\n",
            "1182/1182 [==============================] - 37s 31ms/step - loss: 7.1341 - accuracy: 0.2008 - val_loss: 2.8470 - val_accuracy: 0.0155 - lr: 1.2500e-04\n",
            "Epoch 58/1000\n",
            "1181/1182 [============================>.] - ETA: 0s - loss: 7.1242 - accuracy: 0.2016\n",
            "Epoch 58: val_accuracy did not improve from 0.04145\n",
            "1182/1182 [==============================] - 37s 31ms/step - loss: 7.1230 - accuracy: 0.2015 - val_loss: 2.6147 - val_accuracy: 0.0415 - lr: 1.2500e-04\n",
            "Epoch 59/1000\n",
            "1181/1182 [============================>.] - ETA: 0s - loss: 7.1160 - accuracy: 0.2037\n",
            "Epoch 59: val_accuracy did not improve from 0.04145\n",
            "1182/1182 [==============================] - 37s 31ms/step - loss: 7.1155 - accuracy: 0.2037 - val_loss: 3.1222 - val_accuracy: 0.0104 - lr: 1.2500e-04\n",
            "Epoch 60/1000\n",
            "1181/1182 [============================>.] - ETA: 0s - loss: 7.1261 - accuracy: 0.2035\n",
            "Epoch 60: val_accuracy did not improve from 0.04145\n",
            "1182/1182 [==============================] - 37s 31ms/step - loss: 7.1270 - accuracy: 0.2035 - val_loss: 2.8828 - val_accuracy: 0.0104 - lr: 1.2500e-04\n",
            "Epoch 61/1000\n",
            "1181/1182 [============================>.] - ETA: 0s - loss: 7.1052 - accuracy: 0.2042\n",
            "Epoch 61: val_accuracy did not improve from 0.04145\n",
            "1182/1182 [==============================] - 37s 31ms/step - loss: 7.1054 - accuracy: 0.2042 - val_loss: 2.7992 - val_accuracy: 0.0259 - lr: 1.2500e-04\n",
            "Epoch 62/1000\n",
            "1181/1182 [============================>.] - ETA: 0s - loss: 7.1124 - accuracy: 0.2039\n",
            "Epoch 62: val_accuracy did not improve from 0.04145\n",
            "1182/1182 [==============================] - 37s 31ms/step - loss: 7.1123 - accuracy: 0.2039 - val_loss: 3.1135 - val_accuracy: 0.0155 - lr: 1.2500e-04\n",
            "Epoch 63/1000\n",
            "1181/1182 [============================>.] - ETA: 0s - loss: 7.1061 - accuracy: 0.2027\n",
            "Epoch 63: val_accuracy did not improve from 0.04145\n",
            "1182/1182 [==============================] - 37s 31ms/step - loss: 7.1063 - accuracy: 0.2026 - val_loss: 2.7329 - val_accuracy: 0.0259 - lr: 1.2500e-04\n",
            "Epoch 64/1000\n",
            "1181/1182 [============================>.] - ETA: 0s - loss: 7.1066 - accuracy: 0.2034\n",
            "Epoch 64: val_accuracy did not improve from 0.04145\n",
            "1182/1182 [==============================] - 37s 31ms/step - loss: 7.1087 - accuracy: 0.2034 - val_loss: 3.2085 - val_accuracy: 0.0104 - lr: 1.2500e-04\n"
          ]
        }
      ],
      "source": [
        "\n",
        "# this could also be the output a different Keras model or layer\n",
        "input_shape = X_train.shape[1:]\n",
        "input_tensor = Input(shape=(IMAGE_H, IMAGE_W, 3))\n",
        "augmented = data_augmentation(input_tensor)\n",
        "rescale = rescale_layer(augmented)\n",
        "\n",
        "base_model = ResNet50(input_tensor=input_tensor, weights='imagenet', include_top=False)\n",
        "x = base_model(rescale)\n",
        "\n",
        "\n",
        "# add a global spatial average pooling layer\n",
        "#x = base_model.output\n",
        "#x = GlobalAveragePooling2D()(x)\n",
        "#x = Dropout(0.2)(x)\n",
        "x = Flatten()(x)\n",
        "# let's add a fully-connected layer\n",
        "x = Dense(128, activation='relu')(x)\n",
        "#x = Dropout(0.2)(x)\n",
        "# and a logistic layer -- let's say we have 200 classes\n",
        "predictions = Dense(7, activation='softmax')(x)\n",
        "#predictions = Dense(9)(x)\n",
        "\n",
        "# this is the model we will train\n",
        "model = Model(inputs=input_tensor, outputs=predictions)\n",
        "\n",
        "# first: train only the top layers (which were randomly initialized)\n",
        "# i.e. freeze all convolutional InceptionV3 layers\n",
        "for layer in base_model.layers:\n",
        "    layer.trainable = False\n",
        "\n",
        "# compile the model (should be done *after* setting layers to non-trainable)\n",
        "#model.compile(optimizer='rmsprop', loss='categorical_crossentropy')\n",
        "#model.compile(optimizer=\"adam\", loss=\"sparse_categorical_crossentropy\", metrics=[\"accuracy\"])\n",
        "\n",
        "# train the model on the new data for a few epochs\n",
        "#hst = model.fit(X, y, batch_size=BATCH_SIZE, epochs=EPOCHS, validation_data=(X_val, y_val))\n",
        "\n",
        "model.compile(optimizer = optimizer , loss = \"categorical_crossentropy\", metrics=[\"accuracy\"])\n",
        "#hst = model.fit(dataaugment.flow(X_train,y_train, batch_size=BATCH_SIZE),\n",
        "hst = model.fit(train_data_batches,\n",
        "                    epochs = EPOCHS, validation_data = valid_data_batches,      \n",
        "                    class_weight=class_weights,\n",
        "                    #steps_per_epoch=X_train.shape[0] // BATCH_SIZE, \n",
        "                    callbacks=[learning_rate_reduction,early_stopping_monitor, mc])\n"
      ]
    },
    {
      "cell_type": "code",
      "execution_count": 31,
      "metadata": {
        "id": "6WA3NkiOqePA",
        "colab": {
          "base_uri": "https://localhost:8080/"
        },
        "outputId": "efa48b2e-6236-4155-f4cc-2795bf2d86aa"
      },
      "outputs": [
        {
          "output_type": "stream",
          "name": "stdout",
          "text": [
            "Train: 0.212, Val: 0.041\n"
          ]
        }
      ],
      "source": [
        "# load the saved model\n",
        "best_model = load_model(best_model_fpath)\n",
        "# evaluate the model\n",
        "_, train_acc = best_model.evaluate(X_train, y_train, verbose=0)\n",
        "_, test_acc = best_model.evaluate(X_val, y_val, verbose=0)\n",
        "print('Train: %.3f, Val: %.3f' % (train_acc, test_acc))"
      ]
    },
    {
      "cell_type": "code",
      "source": [
        "y_val_pred = best_model.predict(X_val)\n",
        "y_train_pred = best_model.predict(X_train)\n",
        "\n",
        "from sklearn.metrics import balanced_accuracy_score\n",
        "print('balanced accuracy on training',balanced_accuracy_score(np.argmax(y_train, axis=1), np.argmax(y_train_pred, axis=1)))\n",
        "print('balanced accuracy on validation',balanced_accuracy_score(np.argmax(y_val, axis=1), np.argmax(y_val_pred, axis=1)))"
      ],
      "metadata": {
        "id": "W3IyWjdGG4Xq",
        "colab": {
          "base_uri": "https://localhost:8080/"
        },
        "outputId": "f54df85c-8fdf-4749-bb83-227baf09a8ed"
      },
      "execution_count": 32,
      "outputs": [
        {
          "output_type": "stream",
          "name": "stdout",
          "text": [
            "balanced accuracy on training 0.21242167050051558\n",
            "balanced accuracy on validation 0.16226978596316574\n"
          ]
        }
      ]
    },
    {
      "cell_type": "code",
      "execution_count": 33,
      "metadata": {
        "id": "vXnW3lmCgln3",
        "colab": {
          "base_uri": "https://localhost:8080/",
          "height": 0
        },
        "outputId": "ab81dc10-adbb-42cd-a16f-eb59d41511be"
      },
      "outputs": [
        {
          "output_type": "display_data",
          "data": {
            "text/plain": [
              "<Figure size 432x288 with 1 Axes>"
            ],
            "image/png": "[encoded data removed]"
          },
          "metadata": {
            "needs_background": "light"
          }
        }
      ],
      "source": [
        "# summarize history for accuracy\n",
        "plt.plot(hst.history['accuracy'])\n",
        "plt.plot(hst.history['val_accuracy'])\n",
        "plt.title('model accuracy')\n",
        "plt.ylabel('accuracy')\n",
        "plt.xlabel('epoch')\n",
        "plt.legend(['train', 'val'], loc='upper left')\n",
        "plt.show()"
      ]
    },
    {
      "cell_type": "markdown",
      "source": [
        "#Fine Tune"
      ],
      "metadata": {
        "id": "B2PgksTFkOAq"
      }
    },
    {
      "cell_type": "code",
      "execution_count": 34,
      "metadata": {
        "id": "l8bZo4LoEiQf"
      },
      "outputs": [],
      "source": [
        "#finetune_model_fpath = '/content/drive/MyDrive/PHD/Model/finetune_model.h5'\n",
        "#mc_finetune = ModelCheckpoint(finetune_model_fpath, monitor='val_accuracy', mode='max', verbose=1, save_best_only=True)"
      ]
    },
    {
      "cell_type": "code",
      "execution_count": 35,
      "metadata": {
        "id": "Nr1jnSM7yzJc",
        "colab": {
          "base_uri": "https://localhost:8080/"
        },
        "outputId": "73c9bf6a-d3e1-43b0-d6e1-e18e6de6e45a"
      },
      "outputs": [
        {
          "output_type": "stream",
          "name": "stdout",
          "text": [
            "Epoch 1/1000\n",
            "1181/1182 [============================>.] - ETA: 0s - loss: 2.2177 - accuracy: 0.2026\n",
            "Epoch 1: val_accuracy did not improve from 0.04145\n",
            "1182/1182 [==============================] - 40s 31ms/step - loss: 2.2176 - accuracy: 0.2025 - val_loss: 3.2085 - val_accuracy: 0.0104 - lr: 1.0000e-04\n",
            "Epoch 2/1000\n",
            "1181/1182 [============================>.] - ETA: 0s - loss: 2.2168 - accuracy: 0.2036\n",
            "Epoch 2: val_accuracy did not improve from 0.04145\n",
            "1182/1182 [==============================] - 36s 30ms/step - loss: 2.2169 - accuracy: 0.2036 - val_loss: 3.2085 - val_accuracy: 0.0104 - lr: 1.0000e-04\n",
            "Epoch 3/1000\n",
            "1181/1182 [============================>.] - ETA: 0s - loss: 2.2176 - accuracy: 0.2034\n",
            "Epoch 3: val_accuracy did not improve from 0.04145\n",
            "1182/1182 [==============================] - 36s 30ms/step - loss: 2.2176 - accuracy: 0.2034 - val_loss: 3.2085 - val_accuracy: 0.0104 - lr: 1.0000e-04\n",
            "Epoch 4/1000\n",
            "1181/1182 [============================>.] - ETA: 0s - loss: 2.2177 - accuracy: 0.2026\n",
            "Epoch 4: val_accuracy did not improve from 0.04145\n",
            "1182/1182 [==============================] - 36s 30ms/step - loss: 2.2178 - accuracy: 0.2025 - val_loss: 3.2085 - val_accuracy: 0.0104 - lr: 1.0000e-04\n",
            "Epoch 5/1000\n",
            "1181/1182 [============================>.] - ETA: 0s - loss: 2.2147 - accuracy: 0.2029\n",
            "Epoch 5: val_accuracy did not improve from 0.04145\n",
            "1182/1182 [==============================] - 36s 30ms/step - loss: 2.2148 - accuracy: 0.2029 - val_loss: 3.2085 - val_accuracy: 0.0104 - lr: 1.0000e-04\n",
            "Epoch 6/1000\n",
            "1181/1182 [============================>.] - ETA: 0s - loss: 2.2147 - accuracy: 0.2004\n",
            "Epoch 6: val_accuracy did not improve from 0.04145\n",
            "1182/1182 [==============================] - 36s 30ms/step - loss: 2.2149 - accuracy: 0.2003 - val_loss: 3.2085 - val_accuracy: 0.0104 - lr: 1.0000e-04\n",
            "Epoch 7/1000\n",
            "1181/1182 [============================>.] - ETA: 0s - loss: 2.2120 - accuracy: 0.2022\n",
            "Epoch 7: val_accuracy did not improve from 0.04145\n",
            "1182/1182 [==============================] - 36s 30ms/step - loss: 2.2119 - accuracy: 0.2022 - val_loss: 3.2085 - val_accuracy: 0.0104 - lr: 1.0000e-04\n",
            "Epoch 8/1000\n",
            "1181/1182 [============================>.] - ETA: 0s - loss: 2.2166 - accuracy: 0.2035\n",
            "Epoch 8: val_accuracy did not improve from 0.04145\n",
            "1182/1182 [==============================] - 36s 30ms/step - loss: 2.2166 - accuracy: 0.2035 - val_loss: 3.2085 - val_accuracy: 0.0104 - lr: 1.0000e-04\n",
            "Epoch 9/1000\n",
            "1181/1182 [============================>.] - ETA: 0s - loss: 2.2182 - accuracy: 0.2016\n",
            "Epoch 9: val_accuracy did not improve from 0.04145\n",
            "1182/1182 [==============================] - 36s 30ms/step - loss: 2.2184 - accuracy: 0.2015 - val_loss: 3.2085 - val_accuracy: 0.0104 - lr: 1.0000e-04\n",
            "Epoch 10/1000\n",
            "1181/1182 [============================>.] - ETA: 0s - loss: 2.2205 - accuracy: 0.2033\n",
            "Epoch 10: val_accuracy did not improve from 0.04145\n",
            "1182/1182 [==============================] - 36s 30ms/step - loss: 2.2206 - accuracy: 0.2032 - val_loss: 3.2085 - val_accuracy: 0.0104 - lr: 1.0000e-04\n",
            "Epoch 11/1000\n",
            "1181/1182 [============================>.] - ETA: 0s - loss: 2.2172 - accuracy: 0.2057\n",
            "Epoch 11: val_accuracy did not improve from 0.04145\n",
            "1182/1182 [==============================] - 36s 30ms/step - loss: 2.2170 - accuracy: 0.2058 - val_loss: 3.2085 - val_accuracy: 0.0104 - lr: 1.0000e-04\n",
            "Epoch 12/1000\n",
            "1181/1182 [============================>.] - ETA: 0s - loss: 2.2206 - accuracy: 0.2016\n",
            "Epoch 12: val_accuracy did not improve from 0.04145\n",
            "1182/1182 [==============================] - 36s 30ms/step - loss: 2.2203 - accuracy: 0.2017 - val_loss: 3.2085 - val_accuracy: 0.0104 - lr: 5.0000e-05\n",
            "Epoch 13/1000\n",
            "1181/1182 [============================>.] - ETA: 0s - loss: 2.2112 - accuracy: 0.2022\n",
            "Epoch 13: val_accuracy did not improve from 0.04145\n",
            "1182/1182 [==============================] - 36s 30ms/step - loss: 2.2111 - accuracy: 0.2022 - val_loss: 3.2085 - val_accuracy: 0.0104 - lr: 5.0000e-05\n",
            "Epoch 14/1000\n",
            "1181/1182 [============================>.] - ETA: 0s - loss: 2.2156 - accuracy: 0.2042\n",
            "Epoch 14: val_accuracy did not improve from 0.04145\n",
            "1182/1182 [==============================] - 36s 30ms/step - loss: 2.2155 - accuracy: 0.2041 - val_loss: 3.2085 - val_accuracy: 0.0104 - lr: 5.0000e-05\n",
            "Epoch 15/1000\n",
            "1181/1182 [============================>.] - ETA: 0s - loss: 2.2154 - accuracy: 0.2035\n",
            "Epoch 15: val_accuracy did not improve from 0.04145\n",
            "1182/1182 [==============================] - 37s 31ms/step - loss: 2.2160 - accuracy: 0.2034 - val_loss: 3.2085 - val_accuracy: 0.0104 - lr: 5.0000e-05\n",
            "Epoch 16/1000\n",
            "1181/1182 [============================>.] - ETA: 0s - loss: 2.2155 - accuracy: 0.2033\n",
            "Epoch 16: val_accuracy did not improve from 0.04145\n",
            "1182/1182 [==============================] - 39s 33ms/step - loss: 2.2156 - accuracy: 0.2032 - val_loss: 3.2085 - val_accuracy: 0.0104 - lr: 5.0000e-05\n",
            "Epoch 17/1000\n",
            "1181/1182 [============================>.] - ETA: 0s - loss: 2.2198 - accuracy: 0.2016\n",
            "Epoch 17: val_accuracy did not improve from 0.04145\n",
            "1182/1182 [==============================] - 38s 32ms/step - loss: 2.2198 - accuracy: 0.2016 - val_loss: 3.2085 - val_accuracy: 0.0104 - lr: 5.0000e-05\n",
            "Epoch 18/1000\n",
            "1181/1182 [============================>.] - ETA: 0s - loss: 2.2166 - accuracy: 0.2016\n",
            "Epoch 18: val_accuracy did not improve from 0.04145\n",
            "1182/1182 [==============================] - 39s 33ms/step - loss: 2.2167 - accuracy: 0.2015 - val_loss: 3.2085 - val_accuracy: 0.0104 - lr: 5.0000e-05\n",
            "Epoch 19/1000\n",
            "1181/1182 [============================>.] - ETA: 0s - loss: 2.2161 - accuracy: 0.2046\n",
            "Epoch 19: val_accuracy did not improve from 0.04145\n",
            "1182/1182 [==============================] - 39s 33ms/step - loss: 2.2160 - accuracy: 0.2046 - val_loss: 3.2085 - val_accuracy: 0.0104 - lr: 5.0000e-05\n",
            "Epoch 20/1000\n",
            "1181/1182 [============================>.] - ETA: 0s - loss: 2.2142 - accuracy: 0.2019\n",
            "Epoch 20: val_accuracy did not improve from 0.04145\n",
            "1182/1182 [==============================] - 39s 33ms/step - loss: 2.2139 - accuracy: 0.2021 - val_loss: 3.2085 - val_accuracy: 0.0104 - lr: 5.0000e-05\n",
            "Epoch 21/1000\n",
            "1181/1182 [============================>.] - ETA: 0s - loss: 2.2180 - accuracy: 0.2015\n",
            "Epoch 21: val_accuracy did not improve from 0.04145\n",
            "1182/1182 [==============================] - 39s 33ms/step - loss: 2.2178 - accuracy: 0.2015 - val_loss: 3.2085 - val_accuracy: 0.0104 - lr: 5.0000e-05\n"
          ]
        }
      ],
      "source": [
        "# we chose to train the top 2 resnet blocks, i.e. we will freeze\n",
        "# the first 49 layers and unfreeze the rest:\n",
        "limit = 171\n",
        "for layer in model.layers[:limit]:\n",
        "   layer.trainable = False\n",
        "for layer in model.layers[limit:]:\n",
        "   layer.trainable = True\n",
        "\n",
        "# we need to recompile the model for these modifications to take effect\n",
        "# we use SGD with a low learning rate\n",
        "from tensorflow.keras.optimizers import SGD\n",
        "#model.compile(optimizer=SGD(learning_rate=0.0001, momentum=0.9), loss='categorical_crossentropy', metrics=[\"accuracy\"])\n",
        "\n",
        "# we train our model again (this time fine-tuning the top 2 inception blocks\n",
        "# alongside the top Dense layers\n",
        "#hst2 = model.fit(X_train, y_train, batch_size=BATCH_SIZE, epochs=EPOCHS, validation_data=(X_val, y_val))\n",
        "optimizer_SGD = SGD(learning_rate=0.0001, momentum=0.9)\n",
        "model.compile(optimizer = optimizer_SGD , loss = \"categorical_crossentropy\", metrics=[\"accuracy\"])\n",
        "#hst2 = model.fit(dataaugment.flow(X_train,y_train, batch_size=BATCH_SIZE),\n",
        "hst = model.fit(train_data_batches,\n",
        "                    epochs = EPOCHS, validation_data = valid_data_batches,\n",
        " #                   steps_per_epoch=X_train.shape[0] // BATCH_SIZE, \n",
        "                    callbacks=[learning_rate_reduction,early_stopping_monitor, mc])\n"
      ]
    },
    {
      "cell_type": "code",
      "source": [
        "# load the saved model\n",
        "finetune_model = load_model(best_model_fpath)\n",
        "# evaluate the model\n",
        "_, train_acc = finetune_model.evaluate(X_train, y_train, verbose=0)\n",
        "_, test_acc = finetune_model.evaluate(X_val, y_val, verbose=0)\n",
        "print('Train: %.3f, Val: %.3f' % (train_acc, test_acc))"
      ],
      "metadata": {
        "id": "1QoiQK0xECpU",
        "colab": {
          "base_uri": "https://localhost:8080/"
        },
        "outputId": "ebf5c566-015b-47da-ee55-f7b38d84852a"
      },
      "execution_count": 36,
      "outputs": [
        {
          "output_type": "stream",
          "name": "stdout",
          "text": [
            "Train: 0.212, Val: 0.041\n"
          ]
        }
      ]
    },
    {
      "cell_type": "code",
      "source": [
        "y_val_pred = finetune_model.predict(X_val)\n",
        "y_train_pred = finetune_model.predict(X_train)\n",
        "\n",
        "print('balanced accuracy on training',balanced_accuracy_score(np.argmax(y_train, axis=1), np.argmax(y_train_pred, axis=1)))\n",
        "print('balanced accuracy on validation',balanced_accuracy_score(np.argmax(y_val, axis=1), np.argmax(y_val_pred, axis=1)))"
      ],
      "metadata": {
        "id": "3EeAKIX_EB9d",
        "colab": {
          "base_uri": "https://localhost:8080/"
        },
        "outputId": "144a4b20-94ea-4c22-fc25-5a6d49c433c6"
      },
      "execution_count": 37,
      "outputs": [
        {
          "output_type": "stream",
          "name": "stdout",
          "text": [
            "balanced accuracy on training 0.21242167050051558\n",
            "balanced accuracy on validation 0.16226978596316574\n"
          ]
        }
      ]
    },
    {
      "cell_type": "code",
      "execution_count": 38,
      "metadata": {
        "id": "gH92sRmlETE8",
        "colab": {
          "base_uri": "https://localhost:8080/"
        },
        "outputId": "1c67d0f2-10ad-40bb-bd1d-80485cefe669"
      },
      "outputs": [
        {
          "output_type": "stream",
          "name": "stdout",
          "text": [
            "Score on val data:  (0.23895067008839463, 0.16226978596316574, 0.03667091836734694, None)\n"
          ]
        },
        {
          "output_type": "stream",
          "name": "stderr",
          "text": [
            "/usr/local/lib/python3.7/dist-packages/sklearn/metrics/_classification.py:1318: UndefinedMetricWarning: Precision and F-score are ill-defined and being set to 0.0 in labels with no predicted samples. Use `zero_division` parameter to control this behavior.\n",
            "  _warn_prf(average, modifier, msg_start, len(result))\n"
          ]
        }
      ],
      "source": [
        "print('Score on val data: ',precision_recall_fscore_support(np.argmax(y_val, axis=1), np.argmax(y_val_pred, axis=1), average='macro'))\n",
        "#print('Score on test data: ',precision_recall_fscore_support(y_test, y_pred2, average='macro'))"
      ]
    },
    {
      "cell_type": "code",
      "execution_count": 39,
      "metadata": {
        "id": "vO1aAQBmiy0K",
        "colab": {
          "base_uri": "https://localhost:8080/",
          "height": 295
        },
        "outputId": "19e801e5-870a-4cc4-c467-1ddf6996b493"
      },
      "outputs": [
        {
          "output_type": "display_data",
          "data": {
            "text/plain": [
              "<Figure size 432x288 with 1 Axes>"
            ],
            "image/png": "[encoded data removed]"
          },
          "metadata": {
            "needs_background": "light"
          }
        }
      ],
      "source": [
        "# summarize history for accuracy\n",
        "plt.plot(hst.history['accuracy'])\n",
        "plt.plot(hst.history['val_accuracy'])\n",
        "plt.title('model accuracy after tunning')\n",
        "plt.ylabel('accuracy')\n",
        "plt.xlabel('epoch')\n",
        "plt.legend(['train', 'val'], loc='upper left')\n",
        "plt.show()"
      ]
    },
    {
      "cell_type": "markdown",
      "metadata": {
        "id": "3K908bbiYwbS"
      },
      "source": [
        "#Testing"
      ]
    },
    {
      "cell_type": "code",
      "execution_count": 40,
      "metadata": {
        "id": "NeMY2yvMYxsC"
      },
      "outputs": [],
      "source": [
        "dir_test = '/content/drive/MyDrive/PHD/Datasets/isic2018/ISIC2018_Task3_Test_Input/'\n",
        "filepaths = sorted( filter( lambda x: (os.path.isfile(os.path.join(dir_test, x))) and (x.endswith('.jpg')),\n",
        "                        os.listdir(dir_test) ) )"
      ]
    },
    {
      "cell_type": "code",
      "execution_count": 41,
      "metadata": {
        "id": "6ic95mefkpG3",
        "colab": {
          "base_uri": "https://localhost:8080/",
          "height": 0
        },
        "outputId": "4bf91609-861d-4aaa-de4d-96497e7237b9"
      },
      "outputs": [
        {
          "output_type": "execute_result",
          "data": {
            "text/plain": [
              "                 image                                          FilePaths\n",
              "0     ISIC_0034524.jpg  /content/drive/MyDrive/PHD/Datasets/isic2018/I...\n",
              "1     ISIC_0034525.jpg  /content/drive/MyDrive/PHD/Datasets/isic2018/I...\n",
              "2     ISIC_0034526.jpg  /content/drive/MyDrive/PHD/Datasets/isic2018/I...\n",
              "3     ISIC_0034527.jpg  /content/drive/MyDrive/PHD/Datasets/isic2018/I...\n",
              "4     ISIC_0034528.jpg  /content/drive/MyDrive/PHD/Datasets/isic2018/I...\n",
              "...                ...                                                ...\n",
              "1507  ISIC_0036060.jpg  /content/drive/MyDrive/PHD/Datasets/isic2018/I...\n",
              "1508  ISIC_0036061.jpg  /content/drive/MyDrive/PHD/Datasets/isic2018/I...\n",
              "1509  ISIC_0036062.jpg  /content/drive/MyDrive/PHD/Datasets/isic2018/I...\n",
              "1510  ISIC_0036063.jpg  /content/drive/MyDrive/PHD/Datasets/isic2018/I...\n",
              "1511  ISIC_0036064.jpg  /content/drive/MyDrive/PHD/Datasets/isic2018/I...\n",
              "\n",
              "[1512 rows x 2 columns]"
            ],
            "text/html": [
              "\n",
              "  <div id=\"df-b8b249e7-7adf-441d-86e9-ee4a7ff39b7f\">\n",
              "    <div class=\"colab-df-container\">\n",
              "      <div>\n",
              "<style scoped>\n",
              "    .dataframe tbody tr th:only-of-type {\n",
              "        vertical-align: middle;\n",
              "    }\n",
              "\n",
              "    .dataframe tbody tr th {\n",
              "        vertical-align: top;\n",
              "    }\n",
              "\n",
              "    .dataframe thead th {\n",
              "        text-align: right;\n",
              "    }\n",
              "</style>\n",
              "<table border=\"1\" class=\"dataframe\">\n",
              "  <thead>\n",
              "    <tr style=\"text-align: right;\">\n",
              "      <th></th>\n",
              "      <th>image</th>\n",
              "      <th>FilePaths</th>\n",
              "    </tr>\n",
              "  </thead>\n",
              "  <tbody>\n",
              "    <tr>\n",
              "      <th>0</th>\n",
              "      <td>ISIC_0034524.jpg</td>\n",
              "      <td>/content/drive/MyDrive/PHD/Datasets/isic2018/I...</td>\n",
              "    </tr>\n",
              "    <tr>\n",
              "      <th>1</th>\n",
              "      <td>ISIC_0034525.jpg</td>\n",
              "      <td>/content/drive/MyDrive/PHD/Datasets/isic2018/I...</td>\n",
              "    </tr>\n",
              "    <tr>\n",
              "      <th>2</th>\n",
              "      <td>ISIC_0034526.jpg</td>\n",
              "      <td>/content/drive/MyDrive/PHD/Datasets/isic2018/I...</td>\n",
              "    </tr>\n",
              "    <tr>\n",
              "      <th>3</th>\n",
              "      <td>ISIC_0034527.jpg</td>\n",
              "      <td>/content/drive/MyDrive/PHD/Datasets/isic2018/I...</td>\n",
              "    </tr>\n",
              "    <tr>\n",
              "      <th>4</th>\n",
              "      <td>ISIC_0034528.jpg</td>\n",
              "      <td>/content/drive/MyDrive/PHD/Datasets/isic2018/I...</td>\n",
              "    </tr>\n",
              "    <tr>\n",
              "      <th>...</th>\n",
              "      <td>...</td>\n",
              "      <td>...</td>\n",
              "    </tr>\n",
              "    <tr>\n",
              "      <th>1507</th>\n",
              "      <td>ISIC_0036060.jpg</td>\n",
              "      <td>/content/drive/MyDrive/PHD/Datasets/isic2018/I...</td>\n",
              "    </tr>\n",
              "    <tr>\n",
              "      <th>1508</th>\n",
              "      <td>ISIC_0036061.jpg</td>\n",
              "      <td>/content/drive/MyDrive/PHD/Datasets/isic2018/I...</td>\n",
              "    </tr>\n",
              "    <tr>\n",
              "      <th>1509</th>\n",
              "      <td>ISIC_0036062.jpg</td>\n",
              "      <td>/content/drive/MyDrive/PHD/Datasets/isic2018/I...</td>\n",
              "    </tr>\n",
              "    <tr>\n",
              "      <th>1510</th>\n",
              "      <td>ISIC_0036063.jpg</td>\n",
              "      <td>/content/drive/MyDrive/PHD/Datasets/isic2018/I...</td>\n",
              "    </tr>\n",
              "    <tr>\n",
              "      <th>1511</th>\n",
              "      <td>ISIC_0036064.jpg</td>\n",
              "      <td>/content/drive/MyDrive/PHD/Datasets/isic2018/I...</td>\n",
              "    </tr>\n",
              "  </tbody>\n",
              "</table>\n",
              "<p>1512 rows × 2 columns</p>\n",
              "</div>\n",
              "      <button class=\"colab-df-convert\" onclick=\"convertToInteractive('df-b8b249e7-7adf-441d-86e9-ee4a7ff39b7f')\"\n",
              "              title=\"Convert this dataframe to an interactive table.\"\n",
              "              style=\"display:none;\">\n",
              "        \n",
              "  <svg xmlns=\"http://www.w3.org/2000/svg\" height=\"24px\"viewBox=\"0 0 24 24\"\n",
              "       width=\"24px\">\n",
              "    <path d=\"M0 0h24v24H0V0z\" fill=\"none\"/>\n",
              "    <path d=\"M18.56 5.44l.94 2.06.94-2.06 2.06-.94-2.06-.94-.94-2.06-.94 2.06-2.06.94zm-11 1L8.5 8.5l.94-2.06 2.06-.94-2.06-.94L8.5 2.5l-.94 2.06-2.06.94zm10 10l.94 2.06.94-2.06 2.06-.94-2.06-.94-.94-2.06-.94 2.06-2.06.94z\"/><path d=\"M17.41 7.96l-1.37-1.37c-.4-.4-.92-.59-1.43-.59-.52 0-1.04.2-1.43.59L10.3 9.45l-7.72 7.72c-.78.78-.78 2.05 0 2.83L4 21.41c.39.39.9.59 1.41.59.51 0 1.02-.2 1.41-.59l7.78-7.78 2.81-2.81c.8-.78.8-2.07 0-2.86zM5.41 20L4 18.59l7.72-7.72 1.47 1.35L5.41 20z\"/>\n",
              "  </svg>\n",
              "      </button>\n",
              "      \n",
              "  <style>\n",
              "    .colab-df-container {\n",
              "      display:flex;\n",
              "      flex-wrap:wrap;\n",
              "      gap: 12px;\n",
              "    }\n",
              "\n",
              "    .colab-df-convert {\n",
              "      background-color: #E8F0FE;\n",
              "      border: none;\n",
              "      border-radius: 50%;\n",
              "      cursor: pointer;\n",
              "      display: none;\n",
              "      fill: #1967D2;\n",
              "      height: 32px;\n",
              "      padding: 0 0 0 0;\n",
              "      width: 32px;\n",
              "    }\n",
              "\n",
              "    .colab-df-convert:hover {\n",
              "      background-color: #E2EBFA;\n",
              "      box-shadow: 0px 1px 2px rgba(60, 64, 67, 0.3), 0px 1px 3px 1px rgba(60, 64, 67, 0.15);\n",
              "      fill: #174EA6;\n",
              "    }\n",
              "\n",
              "    [theme=dark] .colab-df-convert {\n",
              "      background-color: #3B4455;\n",
              "      fill: #D2E3FC;\n",
              "    }\n",
              "\n",
              "    [theme=dark] .colab-df-convert:hover {\n",
              "      background-color: #434B5C;\n",
              "      box-shadow: 0px 1px 3px 1px rgba(0, 0, 0, 0.15);\n",
              "      filter: drop-shadow(0px 1px 2px rgba(0, 0, 0, 0.3));\n",
              "      fill: #FFFFFF;\n",
              "    }\n",
              "  </style>\n",
              "\n",
              "      <script>\n",
              "        const buttonEl =\n",
              "          document.querySelector('#df-b8b249e7-7adf-441d-86e9-ee4a7ff39b7f button.colab-df-convert');\n",
              "        buttonEl.style.display =\n",
              "          google.colab.kernel.accessAllowed ? 'block' : 'none';\n",
              "\n",
              "        async function convertToInteractive(key) {\n",
              "          const element = document.querySelector('#df-b8b249e7-7adf-441d-86e9-ee4a7ff39b7f');\n",
              "          const dataTable =\n",
              "            await google.colab.kernel.invokeFunction('convertToInteractive',\n",
              "                                                     [key], {});\n",
              "          if (!dataTable) return;\n",
              "\n",
              "          const docLinkHtml = 'Like what you see? Visit the ' +\n",
              "            '<a target=\"_blank\" href=https://colab.research.google.com/notebooks/data_table.ipynb>data table notebook</a>'\n",
              "            + ' to learn more about interactive tables.';\n",
              "          element.innerHTML = '';\n",
              "          dataTable['output_type'] = 'display_data';\n",
              "          await google.colab.output.renderOutput(dataTable, element);\n",
              "          const docLink = document.createElement('div');\n",
              "          docLink.innerHTML = docLinkHtml;\n",
              "          element.appendChild(docLink);\n",
              "        }\n",
              "      </script>\n",
              "    </div>\n",
              "  </div>\n",
              "  "
            ]
          },
          "metadata": {},
          "execution_count": 41
        }
      ],
      "source": [
        "df_test = pd.DataFrame(filepaths, columns =['image'])\n",
        "df_test['FilePaths'] = dir_test + df_test['image']\n",
        "df_test"
      ]
    },
    {
      "cell_type": "code",
      "execution_count": 42,
      "metadata": {
        "id": "NBa1TxPuY8ni"
      },
      "outputs": [],
      "source": [
        "df_test['image'] = df_test['FilePaths'].map(lambda x: np.asarray(Image.open(x).resize(IMG_SIZE)))"
      ]
    },
    {
      "cell_type": "code",
      "execution_count": 43,
      "metadata": {
        "id": "60LYAT7VsNOZ",
        "colab": {
          "base_uri": "https://localhost:8080/"
        },
        "outputId": "a96f5676-e889-4837-d490-d008e9dbe4a0"
      },
      "outputs": [
        {
          "output_type": "stream",
          "name": "stdout",
          "text": [
            "(1512, 128, 128, 3)\n"
          ]
        }
      ],
      "source": [
        "X_test = np.asarray(df_test['image'].tolist())\n",
        "print(np.array(X_test).shape)"
      ]
    },
    {
      "cell_type": "markdown",
      "metadata": {
        "id": "FF7ml90JZ8FK"
      },
      "source": [
        "Calculate y_pred from training and testing for analysis"
      ]
    },
    {
      "cell_type": "code",
      "execution_count": 44,
      "metadata": {
        "id": "dIX0AmEFNv3Y",
        "colab": {
          "base_uri": "https://localhost:8080/"
        },
        "outputId": "ff713c6a-aead-40d4-9204-f8f9fe00a5d1"
      },
      "outputs": [
        {
          "output_type": "stream",
          "name": "stdout",
          "text": [
            "Y_pred2 (1512, 7)\n",
            "y_pred2 1512\n"
          ]
        }
      ],
      "source": [
        "# predicted labels\n",
        "Y_pred2 = finetune_model.predict(X_test)\n",
        "print(\"Y_pred2\", Y_pred2.shape)\n",
        "# rounded labels\n",
        "y_pred2 = np.argmax(Y_pred2, axis=1)\n",
        "print(\"y_pred2\", y_pred2.size)"
      ]
    },
    {
      "cell_type": "code",
      "execution_count": 45,
      "metadata": {
        "id": "7oeArO5CtxGb"
      },
      "outputs": [],
      "source": [
        "df_pred = pd.DataFrame(Y_pred2, columns = ['AKIEC', 'BCC', 'BKL', 'DF', 'MEL', 'NV', 'VASC'])\n",
        "df_pred['image'] = df_test['FilePaths'].map(lambda x: x.replace(dir_test, '').replace('.jpg', ''))\n",
        "df_pred = df_pred[['image', 'MEL', 'NV', 'BCC', 'AKIEC', 'BKL', 'DF', 'VASC']]"
      ]
    },
    {
      "cell_type": "code",
      "execution_count": 46,
      "metadata": {
        "id": "sOnjc3RJ0e4T"
      },
      "outputs": [],
      "source": [
        "df_pred.set_index(\"image\", inplace = True)\n",
        "df_pred.to_csv('/content/drive/MyDrive/PHD/Datasets/isic2018/response_SMOTEoversampling.csv')"
      ]
    },
    {
      "cell_type": "markdown",
      "metadata": {
        "id": "eaK4zbtoaAaC"
      },
      "source": [
        "#Confusion Metric on Validation Set"
      ]
    },
    {
      "cell_type": "code",
      "execution_count": 47,
      "metadata": {
        "id": "E4nEpmkZaTZC",
        "colab": {
          "base_uri": "https://localhost:8080/"
        },
        "outputId": "1e47dd3f-de4f-484c-dcb0-76edd59fa689"
      },
      "outputs": [
        {
          "output_type": "stream",
          "name": "stdout",
          "text": [
            "[[  0   0   0   8   0   0   0]\n",
            " [  0   0   0  15   0   0   0]\n",
            " [  0   0   0  19   1   0   2]\n",
            " [  0   0   0   1   0   0   0]\n",
            " [  1   0   0  17   2   0   1]\n",
            " [  0   0   0 104   0   5  14]\n",
            " [  0   0   0   3   0   0   0]]\n"
          ]
        }
      ],
      "source": [
        "#Get the confusion matrix\n",
        "cf_matrix = confusion_matrix(np.argmax(y_val, axis=1), np.argmax(y_val_pred, axis=1))\n",
        "\n",
        "print(cf_matrix)"
      ]
    },
    {
      "cell_type": "code",
      "execution_count": 48,
      "metadata": {
        "id": "gVtvW3YeaLlC",
        "colab": {
          "base_uri": "https://localhost:8080/",
          "height": 0
        },
        "outputId": "da513b66-5c8d-4f8b-b224-65a7c8428867"
      },
      "outputs": [
        {
          "output_type": "display_data",
          "data": {
            "text/plain": [
              "<Figure size 432x288 with 2 Axes>"
            ],
            "image/png": "[encoded data removed]"
          },
          "metadata": {
            "needs_background": "light"
          }
        }
      ],
      "source": [
        "ax = sns.heatmap(cf_matrix / cf_matrix.sum(axis=1, keepdims=True), annot=True, \n",
        "            cmap='Blues')\n",
        "\n",
        "ax.set_title('Confusion Matrix \\n');\n",
        "ax.set_xlabel('\\nPredicted')\n",
        "ax.set_ylabel('Actual ');\n",
        "\n",
        "## Ticket labels - List must be in alphabetical order\n",
        "ax.xaxis.set_ticklabels(['AKIEC', 'BCC', 'BKL', 'DF', 'MEL', 'NV', 'VASC'])\n",
        "ax.yaxis.set_ticklabels(['AKIEC', 'BCC', 'BKL', 'DF', 'MEL', 'NV', 'VASC'])\n",
        "\n",
        "plt.rcParams[\"figure.figsize\"] = (15,3)\n",
        "\n",
        "## Display the visualization of the Confusion Matrix.\n",
        "plt.xticks(rotation=45, ha='right')\n",
        "plt.yticks(rotation=0, ha='right')\n",
        "plt.show()"
      ]
    },
    {
      "cell_type": "code",
      "execution_count": 49,
      "metadata": {
        "id": "Ey-1yjWGeKs7",
        "colab": {
          "base_uri": "https://localhost:8080/",
          "height": 0
        },
        "outputId": "55988e3d-2c35-4d9a-af37-753d3c64af70"
      },
      "outputs": [
        {
          "output_type": "execute_result",
          "data": {
            "text/plain": [
              "[Text(0, 0, 'AKIEC'),\n",
              " Text(0, 0, 'BCC'),\n",
              " Text(0, 0, 'BKL'),\n",
              " Text(0, 0, 'DF'),\n",
              " Text(0, 0, 'MEL'),\n",
              " Text(0, 0, 'NV'),\n",
              " Text(0, 0, 'VASC')]"
            ]
          },
          "metadata": {},
          "execution_count": 49
        },
        {
          "output_type": "display_data",
          "data": {
            "text/plain": [
              "<Figure size 1080x432 with 1 Axes>"
            ],
            "image/png": "[encoded data removed]"
          },
          "metadata": {
            "needs_background": "light"
          }
        }
      ],
      "source": [
        "# ordered count of rows per unique label\n",
        "labels_count = df_val['Labels'].value_counts().sort_index()\n",
        "\n",
        "f = plt.figure(figsize=(15, 6))\n",
        "s = sns.barplot(x=labels_count.index,y=labels_count.values)\n",
        "s.set_xticklabels(s.get_xticklabels(), rotation = 30)"
      ]
    }
  ],
  "metadata": {
    "accelerator": "GPU",
    "colab": {
      "collapsed_sections": [
        "RcRGeofw-8tK",
        "uZv-B-ygCD57",
        "cNBXx28B9yGu",
        "US0KkIaVlTdU",
        "0jrJ33lUDkCM",
        "3K908bbiYwbS"
      ],
      "machine_shape": "hm",
      "name": "Skin Cancer Diagnosis using ISIC 2018 Dataset.ipynb",
      "provenance": [],
      "include_colab_link": true
    },
    "gpuClass": "standard",
    "kernelspec": {
      "display_name": "Python 3",
      "name": "python3"
    },
    "language_info": {
      "name": "python"
    }
  },
  "nbformat": 4,
  "nbformat_minor": 0
}
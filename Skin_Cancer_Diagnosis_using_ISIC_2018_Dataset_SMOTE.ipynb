{
  "cells": [
    {
      "cell_type": "markdown",
      "metadata": {
        "id": "view-in-github",
        "colab_type": "text"
      },
      "source": [
        "<a href=\"https://colab.research.google.com/github/heroza/Skin-Cancer-Diagnosis/blob/main/Skin_Cancer_Diagnosis_using_ISIC_2018_Dataset_SMOTE.ipynb\" target=\"_parent\"><img src=\"https://colab.research.google.com/assets/colab-badge.svg\" alt=\"Open In Colab\"/></a>"
      ]
    },
    {
      "cell_type": "markdown",
      "metadata": {
        "id": "PUusDE1Z9TNb"
      },
      "source": [
        "Prepare the dataset. \n",
        "Currently, we use skin cancer ISIC dataset from Kaggle https://www.kaggle.com/datasets/nodoubttome/skin-cancer9-classesisic\n",
        "\n",
        "Tutorial for how to load Kaggle dataset can be found in https://www.analyticsvidhya.com/blog/2021/06/how-to-load-kaggle-datasets-directly-into-google-colab/"
      ]
    },
    {
      "cell_type": "code",
      "execution_count": 1,
      "metadata": {
        "colab": {
          "base_uri": "https://localhost:8080/"
        },
        "id": "Eus_4tUgfEk9",
        "outputId": "22be40ae-df5e-49e9-9677-b4207ca95785"
      },
      "outputs": [
        {
          "output_type": "stream",
          "name": "stdout",
          "text": [
            "Mounted at /content/drive\n"
          ]
        }
      ],
      "source": [
        "from google.colab import drive\n",
        "drive.mount('/content/drive')"
      ]
    },
    {
      "cell_type": "markdown",
      "metadata": {
        "id": "RcRGeofw-8tK"
      },
      "source": [
        "#Load Data"
      ]
    },
    {
      "cell_type": "code",
      "execution_count": 2,
      "metadata": {
        "colab": {
          "base_uri": "https://localhost:8080/"
        },
        "id": "nR2MJBYq-oiB",
        "outputId": "890238df-5ea5-48a8-e897-af7e18390be0"
      },
      "outputs": [
        {
          "output_type": "stream",
          "name": "stdout",
          "text": [
            "Looking in indexes: https://pypi.org/simple, https://us-python.pkg.dev/colab-wheels/public/simple/\n",
            "Requirement already satisfied: imbalanced-learn in /usr/local/lib/python3.7/dist-packages (0.8.1)\n",
            "Requirement already satisfied: numpy>=1.13.3 in /usr/local/lib/python3.7/dist-packages (from imbalanced-learn) (1.21.6)\n",
            "Requirement already satisfied: joblib>=0.11 in /usr/local/lib/python3.7/dist-packages (from imbalanced-learn) (1.1.0)\n",
            "Requirement already satisfied: scipy>=0.19.1 in /usr/local/lib/python3.7/dist-packages (from imbalanced-learn) (1.7.3)\n",
            "Requirement already satisfied: scikit-learn>=0.24 in /usr/local/lib/python3.7/dist-packages (from imbalanced-learn) (1.0.2)\n",
            "Requirement already satisfied: threadpoolctl>=2.0.0 in /usr/local/lib/python3.7/dist-packages (from scikit-learn>=0.24->imbalanced-learn) (3.1.0)\n"
          ]
        }
      ],
      "source": [
        "import pandas as pd\n",
        "import numpy as np\n",
        "import tensorflow as tf\n",
        "import matplotlib.pyplot as plt\n",
        "import seaborn as sns\n",
        "import os\n",
        "from pathlib import Path\n",
        "from PIL import Image\n",
        "from sklearn import preprocessing\n",
        "from sklearn.metrics import precision_recall_fscore_support, balanced_accuracy_score, confusion_matrix\n",
        "from keras.callbacks import ReduceLROnPlateau, EarlyStopping, ModelCheckpoint\n",
        "from keras.preprocessing.image import ImageDataGenerator\n",
        "from tensorflow import keras\n",
        "from tensorflow.keras import layers\n",
        "from tensorflow.keras.optimizers import Adam, SGD\n",
        "from tensorflow.keras.preprocessing import image\n",
        "from tensorflow.keras.applications.resnet50 import ResNet50, preprocess_input, decode_predictions\n",
        "from tensorflow.keras.layers import GlobalAveragePooling2D, Dense, Input, Dropout, Flatten\n",
        "from tensorflow.keras.models import Model, load_model\n",
        "\n",
        "!pip install imbalanced-learn\n",
        "import imblearn\n",
        "from imblearn.over_sampling import SMOTE"
      ]
    },
    {
      "cell_type": "code",
      "execution_count": 3,
      "metadata": {
        "id": "3mnEebdJH6Ex"
      },
      "outputs": [],
      "source": [
        "df_train = pd.read_csv('/content/drive/MyDrive/PHD/Datasets/isic2018/ISIC2018_Task3_Training_GroundTruth/ISIC2018_Task3_Training_GroundTruth.csv') \n",
        "df_val = pd.read_csv('/content/drive/MyDrive/PHD/Datasets/isic2018/ISIC2018_Task3_Validation_GroundTruth/ISIC2018_Task3_Validation_GroundTruth.csv') \n",
        "num_classes = 7\n",
        "#df_train"
      ]
    },
    {
      "cell_type": "code",
      "execution_count": 4,
      "metadata": {
        "id": "aFSe3uekK67v"
      },
      "outputs": [],
      "source": [
        "#decode one hot label\n",
        "df_train[\"Labels\"] = (df_train.iloc[:, 1:]).idxmax(axis=1)\n",
        "df_val[\"Labels\"] = (df_val.iloc[:, 1:]).idxmax(axis=1)\n",
        "\n",
        "#drop one-hot column\n",
        "df_train = df_train.drop(columns=['MEL', 'NV', 'BCC', 'AKIEC', 'BKL', 'DF', 'VASC'])\n",
        "df_val = df_val.drop(columns=['MEL', 'NV', 'BCC', 'AKIEC', 'BKL', 'DF', 'VASC'])\n",
        "\n",
        "#make filepaths of the image\n",
        "dir_train = '/content/drive/MyDrive/PHD/Datasets/isic2018/ISIC2018_Task3_Training_Input/'\n",
        "dir_val = '/content/drive/MyDrive/PHD/Datasets/isic2018/ISIC2018_Task3_Validation_Input/'\n",
        "df_train['FilePaths'] = dir_train + df_train['image'] + '.jpg'\n",
        "df_val['FilePaths'] = dir_val + df_val['image'] + '.jpg'"
      ]
    },
    {
      "cell_type": "markdown",
      "metadata": {
        "id": "38f3dgvyBqFM"
      },
      "source": [
        "Label Distribution"
      ]
    },
    {
      "cell_type": "code",
      "execution_count": 5,
      "metadata": {
        "colab": {
          "base_uri": "https://localhost:8080/",
          "height": 0
        },
        "id": "2IncA-_o_n5w",
        "outputId": "5590be6f-336d-4ca3-c0cf-bfb2ba8e8e1a"
      },
      "outputs": [
        {
          "output_type": "execute_result",
          "data": {
            "text/plain": [
              "[Text(0, 0, 'DF'),\n",
              " Text(0, 0, 'VASC'),\n",
              " Text(0, 0, 'AKIEC'),\n",
              " Text(0, 0, 'BCC'),\n",
              " Text(0, 0, 'BKL'),\n",
              " Text(0, 0, 'MEL'),\n",
              " Text(0, 0, 'NV')]"
            ]
          },
          "metadata": {},
          "execution_count": 5
        },
        {
          "output_type": "display_data",
          "data": {
            "text/plain": [
              "<Figure size 1080x432 with 1 Axes>"
            ],
            "image/png": "[encoded data removed]"
          },
          "metadata": {
            "needs_background": "light"
          }
        }
      ],
      "source": [
        "# ordered count of rows per unique label\n",
        "labels_count = df_train['Labels'].value_counts(ascending=True)\n",
        "\n",
        "f = plt.figure(figsize=(15, 6))\n",
        "s = sns.barplot(x=labels_count.index,y=labels_count.values)\n",
        "s.set_xticklabels(s.get_xticklabels(), rotation = 30)"
      ]
    },
    {
      "cell_type": "markdown",
      "metadata": {
        "id": "AnKMKSb4Bkym"
      },
      "source": [
        "Plot 3 images per label"
      ]
    },
    {
      "cell_type": "code",
      "execution_count": 6,
      "metadata": {
        "id": "jdnVuqbFBW3K"
      },
      "outputs": [],
      "source": [
        "def plot_images_per_label(df, label, cols: int, size: tuple):\n",
        "    fig, axs = plt.subplots(nrows=1, ncols=cols, figsize=size)\n",
        "\n",
        "    cntMax = cols\n",
        "    cntCur = 0\n",
        "    for index, row in df.iterrows():\n",
        "        if(row['Labels'] == label and cntCur < cntMax):\n",
        "            axs[cntCur].imshow(plt.imread(df.FilePaths[index]))\n",
        "            axs[cntCur].set_title(df.Labels[index])\n",
        "\n",
        "            cntCur += 1\n",
        "        else:\n",
        "            if(cntCur >= cntMax):\n",
        "                break\n",
        "    \n",
        "    plt.tight_layout()\n",
        "    plt.show()\n",
        "\n",
        "\n",
        "# unique labels\n",
        "labels = sorted(df_train['Labels'].unique())\n",
        "#for label in labels:\n",
        "#    plot_images_per_label(df_train, label, 3, (12,9))"
      ]
    },
    {
      "cell_type": "markdown",
      "metadata": {
        "id": "qRKKrNacAZtl"
      },
      "source": [
        "Drop duplicate images"
      ]
    },
    {
      "cell_type": "code",
      "execution_count": 7,
      "metadata": {
        "id": "ERwfyPDHP-zC"
      },
      "outputs": [],
      "source": [
        "#df_group = pd.read_csv('/content/drive/MyDrive/PHD/Datasets/isic2018/ISIC2018_Task3_Training_LesionGroupings.csv') \n",
        "#df_train = df_train.set_index('image').join(df_group.set_index('image'))\n",
        "#df_train = df_train.drop_duplicates(subset=['lesion_id'])\n"
      ]
    },
    {
      "cell_type": "markdown",
      "metadata": {
        "id": "h35T8vKRVV1Y"
      },
      "source": [
        "Manual undersampling majority class"
      ]
    },
    {
      "cell_type": "code",
      "execution_count": 8,
      "metadata": {
        "id": "BeldhlTdVQlT"
      },
      "outputs": [],
      "source": [
        "df_train = df_train.drop(df_train[df_train['Labels'] == 'NV'].sample(frac=.7).index)"
      ]
    },
    {
      "cell_type": "markdown",
      "metadata": {
        "id": "DKjC59JOB_6d"
      },
      "source": [
        "Prepare X,y"
      ]
    },
    {
      "cell_type": "code",
      "execution_count": 9,
      "metadata": {
        "id": "9-c7Xghg4SB4"
      },
      "outputs": [],
      "source": [
        "# input image size\n",
        "IMAGE_W = 224\n",
        "IMAGE_H = 224\n",
        "IMG_SIZE = (IMAGE_W,IMAGE_H)"
      ]
    },
    {
      "cell_type": "code",
      "execution_count": 10,
      "metadata": {
        "id": "3jyCpXnlFoQK"
      },
      "outputs": [],
      "source": [
        "#TIME CONSUMING OPERATION\n",
        "#from tensorflow.keras.preprocessing.image import load_img, img_to_array\n",
        "#X = []\n",
        "#for img in df['FilePaths']:\n",
        "    #img_arr = load_img(img, target_size=IMG_SIZE)\n",
        "#    with load_img(img, target_size=IMG_SIZE) as img_arr:\n",
        "#      X.append(img_to_array(img_arr))\n",
        "\n",
        "#X = np.array(X)\n",
        "df_train['image_px'] = df_train['FilePaths'].map(lambda x: np.asarray(Image.open(x).resize(IMG_SIZE)))\n",
        "df_val['image_px'] = df_val['FilePaths'].map(lambda x: np.asarray(Image.open(x).resize(IMG_SIZE)))"
      ]
    },
    {
      "cell_type": "code",
      "execution_count": 11,
      "metadata": {
        "colab": {
          "base_uri": "https://localhost:8080/"
        },
        "id": "UZyZMydSgvZo",
        "outputId": "326bc1f6-e17b-41c4-bcee-1496dd29a48d"
      },
      "outputs": [
        {
          "output_type": "stream",
          "name": "stdout",
          "text": [
            "(5321, 224, 224, 3)\n",
            "(193, 224, 224, 3)\n"
          ]
        }
      ],
      "source": [
        "X_train = np.asarray(df_train['image_px'].tolist())\n",
        "X_val = np.asarray(df_val['image_px'].tolist())\n",
        "print(np.array(X_train).shape)\n",
        "print(np.array(X_val).shape)"
      ]
    },
    {
      "cell_type": "code",
      "execution_count": 12,
      "metadata": {
        "colab": {
          "base_uri": "https://localhost:8080/"
        },
        "id": "uqYLmicGAjZz",
        "outputId": "f3b58ace-d17b-41fd-a53f-9c1cd2ff27ce"
      },
      "outputs": [
        {
          "output_type": "stream",
          "name": "stdout",
          "text": [
            "Counter({'NV': 2011, 'MEL': 1113, 'BKL': 1099, 'BCC': 514, 'AKIEC': 327, 'VASC': 142, 'DF': 115})\n",
            "(5321,)\n"
          ]
        }
      ],
      "source": [
        "y_train = np.array(df_train['Labels'].values)\n",
        "\n",
        "# summarize class distribution\n",
        "from collections import Counter\n",
        "counter = Counter(y_train)\n",
        "print(counter)\n",
        "print(y_train.shape)"
      ]
    },
    {
      "cell_type": "code",
      "execution_count": 13,
      "metadata": {
        "colab": {
          "base_uri": "https://localhost:8080/"
        },
        "id": "kEuVIGc3g859",
        "outputId": "274c19ed-2ed4-4659-ac2c-990a6e334632"
      },
      "outputs": [
        {
          "output_type": "stream",
          "name": "stdout",
          "text": [
            "Counter({'NV': 123, 'BKL': 22, 'MEL': 21, 'BCC': 15, 'AKIEC': 8, 'VASC': 3, 'DF': 1})\n",
            "(193,)\n"
          ]
        }
      ],
      "source": [
        "y_val = np.array(df_val['Labels'].values)\n",
        "print(Counter(y_val))\n",
        "print(y_val.shape)"
      ]
    },
    {
      "cell_type": "code",
      "execution_count": 14,
      "metadata": {
        "colab": {
          "base_uri": "https://localhost:8080/"
        },
        "id": "QfvEVGIQhIr2",
        "outputId": "213c5865-7e7d-48f1-e141-9dd88682ec06"
      },
      "outputs": [
        {
          "output_type": "execute_result",
          "data": {
            "text/plain": [
              "array([5, 4, 5, ..., 4, 4, 2])"
            ]
          },
          "metadata": {},
          "execution_count": 14
        }
      ],
      "source": [
        "#label encoding\n",
        "label_encoder = preprocessing.LabelEncoder()\n",
        "y_train = label_encoder.fit_transform(y_train)\n",
        "y_val = label_encoder.fit_transform(y_val)\n",
        "y_train"
      ]
    },
    {
      "cell_type": "markdown",
      "metadata": {
        "id": "uZv-B-ygCD57"
      },
      "source": [
        "#SMOTE Oversampling"
      ]
    },
    {
      "cell_type": "code",
      "execution_count": 15,
      "metadata": {
        "id": "RDskF1wjGffh"
      },
      "outputs": [],
      "source": [
        "def SMOTE_Data(X, y):\n",
        "  sm = SMOTE(random_state=42, k_neighbors=5)\n",
        "  X_resampled, y_resampled = sm.fit_resample(X.reshape((-1, IMAGE_W * IMAGE_H * 3)), y)\n",
        "  X_resampled.reshape(-1, IMAGE_W, IMAGE_H, 3)\n",
        "  return X_resampled, y_resampled"
      ]
    },
    {
      "cell_type": "code",
      "execution_count": 16,
      "metadata": {
        "colab": {
          "base_uri": "https://localhost:8080/"
        },
        "id": "brshqGvOCDJL",
        "outputId": "177db98e-72a2-4308-b875-80bb6bf6d0a9"
      },
      "outputs": [
        {
          "output_type": "stream",
          "name": "stdout",
          "text": [
            "(14077, 150528)\n",
            "(14077,)\n"
          ]
        }
      ],
      "source": [
        "X_train, y_train = SMOTE_Data(X_train, y_train) #beware of the actual parameter\n",
        "print(X_train.shape)\n",
        "print(y_train.shape)"
      ]
    },
    {
      "cell_type": "code",
      "execution_count": 17,
      "metadata": {
        "colab": {
          "base_uri": "https://localhost:8080/"
        },
        "id": "8GfOtcbV5vVZ",
        "outputId": "1a24cec2-e284-4588-e427-a54eb387651d"
      },
      "outputs": [
        {
          "output_type": "stream",
          "name": "stdout",
          "text": [
            "Counter({5: 2011, 4: 2011, 2: 2011, 3: 2011, 0: 2011, 1: 2011, 6: 2011})\n"
          ]
        }
      ],
      "source": [
        "counter = Counter(y_train)\n",
        "print(counter)"
      ]
    },
    {
      "cell_type": "code",
      "execution_count": 18,
      "metadata": {
        "colab": {
          "base_uri": "https://localhost:8080/"
        },
        "id": "dl-nmACZOZpg",
        "outputId": "e6b51afe-0a14-4312-c5b0-9927ea4bd2f1"
      },
      "outputs": [
        {
          "output_type": "stream",
          "name": "stdout",
          "text": [
            "X_train shape:  (14077, 224, 224, 3)\n"
          ]
        }
      ],
      "source": [
        "X_train = X_train.reshape(-1, IMAGE_W, IMAGE_H, 3)\n",
        "print('X_train shape: ',X_train.shape)"
      ]
    },
    {
      "cell_type": "markdown",
      "metadata": {
        "id": "cNBXx28B9yGu"
      },
      "source": [
        "#DeepSMOTE Oversampling"
      ]
    },
    {
      "cell_type": "code",
      "execution_count": null,
      "metadata": {
        "id": "RAxUkXy8ueYG"
      },
      "outputs": [],
      "source": [
        "#Normalization\n",
        "#X_train_mean = np.mean(X_train)\n",
        "#X_train_std = np.std(X_train)\n",
        "\n",
        "#X_train = (X_train - X_train_mean)/X_train_std\n",
        "#X_val = (X_val - X_train_mean)/X_train_std"
      ]
    },
    {
      "cell_type": "code",
      "execution_count": null,
      "metadata": {
        "id": "h-Xqj-WQ90L_"
      },
      "outputs": [],
      "source": [
        "#optional\n",
        "#X=X_train\n",
        "#y=y_train\n",
        "\n",
        "from numpy import moveaxis\n",
        "X_train = moveaxis(X_train, 3, 1)\n",
        "X_train = X_train.astype('float32') / 255.\n",
        "#dec_x = X_train \n",
        "#dec_y = y\n",
        "\n",
        "#create counter for encoder\n",
        "counter = sorted(counter.items())\n",
        "counter = [value for _, value in counter]"
      ]
    },
    {
      "cell_type": "code",
      "execution_count": null,
      "metadata": {
        "colab": {
          "base_uri": "https://localhost:8080/"
        },
        "id": "0kMMmX7r-fV5",
        "outputId": "6e64d509-8163-41f8-a5a3-ba1aeeac1244"
      },
      "outputs": [
        {
          "name": "stdout",
          "output_type": "stream",
          "text": [
            "11.3\n"
          ]
        }
      ],
      "source": [
        "import torch\n",
        "import torch.nn as nn\n",
        "from torch.utils.data import TensorDataset\n",
        "from sklearn.neighbors import NearestNeighbors\n",
        "import time\n",
        "import os\n",
        "\n",
        "print(torch.version.cuda) #10.1\n",
        "\n",
        "args = {}\n",
        "args['dim_h'] = 64         # factor controlling size of hidden layers\n",
        "args['n_channel'] = 3#1    # number of channels in the input data \n",
        "\n",
        "args['n_z'] = 600 #300     # number of dimensions in latent space. \n",
        "\n",
        "args['sigma'] = 1.0        # variance in n_z\n",
        "args['lambda'] = 0.01      # hyper param for weight of discriminator loss\n",
        "args['lr'] = 0.0002        # learning rate for Adam optimizer .000\n",
        "args['epochs'] = 300       # how many epochs to run for\n",
        "args['batch_size'] = 12   # batch size for SGD\n",
        "args['save'] = True        # save weights at each epoch of training if True\n",
        "args['train'] = True       # train networks if True, else load networks from\n",
        "\n",
        "args['patience'] = 20\n",
        "\n",
        "## create encoder model and decoder model\n",
        "class Encoder(nn.Module):\n",
        "    def __init__(self, args):\n",
        "        super(Encoder, self).__init__()\n",
        "\n",
        "        self.n_channel = args['n_channel']\n",
        "        self.dim_h = args['dim_h']\n",
        "        self.n_z = args['n_z']\n",
        "        \n",
        "        # convolutional filters, work excellent with image data\n",
        "        self.conv = nn.Sequential(\n",
        "            nn.Conv2d(self.n_channel, self.dim_h, 4, 2, 1, bias=False),\n",
        "            #nn.ReLU(True),\n",
        "            nn.LeakyReLU(0.2, inplace=True),\n",
        "            nn.Conv2d(self.dim_h, self.dim_h * 2, 4, 2, 1, bias=False),\n",
        "            nn.BatchNorm2d(self.dim_h * 2),\n",
        "            #nn.ReLU(True),\n",
        "            nn.LeakyReLU(0.2, inplace=True),\n",
        "            nn.Conv2d(self.dim_h * 2, self.dim_h * 4, 4, 2, 1, bias=False),\n",
        "            nn.BatchNorm2d(self.dim_h * 4),\n",
        "            #nn.ReLU(True),\n",
        "            nn.LeakyReLU(0.2, inplace=True),\n",
        "            \n",
        "            \n",
        "            #nn.Conv2d(self.dim_h * 4, self.dim_h * 8, 4, 2, 0, bias=False),\n",
        "            \n",
        "            #3d and 32 by 32\n",
        "            nn.Conv2d(self.dim_h * 4, self.dim_h * 8, 4, 1, 0, bias=False),\n",
        "            \n",
        "            nn.BatchNorm2d(self.dim_h * 8), # 40 X 8 = 320\n",
        "            #nn.ReLU(True),\n",
        "            nn.LeakyReLU(0.2, inplace=True) )#,\n",
        "            #nn.Conv2d(self.dim_h * 8, 1, 2, 1, 0, bias=False))\n",
        "            #nn.Conv2d(self.dim_h * 8, 1, 4, 1, 0, bias=False))\n",
        "        # final layer is fully connected\n",
        "        self.fc = nn.Linear(self.dim_h * (2 ** 3), self.n_z)\n",
        "        \n",
        "\n",
        "    def forward(self, x):\n",
        "        #print('enc')\n",
        "        #print('input ',x.size()) #torch.Size([100, 3,32,32])\n",
        "        x = self.conv(x)\n",
        "        \n",
        "        x = x.squeeze()\n",
        "        #print('aft squeeze ',x.size()) #torch.Size([128, 320])\n",
        "        #aft squeeze  torch.Size([100, 320])\n",
        "        x = self.fc(x)\n",
        "        #print('out ',x.size()) #torch.Size([128, 20])\n",
        "        #out  torch.Size([100, 300])\n",
        "        return x\n",
        "\n",
        "\n",
        "class Decoder(nn.Module):\n",
        "    def __init__(self, args):\n",
        "        super(Decoder, self).__init__()\n",
        "\n",
        "        self.n_channel = args['n_channel']\n",
        "        self.dim_h = args['dim_h']\n",
        "        self.n_z = args['n_z']\n",
        "\n",
        "        # first layer is fully connected\n",
        "        self.fc = nn.Sequential(\n",
        "            nn.Linear(self.n_z, self.dim_h * 2**4 * 8 * 8),\n",
        "            nn.ReLU())\n",
        "\n",
        "        # deconvolutional filters, essentially inverse of convolutional filters\n",
        "        self.deconv = nn.Sequential(\n",
        "            nn.ConvTranspose2d(self.dim_h * 16, self.dim_h * 8, 4),\n",
        "            nn.BatchNorm2d(self.dim_h * 8),\n",
        "            nn.ReLU(True),\n",
        "            nn.ConvTranspose2d(self.dim_h * 8, self.dim_h * 4, 4),\n",
        "            nn.BatchNorm2d(self.dim_h * 4),\n",
        "            nn.ReLU(True),\n",
        "            nn.ConvTranspose2d(self.dim_h * 4, self.dim_h * 2, 4),\n",
        "            nn.BatchNorm2d(self.dim_h * 2),\n",
        "            nn.ReLU(True),\n",
        "            nn.ConvTranspose2d(self.dim_h * 2, 3, 4, stride=2, padding=2),\n",
        "            #nn.Sigmoid())\n",
        "            nn.Tanh())\n",
        "\n",
        "    def forward(self, x):\n",
        "        #print('dec')\n",
        "        #print('input ',x.size())\n",
        "        x = self.fc(x)\n",
        "        x = x.view(-1, self.dim_h * 2**4, 8, 8)\n",
        "        x = self.deconv(x)\n",
        "        return x\n",
        "\n",
        "##############################################################################\n",
        "\"\"\"set models, loss functions\"\"\"\n",
        "# control which parameters are frozen / free for optimization\n",
        "def free_params(module: nn.Module):\n",
        "    for p in module.parameters():\n",
        "        p.requires_grad = True\n",
        "\n",
        "def frozen_params(module: nn.Module):\n",
        "    for p in module.parameters():\n",
        "        p.requires_grad = False\n",
        "\n",
        "\n",
        "##############################################################################\n",
        "\"\"\"functions to create SMOTE images\"\"\"\n",
        "\n",
        "def biased_get_class(X, y, c):\n",
        "    \n",
        "    xbeg = X[y == c]\n",
        "    ybeg = y[y == c]\n",
        "    \n",
        "    return xbeg, ybeg\n",
        "    #return xclass, yclass\n",
        "\n",
        "\n",
        "def G_SM(X, y,n_to_sample,cl):\n",
        "\n",
        "    # determining the number of samples to generate\n",
        "    #n_to_sample = 10 \n",
        "\n",
        "    # fitting the model\n",
        "    n_neigh = 6\n",
        "    nn = NearestNeighbors(n_neighbors=n_neigh, n_jobs=1)\n",
        "    nn.fit(X)\n",
        "    dist, ind = nn.kneighbors(X)\n",
        "\n",
        "    # generating samples\n",
        "    base_indices = np.random.choice(list(range(len(X))),n_to_sample)\n",
        "    neighbor_indices = np.random.choice(list(range(1, n_neigh)),n_to_sample)\n",
        "\n",
        "    X_base = X[base_indices]\n",
        "    X_neighbor = X[ind[base_indices, neighbor_indices]]\n",
        "\n",
        "    samples = X_base + np.multiply(np.random.rand(n_to_sample,1),\n",
        "            X_neighbor - X_base)\n",
        "\n",
        "    #use 10 as label because 0 to 9 real classes and 1 fake/smoted = 10\n",
        "    return samples, [cl]*n_to_sample\n",
        "\n",
        "#xsamp, ysamp = SM(xclass,yclass)"
      ]
    },
    {
      "cell_type": "code",
      "execution_count": null,
      "metadata": {
        "colab": {
          "background_save": true,
          "base_uri": "https://localhost:8080/"
        },
        "id": "oHtLISURIMTg",
        "outputId": "3c2a9014-8236-44ed-c938-7cf534e4ca39"
      },
      "outputs": [
        {
          "name": "stdout",
          "output_type": "stream",
          "text": [
            "cuda\n",
            "Epoch: 0 \tTrain Loss: 0.610381 \tmse loss: 0.318809 \tmse2 loss: 0.291571\n",
            "Saving..\n",
            "Epoch: 1 \tTrain Loss: 0.156314 \tmse loss: 0.081827 \tmse2 loss: 0.074487\n",
            "Saving..\n",
            "Epoch: 2 \tTrain Loss: 0.122643 \tmse loss: 0.064346 \tmse2 loss: 0.058297\n",
            "Saving..\n",
            "Epoch: 3 \tTrain Loss: 0.104264 \tmse loss: 0.056006 \tmse2 loss: 0.048258\n",
            "Saving..\n",
            "Epoch: 4 \tTrain Loss: 0.094684 \tmse loss: 0.051268 \tmse2 loss: 0.043416\n",
            "Saving..\n",
            "Epoch: 5 \tTrain Loss: 0.085152 \tmse loss: 0.046846 \tmse2 loss: 0.038307\n",
            "Saving..\n",
            "Epoch: 6 \tTrain Loss: 0.079042 \tmse loss: 0.044378 \tmse2 loss: 0.034665\n",
            "Saving..\n",
            "Epoch: 7 \tTrain Loss: 0.077456 \tmse loss: 0.043071 \tmse2 loss: 0.034385\n",
            "Saving..\n",
            "Epoch: 8 \tTrain Loss: 0.070160 \tmse loss: 0.039750 \tmse2 loss: 0.030410\n",
            "Saving..\n",
            "Epoch: 9 \tTrain Loss: 0.066997 \tmse loss: 0.038873 \tmse2 loss: 0.028124\n",
            "Saving..\n",
            "Epoch: 10 \tTrain Loss: 0.065848 \tmse loss: 0.038258 \tmse2 loss: 0.027590\n",
            "Saving..\n",
            "Epoch: 11 \tTrain Loss: 0.064435 \tmse loss: 0.037299 \tmse2 loss: 0.027135\n",
            "Saving..\n",
            "Epoch: 12 \tTrain Loss: 0.058701 \tmse loss: 0.034630 \tmse2 loss: 0.024071\n",
            "Saving..\n",
            "Epoch: 13 \tTrain Loss: 0.054673 \tmse loss: 0.032533 \tmse2 loss: 0.022141\n",
            "Saving..\n",
            "Epoch: 14 \tTrain Loss: 0.052829 \tmse loss: 0.031594 \tmse2 loss: 0.021235\n",
            "Saving..\n",
            "Epoch: 15 \tTrain Loss: 0.053818 \tmse loss: 0.032062 \tmse2 loss: 0.021756\n",
            "Epoch: 16 \tTrain Loss: 0.050689 \tmse loss: 0.030790 \tmse2 loss: 0.019899\n",
            "Saving..\n",
            "Epoch: 17 \tTrain Loss: 0.047679 \tmse loss: 0.029072 \tmse2 loss: 0.018607\n",
            "Saving..\n",
            "Epoch: 18 \tTrain Loss: 0.045814 \tmse loss: 0.028188 \tmse2 loss: 0.017627\n",
            "Saving..\n",
            "Epoch: 19 \tTrain Loss: 0.043147 \tmse loss: 0.026314 \tmse2 loss: 0.016833\n",
            "Saving..\n",
            "Epoch: 20 \tTrain Loss: 0.042771 \tmse loss: 0.026631 \tmse2 loss: 0.016139\n",
            "Saving..\n",
            "Epoch: 21 \tTrain Loss: 0.038895 \tmse loss: 0.024140 \tmse2 loss: 0.014754\n",
            "Saving..\n",
            "Epoch: 22 \tTrain Loss: 0.039646 \tmse loss: 0.024615 \tmse2 loss: 0.015031\n",
            "Epoch: 23 \tTrain Loss: 0.037996 \tmse loss: 0.023383 \tmse2 loss: 0.014613\n",
            "Saving..\n",
            "Epoch: 24 \tTrain Loss: 0.037236 \tmse loss: 0.023173 \tmse2 loss: 0.014063\n",
            "Saving..\n",
            "Epoch: 25 \tTrain Loss: 0.034592 \tmse loss: 0.021773 \tmse2 loss: 0.012818\n",
            "Saving..\n",
            "Epoch: 26 \tTrain Loss: 0.034419 \tmse loss: 0.021875 \tmse2 loss: 0.012543\n",
            "Saving..\n",
            "Epoch: 27 \tTrain Loss: 0.034299 \tmse loss: 0.021906 \tmse2 loss: 0.012393\n",
            "Saving..\n",
            "Epoch: 28 \tTrain Loss: 0.032516 \tmse loss: 0.020699 \tmse2 loss: 0.011818\n",
            "Saving..\n",
            "Epoch: 29 \tTrain Loss: 0.030791 \tmse loss: 0.019514 \tmse2 loss: 0.011277\n",
            "Saving..\n",
            "Epoch: 30 \tTrain Loss: 0.030056 \tmse loss: 0.019394 \tmse2 loss: 0.010662\n",
            "Saving..\n",
            "Epoch: 31 \tTrain Loss: 0.028422 \tmse loss: 0.018462 \tmse2 loss: 0.009960\n",
            "Saving..\n",
            "Epoch: 32 \tTrain Loss: 0.028033 \tmse loss: 0.018082 \tmse2 loss: 0.009951\n",
            "Saving..\n",
            "Epoch: 33 \tTrain Loss: 0.027334 \tmse loss: 0.017879 \tmse2 loss: 0.009455\n",
            "Saving..\n",
            "Epoch: 34 \tTrain Loss: 0.027319 \tmse loss: 0.017620 \tmse2 loss: 0.009698\n",
            "Saving..\n",
            "Epoch: 35 \tTrain Loss: 0.026480 \tmse loss: 0.017170 \tmse2 loss: 0.009309\n",
            "Saving..\n",
            "Epoch: 36 \tTrain Loss: 0.026360 \tmse loss: 0.017114 \tmse2 loss: 0.009246\n",
            "Saving..\n",
            "Epoch: 37 \tTrain Loss: 0.024962 \tmse loss: 0.016327 \tmse2 loss: 0.008636\n",
            "Saving..\n",
            "Epoch: 38 \tTrain Loss: 0.024123 \tmse loss: 0.015833 \tmse2 loss: 0.008290\n",
            "Saving..\n",
            "Epoch: 39 \tTrain Loss: 0.023904 \tmse loss: 0.015556 \tmse2 loss: 0.008347\n",
            "Saving..\n",
            "Epoch: 40 \tTrain Loss: 0.022242 \tmse loss: 0.014694 \tmse2 loss: 0.007548\n",
            "Saving..\n",
            "Epoch: 41 \tTrain Loss: 0.023130 \tmse loss: 0.015279 \tmse2 loss: 0.007851\n",
            "Epoch: 42 \tTrain Loss: 0.021489 \tmse loss: 0.014339 \tmse2 loss: 0.007150\n",
            "Saving..\n",
            "Epoch: 43 \tTrain Loss: 0.021795 \tmse loss: 0.014347 \tmse2 loss: 0.007448\n",
            "Epoch: 44 \tTrain Loss: 0.020928 \tmse loss: 0.013956 \tmse2 loss: 0.006972\n",
            "Saving..\n",
            "Epoch: 45 \tTrain Loss: 0.020674 \tmse loss: 0.013728 \tmse2 loss: 0.006946\n",
            "Saving..\n",
            "Epoch: 46 \tTrain Loss: 0.019984 \tmse loss: 0.013368 \tmse2 loss: 0.006616\n",
            "Saving..\n",
            "Epoch: 47 \tTrain Loss: 0.019759 \tmse loss: 0.013058 \tmse2 loss: 0.006702\n",
            "Saving..\n",
            "Epoch: 48 \tTrain Loss: 0.020550 \tmse loss: 0.013738 \tmse2 loss: 0.006812\n",
            "Epoch: 49 \tTrain Loss: 0.019322 \tmse loss: 0.012814 \tmse2 loss: 0.006507\n",
            "Saving..\n",
            "Epoch: 50 \tTrain Loss: 0.018960 \tmse loss: 0.012577 \tmse2 loss: 0.006384\n",
            "Saving..\n",
            "Epoch: 51 \tTrain Loss: 0.020172 \tmse loss: 0.013231 \tmse2 loss: 0.006941\n",
            "Epoch: 52 \tTrain Loss: 0.019502 \tmse loss: 0.013010 \tmse2 loss: 0.006492\n",
            "Epoch: 53 \tTrain Loss: 0.017952 \tmse loss: 0.011884 \tmse2 loss: 0.006067\n",
            "Saving..\n",
            "Epoch: 54 \tTrain Loss: 0.017392 \tmse loss: 0.011692 \tmse2 loss: 0.005701\n",
            "Saving..\n",
            "Epoch: 55 \tTrain Loss: 0.017671 \tmse loss: 0.011815 \tmse2 loss: 0.005856\n",
            "Epoch: 56 \tTrain Loss: 0.018032 \tmse loss: 0.012093 \tmse2 loss: 0.005939\n",
            "Epoch: 57 \tTrain Loss: 0.017471 \tmse loss: 0.011803 \tmse2 loss: 0.005668\n",
            "Epoch: 58 \tTrain Loss: 0.016957 \tmse loss: 0.011427 \tmse2 loss: 0.005530\n",
            "Saving..\n",
            "Epoch: 59 \tTrain Loss: 0.016498 \tmse loss: 0.011149 \tmse2 loss: 0.005349\n",
            "Saving..\n",
            "Epoch: 60 \tTrain Loss: 0.016042 \tmse loss: 0.010738 \tmse2 loss: 0.005304\n",
            "Saving..\n",
            "Epoch: 61 \tTrain Loss: 0.015801 \tmse loss: 0.010663 \tmse2 loss: 0.005138\n",
            "Saving..\n",
            "Epoch: 62 \tTrain Loss: 0.015618 \tmse loss: 0.010490 \tmse2 loss: 0.005129\n",
            "Saving..\n",
            "Epoch: 63 \tTrain Loss: 0.016105 \tmse loss: 0.010786 \tmse2 loss: 0.005319\n",
            "Epoch: 64 \tTrain Loss: 0.015004 \tmse loss: 0.010184 \tmse2 loss: 0.004821\n",
            "Saving..\n",
            "Epoch: 65 \tTrain Loss: 0.015077 \tmse loss: 0.010194 \tmse2 loss: 0.004883\n",
            "Epoch: 66 \tTrain Loss: 0.014802 \tmse loss: 0.009985 \tmse2 loss: 0.004817\n",
            "Saving..\n",
            "Epoch: 67 \tTrain Loss: 0.014560 \tmse loss: 0.009884 \tmse2 loss: 0.004676\n",
            "Saving..\n",
            "Epoch: 68 \tTrain Loss: 0.014312 \tmse loss: 0.009619 \tmse2 loss: 0.004692\n",
            "Saving..\n",
            "Epoch: 69 \tTrain Loss: 0.014541 \tmse loss: 0.009746 \tmse2 loss: 0.004795\n",
            "Epoch: 70 \tTrain Loss: 0.014178 \tmse loss: 0.009565 \tmse2 loss: 0.004613\n",
            "Saving..\n",
            "Epoch: 71 \tTrain Loss: 0.014344 \tmse loss: 0.009644 \tmse2 loss: 0.004700\n",
            "Epoch: 72 \tTrain Loss: 0.014120 \tmse loss: 0.009548 \tmse2 loss: 0.004572\n",
            "Saving..\n",
            "Epoch: 73 \tTrain Loss: 0.013265 \tmse loss: 0.008995 \tmse2 loss: 0.004270\n",
            "Saving..\n",
            "Epoch: 74 \tTrain Loss: 0.013443 \tmse loss: 0.009033 \tmse2 loss: 0.004411\n",
            "Epoch: 75 \tTrain Loss: 0.013623 \tmse loss: 0.009332 \tmse2 loss: 0.004291\n",
            "Epoch: 76 \tTrain Loss: 0.012842 \tmse loss: 0.008615 \tmse2 loss: 0.004227\n",
            "Saving..\n",
            "Epoch: 77 \tTrain Loss: 0.013178 \tmse loss: 0.008950 \tmse2 loss: 0.004228\n",
            "Epoch: 78 \tTrain Loss: 0.013539 \tmse loss: 0.009199 \tmse2 loss: 0.004340\n",
            "Epoch: 79 \tTrain Loss: 0.012730 \tmse loss: 0.008673 \tmse2 loss: 0.004058\n",
            "Saving..\n",
            "Epoch: 80 \tTrain Loss: 0.012310 \tmse loss: 0.008349 \tmse2 loss: 0.003961\n",
            "Saving..\n",
            "Epoch: 81 \tTrain Loss: 0.012168 \tmse loss: 0.008233 \tmse2 loss: 0.003935\n",
            "Saving..\n",
            "Epoch: 82 \tTrain Loss: 0.012518 \tmse loss: 0.008450 \tmse2 loss: 0.004068\n",
            "Epoch: 83 \tTrain Loss: 0.011971 \tmse loss: 0.008168 \tmse2 loss: 0.003802\n",
            "Saving..\n",
            "Epoch: 84 \tTrain Loss: 0.012115 \tmse loss: 0.008272 \tmse2 loss: 0.003843\n",
            "Epoch: 85 \tTrain Loss: 0.011899 \tmse loss: 0.008157 \tmse2 loss: 0.003742\n",
            "Saving..\n",
            "Epoch: 86 \tTrain Loss: 0.011966 \tmse loss: 0.008301 \tmse2 loss: 0.003665\n",
            "Epoch: 87 \tTrain Loss: 0.011663 \tmse loss: 0.008037 \tmse2 loss: 0.003626\n",
            "Saving..\n",
            "Epoch: 88 \tTrain Loss: 0.011480 \tmse loss: 0.007836 \tmse2 loss: 0.003644\n",
            "Saving..\n",
            "Epoch: 89 \tTrain Loss: 0.011494 \tmse loss: 0.007840 \tmse2 loss: 0.003654\n",
            "Epoch: 90 \tTrain Loss: 0.011816 \tmse loss: 0.007993 \tmse2 loss: 0.003822\n",
            "Epoch: 91 \tTrain Loss: 0.011703 \tmse loss: 0.007843 \tmse2 loss: 0.003861\n",
            "Epoch: 92 \tTrain Loss: 0.010740 \tmse loss: 0.007436 \tmse2 loss: 0.003304\n",
            "Saving..\n",
            "Epoch: 93 \tTrain Loss: 0.010922 \tmse loss: 0.007417 \tmse2 loss: 0.003505\n",
            "Epoch: 94 \tTrain Loss: 0.010691 \tmse loss: 0.007305 \tmse2 loss: 0.003386\n",
            "Saving..\n",
            "Epoch: 95 \tTrain Loss: 0.010783 \tmse loss: 0.007387 \tmse2 loss: 0.003396\n",
            "Epoch: 96 \tTrain Loss: 0.010514 \tmse loss: 0.007175 \tmse2 loss: 0.003339\n",
            "Saving..\n",
            "Epoch: 97 \tTrain Loss: 0.010314 \tmse loss: 0.007095 \tmse2 loss: 0.003219\n",
            "Saving..\n",
            "Epoch: 98 \tTrain Loss: 0.010381 \tmse loss: 0.007078 \tmse2 loss: 0.003303\n",
            "Epoch: 99 \tTrain Loss: 0.010283 \tmse loss: 0.007092 \tmse2 loss: 0.003191\n",
            "Saving..\n",
            "Epoch: 100 \tTrain Loss: 0.010435 \tmse loss: 0.007166 \tmse2 loss: 0.003269\n",
            "Epoch: 101 \tTrain Loss: 0.010044 \tmse loss: 0.006864 \tmse2 loss: 0.003180\n",
            "Saving..\n",
            "Epoch: 102 \tTrain Loss: 0.010528 \tmse loss: 0.007225 \tmse2 loss: 0.003303\n",
            "Epoch: 103 \tTrain Loss: 0.009853 \tmse loss: 0.006850 \tmse2 loss: 0.003002\n",
            "Saving..\n",
            "Epoch: 104 \tTrain Loss: 0.009681 \tmse loss: 0.006692 \tmse2 loss: 0.002988\n",
            "Saving..\n",
            "Epoch: 105 \tTrain Loss: 0.010108 \tmse loss: 0.006980 \tmse2 loss: 0.003128\n",
            "Epoch: 106 \tTrain Loss: 0.009788 \tmse loss: 0.006702 \tmse2 loss: 0.003086\n",
            "Epoch: 107 \tTrain Loss: 0.010047 \tmse loss: 0.006828 \tmse2 loss: 0.003219\n",
            "Epoch: 108 \tTrain Loss: 0.009424 \tmse loss: 0.006478 \tmse2 loss: 0.002946\n",
            "Saving..\n",
            "Epoch: 109 \tTrain Loss: 0.009296 \tmse loss: 0.006409 \tmse2 loss: 0.002887\n",
            "Saving..\n",
            "Epoch: 110 \tTrain Loss: 0.009328 \tmse loss: 0.006402 \tmse2 loss: 0.002926\n",
            "Epoch: 111 \tTrain Loss: 0.009434 \tmse loss: 0.006501 \tmse2 loss: 0.002933\n",
            "Epoch: 112 \tTrain Loss: 0.009416 \tmse loss: 0.006462 \tmse2 loss: 0.002954\n",
            "Epoch: 113 \tTrain Loss: 0.010648 \tmse loss: 0.007224 \tmse2 loss: 0.003424\n",
            "Epoch: 114 \tTrain Loss: 0.009508 \tmse loss: 0.006634 \tmse2 loss: 0.002874\n",
            "Epoch: 115 \tTrain Loss: 0.008886 \tmse loss: 0.006181 \tmse2 loss: 0.002705\n",
            "Saving..\n",
            "Epoch: 116 \tTrain Loss: 0.008665 \tmse loss: 0.006000 \tmse2 loss: 0.002665\n",
            "Saving..\n",
            "Epoch: 117 \tTrain Loss: 0.008503 \tmse loss: 0.005974 \tmse2 loss: 0.002529\n",
            "Saving..\n",
            "Epoch: 118 \tTrain Loss: 0.008851 \tmse loss: 0.006150 \tmse2 loss: 0.002701\n",
            "Epoch: 119 \tTrain Loss: 0.008653 \tmse loss: 0.005941 \tmse2 loss: 0.002712\n",
            "Epoch: 120 \tTrain Loss: 0.008476 \tmse loss: 0.005869 \tmse2 loss: 0.002607\n",
            "Saving..\n",
            "Epoch: 121 \tTrain Loss: 0.008787 \tmse loss: 0.006092 \tmse2 loss: 0.002694\n",
            "Epoch: 122 \tTrain Loss: 0.009026 \tmse loss: 0.006234 \tmse2 loss: 0.002791\n",
            "Epoch: 123 \tTrain Loss: 0.008547 \tmse loss: 0.005877 \tmse2 loss: 0.002670\n",
            "Epoch: 124 \tTrain Loss: 0.008419 \tmse loss: 0.005880 \tmse2 loss: 0.002539\n",
            "Saving..\n",
            "Epoch: 125 \tTrain Loss: 0.008077 \tmse loss: 0.005589 \tmse2 loss: 0.002487\n",
            "Saving..\n",
            "Epoch: 126 \tTrain Loss: 0.008665 \tmse loss: 0.005991 \tmse2 loss: 0.002674\n"
          ]
        }
      ],
      "source": [
        "#Begin the training\n",
        "batch_size = args['batch_size']\n",
        "patience = args['patience']\n",
        "encoder = Encoder(args)\n",
        "decoder = Decoder(args)\n",
        "\n",
        "device = 'cuda' if torch.cuda.is_available() else 'cpu'\n",
        "print(device)\n",
        "decoder = decoder.to(device)\n",
        "encoder = encoder.to(device)\n",
        "\n",
        "train_on_gpu = torch.cuda.is_available()\n",
        "\n",
        "#decoder loss function\n",
        "criterion = nn.MSELoss()\n",
        "criterion = criterion.to(device)\n",
        "\n",
        "num_workers = 0\n",
        "\n",
        "#torch.Tensor returns float so if want long then use torch.tensor\n",
        "tensor_x = torch.Tensor(X_train)\n",
        "tensor_y = torch.tensor(y_train,dtype=torch.long)\n",
        "mnist_bal = TensorDataset(tensor_x,tensor_y) \n",
        "train_loader = torch.utils.data.DataLoader(mnist_bal, \n",
        "    batch_size=batch_size,shuffle=True,num_workers=num_workers)\n",
        "\n",
        "best_loss = np.inf\n",
        "\n",
        "t0 = time.time()\n",
        "if args['train']:\n",
        "    enc_optim = torch.optim.Adam(encoder.parameters(), lr = args['lr'])\n",
        "    dec_optim = torch.optim.Adam(decoder.parameters(), lr = args['lr'])\n",
        "\n",
        "    for epoch in range(args['epochs']):\n",
        "        train_loss = 0.0\n",
        "        tmse_loss = 0.0\n",
        "        tdiscr_loss = 0.0\n",
        "        # train for one epoch -- set nets to train mode\n",
        "        encoder.train()\n",
        "        decoder.train()\n",
        "    \n",
        "        for images,labs in train_loader:\n",
        "        \n",
        "            # zero gradients for each batch\n",
        "            encoder.zero_grad()\n",
        "            decoder.zero_grad()\n",
        "            images, labs = images.to(device), labs.to(device)\n",
        "            labsn = labs.detach().cpu().numpy()\n",
        "#            print('images shape', images.shape)\n",
        "            # run images\n",
        "            z_hat = encoder(images)\n",
        "#            print('images shape after encoding', z_hat.shape)\n",
        "        \n",
        "            x_hat = decoder(z_hat) #decoder outputs tanh\n",
        "#            print('images shape after decoding', x_hat.shape)\n",
        "            mse = criterion(x_hat,images)\n",
        "                    \n",
        "            resx = []\n",
        "            resy = []\n",
        "        \n",
        "            tc = np.random.choice(num_classes,1)\n",
        "            #tc = 9\n",
        "            xbeg = X_train[y_train == tc]\n",
        "            ybeg = y_train[y_train == tc] \n",
        "            xlen = len(xbeg)\n",
        "            nsamp = min(xlen, 100)\n",
        "            ind = np.random.choice(list(range(len(xbeg))),nsamp,replace=False)\n",
        "            xclass = xbeg[ind]\n",
        "            yclass = ybeg[ind]\n",
        "        \n",
        "            xclen = len(xclass)\n",
        "            xcminus = np.arange(1,xclen)\n",
        "            \n",
        "            xcplus = np.append(xcminus,0)\n",
        "            xcnew = (xclass[[xcplus],:])\n",
        "            xcnew = xcnew.reshape(xcnew.shape[1],xcnew.shape[2],xcnew.shape[3],xcnew.shape[4])\n",
        "        \n",
        "            xcnew = torch.Tensor(xcnew)\n",
        "            xcnew = xcnew.to(device)\n",
        "        \n",
        "            #encode xclass to feature space\n",
        "            xclass = torch.Tensor(xclass)\n",
        "            xclass = xclass.to(device)\n",
        "            xclass = encoder(xclass)\n",
        "        \n",
        "            xclass = xclass.detach().cpu().numpy()\n",
        "        \n",
        "            xc_enc = (xclass[[xcplus],:])\n",
        "            xc_enc = np.squeeze(xc_enc)\n",
        "        \n",
        "            xc_enc = torch.Tensor(xc_enc)\n",
        "            xc_enc = xc_enc.to(device)\n",
        "            \n",
        "            ximg = decoder(xc_enc)\n",
        "            \n",
        "            mse2 = criterion(ximg,xcnew)\n",
        "        \n",
        "            comb_loss = mse2 + mse\n",
        "            comb_loss.backward()\n",
        "        \n",
        "            enc_optim.step()\n",
        "            dec_optim.step()\n",
        "        \n",
        "            train_loss += comb_loss.item()*images.size(0)\n",
        "            tmse_loss += mse.item()*images.size(0)\n",
        "            tdiscr_loss += mse2.item()*images.size(0)\n",
        "\n",
        "        train_loss = train_loss/len(train_loader)\n",
        "        tmse_loss = tmse_loss/len(train_loader)\n",
        "        tdiscr_loss = tdiscr_loss/len(train_loader)\n",
        "        print('Epoch: {} \\tTrain Loss: {:.6f} \\tmse loss: {:.6f} \\tmse2 loss: {:.6f}'.format(epoch,\n",
        "                train_loss,tmse_loss,tdiscr_loss))\n",
        "        \n",
        "    \n",
        "    \n",
        "        #store the best encoder and decoder models\n",
        "        #here, /crs5 is a reference to 5 way cross validation, but is not\n",
        "        #necessary for illustration purposes\n",
        "        if train_loss < best_loss:\n",
        "            print('Saving..')\n",
        "            patience = args['patience']\n",
        "            path_enc = '/content/drive/MyDrive/PHD/Model/DeepSMOTE/bst_enc.pth'\n",
        "            path_dec = '/content/drive/MyDrive/PHD/Model/DeepSMOTE/bst_dec.pth'\n",
        "          \n",
        "            torch.save(encoder.state_dict(), path_enc)\n",
        "            torch.save(decoder.state_dict(), path_dec)\n",
        "    \n",
        "            best_loss = train_loss\n",
        "        else:\n",
        "            patience = patience - 1\n",
        "\n",
        "        if patience == 0:\n",
        "            print('Out of patience. \\n')\n",
        "            break\n",
        "    \n",
        "    \n",
        "    #in addition, store the final model (may not be the best) for\n",
        "    #informational purposes\n",
        "    path_enc = '/content/drive/MyDrive/PHD/Model/DeepSMOTE/f_enc.pth'\n",
        "    path_dec = '/content/drive/MyDrive/PHD/Model/DeepSMOTE/f_dec.pth'\n",
        "    print(path_enc)\n",
        "    print(path_dec)\n",
        "    torch.save(encoder.state_dict(), path_enc)\n",
        "    torch.save(decoder.state_dict(), path_dec)"
      ]
    },
    {
      "cell_type": "code",
      "execution_count": null,
      "metadata": {
        "id": "NoqPIVKqF5Ug"
      },
      "outputs": [],
      "source": [
        "#Generate artificial images\n",
        "import torch\n",
        "np.printoptions(precision=5,suppress=True)\n",
        "\n",
        "#path on the computer where the models are stored\n",
        "modpth = '/content/drive/MyDrive/PHD/Model/DeepSMOTE/'\n",
        "\n",
        "encf = []\n",
        "decf = []\n",
        "for p in range(1):\n",
        "    enc = modpth + '/bst_enc.pth'\n",
        "    dec = modpth + '/bst_dec.pth'\n",
        "    encf.append(enc)\n",
        "    decf.append(dec)\n",
        "\n",
        "for m in range(1):\n",
        "    print('train imgs shape ',X_train.shape) #(45000,3,32,32)\n",
        "    print('decy ',y_train.shape)\n",
        "    \n",
        "    #generate some images \n",
        "    train_on_gpu = torch.cuda.is_available()\n",
        "    device = 'cuda' if torch.cuda.is_available() else 'cpu'\n",
        "    \n",
        "    path_enc = encf[m]\n",
        "    path_dec = decf[m]\n",
        "\n",
        "    encoder = Encoder(args)\n",
        "    encoder.load_state_dict(torch.load(path_enc), strict=False)\n",
        "    encoder = encoder.to(device)\n",
        "\n",
        "    decoder = Decoder(args)\n",
        "    decoder.load_state_dict(torch.load(path_dec), strict=False)\n",
        "    decoder = decoder.to(device)\n",
        "\n",
        "    encoder.eval()\n",
        "    decoder.eval()\n",
        "\n",
        "    resx = []\n",
        "    resy = []\n",
        "\n",
        "    for i in [0,1,2,3,4,6]: #skip class 5 since it's max class\n",
        "        torch.cuda.empty_cache()\n",
        "\n",
        "        xclass, yclass = biased_get_class(X_train, y_train, i)\n",
        "#        print(xclass.shape) #(500, 3, 32, 32)\n",
        "#        print(yclass[0]) #(500,)\n",
        "            \n",
        "        #encode xclass to feature space\n",
        "        xclass = torch.Tensor(xclass)\n",
        "        xclass = xclass.to(device)\n",
        "        xclass = encoder(xclass)\n",
        "            \n",
        "        xclass = xclass.detach().cpu().numpy()\n",
        "        n = np.max(counter) - counter[i]\n",
        "        xsamp, ysamp = G_SM(xclass,yclass,n,i)\n",
        "#        print(xsamp.shape) #(4500, 600)\n",
        "#        print(len(ysamp)) #4500\n",
        "        ysamp = np.array(ysamp)\n",
        "    \n",
        "        \"\"\"to generate samples for resnet\"\"\"   \n",
        "        xsamp = torch.Tensor(xsamp)\n",
        "        xsamp = xsamp.to(device)\n",
        "        ximg = decoder(xsamp)\n",
        "\n",
        "        ximn = ximg.detach().cpu().numpy()\n",
        "#        print(ximn.shape) \n",
        "        resx.append(ximn)\n",
        "        resy.append(ysamp)\n",
        "    \n",
        "    resx1 = np.vstack(resx)\n",
        "    resy1 = np.hstack(resy)\n",
        "#    print(resx1.shape) #(34720, 3, 32, 32)\n",
        "\n",
        "    resx1 = resx1.reshape(resx1.shape[0],-1)\n",
        "#    print(resx1.shape) #(34720, 3072)\n",
        "    \n",
        "    dec_x1 = X_train.reshape(X_train.shape[0],-1)\n",
        "#    print('decx1 ',dec_x1.shape)\n",
        "    combx = np.vstack((resx1,dec_x1))\n",
        "    comby = np.hstack((resy1,y_train))\n",
        "\n",
        "    print(combx.shape) #(45000, 3, 32, 32)\n",
        "    print(comby.shape) #(45000,)\n",
        "#    print()"
      ]
    },
    {
      "cell_type": "code",
      "execution_count": null,
      "metadata": {
        "id": "76bpFBQcHLIY"
      },
      "outputs": [],
      "source": [
        "X_train = combx.reshape(-1, 3, IMAGE_W, IMAGE_H)\n",
        "X_train = moveaxis(X_train, 1, 3)\n",
        "print('X_train shape: ',X_train.shape)\n",
        "y_train = comby\n",
        "print(Counter(comby))"
      ]
    },
    {
      "cell_type": "code",
      "execution_count": null,
      "metadata": {
        "colab": {
          "background_save": true
        },
        "id": "8SqyvSgX8sLO"
      },
      "outputs": [],
      "source": [
        "X_train = X_train * 255\n",
        "X_train = X_train.astype(int)"
      ]
    },
    {
      "cell_type": "code",
      "execution_count": null,
      "metadata": {
        "id": "we4D35jnEOqs"
      },
      "outputs": [],
      "source": [
        "#de-standardization\n",
        "#X_train = (X_train * X_train_std + X_train_mean).astype(int)\n",
        "#X_val = (X_val * X_train_std + X_train_mean).astype(int)"
      ]
    },
    {
      "cell_type": "markdown",
      "metadata": {
        "id": "US0KkIaVlTdU"
      },
      "source": [
        "#Data Transformation"
      ]
    },
    {
      "cell_type": "code",
      "execution_count": 19,
      "metadata": {
        "id": "_a_lPCqbibaS",
        "colab": {
          "base_uri": "https://localhost:8080/"
        },
        "outputId": "798856ad-800b-4b97-97db-13bcc9063b97"
      },
      "outputs": [
        {
          "output_type": "stream",
          "name": "stdout",
          "text": [
            "y_train shape:  (14077, 1)\n"
          ]
        }
      ],
      "source": [
        "y_train = y_train.reshape(-1, 1)\n",
        "y_val = y_val.reshape(-1, 1)\n",
        "print('y_train shape: ',y_train.shape)"
      ]
    },
    {
      "cell_type": "code",
      "execution_count": 20,
      "metadata": {
        "id": "ja5ZmgbCvDw5"
      },
      "outputs": [],
      "source": [
        "from keras.utils.np_utils import to_categorical\n",
        "y_train = to_categorical(y_train, num_classes = num_classes)\n",
        "y_val = to_categorical(y_val, num_classes = num_classes)"
      ]
    },
    {
      "cell_type": "code",
      "execution_count": 21,
      "metadata": {
        "id": "9QM00erNGU32",
        "colab": {
          "base_uri": "https://localhost:8080/"
        },
        "outputId": "471a4742-60b4-49e3-ad70-b4e677c37e11"
      },
      "outputs": [
        {
          "output_type": "stream",
          "name": "stdout",
          "text": [
            "(14077, 224, 224, 3)\n",
            "(14077, 7)\n",
            "(193, 224, 224, 3)\n",
            "(193, 7)\n"
          ]
        }
      ],
      "source": [
        "print(X_train.shape)\n",
        "print(y_train.shape)\n",
        "print(X_val.shape)\n",
        "print(y_val.shape)"
      ]
    },
    {
      "cell_type": "markdown",
      "metadata": {
        "id": "0jrJ33lUDkCM"
      },
      "source": [
        "#Split dataset to train and val"
      ]
    },
    {
      "cell_type": "code",
      "execution_count": null,
      "metadata": {
        "colab": {
          "base_uri": "https://localhost:8080/"
        },
        "id": "e6qneWL_Bs2U",
        "outputId": "22c2c4ff-5544-4dd8-b69a-af96b4b97616"
      },
      "outputs": [
        {
          "name": "stdout",
          "output_type": "stream",
          "text": [
            "Train Data:  (9814, 32, 32, 3)\n",
            "Remaining Data:  (201, 32, 32, 3)\n"
          ]
        }
      ],
      "source": [
        "# stratified train and rem (20%) datasets\n",
        "from sklearn.model_selection import train_test_split\n",
        "X_train, X_val, y_train, y_val = train_test_split(X, y, test_size=0.02, stratify=y, random_state=1)\n",
        "\n",
        "print('Train Data: ', X_train.shape)\n",
        "print('Remaining Data: ', X_val.shape)"
      ]
    },
    {
      "cell_type": "code",
      "execution_count": null,
      "metadata": {
        "colab": {
          "base_uri": "https://localhost:8080/"
        },
        "id": "Vai7M7WSXVY4",
        "outputId": "b9bc1199-a518-4a8b-9d6e-4d6038efbafe"
      },
      "outputs": [
        {
          "name": "stdout",
          "output_type": "stream",
          "text": [
            "Test Data:  (416, 32, 32, 3)\n",
            "Val Data:  (416, 32, 32, 3)\n"
          ]
        }
      ],
      "source": [
        "# stratified val and test (50%) \n",
        "from sklearn.model_selection import train_test_split\n",
        "X_test, X_val, y_test, y_val = train_test_split(X_rem, y_rem, test_size=0.5, stratify=y_rem, random_state=1)\n",
        "\n",
        "print('Test Data: ', X_test.shape)\n",
        "print('Val Data: ', X_val.shape)"
      ]
    },
    {
      "cell_type": "markdown",
      "metadata": {
        "id": "I15HgVuhjFlm"
      },
      "source": []
    },
    {
      "cell_type": "code",
      "execution_count": null,
      "metadata": {
        "colab": {
          "base_uri": "https://localhost:8080/"
        },
        "id": "oVVOQPNiHXHw",
        "outputId": "a1e60310-4f3b-4063-8465-4d7120d225c9"
      },
      "outputs": [
        {
          "name": "stdout",
          "output_type": "stream",
          "text": [
            "Train Data:  (2015, 32, 32, 3)\n",
            "Test Data:  (224, 32, 32, 3)\n"
          ]
        }
      ],
      "source": [
        "#optional\n",
        "# stratified train and test (10%) datasets\n",
        "from sklearn.model_selection import train_test_split\n",
        "X_train, X_test, y_train, y_test = train_test_split(X, y, test_size=0.1, stratify=y, random_state=1)\n",
        "\n",
        "print('Train Data: ', X_train.shape)\n",
        "print('Test Data: ', X_test.shape)"
      ]
    },
    {
      "cell_type": "code",
      "execution_count": null,
      "metadata": {
        "colab": {
          "base_uri": "https://localhost:8080/"
        },
        "id": "0_oaUYYgJNV7",
        "outputId": "ca2f393a-0599-4cfc-b330-45d723f2bb06"
      },
      "outputs": [
        {
          "name": "stdout",
          "output_type": "stream",
          "text": [
            "Train Data:  (3369, 32, 32, 3)\n",
            "Val Data:  (375, 32, 32, 3)\n"
          ]
        }
      ],
      "source": [
        "#optional\n",
        "# stratified train and val (10%) datasets\n",
        "from sklearn.model_selection import train_test_split\n",
        "X_train, X_val, y_train, y_val = train_test_split(X, y, test_size=0.1, stratify=y, random_state=1)\n",
        "\n",
        "print('Train Data: ', X_train.shape)\n",
        "print('Val Data: ', X_val.shape)"
      ]
    },
    {
      "cell_type": "markdown",
      "metadata": {
        "id": "ZklPzWxCCtTW"
      },
      "source": [
        "Create and compile the model"
      ]
    },
    {
      "cell_type": "code",
      "execution_count": null,
      "metadata": {
        "id": "7jFShRvTHnqi"
      },
      "outputs": [],
      "source": [
        "print(X_train)"
      ]
    },
    {
      "cell_type": "code",
      "execution_count": null,
      "metadata": {
        "id": "8Kef4r_zxjgk"
      },
      "outputs": [],
      "source": [
        "#Data Augmentation\n",
        "dataaugment = ImageDataGenerator(\n",
        "        rotation_range=90,  # randomly rotate images in the range (degrees, 0 to 180)\n",
        "        zoom_range = 0.1, # Randomly zoom image \n",
        "        width_shift_range=0.1,  # randomly shift images horizontally (fraction of total width)\n",
        "        height_shift_range=0.1,  # randomly shift images vertically (fraction of total height)\n",
        "        horizontal_flip=True,  # randomly flip images\n",
        "        vertical_flip=True,  # randomly flip images\n",
        "        shear_range = 10) \n",
        "\n",
        "dataaugment.fit(X_train)"
      ]
    },
    {
      "cell_type": "markdown",
      "metadata": {
        "id": "5v7sLC2svMuJ"
      },
      "source": [
        "# Classification\n",
        "Model from https://github.com/AnasBrital98/CNN-From-Scratch/tree/master/Inception-V3"
      ]
    },
    {
      "cell_type": "code",
      "execution_count": 22,
      "metadata": {
        "id": "A8eRZiucdYnP"
      },
      "outputs": [],
      "source": [
        "EPOCHS = 1000\n",
        "BATCH_SIZE = 32\n",
        "optimizer = Adam(learning_rate=0.0005, beta_1=0.9, beta_2=0.999, epsilon=None, decay=0.0, amsgrad=False)\n",
        "\n",
        "#USe TF.data\n",
        "training_data = tf.data.Dataset.from_tensor_slices((X_train, y_train))\n",
        "validation_data = tf.data.Dataset.from_tensor_slices((X_val, y_val))\n",
        "\n",
        "autotune = tf.data.AUTOTUNE\n",
        "train_data_batches = training_data.shuffle(buffer_size=40000).batch(32).prefetch(buffer_size=autotune)\n",
        "valid_data_batches = validation_data.shuffle(buffer_size=10000).batch(32).prefetch(buffer_size=autotune)\n",
        "\n",
        "#Data augmentation\n",
        "rescale_layer = tf.keras.Sequential([layers.experimental.preprocessing.Rescaling(1./255)])\n",
        "data_augmentation = tf.keras.Sequential([\n",
        "  layers.experimental.preprocessing.RandomFlip(\"horizontal_and_vertical\"),\n",
        "  layers.experimental.preprocessing.RandomRotation(0.2), \n",
        "  layers.experimental.preprocessing.RandomZoom(height_factor=(0.2, 0.3), width_factor=(0.2, 0.3)),\n",
        "  layers.experimental.preprocessing.RandomTranslation(0.3, 0.3, fill_mode='reflect', interpolation='bilinear',)\n",
        "])\n",
        "\n",
        "def balanced_acc(y_true, y_pred):\n",
        "    from sklearn.metrics import confusion_matrix\n",
        "    import numpy as np\n",
        "    from keras import backend as K\n",
        "\n",
        "    tensor1 = tf.math.argmax(y_true, axis=1)\n",
        "    tensor2 = tf.math.argmax(y_pred, axis=1)\n",
        "\n",
        "    cm = tf.math.confusion_matrix(tensor1, tensor2)\n",
        "    \n",
        "    diag = tf.linalg.tensor_diag_part (cm)\n",
        "    tpfn = tf.cast(K.sum(cm, axis = 1), tf.float32) + K.epsilon()\n",
        "    recall = tf.divide(tf.cast(diag, tf.float32),tpfn)\n",
        "    balanced_acc = K.mean(recall)\n",
        "    return balanced_acc\n",
        "\n",
        "#Callbacks\n",
        "best_model_fpath = '/content/drive/MyDrive/PHD/Model/best_model_SMOTE.h5'\n",
        "last_model_fpath = '/content/drive/MyDrive/PHD/Model/last_model_SMOTE.h5'\n",
        "mc = ModelCheckpoint(best_model_fpath, monitor='val_balanced_acc', mode='max', verbose=1, save_best_only=True)\n",
        "learning_rate_reduction = ReduceLROnPlateau(monitor='val_loss', patience=10, verbose=0, factor=0.5, min_lr=0.00001)\n",
        "early_stopping_monitor = EarlyStopping(patience=30,monitor='val_balanced_acc')\n"
      ]
    },
    {
      "cell_type": "code",
      "execution_count": 23,
      "metadata": {
        "id": "rwwLiXUSG0IZ",
        "colab": {
          "base_uri": "https://localhost:8080/"
        },
        "outputId": "2f5ca358-c754-4f76-c683-5bff377c8cbf"
      },
      "outputs": [
        {
          "output_type": "stream",
          "name": "stdout",
          "text": [
            "Downloading data from https://storage.googleapis.com/tensorflow/keras-applications/resnet/resnet50_weights_tf_dim_ordering_tf_kernels_notop.h5\n",
            "94773248/94765736 [==============================] - 0s 0us/step\n",
            "94781440/94765736 [==============================] - 0s 0us/step\n",
            "Epoch 1/1000\n",
            "440/440 [==============================] - ETA: 0s - loss: 1.9112 - accuracy: 0.3600 - balanced_acc: 0.3582\n",
            "Epoch 1: val_balanced_acc improved from -inf to 0.32725, saving model to /content/drive/MyDrive/PHD/Model/best_model_SMOTE.h5\n",
            "440/440 [==============================] - 48s 79ms/step - loss: 1.9112 - accuracy: 0.3600 - balanced_acc: 0.3582 - val_loss: 0.9864 - val_accuracy: 0.6839 - val_balanced_acc: 0.3273 - lr: 5.0000e-04\n",
            "Epoch 2/1000\n",
            "440/440 [==============================] - ETA: 0s - loss: 1.4168 - accuracy: 0.4463 - balanced_acc: 0.4470\n",
            "Epoch 2: val_balanced_acc improved from 0.32725 to 0.33034, saving model to /content/drive/MyDrive/PHD/Model/best_model_SMOTE.h5\n",
            "440/440 [==============================] - 31s 71ms/step - loss: 1.4168 - accuracy: 0.4463 - balanced_acc: 0.4470 - val_loss: 1.0591 - val_accuracy: 0.6425 - val_balanced_acc: 0.3303 - lr: 5.0000e-04\n",
            "Epoch 3/1000\n",
            "440/440 [==============================] - ETA: 0s - loss: 1.2809 - accuracy: 0.4914 - balanced_acc: 0.4922\n",
            "Epoch 3: val_balanced_acc did not improve from 0.33034\n",
            "440/440 [==============================] - 29s 66ms/step - loss: 1.2809 - accuracy: 0.4914 - balanced_acc: 0.4922 - val_loss: 0.9656 - val_accuracy: 0.6269 - val_balanced_acc: 0.2784 - lr: 5.0000e-04\n",
            "Epoch 4/1000\n",
            "440/440 [==============================] - ETA: 0s - loss: 1.2199 - accuracy: 0.5208 - balanced_acc: 0.5180\n",
            "Epoch 4: val_balanced_acc improved from 0.33034 to 0.33496, saving model to /content/drive/MyDrive/PHD/Model/best_model_SMOTE.h5\n",
            "440/440 [==============================] - 32s 72ms/step - loss: 1.2199 - accuracy: 0.5208 - balanced_acc: 0.5180 - val_loss: 0.9651 - val_accuracy: 0.6528 - val_balanced_acc: 0.3350 - lr: 5.0000e-04\n",
            "Epoch 5/1000\n",
            "440/440 [==============================] - ETA: 0s - loss: 1.1807 - accuracy: 0.5348 - balanced_acc: 0.5294\n",
            "Epoch 5: val_balanced_acc improved from 0.33496 to 0.35879, saving model to /content/drive/MyDrive/PHD/Model/best_model_SMOTE.h5\n",
            "440/440 [==============================] - 32s 73ms/step - loss: 1.1807 - accuracy: 0.5348 - balanced_acc: 0.5294 - val_loss: 0.8907 - val_accuracy: 0.6632 - val_balanced_acc: 0.3588 - lr: 5.0000e-04\n",
            "Epoch 6/1000\n",
            "440/440 [==============================] - ETA: 0s - loss: 1.1451 - accuracy: 0.5557 - balanced_acc: 0.5517\n",
            "Epoch 6: val_balanced_acc did not improve from 0.35879\n",
            "440/440 [==============================] - 29s 66ms/step - loss: 1.1451 - accuracy: 0.5557 - balanced_acc: 0.5517 - val_loss: 0.8230 - val_accuracy: 0.6788 - val_balanced_acc: 0.3043 - lr: 5.0000e-04\n",
            "Epoch 7/1000\n",
            "440/440 [==============================] - ETA: 0s - loss: 1.1240 - accuracy: 0.5629 - balanced_acc: 0.5564\n",
            "Epoch 7: val_balanced_acc improved from 0.35879 to 0.37504, saving model to /content/drive/MyDrive/PHD/Model/best_model_SMOTE.h5\n",
            "440/440 [==============================] - 31s 71ms/step - loss: 1.1240 - accuracy: 0.5629 - balanced_acc: 0.5564 - val_loss: 1.0188 - val_accuracy: 0.6425 - val_balanced_acc: 0.3750 - lr: 5.0000e-04\n",
            "Epoch 8/1000\n",
            "440/440 [==============================] - ETA: 0s - loss: 1.1154 - accuracy: 0.5625 - balanced_acc: 0.5607\n",
            "Epoch 8: val_balanced_acc did not improve from 0.37504\n",
            "440/440 [==============================] - 29s 66ms/step - loss: 1.1154 - accuracy: 0.5625 - balanced_acc: 0.5607 - val_loss: 0.9252 - val_accuracy: 0.6425 - val_balanced_acc: 0.3743 - lr: 5.0000e-04\n",
            "Epoch 9/1000\n",
            "440/440 [==============================] - ETA: 0s - loss: 1.1051 - accuracy: 0.5741 - balanced_acc: 0.5704\n",
            "Epoch 9: val_balanced_acc improved from 0.37504 to 0.38419, saving model to /content/drive/MyDrive/PHD/Model/best_model_SMOTE.h5\n",
            "440/440 [==============================] - 32s 72ms/step - loss: 1.1051 - accuracy: 0.5741 - balanced_acc: 0.5704 - val_loss: 0.7536 - val_accuracy: 0.7306 - val_balanced_acc: 0.3842 - lr: 5.0000e-04\n",
            "Epoch 10/1000\n",
            "440/440 [==============================] - ETA: 0s - loss: 1.0850 - accuracy: 0.5827 - balanced_acc: 0.5785\n",
            "Epoch 10: val_balanced_acc improved from 0.38419 to 0.43551, saving model to /content/drive/MyDrive/PHD/Model/best_model_SMOTE.h5\n",
            "440/440 [==============================] - 31s 71ms/step - loss: 1.0850 - accuracy: 0.5827 - balanced_acc: 0.5785 - val_loss: 0.7647 - val_accuracy: 0.7358 - val_balanced_acc: 0.4355 - lr: 5.0000e-04\n",
            "Epoch 11/1000\n",
            "440/440 [==============================] - ETA: 0s - loss: 1.0618 - accuracy: 0.5892 - balanced_acc: 0.5868\n",
            "Epoch 11: val_balanced_acc did not improve from 0.43551\n",
            "440/440 [==============================] - 29s 67ms/step - loss: 1.0618 - accuracy: 0.5892 - balanced_acc: 0.5868 - val_loss: 0.9036 - val_accuracy: 0.6995 - val_balanced_acc: 0.4108 - lr: 5.0000e-04\n",
            "Epoch 12/1000\n",
            "440/440 [==============================] - ETA: 0s - loss: 1.0615 - accuracy: 0.5876 - balanced_acc: 0.5820\n",
            "Epoch 12: val_balanced_acc improved from 0.43551 to 0.45488, saving model to /content/drive/MyDrive/PHD/Model/best_model_SMOTE.h5\n",
            "440/440 [==============================] - 31s 70ms/step - loss: 1.0615 - accuracy: 0.5876 - balanced_acc: 0.5820 - val_loss: 1.0141 - val_accuracy: 0.6736 - val_balanced_acc: 0.4549 - lr: 5.0000e-04\n",
            "Epoch 13/1000\n",
            "440/440 [==============================] - ETA: 0s - loss: 1.0454 - accuracy: 0.5947 - balanced_acc: 0.5892\n",
            "Epoch 13: val_balanced_acc did not improve from 0.45488\n",
            "440/440 [==============================] - 29s 65ms/step - loss: 1.0454 - accuracy: 0.5947 - balanced_acc: 0.5892 - val_loss: 0.8174 - val_accuracy: 0.6839 - val_balanced_acc: 0.3373 - lr: 5.0000e-04\n",
            "Epoch 14/1000\n",
            "440/440 [==============================] - ETA: 0s - loss: 1.0410 - accuracy: 0.6003 - balanced_acc: 0.5970\n",
            "Epoch 14: val_balanced_acc did not improve from 0.45488\n",
            "440/440 [==============================] - 29s 65ms/step - loss: 1.0410 - accuracy: 0.6003 - balanced_acc: 0.5970 - val_loss: 0.8420 - val_accuracy: 0.7047 - val_balanced_acc: 0.3717 - lr: 5.0000e-04\n",
            "Epoch 15/1000\n",
            "440/440 [==============================] - ETA: 0s - loss: 1.0327 - accuracy: 0.6041 - balanced_acc: 0.6022\n",
            "Epoch 15: val_balanced_acc did not improve from 0.45488\n",
            "440/440 [==============================] - 29s 66ms/step - loss: 1.0327 - accuracy: 0.6041 - balanced_acc: 0.6022 - val_loss: 0.9040 - val_accuracy: 0.7098 - val_balanced_acc: 0.4230 - lr: 5.0000e-04\n",
            "Epoch 16/1000\n",
            "440/440 [==============================] - ETA: 0s - loss: 1.0319 - accuracy: 0.6038 - balanced_acc: 0.6026\n",
            "Epoch 16: val_balanced_acc did not improve from 0.45488\n",
            "440/440 [==============================] - 29s 65ms/step - loss: 1.0319 - accuracy: 0.6038 - balanced_acc: 0.6026 - val_loss: 0.8450 - val_accuracy: 0.7306 - val_balanced_acc: 0.4164 - lr: 5.0000e-04\n",
            "Epoch 17/1000\n",
            "440/440 [==============================] - ETA: 0s - loss: 1.0264 - accuracy: 0.6042 - balanced_acc: 0.5994\n",
            "Epoch 17: val_balanced_acc did not improve from 0.45488\n",
            "440/440 [==============================] - 29s 66ms/step - loss: 1.0264 - accuracy: 0.6042 - balanced_acc: 0.5994 - val_loss: 0.8384 - val_accuracy: 0.7098 - val_balanced_acc: 0.3895 - lr: 5.0000e-04\n",
            "Epoch 18/1000\n",
            "440/440 [==============================] - ETA: 0s - loss: 1.0223 - accuracy: 0.6011 - balanced_acc: 0.5964\n",
            "Epoch 18: val_balanced_acc did not improve from 0.45488\n",
            "440/440 [==============================] - 29s 67ms/step - loss: 1.0223 - accuracy: 0.6011 - balanced_acc: 0.5964 - val_loss: 0.9165 - val_accuracy: 0.6943 - val_balanced_acc: 0.3193 - lr: 5.0000e-04\n",
            "Epoch 19/1000\n",
            "440/440 [==============================] - ETA: 0s - loss: 1.0123 - accuracy: 0.6106 - balanced_acc: 0.6036\n",
            "Epoch 19: val_balanced_acc did not improve from 0.45488\n",
            "440/440 [==============================] - 29s 65ms/step - loss: 1.0123 - accuracy: 0.6106 - balanced_acc: 0.6036 - val_loss: 0.8823 - val_accuracy: 0.7150 - val_balanced_acc: 0.4161 - lr: 5.0000e-04\n",
            "Epoch 20/1000\n",
            "440/440 [==============================] - ETA: 0s - loss: 0.9787 - accuracy: 0.6294 - balanced_acc: 0.6253\n",
            "Epoch 20: val_balanced_acc did not improve from 0.45488\n",
            "440/440 [==============================] - 29s 66ms/step - loss: 0.9787 - accuracy: 0.6294 - balanced_acc: 0.6253 - val_loss: 0.9178 - val_accuracy: 0.6684 - val_balanced_acc: 0.3603 - lr: 2.5000e-04\n",
            "Epoch 21/1000\n",
            "440/440 [==============================] - ETA: 0s - loss: 0.9663 - accuracy: 0.6310 - balanced_acc: 0.6264\n",
            "Epoch 21: val_balanced_acc did not improve from 0.45488\n",
            "440/440 [==============================] - 29s 66ms/step - loss: 0.9663 - accuracy: 0.6310 - balanced_acc: 0.6264 - val_loss: 0.9338 - val_accuracy: 0.6943 - val_balanced_acc: 0.4058 - lr: 2.5000e-04\n",
            "Epoch 22/1000\n",
            "440/440 [==============================] - ETA: 0s - loss: 0.9525 - accuracy: 0.6363 - balanced_acc: 0.6283\n",
            "Epoch 22: val_balanced_acc did not improve from 0.45488\n",
            "440/440 [==============================] - 29s 67ms/step - loss: 0.9525 - accuracy: 0.6363 - balanced_acc: 0.6283 - val_loss: 0.9458 - val_accuracy: 0.6839 - val_balanced_acc: 0.3738 - lr: 2.5000e-04\n",
            "Epoch 23/1000\n",
            "440/440 [==============================] - ETA: 0s - loss: 0.9491 - accuracy: 0.6351 - balanced_acc: 0.6291\n",
            "Epoch 23: val_balanced_acc improved from 0.45488 to 0.46486, saving model to /content/drive/MyDrive/PHD/Model/best_model_SMOTE.h5\n",
            "440/440 [==============================] - 32s 72ms/step - loss: 0.9491 - accuracy: 0.6351 - balanced_acc: 0.6291 - val_loss: 0.8345 - val_accuracy: 0.7047 - val_balanced_acc: 0.4649 - lr: 2.5000e-04\n",
            "Epoch 24/1000\n",
            "440/440 [==============================] - ETA: 0s - loss: 0.9496 - accuracy: 0.6341 - balanced_acc: 0.6298\n",
            "Epoch 24: val_balanced_acc did not improve from 0.46486\n",
            "440/440 [==============================] - 30s 67ms/step - loss: 0.9496 - accuracy: 0.6341 - balanced_acc: 0.6298 - val_loss: 0.9798 - val_accuracy: 0.6839 - val_balanced_acc: 0.3863 - lr: 2.5000e-04\n",
            "Epoch 25/1000\n",
            "440/440 [==============================] - ETA: 0s - loss: 0.9450 - accuracy: 0.6364 - balanced_acc: 0.6334\n",
            "Epoch 25: val_balanced_acc did not improve from 0.46486\n",
            "440/440 [==============================] - 29s 67ms/step - loss: 0.9450 - accuracy: 0.6364 - balanced_acc: 0.6334 - val_loss: 0.8373 - val_accuracy: 0.7254 - val_balanced_acc: 0.3824 - lr: 2.5000e-04\n",
            "Epoch 26/1000\n",
            "440/440 [==============================] - ETA: 0s - loss: 0.9449 - accuracy: 0.6412 - balanced_acc: 0.6349\n",
            "Epoch 26: val_balanced_acc did not improve from 0.46486\n",
            "440/440 [==============================] - 29s 67ms/step - loss: 0.9449 - accuracy: 0.6412 - balanced_acc: 0.6349 - val_loss: 0.8468 - val_accuracy: 0.6943 - val_balanced_acc: 0.3830 - lr: 2.5000e-04\n",
            "Epoch 27/1000\n",
            "440/440 [==============================] - ETA: 0s - loss: 0.9413 - accuracy: 0.6376 - balanced_acc: 0.6304\n",
            "Epoch 27: val_balanced_acc did not improve from 0.46486\n",
            "440/440 [==============================] - 29s 67ms/step - loss: 0.9413 - accuracy: 0.6376 - balanced_acc: 0.6304 - val_loss: 0.8693 - val_accuracy: 0.6943 - val_balanced_acc: 0.3918 - lr: 2.5000e-04\n",
            "Epoch 28/1000\n",
            "440/440 [==============================] - ETA: 0s - loss: 0.9379 - accuracy: 0.6375 - balanced_acc: 0.6322\n",
            "Epoch 28: val_balanced_acc did not improve from 0.46486\n",
            "440/440 [==============================] - 30s 67ms/step - loss: 0.9379 - accuracy: 0.6375 - balanced_acc: 0.6322 - val_loss: 0.9832 - val_accuracy: 0.6788 - val_balanced_acc: 0.3976 - lr: 2.5000e-04\n",
            "Epoch 29/1000\n",
            "440/440 [==============================] - ETA: 0s - loss: 0.9380 - accuracy: 0.6413 - balanced_acc: 0.6347\n",
            "Epoch 29: val_balanced_acc did not improve from 0.46486\n",
            "440/440 [==============================] - 29s 67ms/step - loss: 0.9380 - accuracy: 0.6413 - balanced_acc: 0.6347 - val_loss: 1.0118 - val_accuracy: 0.6788 - val_balanced_acc: 0.4488 - lr: 2.5000e-04\n",
            "Epoch 30/1000\n",
            "440/440 [==============================] - ETA: 0s - loss: 0.9186 - accuracy: 0.6484 - balanced_acc: 0.6414\n",
            "Epoch 30: val_balanced_acc did not improve from 0.46486\n",
            "440/440 [==============================] - 29s 67ms/step - loss: 0.9186 - accuracy: 0.6484 - balanced_acc: 0.6414 - val_loss: 0.9762 - val_accuracy: 0.6891 - val_balanced_acc: 0.4053 - lr: 1.2500e-04\n",
            "Epoch 31/1000\n",
            "440/440 [==============================] - ETA: 0s - loss: 0.9149 - accuracy: 0.6456 - balanced_acc: 0.6403\n",
            "Epoch 31: val_balanced_acc did not improve from 0.46486\n",
            "440/440 [==============================] - 29s 67ms/step - loss: 0.9149 - accuracy: 0.6456 - balanced_acc: 0.6403 - val_loss: 1.0536 - val_accuracy: 0.6736 - val_balanced_acc: 0.3940 - lr: 1.2500e-04\n",
            "Epoch 32/1000\n",
            "440/440 [==============================] - ETA: 0s - loss: 0.8932 - accuracy: 0.6553 - balanced_acc: 0.6516\n",
            "Epoch 32: val_balanced_acc did not improve from 0.46486\n",
            "440/440 [==============================] - 29s 67ms/step - loss: 0.8932 - accuracy: 0.6553 - balanced_acc: 0.6516 - val_loss: 0.9608 - val_accuracy: 0.6891 - val_balanced_acc: 0.3964 - lr: 1.2500e-04\n",
            "Epoch 33/1000\n",
            "440/440 [==============================] - ETA: 0s - loss: 0.9074 - accuracy: 0.6562 - balanced_acc: 0.6519\n",
            "Epoch 33: val_balanced_acc did not improve from 0.46486\n",
            "440/440 [==============================] - 29s 67ms/step - loss: 0.9074 - accuracy: 0.6562 - balanced_acc: 0.6519 - val_loss: 0.9784 - val_accuracy: 0.6839 - val_balanced_acc: 0.3945 - lr: 1.2500e-04\n",
            "Epoch 34/1000\n",
            "440/440 [==============================] - ETA: 0s - loss: 0.9011 - accuracy: 0.6567 - balanced_acc: 0.6503\n",
            "Epoch 34: val_balanced_acc did not improve from 0.46486\n",
            "440/440 [==============================] - 29s 67ms/step - loss: 0.9011 - accuracy: 0.6567 - balanced_acc: 0.6503 - val_loss: 0.9955 - val_accuracy: 0.6788 - val_balanced_acc: 0.4109 - lr: 1.2500e-04\n",
            "Epoch 35/1000\n",
            "440/440 [==============================] - ETA: 0s - loss: 0.9031 - accuracy: 0.6533 - balanced_acc: 0.6464\n",
            "Epoch 35: val_balanced_acc did not improve from 0.46486\n",
            "440/440 [==============================] - 29s 67ms/step - loss: 0.9031 - accuracy: 0.6533 - balanced_acc: 0.6464 - val_loss: 0.9491 - val_accuracy: 0.6891 - val_balanced_acc: 0.4199 - lr: 1.2500e-04\n",
            "Epoch 36/1000\n",
            "440/440 [==============================] - ETA: 0s - loss: 0.9000 - accuracy: 0.6547 - balanced_acc: 0.6485\n",
            "Epoch 36: val_balanced_acc did not improve from 0.46486\n",
            "440/440 [==============================] - 29s 67ms/step - loss: 0.9000 - accuracy: 0.6547 - balanced_acc: 0.6485 - val_loss: 0.9808 - val_accuracy: 0.6839 - val_balanced_acc: 0.3993 - lr: 1.2500e-04\n",
            "Epoch 37/1000\n",
            "440/440 [==============================] - ETA: 0s - loss: 0.8988 - accuracy: 0.6565 - balanced_acc: 0.6552\n",
            "Epoch 37: val_balanced_acc did not improve from 0.46486\n",
            "440/440 [==============================] - 29s 67ms/step - loss: 0.8988 - accuracy: 0.6565 - balanced_acc: 0.6552 - val_loss: 0.9309 - val_accuracy: 0.6995 - val_balanced_acc: 0.3856 - lr: 1.2500e-04\n",
            "Epoch 38/1000\n",
            "440/440 [==============================] - ETA: 0s - loss: 0.8927 - accuracy: 0.6540 - balanced_acc: 0.6527\n",
            "Epoch 38: val_balanced_acc did not improve from 0.46486\n",
            "440/440 [==============================] - 29s 67ms/step - loss: 0.8927 - accuracy: 0.6540 - balanced_acc: 0.6527 - val_loss: 0.9562 - val_accuracy: 0.6891 - val_balanced_acc: 0.3881 - lr: 1.2500e-04\n",
            "Epoch 39/1000\n",
            "440/440 [==============================] - ETA: 0s - loss: 0.8890 - accuracy: 0.6597 - balanced_acc: 0.6530\n",
            "Epoch 39: val_balanced_acc did not improve from 0.46486\n",
            "440/440 [==============================] - 30s 67ms/step - loss: 0.8890 - accuracy: 0.6597 - balanced_acc: 0.6530 - val_loss: 0.9449 - val_accuracy: 0.7047 - val_balanced_acc: 0.3803 - lr: 1.2500e-04\n",
            "Epoch 40/1000\n",
            "440/440 [==============================] - ETA: 0s - loss: 0.8877 - accuracy: 0.6602 - balanced_acc: 0.6559\n",
            "Epoch 40: val_balanced_acc did not improve from 0.46486\n",
            "440/440 [==============================] - 30s 67ms/step - loss: 0.8877 - accuracy: 0.6602 - balanced_acc: 0.6559 - val_loss: 0.9197 - val_accuracy: 0.7047 - val_balanced_acc: 0.4258 - lr: 6.2500e-05\n",
            "Epoch 41/1000\n",
            "440/440 [==============================] - ETA: 0s - loss: 0.8821 - accuracy: 0.6634 - balanced_acc: 0.6628\n",
            "Epoch 41: val_balanced_acc did not improve from 0.46486\n",
            "440/440 [==============================] - 29s 67ms/step - loss: 0.8821 - accuracy: 0.6634 - balanced_acc: 0.6628 - val_loss: 0.9846 - val_accuracy: 0.6839 - val_balanced_acc: 0.3769 - lr: 6.2500e-05\n",
            "Epoch 42/1000\n",
            "440/440 [==============================] - ETA: 0s - loss: 0.8811 - accuracy: 0.6609 - balanced_acc: 0.6577\n",
            "Epoch 42: val_balanced_acc did not improve from 0.46486\n",
            "440/440 [==============================] - 29s 67ms/step - loss: 0.8811 - accuracy: 0.6609 - balanced_acc: 0.6577 - val_loss: 0.9597 - val_accuracy: 0.6943 - val_balanced_acc: 0.3445 - lr: 6.2500e-05\n",
            "Epoch 43/1000\n",
            "440/440 [==============================] - ETA: 0s - loss: 0.8800 - accuracy: 0.6626 - balanced_acc: 0.6600\n",
            "Epoch 43: val_balanced_acc did not improve from 0.46486\n",
            "440/440 [==============================] - 30s 67ms/step - loss: 0.8800 - accuracy: 0.6626 - balanced_acc: 0.6600 - val_loss: 0.9063 - val_accuracy: 0.6943 - val_balanced_acc: 0.3598 - lr: 6.2500e-05\n",
            "Epoch 44/1000\n",
            "440/440 [==============================] - ETA: 0s - loss: 0.8737 - accuracy: 0.6684 - balanced_acc: 0.6628\n",
            "Epoch 44: val_balanced_acc did not improve from 0.46486\n",
            "440/440 [==============================] - 30s 67ms/step - loss: 0.8737 - accuracy: 0.6684 - balanced_acc: 0.6628 - val_loss: 0.9752 - val_accuracy: 0.6839 - val_balanced_acc: 0.3840 - lr: 6.2500e-05\n",
            "Epoch 45/1000\n",
            "440/440 [==============================] - ETA: 0s - loss: 0.8714 - accuracy: 0.6635 - balanced_acc: 0.6626\n",
            "Epoch 45: val_balanced_acc did not improve from 0.46486\n",
            "440/440 [==============================] - 30s 67ms/step - loss: 0.8714 - accuracy: 0.6635 - balanced_acc: 0.6626 - val_loss: 0.8854 - val_accuracy: 0.7098 - val_balanced_acc: 0.3942 - lr: 6.2500e-05\n",
            "Epoch 46/1000\n",
            "440/440 [==============================] - ETA: 0s - loss: 0.8726 - accuracy: 0.6669 - balanced_acc: 0.6636\n",
            "Epoch 46: val_balanced_acc did not improve from 0.46486\n",
            "440/440 [==============================] - 30s 67ms/step - loss: 0.8726 - accuracy: 0.6669 - balanced_acc: 0.6636 - val_loss: 0.8895 - val_accuracy: 0.7098 - val_balanced_acc: 0.4014 - lr: 6.2500e-05\n",
            "Epoch 47/1000\n",
            "440/440 [==============================] - ETA: 0s - loss: 0.8726 - accuracy: 0.6651 - balanced_acc: 0.6638\n",
            "Epoch 47: val_balanced_acc did not improve from 0.46486\n",
            "440/440 [==============================] - 30s 67ms/step - loss: 0.8726 - accuracy: 0.6651 - balanced_acc: 0.6638 - val_loss: 0.9599 - val_accuracy: 0.6891 - val_balanced_acc: 0.3814 - lr: 6.2500e-05\n",
            "Epoch 48/1000\n",
            "440/440 [==============================] - ETA: 0s - loss: 0.8685 - accuracy: 0.6663 - balanced_acc: 0.6677\n",
            "Epoch 48: val_balanced_acc did not improve from 0.46486\n",
            "440/440 [==============================] - 30s 67ms/step - loss: 0.8685 - accuracy: 0.6663 - balanced_acc: 0.6677 - val_loss: 0.9484 - val_accuracy: 0.6891 - val_balanced_acc: 0.4065 - lr: 6.2500e-05\n",
            "Epoch 49/1000\n",
            "440/440 [==============================] - ETA: 0s - loss: 0.8743 - accuracy: 0.6633 - balanced_acc: 0.6617\n",
            "Epoch 49: val_balanced_acc did not improve from 0.46486\n",
            "440/440 [==============================] - 30s 67ms/step - loss: 0.8743 - accuracy: 0.6633 - balanced_acc: 0.6617 - val_loss: 1.0320 - val_accuracy: 0.6839 - val_balanced_acc: 0.3987 - lr: 6.2500e-05\n",
            "Epoch 50/1000\n",
            "440/440 [==============================] - ETA: 0s - loss: 0.8598 - accuracy: 0.6740 - balanced_acc: 0.6725\n",
            "Epoch 50: val_balanced_acc did not improve from 0.46486\n",
            "440/440 [==============================] - 30s 67ms/step - loss: 0.8598 - accuracy: 0.6740 - balanced_acc: 0.6725 - val_loss: 0.9763 - val_accuracy: 0.6891 - val_balanced_acc: 0.4185 - lr: 3.1250e-05\n",
            "Epoch 51/1000\n",
            "440/440 [==============================] - ETA: 0s - loss: 0.8612 - accuracy: 0.6675 - balanced_acc: 0.6637\n",
            "Epoch 51: val_balanced_acc did not improve from 0.46486\n",
            "440/440 [==============================] - 30s 67ms/step - loss: 0.8612 - accuracy: 0.6675 - balanced_acc: 0.6637 - val_loss: 0.9523 - val_accuracy: 0.6943 - val_balanced_acc: 0.4146 - lr: 3.1250e-05\n",
            "Epoch 52/1000\n",
            "440/440 [==============================] - ETA: 0s - loss: 0.8604 - accuracy: 0.6680 - balanced_acc: 0.6657\n",
            "Epoch 52: val_balanced_acc did not improve from 0.46486\n",
            "440/440 [==============================] - 30s 67ms/step - loss: 0.8604 - accuracy: 0.6680 - balanced_acc: 0.6657 - val_loss: 0.9497 - val_accuracy: 0.6891 - val_balanced_acc: 0.3721 - lr: 3.1250e-05\n",
            "Epoch 53/1000\n",
            "440/440 [==============================] - ETA: 0s - loss: 0.8699 - accuracy: 0.6686 - balanced_acc: 0.6623\n",
            "Epoch 53: val_balanced_acc did not improve from 0.46486\n",
            "440/440 [==============================] - 30s 67ms/step - loss: 0.8699 - accuracy: 0.6686 - balanced_acc: 0.6623 - val_loss: 0.9529 - val_accuracy: 0.6943 - val_balanced_acc: 0.3981 - lr: 3.1250e-05\n"
          ]
        }
      ],
      "source": [
        "#Training\n",
        "input_shape = X_train.shape[1:]\n",
        "input_tensor = Input(shape=(IMAGE_H, IMAGE_W, 3))\n",
        "x = data_augmentation(input_tensor)\n",
        "#x = rescale_layer(x)\n",
        "\n",
        "base_model = ResNet50(input_shape=input_shape, weights='imagenet', include_top=False)\n",
        "x = base_model(x)\n",
        "x = Flatten()(x)\n",
        "x = Dense(128, activation='relu')(x)\n",
        "predictions = Dense(7, activation='softmax')(x)\n",
        "model = Model(inputs=input_tensor, outputs=predictions)\n",
        "\n",
        "for layer in base_model.layers:\n",
        "    layer.trainable = False\n",
        "\n",
        "model.compile(optimizer = optimizer , loss = \"categorical_crossentropy\", metrics=['accuracy', balanced_acc])\n",
        "#hst = model.fit(dataaugment.flow(X_train,y_train, batch_size=BATCH_SIZE),\n",
        "hst = model.fit(train_data_batches,\n",
        "                    epochs = EPOCHS, validation_data = valid_data_batches,      \n",
        "                    #steps_per_epoch=X_train.shape[0] // BATCH_SIZE, \n",
        "                    callbacks=[learning_rate_reduction,early_stopping_monitor, mc])\n"
      ]
    },
    {
      "cell_type": "code",
      "execution_count": 24,
      "metadata": {
        "id": "vXnW3lmCgln3",
        "colab": {
          "base_uri": "https://localhost:8080/",
          "height": 0
        },
        "outputId": "fb1a84cf-92cd-41e0-eef6-e92e542fb44b"
      },
      "outputs": [
        {
          "output_type": "display_data",
          "data": {
            "text/plain": [
              "<Figure size 432x288 with 1 Axes>"
            ],
            "image/png": "[encoded data removed]"
          },
          "metadata": {
            "needs_background": "light"
          }
        }
      ],
      "source": [
        "# summarize history for accuracy\n",
        "plt.plot(hst.history['balanced_acc'])\n",
        "plt.plot(hst.history['val_balanced_acc'])\n",
        "plt.title('Model balanced accuracy')\n",
        "plt.ylabel('Balanced Accuracy')\n",
        "plt.xlabel('epoch')\n",
        "plt.legend(['train', 'val'], loc='upper left')\n",
        "plt.show()"
      ]
    },
    {
      "cell_type": "markdown",
      "metadata": {
        "id": "B2PgksTFkOAq"
      },
      "source": [
        "#Fine Tune"
      ]
    },
    {
      "cell_type": "code",
      "execution_count": 25,
      "metadata": {
        "id": "Nr1jnSM7yzJc",
        "colab": {
          "base_uri": "https://localhost:8080/"
        },
        "outputId": "b6e8007c-acd8-4b68-d642-779e63f6ecba"
      },
      "outputs": [
        {
          "output_type": "stream",
          "name": "stdout",
          "text": [
            "Epoch 1/1000\n",
            "440/440 [==============================] - ETA: 0s - loss: 0.8545 - accuracy: 0.6716 - balanced_acc: 0.6682\n",
            "Epoch 1: val_balanced_acc did not improve from 0.46486\n",
            "440/440 [==============================] - 33s 68ms/step - loss: 0.8545 - accuracy: 0.6716 - balanced_acc: 0.6682 - val_loss: 0.9529 - val_accuracy: 0.6943 - val_balanced_acc: 0.4194 - lr: 1.0000e-04\n",
            "Epoch 2/1000\n",
            "440/440 [==============================] - ETA: 0s - loss: 0.8550 - accuracy: 0.6744 - balanced_acc: 0.6721\n",
            "Epoch 2: val_balanced_acc did not improve from 0.46486\n",
            "440/440 [==============================] - 29s 66ms/step - loss: 0.8550 - accuracy: 0.6744 - balanced_acc: 0.6721 - val_loss: 0.9529 - val_accuracy: 0.6943 - val_balanced_acc: 0.4109 - lr: 1.0000e-04\n",
            "Epoch 3/1000\n",
            "440/440 [==============================] - ETA: 0s - loss: 0.8564 - accuracy: 0.6739 - balanced_acc: 0.6693\n",
            "Epoch 3: val_balanced_acc did not improve from 0.46486\n",
            "440/440 [==============================] - 29s 66ms/step - loss: 0.8564 - accuracy: 0.6739 - balanced_acc: 0.6693 - val_loss: 0.9529 - val_accuracy: 0.6943 - val_balanced_acc: 0.3811 - lr: 1.0000e-04\n",
            "Epoch 4/1000\n",
            "440/440 [==============================] - ETA: 0s - loss: 0.8610 - accuracy: 0.6669 - balanced_acc: 0.6624\n",
            "Epoch 4: val_balanced_acc did not improve from 0.46486\n",
            "440/440 [==============================] - 29s 66ms/step - loss: 0.8610 - accuracy: 0.6669 - balanced_acc: 0.6624 - val_loss: 0.9529 - val_accuracy: 0.6943 - val_balanced_acc: 0.4024 - lr: 1.0000e-04\n",
            "Epoch 5/1000\n",
            "440/440 [==============================] - ETA: 0s - loss: 0.8611 - accuracy: 0.6695 - balanced_acc: 0.6658\n",
            "Epoch 5: val_balanced_acc did not improve from 0.46486\n",
            "440/440 [==============================] - 29s 66ms/step - loss: 0.8611 - accuracy: 0.6695 - balanced_acc: 0.6658 - val_loss: 0.9529 - val_accuracy: 0.6943 - val_balanced_acc: 0.4026 - lr: 1.0000e-04\n",
            "Epoch 6/1000\n",
            "440/440 [==============================] - ETA: 0s - loss: 0.8555 - accuracy: 0.6701 - balanced_acc: 0.6667\n",
            "Epoch 6: val_balanced_acc did not improve from 0.46486\n",
            "440/440 [==============================] - 29s 66ms/step - loss: 0.8555 - accuracy: 0.6701 - balanced_acc: 0.6667 - val_loss: 0.9529 - val_accuracy: 0.6943 - val_balanced_acc: 0.4137 - lr: 1.0000e-04\n",
            "Epoch 7/1000\n",
            "440/440 [==============================] - ETA: 0s - loss: 0.8567 - accuracy: 0.6749 - balanced_acc: 0.6694\n",
            "Epoch 7: val_balanced_acc did not improve from 0.46486\n",
            "440/440 [==============================] - 29s 66ms/step - loss: 0.8567 - accuracy: 0.6749 - balanced_acc: 0.6694 - val_loss: 0.9529 - val_accuracy: 0.6943 - val_balanced_acc: 0.3599 - lr: 1.0000e-04\n",
            "Epoch 8/1000\n",
            "440/440 [==============================] - ETA: 0s - loss: 0.8640 - accuracy: 0.6699 - balanced_acc: 0.6660\n",
            "Epoch 8: val_balanced_acc did not improve from 0.46486\n",
            "440/440 [==============================] - 29s 66ms/step - loss: 0.8640 - accuracy: 0.6699 - balanced_acc: 0.6660 - val_loss: 0.9529 - val_accuracy: 0.6943 - val_balanced_acc: 0.3986 - lr: 1.0000e-04\n",
            "Epoch 9/1000\n",
            "440/440 [==============================] - ETA: 0s - loss: 0.8620 - accuracy: 0.6688 - balanced_acc: 0.6632\n",
            "Epoch 9: val_balanced_acc did not improve from 0.46486\n",
            "440/440 [==============================] - 29s 66ms/step - loss: 0.8620 - accuracy: 0.6688 - balanced_acc: 0.6632 - val_loss: 0.9529 - val_accuracy: 0.6943 - val_balanced_acc: 0.3762 - lr: 1.0000e-04\n",
            "Epoch 10/1000\n",
            "440/440 [==============================] - ETA: 0s - loss: 0.8620 - accuracy: 0.6693 - balanced_acc: 0.6640\n",
            "Epoch 10: val_balanced_acc did not improve from 0.46486\n",
            "440/440 [==============================] - 29s 66ms/step - loss: 0.8620 - accuracy: 0.6693 - balanced_acc: 0.6640 - val_loss: 0.9529 - val_accuracy: 0.6943 - val_balanced_acc: 0.3768 - lr: 1.0000e-04\n",
            "Epoch 11/1000\n",
            "440/440 [==============================] - ETA: 0s - loss: 0.8592 - accuracy: 0.6740 - balanced_acc: 0.6691\n",
            "Epoch 11: val_balanced_acc did not improve from 0.46486\n",
            "440/440 [==============================] - 29s 66ms/step - loss: 0.8592 - accuracy: 0.6740 - balanced_acc: 0.6691 - val_loss: 0.9529 - val_accuracy: 0.6943 - val_balanced_acc: 0.3808 - lr: 1.0000e-04\n",
            "Epoch 12/1000\n",
            "440/440 [==============================] - ETA: 0s - loss: 0.8599 - accuracy: 0.6737 - balanced_acc: 0.6724\n",
            "Epoch 12: val_balanced_acc did not improve from 0.46486\n",
            "440/440 [==============================] - 29s 66ms/step - loss: 0.8599 - accuracy: 0.6737 - balanced_acc: 0.6724 - val_loss: 0.9529 - val_accuracy: 0.6943 - val_balanced_acc: 0.3696 - lr: 5.0000e-05\n",
            "Epoch 13/1000\n",
            "440/440 [==============================] - ETA: 0s - loss: 0.8524 - accuracy: 0.6739 - balanced_acc: 0.6734\n",
            "Epoch 13: val_balanced_acc did not improve from 0.46486\n",
            "440/440 [==============================] - 29s 66ms/step - loss: 0.8524 - accuracy: 0.6739 - balanced_acc: 0.6734 - val_loss: 0.9529 - val_accuracy: 0.6943 - val_balanced_acc: 0.3959 - lr: 5.0000e-05\n",
            "Epoch 14/1000\n",
            "440/440 [==============================] - ETA: 0s - loss: 0.8648 - accuracy: 0.6703 - balanced_acc: 0.6609\n",
            "Epoch 14: val_balanced_acc did not improve from 0.46486\n",
            "440/440 [==============================] - 29s 66ms/step - loss: 0.8648 - accuracy: 0.6703 - balanced_acc: 0.6609 - val_loss: 0.9529 - val_accuracy: 0.6943 - val_balanced_acc: 0.4216 - lr: 5.0000e-05\n",
            "Epoch 15/1000\n",
            "440/440 [==============================] - ETA: 0s - loss: 0.8596 - accuracy: 0.6691 - balanced_acc: 0.6651\n",
            "Epoch 15: val_balanced_acc did not improve from 0.46486\n",
            "440/440 [==============================] - 29s 66ms/step - loss: 0.8596 - accuracy: 0.6691 - balanced_acc: 0.6651 - val_loss: 0.9529 - val_accuracy: 0.6943 - val_balanced_acc: 0.3793 - lr: 5.0000e-05\n",
            "Epoch 16/1000\n",
            "440/440 [==============================] - ETA: 0s - loss: 0.8588 - accuracy: 0.6746 - balanced_acc: 0.6668\n",
            "Epoch 16: val_balanced_acc did not improve from 0.46486\n",
            "440/440 [==============================] - 29s 66ms/step - loss: 0.8588 - accuracy: 0.6746 - balanced_acc: 0.6668 - val_loss: 0.9529 - val_accuracy: 0.6943 - val_balanced_acc: 0.3869 - lr: 5.0000e-05\n",
            "Epoch 17/1000\n",
            "440/440 [==============================] - ETA: 0s - loss: 0.8555 - accuracy: 0.6741 - balanced_acc: 0.6728\n",
            "Epoch 17: val_balanced_acc did not improve from 0.46486\n",
            "440/440 [==============================] - 29s 66ms/step - loss: 0.8555 - accuracy: 0.6741 - balanced_acc: 0.6728 - val_loss: 0.9529 - val_accuracy: 0.6943 - val_balanced_acc: 0.4105 - lr: 5.0000e-05\n",
            "Epoch 18/1000\n",
            "440/440 [==============================] - ETA: 0s - loss: 0.8537 - accuracy: 0.6745 - balanced_acc: 0.6699\n",
            "Epoch 18: val_balanced_acc did not improve from 0.46486\n",
            "440/440 [==============================] - 29s 66ms/step - loss: 0.8537 - accuracy: 0.6745 - balanced_acc: 0.6699 - val_loss: 0.9529 - val_accuracy: 0.6943 - val_balanced_acc: 0.3818 - lr: 5.0000e-05\n",
            "Epoch 19/1000\n",
            "440/440 [==============================] - ETA: 0s - loss: 0.8620 - accuracy: 0.6704 - balanced_acc: 0.6633\n",
            "Epoch 19: val_balanced_acc did not improve from 0.46486\n",
            "440/440 [==============================] - 29s 66ms/step - loss: 0.8620 - accuracy: 0.6704 - balanced_acc: 0.6633 - val_loss: 0.9529 - val_accuracy: 0.6943 - val_balanced_acc: 0.3244 - lr: 5.0000e-05\n",
            "Epoch 20/1000\n",
            "440/440 [==============================] - ETA: 0s - loss: 0.8601 - accuracy: 0.6680 - balanced_acc: 0.6641\n",
            "Epoch 20: val_balanced_acc did not improve from 0.46486\n",
            "440/440 [==============================] - 28s 64ms/step - loss: 0.8601 - accuracy: 0.6680 - balanced_acc: 0.6641 - val_loss: 0.9529 - val_accuracy: 0.6943 - val_balanced_acc: 0.3855 - lr: 5.0000e-05\n",
            "Epoch 21/1000\n",
            "440/440 [==============================] - ETA: 0s - loss: 0.8583 - accuracy: 0.6722 - balanced_acc: 0.6680\n",
            "Epoch 21: val_balanced_acc did not improve from 0.46486\n",
            "440/440 [==============================] - 28s 64ms/step - loss: 0.8583 - accuracy: 0.6722 - balanced_acc: 0.6680 - val_loss: 0.9529 - val_accuracy: 0.6943 - val_balanced_acc: 0.3955 - lr: 5.0000e-05\n",
            "Epoch 22/1000\n",
            "440/440 [==============================] - ETA: 0s - loss: 0.8623 - accuracy: 0.6724 - balanced_acc: 0.6693\n",
            "Epoch 22: val_balanced_acc did not improve from 0.46486\n",
            "440/440 [==============================] - 28s 64ms/step - loss: 0.8623 - accuracy: 0.6724 - balanced_acc: 0.6693 - val_loss: 0.9529 - val_accuracy: 0.6943 - val_balanced_acc: 0.3992 - lr: 2.5000e-05\n",
            "Epoch 23/1000\n",
            "440/440 [==============================] - ETA: 0s - loss: 0.8517 - accuracy: 0.6762 - balanced_acc: 0.6717\n",
            "Epoch 23: val_balanced_acc did not improve from 0.46486\n",
            "440/440 [==============================] - 28s 64ms/step - loss: 0.8517 - accuracy: 0.6762 - balanced_acc: 0.6717 - val_loss: 0.9529 - val_accuracy: 0.6943 - val_balanced_acc: 0.3905 - lr: 2.5000e-05\n",
            "Epoch 24/1000\n",
            "440/440 [==============================] - ETA: 0s - loss: 0.8625 - accuracy: 0.6711 - balanced_acc: 0.6680\n",
            "Epoch 24: val_balanced_acc did not improve from 0.46486\n",
            "440/440 [==============================] - 28s 65ms/step - loss: 0.8625 - accuracy: 0.6711 - balanced_acc: 0.6680 - val_loss: 0.9529 - val_accuracy: 0.6943 - val_balanced_acc: 0.3783 - lr: 2.5000e-05\n",
            "Epoch 25/1000\n",
            "440/440 [==============================] - ETA: 0s - loss: 0.8646 - accuracy: 0.6712 - balanced_acc: 0.6642\n",
            "Epoch 25: val_balanced_acc did not improve from 0.46486\n",
            "440/440 [==============================] - 28s 65ms/step - loss: 0.8646 - accuracy: 0.6712 - balanced_acc: 0.6642 - val_loss: 0.9529 - val_accuracy: 0.6943 - val_balanced_acc: 0.3926 - lr: 2.5000e-05\n",
            "Epoch 26/1000\n",
            "440/440 [==============================] - ETA: 0s - loss: 0.8578 - accuracy: 0.6737 - balanced_acc: 0.6722\n",
            "Epoch 26: val_balanced_acc did not improve from 0.46486\n",
            "440/440 [==============================] - 29s 65ms/step - loss: 0.8578 - accuracy: 0.6737 - balanced_acc: 0.6722 - val_loss: 0.9529 - val_accuracy: 0.6943 - val_balanced_acc: 0.3907 - lr: 2.5000e-05\n",
            "Epoch 27/1000\n",
            "440/440 [==============================] - ETA: 0s - loss: 0.8614 - accuracy: 0.6695 - balanced_acc: 0.6647\n",
            "Epoch 27: val_balanced_acc did not improve from 0.46486\n",
            "440/440 [==============================] - 28s 64ms/step - loss: 0.8614 - accuracy: 0.6695 - balanced_acc: 0.6647 - val_loss: 0.9529 - val_accuracy: 0.6943 - val_balanced_acc: 0.4155 - lr: 2.5000e-05\n",
            "Epoch 28/1000\n",
            "440/440 [==============================] - ETA: 0s - loss: 0.8603 - accuracy: 0.6682 - balanced_acc: 0.6607\n",
            "Epoch 28: val_balanced_acc did not improve from 0.46486\n",
            "440/440 [==============================] - 28s 65ms/step - loss: 0.8603 - accuracy: 0.6682 - balanced_acc: 0.6607 - val_loss: 0.9529 - val_accuracy: 0.6943 - val_balanced_acc: 0.3862 - lr: 2.5000e-05\n",
            "Epoch 29/1000\n",
            "440/440 [==============================] - ETA: 0s - loss: 0.8586 - accuracy: 0.6675 - balanced_acc: 0.6574\n",
            "Epoch 29: val_balanced_acc did not improve from 0.46486\n",
            "440/440 [==============================] - 28s 65ms/step - loss: 0.8586 - accuracy: 0.6675 - balanced_acc: 0.6574 - val_loss: 0.9529 - val_accuracy: 0.6943 - val_balanced_acc: 0.4016 - lr: 2.5000e-05\n",
            "Epoch 30/1000\n",
            "440/440 [==============================] - ETA: 0s - loss: 0.8604 - accuracy: 0.6734 - balanced_acc: 0.6676\n",
            "Epoch 30: val_balanced_acc did not improve from 0.46486\n",
            "440/440 [==============================] - 29s 65ms/step - loss: 0.8604 - accuracy: 0.6734 - balanced_acc: 0.6676 - val_loss: 0.9529 - val_accuracy: 0.6943 - val_balanced_acc: 0.3716 - lr: 2.5000e-05\n",
            "Epoch 31/1000\n",
            "440/440 [==============================] - ETA: 0s - loss: 0.8603 - accuracy: 0.6719 - balanced_acc: 0.6684\n",
            "Epoch 31: val_balanced_acc did not improve from 0.46486\n",
            "440/440 [==============================] - 29s 65ms/step - loss: 0.8603 - accuracy: 0.6719 - balanced_acc: 0.6684 - val_loss: 0.9529 - val_accuracy: 0.6943 - val_balanced_acc: 0.3556 - lr: 2.5000e-05\n",
            "Epoch 32/1000\n",
            "440/440 [==============================] - ETA: 0s - loss: 0.8613 - accuracy: 0.6672 - balanced_acc: 0.6635\n",
            "Epoch 32: val_balanced_acc did not improve from 0.46486\n",
            "440/440 [==============================] - 29s 65ms/step - loss: 0.8613 - accuracy: 0.6672 - balanced_acc: 0.6635 - val_loss: 0.9529 - val_accuracy: 0.6943 - val_balanced_acc: 0.4255 - lr: 1.2500e-05\n",
            "Epoch 33/1000\n",
            "440/440 [==============================] - ETA: 0s - loss: 0.8577 - accuracy: 0.6696 - balanced_acc: 0.6653\n",
            "Epoch 33: val_balanced_acc did not improve from 0.46486\n",
            "440/440 [==============================] - 29s 65ms/step - loss: 0.8577 - accuracy: 0.6696 - balanced_acc: 0.6653 - val_loss: 0.9529 - val_accuracy: 0.6943 - val_balanced_acc: 0.3966 - lr: 1.2500e-05\n",
            "Epoch 34/1000\n",
            "440/440 [==============================] - ETA: 0s - loss: 0.8503 - accuracy: 0.6745 - balanced_acc: 0.6710\n",
            "Epoch 34: val_balanced_acc did not improve from 0.46486\n",
            "440/440 [==============================] - 29s 65ms/step - loss: 0.8503 - accuracy: 0.6745 - balanced_acc: 0.6710 - val_loss: 0.9529 - val_accuracy: 0.6943 - val_balanced_acc: 0.4068 - lr: 1.2500e-05\n",
            "Epoch 35/1000\n",
            "440/440 [==============================] - ETA: 0s - loss: 0.8589 - accuracy: 0.6744 - balanced_acc: 0.6694\n",
            "Epoch 35: val_balanced_acc did not improve from 0.46486\n",
            "440/440 [==============================] - 29s 65ms/step - loss: 0.8589 - accuracy: 0.6744 - balanced_acc: 0.6694 - val_loss: 0.9529 - val_accuracy: 0.6943 - val_balanced_acc: 0.3900 - lr: 1.2500e-05\n",
            "Epoch 36/1000\n",
            "440/440 [==============================] - ETA: 0s - loss: 0.8547 - accuracy: 0.6719 - balanced_acc: 0.6702\n",
            "Epoch 36: val_balanced_acc did not improve from 0.46486\n",
            "440/440 [==============================] - 29s 65ms/step - loss: 0.8547 - accuracy: 0.6719 - balanced_acc: 0.6702 - val_loss: 0.9529 - val_accuracy: 0.6943 - val_balanced_acc: 0.4101 - lr: 1.2500e-05\n",
            "Epoch 37/1000\n",
            "440/440 [==============================] - ETA: 0s - loss: 0.8602 - accuracy: 0.6727 - balanced_acc: 0.6685\n",
            "Epoch 37: val_balanced_acc did not improve from 0.46486\n",
            "440/440 [==============================] - 29s 65ms/step - loss: 0.8602 - accuracy: 0.6727 - balanced_acc: 0.6685 - val_loss: 0.9529 - val_accuracy: 0.6943 - val_balanced_acc: 0.3918 - lr: 1.2500e-05\n",
            "Epoch 38/1000\n",
            "440/440 [==============================] - ETA: 0s - loss: 0.8589 - accuracy: 0.6755 - balanced_acc: 0.6723\n",
            "Epoch 38: val_balanced_acc did not improve from 0.46486\n",
            "440/440 [==============================] - 29s 65ms/step - loss: 0.8589 - accuracy: 0.6755 - balanced_acc: 0.6723 - val_loss: 0.9529 - val_accuracy: 0.6943 - val_balanced_acc: 0.3675 - lr: 1.2500e-05\n",
            "Epoch 39/1000\n",
            "440/440 [==============================] - ETA: 0s - loss: 0.8626 - accuracy: 0.6695 - balanced_acc: 0.6647\n",
            "Epoch 39: val_balanced_acc did not improve from 0.46486\n",
            "440/440 [==============================] - 29s 65ms/step - loss: 0.8626 - accuracy: 0.6695 - balanced_acc: 0.6647 - val_loss: 0.9529 - val_accuracy: 0.6943 - val_balanced_acc: 0.3775 - lr: 1.2500e-05\n",
            "Epoch 40/1000\n",
            "440/440 [==============================] - ETA: 0s - loss: 0.8623 - accuracy: 0.6728 - balanced_acc: 0.6688\n",
            "Epoch 40: val_balanced_acc did not improve from 0.46486\n",
            "440/440 [==============================] - 29s 65ms/step - loss: 0.8623 - accuracy: 0.6728 - balanced_acc: 0.6688 - val_loss: 0.9529 - val_accuracy: 0.6943 - val_balanced_acc: 0.4074 - lr: 1.2500e-05\n",
            "Epoch 41/1000\n",
            "440/440 [==============================] - ETA: 0s - loss: 0.8532 - accuracy: 0.6746 - balanced_acc: 0.6680\n",
            "Epoch 41: val_balanced_acc did not improve from 0.46486\n",
            "440/440 [==============================] - 29s 65ms/step - loss: 0.8532 - accuracy: 0.6746 - balanced_acc: 0.6680 - val_loss: 0.9529 - val_accuracy: 0.6943 - val_balanced_acc: 0.3685 - lr: 1.2500e-05\n",
            "Epoch 42/1000\n",
            "440/440 [==============================] - ETA: 0s - loss: 0.8510 - accuracy: 0.6759 - balanced_acc: 0.6749\n",
            "Epoch 42: val_balanced_acc did not improve from 0.46486\n",
            "440/440 [==============================] - 29s 66ms/step - loss: 0.8510 - accuracy: 0.6759 - balanced_acc: 0.6749 - val_loss: 0.9529 - val_accuracy: 0.6943 - val_balanced_acc: 0.4289 - lr: 1.0000e-05\n",
            "Epoch 43/1000\n",
            "440/440 [==============================] - ETA: 0s - loss: 0.8649 - accuracy: 0.6702 - balanced_acc: 0.6646\n",
            "Epoch 43: val_balanced_acc did not improve from 0.46486\n",
            "440/440 [==============================] - 29s 65ms/step - loss: 0.8649 - accuracy: 0.6702 - balanced_acc: 0.6646 - val_loss: 0.9529 - val_accuracy: 0.6943 - val_balanced_acc: 0.3965 - lr: 1.0000e-05\n",
            "Epoch 44/1000\n",
            "440/440 [==============================] - ETA: 0s - loss: 0.8578 - accuracy: 0.6729 - balanced_acc: 0.6660\n",
            "Epoch 44: val_balanced_acc did not improve from 0.46486\n",
            "440/440 [==============================] - 29s 65ms/step - loss: 0.8578 - accuracy: 0.6729 - balanced_acc: 0.6660 - val_loss: 0.9529 - val_accuracy: 0.6943 - val_balanced_acc: 0.3701 - lr: 1.0000e-05\n",
            "Epoch 45/1000\n",
            "440/440 [==============================] - ETA: 0s - loss: 0.8544 - accuracy: 0.6695 - balanced_acc: 0.6663\n",
            "Epoch 45: val_balanced_acc did not improve from 0.46486\n",
            "440/440 [==============================] - 29s 65ms/step - loss: 0.8544 - accuracy: 0.6695 - balanced_acc: 0.6663 - val_loss: 0.9529 - val_accuracy: 0.6943 - val_balanced_acc: 0.4014 - lr: 1.0000e-05\n",
            "Epoch 46/1000\n",
            "440/440 [==============================] - ETA: 0s - loss: 0.8566 - accuracy: 0.6729 - balanced_acc: 0.6651\n",
            "Epoch 46: val_balanced_acc did not improve from 0.46486\n",
            "440/440 [==============================] - 29s 65ms/step - loss: 0.8566 - accuracy: 0.6729 - balanced_acc: 0.6651 - val_loss: 0.9529 - val_accuracy: 0.6943 - val_balanced_acc: 0.3927 - lr: 1.0000e-05\n",
            "Epoch 47/1000\n",
            "440/440 [==============================] - ETA: 0s - loss: 0.8491 - accuracy: 0.6751 - balanced_acc: 0.6710\n",
            "Epoch 47: val_balanced_acc did not improve from 0.46486\n",
            "440/440 [==============================] - 29s 65ms/step - loss: 0.8491 - accuracy: 0.6751 - balanced_acc: 0.6710 - val_loss: 0.9529 - val_accuracy: 0.6943 - val_balanced_acc: 0.4163 - lr: 1.0000e-05\n",
            "Epoch 48/1000\n",
            "440/440 [==============================] - ETA: 0s - loss: 0.8581 - accuracy: 0.6683 - balanced_acc: 0.6651\n",
            "Epoch 48: val_balanced_acc did not improve from 0.46486\n",
            "440/440 [==============================] - 29s 65ms/step - loss: 0.8581 - accuracy: 0.6683 - balanced_acc: 0.6651 - val_loss: 0.9529 - val_accuracy: 0.6943 - val_balanced_acc: 0.4135 - lr: 1.0000e-05\n",
            "Epoch 49/1000\n",
            "440/440 [==============================] - ETA: 0s - loss: 0.8556 - accuracy: 0.6757 - balanced_acc: 0.6721\n",
            "Epoch 49: val_balanced_acc did not improve from 0.46486\n",
            "440/440 [==============================] - 29s 65ms/step - loss: 0.8556 - accuracy: 0.6757 - balanced_acc: 0.6721 - val_loss: 0.9529 - val_accuracy: 0.6943 - val_balanced_acc: 0.3911 - lr: 1.0000e-05\n",
            "Epoch 50/1000\n",
            "440/440 [==============================] - ETA: 0s - loss: 0.8606 - accuracy: 0.6680 - balanced_acc: 0.6635\n",
            "Epoch 50: val_balanced_acc did not improve from 0.46486\n",
            "440/440 [==============================] - 29s 65ms/step - loss: 0.8606 - accuracy: 0.6680 - balanced_acc: 0.6635 - val_loss: 0.9529 - val_accuracy: 0.6943 - val_balanced_acc: 0.4026 - lr: 1.0000e-05\n",
            "Epoch 51/1000\n",
            "440/440 [==============================] - ETA: 0s - loss: 0.8624 - accuracy: 0.6710 - balanced_acc: 0.6658\n",
            "Epoch 51: val_balanced_acc did not improve from 0.46486\n",
            "440/440 [==============================] - 29s 65ms/step - loss: 0.8624 - accuracy: 0.6710 - balanced_acc: 0.6658 - val_loss: 0.9529 - val_accuracy: 0.6943 - val_balanced_acc: 0.3745 - lr: 1.0000e-05\n",
            "Epoch 52/1000\n",
            "440/440 [==============================] - ETA: 0s - loss: 0.8652 - accuracy: 0.6638 - balanced_acc: 0.6550\n",
            "Epoch 52: val_balanced_acc did not improve from 0.46486\n",
            "440/440 [==============================] - 29s 65ms/step - loss: 0.8652 - accuracy: 0.6638 - balanced_acc: 0.6550 - val_loss: 0.9529 - val_accuracy: 0.6943 - val_balanced_acc: 0.4312 - lr: 1.0000e-05\n",
            "Epoch 53/1000\n",
            "440/440 [==============================] - ETA: 0s - loss: 0.8576 - accuracy: 0.6700 - balanced_acc: 0.6672\n",
            "Epoch 53: val_balanced_acc did not improve from 0.46486\n",
            "440/440 [==============================] - 29s 65ms/step - loss: 0.8576 - accuracy: 0.6700 - balanced_acc: 0.6672 - val_loss: 0.9529 - val_accuracy: 0.6943 - val_balanced_acc: 0.3888 - lr: 1.0000e-05\n",
            "Epoch 54/1000\n",
            "440/440 [==============================] - ETA: 0s - loss: 0.8668 - accuracy: 0.6663 - balanced_acc: 0.6602\n",
            "Epoch 54: val_balanced_acc did not improve from 0.46486\n",
            "440/440 [==============================] - 29s 65ms/step - loss: 0.8668 - accuracy: 0.6663 - balanced_acc: 0.6602 - val_loss: 0.9529 - val_accuracy: 0.6943 - val_balanced_acc: 0.4145 - lr: 1.0000e-05\n",
            "Epoch 55/1000\n",
            "440/440 [==============================] - ETA: 0s - loss: 0.8479 - accuracy: 0.6766 - balanced_acc: 0.6730\n",
            "Epoch 55: val_balanced_acc did not improve from 0.46486\n",
            "440/440 [==============================] - 29s 66ms/step - loss: 0.8479 - accuracy: 0.6766 - balanced_acc: 0.6730 - val_loss: 0.9529 - val_accuracy: 0.6943 - val_balanced_acc: 0.3757 - lr: 1.0000e-05\n",
            "Epoch 56/1000\n",
            "440/440 [==============================] - ETA: 0s - loss: 0.8615 - accuracy: 0.6707 - balanced_acc: 0.6711\n",
            "Epoch 56: val_balanced_acc did not improve from 0.46486\n",
            "440/440 [==============================] - 29s 65ms/step - loss: 0.8615 - accuracy: 0.6707 - balanced_acc: 0.6711 - val_loss: 0.9529 - val_accuracy: 0.6943 - val_balanced_acc: 0.3770 - lr: 1.0000e-05\n",
            "Epoch 57/1000\n",
            "440/440 [==============================] - ETA: 0s - loss: 0.8640 - accuracy: 0.6714 - balanced_acc: 0.6663\n",
            "Epoch 57: val_balanced_acc did not improve from 0.46486\n",
            "440/440 [==============================] - 29s 65ms/step - loss: 0.8640 - accuracy: 0.6714 - balanced_acc: 0.6663 - val_loss: 0.9529 - val_accuracy: 0.6943 - val_balanced_acc: 0.4025 - lr: 1.0000e-05\n",
            "Epoch 58/1000\n",
            "440/440 [==============================] - ETA: 0s - loss: 0.8722 - accuracy: 0.6678 - balanced_acc: 0.6642\n",
            "Epoch 58: val_balanced_acc did not improve from 0.46486\n",
            "440/440 [==============================] - 29s 65ms/step - loss: 0.8722 - accuracy: 0.6678 - balanced_acc: 0.6642 - val_loss: 0.9529 - val_accuracy: 0.6943 - val_balanced_acc: 0.3913 - lr: 1.0000e-05\n",
            "Epoch 59/1000\n",
            "440/440 [==============================] - ETA: 0s - loss: 0.8654 - accuracy: 0.6714 - balanced_acc: 0.6706\n",
            "Epoch 59: val_balanced_acc did not improve from 0.46486\n",
            "440/440 [==============================] - 29s 65ms/step - loss: 0.8654 - accuracy: 0.6714 - balanced_acc: 0.6706 - val_loss: 0.9529 - val_accuracy: 0.6943 - val_balanced_acc: 0.4205 - lr: 1.0000e-05\n",
            "Epoch 60/1000\n",
            "440/440 [==============================] - ETA: 0s - loss: 0.8644 - accuracy: 0.6719 - balanced_acc: 0.6734\n",
            "Epoch 60: val_balanced_acc did not improve from 0.46486\n",
            "440/440 [==============================] - 29s 65ms/step - loss: 0.8644 - accuracy: 0.6719 - balanced_acc: 0.6734 - val_loss: 0.9529 - val_accuracy: 0.6943 - val_balanced_acc: 0.3638 - lr: 1.0000e-05\n",
            "Epoch 61/1000\n",
            "440/440 [==============================] - ETA: 0s - loss: 0.8680 - accuracy: 0.6705 - balanced_acc: 0.6690\n",
            "Epoch 61: val_balanced_acc did not improve from 0.46486\n",
            "440/440 [==============================] - 29s 65ms/step - loss: 0.8680 - accuracy: 0.6705 - balanced_acc: 0.6690 - val_loss: 0.9529 - val_accuracy: 0.6943 - val_balanced_acc: 0.3991 - lr: 1.0000e-05\n",
            "Epoch 62/1000\n",
            "440/440 [==============================] - ETA: 0s - loss: 0.8570 - accuracy: 0.6724 - balanced_acc: 0.6667\n",
            "Epoch 62: val_balanced_acc did not improve from 0.46486\n",
            "440/440 [==============================] - 29s 65ms/step - loss: 0.8570 - accuracy: 0.6724 - balanced_acc: 0.6667 - val_loss: 0.9529 - val_accuracy: 0.6943 - val_balanced_acc: 0.4049 - lr: 1.0000e-05\n",
            "Epoch 63/1000\n",
            "440/440 [==============================] - ETA: 0s - loss: 0.8630 - accuracy: 0.6712 - balanced_acc: 0.6681\n",
            "Epoch 63: val_balanced_acc did not improve from 0.46486\n",
            "440/440 [==============================] - 29s 65ms/step - loss: 0.8630 - accuracy: 0.6712 - balanced_acc: 0.6681 - val_loss: 0.9529 - val_accuracy: 0.6943 - val_balanced_acc: 0.4078 - lr: 1.0000e-05\n",
            "Epoch 64/1000\n",
            "440/440 [==============================] - ETA: 0s - loss: 0.8604 - accuracy: 0.6719 - balanced_acc: 0.6670\n",
            "Epoch 64: val_balanced_acc did not improve from 0.46486\n",
            "440/440 [==============================] - 29s 65ms/step - loss: 0.8604 - accuracy: 0.6719 - balanced_acc: 0.6670 - val_loss: 0.9529 - val_accuracy: 0.6943 - val_balanced_acc: 0.3635 - lr: 1.0000e-05\n",
            "Epoch 65/1000\n",
            "440/440 [==============================] - ETA: 0s - loss: 0.8549 - accuracy: 0.6743 - balanced_acc: 0.6734\n",
            "Epoch 65: val_balanced_acc did not improve from 0.46486\n",
            "440/440 [==============================] - 29s 65ms/step - loss: 0.8549 - accuracy: 0.6743 - balanced_acc: 0.6734 - val_loss: 0.9529 - val_accuracy: 0.6943 - val_balanced_acc: 0.3771 - lr: 1.0000e-05\n",
            "Epoch 66/1000\n",
            "440/440 [==============================] - ETA: 0s - loss: 0.8620 - accuracy: 0.6739 - balanced_acc: 0.6709\n",
            "Epoch 66: val_balanced_acc did not improve from 0.46486\n",
            "440/440 [==============================] - 29s 65ms/step - loss: 0.8620 - accuracy: 0.6739 - balanced_acc: 0.6709 - val_loss: 0.9529 - val_accuracy: 0.6943 - val_balanced_acc: 0.4043 - lr: 1.0000e-05\n",
            "Epoch 67/1000\n",
            "440/440 [==============================] - ETA: 0s - loss: 0.8637 - accuracy: 0.6695 - balanced_acc: 0.6633\n",
            "Epoch 67: val_balanced_acc did not improve from 0.46486\n",
            "440/440 [==============================] - 29s 65ms/step - loss: 0.8637 - accuracy: 0.6695 - balanced_acc: 0.6633 - val_loss: 0.9529 - val_accuracy: 0.6943 - val_balanced_acc: 0.3811 - lr: 1.0000e-05\n",
            "Epoch 68/1000\n",
            "440/440 [==============================] - ETA: 0s - loss: 0.8532 - accuracy: 0.6696 - balanced_acc: 0.6650\n",
            "Epoch 68: val_balanced_acc did not improve from 0.46486\n",
            "440/440 [==============================] - 29s 66ms/step - loss: 0.8532 - accuracy: 0.6696 - balanced_acc: 0.6650 - val_loss: 0.9529 - val_accuracy: 0.6943 - val_balanced_acc: 0.4050 - lr: 1.0000e-05\n",
            "Epoch 69/1000\n",
            "440/440 [==============================] - ETA: 0s - loss: 0.8583 - accuracy: 0.6717 - balanced_acc: 0.6669\n",
            "Epoch 69: val_balanced_acc did not improve from 0.46486\n",
            "440/440 [==============================] - 29s 65ms/step - loss: 0.8583 - accuracy: 0.6717 - balanced_acc: 0.6669 - val_loss: 0.9529 - val_accuracy: 0.6943 - val_balanced_acc: 0.3873 - lr: 1.0000e-05\n",
            "Epoch 70/1000\n",
            "440/440 [==============================] - ETA: 0s - loss: 0.8547 - accuracy: 0.6717 - balanced_acc: 0.6668\n",
            "Epoch 70: val_balanced_acc did not improve from 0.46486\n",
            "440/440 [==============================] - 29s 65ms/step - loss: 0.8547 - accuracy: 0.6717 - balanced_acc: 0.6668 - val_loss: 0.9529 - val_accuracy: 0.6943 - val_balanced_acc: 0.3970 - lr: 1.0000e-05\n",
            "Epoch 71/1000\n",
            "440/440 [==============================] - ETA: 0s - loss: 0.8569 - accuracy: 0.6747 - balanced_acc: 0.6693\n",
            "Epoch 71: val_balanced_acc did not improve from 0.46486\n",
            "440/440 [==============================] - 29s 65ms/step - loss: 0.8569 - accuracy: 0.6747 - balanced_acc: 0.6693 - val_loss: 0.9529 - val_accuracy: 0.6943 - val_balanced_acc: 0.3904 - lr: 1.0000e-05\n",
            "Epoch 72/1000\n",
            "440/440 [==============================] - ETA: 0s - loss: 0.8665 - accuracy: 0.6692 - balanced_acc: 0.6683\n",
            "Epoch 72: val_balanced_acc did not improve from 0.46486\n",
            "440/440 [==============================] - 29s 65ms/step - loss: 0.8665 - accuracy: 0.6692 - balanced_acc: 0.6683 - val_loss: 0.9529 - val_accuracy: 0.6943 - val_balanced_acc: 0.3979 - lr: 1.0000e-05\n",
            "Epoch 73/1000\n",
            "440/440 [==============================] - ETA: 0s - loss: 0.8608 - accuracy: 0.6688 - balanced_acc: 0.6635\n",
            "Epoch 73: val_balanced_acc did not improve from 0.46486\n",
            "440/440 [==============================] - 29s 65ms/step - loss: 0.8608 - accuracy: 0.6688 - balanced_acc: 0.6635 - val_loss: 0.9529 - val_accuracy: 0.6943 - val_balanced_acc: 0.4033 - lr: 1.0000e-05\n",
            "Epoch 74/1000\n",
            "440/440 [==============================] - ETA: 0s - loss: 0.8515 - accuracy: 0.6753 - balanced_acc: 0.6668\n",
            "Epoch 74: val_balanced_acc did not improve from 0.46486\n",
            "440/440 [==============================] - 29s 65ms/step - loss: 0.8515 - accuracy: 0.6753 - balanced_acc: 0.6668 - val_loss: 0.9529 - val_accuracy: 0.6943 - val_balanced_acc: 0.3607 - lr: 1.0000e-05\n",
            "Epoch 75/1000\n",
            "440/440 [==============================] - ETA: 0s - loss: 0.8622 - accuracy: 0.6702 - balanced_acc: 0.6667\n",
            "Epoch 75: val_balanced_acc did not improve from 0.46486\n",
            "440/440 [==============================] - 29s 65ms/step - loss: 0.8622 - accuracy: 0.6702 - balanced_acc: 0.6667 - val_loss: 0.9529 - val_accuracy: 0.6943 - val_balanced_acc: 0.4060 - lr: 1.0000e-05\n",
            "Epoch 76/1000\n",
            "440/440 [==============================] - ETA: 0s - loss: 0.8598 - accuracy: 0.6729 - balanced_acc: 0.6692\n",
            "Epoch 76: val_balanced_acc did not improve from 0.46486\n",
            "440/440 [==============================] - 29s 65ms/step - loss: 0.8598 - accuracy: 0.6729 - balanced_acc: 0.6692 - val_loss: 0.9529 - val_accuracy: 0.6943 - val_balanced_acc: 0.3637 - lr: 1.0000e-05\n",
            "Epoch 77/1000\n",
            "440/440 [==============================] - ETA: 0s - loss: 0.8631 - accuracy: 0.6708 - balanced_acc: 0.6644\n",
            "Epoch 77: val_balanced_acc did not improve from 0.46486\n",
            "440/440 [==============================] - 29s 65ms/step - loss: 0.8631 - accuracy: 0.6708 - balanced_acc: 0.6644 - val_loss: 0.9529 - val_accuracy: 0.6943 - val_balanced_acc: 0.4423 - lr: 1.0000e-05\n",
            "Epoch 78/1000\n",
            "440/440 [==============================] - ETA: 0s - loss: 0.8644 - accuracy: 0.6702 - balanced_acc: 0.6665\n",
            "Epoch 78: val_balanced_acc did not improve from 0.46486\n",
            "440/440 [==============================] - 29s 65ms/step - loss: 0.8644 - accuracy: 0.6702 - balanced_acc: 0.6665 - val_loss: 0.9529 - val_accuracy: 0.6943 - val_balanced_acc: 0.4138 - lr: 1.0000e-05\n",
            "Epoch 79/1000\n",
            "440/440 [==============================] - ETA: 0s - loss: 0.8635 - accuracy: 0.6682 - balanced_acc: 0.6645\n",
            "Epoch 79: val_balanced_acc did not improve from 0.46486\n",
            "440/440 [==============================] - 29s 65ms/step - loss: 0.8635 - accuracy: 0.6682 - balanced_acc: 0.6645 - val_loss: 0.9529 - val_accuracy: 0.6943 - val_balanced_acc: 0.3838 - lr: 1.0000e-05\n",
            "Epoch 80/1000\n",
            "440/440 [==============================] - ETA: 0s - loss: 0.8662 - accuracy: 0.6679 - balanced_acc: 0.6631\n",
            "Epoch 80: val_balanced_acc did not improve from 0.46486\n",
            "440/440 [==============================] - 29s 65ms/step - loss: 0.8662 - accuracy: 0.6679 - balanced_acc: 0.6631 - val_loss: 0.9529 - val_accuracy: 0.6943 - val_balanced_acc: 0.3972 - lr: 1.0000e-05\n",
            "Epoch 81/1000\n",
            "440/440 [==============================] - ETA: 0s - loss: 0.8666 - accuracy: 0.6679 - balanced_acc: 0.6643\n",
            "Epoch 81: val_balanced_acc did not improve from 0.46486\n",
            "440/440 [==============================] - 29s 66ms/step - loss: 0.8666 - accuracy: 0.6679 - balanced_acc: 0.6643 - val_loss: 0.9529 - val_accuracy: 0.6943 - val_balanced_acc: 0.4337 - lr: 1.0000e-05\n",
            "Epoch 82/1000\n",
            "440/440 [==============================] - ETA: 0s - loss: 0.8635 - accuracy: 0.6696 - balanced_acc: 0.6644\n",
            "Epoch 82: val_balanced_acc did not improve from 0.46486\n",
            "440/440 [==============================] - 29s 65ms/step - loss: 0.8635 - accuracy: 0.6696 - balanced_acc: 0.6644 - val_loss: 0.9529 - val_accuracy: 0.6943 - val_balanced_acc: 0.3722 - lr: 1.0000e-05\n",
            "Epoch 83/1000\n",
            "440/440 [==============================] - ETA: 0s - loss: 0.8540 - accuracy: 0.6707 - balanced_acc: 0.6678\n",
            "Epoch 83: val_balanced_acc did not improve from 0.46486\n",
            "440/440 [==============================] - 29s 65ms/step - loss: 0.8540 - accuracy: 0.6707 - balanced_acc: 0.6678 - val_loss: 0.9529 - val_accuracy: 0.6943 - val_balanced_acc: 0.3926 - lr: 1.0000e-05\n",
            "Epoch 84/1000\n",
            "440/440 [==============================] - ETA: 0s - loss: 0.8565 - accuracy: 0.6703 - balanced_acc: 0.6689\n",
            "Epoch 84: val_balanced_acc did not improve from 0.46486\n",
            "440/440 [==============================] - 29s 66ms/step - loss: 0.8565 - accuracy: 0.6703 - balanced_acc: 0.6689 - val_loss: 0.9529 - val_accuracy: 0.6943 - val_balanced_acc: 0.3952 - lr: 1.0000e-05\n",
            "Epoch 85/1000\n",
            "440/440 [==============================] - ETA: 0s - loss: 0.8582 - accuracy: 0.6699 - balanced_acc: 0.6644\n",
            "Epoch 85: val_balanced_acc did not improve from 0.46486\n",
            "440/440 [==============================] - 29s 66ms/step - loss: 0.8582 - accuracy: 0.6699 - balanced_acc: 0.6644 - val_loss: 0.9529 - val_accuracy: 0.6943 - val_balanced_acc: 0.3934 - lr: 1.0000e-05\n",
            "Epoch 86/1000\n",
            "440/440 [==============================] - ETA: 0s - loss: 0.8548 - accuracy: 0.6717 - balanced_acc: 0.6675\n",
            "Epoch 86: val_balanced_acc did not improve from 0.46486\n",
            "440/440 [==============================] - 29s 66ms/step - loss: 0.8548 - accuracy: 0.6717 - balanced_acc: 0.6675 - val_loss: 0.9529 - val_accuracy: 0.6943 - val_balanced_acc: 0.4399 - lr: 1.0000e-05\n",
            "Epoch 87/1000\n",
            "440/440 [==============================] - ETA: 0s - loss: 0.8570 - accuracy: 0.6710 - balanced_acc: 0.6644\n",
            "Epoch 87: val_balanced_acc did not improve from 0.46486\n",
            "440/440 [==============================] - 29s 65ms/step - loss: 0.8570 - accuracy: 0.6710 - balanced_acc: 0.6644 - val_loss: 0.9529 - val_accuracy: 0.6943 - val_balanced_acc: 0.4081 - lr: 1.0000e-05\n",
            "Epoch 88/1000\n",
            "440/440 [==============================] - ETA: 0s - loss: 0.8588 - accuracy: 0.6728 - balanced_acc: 0.6690\n",
            "Epoch 88: val_balanced_acc did not improve from 0.46486\n",
            "440/440 [==============================] - 29s 66ms/step - loss: 0.8588 - accuracy: 0.6728 - balanced_acc: 0.6690 - val_loss: 0.9529 - val_accuracy: 0.6943 - val_balanced_acc: 0.3922 - lr: 1.0000e-05\n",
            "Epoch 89/1000\n",
            "440/440 [==============================] - ETA: 0s - loss: 0.8662 - accuracy: 0.6706 - balanced_acc: 0.6654\n",
            "Epoch 89: val_balanced_acc did not improve from 0.46486\n",
            "440/440 [==============================] - 29s 66ms/step - loss: 0.8662 - accuracy: 0.6706 - balanced_acc: 0.6654 - val_loss: 0.9529 - val_accuracy: 0.6943 - val_balanced_acc: 0.3982 - lr: 1.0000e-05\n",
            "Epoch 90/1000\n",
            "440/440 [==============================] - ETA: 0s - loss: 0.8593 - accuracy: 0.6712 - balanced_acc: 0.6685\n",
            "Epoch 90: val_balanced_acc did not improve from 0.46486\n",
            "440/440 [==============================] - 29s 66ms/step - loss: 0.8593 - accuracy: 0.6712 - balanced_acc: 0.6685 - val_loss: 0.9529 - val_accuracy: 0.6943 - val_balanced_acc: 0.4136 - lr: 1.0000e-05\n",
            "Epoch 91/1000\n",
            "440/440 [==============================] - ETA: 0s - loss: 0.8639 - accuracy: 0.6685 - balanced_acc: 0.6626\n",
            "Epoch 91: val_balanced_acc did not improve from 0.46486\n",
            "440/440 [==============================] - 29s 65ms/step - loss: 0.8639 - accuracy: 0.6685 - balanced_acc: 0.6626 - val_loss: 0.9529 - val_accuracy: 0.6943 - val_balanced_acc: 0.3518 - lr: 1.0000e-05\n",
            "Epoch 92/1000\n",
            "440/440 [==============================] - ETA: 0s - loss: 0.8597 - accuracy: 0.6681 - balanced_acc: 0.6624\n",
            "Epoch 92: val_balanced_acc did not improve from 0.46486\n",
            "440/440 [==============================] - 29s 66ms/step - loss: 0.8597 - accuracy: 0.6681 - balanced_acc: 0.6624 - val_loss: 0.9529 - val_accuracy: 0.6943 - val_balanced_acc: 0.3897 - lr: 1.0000e-05\n",
            "Epoch 93/1000\n",
            "440/440 [==============================] - ETA: 0s - loss: 0.8592 - accuracy: 0.6706 - balanced_acc: 0.6699\n",
            "Epoch 93: val_balanced_acc did not improve from 0.46486\n",
            "440/440 [==============================] - 29s 65ms/step - loss: 0.8592 - accuracy: 0.6706 - balanced_acc: 0.6699 - val_loss: 0.9529 - val_accuracy: 0.6943 - val_balanced_acc: 0.3678 - lr: 1.0000e-05\n",
            "Epoch 94/1000\n",
            "440/440 [==============================] - ETA: 0s - loss: 0.8644 - accuracy: 0.6716 - balanced_acc: 0.6677\n",
            "Epoch 94: val_balanced_acc did not improve from 0.46486\n",
            "440/440 [==============================] - 29s 66ms/step - loss: 0.8644 - accuracy: 0.6716 - balanced_acc: 0.6677 - val_loss: 0.9529 - val_accuracy: 0.6943 - val_balanced_acc: 0.4191 - lr: 1.0000e-05\n",
            "Epoch 95/1000\n",
            "440/440 [==============================] - ETA: 0s - loss: 0.8531 - accuracy: 0.6759 - balanced_acc: 0.6681\n",
            "Epoch 95: val_balanced_acc did not improve from 0.46486\n",
            "440/440 [==============================] - 29s 66ms/step - loss: 0.8531 - accuracy: 0.6759 - balanced_acc: 0.6681 - val_loss: 0.9529 - val_accuracy: 0.6943 - val_balanced_acc: 0.3974 - lr: 1.0000e-05\n",
            "Epoch 96/1000\n",
            "440/440 [==============================] - ETA: 0s - loss: 0.8548 - accuracy: 0.6707 - balanced_acc: 0.6663\n",
            "Epoch 96: val_balanced_acc did not improve from 0.46486\n",
            "440/440 [==============================] - 29s 65ms/step - loss: 0.8548 - accuracy: 0.6707 - balanced_acc: 0.6663 - val_loss: 0.9529 - val_accuracy: 0.6943 - val_balanced_acc: 0.3746 - lr: 1.0000e-05\n",
            "Epoch 97/1000\n",
            "440/440 [==============================] - ETA: 0s - loss: 0.8618 - accuracy: 0.6726 - balanced_acc: 0.6696\n",
            "Epoch 97: val_balanced_acc did not improve from 0.46486\n",
            "440/440 [==============================] - 29s 66ms/step - loss: 0.8618 - accuracy: 0.6726 - balanced_acc: 0.6696 - val_loss: 0.9529 - val_accuracy: 0.6943 - val_balanced_acc: 0.4091 - lr: 1.0000e-05\n",
            "Epoch 98/1000\n",
            "440/440 [==============================] - ETA: 0s - loss: 0.8632 - accuracy: 0.6731 - balanced_acc: 0.6691\n",
            "Epoch 98: val_balanced_acc did not improve from 0.46486\n",
            "440/440 [==============================] - 29s 65ms/step - loss: 0.8632 - accuracy: 0.6731 - balanced_acc: 0.6691 - val_loss: 0.9529 - val_accuracy: 0.6943 - val_balanced_acc: 0.3838 - lr: 1.0000e-05\n",
            "Epoch 99/1000\n",
            "440/440 [==============================] - ETA: 0s - loss: 0.8625 - accuracy: 0.6719 - balanced_acc: 0.6692\n",
            "Epoch 99: val_balanced_acc did not improve from 0.46486\n",
            "440/440 [==============================] - 29s 66ms/step - loss: 0.8625 - accuracy: 0.6719 - balanced_acc: 0.6692 - val_loss: 0.9529 - val_accuracy: 0.6943 - val_balanced_acc: 0.3928 - lr: 1.0000e-05\n",
            "Epoch 100/1000\n",
            "440/440 [==============================] - ETA: 0s - loss: 0.8677 - accuracy: 0.6666 - balanced_acc: 0.6645\n",
            "Epoch 100: val_balanced_acc did not improve from 0.46486\n",
            "440/440 [==============================] - 29s 66ms/step - loss: 0.8677 - accuracy: 0.6666 - balanced_acc: 0.6645 - val_loss: 0.9529 - val_accuracy: 0.6943 - val_balanced_acc: 0.4458 - lr: 1.0000e-05\n",
            "Epoch 101/1000\n",
            "440/440 [==============================] - ETA: 0s - loss: 0.8650 - accuracy: 0.6688 - balanced_acc: 0.6654\n",
            "Epoch 101: val_balanced_acc did not improve from 0.46486\n",
            "440/440 [==============================] - 29s 66ms/step - loss: 0.8650 - accuracy: 0.6688 - balanced_acc: 0.6654 - val_loss: 0.9529 - val_accuracy: 0.6943 - val_balanced_acc: 0.4035 - lr: 1.0000e-05\n",
            "Epoch 102/1000\n",
            "440/440 [==============================] - ETA: 0s - loss: 0.8595 - accuracy: 0.6683 - balanced_acc: 0.6668\n",
            "Epoch 102: val_balanced_acc did not improve from 0.46486\n",
            "440/440 [==============================] - 29s 66ms/step - loss: 0.8595 - accuracy: 0.6683 - balanced_acc: 0.6668 - val_loss: 0.9529 - val_accuracy: 0.6943 - val_balanced_acc: 0.4234 - lr: 1.0000e-05\n",
            "Epoch 103/1000\n",
            "440/440 [==============================] - ETA: 0s - loss: 0.8677 - accuracy: 0.6734 - balanced_acc: 0.6668\n",
            "Epoch 103: val_balanced_acc did not improve from 0.46486\n",
            "440/440 [==============================] - 29s 66ms/step - loss: 0.8677 - accuracy: 0.6734 - balanced_acc: 0.6668 - val_loss: 0.9529 - val_accuracy: 0.6943 - val_balanced_acc: 0.3927 - lr: 1.0000e-05\n",
            "Epoch 104/1000\n",
            "440/440 [==============================] - ETA: 0s - loss: 0.8642 - accuracy: 0.6723 - balanced_acc: 0.6668\n",
            "Epoch 104: val_balanced_acc did not improve from 0.46486\n",
            "440/440 [==============================] - 29s 66ms/step - loss: 0.8642 - accuracy: 0.6723 - balanced_acc: 0.6668 - val_loss: 0.9529 - val_accuracy: 0.6943 - val_balanced_acc: 0.3770 - lr: 1.0000e-05\n",
            "Epoch 105/1000\n",
            "440/440 [==============================] - ETA: 0s - loss: 0.8667 - accuracy: 0.6692 - balanced_acc: 0.6659\n",
            "Epoch 105: val_balanced_acc did not improve from 0.46486\n",
            "440/440 [==============================] - 29s 66ms/step - loss: 0.8667 - accuracy: 0.6692 - balanced_acc: 0.6659 - val_loss: 0.9529 - val_accuracy: 0.6943 - val_balanced_acc: 0.3948 - lr: 1.0000e-05\n",
            "Epoch 106/1000\n",
            "440/440 [==============================] - ETA: 0s - loss: 0.8556 - accuracy: 0.6700 - balanced_acc: 0.6643\n",
            "Epoch 106: val_balanced_acc did not improve from 0.46486\n",
            "440/440 [==============================] - 29s 66ms/step - loss: 0.8556 - accuracy: 0.6700 - balanced_acc: 0.6643 - val_loss: 0.9529 - val_accuracy: 0.6943 - val_balanced_acc: 0.3867 - lr: 1.0000e-05\n",
            "Epoch 107/1000\n",
            "440/440 [==============================] - ETA: 0s - loss: 0.8635 - accuracy: 0.6681 - balanced_acc: 0.6633\n",
            "Epoch 107: val_balanced_acc did not improve from 0.46486\n",
            "440/440 [==============================] - 29s 66ms/step - loss: 0.8635 - accuracy: 0.6681 - balanced_acc: 0.6633 - val_loss: 0.9529 - val_accuracy: 0.6943 - val_balanced_acc: 0.3567 - lr: 1.0000e-05\n",
            "Epoch 108/1000\n",
            "440/440 [==============================] - ETA: 0s - loss: 0.8542 - accuracy: 0.6725 - balanced_acc: 0.6667\n",
            "Epoch 108: val_balanced_acc did not improve from 0.46486\n",
            "440/440 [==============================] - 29s 66ms/step - loss: 0.8542 - accuracy: 0.6725 - balanced_acc: 0.6667 - val_loss: 0.9529 - val_accuracy: 0.6943 - val_balanced_acc: 0.4005 - lr: 1.0000e-05\n",
            "Epoch 109/1000\n",
            "440/440 [==============================] - ETA: 0s - loss: 0.8615 - accuracy: 0.6688 - balanced_acc: 0.6672\n",
            "Epoch 109: val_balanced_acc did not improve from 0.46486\n",
            "440/440 [==============================] - 29s 66ms/step - loss: 0.8615 - accuracy: 0.6688 - balanced_acc: 0.6672 - val_loss: 0.9529 - val_accuracy: 0.6943 - val_balanced_acc: 0.3711 - lr: 1.0000e-05\n",
            "Epoch 110/1000\n",
            "440/440 [==============================] - ETA: 0s - loss: 0.8595 - accuracy: 0.6725 - balanced_acc: 0.6641\n",
            "Epoch 110: val_balanced_acc did not improve from 0.46486\n",
            "440/440 [==============================] - 29s 66ms/step - loss: 0.8595 - accuracy: 0.6725 - balanced_acc: 0.6641 - val_loss: 0.9529 - val_accuracy: 0.6943 - val_balanced_acc: 0.3636 - lr: 1.0000e-05\n",
            "Epoch 111/1000\n",
            "440/440 [==============================] - ETA: 0s - loss: 0.8617 - accuracy: 0.6710 - balanced_acc: 0.6663\n",
            "Epoch 111: val_balanced_acc did not improve from 0.46486\n",
            "440/440 [==============================] - 29s 66ms/step - loss: 0.8617 - accuracy: 0.6710 - balanced_acc: 0.6663 - val_loss: 0.9529 - val_accuracy: 0.6943 - val_balanced_acc: 0.4094 - lr: 1.0000e-05\n",
            "Epoch 112/1000\n",
            "440/440 [==============================] - ETA: 0s - loss: 0.8488 - accuracy: 0.6762 - balanced_acc: 0.6738\n",
            "Epoch 112: val_balanced_acc did not improve from 0.46486\n",
            "440/440 [==============================] - 29s 66ms/step - loss: 0.8488 - accuracy: 0.6762 - balanced_acc: 0.6738 - val_loss: 0.9529 - val_accuracy: 0.6943 - val_balanced_acc: 0.3905 - lr: 1.0000e-05\n",
            "Epoch 113/1000\n",
            "440/440 [==============================] - ETA: 0s - loss: 0.8565 - accuracy: 0.6717 - balanced_acc: 0.6635\n",
            "Epoch 113: val_balanced_acc did not improve from 0.46486\n",
            "440/440 [==============================] - 29s 66ms/step - loss: 0.8565 - accuracy: 0.6717 - balanced_acc: 0.6635 - val_loss: 0.9529 - val_accuracy: 0.6943 - val_balanced_acc: 0.3790 - lr: 1.0000e-05\n",
            "Epoch 114/1000\n",
            "440/440 [==============================] - ETA: 0s - loss: 0.8556 - accuracy: 0.6745 - balanced_acc: 0.6708\n",
            "Epoch 114: val_balanced_acc did not improve from 0.46486\n",
            "440/440 [==============================] - 29s 66ms/step - loss: 0.8556 - accuracy: 0.6745 - balanced_acc: 0.6708 - val_loss: 0.9529 - val_accuracy: 0.6943 - val_balanced_acc: 0.3902 - lr: 1.0000e-05\n",
            "Epoch 115/1000\n",
            "440/440 [==============================] - ETA: 0s - loss: 0.8625 - accuracy: 0.6702 - balanced_acc: 0.6620\n",
            "Epoch 115: val_balanced_acc did not improve from 0.46486\n",
            "440/440 [==============================] - 29s 66ms/step - loss: 0.8625 - accuracy: 0.6702 - balanced_acc: 0.6620 - val_loss: 0.9529 - val_accuracy: 0.6943 - val_balanced_acc: 0.3638 - lr: 1.0000e-05\n",
            "Epoch 116/1000\n",
            "440/440 [==============================] - ETA: 0s - loss: 0.8595 - accuracy: 0.6720 - balanced_acc: 0.6661\n",
            "Epoch 116: val_balanced_acc did not improve from 0.46486\n",
            "440/440 [==============================] - 29s 66ms/step - loss: 0.8595 - accuracy: 0.6720 - balanced_acc: 0.6661 - val_loss: 0.9529 - val_accuracy: 0.6943 - val_balanced_acc: 0.3811 - lr: 1.0000e-05\n",
            "Epoch 117/1000\n",
            "440/440 [==============================] - ETA: 0s - loss: 0.8531 - accuracy: 0.6712 - balanced_acc: 0.6649\n",
            "Epoch 117: val_balanced_acc did not improve from 0.46486\n",
            "440/440 [==============================] - 29s 66ms/step - loss: 0.8531 - accuracy: 0.6712 - balanced_acc: 0.6649 - val_loss: 0.9529 - val_accuracy: 0.6943 - val_balanced_acc: 0.3901 - lr: 1.0000e-05\n",
            "Epoch 118/1000\n",
            "440/440 [==============================] - ETA: 0s - loss: 0.8498 - accuracy: 0.6757 - balanced_acc: 0.6727\n",
            "Epoch 118: val_balanced_acc did not improve from 0.46486\n",
            "440/440 [==============================] - 29s 66ms/step - loss: 0.8498 - accuracy: 0.6757 - balanced_acc: 0.6727 - val_loss: 0.9529 - val_accuracy: 0.6943 - val_balanced_acc: 0.3915 - lr: 1.0000e-05\n",
            "Epoch 119/1000\n",
            "440/440 [==============================] - ETA: 0s - loss: 0.8586 - accuracy: 0.6723 - balanced_acc: 0.6686\n",
            "Epoch 119: val_balanced_acc did not improve from 0.46486\n",
            "440/440 [==============================] - 29s 66ms/step - loss: 0.8586 - accuracy: 0.6723 - balanced_acc: 0.6686 - val_loss: 0.9529 - val_accuracy: 0.6943 - val_balanced_acc: 0.4112 - lr: 1.0000e-05\n",
            "Epoch 120/1000\n",
            "440/440 [==============================] - ETA: 0s - loss: 0.8589 - accuracy: 0.6719 - balanced_acc: 0.6661\n",
            "Epoch 120: val_balanced_acc did not improve from 0.46486\n",
            "440/440 [==============================] - 29s 66ms/step - loss: 0.8589 - accuracy: 0.6719 - balanced_acc: 0.6661 - val_loss: 0.9529 - val_accuracy: 0.6943 - val_balanced_acc: 0.3587 - lr: 1.0000e-05\n",
            "Epoch 121/1000\n",
            "440/440 [==============================] - ETA: 0s - loss: 0.8503 - accuracy: 0.6741 - balanced_acc: 0.6720\n",
            "Epoch 121: val_balanced_acc did not improve from 0.46486\n",
            "440/440 [==============================] - 29s 66ms/step - loss: 0.8503 - accuracy: 0.6741 - balanced_acc: 0.6720 - val_loss: 0.9529 - val_accuracy: 0.6943 - val_balanced_acc: 0.3813 - lr: 1.0000e-05\n",
            "Epoch 122/1000\n",
            "440/440 [==============================] - ETA: 0s - loss: 0.8582 - accuracy: 0.6728 - balanced_acc: 0.6719\n",
            "Epoch 122: val_balanced_acc did not improve from 0.46486\n",
            "440/440 [==============================] - 29s 65ms/step - loss: 0.8582 - accuracy: 0.6728 - balanced_acc: 0.6719 - val_loss: 0.9529 - val_accuracy: 0.6943 - val_balanced_acc: 0.3899 - lr: 1.0000e-05\n",
            "Epoch 123/1000\n",
            "440/440 [==============================] - ETA: 0s - loss: 0.8589 - accuracy: 0.6718 - balanced_acc: 0.6673\n",
            "Epoch 123: val_balanced_acc did not improve from 0.46486\n",
            "440/440 [==============================] - 29s 66ms/step - loss: 0.8589 - accuracy: 0.6718 - balanced_acc: 0.6673 - val_loss: 0.9529 - val_accuracy: 0.6943 - val_balanced_acc: 0.4110 - lr: 1.0000e-05\n",
            "Epoch 124/1000\n",
            "440/440 [==============================] - ETA: 0s - loss: 0.8632 - accuracy: 0.6703 - balanced_acc: 0.6644\n",
            "Epoch 124: val_balanced_acc did not improve from 0.46486\n",
            "440/440 [==============================] - 29s 66ms/step - loss: 0.8632 - accuracy: 0.6703 - balanced_acc: 0.6644 - val_loss: 0.9529 - val_accuracy: 0.6943 - val_balanced_acc: 0.4069 - lr: 1.0000e-05\n",
            "Epoch 125/1000\n",
            "440/440 [==============================] - ETA: 0s - loss: 0.8592 - accuracy: 0.6751 - balanced_acc: 0.6678\n",
            "Epoch 125: val_balanced_acc did not improve from 0.46486\n",
            "440/440 [==============================] - 29s 66ms/step - loss: 0.8592 - accuracy: 0.6751 - balanced_acc: 0.6678 - val_loss: 0.9529 - val_accuracy: 0.6943 - val_balanced_acc: 0.3778 - lr: 1.0000e-05\n",
            "Epoch 126/1000\n",
            "440/440 [==============================] - ETA: 0s - loss: 0.8673 - accuracy: 0.6682 - balanced_acc: 0.6623\n",
            "Epoch 126: val_balanced_acc did not improve from 0.46486\n",
            "440/440 [==============================] - 29s 66ms/step - loss: 0.8673 - accuracy: 0.6682 - balanced_acc: 0.6623 - val_loss: 0.9529 - val_accuracy: 0.6943 - val_balanced_acc: 0.3806 - lr: 1.0000e-05\n",
            "Epoch 127/1000\n",
            "440/440 [==============================] - ETA: 0s - loss: 0.8629 - accuracy: 0.6674 - balanced_acc: 0.6629\n",
            "Epoch 127: val_balanced_acc did not improve from 0.46486\n",
            "440/440 [==============================] - 29s 66ms/step - loss: 0.8629 - accuracy: 0.6674 - balanced_acc: 0.6629 - val_loss: 0.9529 - val_accuracy: 0.6943 - val_balanced_acc: 0.4245 - lr: 1.0000e-05\n",
            "Epoch 128/1000\n",
            "440/440 [==============================] - ETA: 0s - loss: 0.8650 - accuracy: 0.6673 - balanced_acc: 0.6645\n",
            "Epoch 128: val_balanced_acc did not improve from 0.46486\n",
            "440/440 [==============================] - 29s 66ms/step - loss: 0.8650 - accuracy: 0.6673 - balanced_acc: 0.6645 - val_loss: 0.9529 - val_accuracy: 0.6943 - val_balanced_acc: 0.3660 - lr: 1.0000e-05\n",
            "Epoch 129/1000\n",
            "440/440 [==============================] - ETA: 0s - loss: 0.8632 - accuracy: 0.6732 - balanced_acc: 0.6652\n",
            "Epoch 129: val_balanced_acc did not improve from 0.46486\n",
            "440/440 [==============================] - 29s 66ms/step - loss: 0.8632 - accuracy: 0.6732 - balanced_acc: 0.6652 - val_loss: 0.9529 - val_accuracy: 0.6943 - val_balanced_acc: 0.3892 - lr: 1.0000e-05\n",
            "Epoch 130/1000\n",
            "440/440 [==============================] - ETA: 0s - loss: 0.8540 - accuracy: 0.6754 - balanced_acc: 0.6705\n",
            "Epoch 130: val_balanced_acc did not improve from 0.46486\n",
            "440/440 [==============================] - 29s 66ms/step - loss: 0.8540 - accuracy: 0.6754 - balanced_acc: 0.6705 - val_loss: 0.9529 - val_accuracy: 0.6943 - val_balanced_acc: 0.4287 - lr: 1.0000e-05\n"
          ]
        }
      ],
      "source": [
        "limit = 171\n",
        "for layer in model.layers[:limit]:\n",
        "   layer.trainable = False\n",
        "for layer in model.layers[limit:]:\n",
        "   layer.trainable = True\n",
        "\n",
        "optimizer_SGD = SGD(learning_rate=0.0001, momentum=0.9)\n",
        "model.compile(optimizer = optimizer_SGD , loss = \"categorical_crossentropy\", metrics=['accuracy', balanced_acc])\n",
        "hst2 = model.fit(train_data_batches,\n",
        "                    epochs = EPOCHS, validation_data = valid_data_batches,\n",
        "                    callbacks=[learning_rate_reduction,early_stopping_monitor, mc])\n"
      ]
    },
    {
      "cell_type": "code",
      "execution_count": null,
      "metadata": {
        "id": "SPz8NH1Oylv9"
      },
      "outputs": [],
      "source": [
        "#save last model\n",
        "\n",
        "model.save(last_model_fpath)"
      ]
    },
    {
      "cell_type": "code",
      "execution_count": 36,
      "metadata": {
        "id": "lS3ewyxO_anU",
        "colab": {
          "base_uri": "https://localhost:8080/"
        },
        "outputId": "2ed33284-a4f0-4531-ae90-917c0d6f1706"
      },
      "outputs": [
        {
          "output_type": "stream",
          "name": "stdout",
          "text": [
            "balanced accuracy on training 0.6302479221425019\n",
            "balanced accuracy on validation 0.5648204292803596\n",
            "Score on val data:  (0.4313533814161335, 0.5648204292803596, 0.4242179858883574, None)\n"
          ]
        },
        {
          "output_type": "stream",
          "name": "stderr",
          "text": [
            "/usr/local/lib/python3.7/dist-packages/sklearn/metrics/_classification.py:1318: UndefinedMetricWarning: Precision and F-score are ill-defined and being set to 0.0 in labels with no predicted samples. Use `zero_division` parameter to control this behavior.\n",
            "  _warn_prf(average, modifier, msg_start, len(result))\n"
          ]
        }
      ],
      "source": [
        "#last_model = load_model(last_model_fpath)\n",
        "y_train_pred = model.predict(X_train)\n",
        "y_val_pred = model.predict(X_val)\n",
        "\n",
        "print('balanced accuracy on training',balanced_accuracy_score(np.argmax(y_train, axis=1), np.argmax(y_train_pred, axis=1)))\n",
        "print('balanced accuracy on validation',balanced_accuracy_score(np.argmax(y_val, axis=1), np.argmax(y_val_pred, axis=1)))\n",
        "print('Score on val data: ',precision_recall_fscore_support(np.argmax(y_val, axis=1), np.argmax(y_val_pred, axis=1), average='macro'))"
      ]
    },
    {
      "cell_type": "code",
      "execution_count": null,
      "metadata": {
        "id": "W3IyWjdGG4Xq"
      },
      "outputs": [],
      "source": [
        "#best_model = load_model(best_model_fpath)\n",
        "#y_train_pred = best_model.predict(X_train)\n",
        "#y_val_pred = best_model.predict(X_val)\n",
        "\n",
        "print('balanced accuracy on training',balanced_accuracy_score(np.argmax(y_train, axis=1), np.argmax(y_train_pred, axis=1)))\n",
        "print('balanced accuracy on validation',balanced_accuracy_score(np.argmax(y_val, axis=1), np.argmax(y_val_pred, axis=1)))\n",
        "print('Score on val data: ',precision_recall_fscore_support(np.argmax(y_val, axis=1), np.argmax(y_val_pred, axis=1), average='macro'))"
      ]
    },
    {
      "cell_type": "code",
      "execution_count": 35,
      "metadata": {
        "id": "vO1aAQBmiy0K",
        "colab": {
          "base_uri": "https://localhost:8080/",
          "height": 295
        },
        "outputId": "1eefd5e2-5ff0-4987-b866-22bdfd8d7222"
      },
      "outputs": [
        {
          "output_type": "display_data",
          "data": {
            "text/plain": [
              "<Figure size 432x288 with 1 Axes>"
            ],
            "image/png": "[encoded data removed]"
          },
          "metadata": {
            "needs_background": "light"
          }
        }
      ],
      "source": [
        "# summarize history for accuracy\n",
        "plt.plot(hst2.history['balanced_acc'])\n",
        "plt.plot(hst2.history['val_balanced_acc'])\n",
        "plt.title('model balance_acc after tunning')\n",
        "plt.ylabel('accuracy')\n",
        "plt.xlabel('epoch')\n",
        "plt.legend(['train', 'val'], loc='upper left')\n",
        "plt.show()"
      ]
    },
    {
      "cell_type": "markdown",
      "metadata": {
        "id": "3K908bbiYwbS"
      },
      "source": [
        "#Testing\n",
        "Result from ISIC Live\n",
        "last_model: 0.506\n",
        "best_model: 0.478"
      ]
    },
    {
      "cell_type": "code",
      "execution_count": 37,
      "metadata": {
        "id": "NeMY2yvMYxsC"
      },
      "outputs": [],
      "source": [
        "dir_test = '/content/drive/MyDrive/PHD/Datasets/isic2018/ISIC2018_Task3_Test_Input/'\n",
        "filepaths = sorted( filter( lambda x: (os.path.isfile(os.path.join(dir_test, x))) and (x.endswith('.jpg')),\n",
        "                        os.listdir(dir_test) ) )"
      ]
    },
    {
      "cell_type": "code",
      "execution_count": 38,
      "metadata": {
        "id": "6ic95mefkpG3"
      },
      "outputs": [],
      "source": [
        "df_test = pd.DataFrame(filepaths, columns =['image'])\n",
        "df_test['FilePaths'] = dir_test + df_test['image']\n",
        "#df_test"
      ]
    },
    {
      "cell_type": "code",
      "execution_count": 39,
      "metadata": {
        "id": "NBa1TxPuY8ni"
      },
      "outputs": [],
      "source": [
        "df_test['image_px'] = df_test['FilePaths'].map(lambda x: np.asarray(Image.open(x).resize(IMG_SIZE)))"
      ]
    },
    {
      "cell_type": "code",
      "execution_count": 40,
      "metadata": {
        "id": "60LYAT7VsNOZ",
        "colab": {
          "base_uri": "https://localhost:8080/"
        },
        "outputId": "ecef9903-6209-4925-d091-44b35c90edce"
      },
      "outputs": [
        {
          "output_type": "stream",
          "name": "stdout",
          "text": [
            "(1512, 224, 224, 3)\n"
          ]
        }
      ],
      "source": [
        "X_test = np.asarray(df_test['image_px'].tolist())\n",
        "print(np.array(X_test).shape)"
      ]
    },
    {
      "cell_type": "markdown",
      "metadata": {
        "id": "FF7ml90JZ8FK"
      },
      "source": [
        "Calculate y_pred from training and testing for analysis"
      ]
    },
    {
      "cell_type": "code",
      "execution_count": 41,
      "metadata": {
        "id": "dIX0AmEFNv3Y",
        "colab": {
          "base_uri": "https://localhost:8080/"
        },
        "outputId": "430f4e88-ad55-4fec-d830-6d03876ec4dc"
      },
      "outputs": [
        {
          "output_type": "stream",
          "name": "stdout",
          "text": [
            "Y_pred2 (1512, 7)\n",
            "y_pred2 1512\n"
          ]
        }
      ],
      "source": [
        "# predicted labels\n",
        "Y_pred2 = model.predict(X_test)\n",
        "print(\"Y_pred2\", Y_pred2.shape)\n",
        "# rounded labels\n",
        "y_pred2 = np.argmax(Y_pred2, axis=1)\n",
        "print(\"y_pred2\", y_pred2.size)"
      ]
    },
    {
      "cell_type": "code",
      "execution_count": 42,
      "metadata": {
        "id": "7oeArO5CtxGb"
      },
      "outputs": [],
      "source": [
        "df_pred = pd.DataFrame(Y_pred2, columns = ['AKIEC', 'BCC', 'BKL', 'DF', 'MEL', 'NV', 'VASC'])\n",
        "df_pred['image'] = df_test['FilePaths'].map(lambda x: x.replace(dir_test, '').replace('.jpg', ''))\n",
        "df_pred = df_pred[['image', 'MEL', 'NV', 'BCC', 'AKIEC', 'BKL', 'DF', 'VASC']]"
      ]
    },
    {
      "cell_type": "code",
      "execution_count": 43,
      "metadata": {
        "id": "sOnjc3RJ0e4T"
      },
      "outputs": [],
      "source": [
        "df_pred.set_index(\"image\", inplace = True)\n",
        "df_pred.to_csv('/content/drive/MyDrive/PHD/Datasets/isic2018/response_SMOTEOversampling_last.csv')"
      ]
    },
    {
      "cell_type": "markdown",
      "metadata": {
        "id": "eaK4zbtoaAaC"
      },
      "source": [
        "#Confusion Metric on Validation Set"
      ]
    },
    {
      "cell_type": "code",
      "execution_count": 44,
      "metadata": {
        "id": "E4nEpmkZaTZC",
        "colab": {
          "base_uri": "https://localhost:8080/"
        },
        "outputId": "49da278c-4e3e-4948-e328-ed61fab68761"
      },
      "outputs": [
        {
          "output_type": "stream",
          "name": "stdout",
          "text": [
            "[[ 0  1  4  0  3  0  0]\n",
            " [ 0  6  1  6  1  1  0]\n",
            " [ 0  0 13  1  7  1  0]\n",
            " [ 0  0  0  1  0  0  0]\n",
            " [ 0  0  3  0 18  0  0]\n",
            " [ 0  4  4  2 17 95  1]\n",
            " [ 0  0  0  2  0  0  1]]\n"
          ]
        }
      ],
      "source": [
        "#Get the confusion matrix\n",
        "cf_matrix = confusion_matrix(np.argmax(y_val, axis=1), np.argmax(y_val_pred, axis=1))\n",
        "\n",
        "print(cf_matrix)"
      ]
    },
    {
      "cell_type": "code",
      "execution_count": 45,
      "metadata": {
        "id": "gVtvW3YeaLlC",
        "colab": {
          "base_uri": "https://localhost:8080/",
          "height": 340
        },
        "outputId": "8cbc9335-0502-4706-bb06-7ab701863802"
      },
      "outputs": [
        {
          "output_type": "display_data",
          "data": {
            "text/plain": [
              "<Figure size 432x288 with 2 Axes>"
            ],
            "image/png": "[encoded data removed]"
          },
          "metadata": {
            "needs_background": "light"
          }
        }
      ],
      "source": [
        "ax = sns.heatmap(cf_matrix / cf_matrix.sum(axis=1, keepdims=True), annot=True, \n",
        "            cmap='Blues')\n",
        "\n",
        "ax.set_title('Confusion Matrix \\n');\n",
        "ax.set_xlabel('\\nPredicted')\n",
        "ax.set_ylabel('Actual ');\n",
        "\n",
        "## Ticket labels - List must be in alphabetical order\n",
        "ax.xaxis.set_ticklabels(['AKIEC', 'BCC', 'BKL', 'DF', 'MEL', 'NV', 'VASC'])\n",
        "ax.yaxis.set_ticklabels(['AKIEC', 'BCC', 'BKL', 'DF', 'MEL', 'NV', 'VASC'])\n",
        "\n",
        "plt.rcParams[\"figure.figsize\"] = (15,3)\n",
        "\n",
        "## Display the visualization of the Confusion Matrix.\n",
        "plt.xticks(rotation=45, ha='right')\n",
        "plt.yticks(rotation=0, ha='right')\n",
        "plt.show()"
      ]
    },
    {
      "cell_type": "code",
      "execution_count": 46,
      "metadata": {
        "id": "Ey-1yjWGeKs7",
        "colab": {
          "base_uri": "https://localhost:8080/",
          "height": 509
        },
        "outputId": "bfd12f4e-9ac9-4f66-eb5d-461b8f9901c6"
      },
      "outputs": [
        {
          "output_type": "execute_result",
          "data": {
            "text/plain": [
              "[Text(0, 0, 'AKIEC'),\n",
              " Text(0, 0, 'BCC'),\n",
              " Text(0, 0, 'BKL'),\n",
              " Text(0, 0, 'DF'),\n",
              " Text(0, 0, 'MEL'),\n",
              " Text(0, 0, 'NV'),\n",
              " Text(0, 0, 'VASC')]"
            ]
          },
          "metadata": {},
          "execution_count": 46
        },
        {
          "output_type": "display_data",
          "data": {
            "text/plain": [
              "<Figure size 1080x432 with 1 Axes>"
            ],
            "image/png": "[encoded data removed]"
          },
          "metadata": {
            "needs_background": "light"
          }
        }
      ],
      "source": [
        "# ordered count of rows per unique label\n",
        "labels_count = df_val['Labels'].value_counts().sort_index()\n",
        "\n",
        "f = plt.figure(figsize=(15, 6))\n",
        "s = sns.barplot(x=labels_count.index,y=labels_count.values)\n",
        "s.set_xticklabels(s.get_xticklabels(), rotation = 30)"
      ]
    }
  ],
  "metadata": {
    "accelerator": "GPU",
    "colab": {
      "collapsed_sections": [
        "uZv-B-ygCD57",
        "cNBXx28B9yGu",
        "0jrJ33lUDkCM",
        "3K908bbiYwbS"
      ],
      "machine_shape": "hm",
      "name": "Skin Cancer Diagnosis using ISIC 2018 Dataset.ipynb",
      "provenance": [],
      "include_colab_link": true
    },
    "gpuClass": "standard",
    "kernelspec": {
      "display_name": "Python 3",
      "name": "python3"
    },
    "language_info": {
      "name": "python"
    }
  },
  "nbformat": 4,
  "nbformat_minor": 0
}
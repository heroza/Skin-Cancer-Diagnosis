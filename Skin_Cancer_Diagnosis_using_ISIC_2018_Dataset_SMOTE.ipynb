{
  "cells": [
    {
      "cell_type": "markdown",
      "metadata": {
        "id": "view-in-github",
        "colab_type": "text"
      },
      "source": [
        "<a href=\"https://colab.research.google.com/github/heroza/Skin-Cancer-Diagnosis/blob/main/Skin_Cancer_Diagnosis_using_ISIC_2018_Dataset_SMOTE.ipynb\" target=\"_parent\"><img src=\"https://colab.research.google.com/assets/colab-badge.svg\" alt=\"Open In Colab\"/></a>"
      ]
    },
    {
      "cell_type": "markdown",
      "metadata": {
        "id": "PUusDE1Z9TNb"
      },
      "source": [
        "Prepare the dataset. \n",
        "Currently, we use skin cancer ISIC dataset from Kaggle https://www.kaggle.com/datasets/nodoubttome/skin-cancer9-classesisic\n",
        "\n",
        "Tutorial for how to load Kaggle dataset can be found in https://www.analyticsvidhya.com/blog/2021/06/how-to-load-kaggle-datasets-directly-into-google-colab/"
      ]
    },
    {
      "cell_type": "code",
      "execution_count": null,
      "metadata": {
        "colab": {
          "base_uri": "https://localhost:8080/"
        },
        "id": "Eus_4tUgfEk9",
        "outputId": "2f978142-44bf-4ab2-dadc-eb4e55ccb438"
      },
      "outputs": [
        {
          "name": "stdout",
          "output_type": "stream",
          "text": [
            "Mounted at /content/drive\n"
          ]
        }
      ],
      "source": [
        "from google.colab import drive\n",
        "drive.mount('/content/drive')"
      ]
    },
    {
      "cell_type": "markdown",
      "metadata": {
        "id": "RcRGeofw-8tK"
      },
      "source": [
        "#Load Data"
      ]
    },
    {
      "cell_type": "code",
      "execution_count": null,
      "metadata": {
        "colab": {
          "base_uri": "https://localhost:8080/"
        },
        "id": "nR2MJBYq-oiB",
        "outputId": "346111cf-1681-419c-8b4a-7321a5c50389"
      },
      "outputs": [
        {
          "name": "stdout",
          "output_type": "stream",
          "text": [
            "Looking in indexes: https://pypi.org/simple, https://us-python.pkg.dev/colab-wheels/public/simple/\n",
            "Requirement already satisfied: imbalanced-learn in /usr/local/lib/python3.7/dist-packages (0.8.1)\n",
            "Requirement already satisfied: numpy>=1.13.3 in /usr/local/lib/python3.7/dist-packages (from imbalanced-learn) (1.21.6)\n",
            "Requirement already satisfied: scikit-learn>=0.24 in /usr/local/lib/python3.7/dist-packages (from imbalanced-learn) (1.0.2)\n",
            "Requirement already satisfied: scipy>=0.19.1 in /usr/local/lib/python3.7/dist-packages (from imbalanced-learn) (1.7.3)\n",
            "Requirement already satisfied: joblib>=0.11 in /usr/local/lib/python3.7/dist-packages (from imbalanced-learn) (1.1.0)\n",
            "Requirement already satisfied: threadpoolctl>=2.0.0 in /usr/local/lib/python3.7/dist-packages (from scikit-learn>=0.24->imbalanced-learn) (3.1.0)\n"
          ]
        }
      ],
      "source": [
        "import pandas as pd\n",
        "import numpy as np\n",
        "import tensorflow as tf\n",
        "import matplotlib.pyplot as plt\n",
        "import seaborn as sns\n",
        "import os\n",
        "from pathlib import Path\n",
        "from PIL import Image\n",
        "from sklearn import preprocessing\n",
        "from sklearn.metrics import precision_recall_fscore_support\n",
        "from sklearn.metrics import confusion_matrix\n",
        "from keras.callbacks import ReduceLROnPlateau, EarlyStopping, ModelCheckpoint\n",
        "from keras.preprocessing.image import ImageDataGenerator\n",
        "from tensorflow.keras.optimizers import Adam, SGD\n",
        "from tensorflow.keras.preprocessing import image\n",
        "from tensorflow.keras.applications.resnet50 import ResNet50, preprocess_input, decode_predictions\n",
        "from tensorflow.keras.layers import GlobalAveragePooling2D, Dense, Input, Dropout, Flatten\n",
        "from tensorflow.keras.models import Model, load_model\n",
        "\n",
        "!pip install imbalanced-learn\n",
        "import imblearn\n",
        "from imblearn.over_sampling import SMOTE"
      ]
    },
    {
      "cell_type": "code",
      "execution_count": null,
      "metadata": {
        "id": "3mnEebdJH6Ex"
      },
      "outputs": [],
      "source": [
        "df_train = pd.read_csv('/content/drive/MyDrive/PHD/Datasets/isic2018/ISIC2018_Task3_Training_GroundTruth/ISIC2018_Task3_Training_GroundTruth.csv') \n",
        "df_val = pd.read_csv('/content/drive/MyDrive/PHD/Datasets/isic2018/ISIC2018_Task3_Validation_GroundTruth/ISIC2018_Task3_Validation_GroundTruth.csv') \n",
        "num_classes = 7\n",
        "#df_train"
      ]
    },
    {
      "cell_type": "code",
      "execution_count": null,
      "metadata": {
        "id": "aFSe3uekK67v"
      },
      "outputs": [],
      "source": [
        "#decode one hot label\n",
        "df_train[\"Labels\"] = (df_train.iloc[:, 1:]).idxmax(axis=1)\n",
        "df_val[\"Labels\"] = (df_val.iloc[:, 1:]).idxmax(axis=1)\n",
        "\n",
        "#drop one-hot column\n",
        "df_train = df_train.drop(columns=['MEL', 'NV', 'BCC', 'AKIEC', 'BKL', 'DF', 'VASC'])\n",
        "df_val = df_val.drop(columns=['MEL', 'NV', 'BCC', 'AKIEC', 'BKL', 'DF', 'VASC'])\n",
        "\n",
        "#make filepaths of the image\n",
        "dir_train = '/content/drive/MyDrive/PHD/Datasets/isic2018/ISIC2018_Task3_Training_Input/'\n",
        "dir_val = '/content/drive/MyDrive/PHD/Datasets/isic2018/ISIC2018_Task3_Validation_Input/'\n",
        "df_train['FilePaths'] = dir_train + df_train['image'] + '.jpg'\n",
        "df_val['FilePaths'] = dir_val + df_val['image'] + '.jpg'"
      ]
    },
    {
      "cell_type": "markdown",
      "metadata": {
        "id": "38f3dgvyBqFM"
      },
      "source": [
        "Label Distribution"
      ]
    },
    {
      "cell_type": "code",
      "execution_count": null,
      "metadata": {
        "colab": {
          "base_uri": "https://localhost:8080/",
          "height": 512
        },
        "id": "2IncA-_o_n5w",
        "outputId": "36b929fa-c3aa-48f7-a9ee-7d317d309257"
      },
      "outputs": [
        {
          "data": {
            "text/plain": [
              "[Text(0, 0, 'DF'),\n",
              " Text(0, 0, 'VASC'),\n",
              " Text(0, 0, 'AKIEC'),\n",
              " Text(0, 0, 'BCC'),\n",
              " Text(0, 0, 'BKL'),\n",
              " Text(0, 0, 'MEL'),\n",
              " Text(0, 0, 'NV')]"
            ]
          },
          "execution_count": 4,
          "metadata": {},
          "output_type": "execute_result"
        },
        {
          "data": {
            "image/png": "[encoded data removed]",
            "text/plain": [
              "<Figure size 1080x432 with 1 Axes>"
            ]
          },
          "metadata": {},
          "output_type": "display_data"
        }
      ],
      "source": [
        "# ordered count of rows per unique label\n",
        "labels_count = df_train['Labels'].value_counts(ascending=True)\n",
        "\n",
        "f = plt.figure(figsize=(15, 6))\n",
        "s = sns.barplot(x=labels_count.index,y=labels_count.values)\n",
        "s.set_xticklabels(s.get_xticklabels(), rotation = 30)"
      ]
    },
    {
      "cell_type": "markdown",
      "metadata": {
        "id": "AnKMKSb4Bkym"
      },
      "source": [
        "Plot 3 images per label"
      ]
    },
    {
      "cell_type": "code",
      "execution_count": null,
      "metadata": {
        "id": "jdnVuqbFBW3K"
      },
      "outputs": [],
      "source": [
        "def plot_images_per_label(df, label, cols: int, size: tuple):\n",
        "    fig, axs = plt.subplots(nrows=1, ncols=cols, figsize=size)\n",
        "\n",
        "    cntMax = cols\n",
        "    cntCur = 0\n",
        "    for index, row in df.iterrows():\n",
        "        if(row['Labels'] == label and cntCur < cntMax):\n",
        "            axs[cntCur].imshow(plt.imread(df.FilePaths[index]))\n",
        "            axs[cntCur].set_title(df.Labels[index])\n",
        "\n",
        "            cntCur += 1\n",
        "        else:\n",
        "            if(cntCur >= cntMax):\n",
        "                break\n",
        "    \n",
        "    plt.tight_layout()\n",
        "    plt.show()\n",
        "\n",
        "\n",
        "# unique labels\n",
        "labels = sorted(df_train['Labels'].unique())\n",
        "#for label in labels:\n",
        "#    plot_images_per_label(df_train, label, 3, (12,9))"
      ]
    },
    {
      "cell_type": "markdown",
      "metadata": {
        "id": "qRKKrNacAZtl"
      },
      "source": [
        "Drop duplicate images"
      ]
    },
    {
      "cell_type": "code",
      "execution_count": null,
      "metadata": {
        "id": "ERwfyPDHP-zC"
      },
      "outputs": [],
      "source": [
        "df_group = pd.read_csv('/content/drive/MyDrive/PHD/Datasets/isic2018/ISIC2018_Task3_Training_LesionGroupings.csv') \n",
        "df_train = df_train.set_index('image').join(df_group.set_index('image'))\n",
        "df_train = df_train.drop_duplicates(subset=['lesion_id'])\n"
      ]
    },
    {
      "cell_type": "markdown",
      "metadata": {
        "id": "h35T8vKRVV1Y"
      },
      "source": [
        "Manual undersampling majority class"
      ]
    },
    {
      "cell_type": "code",
      "execution_count": null,
      "metadata": {
        "id": "BeldhlTdVQlT"
      },
      "outputs": [],
      "source": [
        "df_train = df_train.drop(df_train[df_train['Labels'] == 'NV'].sample(frac=.3).index)"
      ]
    },
    {
      "cell_type": "markdown",
      "metadata": {
        "id": "DKjC59JOB_6d"
      },
      "source": [
        "Prepare X,y"
      ]
    },
    {
      "cell_type": "code",
      "execution_count": null,
      "metadata": {
        "id": "9-c7Xghg4SB4"
      },
      "outputs": [],
      "source": [
        "# input image size\n",
        "IMAGE_W = 224\n",
        "IMAGE_H = 224\n",
        "IMG_SIZE = (IMAGE_W,IMAGE_H)"
      ]
    },
    {
      "cell_type": "code",
      "execution_count": null,
      "metadata": {
        "id": "3jyCpXnlFoQK"
      },
      "outputs": [],
      "source": [
        "#TIME CONSUMING OPERATION\n",
        "#from tensorflow.keras.preprocessing.image import load_img, img_to_array\n",
        "#X = []\n",
        "#for img in df['FilePaths']:\n",
        "    #img_arr = load_img(img, target_size=IMG_SIZE)\n",
        "#    with load_img(img, target_size=IMG_SIZE) as img_arr:\n",
        "#      X.append(img_to_array(img_arr))\n",
        "\n",
        "#X = np.array(X)\n",
        "df_train['image_px'] = df_train['FilePaths'].map(lambda x: np.asarray(Image.open(x).resize(IMG_SIZE)))\n",
        "df_val['image_px'] = df_val['FilePaths'].map(lambda x: np.asarray(Image.open(x).resize(IMG_SIZE)))\n"
      ]
    },
    {
      "cell_type": "code",
      "execution_count": null,
      "metadata": {
        "colab": {
          "base_uri": "https://localhost:8080/"
        },
        "id": "UZyZMydSgvZo",
        "outputId": "0e1821f8-3736-4079-b159-b2a0532029d9"
      },
      "outputs": [
        {
          "name": "stdout",
          "output_type": "stream",
          "text": [
            "(8003, 224, 224, 3)\n",
            "(193, 224, 224, 3)\n"
          ]
        }
      ],
      "source": [
        "X_train = np.asarray(df_train['image_px'].tolist())\n",
        "X_val = np.asarray(df_val['image_px'].tolist())\n",
        "print(np.array(X_train).shape)\n",
        "print(np.array(X_val).shape)"
      ]
    },
    {
      "cell_type": "code",
      "execution_count": null,
      "metadata": {
        "id": "RAxUkXy8ueYG"
      },
      "outputs": [],
      "source": [
        "#Normalization\n",
        "#X_train_mean = np.mean(X_train)\n",
        "#X_train_std = np.std(X_train)\n",
        "\n",
        "#X_train = (X_train - X_train_mean)/X_train_std\n",
        "#X_val = (X_val - X_train_mean)/X_train_std"
      ]
    },
    {
      "cell_type": "code",
      "execution_count": null,
      "metadata": {
        "colab": {
          "base_uri": "https://localhost:8080/"
        },
        "id": "uqYLmicGAjZz",
        "outputId": "747dddf6-55c4-456e-f39a-7a5d34d4622e"
      },
      "outputs": [
        {
          "name": "stdout",
          "output_type": "stream",
          "text": [
            "Counter({'NV': 4693, 'MEL': 1113, 'BKL': 1099, 'BCC': 514, 'AKIEC': 327, 'VASC': 142, 'DF': 115})\n",
            "(8003,)\n"
          ]
        }
      ],
      "source": [
        "y_train = np.array(df_train['Labels'].values)\n",
        "\n",
        "# summarize class distribution\n",
        "from collections import Counter\n",
        "counter = Counter(y_train)\n",
        "print(counter)\n",
        "print(y_train.shape)"
      ]
    },
    {
      "cell_type": "code",
      "execution_count": null,
      "metadata": {
        "colab": {
          "base_uri": "https://localhost:8080/"
        },
        "id": "kEuVIGc3g859",
        "outputId": "7e6143c2-3a8d-46d3-9440-df68756b998d"
      },
      "outputs": [
        {
          "name": "stdout",
          "output_type": "stream",
          "text": [
            "Counter({'NV': 123, 'BKL': 22, 'MEL': 21, 'BCC': 15, 'AKIEC': 8, 'VASC': 3, 'DF': 1})\n",
            "(193,)\n"
          ]
        }
      ],
      "source": [
        "y_val = np.array(df_val['Labels'].values)\n",
        "print(Counter(y_val))\n",
        "print(y_val.shape)"
      ]
    },
    {
      "cell_type": "code",
      "execution_count": null,
      "metadata": {
        "colab": {
          "base_uri": "https://localhost:8080/"
        },
        "id": "QfvEVGIQhIr2",
        "outputId": "496e7f2a-0423-4313-bab9-e9a9a63c070a"
      },
      "outputs": [
        {
          "data": {
            "text/plain": [
              "array([5, 5, 5, ..., 4, 2, 5])"
            ]
          },
          "execution_count": 15,
          "metadata": {},
          "output_type": "execute_result"
        }
      ],
      "source": [
        "#label encoding\n",
        "label_encoder = preprocessing.LabelEncoder()\n",
        "y_train = label_encoder.fit_transform(y_train)\n",
        "y_val = label_encoder.fit_transform(y_val)\n",
        "y_train"
      ]
    },
    {
      "cell_type": "code",
      "execution_count": null,
      "metadata": {
        "id": "jLHRj-xqk98R"
      },
      "outputs": [],
      "source": [
        "from sklearn.utils import class_weight\n",
        "class_weights = class_weight.compute_class_weight(class_weight='balanced',\n",
        "                                                 classes=np.unique(y_train),\n",
        "                                                 y=y_train)"
      ]
    },
    {
      "cell_type": "code",
      "execution_count": null,
      "metadata": {
        "id": "EAIOkkQogqZI"
      },
      "outputs": [],
      "source": [
        "class_weights = {i : class_weights[i] for i in range(7)}"
      ]
    },
    {
      "cell_type": "code",
      "execution_count": null,
      "metadata": {
        "colab": {
          "base_uri": "https://localhost:8080/"
        },
        "id": "g8Jc9A3IgwHS",
        "outputId": "17f9577a-9285-4701-a0e5-f8daffa5ea51"
      },
      "outputs": [
        {
          "data": {
            "text/plain": [
              "{0: 4.375273044997815,\n",
              " 1: 2.78349082823791,\n",
              " 2: 1.301832835044846,\n",
              " 3: 12.440993788819876,\n",
              " 4: 1.2854575792581184,\n",
              " 5: 0.21338020666879728,\n",
              " 6: 10.075452716297788}"
            ]
          },
          "execution_count": 33,
          "metadata": {},
          "output_type": "execute_result"
        }
      ],
      "source": [
        "class_weights"
      ]
    },
    {
      "cell_type": "markdown",
      "metadata": {
        "id": "uZv-B-ygCD57"
      },
      "source": [
        "#SMOTE Oversampling"
      ]
    },
    {
      "cell_type": "code",
      "execution_count": null,
      "metadata": {
        "id": "RDskF1wjGffh"
      },
      "outputs": [],
      "source": [
        "def SMOTE_Data(X, y):\n",
        "  sm = SMOTE(random_state=42, k_neighbors=5)\n",
        "  X_resampled, y_resampled = sm.fit_resample(X.reshape((-1, IMAGE_W * IMAGE_H * 3)), y)\n",
        "  X_resampled.reshape(-1, IMAGE_W, IMAGE_H, 3)\n",
        "  return X_resampled, y_resampled"
      ]
    },
    {
      "cell_type": "code",
      "execution_count": null,
      "metadata": {
        "colab": {
          "base_uri": "https://localhost:8080/"
        },
        "id": "brshqGvOCDJL",
        "outputId": "62c7d6f1-dd65-4a84-ed5f-01d91a88caa0"
      },
      "outputs": [
        {
          "name": "stdout",
          "output_type": "stream",
          "text": [
            "(32851, 150528)\n",
            "(32851,)\n"
          ]
        }
      ],
      "source": [
        "X_train, y_train = SMOTE_Data(X_train, y_train) #beware of the actual parameter\n",
        "print(X_train.shape)\n",
        "print(y_train.shape)"
      ]
    },
    {
      "cell_type": "code",
      "execution_count": null,
      "metadata": {
        "colab": {
          "base_uri": "https://localhost:8080/"
        },
        "id": "8GfOtcbV5vVZ",
        "outputId": "124a8626-20f3-4fe4-a463-20245773a69f"
      },
      "outputs": [
        {
          "name": "stdout",
          "output_type": "stream",
          "text": [
            "Counter({5: 4693, 4: 4693, 2: 4693, 3: 4693, 0: 4693, 1: 4693, 6: 4693})\n"
          ]
        }
      ],
      "source": [
        "counter = Counter(y_train)\n",
        "print(counter)"
      ]
    },
    {
      "cell_type": "code",
      "execution_count": null,
      "metadata": {
        "colab": {
          "base_uri": "https://localhost:8080/"
        },
        "id": "dl-nmACZOZpg",
        "outputId": "1124e3a8-67ea-454c-91b3-80ce486b9f14"
      },
      "outputs": [
        {
          "name": "stdout",
          "output_type": "stream",
          "text": [
            "X_train shape:  (32851, 224, 224, 3)\n"
          ]
        }
      ],
      "source": [
        "X_train = X_train.reshape(-1, IMAGE_W, IMAGE_H, 3)\n",
        "print('X_train shape: ',X_train.shape)"
      ]
    },
    {
      "cell_type": "markdown",
      "metadata": {
        "id": "cNBXx28B9yGu"
      },
      "source": [
        "#DeepSMOTE Oversampling"
      ]
    },
    {
      "cell_type": "code",
      "execution_count": null,
      "metadata": {
        "colab": {
          "base_uri": "https://localhost:8080/"
        },
        "id": "vi8RRUWEBD3s",
        "outputId": "4451daeb-0165-40d7-b76a-c4c90fcbe1fa"
      },
      "outputs": [
        {
          "data": {
            "text/plain": [
              "(4986, 32, 32, 3)"
            ]
          },
          "execution_count": 79,
          "metadata": {},
          "output_type": "execute_result"
        }
      ],
      "source": [
        "X_train.shape"
      ]
    },
    {
      "cell_type": "code",
      "execution_count": null,
      "metadata": {
        "id": "h-Xqj-WQ90L_"
      },
      "outputs": [],
      "source": [
        "#optional\n",
        "X=X_train\n",
        "y=y_train\n",
        "\n",
        "from numpy import moveaxis\n",
        "dec_x = moveaxis(X, 3, 1)\n",
        "dec_x = dec_x.astype('float32') / 255.\n",
        "#dec_x = X_train \n",
        "dec_y = y\n",
        "\n",
        "#create counter for encoder\n",
        "counter = sorted(counter.items())\n",
        "counter = [value for _, value in counter]"
      ]
    },
    {
      "cell_type": "code",
      "execution_count": null,
      "metadata": {
        "colab": {
          "base_uri": "https://localhost:8080/"
        },
        "id": "0kMMmX7r-fV5",
        "outputId": "d3648cdf-7d3e-4255-d712-dec90b542d1e"
      },
      "outputs": [
        {
          "name": "stdout",
          "output_type": "stream",
          "text": [
            "11.3\n"
          ]
        }
      ],
      "source": [
        "import torch\n",
        "import torch.nn as nn\n",
        "from torch.utils.data import TensorDataset\n",
        "from sklearn.neighbors import NearestNeighbors\n",
        "import time\n",
        "import os\n",
        "\n",
        "print(torch.version.cuda) #10.1\n",
        "\n",
        "args = {}\n",
        "args['dim_h'] = 64         # factor controlling size of hidden layers\n",
        "args['n_channel'] = 3#1    # number of channels in the input data \n",
        "\n",
        "args['n_z'] = 600 #300     # number of dimensions in latent space. \n",
        "\n",
        "args['sigma'] = 1.0        # variance in n_z\n",
        "args['lambda'] = 0.01      # hyper param for weight of discriminator loss\n",
        "args['lr'] = 0.0002        # learning rate for Adam optimizer .000\n",
        "args['epochs'] = 1000       # how many epochs to run for\n",
        "args['batch_size'] = 12   # batch size for SGD\n",
        "args['save'] = True        # save weights at each epoch of training if True\n",
        "args['train'] = True       # train networks if True, else load networks from\n",
        "\n",
        "args['patience'] = 20\n",
        "\n",
        "## create encoder model and decoder model\n",
        "class Encoder(nn.Module):\n",
        "    def __init__(self, args):\n",
        "        super(Encoder, self).__init__()\n",
        "\n",
        "        self.n_channel = args['n_channel']\n",
        "        self.dim_h = args['dim_h']\n",
        "        self.n_z = args['n_z']\n",
        "        \n",
        "        # convolutional filters, work excellent with image data\n",
        "        self.conv = nn.Sequential(\n",
        "            nn.Conv2d(self.n_channel, self.dim_h, 4, 2, 1, bias=False),\n",
        "            #nn.ReLU(True),\n",
        "            nn.LeakyReLU(0.2, inplace=True),\n",
        "            nn.Conv2d(self.dim_h, self.dim_h * 2, 4, 2, 1, bias=False),\n",
        "            nn.BatchNorm2d(self.dim_h * 2),\n",
        "            #nn.ReLU(True),\n",
        "            nn.LeakyReLU(0.2, inplace=True),\n",
        "            nn.Conv2d(self.dim_h * 2, self.dim_h * 4, 4, 2, 1, bias=False),\n",
        "            nn.BatchNorm2d(self.dim_h * 4),\n",
        "            #nn.ReLU(True),\n",
        "            nn.LeakyReLU(0.2, inplace=True),\n",
        "            \n",
        "            \n",
        "            #nn.Conv2d(self.dim_h * 4, self.dim_h * 8, 4, 2, 0, bias=False),\n",
        "            \n",
        "            #3d and 32 by 32\n",
        "            nn.Conv2d(self.dim_h * 4, self.dim_h * 8, 4, 1, 0, bias=False),\n",
        "            \n",
        "            nn.BatchNorm2d(self.dim_h * 8), # 40 X 8 = 320\n",
        "            #nn.ReLU(True),\n",
        "            nn.LeakyReLU(0.2, inplace=True) )#,\n",
        "            #nn.Conv2d(self.dim_h * 8, 1, 2, 1, 0, bias=False))\n",
        "            #nn.Conv2d(self.dim_h * 8, 1, 4, 1, 0, bias=False))\n",
        "        # final layer is fully connected\n",
        "        self.fc = nn.Linear(self.dim_h * (2 ** 3), self.n_z)\n",
        "        \n",
        "\n",
        "    def forward(self, x):\n",
        "        #print('enc')\n",
        "        #print('input ',x.size()) #torch.Size([100, 3,32,32])\n",
        "        x = self.conv(x)\n",
        "        \n",
        "        x = x.squeeze()\n",
        "        #print('aft squeeze ',x.size()) #torch.Size([128, 320])\n",
        "        #aft squeeze  torch.Size([100, 320])\n",
        "        x = self.fc(x)\n",
        "        #print('out ',x.size()) #torch.Size([128, 20])\n",
        "        #out  torch.Size([100, 300])\n",
        "        return x\n",
        "\n",
        "\n",
        "class Decoder(nn.Module):\n",
        "    def __init__(self, args):\n",
        "        super(Decoder, self).__init__()\n",
        "\n",
        "        self.n_channel = args['n_channel']\n",
        "        self.dim_h = args['dim_h']\n",
        "        self.n_z = args['n_z']\n",
        "\n",
        "        # first layer is fully connected\n",
        "        self.fc = nn.Sequential(\n",
        "            nn.Linear(self.n_z, self.dim_h * 2**4 * 8 * 8),\n",
        "            nn.ReLU())\n",
        "\n",
        "        # deconvolutional filters, essentially inverse of convolutional filters\n",
        "        self.deconv = nn.Sequential(\n",
        "            nn.ConvTranspose2d(self.dim_h * 16, self.dim_h * 8, 4),\n",
        "            nn.BatchNorm2d(self.dim_h * 8),\n",
        "            nn.ReLU(True),\n",
        "            nn.ConvTranspose2d(self.dim_h * 8, self.dim_h * 4, 4),\n",
        "            nn.BatchNorm2d(self.dim_h * 4),\n",
        "            nn.ReLU(True),\n",
        "            nn.ConvTranspose2d(self.dim_h * 4, self.dim_h * 2, 4),\n",
        "            nn.BatchNorm2d(self.dim_h * 2),\n",
        "            nn.ReLU(True),\n",
        "            nn.ConvTranspose2d(self.dim_h * 2, 3, 4, stride=2, padding=2),\n",
        "            #nn.Sigmoid())\n",
        "            nn.Tanh())\n",
        "\n",
        "    def forward(self, x):\n",
        "        #print('dec')\n",
        "        #print('input ',x.size())\n",
        "        x = self.fc(x)\n",
        "        x = x.view(-1, self.dim_h * 2**4, 8, 8)\n",
        "        x = self.deconv(x)\n",
        "        return x\n",
        "\n",
        "##############################################################################\n",
        "\"\"\"set models, loss functions\"\"\"\n",
        "# control which parameters are frozen / free for optimization\n",
        "def free_params(module: nn.Module):\n",
        "    for p in module.parameters():\n",
        "        p.requires_grad = True\n",
        "\n",
        "def frozen_params(module: nn.Module):\n",
        "    for p in module.parameters():\n",
        "        p.requires_grad = False\n",
        "\n",
        "\n",
        "##############################################################################\n",
        "\"\"\"functions to create SMOTE images\"\"\"\n",
        "\n",
        "def biased_get_class(c):\n",
        "    \n",
        "    xbeg = dec_x[dec_y == c]\n",
        "    ybeg = dec_y[dec_y == c]\n",
        "    \n",
        "    return xbeg, ybeg\n",
        "    #return xclass, yclass\n",
        "\n",
        "\n",
        "def G_SM(X, y,n_to_sample,cl):\n",
        "\n",
        "    # determining the number of samples to generate\n",
        "    #n_to_sample = 10 \n",
        "\n",
        "    # fitting the model\n",
        "    n_neigh = 5 + 1\n",
        "    nn = NearestNeighbors(n_neighbors=n_neigh, n_jobs=1)\n",
        "    nn.fit(X)\n",
        "    dist, ind = nn.kneighbors(X)\n",
        "\n",
        "    # generating samples\n",
        "    base_indices = np.random.choice(list(range(len(X))),n_to_sample)\n",
        "    neighbor_indices = np.random.choice(list(range(1, n_neigh)),n_to_sample)\n",
        "\n",
        "    X_base = X[base_indices]\n",
        "    X_neighbor = X[ind[base_indices, neighbor_indices]]\n",
        "\n",
        "    samples = X_base + np.multiply(np.random.rand(n_to_sample,1),\n",
        "            X_neighbor - X_base)\n",
        "\n",
        "    #use 10 as label because 0 to 9 real classes and 1 fake/smoted = 10\n",
        "    return samples, [cl]*n_to_sample\n",
        "\n",
        "#xsamp, ysamp = SM(xclass,yclass)"
      ]
    },
    {
      "cell_type": "code",
      "execution_count": null,
      "metadata": {
        "colab": {
          "base_uri": "https://localhost:8080/"
        },
        "id": "oHtLISURIMTg",
        "outputId": "233e5edf-bf0b-46f0-8bfd-f436597063bc"
      },
      "outputs": [
        {
          "name": "stdout",
          "output_type": "stream",
          "text": [
            "cuda\n",
            "Epoch: 0 \tTrain Loss: 0.460336 \tmse loss: 0.240478 \tmse2 loss: 0.219858\n",
            "Saving..\n",
            "Epoch: 1 \tTrain Loss: 0.135306 \tmse loss: 0.070629 \tmse2 loss: 0.064677\n",
            "Saving..\n",
            "Epoch: 2 \tTrain Loss: 0.109741 \tmse loss: 0.058832 \tmse2 loss: 0.050909\n",
            "Saving..\n",
            "Epoch: 3 \tTrain Loss: 0.095568 \tmse loss: 0.049689 \tmse2 loss: 0.045879\n",
            "Saving..\n",
            "Epoch: 4 \tTrain Loss: 0.085469 \tmse loss: 0.045838 \tmse2 loss: 0.039631\n",
            "Saving..\n",
            "Epoch: 5 \tTrain Loss: 0.078804 \tmse loss: 0.043548 \tmse2 loss: 0.035256\n",
            "Saving..\n",
            "Epoch: 6 \tTrain Loss: 0.075646 \tmse loss: 0.041972 \tmse2 loss: 0.033674\n",
            "Saving..\n",
            "Epoch: 7 \tTrain Loss: 0.073979 \tmse loss: 0.040878 \tmse2 loss: 0.033101\n",
            "Saving..\n",
            "Epoch: 8 \tTrain Loss: 0.065938 \tmse loss: 0.037266 \tmse2 loss: 0.028672\n",
            "Saving..\n",
            "Epoch: 9 \tTrain Loss: 0.061393 \tmse loss: 0.035039 \tmse2 loss: 0.026353\n",
            "Saving..\n",
            "Epoch: 10 \tTrain Loss: 0.060747 \tmse loss: 0.034673 \tmse2 loss: 0.026074\n",
            "Saving..\n",
            "Epoch: 11 \tTrain Loss: 0.057085 \tmse loss: 0.032988 \tmse2 loss: 0.024097\n",
            "Saving..\n",
            "Epoch: 12 \tTrain Loss: 0.054603 \tmse loss: 0.032039 \tmse2 loss: 0.022565\n",
            "Saving..\n",
            "Epoch: 13 \tTrain Loss: 0.050429 \tmse loss: 0.029791 \tmse2 loss: 0.020638\n",
            "Saving..\n",
            "Epoch: 14 \tTrain Loss: 0.046142 \tmse loss: 0.027602 \tmse2 loss: 0.018541\n",
            "Saving..\n",
            "Epoch: 15 \tTrain Loss: 0.046039 \tmse loss: 0.027895 \tmse2 loss: 0.018143\n",
            "Saving..\n",
            "Epoch: 16 \tTrain Loss: 0.043569 \tmse loss: 0.026308 \tmse2 loss: 0.017261\n",
            "Saving..\n",
            "Epoch: 17 \tTrain Loss: 0.043104 \tmse loss: 0.026006 \tmse2 loss: 0.017098\n",
            "Saving..\n",
            "Epoch: 18 \tTrain Loss: 0.040572 \tmse loss: 0.024558 \tmse2 loss: 0.016013\n",
            "Saving..\n",
            "Epoch: 19 \tTrain Loss: 0.038300 \tmse loss: 0.023391 \tmse2 loss: 0.014909\n",
            "Saving..\n",
            "Epoch: 20 \tTrain Loss: 0.036967 \tmse loss: 0.022767 \tmse2 loss: 0.014200\n",
            "Saving..\n",
            "Epoch: 21 \tTrain Loss: 0.036967 \tmse loss: 0.022921 \tmse2 loss: 0.014046\n",
            "Epoch: 22 \tTrain Loss: 0.035027 \tmse loss: 0.021855 \tmse2 loss: 0.013172\n",
            "Saving..\n",
            "Epoch: 23 \tTrain Loss: 0.033657 \tmse loss: 0.021259 \tmse2 loss: 0.012399\n",
            "Saving..\n",
            "Epoch: 24 \tTrain Loss: 0.032991 \tmse loss: 0.020740 \tmse2 loss: 0.012252\n",
            "Saving..\n",
            "Epoch: 25 \tTrain Loss: 0.031015 \tmse loss: 0.019649 \tmse2 loss: 0.011366\n",
            "Saving..\n",
            "Epoch: 26 \tTrain Loss: 0.030275 \tmse loss: 0.019245 \tmse2 loss: 0.011030\n",
            "Saving..\n",
            "Epoch: 27 \tTrain Loss: 0.029004 \tmse loss: 0.018351 \tmse2 loss: 0.010652\n",
            "Saving..\n",
            "Epoch: 28 \tTrain Loss: 0.028609 \tmse loss: 0.018064 \tmse2 loss: 0.010545\n",
            "Saving..\n",
            "Epoch: 29 \tTrain Loss: 0.027706 \tmse loss: 0.017893 \tmse2 loss: 0.009813\n",
            "Saving..\n",
            "Epoch: 30 \tTrain Loss: 0.025469 \tmse loss: 0.016538 \tmse2 loss: 0.008932\n",
            "Saving..\n",
            "Epoch: 31 \tTrain Loss: 0.026071 \tmse loss: 0.016664 \tmse2 loss: 0.009408\n",
            "Epoch: 32 \tTrain Loss: 0.025624 \tmse loss: 0.016482 \tmse2 loss: 0.009142\n",
            "Epoch: 33 \tTrain Loss: 0.024203 \tmse loss: 0.015747 \tmse2 loss: 0.008456\n",
            "Saving..\n",
            "Epoch: 34 \tTrain Loss: 0.024451 \tmse loss: 0.015649 \tmse2 loss: 0.008803\n",
            "Epoch: 35 \tTrain Loss: 0.023914 \tmse loss: 0.015583 \tmse2 loss: 0.008331\n",
            "Saving..\n",
            "Epoch: 36 \tTrain Loss: 0.021918 \tmse loss: 0.014221 \tmse2 loss: 0.007696\n",
            "Saving..\n",
            "Epoch: 37 \tTrain Loss: 0.022003 \tmse loss: 0.014464 \tmse2 loss: 0.007538\n",
            "Epoch: 38 \tTrain Loss: 0.021623 \tmse loss: 0.014253 \tmse2 loss: 0.007370\n",
            "Saving..\n",
            "Epoch: 39 \tTrain Loss: 0.021462 \tmse loss: 0.013977 \tmse2 loss: 0.007485\n",
            "Saving..\n",
            "Epoch: 40 \tTrain Loss: 0.021446 \tmse loss: 0.014052 \tmse2 loss: 0.007394\n",
            "Saving..\n",
            "Epoch: 41 \tTrain Loss: 0.019796 \tmse loss: 0.013020 \tmse2 loss: 0.006776\n",
            "Saving..\n",
            "Epoch: 42 \tTrain Loss: 0.019911 \tmse loss: 0.013204 \tmse2 loss: 0.006707\n",
            "Epoch: 43 \tTrain Loss: 0.020062 \tmse loss: 0.013419 \tmse2 loss: 0.006643\n",
            "Epoch: 44 \tTrain Loss: 0.019150 \tmse loss: 0.012785 \tmse2 loss: 0.006364\n",
            "Saving..\n",
            "Epoch: 45 \tTrain Loss: 0.018729 \tmse loss: 0.012455 \tmse2 loss: 0.006274\n",
            "Saving..\n",
            "Epoch: 46 \tTrain Loss: 0.019136 \tmse loss: 0.012741 \tmse2 loss: 0.006395\n",
            "Epoch: 47 \tTrain Loss: 0.017625 \tmse loss: 0.011815 \tmse2 loss: 0.005809\n",
            "Saving..\n",
            "Epoch: 48 \tTrain Loss: 0.018012 \tmse loss: 0.012037 \tmse2 loss: 0.005975\n",
            "Epoch: 49 \tTrain Loss: 0.017280 \tmse loss: 0.011525 \tmse2 loss: 0.005755\n",
            "Saving..\n",
            "Epoch: 50 \tTrain Loss: 0.017411 \tmse loss: 0.011715 \tmse2 loss: 0.005696\n",
            "Epoch: 51 \tTrain Loss: 0.017844 \tmse loss: 0.011775 \tmse2 loss: 0.006069\n",
            "Epoch: 52 \tTrain Loss: 0.016566 \tmse loss: 0.011062 \tmse2 loss: 0.005504\n",
            "Saving..\n",
            "Epoch: 53 \tTrain Loss: 0.016378 \tmse loss: 0.010894 \tmse2 loss: 0.005484\n",
            "Saving..\n",
            "Epoch: 54 \tTrain Loss: 0.017184 \tmse loss: 0.011550 \tmse2 loss: 0.005633\n",
            "Epoch: 55 \tTrain Loss: 0.015793 \tmse loss: 0.010701 \tmse2 loss: 0.005092\n",
            "Saving..\n",
            "Epoch: 56 \tTrain Loss: 0.015438 \tmse loss: 0.010300 \tmse2 loss: 0.005138\n",
            "Saving..\n",
            "Epoch: 57 \tTrain Loss: 0.016157 \tmse loss: 0.010662 \tmse2 loss: 0.005495\n",
            "Epoch: 58 \tTrain Loss: 0.015244 \tmse loss: 0.010235 \tmse2 loss: 0.005009\n",
            "Saving..\n",
            "Epoch: 59 \tTrain Loss: 0.014930 \tmse loss: 0.010095 \tmse2 loss: 0.004835\n",
            "Saving..\n",
            "Epoch: 60 \tTrain Loss: 0.015409 \tmse loss: 0.010347 \tmse2 loss: 0.005062\n",
            "Epoch: 61 \tTrain Loss: 0.015219 \tmse loss: 0.010300 \tmse2 loss: 0.004919\n",
            "Epoch: 62 \tTrain Loss: 0.014006 \tmse loss: 0.009613 \tmse2 loss: 0.004393\n",
            "Saving..\n",
            "Epoch: 63 \tTrain Loss: 0.014490 \tmse loss: 0.009821 \tmse2 loss: 0.004669\n",
            "Epoch: 64 \tTrain Loss: 0.014394 \tmse loss: 0.009778 \tmse2 loss: 0.004616\n",
            "Epoch: 65 \tTrain Loss: 0.014505 \tmse loss: 0.009847 \tmse2 loss: 0.004658\n",
            "Epoch: 66 \tTrain Loss: 0.014208 \tmse loss: 0.009588 \tmse2 loss: 0.004620\n",
            "Epoch: 67 \tTrain Loss: 0.013376 \tmse loss: 0.009139 \tmse2 loss: 0.004237\n",
            "Saving..\n",
            "Epoch: 68 \tTrain Loss: 0.013505 \tmse loss: 0.009141 \tmse2 loss: 0.004364\n",
            "Epoch: 69 \tTrain Loss: 0.013663 \tmse loss: 0.009328 \tmse2 loss: 0.004335\n",
            "Epoch: 70 \tTrain Loss: 0.013582 \tmse loss: 0.009176 \tmse2 loss: 0.004407\n",
            "Epoch: 71 \tTrain Loss: 0.013027 \tmse loss: 0.008761 \tmse2 loss: 0.004266\n",
            "Saving..\n",
            "Epoch: 72 \tTrain Loss: 0.012496 \tmse loss: 0.008503 \tmse2 loss: 0.003993\n",
            "Saving..\n",
            "Epoch: 73 \tTrain Loss: 0.012871 \tmse loss: 0.008745 \tmse2 loss: 0.004126\n",
            "Epoch: 74 \tTrain Loss: 0.012556 \tmse loss: 0.008532 \tmse2 loss: 0.004024\n",
            "Epoch: 75 \tTrain Loss: 0.013121 \tmse loss: 0.008932 \tmse2 loss: 0.004188\n",
            "Epoch: 76 \tTrain Loss: 0.012304 \tmse loss: 0.008359 \tmse2 loss: 0.003945\n",
            "Saving..\n",
            "Epoch: 77 \tTrain Loss: 0.011884 \tmse loss: 0.008084 \tmse2 loss: 0.003800\n",
            "Saving..\n",
            "Epoch: 78 \tTrain Loss: 0.012064 \tmse loss: 0.008280 \tmse2 loss: 0.003783\n",
            "Epoch: 79 \tTrain Loss: 0.012178 \tmse loss: 0.008239 \tmse2 loss: 0.003939\n",
            "Epoch: 80 \tTrain Loss: 0.012322 \tmse loss: 0.008342 \tmse2 loss: 0.003980\n",
            "Epoch: 81 \tTrain Loss: 0.012100 \tmse loss: 0.008222 \tmse2 loss: 0.003878\n",
            "Epoch: 82 \tTrain Loss: 0.011397 \tmse loss: 0.007763 \tmse2 loss: 0.003634\n",
            "Saving..\n",
            "Epoch: 83 \tTrain Loss: 0.011462 \tmse loss: 0.007844 \tmse2 loss: 0.003618\n",
            "Epoch: 84 \tTrain Loss: 0.012527 \tmse loss: 0.008553 \tmse2 loss: 0.003975\n",
            "Epoch: 85 \tTrain Loss: 0.011341 \tmse loss: 0.007850 \tmse2 loss: 0.003490\n",
            "Saving..\n",
            "Epoch: 86 \tTrain Loss: 0.010976 \tmse loss: 0.007601 \tmse2 loss: 0.003375\n",
            "Saving..\n",
            "Epoch: 87 \tTrain Loss: 0.010960 \tmse loss: 0.007536 \tmse2 loss: 0.003424\n",
            "Saving..\n",
            "Epoch: 88 \tTrain Loss: 0.010934 \tmse loss: 0.007500 \tmse2 loss: 0.003434\n",
            "Saving..\n",
            "Epoch: 89 \tTrain Loss: 0.010952 \tmse loss: 0.007504 \tmse2 loss: 0.003448\n",
            "Epoch: 90 \tTrain Loss: 0.010898 \tmse loss: 0.007466 \tmse2 loss: 0.003432\n",
            "Saving..\n",
            "Epoch: 91 \tTrain Loss: 0.010589 \tmse loss: 0.007292 \tmse2 loss: 0.003296\n",
            "Saving..\n",
            "Epoch: 92 \tTrain Loss: 0.010472 \tmse loss: 0.007210 \tmse2 loss: 0.003261\n",
            "Saving..\n",
            "Epoch: 93 \tTrain Loss: 0.010358 \tmse loss: 0.007162 \tmse2 loss: 0.003197\n",
            "Saving..\n",
            "Epoch: 94 \tTrain Loss: 0.010446 \tmse loss: 0.007190 \tmse2 loss: 0.003256\n",
            "Epoch: 95 \tTrain Loss: 0.010558 \tmse loss: 0.007315 \tmse2 loss: 0.003243\n",
            "Epoch: 96 \tTrain Loss: 0.010062 \tmse loss: 0.006993 \tmse2 loss: 0.003069\n",
            "Saving..\n",
            "Epoch: 97 \tTrain Loss: 0.010361 \tmse loss: 0.007120 \tmse2 loss: 0.003241\n",
            "Epoch: 98 \tTrain Loss: 0.011163 \tmse loss: 0.007587 \tmse2 loss: 0.003575\n",
            "Epoch: 99 \tTrain Loss: 0.010155 \tmse loss: 0.007001 \tmse2 loss: 0.003154\n",
            "/content/drive/MyDrive/PHD/Model/DeepSMOTE/f_enc.pth\n",
            "/content/drive/MyDrive/PHD/Model/DeepSMOTE/f_dec.pth\n"
          ]
        }
      ],
      "source": [
        "#Begin the training\n",
        "batch_size = args['batch_size']\n",
        "patience = args['patience']\n",
        "encoder = Encoder(args)\n",
        "decoder = Decoder(args)\n",
        "\n",
        "device = 'cuda' if torch.cuda.is_available() else 'cpu'\n",
        "print(device)\n",
        "decoder = decoder.to(device)\n",
        "encoder = encoder.to(device)\n",
        "\n",
        "train_on_gpu = torch.cuda.is_available()\n",
        "\n",
        "#decoder loss function\n",
        "criterion = nn.MSELoss()\n",
        "criterion = criterion.to(device)\n",
        "\n",
        "num_workers = 0\n",
        "\n",
        "#torch.Tensor returns float so if want long then use torch.tensor\n",
        "tensor_x = torch.Tensor(dec_x)\n",
        "tensor_y = torch.tensor(dec_y,dtype=torch.long)\n",
        "mnist_bal = TensorDataset(tensor_x,tensor_y) \n",
        "train_loader = torch.utils.data.DataLoader(mnist_bal, \n",
        "    batch_size=batch_size,shuffle=True,num_workers=num_workers)\n",
        "\n",
        "best_loss = np.inf\n",
        "\n",
        "t0 = time.time()\n",
        "if args['train']:\n",
        "    enc_optim = torch.optim.Adam(encoder.parameters(), lr = args['lr'])\n",
        "    dec_optim = torch.optim.Adam(decoder.parameters(), lr = args['lr'])\n",
        "\n",
        "    for epoch in range(args['epochs']):\n",
        "        train_loss = 0.0\n",
        "        tmse_loss = 0.0\n",
        "        tdiscr_loss = 0.0\n",
        "        # train for one epoch -- set nets to train mode\n",
        "        encoder.train()\n",
        "        decoder.train()\n",
        "    \n",
        "        for images,labs in train_loader:\n",
        "        \n",
        "            # zero gradients for each batch\n",
        "            encoder.zero_grad()\n",
        "            decoder.zero_grad()\n",
        "            images, labs = images.to(device), labs.to(device)\n",
        "            labsn = labs.detach().cpu().numpy()\n",
        "#            print('images shape', images.shape)\n",
        "            # run images\n",
        "            z_hat = encoder(images)\n",
        "#            print('images shape after encoding', z_hat.shape)\n",
        "        \n",
        "            x_hat = decoder(z_hat) #decoder outputs tanh\n",
        "#            print('images shape after decoding', x_hat.shape)\n",
        "            mse = criterion(x_hat,images)\n",
        "                    \n",
        "            resx = []\n",
        "            resy = []\n",
        "        \n",
        "            tc = np.random.choice(num_classes,1)\n",
        "            #tc = 9\n",
        "            xbeg = dec_x[dec_y == tc]\n",
        "            ybeg = dec_y[dec_y == tc] \n",
        "            xlen = len(xbeg)\n",
        "            nsamp = min(xlen, 100)\n",
        "            ind = np.random.choice(list(range(len(xbeg))),nsamp,replace=False)\n",
        "            xclass = xbeg[ind]\n",
        "            yclass = ybeg[ind]\n",
        "        \n",
        "            xclen = len(xclass)\n",
        "            xcminus = np.arange(1,xclen)\n",
        "            \n",
        "            xcplus = np.append(xcminus,0)\n",
        "            xcnew = (xclass[[xcplus],:])\n",
        "            xcnew = xcnew.reshape(xcnew.shape[1],xcnew.shape[2],xcnew.shape[3],xcnew.shape[4])\n",
        "        \n",
        "            xcnew = torch.Tensor(xcnew)\n",
        "            xcnew = xcnew.to(device)\n",
        "        \n",
        "            #encode xclass to feature space\n",
        "            xclass = torch.Tensor(xclass)\n",
        "            xclass = xclass.to(device)\n",
        "            xclass = encoder(xclass)\n",
        "        \n",
        "            xclass = xclass.detach().cpu().numpy()\n",
        "        \n",
        "            xc_enc = (xclass[[xcplus],:])\n",
        "            xc_enc = np.squeeze(xc_enc)\n",
        "        \n",
        "            xc_enc = torch.Tensor(xc_enc)\n",
        "            xc_enc = xc_enc.to(device)\n",
        "            \n",
        "            ximg = decoder(xc_enc)\n",
        "            \n",
        "            mse2 = criterion(ximg,xcnew)\n",
        "        \n",
        "            comb_loss = mse2 + mse\n",
        "            comb_loss.backward()\n",
        "        \n",
        "            enc_optim.step()\n",
        "            dec_optim.step()\n",
        "        \n",
        "            train_loss += comb_loss.item()*images.size(0)\n",
        "            tmse_loss += mse.item()*images.size(0)\n",
        "            tdiscr_loss += mse2.item()*images.size(0)\n",
        "\n",
        "        train_loss = train_loss/len(train_loader)\n",
        "        tmse_loss = tmse_loss/len(train_loader)\n",
        "        tdiscr_loss = tdiscr_loss/len(train_loader)\n",
        "        print('Epoch: {} \\tTrain Loss: {:.6f} \\tmse loss: {:.6f} \\tmse2 loss: {:.6f}'.format(epoch,\n",
        "                train_loss,tmse_loss,tdiscr_loss))\n",
        "        \n",
        "    \n",
        "    \n",
        "        #store the best encoder and decoder models\n",
        "        #here, /crs5 is a reference to 5 way cross validation, but is not\n",
        "        #necessary for illustration purposes\n",
        "        if train_loss < best_loss:\n",
        "            print('Saving..')\n",
        "            patience = args['patience']\n",
        "            path_enc = '/content/drive/MyDrive/PHD/Model/DeepSMOTE/bst_enc.pth'\n",
        "            path_dec = '/content/drive/MyDrive/PHD/Model/DeepSMOTE/bst_dec.pth'\n",
        "          \n",
        "            torch.save(encoder.state_dict(), path_enc)\n",
        "            torch.save(decoder.state_dict(), path_dec)\n",
        "    \n",
        "            best_loss = train_loss\n",
        "        else:\n",
        "            patience -= 1\n",
        "\n",
        "        if patience == 0:\n",
        "            print('Out of patience. \\n')\n",
        "            break\n",
        "    \n",
        "    \n",
        "    #in addition, store the final model (may not be the best) for\n",
        "    #informational purposes\n",
        "    path_enc = '/content/drive/MyDrive/PHD/Model/DeepSMOTE/f_enc.pth'\n",
        "    path_dec = '/content/drive/MyDrive/PHD/Model/DeepSMOTE/f_dec.pth'\n",
        "    print(path_enc)\n",
        "    print(path_dec)\n",
        "    torch.save(encoder.state_dict(), path_enc)\n",
        "    torch.save(decoder.state_dict(), path_dec)"
      ]
    },
    {
      "cell_type": "code",
      "execution_count": null,
      "metadata": {
        "colab": {
          "base_uri": "https://localhost:8080/"
        },
        "id": "NoqPIVKqF5Ug",
        "outputId": "5e2d2d09-4032-4d5e-c744-70f5fe20b6fd"
      },
      "outputs": [
        {
          "name": "stdout",
          "output_type": "stream",
          "text": [
            "train imgs shape  (4986, 3, 32, 32)\n",
            "decy  (4986,)\n",
            "(11732, 3072)\n",
            "(11732,)\n"
          ]
        }
      ],
      "source": [
        "#Generate artificial images\n",
        "import torch\n",
        "np.printoptions(precision=5,suppress=True)\n",
        "\n",
        "#path on the computer where the models are stored\n",
        "modpth = '/content/drive/MyDrive/PHD/Model/DeepSMOTE/'\n",
        "\n",
        "encf = []\n",
        "decf = []\n",
        "for p in range(1):\n",
        "    enc = modpth + '/bst_enc.pth'\n",
        "    dec = modpth + '/bst_dec.pth'\n",
        "    encf.append(enc)\n",
        "    decf.append(dec)\n",
        "\n",
        "for m in range(1):\n",
        "    print('train imgs shape ',dec_x.shape) #(45000,3,32,32)\n",
        "    print('decy ',dec_y.shape)\n",
        "    \n",
        "    #generate some images \n",
        "    train_on_gpu = torch.cuda.is_available()\n",
        "    device = 'cuda' if torch.cuda.is_available() else 'cpu'\n",
        "    \n",
        "    path_enc = encf[m]\n",
        "    path_dec = decf[m]\n",
        "\n",
        "    encoder = Encoder(args)\n",
        "    encoder.load_state_dict(torch.load(path_enc), strict=False)\n",
        "    encoder = encoder.to(device)\n",
        "\n",
        "    decoder = Decoder(args)\n",
        "    decoder.load_state_dict(torch.load(path_dec), strict=False)\n",
        "    decoder = decoder.to(device)\n",
        "\n",
        "    encoder.eval()\n",
        "    decoder.eval()\n",
        "\n",
        "    imbal = counter#[114, 376, 95, 438, 357, 462, 77, 181, 139]\n",
        "\n",
        "    resx = []\n",
        "    resy = []\n",
        "\n",
        "    for i in [0,1,2,3,4,6]: #skip class 5 since it's max class\n",
        "        torch.cuda.empty_cache()\n",
        "\n",
        "        xclass, yclass = biased_get_class(i)\n",
        "#        print(xclass.shape) #(500, 3, 32, 32)\n",
        "#        print(yclass[0]) #(500,)\n",
        "            \n",
        "        #encode xclass to feature space\n",
        "        xclass = torch.Tensor(xclass)\n",
        "        xclass = xclass.to(device)\n",
        "        xclass = encoder(xclass)\n",
        "            \n",
        "        xclass = xclass.detach().cpu().numpy()\n",
        "        n = imbal[5] - imbal[i]\n",
        "        xsamp, ysamp = G_SM(xclass,yclass,n,i)\n",
        "#        print(xsamp.shape) #(4500, 600)\n",
        "#        print(len(ysamp)) #4500\n",
        "        ysamp = np.array(ysamp)\n",
        "    \n",
        "        \"\"\"to generate samples for resnet\"\"\"   \n",
        "        xsamp = torch.Tensor(xsamp)\n",
        "        xsamp = xsamp.to(device)\n",
        "        ximg = decoder(xsamp)\n",
        "\n",
        "        ximn = ximg.detach().cpu().numpy()\n",
        "#        print(ximn.shape) \n",
        "        resx.append(ximn)\n",
        "        resy.append(ysamp)\n",
        "    \n",
        "    resx1 = np.vstack(resx)\n",
        "    resy1 = np.hstack(resy)\n",
        "#    print(resx1.shape) #(34720, 3, 32, 32)\n",
        "\n",
        "    resx1 = resx1.reshape(resx1.shape[0],-1)\n",
        "#    print(resx1.shape) #(34720, 3072)\n",
        "    \n",
        "    dec_x1 = dec_x.reshape(dec_x.shape[0],-1)\n",
        "#    print('decx1 ',dec_x1.shape)\n",
        "    combx = np.vstack((resx1,dec_x1))\n",
        "    comby = np.hstack((resy1,dec_y))\n",
        "\n",
        "    print(combx.shape) #(45000, 3, 32, 32)\n",
        "    print(comby.shape) #(45000,)\n",
        "#    print()"
      ]
    },
    {
      "cell_type": "code",
      "execution_count": null,
      "metadata": {
        "colab": {
          "base_uri": "https://localhost:8080/"
        },
        "id": "76bpFBQcHLIY",
        "outputId": "778df4ec-f880-41df-c474-8c2f533b4c6f"
      },
      "outputs": [
        {
          "name": "stdout",
          "output_type": "stream",
          "text": [
            "X_train shape:  (11732, 32, 32, 3)\n",
            "Counter({0: 1676, 1: 1676, 2: 1676, 3: 1676, 4: 1676, 6: 1676, 5: 1676})\n"
          ]
        }
      ],
      "source": [
        "X_train = combx.reshape(-1, 3, IMAGE_W, IMAGE_H)\n",
        "X_train = moveaxis(X_train, 1, 3)\n",
        "print('X_train shape: ',X_train.shape)\n",
        "y_train = comby\n",
        "print(Counter(comby))"
      ]
    },
    {
      "cell_type": "code",
      "execution_count": null,
      "metadata": {
        "id": "8SqyvSgX8sLO"
      },
      "outputs": [],
      "source": [
        "X_train = X_train * 255\n",
        "X_train = X_train.astype(int)"
      ]
    },
    {
      "cell_type": "markdown",
      "metadata": {
        "id": "US0KkIaVlTdU"
      },
      "source": [
        "#Data Transformation"
      ]
    },
    {
      "cell_type": "code",
      "execution_count": null,
      "metadata": {
        "colab": {
          "base_uri": "https://localhost:8080/"
        },
        "id": "_a_lPCqbibaS",
        "outputId": "5e25dd58-ddd6-4d79-d191-48181f4ab387"
      },
      "outputs": [
        {
          "name": "stdout",
          "output_type": "stream",
          "text": [
            "y_train shape:  (32851, 1)\n"
          ]
        }
      ],
      "source": [
        "y_train = y_train.reshape(-1, 1)\n",
        "y_val = y_val.reshape(-1, 1)\n",
        "print('y_train shape: ',y_train.shape)"
      ]
    },
    {
      "cell_type": "code",
      "execution_count": null,
      "metadata": {
        "id": "ja5ZmgbCvDw5"
      },
      "outputs": [],
      "source": [
        "from keras.utils.np_utils import to_categorical\n",
        "y_train = to_categorical(y_train, num_classes = num_classes)\n",
        "y_val = to_categorical(y_val, num_classes = num_classes)"
      ]
    },
    {
      "cell_type": "code",
      "execution_count": null,
      "metadata": {
        "id": "ioaoIkk4G2pf"
      },
      "outputs": [],
      "source": [
        "#X_val = X_val.astype(int)"
      ]
    },
    {
      "cell_type": "code",
      "execution_count": null,
      "metadata": {
        "colab": {
          "base_uri": "https://localhost:8080/"
        },
        "id": "9QM00erNGU32",
        "outputId": "d0111aa7-34fc-405f-c65e-4195f4e6b8fa"
      },
      "outputs": [
        {
          "name": "stdout",
          "output_type": "stream",
          "text": [
            "(32851, 224, 224, 3)\n",
            "(32851, 7)\n",
            "(193, 224, 224, 3)\n",
            "(193, 7)\n"
          ]
        }
      ],
      "source": [
        "print(X_train.shape)\n",
        "print(y_train.shape)\n",
        "print(X_val.shape)\n",
        "print(y_val.shape)"
      ]
    },
    {
      "cell_type": "markdown",
      "metadata": {
        "id": "0jrJ33lUDkCM"
      },
      "source": [
        "#Split dataset to train and val"
      ]
    },
    {
      "cell_type": "code",
      "execution_count": null,
      "metadata": {
        "colab": {
          "base_uri": "https://localhost:8080/"
        },
        "id": "e6qneWL_Bs2U",
        "outputId": "22c2c4ff-5544-4dd8-b69a-af96b4b97616"
      },
      "outputs": [
        {
          "name": "stdout",
          "output_type": "stream",
          "text": [
            "Train Data:  (9814, 32, 32, 3)\n",
            "Remaining Data:  (201, 32, 32, 3)\n"
          ]
        }
      ],
      "source": [
        "# stratified train and rem (20%) datasets\n",
        "from sklearn.model_selection import train_test_split\n",
        "X_train, X_val, y_train, y_val = train_test_split(X, y, test_size=0.02, stratify=y, random_state=1)\n",
        "\n",
        "print('Train Data: ', X_train.shape)\n",
        "print('Remaining Data: ', X_val.shape)"
      ]
    },
    {
      "cell_type": "code",
      "execution_count": null,
      "metadata": {
        "colab": {
          "base_uri": "https://localhost:8080/"
        },
        "id": "Vai7M7WSXVY4",
        "outputId": "b9bc1199-a518-4a8b-9d6e-4d6038efbafe"
      },
      "outputs": [
        {
          "name": "stdout",
          "output_type": "stream",
          "text": [
            "Test Data:  (416, 32, 32, 3)\n",
            "Val Data:  (416, 32, 32, 3)\n"
          ]
        }
      ],
      "source": [
        "# stratified val and test (50%) \n",
        "from sklearn.model_selection import train_test_split\n",
        "X_test, X_val, y_test, y_val = train_test_split(X_rem, y_rem, test_size=0.5, stratify=y_rem, random_state=1)\n",
        "\n",
        "print('Test Data: ', X_test.shape)\n",
        "print('Val Data: ', X_val.shape)"
      ]
    },
    {
      "cell_type": "markdown",
      "metadata": {
        "id": "I15HgVuhjFlm"
      },
      "source": [
        ""
      ]
    },
    {
      "cell_type": "code",
      "execution_count": null,
      "metadata": {
        "colab": {
          "base_uri": "https://localhost:8080/"
        },
        "id": "oVVOQPNiHXHw",
        "outputId": "a1e60310-4f3b-4063-8465-4d7120d225c9"
      },
      "outputs": [
        {
          "name": "stdout",
          "output_type": "stream",
          "text": [
            "Train Data:  (2015, 32, 32, 3)\n",
            "Test Data:  (224, 32, 32, 3)\n"
          ]
        }
      ],
      "source": [
        "#optional\n",
        "# stratified train and test (10%) datasets\n",
        "from sklearn.model_selection import train_test_split\n",
        "X_train, X_test, y_train, y_test = train_test_split(X, y, test_size=0.1, stratify=y, random_state=1)\n",
        "\n",
        "print('Train Data: ', X_train.shape)\n",
        "print('Test Data: ', X_test.shape)"
      ]
    },
    {
      "cell_type": "code",
      "execution_count": null,
      "metadata": {
        "colab": {
          "base_uri": "https://localhost:8080/"
        },
        "id": "0_oaUYYgJNV7",
        "outputId": "ca2f393a-0599-4cfc-b330-45d723f2bb06"
      },
      "outputs": [
        {
          "name": "stdout",
          "output_type": "stream",
          "text": [
            "Train Data:  (3369, 32, 32, 3)\n",
            "Val Data:  (375, 32, 32, 3)\n"
          ]
        }
      ],
      "source": [
        "#optional\n",
        "# stratified train and val (10%) datasets\n",
        "from sklearn.model_selection import train_test_split\n",
        "X_train, X_val, y_train, y_val = train_test_split(X, y, test_size=0.1, stratify=y, random_state=1)\n",
        "\n",
        "print('Train Data: ', X_train.shape)\n",
        "print('Val Data: ', X_val.shape)"
      ]
    },
    {
      "cell_type": "markdown",
      "metadata": {
        "id": "ZklPzWxCCtTW"
      },
      "source": [
        "Create and compile the model"
      ]
    },
    {
      "cell_type": "code",
      "execution_count": null,
      "metadata": {
        "id": "7jFShRvTHnqi"
      },
      "outputs": [],
      "source": [
        "print(X_train)"
      ]
    },
    {
      "cell_type": "code",
      "execution_count": null,
      "metadata": {
        "id": "8Kef4r_zxjgk"
      },
      "outputs": [],
      "source": [
        "#Data Augmentation\n",
        "dataaugment = ImageDataGenerator(\n",
        "        rotation_range=90,  # randomly rotate images in the range (degrees, 0 to 180)\n",
        "        zoom_range = 0.1, # Randomly zoom image \n",
        "        width_shift_range=0.1,  # randomly shift images horizontally (fraction of total width)\n",
        "        height_shift_range=0.1,  # randomly shift images vertically (fraction of total height)\n",
        "        horizontal_flip=True,  # randomly flip images\n",
        "        vertical_flip=True,  # randomly flip images\n",
        "        shear_range = 10) \n",
        "\n",
        "dataaugment.fit(X_train)"
      ]
    },
    {
      "cell_type": "markdown",
      "metadata": {
        "id": "5v7sLC2svMuJ"
      },
      "source": [
        "# Classification\n",
        "Model from https://github.com/AnasBrital98/CNN-From-Scratch/tree/master/Inception-V3"
      ]
    },
    {
      "cell_type": "code",
      "execution_count": null,
      "metadata": {
        "id": "A8eRZiucdYnP"
      },
      "outputs": [],
      "source": [
        "#USe TF.data\n",
        "import tensorflow as tf\n",
        "training_data = tf.data.Dataset.from_tensor_slices((X_train, y_train))\n",
        "validation_data = tf.data.Dataset.from_tensor_slices((X_val, y_val))"
      ]
    },
    {
      "cell_type": "code",
      "execution_count": null,
      "metadata": {
        "id": "7xalxBh-3LNC"
      },
      "outputs": [],
      "source": [
        "autotune = tf.data.AUTOTUNE\n",
        "train_data_batches = training_data.shuffle(buffer_size=40000).batch(32).prefetch(buffer_size=autotune)\n",
        "valid_data_batches = validation_data.shuffle(buffer_size=10000).batch(32).prefetch(buffer_size=autotune)"
      ]
    },
    {
      "cell_type": "code",
      "execution_count": null,
      "metadata": {
        "id": "Ge4UmF5R0a7V"
      },
      "outputs": [],
      "source": [
        "from tensorflow.keras import layers\n",
        "\n",
        "rescale_layer = tf.keras.Sequential([layers.experimental.preprocessing.Rescaling(1./255)])\n",
        "\n",
        "data_augmentation = tf.keras.Sequential([\n",
        "  layers.experimental.preprocessing.RandomFlip(\"horizontal_and_vertical\"),\n",
        "  layers.experimental.preprocessing.RandomRotation(0.2), \n",
        "  layers.experimental.preprocessing.RandomZoom(height_factor=(0.2, 0.3), width_factor=(0.2, 0.3)),\n",
        "  layers.experimental.preprocessing.RandomTranslation(0.3, 0.3, fill_mode='reflect', interpolation='bilinear',)\n",
        "])"
      ]
    },
    {
      "cell_type": "code",
      "execution_count": null,
      "metadata": {
        "id": "mu6rr5apdJtf"
      },
      "outputs": [],
      "source": [
        "optimizer = Adam(learning_rate=0.0005, beta_1=0.9, beta_2=0.999, epsilon=None, decay=0.0, amsgrad=False)\n",
        "\n",
        "EPOCHS = 1000\n",
        "BATCH_SIZE = 32\n",
        "\n",
        "#Callbacks\n",
        "best_model_fpath = '/content/drive/MyDrive/PHD/Model/best_model.h5'\n",
        "mc = ModelCheckpoint(best_model_fpath, monitor='val_prc', mode='max', verbose=1, save_best_only=True)\n",
        "learning_rate_reduction = ReduceLROnPlateau(monitor='val_loss', patience=10, verbose=0, factor=0.5, min_lr=0.00001)\n",
        "early_stopping_monitor = EarlyStopping(patience=30,monitor='val_prc')"
      ]
    },
    {
      "cell_type": "code",
      "execution_count": null,
      "metadata": {
        "colab": {
          "background_save": true,
          "base_uri": "https://localhost:8080/"
        },
        "id": "rwwLiXUSG0IZ",
        "outputId": "ff36fadf-0797-4610-d5a2-694d4921398a"
      },
      "outputs": [
        {
          "name": "stdout",
          "output_type": "stream",
          "text": [
            "Epoch 1/1000\n",
            "1027/1027 [==============================] - ETA: 0s - loss: 1.6458 - accuracy: 0.3716 - prc: 0.4136\n",
            "Epoch 1: val_prc improved from -inf to 0.80877, saving model to /content/drive/MyDrive/PHD/Model/best_model.h5\n",
            "1027/1027 [==============================] - 123s 116ms/step - loss: 1.6458 - accuracy: 0.3716 - prc: 0.4136 - val_loss: 0.8532 - val_accuracy: 0.6477 - val_prc: 0.8088 - lr: 5.0000e-04\n",
            "Epoch 2/1000\n",
            "1027/1027 [==============================] - ETA: 0s - loss: 1.3457 - accuracy: 0.4609 - prc: 0.5326\n",
            "Epoch 2: val_prc did not improve from 0.80877\n",
            "1027/1027 [==============================] - 114s 111ms/step - loss: 1.3457 - accuracy: 0.4609 - prc: 0.5326 - val_loss: 0.9636 - val_accuracy: 0.6788 - val_prc: 0.7617 - lr: 5.0000e-04\n",
            "Epoch 3/1000\n",
            "1027/1027 [==============================] - ETA: 0s - loss: 1.2500 - accuracy: 0.5045 - prc: 0.5774\n",
            "Epoch 3: val_prc did not improve from 0.80877\n",
            "1027/1027 [==============================] - 114s 111ms/step - loss: 1.2500 - accuracy: 0.5045 - prc: 0.5774 - val_loss: 0.9215 - val_accuracy: 0.6632 - val_prc: 0.7902 - lr: 5.0000e-04\n",
            "Epoch 4/1000\n",
            "1027/1027 [==============================] - ETA: 0s - loss: 1.2136 - accuracy: 0.5224 - prc: 0.5961\n",
            "Epoch 4: val_prc improved from 0.80877 to 0.82365, saving model to /content/drive/MyDrive/PHD/Model/best_model.h5\n",
            "1027/1027 [==============================] - 116s 113ms/step - loss: 1.2136 - accuracy: 0.5224 - prc: 0.5961 - val_loss: 0.8219 - val_accuracy: 0.6995 - val_prc: 0.8236 - lr: 5.0000e-04\n",
            "Epoch 5/1000\n",
            "1027/1027 [==============================] - ETA: 0s - loss: 1.1846 - accuracy: 0.5343 - prc: 0.6107\n",
            "Epoch 5: val_prc did not improve from 0.82365\n",
            "1027/1027 [==============================] - 114s 111ms/step - loss: 1.1846 - accuracy: 0.5343 - prc: 0.6107 - val_loss: 0.8284 - val_accuracy: 0.6995 - val_prc: 0.8200 - lr: 5.0000e-04\n",
            "Epoch 6/1000\n",
            "1027/1027 [==============================] - ETA: 0s - loss: 1.1681 - accuracy: 0.5406 - prc: 0.6187\n",
            "Epoch 6: val_prc did not improve from 0.82365\n",
            "1027/1027 [==============================] - 114s 111ms/step - loss: 1.1681 - accuracy: 0.5406 - prc: 0.6187 - val_loss: 0.9487 - val_accuracy: 0.7150 - val_prc: 0.8040 - lr: 5.0000e-04\n",
            "Epoch 7/1000\n",
            "1027/1027 [==============================] - ETA: 0s - loss: 1.1466 - accuracy: 0.5516 - prc: 0.6323\n",
            "Epoch 7: val_prc improved from 0.82365 to 0.83080, saving model to /content/drive/MyDrive/PHD/Model/best_model.h5\n",
            "1027/1027 [==============================] - 116s 113ms/step - loss: 1.1466 - accuracy: 0.5516 - prc: 0.6323 - val_loss: 0.8409 - val_accuracy: 0.7461 - val_prc: 0.8308 - lr: 5.0000e-04\n",
            "Epoch 8/1000\n",
            "1027/1027 [==============================] - ETA: 0s - loss: 1.1395 - accuracy: 0.5542 - prc: 0.6345\n",
            "Epoch 8: val_prc did not improve from 0.83080\n",
            "1027/1027 [==============================] - 114s 111ms/step - loss: 1.1395 - accuracy: 0.5542 - prc: 0.6345 - val_loss: 1.0059 - val_accuracy: 0.6425 - val_prc: 0.7743 - lr: 5.0000e-04\n",
            "Epoch 9/1000\n",
            "1027/1027 [==============================] - ETA: 0s - loss: 1.1258 - accuracy: 0.5648 - prc: 0.6424\n",
            "Epoch 9: val_prc did not improve from 0.83080\n",
            "1027/1027 [==============================] - 115s 112ms/step - loss: 1.1258 - accuracy: 0.5648 - prc: 0.6424 - val_loss: 0.8562 - val_accuracy: 0.7202 - val_prc: 0.8239 - lr: 5.0000e-04\n",
            "Epoch 10/1000\n",
            "1027/1027 [==============================] - ETA: 0s - loss: 1.1102 - accuracy: 0.5697 - prc: 0.6488\n",
            "Epoch 10: val_prc improved from 0.83080 to 0.83790, saving model to /content/drive/MyDrive/PHD/Model/best_model.h5\n",
            "1027/1027 [==============================] - 116s 113ms/step - loss: 1.1102 - accuracy: 0.5697 - prc: 0.6488 - val_loss: 0.7598 - val_accuracy: 0.7306 - val_prc: 0.8379 - lr: 5.0000e-04\n",
            "Epoch 11/1000\n",
            "1027/1027 [==============================] - ETA: 0s - loss: 1.0975 - accuracy: 0.5720 - prc: 0.6554\n",
            "Epoch 11: val_prc did not improve from 0.83790\n",
            "1027/1027 [==============================] - 115s 111ms/step - loss: 1.0975 - accuracy: 0.5720 - prc: 0.6554 - val_loss: 0.8367 - val_accuracy: 0.7409 - val_prc: 0.8359 - lr: 5.0000e-04\n",
            "Epoch 12/1000\n",
            "1027/1027 [==============================] - ETA: 0s - loss: 1.0935 - accuracy: 0.5728 - prc: 0.6593\n",
            "Epoch 12: val_prc did not improve from 0.83790\n",
            "1027/1027 [==============================] - 114s 111ms/step - loss: 1.0935 - accuracy: 0.5728 - prc: 0.6593 - val_loss: 0.8029 - val_accuracy: 0.7098 - val_prc: 0.8334 - lr: 5.0000e-04\n",
            "Epoch 13/1000\n",
            "1027/1027 [==============================] - ETA: 0s - loss: 1.0760 - accuracy: 0.5821 - prc: 0.6675\n",
            "Epoch 13: val_prc improved from 0.83790 to 0.84525, saving model to /content/drive/MyDrive/PHD/Model/best_model.h5\n",
            "1027/1027 [==============================] - 116s 113ms/step - loss: 1.0760 - accuracy: 0.5821 - prc: 0.6675 - val_loss: 0.7716 - val_accuracy: 0.7461 - val_prc: 0.8453 - lr: 5.0000e-04\n",
            "Epoch 14/1000\n",
            "1027/1027 [==============================] - ETA: 0s - loss: 1.0646 - accuracy: 0.5878 - prc: 0.6729\n",
            "Epoch 14: val_prc did not improve from 0.84525\n",
            "1027/1027 [==============================] - 114s 111ms/step - loss: 1.0646 - accuracy: 0.5878 - prc: 0.6729 - val_loss: 0.8918 - val_accuracy: 0.6632 - val_prc: 0.8080 - lr: 5.0000e-04\n",
            "Epoch 15/1000\n",
            "1027/1027 [==============================] - ETA: 0s - loss: 1.0488 - accuracy: 0.5958 - prc: 0.6813\n",
            "Epoch 15: val_prc did not improve from 0.84525\n",
            "1027/1027 [==============================] - 115s 111ms/step - loss: 1.0488 - accuracy: 0.5958 - prc: 0.6813 - val_loss: 0.8131 - val_accuracy: 0.6891 - val_prc: 0.8342 - lr: 5.0000e-04\n",
            "Epoch 16/1000\n",
            "1027/1027 [==============================] - ETA: 0s - loss: 1.0374 - accuracy: 0.6022 - prc: 0.6853\n",
            "Epoch 16: val_prc did not improve from 0.84525\n",
            "1027/1027 [==============================] - 115s 111ms/step - loss: 1.0374 - accuracy: 0.6022 - prc: 0.6853 - val_loss: 0.8540 - val_accuracy: 0.7150 - val_prc: 0.8310 - lr: 5.0000e-04\n",
            "Epoch 17/1000\n",
            "1027/1027 [==============================] - ETA: 0s - loss: 1.0276 - accuracy: 0.6056 - prc: 0.6897\n",
            "Epoch 17: val_prc did not improve from 0.84525\n",
            "1027/1027 [==============================] - 114s 111ms/step - loss: 1.0276 - accuracy: 0.6056 - prc: 0.6897 - val_loss: 0.8360 - val_accuracy: 0.7098 - val_prc: 0.8271 - lr: 5.0000e-04\n",
            "Epoch 18/1000\n",
            "1027/1027 [==============================] - ETA: 0s - loss: 1.0306 - accuracy: 0.6061 - prc: 0.6900\n",
            "Epoch 18: val_prc improved from 0.84525 to 0.85219, saving model to /content/drive/MyDrive/PHD/Model/best_model.h5\n",
            "1027/1027 [==============================] - 116s 113ms/step - loss: 1.0306 - accuracy: 0.6061 - prc: 0.6900 - val_loss: 0.7494 - val_accuracy: 0.7358 - val_prc: 0.8522 - lr: 5.0000e-04\n",
            "Epoch 19/1000\n",
            "1027/1027 [==============================] - ETA: 0s - loss: 1.0152 - accuracy: 0.6061 - prc: 0.6958\n",
            "Epoch 19: val_prc did not improve from 0.85219\n",
            "1027/1027 [==============================] - 114s 111ms/step - loss: 1.0152 - accuracy: 0.6061 - prc: 0.6958 - val_loss: 0.8764 - val_accuracy: 0.7047 - val_prc: 0.8180 - lr: 5.0000e-04\n",
            "Epoch 20/1000\n",
            "1027/1027 [==============================] - ETA: 0s - loss: 1.0127 - accuracy: 0.6154 - prc: 0.6978\n",
            "Epoch 20: val_prc did not improve from 0.85219\n",
            "1027/1027 [==============================] - 115s 111ms/step - loss: 1.0127 - accuracy: 0.6154 - prc: 0.6978 - val_loss: 0.7873 - val_accuracy: 0.7306 - val_prc: 0.8354 - lr: 5.0000e-04\n",
            "Epoch 21/1000\n",
            "1027/1027 [==============================] - ETA: 0s - loss: 1.0092 - accuracy: 0.6127 - prc: 0.6981\n",
            "Epoch 21: val_prc did not improve from 0.85219\n",
            "1027/1027 [==============================] - 114s 111ms/step - loss: 1.0092 - accuracy: 0.6127 - prc: 0.6981 - val_loss: 0.7420 - val_accuracy: 0.7098 - val_prc: 0.8440 - lr: 5.0000e-04\n",
            "Epoch 22/1000\n",
            "1027/1027 [==============================] - ETA: 0s - loss: 1.0013 - accuracy: 0.6152 - prc: 0.7025\n",
            "Epoch 22: val_prc did not improve from 0.85219\n",
            "1027/1027 [==============================] - 114s 111ms/step - loss: 1.0013 - accuracy: 0.6152 - prc: 0.7025 - val_loss: 0.7841 - val_accuracy: 0.7202 - val_prc: 0.8465 - lr: 5.0000e-04\n",
            "Epoch 23/1000\n",
            "1027/1027 [==============================] - ETA: 0s - loss: 0.9993 - accuracy: 0.6162 - prc: 0.7039\n",
            "Epoch 23: val_prc did not improve from 0.85219\n",
            "1027/1027 [==============================] - 114s 111ms/step - loss: 0.9993 - accuracy: 0.6162 - prc: 0.7039 - val_loss: 0.8997 - val_accuracy: 0.6995 - val_prc: 0.8201 - lr: 5.0000e-04\n",
            "Epoch 24/1000\n",
            "1027/1027 [==============================] - ETA: 0s - loss: 0.9959 - accuracy: 0.6191 - prc: 0.7053\n",
            "Epoch 24: val_prc did not improve from 0.85219\n",
            "1027/1027 [==============================] - 114s 111ms/step - loss: 0.9959 - accuracy: 0.6191 - prc: 0.7053 - val_loss: 0.8230 - val_accuracy: 0.7254 - val_prc: 0.8447 - lr: 5.0000e-04\n",
            "Epoch 25/1000\n",
            "1027/1027 [==============================] - ETA: 0s - loss: 0.9961 - accuracy: 0.6171 - prc: 0.7056\n",
            "Epoch 25: val_prc did not improve from 0.85219\n",
            "1027/1027 [==============================] - 115s 111ms/step - loss: 0.9961 - accuracy: 0.6171 - prc: 0.7056 - val_loss: 0.8028 - val_accuracy: 0.7358 - val_prc: 0.8511 - lr: 5.0000e-04\n",
            "Epoch 26/1000\n",
            "1027/1027 [==============================] - ETA: 0s - loss: 0.9900 - accuracy: 0.6235 - prc: 0.7091\n",
            "Epoch 26: val_prc did not improve from 0.85219\n",
            "1027/1027 [==============================] - 115s 112ms/step - loss: 0.9900 - accuracy: 0.6235 - prc: 0.7091 - val_loss: 0.8373 - val_accuracy: 0.7306 - val_prc: 0.8341 - lr: 5.0000e-04\n",
            "Epoch 27/1000\n",
            "1027/1027 [==============================] - ETA: 0s - loss: 0.9804 - accuracy: 0.6246 - prc: 0.7132\n",
            "Epoch 27: val_prc improved from 0.85219 to 0.85432, saving model to /content/drive/MyDrive/PHD/Model/best_model.h5\n",
            "1027/1027 [==============================] - 117s 114ms/step - loss: 0.9804 - accuracy: 0.6246 - prc: 0.7132 - val_loss: 0.7759 - val_accuracy: 0.7202 - val_prc: 0.8543 - lr: 5.0000e-04\n",
            "Epoch 28/1000\n",
            "1027/1027 [==============================] - ETA: 0s - loss: 0.9770 - accuracy: 0.6257 - prc: 0.7137\n",
            "Epoch 28: val_prc did not improve from 0.85432\n",
            "1027/1027 [==============================] - 115s 112ms/step - loss: 0.9770 - accuracy: 0.6257 - prc: 0.7137 - val_loss: 0.7847 - val_accuracy: 0.7409 - val_prc: 0.8519 - lr: 5.0000e-04\n",
            "Epoch 29/1000\n",
            "1027/1027 [==============================] - ETA: 0s - loss: 0.9771 - accuracy: 0.6266 - prc: 0.7135\n",
            "Epoch 29: val_prc did not improve from 0.85432\n",
            "1027/1027 [==============================] - 115s 112ms/step - loss: 0.9771 - accuracy: 0.6266 - prc: 0.7135 - val_loss: 0.7889 - val_accuracy: 0.7358 - val_prc: 0.8488 - lr: 5.0000e-04\n",
            "Epoch 30/1000\n",
            "1027/1027 [==============================] - ETA: 0s - loss: 0.9774 - accuracy: 0.6274 - prc: 0.7139\n",
            "Epoch 30: val_prc did not improve from 0.85432\n",
            "1027/1027 [==============================] - 115s 112ms/step - loss: 0.9774 - accuracy: 0.6274 - prc: 0.7139 - val_loss: 0.7802 - val_accuracy: 0.7254 - val_prc: 0.8507 - lr: 5.0000e-04\n",
            "Epoch 31/1000\n",
            "1027/1027 [==============================] - ETA: 0s - loss: 0.9741 - accuracy: 0.6277 - prc: 0.7171\n",
            "Epoch 31: val_prc did not improve from 0.85432\n",
            "1027/1027 [==============================] - 115s 111ms/step - loss: 0.9741 - accuracy: 0.6277 - prc: 0.7171 - val_loss: 0.7803 - val_accuracy: 0.7409 - val_prc: 0.8494 - lr: 5.0000e-04\n",
            "Epoch 32/1000\n",
            "1027/1027 [==============================] - ETA: 0s - loss: 0.9803 - accuracy: 0.6231 - prc: 0.7116\n",
            "Epoch 32: val_prc improved from 0.85432 to 0.85907, saving model to /content/drive/MyDrive/PHD/Model/best_model.h5\n",
            "1027/1027 [==============================] - 116s 113ms/step - loss: 0.9803 - accuracy: 0.6231 - prc: 0.7116 - val_loss: 0.7335 - val_accuracy: 0.7358 - val_prc: 0.8591 - lr: 5.0000e-04\n",
            "Epoch 33/1000\n",
            "1027/1027 [==============================] - ETA: 0s - loss: 0.9686 - accuracy: 0.6298 - prc: 0.7180\n",
            "Epoch 33: val_prc did not improve from 0.85907\n",
            "1027/1027 [==============================] - 115s 111ms/step - loss: 0.9686 - accuracy: 0.6298 - prc: 0.7180 - val_loss: 0.7538 - val_accuracy: 0.7254 - val_prc: 0.8562 - lr: 5.0000e-04\n",
            "Epoch 34/1000\n",
            "1027/1027 [==============================] - ETA: 0s - loss: 0.9684 - accuracy: 0.6293 - prc: 0.7181\n",
            "Epoch 34: val_prc improved from 0.85907 to 0.86216, saving model to /content/drive/MyDrive/PHD/Model/best_model.h5\n",
            "1027/1027 [==============================] - 117s 114ms/step - loss: 0.9684 - accuracy: 0.6293 - prc: 0.7181 - val_loss: 0.7297 - val_accuracy: 0.7668 - val_prc: 0.8622 - lr: 5.0000e-04\n",
            "Epoch 35/1000\n",
            "1027/1027 [==============================] - ETA: 0s - loss: 0.9666 - accuracy: 0.6312 - prc: 0.7186\n",
            "Epoch 35: val_prc did not improve from 0.86216\n",
            "1027/1027 [==============================] - 115s 112ms/step - loss: 0.9666 - accuracy: 0.6312 - prc: 0.7186 - val_loss: 0.8611 - val_accuracy: 0.7150 - val_prc: 0.8240 - lr: 5.0000e-04\n",
            "Epoch 36/1000\n",
            "1027/1027 [==============================] - ETA: 0s - loss: 0.9662 - accuracy: 0.6307 - prc: 0.7188\n",
            "Epoch 36: val_prc did not improve from 0.86216\n",
            "1027/1027 [==============================] - 115s 111ms/step - loss: 0.9662 - accuracy: 0.6307 - prc: 0.7188 - val_loss: 0.8389 - val_accuracy: 0.7358 - val_prc: 0.8403 - lr: 5.0000e-04\n",
            "Epoch 37/1000\n",
            "1027/1027 [==============================] - ETA: 0s - loss: 0.9564 - accuracy: 0.6319 - prc: 0.7231\n",
            "Epoch 37: val_prc did not improve from 0.86216\n",
            "1027/1027 [==============================] - 115s 112ms/step - loss: 0.9564 - accuracy: 0.6319 - prc: 0.7231 - val_loss: 0.8840 - val_accuracy: 0.6995 - val_prc: 0.8301 - lr: 5.0000e-04\n",
            "Epoch 38/1000\n",
            "1027/1027 [==============================] - ETA: 0s - loss: 0.9561 - accuracy: 0.6328 - prc: 0.7232\n",
            "Epoch 38: val_prc did not improve from 0.86216\n",
            "1027/1027 [==============================] - 115s 112ms/step - loss: 0.9561 - accuracy: 0.6328 - prc: 0.7232 - val_loss: 0.9099 - val_accuracy: 0.7150 - val_prc: 0.8111 - lr: 5.0000e-04\n",
            "Epoch 39/1000\n",
            "1027/1027 [==============================] - ETA: 0s - loss: 0.9594 - accuracy: 0.6336 - prc: 0.7220\n",
            "Epoch 39: val_prc did not improve from 0.86216\n",
            "1027/1027 [==============================] - 115s 112ms/step - loss: 0.9594 - accuracy: 0.6336 - prc: 0.7220 - val_loss: 0.8139 - val_accuracy: 0.7098 - val_prc: 0.8359 - lr: 5.0000e-04\n",
            "Epoch 40/1000\n",
            "1027/1027 [==============================] - ETA: 0s - loss: 0.9528 - accuracy: 0.6355 - prc: 0.7247\n",
            "Epoch 40: val_prc did not improve from 0.86216\n",
            "1027/1027 [==============================] - 115s 112ms/step - loss: 0.9528 - accuracy: 0.6355 - prc: 0.7247 - val_loss: 0.7011 - val_accuracy: 0.7461 - val_prc: 0.8596 - lr: 5.0000e-04\n",
            "Epoch 41/1000\n",
            "1027/1027 [==============================] - ETA: 0s - loss: 0.9537 - accuracy: 0.6333 - prc: 0.7240\n",
            "Epoch 41: val_prc did not improve from 0.86216\n",
            "1027/1027 [==============================] - 114s 111ms/step - loss: 0.9537 - accuracy: 0.6333 - prc: 0.7240 - val_loss: 0.7209 - val_accuracy: 0.7306 - val_prc: 0.8530 - lr: 5.0000e-04\n",
            "Epoch 42/1000\n",
            "1027/1027 [==============================] - ETA: 0s - loss: 0.9572 - accuracy: 0.6350 - prc: 0.7241\n",
            "Epoch 42: val_prc did not improve from 0.86216\n",
            "1027/1027 [==============================] - 115s 112ms/step - loss: 0.9572 - accuracy: 0.6350 - prc: 0.7241 - val_loss: 0.9088 - val_accuracy: 0.7047 - val_prc: 0.8043 - lr: 5.0000e-04\n",
            "Epoch 43/1000\n",
            "1027/1027 [==============================] - ETA: 0s - loss: 0.9516 - accuracy: 0.6350 - prc: 0.7260\n",
            "Epoch 43: val_prc did not improve from 0.86216\n",
            "1027/1027 [==============================] - 114s 111ms/step - loss: 0.9516 - accuracy: 0.6350 - prc: 0.7260 - val_loss: 0.7761 - val_accuracy: 0.7306 - val_prc: 0.8517 - lr: 5.0000e-04\n",
            "Epoch 44/1000\n",
            "1027/1027 [==============================] - ETA: 0s - loss: 0.9532 - accuracy: 0.6355 - prc: 0.7256\n",
            "Epoch 44: val_prc did not improve from 0.86216\n",
            "1027/1027 [==============================] - 114s 111ms/step - loss: 0.9532 - accuracy: 0.6355 - prc: 0.7256 - val_loss: 0.8449 - val_accuracy: 0.7202 - val_prc: 0.8289 - lr: 5.0000e-04\n",
            "Epoch 45/1000\n",
            "1027/1027 [==============================] - ETA: 0s - loss: 0.9515 - accuracy: 0.6336 - prc: 0.7252\n",
            "Epoch 45: val_prc did not improve from 0.86216\n",
            "1027/1027 [==============================] - 115s 112ms/step - loss: 0.9515 - accuracy: 0.6336 - prc: 0.7252 - val_loss: 0.9482 - val_accuracy: 0.7047 - val_prc: 0.8061 - lr: 5.0000e-04\n",
            "Epoch 46/1000\n",
            "1027/1027 [==============================] - ETA: 0s - loss: 0.9409 - accuracy: 0.6409 - prc: 0.7304\n",
            "Epoch 46: val_prc did not improve from 0.86216\n",
            "1027/1027 [==============================] - 114s 111ms/step - loss: 0.9409 - accuracy: 0.6409 - prc: 0.7304 - val_loss: 0.9402 - val_accuracy: 0.7150 - val_prc: 0.8054 - lr: 5.0000e-04\n",
            "Epoch 47/1000\n",
            "1027/1027 [==============================] - ETA: 0s - loss: 0.9414 - accuracy: 0.6366 - prc: 0.7301\n",
            "Epoch 47: val_prc did not improve from 0.86216\n",
            "1027/1027 [==============================] - 115s 112ms/step - loss: 0.9414 - accuracy: 0.6366 - prc: 0.7301 - val_loss: 0.7978 - val_accuracy: 0.7202 - val_prc: 0.8459 - lr: 5.0000e-04\n",
            "Epoch 48/1000\n",
            "1027/1027 [==============================] - ETA: 0s - loss: 0.9515 - accuracy: 0.6353 - prc: 0.7251\n",
            "Epoch 48: val_prc did not improve from 0.86216\n",
            "1027/1027 [==============================] - 115s 112ms/step - loss: 0.9515 - accuracy: 0.6353 - prc: 0.7251 - val_loss: 0.8231 - val_accuracy: 0.7358 - val_prc: 0.8418 - lr: 5.0000e-04\n",
            "Epoch 49/1000\n",
            "1027/1027 [==============================] - ETA: 0s - loss: 0.9437 - accuracy: 0.6410 - prc: 0.7301\n",
            "Epoch 49: val_prc did not improve from 0.86216\n",
            "1027/1027 [==============================] - 115s 112ms/step - loss: 0.9437 - accuracy: 0.6410 - prc: 0.7301 - val_loss: 0.8160 - val_accuracy: 0.7150 - val_prc: 0.8468 - lr: 5.0000e-04\n",
            "Epoch 50/1000\n",
            "1027/1027 [==============================] - ETA: 0s - loss: 0.9416 - accuracy: 0.6434 - prc: 0.7314\n",
            "Epoch 50: val_prc did not improve from 0.86216\n",
            "1027/1027 [==============================] - 114s 111ms/step - loss: 0.9416 - accuracy: 0.6434 - prc: 0.7314 - val_loss: 0.8251 - val_accuracy: 0.7254 - val_prc: 0.8379 - lr: 5.0000e-04\n",
            "Epoch 51/1000\n",
            "1027/1027 [==============================] - ETA: 0s - loss: 0.9414 - accuracy: 0.6411 - prc: 0.7304\n",
            "Epoch 51: val_prc did not improve from 0.86216\n",
            "1027/1027 [==============================] - 115s 112ms/step - loss: 0.9414 - accuracy: 0.6411 - prc: 0.7304 - val_loss: 0.8020 - val_accuracy: 0.7409 - val_prc: 0.8507 - lr: 5.0000e-04\n",
            "Epoch 52/1000\n",
            "1027/1027 [==============================] - ETA: 0s - loss: 0.9427 - accuracy: 0.6412 - prc: 0.7309\n",
            "Epoch 52: val_prc did not improve from 0.86216\n",
            "1027/1027 [==============================] - 114s 111ms/step - loss: 0.9427 - accuracy: 0.6412 - prc: 0.7309 - val_loss: 0.7473 - val_accuracy: 0.7513 - val_prc: 0.8566 - lr: 5.0000e-04\n",
            "Epoch 53/1000\n",
            "1027/1027 [==============================] - ETA: 0s - loss: 0.9384 - accuracy: 0.6401 - prc: 0.7321\n",
            "Epoch 53: val_prc did not improve from 0.86216\n",
            "1027/1027 [==============================] - 114s 111ms/step - loss: 0.9384 - accuracy: 0.6401 - prc: 0.7321 - val_loss: 0.7252 - val_accuracy: 0.7565 - val_prc: 0.8560 - lr: 5.0000e-04\n",
            "Epoch 54/1000\n",
            "1027/1027 [==============================] - ETA: 0s - loss: 0.9355 - accuracy: 0.6414 - prc: 0.7340\n",
            "Epoch 54: val_prc did not improve from 0.86216\n",
            "1027/1027 [==============================] - 114s 111ms/step - loss: 0.9355 - accuracy: 0.6414 - prc: 0.7340 - val_loss: 0.8640 - val_accuracy: 0.7202 - val_prc: 0.8304 - lr: 5.0000e-04\n",
            "Epoch 55/1000\n",
            "1027/1027 [==============================] - ETA: 0s - loss: 0.9355 - accuracy: 0.6423 - prc: 0.7343\n",
            "Epoch 55: val_prc did not improve from 0.86216\n",
            "1027/1027 [==============================] - 114s 111ms/step - loss: 0.9355 - accuracy: 0.6423 - prc: 0.7343 - val_loss: 0.7763 - val_accuracy: 0.7306 - val_prc: 0.8541 - lr: 5.0000e-04\n",
            "Epoch 56/1000\n",
            "1027/1027 [==============================] - ETA: 0s - loss: 0.9380 - accuracy: 0.6417 - prc: 0.7322\n",
            "Epoch 56: val_prc did not improve from 0.86216\n",
            "1027/1027 [==============================] - 114s 111ms/step - loss: 0.9380 - accuracy: 0.6417 - prc: 0.7322 - val_loss: 0.9083 - val_accuracy: 0.6995 - val_prc: 0.8231 - lr: 5.0000e-04\n",
            "Epoch 57/1000\n",
            "1027/1027 [==============================] - ETA: 0s - loss: 0.9373 - accuracy: 0.6427 - prc: 0.7330\n",
            "Epoch 57: val_prc did not improve from 0.86216\n",
            "1027/1027 [==============================] - 114s 111ms/step - loss: 0.9373 - accuracy: 0.6427 - prc: 0.7330 - val_loss: 0.7916 - val_accuracy: 0.7150 - val_prc: 0.8413 - lr: 5.0000e-04\n",
            "Epoch 58/1000\n",
            "1027/1027 [==============================] - ETA: 0s - loss: 0.9309 - accuracy: 0.6422 - prc: 0.7349\n",
            "Epoch 58: val_prc did not improve from 0.86216\n",
            "1027/1027 [==============================] - 114s 111ms/step - loss: 0.9309 - accuracy: 0.6422 - prc: 0.7349 - val_loss: 0.7533 - val_accuracy: 0.7461 - val_prc: 0.8536 - lr: 5.0000e-04\n",
            "Epoch 59/1000\n",
            "1027/1027 [==============================] - ETA: 0s - loss: 0.9321 - accuracy: 0.6444 - prc: 0.7343\n",
            "Epoch 59: val_prc did not improve from 0.86216\n",
            "1027/1027 [==============================] - 115s 112ms/step - loss: 0.9321 - accuracy: 0.6444 - prc: 0.7343 - val_loss: 0.7311 - val_accuracy: 0.7409 - val_prc: 0.8595 - lr: 5.0000e-04\n",
            "Epoch 60/1000\n",
            "1027/1027 [==============================] - ETA: 0s - loss: 0.9274 - accuracy: 0.6466 - prc: 0.7370\n",
            "Epoch 60: val_prc did not improve from 0.86216\n",
            "1027/1027 [==============================] - 114s 111ms/step - loss: 0.9274 - accuracy: 0.6466 - prc: 0.7370 - val_loss: 0.7505 - val_accuracy: 0.7513 - val_prc: 0.8570 - lr: 5.0000e-04\n",
            "Epoch 61/1000\n",
            "1027/1027 [==============================] - ETA: 0s - loss: 0.9252 - accuracy: 0.6484 - prc: 0.7385\n",
            "Epoch 61: val_prc did not improve from 0.86216\n",
            "1027/1027 [==============================] - 114s 111ms/step - loss: 0.9252 - accuracy: 0.6484 - prc: 0.7385 - val_loss: 0.8224 - val_accuracy: 0.7202 - val_prc: 0.8354 - lr: 5.0000e-04\n",
            "Epoch 62/1000\n",
            "1027/1027 [==============================] - ETA: 0s - loss: 0.9359 - accuracy: 0.6421 - prc: 0.7325\n",
            "Epoch 62: val_prc did not improve from 0.86216\n",
            "1027/1027 [==============================] - 114s 111ms/step - loss: 0.9359 - accuracy: 0.6421 - prc: 0.7325 - val_loss: 0.7806 - val_accuracy: 0.7668 - val_prc: 0.8582 - lr: 5.0000e-04\n",
            "Epoch 63/1000\n",
            "1027/1027 [==============================] - ETA: 0s - loss: 0.9306 - accuracy: 0.6421 - prc: 0.7350\n",
            "Epoch 63: val_prc did not improve from 0.86216\n",
            "1027/1027 [==============================] - 114s 111ms/step - loss: 0.9306 - accuracy: 0.6421 - prc: 0.7350 - val_loss: 0.7849 - val_accuracy: 0.7358 - val_prc: 0.8395 - lr: 5.0000e-04\n",
            "Epoch 64/1000\n",
            "1027/1027 [==============================] - ETA: 0s - loss: 0.9318 - accuracy: 0.6449 - prc: 0.7362\n",
            "Epoch 64: val_prc did not improve from 0.86216\n",
            "1027/1027 [==============================] - 114s 111ms/step - loss: 0.9318 - accuracy: 0.6449 - prc: 0.7362 - val_loss: 0.9199 - val_accuracy: 0.6995 - val_prc: 0.8068 - lr: 5.0000e-04\n",
            "Epoch 65/1000\n",
            "1027/1027 [==============================] - ETA: 0s - loss: 0.9377 - accuracy: 0.6430 - prc: 0.7331\n",
            "Epoch 65: val_prc did not improve from 0.86216\n",
            "1027/1027 [==============================] - 114s 111ms/step - loss: 0.9377 - accuracy: 0.6430 - prc: 0.7331 - val_loss: 0.7736 - val_accuracy: 0.7409 - val_prc: 0.8434 - lr: 5.0000e-04\n",
            "Epoch 66/1000\n",
            "1027/1027 [==============================] - ETA: 0s - loss: 0.9265 - accuracy: 0.6467 - prc: 0.7378\n",
            "Epoch 66: val_prc did not improve from 0.86216\n",
            "1027/1027 [==============================] - 114s 111ms/step - loss: 0.9265 - accuracy: 0.6467 - prc: 0.7378 - val_loss: 0.8574 - val_accuracy: 0.7047 - val_prc: 0.8245 - lr: 5.0000e-04\n",
            "Epoch 67/1000\n",
            "1027/1027 [==============================] - ETA: 0s - loss: 0.9220 - accuracy: 0.6498 - prc: 0.7392\n",
            "Epoch 67: val_prc did not improve from 0.86216\n",
            "1027/1027 [==============================] - 114s 111ms/step - loss: 0.9220 - accuracy: 0.6498 - prc: 0.7392 - val_loss: 0.8588 - val_accuracy: 0.7409 - val_prc: 0.8372 - lr: 5.0000e-04\n",
            "Epoch 68/1000\n",
            "1027/1027 [==============================] - ETA: 0s - loss: 0.9311 - accuracy: 0.6451 - prc: 0.7355\n",
            "Epoch 68: val_prc did not improve from 0.86216\n",
            "1027/1027 [==============================] - 114s 111ms/step - loss: 0.9311 - accuracy: 0.6451 - prc: 0.7355 - val_loss: 0.7764 - val_accuracy: 0.7306 - val_prc: 0.8411 - lr: 5.0000e-04\n",
            "Epoch 69/1000\n",
            "1027/1027 [==============================] - ETA: 0s - loss: 0.9254 - accuracy: 0.6469 - prc: 0.7385\n",
            "Epoch 69: val_prc did not improve from 0.86216\n",
            "1027/1027 [==============================] - 115s 112ms/step - loss: 0.9254 - accuracy: 0.6469 - prc: 0.7385 - val_loss: 0.8315 - val_accuracy: 0.7306 - val_prc: 0.8376 - lr: 5.0000e-04\n",
            "Epoch 70/1000\n",
            "1027/1027 [==============================] - ETA: 0s - loss: 0.9211 - accuracy: 0.6498 - prc: 0.7403\n",
            "Epoch 70: val_prc did not improve from 0.86216\n",
            "1027/1027 [==============================] - 115s 112ms/step - loss: 0.9211 - accuracy: 0.6498 - prc: 0.7403 - val_loss: 0.8512 - val_accuracy: 0.7047 - val_prc: 0.8360 - lr: 5.0000e-04\n",
            "Epoch 71/1000\n",
            "1027/1027 [==============================] - ETA: 0s - loss: 0.9289 - accuracy: 0.6448 - prc: 0.7365\n",
            "Epoch 71: val_prc did not improve from 0.86216\n",
            "1027/1027 [==============================] - 115s 112ms/step - loss: 0.9289 - accuracy: 0.6448 - prc: 0.7365 - val_loss: 0.8425 - val_accuracy: 0.7202 - val_prc: 0.8409 - lr: 5.0000e-04\n",
            "Epoch 72/1000\n",
            "1027/1027 [==============================] - ETA: 0s - loss: 0.9246 - accuracy: 0.6479 - prc: 0.7385\n",
            "Epoch 72: val_prc did not improve from 0.86216\n",
            "1027/1027 [==============================] - 114s 111ms/step - loss: 0.9246 - accuracy: 0.6479 - prc: 0.7385 - val_loss: 0.8132 - val_accuracy: 0.7202 - val_prc: 0.8381 - lr: 5.0000e-04\n",
            "Epoch 73/1000\n",
            "1027/1027 [==============================] - ETA: 0s - loss: 0.9231 - accuracy: 0.6488 - prc: 0.7386\n",
            "Epoch 73: val_prc did not improve from 0.86216\n",
            "1027/1027 [==============================] - 114s 111ms/step - loss: 0.9231 - accuracy: 0.6488 - prc: 0.7386 - val_loss: 0.7585 - val_accuracy: 0.7461 - val_prc: 0.8529 - lr: 5.0000e-04\n",
            "Epoch 74/1000\n",
            "1027/1027 [==============================] - ETA: 0s - loss: 0.9221 - accuracy: 0.6465 - prc: 0.7399\n",
            "Epoch 74: val_prc did not improve from 0.86216\n",
            "1027/1027 [==============================] - 115s 111ms/step - loss: 0.9221 - accuracy: 0.6465 - prc: 0.7399 - val_loss: 0.7883 - val_accuracy: 0.7047 - val_prc: 0.8418 - lr: 5.0000e-04\n",
            "Epoch 75/1000\n",
            "1027/1027 [==============================] - ETA: 0s - loss: 0.9241 - accuracy: 0.6460 - prc: 0.7377\n",
            "Epoch 75: val_prc did not improve from 0.86216\n",
            "1027/1027 [==============================] - 114s 111ms/step - loss: 0.9241 - accuracy: 0.6460 - prc: 0.7377 - val_loss: 0.8581 - val_accuracy: 0.7098 - val_prc: 0.8281 - lr: 5.0000e-04\n",
            "Epoch 76/1000\n",
            "1027/1027 [==============================] - ETA: 0s - loss: 0.9264 - accuracy: 0.6446 - prc: 0.7387\n",
            "Epoch 76: val_prc did not improve from 0.86216\n",
            "1027/1027 [==============================] - 114s 111ms/step - loss: 0.9264 - accuracy: 0.6446 - prc: 0.7387 - val_loss: 0.7588 - val_accuracy: 0.7461 - val_prc: 0.8500 - lr: 5.0000e-04\n",
            "Epoch 77/1000\n",
            "1027/1027 [==============================] - ETA: 0s - loss: 0.9236 - accuracy: 0.6478 - prc: 0.7391\n",
            "Epoch 77: val_prc did not improve from 0.86216\n",
            "1027/1027 [==============================] - 114s 111ms/step - loss: 0.9236 - accuracy: 0.6478 - prc: 0.7391 - val_loss: 0.7917 - val_accuracy: 0.7306 - val_prc: 0.8481 - lr: 5.0000e-04\n",
            "Epoch 78/1000\n",
            "1027/1027 [==============================] - ETA: 0s - loss: 0.9195 - accuracy: 0.6480 - prc: 0.7418\n",
            "Epoch 78: val_prc did not improve from 0.86216\n",
            "1027/1027 [==============================] - 114s 111ms/step - loss: 0.9195 - accuracy: 0.6480 - prc: 0.7418 - val_loss: 0.8338 - val_accuracy: 0.7047 - val_prc: 0.8326 - lr: 5.0000e-04\n",
            "Epoch 79/1000\n",
            "1027/1027 [==============================] - ETA: 0s - loss: 0.9203 - accuracy: 0.6502 - prc: 0.7407\n",
            "Epoch 79: val_prc did not improve from 0.86216\n",
            "1027/1027 [==============================] - 114s 111ms/step - loss: 0.9203 - accuracy: 0.6502 - prc: 0.7407 - val_loss: 0.7661 - val_accuracy: 0.7513 - val_prc: 0.8485 - lr: 5.0000e-04\n",
            "Epoch 80/1000\n",
            "1027/1027 [==============================] - ETA: 0s - loss: 0.9169 - accuracy: 0.6488 - prc: 0.7425\n",
            "Epoch 80: val_prc did not improve from 0.86216\n",
            "1027/1027 [==============================] - 115s 111ms/step - loss: 0.9169 - accuracy: 0.6488 - prc: 0.7425 - val_loss: 0.7795 - val_accuracy: 0.7617 - val_prc: 0.8500 - lr: 5.0000e-04\n",
            "Epoch 81/1000\n",
            "1027/1027 [==============================] - ETA: 0s - loss: 0.9170 - accuracy: 0.6516 - prc: 0.7417\n",
            "Epoch 81: val_prc did not improve from 0.86216\n",
            "1027/1027 [==============================] - 115s 112ms/step - loss: 0.9170 - accuracy: 0.6516 - prc: 0.7417 - val_loss: 0.8739 - val_accuracy: 0.7150 - val_prc: 0.8186 - lr: 5.0000e-04\n",
            "Epoch 82/1000\n",
            "1027/1027 [==============================] - ETA: 0s - loss: 0.9193 - accuracy: 0.6497 - prc: 0.7410\n",
            "Epoch 82: val_prc did not improve from 0.86216\n",
            "1027/1027 [==============================] - 115s 111ms/step - loss: 0.9193 - accuracy: 0.6497 - prc: 0.7410 - val_loss: 0.8533 - val_accuracy: 0.7202 - val_prc: 0.8341 - lr: 5.0000e-04\n",
            "Epoch 83/1000\n",
            "1027/1027 [==============================] - ETA: 0s - loss: 0.9152 - accuracy: 0.6496 - prc: 0.7421\n",
            "Epoch 83: val_prc did not improve from 0.86216\n",
            "1027/1027 [==============================] - 115s 112ms/step - loss: 0.9152 - accuracy: 0.6496 - prc: 0.7421 - val_loss: 0.8276 - val_accuracy: 0.7202 - val_prc: 0.8303 - lr: 5.0000e-04\n",
            "Epoch 84/1000\n",
            "1027/1027 [==============================] - ETA: 0s - loss: 0.9188 - accuracy: 0.6481 - prc: 0.7419\n",
            "Epoch 84: val_prc did not improve from 0.86216\n",
            "1027/1027 [==============================] - 114s 111ms/step - loss: 0.9188 - accuracy: 0.6481 - prc: 0.7419 - val_loss: 0.7634 - val_accuracy: 0.7150 - val_prc: 0.8459 - lr: 5.0000e-04\n",
            "Epoch 85/1000\n",
            "1027/1027 [==============================] - ETA: 0s - loss: 0.9181 - accuracy: 0.6486 - prc: 0.7424\n",
            "Epoch 85: val_prc did not improve from 0.86216\n",
            "1027/1027 [==============================] - 115s 111ms/step - loss: 0.9181 - accuracy: 0.6486 - prc: 0.7424 - val_loss: 0.9075 - val_accuracy: 0.7098 - val_prc: 0.8183 - lr: 5.0000e-04\n",
            "Epoch 86/1000\n",
            "1027/1027 [==============================] - ETA: 0s - loss: 0.9134 - accuracy: 0.6524 - prc: 0.7436\n",
            "Epoch 86: val_prc did not improve from 0.86216\n",
            "1027/1027 [==============================] - 114s 111ms/step - loss: 0.9134 - accuracy: 0.6524 - prc: 0.7436 - val_loss: 0.8426 - val_accuracy: 0.7047 - val_prc: 0.8253 - lr: 5.0000e-04\n",
            "Epoch 87/1000\n",
            "1027/1027 [==============================] - ETA: 0s - loss: 0.9132 - accuracy: 0.6527 - prc: 0.7428\n",
            "Epoch 87: val_prc did not improve from 0.86216\n",
            "1027/1027 [==============================] - 115s 112ms/step - loss: 0.9132 - accuracy: 0.6527 - prc: 0.7428 - val_loss: 0.8245 - val_accuracy: 0.7254 - val_prc: 0.8383 - lr: 5.0000e-04\n",
            "Epoch 88/1000\n",
            "1027/1027 [==============================] - ETA: 0s - loss: 0.9125 - accuracy: 0.6526 - prc: 0.7439\n",
            "Epoch 88: val_prc did not improve from 0.86216\n",
            "1027/1027 [==============================] - 114s 111ms/step - loss: 0.9125 - accuracy: 0.6526 - prc: 0.7439 - val_loss: 0.8183 - val_accuracy: 0.7409 - val_prc: 0.8401 - lr: 5.0000e-04\n",
            "Epoch 89/1000\n",
            "1027/1027 [==============================] - ETA: 0s - loss: 0.9206 - accuracy: 0.6510 - prc: 0.7404\n",
            "Epoch 89: val_prc did not improve from 0.86216\n",
            "1027/1027 [==============================] - 114s 111ms/step - loss: 0.9206 - accuracy: 0.6510 - prc: 0.7404 - val_loss: 0.8837 - val_accuracy: 0.7409 - val_prc: 0.8258 - lr: 5.0000e-04\n",
            "Epoch 90/1000\n",
            "1027/1027 [==============================] - ETA: 0s - loss: 0.9121 - accuracy: 0.6543 - prc: 0.7448\n",
            "Epoch 90: val_prc did not improve from 0.86216\n",
            "1027/1027 [==============================] - 114s 111ms/step - loss: 0.9121 - accuracy: 0.6543 - prc: 0.7448 - val_loss: 0.9883 - val_accuracy: 0.7047 - val_prc: 0.8052 - lr: 5.0000e-04\n",
            "Epoch 91/1000\n",
            "1027/1027 [==============================] - ETA: 0s - loss: 0.9129 - accuracy: 0.6515 - prc: 0.7439\n",
            "Epoch 91: val_prc did not improve from 0.86216\n",
            "1027/1027 [==============================] - 115s 111ms/step - loss: 0.9129 - accuracy: 0.6515 - prc: 0.7439 - val_loss: 0.9944 - val_accuracy: 0.6995 - val_prc: 0.8123 - lr: 5.0000e-04\n",
            "Epoch 92/1000\n",
            "1027/1027 [==============================] - ETA: 0s - loss: 0.9145 - accuracy: 0.6509 - prc: 0.7439\n",
            "Epoch 92: val_prc did not improve from 0.86216\n",
            "1027/1027 [==============================] - 114s 111ms/step - loss: 0.9145 - accuracy: 0.6509 - prc: 0.7439 - val_loss: 0.8511 - val_accuracy: 0.7254 - val_prc: 0.8358 - lr: 5.0000e-04\n",
            "Epoch 93/1000\n",
            "1027/1027 [==============================] - ETA: 0s - loss: 0.9203 - accuracy: 0.6481 - prc: 0.7412\n",
            "Epoch 93: val_prc did not improve from 0.86216\n",
            "1027/1027 [==============================] - 114s 111ms/step - loss: 0.9203 - accuracy: 0.6481 - prc: 0.7412 - val_loss: 0.7797 - val_accuracy: 0.7409 - val_prc: 0.8597 - lr: 5.0000e-04\n",
            "Epoch 94/1000\n",
            "1027/1027 [==============================] - ETA: 0s - loss: 0.9126 - accuracy: 0.6527 - prc: 0.7442\n",
            "Epoch 94: val_prc did not improve from 0.86216\n",
            "1027/1027 [==============================] - 114s 111ms/step - loss: 0.9126 - accuracy: 0.6527 - prc: 0.7442 - val_loss: 0.7603 - val_accuracy: 0.7461 - val_prc: 0.8551 - lr: 5.0000e-04\n",
            "Epoch 95/1000\n",
            "1027/1027 [==============================] - ETA: 0s - loss: 0.9057 - accuracy: 0.6553 - prc: 0.7472\n",
            "Epoch 95: val_prc did not improve from 0.86216\n",
            "1027/1027 [==============================] - 115s 111ms/step - loss: 0.9057 - accuracy: 0.6553 - prc: 0.7472 - val_loss: 0.7938 - val_accuracy: 0.7461 - val_prc: 0.8486 - lr: 5.0000e-04\n",
            "Epoch 96/1000\n",
            "1027/1027 [==============================] - ETA: 0s - loss: 0.9049 - accuracy: 0.6550 - prc: 0.7480\n",
            "Epoch 96: val_prc did not improve from 0.86216\n",
            "1027/1027 [==============================] - 115s 111ms/step - loss: 0.9049 - accuracy: 0.6550 - prc: 0.7480 - val_loss: 0.8387 - val_accuracy: 0.7098 - val_prc: 0.8380 - lr: 5.0000e-04\n",
            "Epoch 97/1000\n",
            "1027/1027 [==============================] - ETA: 0s - loss: 0.9129 - accuracy: 0.6512 - prc: 0.7440\n",
            "Epoch 97: val_prc did not improve from 0.86216\n",
            "1027/1027 [==============================] - 115s 112ms/step - loss: 0.9129 - accuracy: 0.6512 - prc: 0.7440 - val_loss: 0.7914 - val_accuracy: 0.7150 - val_prc: 0.8452 - lr: 5.0000e-04\n",
            "Epoch 98/1000\n",
            "1027/1027 [==============================] - ETA: 0s - loss: 0.9168 - accuracy: 0.6521 - prc: 0.7435\n",
            "Epoch 98: val_prc did not improve from 0.86216\n",
            "1027/1027 [==============================] - 115s 111ms/step - loss: 0.9168 - accuracy: 0.6521 - prc: 0.7435 - val_loss: 0.8134 - val_accuracy: 0.6995 - val_prc: 0.8354 - lr: 5.0000e-04\n",
            "Epoch 99/1000\n",
            "1027/1027 [==============================] - ETA: 0s - loss: 0.9151 - accuracy: 0.6497 - prc: 0.7443\n",
            "Epoch 99: val_prc did not improve from 0.86216\n",
            "1027/1027 [==============================] - 115s 112ms/step - loss: 0.9151 - accuracy: 0.6497 - prc: 0.7443 - val_loss: 0.7763 - val_accuracy: 0.7098 - val_prc: 0.8499 - lr: 5.0000e-04\n",
            "Epoch 100/1000\n",
            "1027/1027 [==============================] - ETA: 0s - loss: 0.9135 - accuracy: 0.6478 - prc: 0.7422\n",
            "Epoch 100: val_prc did not improve from 0.86216\n",
            "1027/1027 [==============================] - 115s 112ms/step - loss: 0.9135 - accuracy: 0.6478 - prc: 0.7422 - val_loss: 0.7963 - val_accuracy: 0.7047 - val_prc: 0.8445 - lr: 5.0000e-04\n",
            "Epoch 101/1000\n",
            "1027/1027 [==============================] - ETA: 0s - loss: 0.9095 - accuracy: 0.6536 - prc: 0.7446\n",
            "Epoch 101: val_prc did not improve from 0.86216\n",
            "1027/1027 [==============================] - 114s 111ms/step - loss: 0.9095 - accuracy: 0.6536 - prc: 0.7446 - val_loss: 0.8328 - val_accuracy: 0.7306 - val_prc: 0.8387 - lr: 5.0000e-04\n",
            "Epoch 102/1000\n",
            "1027/1027 [==============================] - ETA: 0s - loss: 0.9135 - accuracy: 0.6521 - prc: 0.7439\n",
            "Epoch 102: val_prc did not improve from 0.86216\n",
            "1027/1027 [==============================] - 114s 111ms/step - loss: 0.9135 - accuracy: 0.6521 - prc: 0.7439 - val_loss: 0.8443 - val_accuracy: 0.7098 - val_prc: 0.8375 - lr: 5.0000e-04\n",
            "Epoch 103/1000\n",
            "1027/1027 [==============================] - ETA: 0s - loss: 0.9123 - accuracy: 0.6501 - prc: 0.7435\n",
            "Epoch 103: val_prc did not improve from 0.86216\n",
            "1027/1027 [==============================] - 114s 111ms/step - loss: 0.9123 - accuracy: 0.6501 - prc: 0.7435 - val_loss: 0.8602 - val_accuracy: 0.6995 - val_prc: 0.8375 - lr: 5.0000e-04\n",
            "Epoch 104/1000\n",
            "1027/1027 [==============================] - ETA: 0s - loss: 0.9097 - accuracy: 0.6506 - prc: 0.7449\n",
            "Epoch 104: val_prc did not improve from 0.86216\n",
            "1027/1027 [==============================] - 114s 111ms/step - loss: 0.9097 - accuracy: 0.6506 - prc: 0.7449 - val_loss: 0.8168 - val_accuracy: 0.7358 - val_prc: 0.8479 - lr: 5.0000e-04\n",
            "Epoch 105/1000\n",
            "1027/1027 [==============================] - ETA: 0s - loss: 0.9138 - accuracy: 0.6519 - prc: 0.7435\n",
            "Epoch 105: val_prc did not improve from 0.86216\n",
            "1027/1027 [==============================] - 115s 111ms/step - loss: 0.9138 - accuracy: 0.6519 - prc: 0.7435 - val_loss: 0.8308 - val_accuracy: 0.7150 - val_prc: 0.8355 - lr: 5.0000e-04\n",
            "Epoch 106/1000\n",
            "1027/1027 [==============================] - ETA: 0s - loss: 0.9108 - accuracy: 0.6521 - prc: 0.7436\n",
            "Epoch 106: val_prc did not improve from 0.86216\n",
            "1027/1027 [==============================] - 115s 112ms/step - loss: 0.9108 - accuracy: 0.6521 - prc: 0.7436 - val_loss: 0.7264 - val_accuracy: 0.7358 - val_prc: 0.8560 - lr: 5.0000e-04\n",
            "Epoch 107/1000\n",
            "1027/1027 [==============================] - ETA: 0s - loss: 0.8919 - accuracy: 0.6580 - prc: 0.7535\n",
            "Epoch 107: val_prc did not improve from 0.86216\n",
            "1027/1027 [==============================] - 115s 111ms/step - loss: 0.8919 - accuracy: 0.6580 - prc: 0.7535 - val_loss: 0.7548 - val_accuracy: 0.7409 - val_prc: 0.8513 - lr: 2.5000e-04\n",
            "Epoch 108/1000\n",
            "1027/1027 [==============================] - ETA: 0s - loss: 0.8829 - accuracy: 0.6631 - prc: 0.7575\n",
            "Epoch 108: val_prc did not improve from 0.86216\n",
            "1027/1027 [==============================] - 115s 112ms/step - loss: 0.8829 - accuracy: 0.6631 - prc: 0.7575 - val_loss: 0.7613 - val_accuracy: 0.7098 - val_prc: 0.8509 - lr: 2.5000e-04\n",
            "Epoch 109/1000\n",
            "1027/1027 [==============================] - ETA: 0s - loss: 0.8813 - accuracy: 0.6611 - prc: 0.7573\n",
            "Epoch 109: val_prc did not improve from 0.86216\n",
            "1027/1027 [==============================] - 115s 112ms/step - loss: 0.8813 - accuracy: 0.6611 - prc: 0.7573 - val_loss: 0.8118 - val_accuracy: 0.7047 - val_prc: 0.8374 - lr: 2.5000e-04\n",
            "Epoch 110/1000\n",
            "1027/1027 [==============================] - ETA: 0s - loss: 0.8766 - accuracy: 0.6655 - prc: 0.7603\n",
            "Epoch 110: val_prc did not improve from 0.86216\n",
            "1027/1027 [==============================] - 115s 112ms/step - loss: 0.8766 - accuracy: 0.6655 - prc: 0.7603 - val_loss: 0.8306 - val_accuracy: 0.6839 - val_prc: 0.8341 - lr: 2.5000e-04\n",
            "Epoch 111/1000\n",
            "1027/1027 [==============================] - ETA: 0s - loss: 0.8814 - accuracy: 0.6628 - prc: 0.7577\n",
            "Epoch 111: val_prc did not improve from 0.86216\n",
            "1027/1027 [==============================] - 115s 112ms/step - loss: 0.8814 - accuracy: 0.6628 - prc: 0.7577 - val_loss: 0.7992 - val_accuracy: 0.7306 - val_prc: 0.8445 - lr: 2.5000e-04\n",
            "Epoch 112/1000\n",
            "1027/1027 [==============================] - ETA: 0s - loss: 0.8809 - accuracy: 0.6642 - prc: 0.7568\n",
            "Epoch 112: val_prc did not improve from 0.86216\n",
            "1027/1027 [==============================] - 115s 112ms/step - loss: 0.8809 - accuracy: 0.6642 - prc: 0.7568 - val_loss: 0.7495 - val_accuracy: 0.7098 - val_prc: 0.8527 - lr: 2.5000e-04\n",
            "Epoch 113/1000\n",
            "1027/1027 [==============================] - ETA: 0s - loss: 0.8783 - accuracy: 0.6645 - prc: 0.7589\n",
            "Epoch 113: val_prc did not improve from 0.86216\n",
            "1027/1027 [==============================] - 114s 111ms/step - loss: 0.8783 - accuracy: 0.6645 - prc: 0.7589 - val_loss: 0.8122 - val_accuracy: 0.7358 - val_prc: 0.8398 - lr: 2.5000e-04\n",
            "Epoch 114/1000\n",
            "1027/1027 [==============================] - ETA: 0s - loss: 0.8742 - accuracy: 0.6657 - prc: 0.7606\n",
            "Epoch 114: val_prc did not improve from 0.86216\n",
            "1027/1027 [==============================] - 115s 112ms/step - loss: 0.8742 - accuracy: 0.6657 - prc: 0.7606 - val_loss: 0.8912 - val_accuracy: 0.7202 - val_prc: 0.8255 - lr: 2.5000e-04\n",
            "Epoch 115/1000\n",
            "1027/1027 [==============================] - ETA: 0s - loss: 0.8804 - accuracy: 0.6642 - prc: 0.7582\n",
            "Epoch 115: val_prc did not improve from 0.86216\n",
            "1027/1027 [==============================] - 115s 112ms/step - loss: 0.8804 - accuracy: 0.6642 - prc: 0.7582 - val_loss: 0.8326 - val_accuracy: 0.7358 - val_prc: 0.8387 - lr: 2.5000e-04\n",
            "Epoch 116/1000\n",
            "1027/1027 [==============================] - ETA: 0s - loss: 0.8712 - accuracy: 0.6646 - prc: 0.7611\n",
            "Epoch 116: val_prc did not improve from 0.86216\n",
            "1027/1027 [==============================] - 115s 112ms/step - loss: 0.8712 - accuracy: 0.6646 - prc: 0.7611 - val_loss: 0.7905 - val_accuracy: 0.7254 - val_prc: 0.8448 - lr: 2.5000e-04\n",
            "Epoch 117/1000\n",
            "1027/1027 [==============================] - ETA: 0s - loss: 0.8736 - accuracy: 0.6659 - prc: 0.7612\n",
            "Epoch 117: val_prc did not improve from 0.86216\n",
            "1027/1027 [==============================] - 115s 112ms/step - loss: 0.8736 - accuracy: 0.6659 - prc: 0.7612 - val_loss: 0.8107 - val_accuracy: 0.7358 - val_prc: 0.8450 - lr: 2.5000e-04\n",
            "Epoch 118/1000\n",
            "1027/1027 [==============================] - ETA: 0s - loss: 0.8754 - accuracy: 0.6629 - prc: 0.7595\n",
            "Epoch 118: val_prc did not improve from 0.86216\n",
            "1027/1027 [==============================] - 115s 112ms/step - loss: 0.8754 - accuracy: 0.6629 - prc: 0.7595 - val_loss: 0.8969 - val_accuracy: 0.6891 - val_prc: 0.8223 - lr: 2.5000e-04\n",
            "Epoch 119/1000\n",
            "1027/1027 [==============================] - ETA: 0s - loss: 0.8735 - accuracy: 0.6651 - prc: 0.7603\n",
            "Epoch 119: val_prc did not improve from 0.86216\n",
            "1027/1027 [==============================] - 115s 112ms/step - loss: 0.8735 - accuracy: 0.6651 - prc: 0.7603 - val_loss: 0.9232 - val_accuracy: 0.7047 - val_prc: 0.8242 - lr: 2.5000e-04\n",
            "Epoch 120/1000\n",
            "1027/1027 [==============================] - ETA: 0s - loss: 0.8772 - accuracy: 0.6617 - prc: 0.7583\n",
            "Epoch 120: val_prc did not improve from 0.86216\n",
            "1027/1027 [==============================] - 115s 112ms/step - loss: 0.8772 - accuracy: 0.6617 - prc: 0.7583 - val_loss: 0.7466 - val_accuracy: 0.7513 - val_prc: 0.8596 - lr: 2.5000e-04\n",
            "Epoch 121/1000\n",
            "1027/1027 [==============================] - ETA: 0s - loss: 0.8695 - accuracy: 0.6652 - prc: 0.7622\n",
            "Epoch 121: val_prc did not improve from 0.86216\n",
            "1027/1027 [==============================] - 115s 112ms/step - loss: 0.8695 - accuracy: 0.6652 - prc: 0.7622 - val_loss: 0.9019 - val_accuracy: 0.7254 - val_prc: 0.8244 - lr: 2.5000e-04\n",
            "Epoch 122/1000\n",
            "1027/1027 [==============================] - ETA: 0s - loss: 0.8763 - accuracy: 0.6647 - prc: 0.7593\n",
            "Epoch 122: val_prc did not improve from 0.86216\n",
            "1027/1027 [==============================] - 115s 111ms/step - loss: 0.8763 - accuracy: 0.6647 - prc: 0.7593 - val_loss: 0.8634 - val_accuracy: 0.6995 - val_prc: 0.8345 - lr: 2.5000e-04\n",
            "Epoch 123/1000\n",
            "1027/1027 [==============================] - ETA: 0s - loss: 0.8691 - accuracy: 0.6698 - prc: 0.7629\n",
            "Epoch 123: val_prc did not improve from 0.86216\n",
            "1027/1027 [==============================] - 115s 112ms/step - loss: 0.8691 - accuracy: 0.6698 - prc: 0.7629 - val_loss: 0.7962 - val_accuracy: 0.7513 - val_prc: 0.8465 - lr: 2.5000e-04\n",
            "Epoch 124/1000\n",
            "1027/1027 [==============================] - ETA: 0s - loss: 0.8702 - accuracy: 0.6676 - prc: 0.7618\n",
            "Epoch 124: val_prc did not improve from 0.86216\n",
            "1027/1027 [==============================] - 114s 111ms/step - loss: 0.8702 - accuracy: 0.6676 - prc: 0.7618 - val_loss: 0.8475 - val_accuracy: 0.7306 - val_prc: 0.8384 - lr: 2.5000e-04\n",
            "Epoch 125/1000\n",
            "1027/1027 [==============================] - ETA: 0s - loss: 0.8644 - accuracy: 0.6686 - prc: 0.7646\n",
            "Epoch 125: val_prc did not improve from 0.86216\n",
            "1027/1027 [==============================] - 114s 111ms/step - loss: 0.8644 - accuracy: 0.6686 - prc: 0.7646 - val_loss: 0.7507 - val_accuracy: 0.7409 - val_prc: 0.8549 - lr: 2.5000e-04\n",
            "Epoch 126/1000\n",
            "1027/1027 [==============================] - ETA: 0s - loss: 0.8653 - accuracy: 0.6666 - prc: 0.7640\n",
            "Epoch 126: val_prc did not improve from 0.86216\n",
            "1027/1027 [==============================] - 115s 111ms/step - loss: 0.8653 - accuracy: 0.6666 - prc: 0.7640 - val_loss: 0.8275 - val_accuracy: 0.7150 - val_prc: 0.8395 - lr: 2.5000e-04\n",
            "Epoch 127/1000\n",
            "1027/1027 [==============================] - ETA: 0s - loss: 0.8703 - accuracy: 0.6666 - prc: 0.7624\n",
            "Epoch 127: val_prc did not improve from 0.86216\n",
            "1027/1027 [==============================] - 115s 112ms/step - loss: 0.8703 - accuracy: 0.6666 - prc: 0.7624 - val_loss: 0.8555 - val_accuracy: 0.7254 - val_prc: 0.8323 - lr: 2.5000e-04\n",
            "Epoch 128/1000\n",
            "1027/1027 [==============================] - ETA: 0s - loss: 0.8703 - accuracy: 0.6648 - prc: 0.7621\n",
            "Epoch 128: val_prc did not improve from 0.86216\n",
            "1027/1027 [==============================] - 115s 112ms/step - loss: 0.8703 - accuracy: 0.6648 - prc: 0.7621 - val_loss: 0.8466 - val_accuracy: 0.7202 - val_prc: 0.8280 - lr: 2.5000e-04\n",
            "Epoch 129/1000\n",
            "1027/1027 [==============================] - ETA: 0s - loss: 0.8631 - accuracy: 0.6719 - prc: 0.7656\n",
            "Epoch 129: val_prc did not improve from 0.86216\n",
            "1027/1027 [==============================] - 115s 111ms/step - loss: 0.8631 - accuracy: 0.6719 - prc: 0.7656 - val_loss: 0.8705 - val_accuracy: 0.7306 - val_prc: 0.8303 - lr: 2.5000e-04\n",
            "Epoch 130/1000\n",
            "1027/1027 [==============================] - ETA: 0s - loss: 0.8673 - accuracy: 0.6666 - prc: 0.7634\n",
            "Epoch 130: val_prc did not improve from 0.86216\n",
            "1027/1027 [==============================] - 115s 112ms/step - loss: 0.8673 - accuracy: 0.6666 - prc: 0.7634 - val_loss: 0.8823 - val_accuracy: 0.7254 - val_prc: 0.8274 - lr: 2.5000e-04\n",
            "Epoch 131/1000\n",
            "1027/1027 [==============================] - ETA: 0s - loss: 0.8685 - accuracy: 0.6707 - prc: 0.7634\n",
            "Epoch 131: val_prc improved from 0.86216 to 0.86456, saving model to /content/drive/MyDrive/PHD/Model/best_model.h5\n",
            "1027/1027 [==============================] - 117s 114ms/step - loss: 0.8685 - accuracy: 0.6707 - prc: 0.7634 - val_loss: 0.7415 - val_accuracy: 0.7565 - val_prc: 0.8646 - lr: 2.5000e-04\n",
            "Epoch 132/1000\n",
            "1027/1027 [==============================] - ETA: 0s - loss: 0.8627 - accuracy: 0.6701 - prc: 0.7659\n",
            "Epoch 132: val_prc did not improve from 0.86456\n",
            "1027/1027 [==============================] - 115s 112ms/step - loss: 0.8627 - accuracy: 0.6701 - prc: 0.7659 - val_loss: 0.8516 - val_accuracy: 0.7202 - val_prc: 0.8373 - lr: 2.5000e-04\n",
            "Epoch 133/1000\n",
            "1027/1027 [==============================] - ETA: 0s - loss: 0.8711 - accuracy: 0.6677 - prc: 0.7615\n",
            "Epoch 133: val_prc did not improve from 0.86456\n",
            "1027/1027 [==============================] - 115s 112ms/step - loss: 0.8711 - accuracy: 0.6677 - prc: 0.7615 - val_loss: 0.7963 - val_accuracy: 0.7409 - val_prc: 0.8474 - lr: 2.5000e-04\n",
            "Epoch 134/1000\n",
            "1027/1027 [==============================] - ETA: 0s - loss: 0.8690 - accuracy: 0.6663 - prc: 0.7626\n",
            "Epoch 134: val_prc did not improve from 0.86456\n",
            "1027/1027 [==============================] - 115s 112ms/step - loss: 0.8690 - accuracy: 0.6663 - prc: 0.7626 - val_loss: 0.9452 - val_accuracy: 0.7047 - val_prc: 0.8124 - lr: 2.5000e-04\n",
            "Epoch 135/1000\n",
            "1027/1027 [==============================] - ETA: 0s - loss: 0.8650 - accuracy: 0.6674 - prc: 0.7635\n",
            "Epoch 135: val_prc did not improve from 0.86456\n",
            "1027/1027 [==============================] - 115s 112ms/step - loss: 0.8650 - accuracy: 0.6674 - prc: 0.7635 - val_loss: 0.8086 - val_accuracy: 0.7202 - val_prc: 0.8494 - lr: 2.5000e-04\n",
            "Epoch 136/1000\n",
            "1027/1027 [==============================] - ETA: 0s - loss: 0.8676 - accuracy: 0.6696 - prc: 0.7638\n",
            "Epoch 136: val_prc did not improve from 0.86456\n",
            "1027/1027 [==============================] - 115s 112ms/step - loss: 0.8676 - accuracy: 0.6696 - prc: 0.7638 - val_loss: 0.7976 - val_accuracy: 0.7306 - val_prc: 0.8497 - lr: 2.5000e-04\n",
            "Epoch 137/1000\n",
            "1027/1027 [==============================] - ETA: 0s - loss: 0.8643 - accuracy: 0.6690 - prc: 0.7648\n",
            "Epoch 137: val_prc did not improve from 0.86456\n",
            "1027/1027 [==============================] - 115s 112ms/step - loss: 0.8643 - accuracy: 0.6690 - prc: 0.7648 - val_loss: 0.8900 - val_accuracy: 0.6891 - val_prc: 0.8263 - lr: 2.5000e-04\n",
            "Epoch 138/1000\n",
            "1027/1027 [==============================] - ETA: 0s - loss: 0.8712 - accuracy: 0.6659 - prc: 0.7620\n",
            "Epoch 138: val_prc did not improve from 0.86456\n",
            "1027/1027 [==============================] - 115s 112ms/step - loss: 0.8712 - accuracy: 0.6659 - prc: 0.7620 - val_loss: 0.7980 - val_accuracy: 0.7306 - val_prc: 0.8477 - lr: 2.5000e-04\n",
            "Epoch 139/1000\n",
            "1027/1027 [==============================] - ETA: 0s - loss: 0.8662 - accuracy: 0.6712 - prc: 0.7639\n",
            "Epoch 139: val_prc did not improve from 0.86456\n",
            "1027/1027 [==============================] - 115s 112ms/step - loss: 0.8662 - accuracy: 0.6712 - prc: 0.7639 - val_loss: 0.7857 - val_accuracy: 0.7358 - val_prc: 0.8472 - lr: 2.5000e-04\n",
            "Epoch 140/1000\n",
            "1027/1027 [==============================] - ETA: 0s - loss: 0.8618 - accuracy: 0.6702 - prc: 0.7657\n",
            "Epoch 140: val_prc did not improve from 0.86456\n",
            "1027/1027 [==============================] - 115s 112ms/step - loss: 0.8618 - accuracy: 0.6702 - prc: 0.7657 - val_loss: 0.8211 - val_accuracy: 0.7254 - val_prc: 0.8397 - lr: 2.5000e-04\n",
            "Epoch 141/1000\n",
            "1027/1027 [==============================] - ETA: 0s - loss: 0.8684 - accuracy: 0.6689 - prc: 0.7632\n",
            "Epoch 141: val_prc did not improve from 0.86456\n",
            "1027/1027 [==============================] - 115s 112ms/step - loss: 0.8684 - accuracy: 0.6689 - prc: 0.7632 - val_loss: 0.8056 - val_accuracy: 0.7254 - val_prc: 0.8447 - lr: 2.5000e-04\n",
            "Epoch 142/1000\n",
            "1027/1027 [==============================] - ETA: 0s - loss: 0.8694 - accuracy: 0.6664 - prc: 0.7630\n",
            "Epoch 142: val_prc did not improve from 0.86456\n",
            "1027/1027 [==============================] - 115s 112ms/step - loss: 0.8694 - accuracy: 0.6664 - prc: 0.7630 - val_loss: 0.7548 - val_accuracy: 0.7513 - val_prc: 0.8554 - lr: 2.5000e-04\n",
            "Epoch 143/1000\n",
            "1027/1027 [==============================] - ETA: 0s - loss: 0.8663 - accuracy: 0.6661 - prc: 0.7633\n",
            "Epoch 143: val_prc did not improve from 0.86456\n",
            "1027/1027 [==============================] - 115s 112ms/step - loss: 0.8663 - accuracy: 0.6661 - prc: 0.7633 - val_loss: 0.7927 - val_accuracy: 0.7461 - val_prc: 0.8531 - lr: 2.5000e-04\n",
            "Epoch 144/1000\n",
            "1027/1027 [==============================] - ETA: 0s - loss: 0.8627 - accuracy: 0.6696 - prc: 0.7652\n",
            "Epoch 144: val_prc did not improve from 0.86456\n",
            "1027/1027 [==============================] - 115s 112ms/step - loss: 0.8627 - accuracy: 0.6696 - prc: 0.7652 - val_loss: 0.8137 - val_accuracy: 0.7254 - val_prc: 0.8446 - lr: 2.5000e-04\n",
            "Epoch 145/1000\n",
            "1027/1027 [==============================] - ETA: 0s - loss: 0.8646 - accuracy: 0.6675 - prc: 0.7647\n",
            "Epoch 145: val_prc did not improve from 0.86456\n",
            "1027/1027 [==============================] - 115s 112ms/step - loss: 0.8646 - accuracy: 0.6675 - prc: 0.7647 - val_loss: 0.8221 - val_accuracy: 0.7202 - val_prc: 0.8396 - lr: 2.5000e-04\n",
            "Epoch 146/1000\n",
            "1027/1027 [==============================] - ETA: 0s - loss: 0.8634 - accuracy: 0.6675 - prc: 0.7651\n",
            "Epoch 146: val_prc did not improve from 0.86456\n",
            "1027/1027 [==============================] - 115s 112ms/step - loss: 0.8634 - accuracy: 0.6675 - prc: 0.7651 - val_loss: 0.8859 - val_accuracy: 0.7098 - val_prc: 0.8298 - lr: 2.5000e-04\n",
            "Epoch 147/1000\n",
            "1027/1027 [==============================] - ETA: 0s - loss: 0.8621 - accuracy: 0.6711 - prc: 0.7654\n",
            "Epoch 147: val_prc did not improve from 0.86456\n",
            "1027/1027 [==============================] - 115s 112ms/step - loss: 0.8621 - accuracy: 0.6711 - prc: 0.7654 - val_loss: 0.9227 - val_accuracy: 0.7047 - val_prc: 0.8190 - lr: 2.5000e-04\n",
            "Epoch 148/1000\n",
            "1027/1027 [==============================] - ETA: 0s - loss: 0.8672 - accuracy: 0.6665 - prc: 0.7635\n",
            "Epoch 148: val_prc did not improve from 0.86456\n",
            "1027/1027 [==============================] - 115s 112ms/step - loss: 0.8672 - accuracy: 0.6665 - prc: 0.7635 - val_loss: 0.8870 - val_accuracy: 0.7150 - val_prc: 0.8297 - lr: 2.5000e-04\n",
            "Epoch 149/1000\n",
            "1027/1027 [==============================] - ETA: 0s - loss: 0.8594 - accuracy: 0.6720 - prc: 0.7674\n",
            "Epoch 149: val_prc did not improve from 0.86456\n",
            "1027/1027 [==============================] - 115s 112ms/step - loss: 0.8594 - accuracy: 0.6720 - prc: 0.7674 - val_loss: 0.8833 - val_accuracy: 0.7358 - val_prc: 0.8370 - lr: 2.5000e-04\n",
            "Epoch 150/1000\n",
            "1027/1027 [==============================] - ETA: 0s - loss: 0.8609 - accuracy: 0.6708 - prc: 0.7659\n",
            "Epoch 150: val_prc did not improve from 0.86456\n",
            "1027/1027 [==============================] - 115s 112ms/step - loss: 0.8609 - accuracy: 0.6708 - prc: 0.7659 - val_loss: 0.9505 - val_accuracy: 0.7254 - val_prc: 0.8179 - lr: 2.5000e-04\n",
            "Epoch 151/1000\n",
            "1027/1027 [==============================] - ETA: 0s - loss: 0.8675 - accuracy: 0.6692 - prc: 0.7635\n",
            "Epoch 151: val_prc did not improve from 0.86456\n",
            "1027/1027 [==============================] - 115s 112ms/step - loss: 0.8675 - accuracy: 0.6692 - prc: 0.7635 - val_loss: 0.9012 - val_accuracy: 0.7098 - val_prc: 0.8269 - lr: 2.5000e-04\n",
            "Epoch 152/1000\n",
            "1027/1027 [==============================] - ETA: 0s - loss: 0.8673 - accuracy: 0.6688 - prc: 0.7628\n",
            "Epoch 152: val_prc did not improve from 0.86456\n",
            "1027/1027 [==============================] - 115s 112ms/step - loss: 0.8673 - accuracy: 0.6688 - prc: 0.7628 - val_loss: 0.9591 - val_accuracy: 0.6943 - val_prc: 0.8202 - lr: 2.5000e-04\n",
            "Epoch 153/1000\n",
            "1027/1027 [==============================] - ETA: 0s - loss: 0.8652 - accuracy: 0.6689 - prc: 0.7644\n",
            "Epoch 153: val_prc did not improve from 0.86456\n",
            "1027/1027 [==============================] - 115s 112ms/step - loss: 0.8652 - accuracy: 0.6689 - prc: 0.7644 - val_loss: 0.9593 - val_accuracy: 0.6943 - val_prc: 0.8189 - lr: 2.5000e-04\n",
            "Epoch 154/1000\n",
            "1027/1027 [==============================] - ETA: 0s - loss: 0.8675 - accuracy: 0.6680 - prc: 0.7637\n",
            "Epoch 154: val_prc did not improve from 0.86456\n",
            "1027/1027 [==============================] - 115s 112ms/step - loss: 0.8675 - accuracy: 0.6680 - prc: 0.7637 - val_loss: 0.9378 - val_accuracy: 0.7098 - val_prc: 0.8256 - lr: 2.5000e-04\n",
            "Epoch 155/1000\n",
            "1027/1027 [==============================] - ETA: 0s - loss: 0.8623 - accuracy: 0.6725 - prc: 0.7671\n",
            "Epoch 155: val_prc did not improve from 0.86456\n",
            "1027/1027 [==============================] - 115s 112ms/step - loss: 0.8623 - accuracy: 0.6725 - prc: 0.7671 - val_loss: 0.9156 - val_accuracy: 0.7150 - val_prc: 0.8255 - lr: 2.5000e-04\n",
            "Epoch 156/1000\n",
            "1027/1027 [==============================] - ETA: 0s - loss: 0.8637 - accuracy: 0.6679 - prc: 0.7661\n",
            "Epoch 156: val_prc did not improve from 0.86456\n",
            "1027/1027 [==============================] - 115s 112ms/step - loss: 0.8637 - accuracy: 0.6679 - prc: 0.7661 - val_loss: 0.8531 - val_accuracy: 0.7358 - val_prc: 0.8369 - lr: 2.5000e-04\n",
            "Epoch 157/1000\n",
            "1027/1027 [==============================] - ETA: 0s - loss: 0.8628 - accuracy: 0.6671 - prc: 0.7648\n",
            "Epoch 157: val_prc did not improve from 0.86456\n",
            "1027/1027 [==============================] - 115s 112ms/step - loss: 0.8628 - accuracy: 0.6671 - prc: 0.7648 - val_loss: 0.8389 - val_accuracy: 0.7306 - val_prc: 0.8445 - lr: 2.5000e-04\n",
            "Epoch 158/1000\n",
            "1027/1027 [==============================] - ETA: 0s - loss: 0.8607 - accuracy: 0.6737 - prc: 0.7664\n",
            "Epoch 158: val_prc did not improve from 0.86456\n",
            "1027/1027 [==============================] - 115s 112ms/step - loss: 0.8607 - accuracy: 0.6737 - prc: 0.7664 - val_loss: 0.9536 - val_accuracy: 0.6891 - val_prc: 0.8094 - lr: 2.5000e-04\n",
            "Epoch 159/1000\n",
            "1027/1027 [==============================] - ETA: 0s - loss: 0.8597 - accuracy: 0.6712 - prc: 0.7653\n",
            "Epoch 159: val_prc did not improve from 0.86456\n",
            "1027/1027 [==============================] - 115s 112ms/step - loss: 0.8597 - accuracy: 0.6712 - prc: 0.7653 - val_loss: 0.7822 - val_accuracy: 0.7358 - val_prc: 0.8481 - lr: 2.5000e-04\n",
            "Epoch 160/1000\n",
            "1027/1027 [==============================] - ETA: 0s - loss: 0.8519 - accuracy: 0.6737 - prc: 0.7693\n",
            "Epoch 160: val_prc did not improve from 0.86456\n",
            "1027/1027 [==============================] - 115s 112ms/step - loss: 0.8519 - accuracy: 0.6737 - prc: 0.7693 - val_loss: 0.8937 - val_accuracy: 0.6943 - val_prc: 0.8203 - lr: 1.2500e-04\n",
            "Epoch 161/1000\n",
            "1027/1027 [==============================] - ETA: 0s - loss: 0.8460 - accuracy: 0.6759 - prc: 0.7719\n",
            "Epoch 161: val_prc did not improve from 0.86456\n",
            "1027/1027 [==============================] - 115s 112ms/step - loss: 0.8460 - accuracy: 0.6759 - prc: 0.7719 - val_loss: 0.8328 - val_accuracy: 0.7409 - val_prc: 0.8423 - lr: 1.2500e-04\n",
            "Epoch 162/1000\n",
            "1027/1027 [==============================] - ETA: 0s - loss: 0.8476 - accuracy: 0.6791 - prc: 0.7723\n",
            "Epoch 162: val_prc did not improve from 0.86456\n",
            "1027/1027 [==============================] - 115s 112ms/step - loss: 0.8476 - accuracy: 0.6791 - prc: 0.7723 - val_loss: 0.8779 - val_accuracy: 0.7202 - val_prc: 0.8322 - lr: 1.2500e-04\n",
            "Epoch 163/1000\n",
            "1027/1027 [==============================] - ETA: 0s - loss: 0.8433 - accuracy: 0.6752 - prc: 0.7739\n",
            "Epoch 163: val_prc did not improve from 0.86456\n",
            "1027/1027 [==============================] - 115s 112ms/step - loss: 0.8433 - accuracy: 0.6752 - prc: 0.7739 - val_loss: 0.8062 - val_accuracy: 0.7409 - val_prc: 0.8467 - lr: 1.2500e-04\n",
            "Epoch 164/1000\n",
            "1027/1027 [==============================] - ETA: 0s - loss: 0.8432 - accuracy: 0.6757 - prc: 0.7736\n",
            "Epoch 164: val_prc did not improve from 0.86456\n",
            "1027/1027 [==============================] - 115s 112ms/step - loss: 0.8432 - accuracy: 0.6757 - prc: 0.7736 - val_loss: 0.9158 - val_accuracy: 0.7202 - val_prc: 0.8241 - lr: 1.2500e-04\n",
            "Epoch 165/1000\n",
            "1027/1027 [==============================] - ETA: 0s - loss: 0.8533 - accuracy: 0.6713 - prc: 0.7694\n",
            "Epoch 165: val_prc did not improve from 0.86456\n",
            "1027/1027 [==============================] - 115s 112ms/step - loss: 0.8533 - accuracy: 0.6713 - prc: 0.7694 - val_loss: 0.8158 - val_accuracy: 0.7150 - val_prc: 0.8425 - lr: 1.2500e-04\n",
            "Epoch 166/1000\n",
            "1027/1027 [==============================] - ETA: 0s - loss: 0.8469 - accuracy: 0.6784 - prc: 0.7721\n",
            "Epoch 166: val_prc did not improve from 0.86456\n",
            "1027/1027 [==============================] - 116s 112ms/step - loss: 0.8469 - accuracy: 0.6784 - prc: 0.7721 - val_loss: 0.8324 - val_accuracy: 0.7202 - val_prc: 0.8387 - lr: 1.2500e-04\n",
            "Epoch 167/1000\n",
            "1027/1027 [==============================] - ETA: 0s - loss: 0.8496 - accuracy: 0.6754 - prc: 0.7707\n",
            "Epoch 167: val_prc did not improve from 0.86456\n",
            "1027/1027 [==============================] - 116s 112ms/step - loss: 0.8496 - accuracy: 0.6754 - prc: 0.7707 - val_loss: 0.8328 - val_accuracy: 0.7358 - val_prc: 0.8410 - lr: 1.2500e-04\n",
            "Epoch 168/1000\n",
            "1027/1027 [==============================] - ETA: 0s - loss: 0.8387 - accuracy: 0.6784 - prc: 0.7754\n",
            "Epoch 168: val_prc did not improve from 0.86456\n",
            "1027/1027 [==============================] - 115s 112ms/step - loss: 0.8387 - accuracy: 0.6784 - prc: 0.7754 - val_loss: 0.8849 - val_accuracy: 0.7098 - val_prc: 0.8278 - lr: 1.2500e-04\n",
            "Epoch 169/1000\n",
            "1027/1027 [==============================] - ETA: 0s - loss: 0.8440 - accuracy: 0.6771 - prc: 0.7739\n",
            "Epoch 169: val_prc did not improve from 0.86456\n",
            "1027/1027 [==============================] - 115s 112ms/step - loss: 0.8440 - accuracy: 0.6771 - prc: 0.7739 - val_loss: 0.8648 - val_accuracy: 0.7306 - val_prc: 0.8333 - lr: 1.2500e-04\n",
            "Epoch 170/1000\n",
            "1027/1027 [==============================] - ETA: 0s - loss: 0.8445 - accuracy: 0.6776 - prc: 0.7729\n",
            "Epoch 170: val_prc did not improve from 0.86456\n",
            "1027/1027 [==============================] - 115s 112ms/step - loss: 0.8445 - accuracy: 0.6776 - prc: 0.7729 - val_loss: 0.8096 - val_accuracy: 0.7306 - val_prc: 0.8443 - lr: 1.2500e-04\n",
            "Epoch 171/1000\n",
            "1027/1027 [==============================] - ETA: 0s - loss: 0.8491 - accuracy: 0.6730 - prc: 0.7714\n",
            "Epoch 171: val_prc did not improve from 0.86456\n",
            "1027/1027 [==============================] - 115s 112ms/step - loss: 0.8491 - accuracy: 0.6730 - prc: 0.7714 - val_loss: 0.8132 - val_accuracy: 0.7358 - val_prc: 0.8428 - lr: 1.2500e-04\n",
            "Epoch 172/1000\n",
            "1027/1027 [==============================] - ETA: 0s - loss: 0.8473 - accuracy: 0.6771 - prc: 0.7727\n",
            "Epoch 172: val_prc did not improve from 0.86456\n",
            "1027/1027 [==============================] - 115s 112ms/step - loss: 0.8473 - accuracy: 0.6771 - prc: 0.7727 - val_loss: 0.8197 - val_accuracy: 0.7358 - val_prc: 0.8381 - lr: 1.2500e-04\n",
            "Epoch 173/1000\n",
            "1027/1027 [==============================] - ETA: 0s - loss: 0.8514 - accuracy: 0.6730 - prc: 0.7712\n",
            "Epoch 173: val_prc did not improve from 0.86456\n",
            "1027/1027 [==============================] - 116s 112ms/step - loss: 0.8514 - accuracy: 0.6730 - prc: 0.7712 - val_loss: 0.8061 - val_accuracy: 0.7358 - val_prc: 0.8433 - lr: 1.2500e-04\n",
            "Epoch 174/1000\n",
            "1027/1027 [==============================] - ETA: 0s - loss: 0.8432 - accuracy: 0.6770 - prc: 0.7735\n",
            "Epoch 174: val_prc did not improve from 0.86456\n",
            "1027/1027 [==============================] - 116s 112ms/step - loss: 0.8432 - accuracy: 0.6770 - prc: 0.7735 - val_loss: 0.9052 - val_accuracy: 0.7150 - val_prc: 0.8258 - lr: 1.2500e-04\n",
            "Epoch 175/1000\n",
            "1027/1027 [==============================] - ETA: 0s - loss: 0.8434 - accuracy: 0.6796 - prc: 0.7731\n",
            "Epoch 175: val_prc did not improve from 0.86456\n",
            "1027/1027 [==============================] - 115s 112ms/step - loss: 0.8434 - accuracy: 0.6796 - prc: 0.7731 - val_loss: 0.8054 - val_accuracy: 0.7202 - val_prc: 0.8469 - lr: 1.2500e-04\n",
            "Epoch 176/1000\n",
            "1027/1027 [==============================] - ETA: 0s - loss: 0.8364 - accuracy: 0.6818 - prc: 0.7771\n",
            "Epoch 176: val_prc did not improve from 0.86456\n",
            "1027/1027 [==============================] - 115s 112ms/step - loss: 0.8364 - accuracy: 0.6818 - prc: 0.7771 - val_loss: 0.8424 - val_accuracy: 0.7254 - val_prc: 0.8389 - lr: 1.2500e-04\n",
            "Epoch 177/1000\n",
            "1027/1027 [==============================] - ETA: 0s - loss: 0.8460 - accuracy: 0.6773 - prc: 0.7728\n",
            "Epoch 177: val_prc did not improve from 0.86456\n",
            "1027/1027 [==============================] - 115s 112ms/step - loss: 0.8460 - accuracy: 0.6773 - prc: 0.7728 - val_loss: 0.8351 - val_accuracy: 0.7150 - val_prc: 0.8383 - lr: 1.2500e-04\n",
            "Epoch 178/1000\n",
            "1027/1027 [==============================] - ETA: 0s - loss: 0.8451 - accuracy: 0.6775 - prc: 0.7740\n",
            "Epoch 178: val_prc did not improve from 0.86456\n",
            "1027/1027 [==============================] - 115s 112ms/step - loss: 0.8451 - accuracy: 0.6775 - prc: 0.7740 - val_loss: 0.8501 - val_accuracy: 0.7358 - val_prc: 0.8363 - lr: 1.2500e-04\n",
            "Epoch 179/1000\n",
            "1027/1027 [==============================] - ETA: 0s - loss: 0.8430 - accuracy: 0.6757 - prc: 0.7733\n",
            "Epoch 179: val_prc did not improve from 0.86456\n",
            "1027/1027 [==============================] - 115s 112ms/step - loss: 0.8430 - accuracy: 0.6757 - prc: 0.7733 - val_loss: 0.8650 - val_accuracy: 0.7098 - val_prc: 0.8297 - lr: 1.2500e-04\n",
            "Epoch 180/1000\n",
            "1027/1027 [==============================] - ETA: 0s - loss: 0.8431 - accuracy: 0.6778 - prc: 0.7739\n",
            "Epoch 180: val_prc did not improve from 0.86456\n",
            "1027/1027 [==============================] - 115s 112ms/step - loss: 0.8431 - accuracy: 0.6778 - prc: 0.7739 - val_loss: 0.8099 - val_accuracy: 0.7358 - val_prc: 0.8453 - lr: 1.2500e-04\n",
            "Epoch 181/1000\n",
            "1027/1027 [==============================] - ETA: 0s - loss: 0.8415 - accuracy: 0.6772 - prc: 0.7738\n",
            "Epoch 181: val_prc did not improve from 0.86456\n",
            "1027/1027 [==============================] - 115s 112ms/step - loss: 0.8415 - accuracy: 0.6772 - prc: 0.7738 - val_loss: 0.8361 - val_accuracy: 0.7254 - val_prc: 0.8400 - lr: 1.2500e-04\n",
            "Epoch 182/1000\n",
            "1027/1027 [==============================] - ETA: 0s - loss: 0.8406 - accuracy: 0.6780 - prc: 0.7758\n",
            "Epoch 182: val_prc did not improve from 0.86456\n",
            "1027/1027 [==============================] - 115s 112ms/step - loss: 0.8406 - accuracy: 0.6780 - prc: 0.7758 - val_loss: 0.8458 - val_accuracy: 0.7047 - val_prc: 0.8356 - lr: 1.2500e-04\n",
            "Epoch 183/1000\n",
            "1027/1027 [==============================] - ETA: 0s - loss: 0.8409 - accuracy: 0.6785 - prc: 0.7744\n",
            "Epoch 183: val_prc did not improve from 0.86456\n",
            "1027/1027 [==============================] - 115s 112ms/step - loss: 0.8409 - accuracy: 0.6785 - prc: 0.7744 - val_loss: 0.8546 - val_accuracy: 0.7202 - val_prc: 0.8370 - lr: 1.2500e-04\n",
            "Epoch 184/1000\n",
            "1027/1027 [==============================] - ETA: 0s - loss: 0.8432 - accuracy: 0.6768 - prc: 0.7737\n",
            "Epoch 184: val_prc did not improve from 0.86456\n",
            "1027/1027 [==============================] - 115s 112ms/step - loss: 0.8432 - accuracy: 0.6768 - prc: 0.7737 - val_loss: 0.8275 - val_accuracy: 0.7202 - val_prc: 0.8411 - lr: 1.2500e-04\n",
            "Epoch 185/1000\n",
            "1027/1027 [==============================] - ETA: 0s - loss: 0.8421 - accuracy: 0.6763 - prc: 0.7743\n",
            "Epoch 185: val_prc did not improve from 0.86456\n",
            "1027/1027 [==============================] - 115s 112ms/step - loss: 0.8421 - accuracy: 0.6763 - prc: 0.7743 - val_loss: 0.8213 - val_accuracy: 0.7409 - val_prc: 0.8426 - lr: 1.2500e-04\n",
            "Epoch 186/1000\n",
            "1027/1027 [==============================] - ETA: 0s - loss: 0.8412 - accuracy: 0.6764 - prc: 0.7751\n",
            "Epoch 186: val_prc did not improve from 0.86456\n",
            "1027/1027 [==============================] - 115s 112ms/step - loss: 0.8412 - accuracy: 0.6764 - prc: 0.7751 - val_loss: 0.8162 - val_accuracy: 0.7306 - val_prc: 0.8421 - lr: 1.2500e-04\n",
            "Epoch 187/1000\n",
            "1027/1027 [==============================] - ETA: 0s - loss: 0.8359 - accuracy: 0.6786 - prc: 0.7768\n",
            "Epoch 187: val_prc did not improve from 0.86456\n",
            "1027/1027 [==============================] - 115s 112ms/step - loss: 0.8359 - accuracy: 0.6786 - prc: 0.7768 - val_loss: 0.8202 - val_accuracy: 0.7254 - val_prc: 0.8405 - lr: 6.2500e-05\n",
            "Epoch 188/1000\n",
            "1027/1027 [==============================] - ETA: 0s - loss: 0.8301 - accuracy: 0.6844 - prc: 0.7807\n",
            "Epoch 188: val_prc did not improve from 0.86456\n",
            "1027/1027 [==============================] - 115s 112ms/step - loss: 0.8301 - accuracy: 0.6844 - prc: 0.7807 - val_loss: 0.8509 - val_accuracy: 0.7150 - val_prc: 0.8351 - lr: 6.2500e-05\n",
            "Epoch 189/1000\n",
            "1027/1027 [==============================] - ETA: 0s - loss: 0.8430 - accuracy: 0.6758 - prc: 0.7728\n",
            "Epoch 189: val_prc did not improve from 0.86456\n",
            "1027/1027 [==============================] - 115s 112ms/step - loss: 0.8430 - accuracy: 0.6758 - prc: 0.7728 - val_loss: 0.8522 - val_accuracy: 0.7306 - val_prc: 0.8350 - lr: 6.2500e-05\n",
            "Epoch 190/1000\n",
            "1027/1027 [==============================] - ETA: 0s - loss: 0.8340 - accuracy: 0.6833 - prc: 0.7780\n",
            "Epoch 190: val_prc did not improve from 0.86456\n",
            "1027/1027 [==============================] - 116s 112ms/step - loss: 0.8340 - accuracy: 0.6833 - prc: 0.7780 - val_loss: 0.8179 - val_accuracy: 0.7202 - val_prc: 0.8410 - lr: 6.2500e-05\n",
            "Epoch 191/1000\n",
            "1027/1027 [==============================] - ETA: 0s - loss: 0.8359 - accuracy: 0.6805 - prc: 0.7771\n",
            "Epoch 191: val_prc did not improve from 0.86456\n",
            "1027/1027 [==============================] - 115s 112ms/step - loss: 0.8359 - accuracy: 0.6805 - prc: 0.7771 - val_loss: 0.8413 - val_accuracy: 0.7098 - val_prc: 0.8355 - lr: 6.2500e-05\n",
            "Epoch 192/1000\n",
            "1027/1027 [==============================] - ETA: 0s - loss: 0.8378 - accuracy: 0.6810 - prc: 0.7759\n",
            "Epoch 192: val_prc did not improve from 0.86456\n",
            "1027/1027 [==============================] - 115s 112ms/step - loss: 0.8378 - accuracy: 0.6810 - prc: 0.7759 - val_loss: 0.8326 - val_accuracy: 0.7254 - val_prc: 0.8393 - lr: 6.2500e-05\n",
            "Epoch 193/1000\n",
            "1027/1027 [==============================] - ETA: 0s - loss: 0.8368 - accuracy: 0.6806 - prc: 0.7771\n",
            "Epoch 193: val_prc did not improve from 0.86456\n",
            "1027/1027 [==============================] - 115s 112ms/step - loss: 0.8368 - accuracy: 0.6806 - prc: 0.7771 - val_loss: 0.7803 - val_accuracy: 0.7202 - val_prc: 0.8503 - lr: 6.2500e-05\n",
            "Epoch 194/1000\n",
            "1027/1027 [==============================] - ETA: 0s - loss: 0.8315 - accuracy: 0.6835 - prc: 0.7797\n",
            "Epoch 194: val_prc did not improve from 0.86456\n",
            "1027/1027 [==============================] - 115s 112ms/step - loss: 0.8315 - accuracy: 0.6835 - prc: 0.7797 - val_loss: 0.8510 - val_accuracy: 0.6891 - val_prc: 0.8332 - lr: 6.2500e-05\n",
            "Epoch 195/1000\n",
            "1027/1027 [==============================] - ETA: 0s - loss: 0.8334 - accuracy: 0.6832 - prc: 0.7780\n",
            "Epoch 195: val_prc did not improve from 0.86456\n",
            "1027/1027 [==============================] - 115s 112ms/step - loss: 0.8334 - accuracy: 0.6832 - prc: 0.7780 - val_loss: 0.8573 - val_accuracy: 0.7254 - val_prc: 0.8323 - lr: 6.2500e-05\n",
            "Epoch 196/1000\n",
            "1027/1027 [==============================] - ETA: 0s - loss: 0.8321 - accuracy: 0.6818 - prc: 0.7790\n",
            "Epoch 196: val_prc did not improve from 0.86456\n",
            "1027/1027 [==============================] - 115s 112ms/step - loss: 0.8321 - accuracy: 0.6818 - prc: 0.7790 - val_loss: 0.8411 - val_accuracy: 0.7358 - val_prc: 0.8371 - lr: 6.2500e-05\n",
            "Epoch 197/1000\n",
            "1027/1027 [==============================] - ETA: 0s - loss: 0.8368 - accuracy: 0.6815 - prc: 0.7770\n",
            "Epoch 197: val_prc did not improve from 0.86456\n",
            "1027/1027 [==============================] - 115s 112ms/step - loss: 0.8368 - accuracy: 0.6815 - prc: 0.7770 - val_loss: 0.8392 - val_accuracy: 0.7098 - val_prc: 0.8383 - lr: 6.2500e-05\n",
            "Epoch 198/1000\n",
            "1027/1027 [==============================] - ETA: 0s - loss: 0.8357 - accuracy: 0.6784 - prc: 0.7762\n",
            "Epoch 198: val_prc did not improve from 0.86456\n",
            "1027/1027 [==============================] - 115s 112ms/step - loss: 0.8357 - accuracy: 0.6784 - prc: 0.7762 - val_loss: 0.8094 - val_accuracy: 0.7306 - val_prc: 0.8439 - lr: 6.2500e-05\n",
            "Epoch 199/1000\n",
            "1027/1027 [==============================] - ETA: 0s - loss: 0.8343 - accuracy: 0.6824 - prc: 0.7781\n",
            "Epoch 199: val_prc did not improve from 0.86456\n",
            "1027/1027 [==============================] - 115s 112ms/step - loss: 0.8343 - accuracy: 0.6824 - prc: 0.7781 - val_loss: 0.8428 - val_accuracy: 0.7409 - val_prc: 0.8368 - lr: 3.1250e-05\n",
            "Epoch 200/1000\n",
            "1027/1027 [==============================] - ETA: 0s - loss: 0.8354 - accuracy: 0.6822 - prc: 0.7772\n",
            "Epoch 200: val_prc did not improve from 0.86456\n",
            "1027/1027 [==============================] - 115s 112ms/step - loss: 0.8354 - accuracy: 0.6822 - prc: 0.7772 - val_loss: 0.8210 - val_accuracy: 0.7150 - val_prc: 0.8411 - lr: 3.1250e-05\n",
            "Epoch 201/1000\n",
            "1027/1027 [==============================] - ETA: 0s - loss: 0.8329 - accuracy: 0.6821 - prc: 0.7793\n",
            "Epoch 201: val_prc did not improve from 0.86456\n",
            "1027/1027 [==============================] - 115s 112ms/step - loss: 0.8329 - accuracy: 0.6821 - prc: 0.7793 - val_loss: 0.8523 - val_accuracy: 0.6995 - val_prc: 0.8358 - lr: 3.1250e-05\n",
            "Epoch 202/1000\n",
            "1027/1027 [==============================] - ETA: 0s - loss: 0.8284 - accuracy: 0.6844 - prc: 0.7816\n",
            "Epoch 202: val_prc did not improve from 0.86456\n",
            "1027/1027 [==============================] - 115s 112ms/step - loss: 0.8284 - accuracy: 0.6844 - prc: 0.7816 - val_loss: 0.8591 - val_accuracy: 0.7150 - val_prc: 0.8334 - lr: 3.1250e-05\n",
            "Epoch 203/1000\n",
            "1027/1027 [==============================] - ETA: 0s - loss: 0.8303 - accuracy: 0.6821 - prc: 0.7791\n",
            "Epoch 203: val_prc did not improve from 0.86456\n",
            "1027/1027 [==============================] - 115s 112ms/step - loss: 0.8303 - accuracy: 0.6821 - prc: 0.7791 - val_loss: 0.8238 - val_accuracy: 0.7306 - val_prc: 0.8426 - lr: 3.1250e-05\n",
            "Epoch 204/1000\n",
            "1027/1027 [==============================] - ETA: 0s - loss: 0.8302 - accuracy: 0.6816 - prc: 0.7796\n",
            "Epoch 204: val_prc did not improve from 0.86456\n",
            "1027/1027 [==============================] - 115s 112ms/step - loss: 0.8302 - accuracy: 0.6816 - prc: 0.7796 - val_loss: 0.8210 - val_accuracy: 0.7306 - val_prc: 0.8450 - lr: 3.1250e-05\n",
            "Epoch 205/1000\n",
            "1027/1027 [==============================] - ETA: 0s - loss: 0.8273 - accuracy: 0.6832 - prc: 0.7818\n",
            "Epoch 205: val_prc did not improve from 0.86456\n",
            "1027/1027 [==============================] - 115s 112ms/step - loss: 0.8273 - accuracy: 0.6832 - prc: 0.7818 - val_loss: 0.8890 - val_accuracy: 0.7202 - val_prc: 0.8288 - lr: 3.1250e-05\n",
            "Epoch 206/1000\n",
            "1027/1027 [==============================] - ETA: 0s - loss: 0.8292 - accuracy: 0.6830 - prc: 0.7802\n",
            "Epoch 206: val_prc did not improve from 0.86456\n",
            "1027/1027 [==============================] - 115s 112ms/step - loss: 0.8292 - accuracy: 0.6830 - prc: 0.7802 - val_loss: 0.8320 - val_accuracy: 0.7254 - val_prc: 0.8420 - lr: 3.1250e-05\n",
            "Epoch 207/1000\n",
            "1027/1027 [==============================] - ETA: 0s - loss: 0.8297 - accuracy: 0.6836 - prc: 0.7802\n",
            "Epoch 207: val_prc did not improve from 0.86456\n",
            "1027/1027 [==============================] - 115s 112ms/step - loss: 0.8297 - accuracy: 0.6836 - prc: 0.7802 - val_loss: 0.8257 - val_accuracy: 0.7047 - val_prc: 0.8398 - lr: 3.1250e-05\n",
            "Epoch 208/1000\n",
            "1027/1027 [==============================] - ETA: 0s - loss: 0.8291 - accuracy: 0.6824 - prc: 0.7807\n",
            "Epoch 208: val_prc did not improve from 0.86456\n",
            "1027/1027 [==============================] - 115s 112ms/step - loss: 0.8291 - accuracy: 0.6824 - prc: 0.7807 - val_loss: 0.8346 - val_accuracy: 0.7202 - val_prc: 0.8405 - lr: 3.1250e-05\n",
            "Epoch 209/1000\n",
            "1027/1027 [==============================] - ETA: 0s - loss: 0.8320 - accuracy: 0.6831 - prc: 0.7797\n",
            "Epoch 209: val_prc did not improve from 0.86456\n",
            "1027/1027 [==============================] - 115s 112ms/step - loss: 0.8320 - accuracy: 0.6831 - prc: 0.7797 - val_loss: 0.8138 - val_accuracy: 0.7202 - val_prc: 0.8457 - lr: 3.1250e-05\n",
            "Epoch 210/1000\n",
            "1027/1027 [==============================] - ETA: 0s - loss: 0.8317 - accuracy: 0.6844 - prc: 0.7799\n",
            "Epoch 210: val_prc did not improve from 0.86456\n",
            "1027/1027 [==============================] - 115s 112ms/step - loss: 0.8317 - accuracy: 0.6844 - prc: 0.7799 - val_loss: 0.8204 - val_accuracy: 0.7150 - val_prc: 0.8459 - lr: 3.1250e-05\n",
            "Epoch 211/1000\n",
            "1027/1027 [==============================] - ETA: 0s - loss: 0.8268 - accuracy: 0.6827 - prc: 0.7808\n",
            "Epoch 211: val_prc did not improve from 0.86456\n",
            "1027/1027 [==============================] - 115s 112ms/step - loss: 0.8268 - accuracy: 0.6827 - prc: 0.7808 - val_loss: 0.8327 - val_accuracy: 0.7202 - val_prc: 0.8437 - lr: 3.1250e-05\n",
            "Epoch 212/1000\n",
            "1027/1027 [==============================] - ETA: 0s - loss: 0.8296 - accuracy: 0.6848 - prc: 0.7800\n",
            "Epoch 212: val_prc did not improve from 0.86456\n",
            "1027/1027 [==============================] - 115s 112ms/step - loss: 0.8296 - accuracy: 0.6848 - prc: 0.7800 - val_loss: 0.8414 - val_accuracy: 0.7254 - val_prc: 0.8395 - lr: 3.1250e-05\n",
            "Epoch 213/1000\n",
            "1027/1027 [==============================] - ETA: 0s - loss: 0.8270 - accuracy: 0.6846 - prc: 0.7807\n",
            "Epoch 213: val_prc did not improve from 0.86456\n",
            "1027/1027 [==============================] - 115s 112ms/step - loss: 0.8270 - accuracy: 0.6846 - prc: 0.7807 - val_loss: 0.8378 - val_accuracy: 0.7306 - val_prc: 0.8391 - lr: 3.1250e-05\n",
            "Epoch 214/1000\n",
            "1027/1027 [==============================] - ETA: 0s - loss: 0.8306 - accuracy: 0.6828 - prc: 0.7801\n",
            "Epoch 214: val_prc did not improve from 0.86456\n",
            "1027/1027 [==============================] - 115s 112ms/step - loss: 0.8306 - accuracy: 0.6828 - prc: 0.7801 - val_loss: 0.8109 - val_accuracy: 0.7150 - val_prc: 0.8464 - lr: 3.1250e-05\n",
            "Epoch 215/1000\n",
            "1027/1027 [==============================] - ETA: 0s - loss: 0.8353 - accuracy: 0.6814 - prc: 0.7775\n",
            "Epoch 215: val_prc did not improve from 0.86456\n",
            "1027/1027 [==============================] - 115s 112ms/step - loss: 0.8353 - accuracy: 0.6814 - prc: 0.7775 - val_loss: 0.8268 - val_accuracy: 0.7098 - val_prc: 0.8405 - lr: 3.1250e-05\n",
            "Epoch 216/1000\n",
            "1027/1027 [==============================] - ETA: 0s - loss: 0.8286 - accuracy: 0.6842 - prc: 0.7806\n",
            "Epoch 216: val_prc did not improve from 0.86456\n",
            "1027/1027 [==============================] - 115s 112ms/step - loss: 0.8286 - accuracy: 0.6842 - prc: 0.7806 - val_loss: 0.8312 - val_accuracy: 0.7098 - val_prc: 0.8381 - lr: 3.1250e-05\n",
            "Epoch 217/1000\n",
            "1027/1027 [==============================] - ETA: 0s - loss: 0.8255 - accuracy: 0.6845 - prc: 0.7818\n",
            "Epoch 217: val_prc did not improve from 0.86456\n",
            "1027/1027 [==============================] - 115s 112ms/step - loss: 0.8255 - accuracy: 0.6845 - prc: 0.7818 - val_loss: 0.8582 - val_accuracy: 0.7254 - val_prc: 0.8343 - lr: 3.1250e-05\n",
            "Epoch 218/1000\n",
            "1027/1027 [==============================] - ETA: 0s - loss: 0.8275 - accuracy: 0.6814 - prc: 0.7810\n",
            "Epoch 218: val_prc did not improve from 0.86456\n",
            "1027/1027 [==============================] - 115s 112ms/step - loss: 0.8275 - accuracy: 0.6814 - prc: 0.7810 - val_loss: 0.8331 - val_accuracy: 0.7202 - val_prc: 0.8385 - lr: 3.1250e-05\n",
            "Epoch 219/1000\n",
            "1027/1027 [==============================] - ETA: 0s - loss: 0.8298 - accuracy: 0.6825 - prc: 0.7803\n",
            "Epoch 219: val_prc did not improve from 0.86456\n",
            "1027/1027 [==============================] - 115s 112ms/step - loss: 0.8298 - accuracy: 0.6825 - prc: 0.7803 - val_loss: 0.8412 - val_accuracy: 0.7202 - val_prc: 0.8368 - lr: 3.1250e-05\n",
            "Epoch 220/1000\n",
            "1027/1027 [==============================] - ETA: 0s - loss: 0.8312 - accuracy: 0.6840 - prc: 0.7792\n",
            "Epoch 220: val_prc did not improve from 0.86456\n",
            "1027/1027 [==============================] - 115s 112ms/step - loss: 0.8312 - accuracy: 0.6840 - prc: 0.7792 - val_loss: 0.8218 - val_accuracy: 0.7202 - val_prc: 0.8420 - lr: 3.1250e-05\n",
            "Epoch 221/1000\n",
            "1027/1027 [==============================] - ETA: 0s - loss: 0.8357 - accuracy: 0.6795 - prc: 0.7770\n",
            "Epoch 221: val_prc did not improve from 0.86456\n",
            "1027/1027 [==============================] - 115s 112ms/step - loss: 0.8357 - accuracy: 0.6795 - prc: 0.7770 - val_loss: 0.8398 - val_accuracy: 0.7306 - val_prc: 0.8366 - lr: 3.1250e-05\n",
            "Epoch 222/1000\n",
            "1027/1027 [==============================] - ETA: 0s - loss: 0.8254 - accuracy: 0.6840 - prc: 0.7816\n",
            "Epoch 222: val_prc did not improve from 0.86456\n",
            "1027/1027 [==============================] - 115s 112ms/step - loss: 0.8254 - accuracy: 0.6840 - prc: 0.7816 - val_loss: 0.8336 - val_accuracy: 0.7254 - val_prc: 0.8391 - lr: 3.1250e-05\n",
            "Epoch 223/1000\n",
            "1027/1027 [==============================] - ETA: 0s - loss: 0.8250 - accuracy: 0.6884 - prc: 0.7821\n",
            "Epoch 223: val_prc did not improve from 0.86456\n",
            "1027/1027 [==============================] - 115s 112ms/step - loss: 0.8250 - accuracy: 0.6884 - prc: 0.7821 - val_loss: 0.8261 - val_accuracy: 0.7254 - val_prc: 0.8410 - lr: 3.1250e-05\n",
            "Epoch 224/1000\n",
            "1027/1027 [==============================] - ETA: 0s - loss: 0.8287 - accuracy: 0.6820 - prc: 0.7803\n",
            "Epoch 224: val_prc did not improve from 0.86456\n",
            "1027/1027 [==============================] - 115s 112ms/step - loss: 0.8287 - accuracy: 0.6820 - prc: 0.7803 - val_loss: 0.8068 - val_accuracy: 0.7202 - val_prc: 0.8447 - lr: 3.1250e-05\n",
            "Epoch 225/1000\n",
            "1027/1027 [==============================] - ETA: 0s - loss: 0.8281 - accuracy: 0.6850 - prc: 0.7809\n",
            "Epoch 225: val_prc did not improve from 0.86456\n",
            "1027/1027 [==============================] - 115s 112ms/step - loss: 0.8281 - accuracy: 0.6850 - prc: 0.7809 - val_loss: 0.8375 - val_accuracy: 0.7202 - val_prc: 0.8377 - lr: 3.1250e-05\n",
            "Epoch 226/1000\n",
            "1027/1027 [==============================] - ETA: 0s - loss: 0.8274 - accuracy: 0.6840 - prc: 0.7814\n",
            "Epoch 226: val_prc did not improve from 0.86456\n",
            "1027/1027 [==============================] - 115s 112ms/step - loss: 0.8274 - accuracy: 0.6840 - prc: 0.7814 - val_loss: 0.8248 - val_accuracy: 0.7150 - val_prc: 0.8405 - lr: 3.1250e-05\n",
            "Epoch 227/1000\n",
            "1027/1027 [==============================] - ETA: 0s - loss: 0.8235 - accuracy: 0.6847 - prc: 0.7827\n",
            "Epoch 227: val_prc did not improve from 0.86456\n",
            "1027/1027 [==============================] - 115s 112ms/step - loss: 0.8235 - accuracy: 0.6847 - prc: 0.7827 - val_loss: 0.8431 - val_accuracy: 0.7150 - val_prc: 0.8390 - lr: 3.1250e-05\n",
            "Epoch 228/1000\n",
            "1027/1027 [==============================] - ETA: 0s - loss: 0.8277 - accuracy: 0.6820 - prc: 0.7805\n",
            "Epoch 228: val_prc did not improve from 0.86456\n",
            "1027/1027 [==============================] - 115s 112ms/step - loss: 0.8277 - accuracy: 0.6820 - prc: 0.7805 - val_loss: 0.8247 - val_accuracy: 0.7098 - val_prc: 0.8412 - lr: 3.1250e-05\n",
            "Epoch 229/1000\n",
            "1027/1027 [==============================] - ETA: 0s - loss: 0.8238 - accuracy: 0.6860 - prc: 0.7819\n",
            "Epoch 229: val_prc did not improve from 0.86456\n",
            "1027/1027 [==============================] - 115s 112ms/step - loss: 0.8238 - accuracy: 0.6860 - prc: 0.7819 - val_loss: 0.8344 - val_accuracy: 0.7202 - val_prc: 0.8398 - lr: 3.1250e-05\n",
            "Epoch 230/1000\n",
            "1027/1027 [==============================] - ETA: 0s - loss: 0.8282 - accuracy: 0.6850 - prc: 0.7820\n",
            "Epoch 230: val_prc did not improve from 0.86456\n",
            "1027/1027 [==============================] - 115s 112ms/step - loss: 0.8282 - accuracy: 0.6850 - prc: 0.7820 - val_loss: 0.8287 - val_accuracy: 0.7254 - val_prc: 0.8412 - lr: 3.1250e-05\n",
            "Epoch 231/1000\n",
            "1027/1027 [==============================] - ETA: 0s - loss: 0.8305 - accuracy: 0.6827 - prc: 0.7806\n",
            "Epoch 231: val_prc did not improve from 0.86456\n",
            "1027/1027 [==============================] - 116s 112ms/step - loss: 0.8305 - accuracy: 0.6827 - prc: 0.7806 - val_loss: 0.8381 - val_accuracy: 0.7254 - val_prc: 0.8382 - lr: 3.1250e-05\n",
            "Epoch 232/1000\n",
            "1027/1027 [==============================] - ETA: 0s - loss: 0.8261 - accuracy: 0.6844 - prc: 0.7819\n",
            "Epoch 232: val_prc did not improve from 0.86456\n",
            "1027/1027 [==============================] - 115s 112ms/step - loss: 0.8261 - accuracy: 0.6844 - prc: 0.7819 - val_loss: 0.8083 - val_accuracy: 0.7254 - val_prc: 0.8449 - lr: 3.1250e-05\n",
            "Epoch 233/1000\n",
            "1027/1027 [==============================] - ETA: 0s - loss: 0.8222 - accuracy: 0.6868 - prc: 0.7833\n",
            "Epoch 233: val_prc did not improve from 0.86456\n",
            "1027/1027 [==============================] - 116s 112ms/step - loss: 0.8222 - accuracy: 0.6868 - prc: 0.7833 - val_loss: 0.8268 - val_accuracy: 0.7202 - val_prc: 0.8433 - lr: 3.1250e-05\n",
            "Epoch 234/1000\n",
            "1027/1027 [==============================] - ETA: 0s - loss: 0.8257 - accuracy: 0.6834 - prc: 0.7810\n",
            "Epoch 234: val_prc did not improve from 0.86456\n",
            "1027/1027 [==============================] - 115s 112ms/step - loss: 0.8257 - accuracy: 0.6834 - prc: 0.7810 - val_loss: 0.8396 - val_accuracy: 0.7358 - val_prc: 0.8395 - lr: 3.1250e-05\n",
            "Epoch 235/1000\n",
            "1027/1027 [==============================] - ETA: 0s - loss: 0.8311 - accuracy: 0.6834 - prc: 0.7797\n",
            "Epoch 235: val_prc did not improve from 0.86456\n",
            "1027/1027 [==============================] - 115s 112ms/step - loss: 0.8311 - accuracy: 0.6834 - prc: 0.7797 - val_loss: 0.8501 - val_accuracy: 0.7306 - val_prc: 0.8354 - lr: 3.1250e-05\n",
            "Epoch 236/1000\n",
            "1027/1027 [==============================] - ETA: 0s - loss: 0.8251 - accuracy: 0.6814 - prc: 0.7828\n",
            "Epoch 236: val_prc did not improve from 0.86456\n",
            "1027/1027 [==============================] - 116s 112ms/step - loss: 0.8251 - accuracy: 0.6814 - prc: 0.7828 - val_loss: 0.8384 - val_accuracy: 0.7254 - val_prc: 0.8372 - lr: 3.1250e-05\n",
            "Epoch 237/1000\n",
            "1027/1027 [==============================] - ETA: 0s - loss: 0.8231 - accuracy: 0.6860 - prc: 0.7836\n",
            "Epoch 237: val_prc did not improve from 0.86456\n",
            "1027/1027 [==============================] - 115s 112ms/step - loss: 0.8231 - accuracy: 0.6860 - prc: 0.7836 - val_loss: 0.8225 - val_accuracy: 0.7150 - val_prc: 0.8393 - lr: 3.1250e-05\n",
            "Epoch 238/1000\n",
            "1027/1027 [==============================] - ETA: 0s - loss: 0.8198 - accuracy: 0.6887 - prc: 0.7847\n",
            "Epoch 238: val_prc did not improve from 0.86456\n",
            "1027/1027 [==============================] - 115s 112ms/step - loss: 0.8198 - accuracy: 0.6887 - prc: 0.7847 - val_loss: 0.8053 - val_accuracy: 0.7254 - val_prc: 0.8471 - lr: 3.1250e-05\n",
            "Epoch 239/1000\n",
            "1027/1027 [==============================] - ETA: 0s - loss: 0.8278 - accuracy: 0.6826 - prc: 0.7810\n",
            "Epoch 239: val_prc did not improve from 0.86456\n",
            "1027/1027 [==============================] - 115s 112ms/step - loss: 0.8278 - accuracy: 0.6826 - prc: 0.7810 - val_loss: 0.8493 - val_accuracy: 0.7150 - val_prc: 0.8365 - lr: 3.1250e-05\n",
            "Epoch 240/1000\n",
            "1027/1027 [==============================] - ETA: 0s - loss: 0.8249 - accuracy: 0.6843 - prc: 0.7812\n",
            "Epoch 240: val_prc did not improve from 0.86456\n",
            "1027/1027 [==============================] - 115s 112ms/step - loss: 0.8249 - accuracy: 0.6843 - prc: 0.7812 - val_loss: 0.8367 - val_accuracy: 0.7150 - val_prc: 0.8383 - lr: 3.1250e-05\n",
            "Epoch 241/1000\n",
            "1027/1027 [==============================] - ETA: 0s - loss: 0.8286 - accuracy: 0.6830 - prc: 0.7801\n",
            "Epoch 241: val_prc did not improve from 0.86456\n",
            "1027/1027 [==============================] - 115s 112ms/step - loss: 0.8286 - accuracy: 0.6830 - prc: 0.7801 - val_loss: 0.8363 - val_accuracy: 0.7306 - val_prc: 0.8391 - lr: 3.1250e-05\n",
            "Epoch 242/1000\n",
            "1027/1027 [==============================] - ETA: 0s - loss: 0.8302 - accuracy: 0.6836 - prc: 0.7791\n",
            "Epoch 242: val_prc did not improve from 0.86456\n",
            "1027/1027 [==============================] - 115s 112ms/step - loss: 0.8302 - accuracy: 0.6836 - prc: 0.7791 - val_loss: 0.8082 - val_accuracy: 0.7150 - val_prc: 0.8439 - lr: 3.1250e-05\n",
            "Epoch 243/1000\n",
            "1027/1027 [==============================] - ETA: 0s - loss: 0.8293 - accuracy: 0.6844 - prc: 0.7802\n",
            "Epoch 243: val_prc did not improve from 0.86456\n",
            "1027/1027 [==============================] - 115s 112ms/step - loss: 0.8293 - accuracy: 0.6844 - prc: 0.7802 - val_loss: 0.8005 - val_accuracy: 0.7202 - val_prc: 0.8466 - lr: 3.1250e-05\n",
            "Epoch 244/1000\n",
            "1027/1027 [==============================] - ETA: 0s - loss: 0.8277 - accuracy: 0.6870 - prc: 0.7818\n",
            "Epoch 244: val_prc did not improve from 0.86456\n",
            "1027/1027 [==============================] - 115s 112ms/step - loss: 0.8277 - accuracy: 0.6870 - prc: 0.7818 - val_loss: 0.7982 - val_accuracy: 0.7254 - val_prc: 0.8465 - lr: 3.1250e-05\n",
            "Epoch 245/1000\n",
            "1027/1027 [==============================] - ETA: 0s - loss: 0.8259 - accuracy: 0.6825 - prc: 0.7810\n",
            "Epoch 245: val_prc did not improve from 0.86456\n",
            "1027/1027 [==============================] - 115s 112ms/step - loss: 0.8259 - accuracy: 0.6825 - prc: 0.7810 - val_loss: 0.8185 - val_accuracy: 0.7202 - val_prc: 0.8422 - lr: 3.1250e-05\n",
            "Epoch 246/1000\n",
            "1027/1027 [==============================] - ETA: 0s - loss: 0.8316 - accuracy: 0.6836 - prc: 0.7796\n",
            "Epoch 246: val_prc did not improve from 0.86456\n",
            "1027/1027 [==============================] - 115s 112ms/step - loss: 0.8316 - accuracy: 0.6836 - prc: 0.7796 - val_loss: 0.8157 - val_accuracy: 0.7358 - val_prc: 0.8452 - lr: 3.1250e-05\n",
            "Epoch 247/1000\n",
            "1027/1027 [==============================] - ETA: 0s - loss: 0.8258 - accuracy: 0.6845 - prc: 0.7815\n",
            "Epoch 247: val_prc did not improve from 0.86456\n",
            "1027/1027 [==============================] - 115s 112ms/step - loss: 0.8258 - accuracy: 0.6845 - prc: 0.7815 - val_loss: 0.8492 - val_accuracy: 0.7150 - val_prc: 0.8354 - lr: 3.1250e-05\n",
            "Epoch 248/1000\n",
            "1027/1027 [==============================] - ETA: 0s - loss: 0.8182 - accuracy: 0.6866 - prc: 0.7843\n",
            "Epoch 248: val_prc did not improve from 0.86456\n",
            "1027/1027 [==============================] - 115s 112ms/step - loss: 0.8182 - accuracy: 0.6866 - prc: 0.7843 - val_loss: 0.8214 - val_accuracy: 0.7150 - val_prc: 0.8438 - lr: 3.1250e-05\n",
            "Epoch 249/1000\n",
            "1027/1027 [==============================] - ETA: 0s - loss: 0.8287 - accuracy: 0.6824 - prc: 0.7804\n",
            "Epoch 249: val_prc did not improve from 0.86456\n",
            "1027/1027 [==============================] - 116s 112ms/step - loss: 0.8287 - accuracy: 0.6824 - prc: 0.7804 - val_loss: 0.8195 - val_accuracy: 0.7254 - val_prc: 0.8413 - lr: 3.1250e-05\n",
            "Epoch 250/1000\n",
            "1027/1027 [==============================] - ETA: 0s - loss: 0.8245 - accuracy: 0.6848 - prc: 0.7812\n",
            "Epoch 250: val_prc did not improve from 0.86456\n",
            "1027/1027 [==============================] - 115s 112ms/step - loss: 0.8245 - accuracy: 0.6848 - prc: 0.7812 - val_loss: 0.8195 - val_accuracy: 0.7150 - val_prc: 0.8417 - lr: 3.1250e-05\n",
            "Epoch 251/1000\n",
            "1027/1027 [==============================] - ETA: 0s - loss: 0.8262 - accuracy: 0.6825 - prc: 0.7813\n",
            "Epoch 251: val_prc did not improve from 0.86456\n",
            "1027/1027 [==============================] - 116s 112ms/step - loss: 0.8262 - accuracy: 0.6825 - prc: 0.7813 - val_loss: 0.8184 - val_accuracy: 0.7202 - val_prc: 0.8422 - lr: 3.1250e-05\n",
            "Epoch 252/1000\n",
            "1027/1027 [==============================] - ETA: 0s - loss: 0.8266 - accuracy: 0.6860 - prc: 0.7818\n",
            "Epoch 252: val_prc did not improve from 0.86456\n",
            "1027/1027 [==============================] - 115s 112ms/step - loss: 0.8266 - accuracy: 0.6860 - prc: 0.7818 - val_loss: 0.8513 - val_accuracy: 0.7202 - val_prc: 0.8356 - lr: 3.1250e-05\n",
            "Epoch 253/1000\n",
            "1027/1027 [==============================] - ETA: 0s - loss: 0.8220 - accuracy: 0.6875 - prc: 0.7835\n",
            "Epoch 253: val_prc did not improve from 0.86456\n",
            "1027/1027 [==============================] - 115s 112ms/step - loss: 0.8220 - accuracy: 0.6875 - prc: 0.7835 - val_loss: 0.8110 - val_accuracy: 0.7306 - val_prc: 0.8443 - lr: 3.1250e-05\n",
            "Epoch 254/1000\n",
            "1027/1027 [==============================] - ETA: 0s - loss: 0.8259 - accuracy: 0.6842 - prc: 0.7815\n",
            "Epoch 254: val_prc did not improve from 0.86456\n",
            "1027/1027 [==============================] - 115s 112ms/step - loss: 0.8259 - accuracy: 0.6842 - prc: 0.7815 - val_loss: 0.8257 - val_accuracy: 0.7202 - val_prc: 0.8402 - lr: 3.1250e-05\n",
            "Epoch 255/1000\n",
            "1027/1027 [==============================] - ETA: 0s - loss: 0.8292 - accuracy: 0.6798 - prc: 0.7787\n",
            "Epoch 255: val_prc did not improve from 0.86456\n",
            "1027/1027 [==============================] - 115s 112ms/step - loss: 0.8292 - accuracy: 0.6798 - prc: 0.7787 - val_loss: 0.8278 - val_accuracy: 0.7254 - val_prc: 0.8420 - lr: 3.1250e-05\n",
            "Epoch 256/1000\n",
            "1027/1027 [==============================] - ETA: 0s - loss: 0.8258 - accuracy: 0.6826 - prc: 0.7815\n",
            "Epoch 256: val_prc did not improve from 0.86456\n",
            "1027/1027 [==============================] - 115s 112ms/step - loss: 0.8258 - accuracy: 0.6826 - prc: 0.7815 - val_loss: 0.8305 - val_accuracy: 0.7150 - val_prc: 0.8409 - lr: 3.1250e-05\n",
            "Epoch 257/1000\n",
            "1027/1027 [==============================] - ETA: 0s - loss: 0.8284 - accuracy: 0.6817 - prc: 0.7800\n",
            "Epoch 257: val_prc did not improve from 0.86456\n",
            "1027/1027 [==============================] - 115s 112ms/step - loss: 0.8284 - accuracy: 0.6817 - prc: 0.7800 - val_loss: 0.8200 - val_accuracy: 0.7098 - val_prc: 0.8419 - lr: 3.1250e-05\n",
            "Epoch 258/1000\n",
            "1027/1027 [==============================] - ETA: 0s - loss: 0.8246 - accuracy: 0.6850 - prc: 0.7825\n",
            "Epoch 258: val_prc did not improve from 0.86456\n",
            "1027/1027 [==============================] - 115s 112ms/step - loss: 0.8246 - accuracy: 0.6850 - prc: 0.7825 - val_loss: 0.8093 - val_accuracy: 0.7202 - val_prc: 0.8452 - lr: 3.1250e-05\n",
            "Epoch 259/1000\n",
            "1027/1027 [==============================] - ETA: 0s - loss: 0.8273 - accuracy: 0.6840 - prc: 0.7811\n",
            "Epoch 259: val_prc did not improve from 0.86456\n",
            "1027/1027 [==============================] - 115s 112ms/step - loss: 0.8273 - accuracy: 0.6840 - prc: 0.7811 - val_loss: 0.8236 - val_accuracy: 0.7254 - val_prc: 0.8414 - lr: 1.5625e-05\n",
            "Epoch 260/1000\n",
            "1027/1027 [==============================] - ETA: 0s - loss: 0.8243 - accuracy: 0.6853 - prc: 0.7824\n",
            "Epoch 260: val_prc did not improve from 0.86456\n",
            "1027/1027 [==============================] - 115s 112ms/step - loss: 0.8243 - accuracy: 0.6853 - prc: 0.7824 - val_loss: 0.8204 - val_accuracy: 0.7306 - val_prc: 0.8419 - lr: 1.5625e-05\n",
            "Epoch 261/1000\n",
            "1027/1027 [==============================] - ETA: 0s - loss: 0.8248 - accuracy: 0.6833 - prc: 0.7808\n",
            "Epoch 261: val_prc did not improve from 0.86456\n",
            "1027/1027 [==============================] - 115s 112ms/step - loss: 0.8248 - accuracy: 0.6833 - prc: 0.7808 - val_loss: 0.8351 - val_accuracy: 0.7150 - val_prc: 0.8388 - lr: 1.5625e-05\n",
            "Epoch 262/1000\n",
            "1027/1027 [==============================] - ETA: 0s - loss: 0.8284 - accuracy: 0.6849 - prc: 0.7808\n",
            "Epoch 262: val_prc did not improve from 0.86456\n",
            "1027/1027 [==============================] - 115s 112ms/step - loss: 0.8284 - accuracy: 0.6849 - prc: 0.7808 - val_loss: 0.8289 - val_accuracy: 0.7254 - val_prc: 0.8400 - lr: 1.5625e-05\n",
            "Epoch 263/1000\n",
            "1027/1027 [==============================] - ETA: 0s - loss: 0.8238 - accuracy: 0.6853 - prc: 0.7822\n",
            "Epoch 263: val_prc did not improve from 0.86456\n",
            "1027/1027 [==============================] - 115s 112ms/step - loss: 0.8238 - accuracy: 0.6853 - prc: 0.7822 - val_loss: 0.8477 - val_accuracy: 0.7202 - val_prc: 0.8359 - lr: 1.5625e-05\n",
            "Epoch 264/1000\n",
            "1027/1027 [==============================] - ETA: 0s - loss: 0.8220 - accuracy: 0.6816 - prc: 0.7820\n",
            "Epoch 264: val_prc did not improve from 0.86456\n",
            "1027/1027 [==============================] - 115s 112ms/step - loss: 0.8220 - accuracy: 0.6816 - prc: 0.7820 - val_loss: 0.8063 - val_accuracy: 0.7254 - val_prc: 0.8450 - lr: 1.5625e-05\n",
            "Epoch 265/1000\n",
            "1027/1027 [==============================] - ETA: 0s - loss: 0.8255 - accuracy: 0.6839 - prc: 0.7813\n",
            "Epoch 265: val_prc did not improve from 0.86456\n",
            "1027/1027 [==============================] - 116s 112ms/step - loss: 0.8255 - accuracy: 0.6839 - prc: 0.7813 - val_loss: 0.8333 - val_accuracy: 0.7254 - val_prc: 0.8394 - lr: 1.5625e-05\n",
            "Epoch 266/1000\n",
            "1027/1027 [==============================] - ETA: 0s - loss: 0.8247 - accuracy: 0.6844 - prc: 0.7819\n",
            "Epoch 266: val_prc did not improve from 0.86456\n",
            "1027/1027 [==============================] - 115s 112ms/step - loss: 0.8247 - accuracy: 0.6844 - prc: 0.7819 - val_loss: 0.8267 - val_accuracy: 0.7254 - val_prc: 0.8416 - lr: 1.5625e-05\n",
            "Epoch 267/1000\n",
            "1027/1027 [==============================] - ETA: 0s - loss: 0.8278 - accuracy: 0.6837 - prc: 0.7805\n",
            "Epoch 267: val_prc did not improve from 0.86456\n",
            "1027/1027 [==============================] - 115s 112ms/step - loss: 0.8278 - accuracy: 0.6837 - prc: 0.7805 - val_loss: 0.8137 - val_accuracy: 0.7202 - val_prc: 0.8420 - lr: 1.5625e-05\n",
            "Epoch 268/1000\n",
            "1027/1027 [==============================] - ETA: 0s - loss: 0.8223 - accuracy: 0.6862 - prc: 0.7834\n",
            "Epoch 268: val_prc did not improve from 0.86456\n",
            "1027/1027 [==============================] - 115s 112ms/step - loss: 0.8223 - accuracy: 0.6862 - prc: 0.7834 - val_loss: 0.8201 - val_accuracy: 0.7150 - val_prc: 0.8401 - lr: 1.5625e-05\n",
            "Epoch 269/1000\n",
            "1027/1027 [==============================] - ETA: 0s - loss: 0.8259 - accuracy: 0.6826 - prc: 0.7809\n",
            "Epoch 269: val_prc did not improve from 0.86456\n",
            "1027/1027 [==============================] - 115s 112ms/step - loss: 0.8259 - accuracy: 0.6826 - prc: 0.7809 - val_loss: 0.8288 - val_accuracy: 0.7150 - val_prc: 0.8386 - lr: 1.0000e-05\n",
            "Epoch 270/1000\n",
            "1027/1027 [==============================] - ETA: 0s - loss: 0.8206 - accuracy: 0.6870 - prc: 0.7840\n",
            "Epoch 270: val_prc did not improve from 0.86456\n",
            "1027/1027 [==============================] - 115s 112ms/step - loss: 0.8206 - accuracy: 0.6870 - prc: 0.7840 - val_loss: 0.8388 - val_accuracy: 0.7150 - val_prc: 0.8380 - lr: 1.0000e-05\n",
            "Epoch 271/1000\n",
            "1027/1027 [==============================] - ETA: 0s - loss: 0.8253 - accuracy: 0.6849 - prc: 0.7827\n",
            "Epoch 271: val_prc did not improve from 0.86456\n",
            "1027/1027 [==============================] - 115s 112ms/step - loss: 0.8253 - accuracy: 0.6849 - prc: 0.7827 - val_loss: 0.8139 - val_accuracy: 0.7202 - val_prc: 0.8429 - lr: 1.0000e-05\n",
            "Epoch 272/1000\n",
            "1027/1027 [==============================] - ETA: 0s - loss: 0.8197 - accuracy: 0.6861 - prc: 0.7833\n",
            "Epoch 272: val_prc did not improve from 0.86456\n",
            "1027/1027 [==============================] - 115s 112ms/step - loss: 0.8197 - accuracy: 0.6861 - prc: 0.7833 - val_loss: 0.8293 - val_accuracy: 0.7150 - val_prc: 0.8396 - lr: 1.0000e-05\n",
            "Epoch 273/1000\n",
            "1027/1027 [==============================] - ETA: 0s - loss: 0.8242 - accuracy: 0.6840 - prc: 0.7831\n",
            "Epoch 273: val_prc did not improve from 0.86456\n",
            "1027/1027 [==============================] - 115s 112ms/step - loss: 0.8242 - accuracy: 0.6840 - prc: 0.7831 - val_loss: 0.8188 - val_accuracy: 0.7202 - val_prc: 0.8404 - lr: 1.0000e-05\n",
            "Epoch 274/1000\n",
            "1027/1027 [==============================] - ETA: 0s - loss: 0.8241 - accuracy: 0.6832 - prc: 0.7828\n",
            "Epoch 274: val_prc did not improve from 0.86456\n",
            "1027/1027 [==============================] - 115s 112ms/step - loss: 0.8241 - accuracy: 0.6832 - prc: 0.7828 - val_loss: 0.8210 - val_accuracy: 0.7202 - val_prc: 0.8417 - lr: 1.0000e-05\n",
            "Epoch 275/1000\n",
            "1027/1027 [==============================] - ETA: 0s - loss: 0.8242 - accuracy: 0.6857 - prc: 0.7825\n",
            "Epoch 275: val_prc did not improve from 0.86456\n",
            "1027/1027 [==============================] - 116s 112ms/step - loss: 0.8242 - accuracy: 0.6857 - prc: 0.7825 - val_loss: 0.8186 - val_accuracy: 0.7098 - val_prc: 0.8413 - lr: 1.0000e-05\n",
            "Epoch 276/1000\n",
            "1027/1027 [==============================] - ETA: 0s - loss: 0.8227 - accuracy: 0.6870 - prc: 0.7829\n",
            "Epoch 276: val_prc did not improve from 0.86456\n",
            "1027/1027 [==============================] - 116s 112ms/step - loss: 0.8227 - accuracy: 0.6870 - prc: 0.7829 - val_loss: 0.8140 - val_accuracy: 0.7098 - val_prc: 0.8423 - lr: 1.0000e-05\n",
            "Epoch 277/1000\n",
            "1027/1027 [==============================] - ETA: 0s - loss: 0.8303 - accuracy: 0.6848 - prc: 0.7797\n",
            "Epoch 277: val_prc did not improve from 0.86456\n",
            "1027/1027 [==============================] - 115s 112ms/step - loss: 0.8303 - accuracy: 0.6848 - prc: 0.7797 - val_loss: 0.8326 - val_accuracy: 0.7150 - val_prc: 0.8385 - lr: 1.0000e-05\n",
            "Epoch 278/1000\n",
            "1027/1027 [==============================] - ETA: 0s - loss: 0.8187 - accuracy: 0.6868 - prc: 0.7845\n",
            "Epoch 278: val_prc did not improve from 0.86456\n",
            "1027/1027 [==============================] - 115s 112ms/step - loss: 0.8187 - accuracy: 0.6868 - prc: 0.7845 - val_loss: 0.8183 - val_accuracy: 0.7150 - val_prc: 0.8412 - lr: 1.0000e-05\n"
          ]
        }
      ],
      "source": [
        "from tensorflow import keras\n",
        "# this could also be the output a different Keras model or layer\n",
        "input_shape = X_train.shape[1:]\n",
        "input_tensor = Input(shape=(IMAGE_H, IMAGE_W, 3))\n",
        "x = data_augmentation(input_tensor)\n",
        "#x = rescale_layer(x)\n",
        "\n",
        "base_model = ResNet50(input_shape=input_shape, weights='imagenet', include_top=False)\n",
        "x = base_model(x)\n",
        "\n",
        "\n",
        "# add a global spatial average pooling layer\n",
        "#x = base_model.output\n",
        "#x = GlobalAveragePooling2D()(x)\n",
        "#x = Dropout(0.2)(x)\n",
        "x = Flatten()(x)\n",
        "# let's add a fully-connected layer\n",
        "x = Dense(128, activation='relu')(x)\n",
        "#x = Dropout(0.2)(x)\n",
        "# and a logistic layer -- let's say we have 200 classes\n",
        "predictions = Dense(7, activation='softmax')(x)\n",
        "#predictions = Dense(9)(x)\n",
        "\n",
        "# this is the model we will train\n",
        "model = Model(inputs=input_tensor, outputs=predictions)\n",
        "\n",
        "# first: train only the top layers (which were randomly initialized)\n",
        "# i.e. freeze all convolutional InceptionV3 layers\n",
        "for layer in base_model.layers:\n",
        "    layer.trainable = False\n",
        "\n",
        "# compile the model (should be done *after* setting layers to non-trainable)\n",
        "#model.compile(optimizer='rmsprop', loss='categorical_crossentropy')\n",
        "#model.compile(optimizer=\"adam\", loss=\"sparse_categorical_crossentropy\", metrics=[\"accuracy\"])\n",
        "\n",
        "# train the model on the new data for a few epochs\n",
        "#hst = model.fit(X, y, batch_size=BATCH_SIZE, epochs=EPOCHS, validation_data=(X_val, y_val))\n",
        "\n",
        "model.compile(optimizer = optimizer , loss = \"categorical_crossentropy\", metrics=['accuracy', keras.metrics.AUC(name='prc', curve='PR')])\n",
        "#hst = model.fit(dataaugment.flow(X_train,y_train, batch_size=BATCH_SIZE),\n",
        "hst = model.fit(train_data_batches,\n",
        "                    epochs = EPOCHS, validation_data = valid_data_batches,      \n",
        "                    #steps_per_epoch=X_train.shape[0] // BATCH_SIZE, \n",
        "                    callbacks=[learning_rate_reduction,early_stopping_monitor, mc])\n"
      ]
    },
    {
      "cell_type": "code",
      "execution_count": null,
      "metadata": {
        "colab": {
          "background_save": true
        },
        "id": "6WA3NkiOqePA"
      },
      "outputs": [],
      "source": [
        "# load the saved model\n",
        "best_model = load_model(best_model_fpath)\n",
        "# evaluate the model\n",
        "#_, train_acc = best_model.evaluate(X_train, y_train, verbose=0)\n",
        "#_, test_acc = best_model.evaluate(X_val, y_val, verbose=0)\n",
        "#print('Train: %.3f, Val: %.3f' % (train_acc, test_acc))"
      ]
    },
    {
      "cell_type": "code",
      "execution_count": null,
      "metadata": {
        "colab": {
          "background_save": true
        },
        "id": "W3IyWjdGG4Xq",
        "outputId": "e401a609-37f2-4df9-85a6-f4979247b642"
      },
      "outputs": [
        {
          "name": "stdout",
          "output_type": "stream",
          "text": [
            "balanced accuracy on training 0.6069221637088672\n",
            "balanced accuracy on validation 0.5952252741451348\n"
          ]
        }
      ],
      "source": [
        "y_val_pred = best_model.predict(X_val)\n",
        "y_train_pred = best_model.predict(X_train)\n",
        "\n",
        "from sklearn.metrics import balanced_accuracy_score\n",
        "print('balanced accuracy on training',balanced_accuracy_score(np.argmax(y_train, axis=1), np.argmax(y_train_pred, axis=1)))\n",
        "print('balanced accuracy on validation',balanced_accuracy_score(np.argmax(y_val, axis=1), np.argmax(y_val_pred, axis=1)))"
      ]
    },
    {
      "cell_type": "code",
      "execution_count": null,
      "metadata": {
        "colab": {
          "background_save": true
        },
        "id": "vXnW3lmCgln3",
        "outputId": "b63e2d30-1697-4baa-f072-1a943015ded6"
      },
      "outputs": [
        {
          "data": {
            "image/png": "[encoded data removed]",
            "text/plain": [
              "<Figure size 432x288 with 1 Axes>"
            ]
          },
          "metadata": {},
          "output_type": "display_data"
        }
      ],
      "source": [
        "# summarize history for accuracy\n",
        "plt.plot(hst.history['accuracy'])\n",
        "plt.plot(hst.history['val_accuracy'])\n",
        "plt.title('model accuracy')\n",
        "plt.ylabel('accuracy')\n",
        "plt.xlabel('epoch')\n",
        "plt.legend(['train', 'val'], loc='upper left')\n",
        "plt.show()"
      ]
    },
    {
      "cell_type": "markdown",
      "metadata": {
        "id": "B2PgksTFkOAq"
      },
      "source": [
        "#Fine Tune"
      ]
    },
    {
      "cell_type": "code",
      "execution_count": null,
      "metadata": {
        "colab": {
          "background_save": true
        },
        "id": "l8bZo4LoEiQf"
      },
      "outputs": [],
      "source": [
        "#finetune_model_fpath = '/content/drive/MyDrive/PHD/Model/finetune_model.h5'\n",
        "#mc_finetune = ModelCheckpoint(finetune_model_fpath, monitor='val_accuracy', mode='max', verbose=1, save_best_only=True)"
      ]
    },
    {
      "cell_type": "code",
      "execution_count": null,
      "metadata": {
        "colab": {
          "background_save": true,
          "base_uri": "https://localhost:8080/"
        },
        "id": "Nr1jnSM7yzJc",
        "outputId": "9f126adf-2cac-4993-c00e-01804c7de12b"
      },
      "outputs": [
        {
          "name": "stdout",
          "output_type": "stream",
          "text": [
            "Epoch 1/1000\n",
            "1027/1027 [==============================] - ETA: 0s - loss: 0.8228 - accuracy: 0.6843"
          ]
        },
        {
          "name": "stderr",
          "output_type": "stream",
          "text": [
            "WARNING:tensorflow:Can save best model only with val_prc available, skipping.\n"
          ]
        },
        {
          "name": "stdout",
          "output_type": "stream",
          "text": [
            "1027/1027 [==============================] - 116s 110ms/step - loss: 0.8228 - accuracy: 0.6843 - val_loss: 0.8183 - val_accuracy: 0.7150 - lr: 1.0000e-04\n",
            "Epoch 2/1000\n",
            "1027/1027 [==============================] - ETA: 0s - loss: 0.8268 - accuracy: 0.6858"
          ]
        },
        {
          "name": "stderr",
          "output_type": "stream",
          "text": [
            "WARNING:tensorflow:Can save best model only with val_prc available, skipping.\n"
          ]
        },
        {
          "name": "stdout",
          "output_type": "stream",
          "text": [
            "1027/1027 [==============================] - 112s 109ms/step - loss: 0.8268 - accuracy: 0.6858 - val_loss: 0.8183 - val_accuracy: 0.7150 - lr: 1.0000e-04\n",
            "Epoch 3/1000\n",
            "1027/1027 [==============================] - ETA: 0s - loss: 0.8219 - accuracy: 0.6850"
          ]
        },
        {
          "name": "stderr",
          "output_type": "stream",
          "text": [
            "WARNING:tensorflow:Can save best model only with val_prc available, skipping.\n"
          ]
        },
        {
          "name": "stdout",
          "output_type": "stream",
          "text": [
            "1027/1027 [==============================] - 112s 109ms/step - loss: 0.8219 - accuracy: 0.6850 - val_loss: 0.8183 - val_accuracy: 0.7150 - lr: 1.0000e-04\n",
            "Epoch 4/1000\n",
            "1027/1027 [==============================] - ETA: 0s - loss: 0.8241 - accuracy: 0.6859"
          ]
        },
        {
          "name": "stderr",
          "output_type": "stream",
          "text": [
            "WARNING:tensorflow:Can save best model only with val_prc available, skipping.\n"
          ]
        },
        {
          "name": "stdout",
          "output_type": "stream",
          "text": [
            "1027/1027 [==============================] - 112s 109ms/step - loss: 0.8241 - accuracy: 0.6859 - val_loss: 0.8183 - val_accuracy: 0.7150 - lr: 1.0000e-04\n",
            "Epoch 5/1000\n",
            "1027/1027 [==============================] - ETA: 0s - loss: 0.8191 - accuracy: 0.6860"
          ]
        },
        {
          "name": "stderr",
          "output_type": "stream",
          "text": [
            "WARNING:tensorflow:Can save best model only with val_prc available, skipping.\n"
          ]
        },
        {
          "name": "stdout",
          "output_type": "stream",
          "text": [
            "1027/1027 [==============================] - 112s 109ms/step - loss: 0.8191 - accuracy: 0.6860 - val_loss: 0.8183 - val_accuracy: 0.7150 - lr: 1.0000e-04\n",
            "Epoch 6/1000\n",
            "1027/1027 [==============================] - ETA: 0s - loss: 0.8212 - accuracy: 0.6849"
          ]
        },
        {
          "name": "stderr",
          "output_type": "stream",
          "text": [
            "WARNING:tensorflow:Can save best model only with val_prc available, skipping.\n"
          ]
        },
        {
          "name": "stdout",
          "output_type": "stream",
          "text": [
            "1027/1027 [==============================] - 112s 109ms/step - loss: 0.8212 - accuracy: 0.6849 - val_loss: 0.8183 - val_accuracy: 0.7150 - lr: 1.0000e-04\n",
            "Epoch 7/1000\n",
            "1027/1027 [==============================] - ETA: 0s - loss: 0.8239 - accuracy: 0.6860"
          ]
        },
        {
          "name": "stderr",
          "output_type": "stream",
          "text": [
            "WARNING:tensorflow:Can save best model only with val_prc available, skipping.\n"
          ]
        },
        {
          "name": "stdout",
          "output_type": "stream",
          "text": [
            "1027/1027 [==============================] - 113s 110ms/step - loss: 0.8239 - accuracy: 0.6860 - val_loss: 0.8183 - val_accuracy: 0.7150 - lr: 1.0000e-04\n",
            "Epoch 8/1000\n",
            "1027/1027 [==============================] - ETA: 0s - loss: 0.8234 - accuracy: 0.6856"
          ]
        },
        {
          "name": "stderr",
          "output_type": "stream",
          "text": [
            "WARNING:tensorflow:Can save best model only with val_prc available, skipping.\n"
          ]
        },
        {
          "name": "stdout",
          "output_type": "stream",
          "text": [
            "1027/1027 [==============================] - 112s 109ms/step - loss: 0.8234 - accuracy: 0.6856 - val_loss: 0.8183 - val_accuracy: 0.7150 - lr: 1.0000e-04\n",
            "Epoch 9/1000\n",
            "1027/1027 [==============================] - ETA: 0s - loss: 0.8283 - accuracy: 0.6822"
          ]
        },
        {
          "name": "stderr",
          "output_type": "stream",
          "text": [
            "WARNING:tensorflow:Can save best model only with val_prc available, skipping.\n"
          ]
        },
        {
          "name": "stdout",
          "output_type": "stream",
          "text": [
            "1027/1027 [==============================] - 112s 109ms/step - loss: 0.8283 - accuracy: 0.6822 - val_loss: 0.8183 - val_accuracy: 0.7150 - lr: 1.0000e-04\n",
            "Epoch 10/1000\n",
            "1027/1027 [==============================] - ETA: 0s - loss: 0.8232 - accuracy: 0.6853"
          ]
        },
        {
          "name": "stderr",
          "output_type": "stream",
          "text": [
            "WARNING:tensorflow:Can save best model only with val_prc available, skipping.\n"
          ]
        },
        {
          "name": "stdout",
          "output_type": "stream",
          "text": [
            "1027/1027 [==============================] - 112s 109ms/step - loss: 0.8232 - accuracy: 0.6853 - val_loss: 0.8183 - val_accuracy: 0.7150 - lr: 1.0000e-04\n",
            "Epoch 11/1000\n",
            "1027/1027 [==============================] - ETA: 0s - loss: 0.8259 - accuracy: 0.6853"
          ]
        },
        {
          "name": "stderr",
          "output_type": "stream",
          "text": [
            "WARNING:tensorflow:Can save best model only with val_prc available, skipping.\n"
          ]
        },
        {
          "name": "stdout",
          "output_type": "stream",
          "text": [
            "1027/1027 [==============================] - 112s 109ms/step - loss: 0.8259 - accuracy: 0.6853 - val_loss: 0.8183 - val_accuracy: 0.7150 - lr: 1.0000e-04\n",
            "Epoch 12/1000\n",
            "1027/1027 [==============================] - ETA: 0s - loss: 0.8203 - accuracy: 0.6845"
          ]
        },
        {
          "name": "stderr",
          "output_type": "stream",
          "text": [
            "WARNING:tensorflow:Can save best model only with val_prc available, skipping.\n"
          ]
        },
        {
          "name": "stdout",
          "output_type": "stream",
          "text": [
            "1027/1027 [==============================] - 112s 109ms/step - loss: 0.8203 - accuracy: 0.6845 - val_loss: 0.8183 - val_accuracy: 0.7150 - lr: 1.0000e-04\n",
            "Epoch 13/1000\n",
            "1027/1027 [==============================] - ETA: 0s - loss: 0.8210 - accuracy: 0.6862"
          ]
        },
        {
          "name": "stderr",
          "output_type": "stream",
          "text": [
            "WARNING:tensorflow:Can save best model only with val_prc available, skipping.\n"
          ]
        },
        {
          "name": "stdout",
          "output_type": "stream",
          "text": [
            "1027/1027 [==============================] - 112s 109ms/step - loss: 0.8210 - accuracy: 0.6862 - val_loss: 0.8183 - val_accuracy: 0.7150 - lr: 1.0000e-04\n",
            "Epoch 14/1000\n",
            "1027/1027 [==============================] - ETA: 0s - loss: 0.8221 - accuracy: 0.6853"
          ]
        },
        {
          "name": "stderr",
          "output_type": "stream",
          "text": [
            "WARNING:tensorflow:Can save best model only with val_prc available, skipping.\n"
          ]
        },
        {
          "name": "stdout",
          "output_type": "stream",
          "text": [
            "1027/1027 [==============================] - 112s 109ms/step - loss: 0.8221 - accuracy: 0.6853 - val_loss: 0.8183 - val_accuracy: 0.7150 - lr: 1.0000e-04\n",
            "Epoch 15/1000\n",
            "1027/1027 [==============================] - ETA: 0s - loss: 0.8246 - accuracy: 0.6824"
          ]
        },
        {
          "name": "stderr",
          "output_type": "stream",
          "text": [
            "WARNING:tensorflow:Can save best model only with val_prc available, skipping.\n"
          ]
        },
        {
          "name": "stdout",
          "output_type": "stream",
          "text": [
            "1027/1027 [==============================] - 112s 109ms/step - loss: 0.8246 - accuracy: 0.6824 - val_loss: 0.8183 - val_accuracy: 0.7150 - lr: 1.0000e-04\n",
            "Epoch 16/1000\n",
            "1027/1027 [==============================] - ETA: 0s - loss: 0.8235 - accuracy: 0.6866"
          ]
        },
        {
          "name": "stderr",
          "output_type": "stream",
          "text": [
            "WARNING:tensorflow:Can save best model only with val_prc available, skipping.\n"
          ]
        },
        {
          "name": "stdout",
          "output_type": "stream",
          "text": [
            "1027/1027 [==============================] - 112s 109ms/step - loss: 0.8235 - accuracy: 0.6866 - val_loss: 0.8183 - val_accuracy: 0.7150 - lr: 5.0000e-05\n",
            "Epoch 17/1000\n",
            "1027/1027 [==============================] - ETA: 0s - loss: 0.8234 - accuracy: 0.6869"
          ]
        },
        {
          "name": "stderr",
          "output_type": "stream",
          "text": [
            "WARNING:tensorflow:Can save best model only with val_prc available, skipping.\n"
          ]
        },
        {
          "name": "stdout",
          "output_type": "stream",
          "text": [
            "1027/1027 [==============================] - 112s 109ms/step - loss: 0.8234 - accuracy: 0.6869 - val_loss: 0.8183 - val_accuracy: 0.7150 - lr: 5.0000e-05\n",
            "Epoch 18/1000\n",
            "1027/1027 [==============================] - ETA: 0s - loss: 0.8266 - accuracy: 0.6832"
          ]
        },
        {
          "name": "stderr",
          "output_type": "stream",
          "text": [
            "WARNING:tensorflow:Can save best model only with val_prc available, skipping.\n"
          ]
        },
        {
          "name": "stdout",
          "output_type": "stream",
          "text": [
            "1027/1027 [==============================] - 112s 109ms/step - loss: 0.8266 - accuracy: 0.6832 - val_loss: 0.8183 - val_accuracy: 0.7150 - lr: 5.0000e-05\n",
            "Epoch 19/1000\n",
            "1027/1027 [==============================] - ETA: 0s - loss: 0.8212 - accuracy: 0.6832"
          ]
        },
        {
          "name": "stderr",
          "output_type": "stream",
          "text": [
            "WARNING:tensorflow:Can save best model only with val_prc available, skipping.\n"
          ]
        },
        {
          "name": "stdout",
          "output_type": "stream",
          "text": [
            "1027/1027 [==============================] - 112s 109ms/step - loss: 0.8212 - accuracy: 0.6832 - val_loss: 0.8183 - val_accuracy: 0.7150 - lr: 5.0000e-05\n",
            "Epoch 20/1000\n",
            "1027/1027 [==============================] - ETA: 0s - loss: 0.8229 - accuracy: 0.6847"
          ]
        },
        {
          "name": "stderr",
          "output_type": "stream",
          "text": [
            "WARNING:tensorflow:Can save best model only with val_prc available, skipping.\n"
          ]
        },
        {
          "name": "stdout",
          "output_type": "stream",
          "text": [
            "1027/1027 [==============================] - 112s 109ms/step - loss: 0.8229 - accuracy: 0.6847 - val_loss: 0.8183 - val_accuracy: 0.7150 - lr: 5.0000e-05\n",
            "Epoch 21/1000\n",
            "1027/1027 [==============================] - ETA: 0s - loss: 0.8215 - accuracy: 0.6880"
          ]
        },
        {
          "name": "stderr",
          "output_type": "stream",
          "text": [
            "WARNING:tensorflow:Can save best model only with val_prc available, skipping.\n"
          ]
        },
        {
          "name": "stdout",
          "output_type": "stream",
          "text": [
            "1027/1027 [==============================] - 112s 109ms/step - loss: 0.8215 - accuracy: 0.6880 - val_loss: 0.8183 - val_accuracy: 0.7150 - lr: 5.0000e-05\n",
            "Epoch 22/1000\n",
            "1027/1027 [==============================] - ETA: 0s - loss: 0.8216 - accuracy: 0.6873"
          ]
        },
        {
          "name": "stderr",
          "output_type": "stream",
          "text": [
            "WARNING:tensorflow:Can save best model only with val_prc available, skipping.\n"
          ]
        },
        {
          "name": "stdout",
          "output_type": "stream",
          "text": [
            "1027/1027 [==============================] - 112s 109ms/step - loss: 0.8216 - accuracy: 0.6873 - val_loss: 0.8183 - val_accuracy: 0.7150 - lr: 5.0000e-05\n",
            "Epoch 23/1000\n",
            "1027/1027 [==============================] - ETA: 0s - loss: 0.8239 - accuracy: 0.6861"
          ]
        },
        {
          "name": "stderr",
          "output_type": "stream",
          "text": [
            "WARNING:tensorflow:Can save best model only with val_prc available, skipping.\n"
          ]
        },
        {
          "name": "stdout",
          "output_type": "stream",
          "text": [
            "1027/1027 [==============================] - 112s 109ms/step - loss: 0.8239 - accuracy: 0.6861 - val_loss: 0.8183 - val_accuracy: 0.7150 - lr: 5.0000e-05\n",
            "Epoch 24/1000\n",
            "1027/1027 [==============================] - ETA: 0s - loss: 0.8246 - accuracy: 0.6855"
          ]
        },
        {
          "name": "stderr",
          "output_type": "stream",
          "text": [
            "WARNING:tensorflow:Can save best model only with val_prc available, skipping.\n"
          ]
        },
        {
          "name": "stdout",
          "output_type": "stream",
          "text": [
            "1027/1027 [==============================] - 112s 109ms/step - loss: 0.8246 - accuracy: 0.6855 - val_loss: 0.8183 - val_accuracy: 0.7150 - lr: 5.0000e-05\n",
            "Epoch 25/1000\n",
            "1027/1027 [==============================] - ETA: 0s - loss: 0.8223 - accuracy: 0.6831"
          ]
        },
        {
          "name": "stderr",
          "output_type": "stream",
          "text": [
            "WARNING:tensorflow:Can save best model only with val_prc available, skipping.\n"
          ]
        },
        {
          "name": "stdout",
          "output_type": "stream",
          "text": [
            "1027/1027 [==============================] - 112s 109ms/step - loss: 0.8223 - accuracy: 0.6831 - val_loss: 0.8183 - val_accuracy: 0.7150 - lr: 5.0000e-05\n",
            "Epoch 26/1000\n",
            "1027/1027 [==============================] - ETA: 0s - loss: 0.8277 - accuracy: 0.6859"
          ]
        },
        {
          "name": "stderr",
          "output_type": "stream",
          "text": [
            "WARNING:tensorflow:Can save best model only with val_prc available, skipping.\n"
          ]
        },
        {
          "name": "stdout",
          "output_type": "stream",
          "text": [
            "1027/1027 [==============================] - 112s 109ms/step - loss: 0.8277 - accuracy: 0.6859 - val_loss: 0.8183 - val_accuracy: 0.7150 - lr: 2.5000e-05\n",
            "Epoch 27/1000\n",
            "1027/1027 [==============================] - ETA: 0s - loss: 0.8213 - accuracy: 0.6842"
          ]
        },
        {
          "name": "stderr",
          "output_type": "stream",
          "text": [
            "WARNING:tensorflow:Can save best model only with val_prc available, skipping.\n"
          ]
        },
        {
          "name": "stdout",
          "output_type": "stream",
          "text": [
            "1027/1027 [==============================] - 113s 110ms/step - loss: 0.8213 - accuracy: 0.6842 - val_loss: 0.8183 - val_accuracy: 0.7150 - lr: 2.5000e-05\n",
            "Epoch 28/1000\n",
            "1027/1027 [==============================] - ETA: 0s - loss: 0.8239 - accuracy: 0.6856"
          ]
        },
        {
          "name": "stderr",
          "output_type": "stream",
          "text": [
            "WARNING:tensorflow:Can save best model only with val_prc available, skipping.\n"
          ]
        },
        {
          "name": "stdout",
          "output_type": "stream",
          "text": [
            "1027/1027 [==============================] - 113s 110ms/step - loss: 0.8239 - accuracy: 0.6856 - val_loss: 0.8183 - val_accuracy: 0.7150 - lr: 2.5000e-05\n",
            "Epoch 29/1000\n",
            "1027/1027 [==============================] - ETA: 0s - loss: 0.8264 - accuracy: 0.6856"
          ]
        },
        {
          "name": "stderr",
          "output_type": "stream",
          "text": [
            "WARNING:tensorflow:Can save best model only with val_prc available, skipping.\n"
          ]
        },
        {
          "name": "stdout",
          "output_type": "stream",
          "text": [
            "1027/1027 [==============================] - 112s 109ms/step - loss: 0.8264 - accuracy: 0.6856 - val_loss: 0.8183 - val_accuracy: 0.7150 - lr: 2.5000e-05\n",
            "Epoch 30/1000\n",
            "1027/1027 [==============================] - ETA: 0s - loss: 0.8241 - accuracy: 0.6861"
          ]
        },
        {
          "name": "stderr",
          "output_type": "stream",
          "text": [
            "WARNING:tensorflow:Can save best model only with val_prc available, skipping.\n"
          ]
        },
        {
          "name": "stdout",
          "output_type": "stream",
          "text": [
            "1027/1027 [==============================] - 112s 109ms/step - loss: 0.8241 - accuracy: 0.6861 - val_loss: 0.8183 - val_accuracy: 0.7150 - lr: 2.5000e-05\n",
            "Epoch 31/1000\n",
            "1027/1027 [==============================] - ETA: 0s - loss: 0.8211 - accuracy: 0.6857"
          ]
        },
        {
          "name": "stderr",
          "output_type": "stream",
          "text": [
            "WARNING:tensorflow:Can save best model only with val_prc available, skipping.\n"
          ]
        },
        {
          "name": "stdout",
          "output_type": "stream",
          "text": [
            "1027/1027 [==============================] - 112s 109ms/step - loss: 0.8211 - accuracy: 0.6857 - val_loss: 0.8183 - val_accuracy: 0.7150 - lr: 2.5000e-05\n",
            "Epoch 32/1000\n",
            "1027/1027 [==============================] - ETA: 0s - loss: 0.8167 - accuracy: 0.6897"
          ]
        },
        {
          "name": "stderr",
          "output_type": "stream",
          "text": [
            "WARNING:tensorflow:Can save best model only with val_prc available, skipping.\n"
          ]
        },
        {
          "name": "stdout",
          "output_type": "stream",
          "text": [
            "1027/1027 [==============================] - 112s 109ms/step - loss: 0.8167 - accuracy: 0.6897 - val_loss: 0.8183 - val_accuracy: 0.7150 - lr: 2.5000e-05\n",
            "Epoch 33/1000\n",
            "1027/1027 [==============================] - ETA: 0s - loss: 0.8255 - accuracy: 0.6834"
          ]
        },
        {
          "name": "stderr",
          "output_type": "stream",
          "text": [
            "WARNING:tensorflow:Can save best model only with val_prc available, skipping.\n"
          ]
        },
        {
          "name": "stdout",
          "output_type": "stream",
          "text": [
            "1027/1027 [==============================] - 112s 109ms/step - loss: 0.8255 - accuracy: 0.6834 - val_loss: 0.8183 - val_accuracy: 0.7150 - lr: 2.5000e-05\n",
            "Epoch 34/1000\n",
            "1027/1027 [==============================] - ETA: 0s - loss: 0.8241 - accuracy: 0.6841"
          ]
        },
        {
          "name": "stderr",
          "output_type": "stream",
          "text": [
            "WARNING:tensorflow:Can save best model only with val_prc available, skipping.\n"
          ]
        },
        {
          "name": "stdout",
          "output_type": "stream",
          "text": [
            "1027/1027 [==============================] - 112s 109ms/step - loss: 0.8241 - accuracy: 0.6841 - val_loss: 0.8183 - val_accuracy: 0.7150 - lr: 2.5000e-05\n",
            "Epoch 35/1000\n",
            "1027/1027 [==============================] - ETA: 0s - loss: 0.8248 - accuracy: 0.6851"
          ]
        },
        {
          "name": "stderr",
          "output_type": "stream",
          "text": [
            "WARNING:tensorflow:Can save best model only with val_prc available, skipping.\n"
          ]
        },
        {
          "name": "stdout",
          "output_type": "stream",
          "text": [
            "1027/1027 [==============================] - 112s 109ms/step - loss: 0.8248 - accuracy: 0.6851 - val_loss: 0.8183 - val_accuracy: 0.7150 - lr: 2.5000e-05\n",
            "Epoch 36/1000\n",
            "1027/1027 [==============================] - ETA: 0s - loss: 0.8222 - accuracy: 0.6853"
          ]
        },
        {
          "name": "stderr",
          "output_type": "stream",
          "text": [
            "WARNING:tensorflow:Can save best model only with val_prc available, skipping.\n"
          ]
        },
        {
          "name": "stdout",
          "output_type": "stream",
          "text": [
            "1027/1027 [==============================] - 112s 109ms/step - loss: 0.8222 - accuracy: 0.6853 - val_loss: 0.8183 - val_accuracy: 0.7150 - lr: 2.5000e-05\n",
            "Epoch 37/1000\n",
            "1027/1027 [==============================] - ETA: 0s - loss: 0.8279 - accuracy: 0.6845"
          ]
        },
        {
          "name": "stderr",
          "output_type": "stream",
          "text": [
            "WARNING:tensorflow:Can save best model only with val_prc available, skipping.\n"
          ]
        },
        {
          "name": "stdout",
          "output_type": "stream",
          "text": [
            "1027/1027 [==============================] - 112s 109ms/step - loss: 0.8279 - accuracy: 0.6845 - val_loss: 0.8183 - val_accuracy: 0.7150 - lr: 2.5000e-05\n",
            "Epoch 38/1000\n",
            "1027/1027 [==============================] - ETA: 0s - loss: 0.8217 - accuracy: 0.6825"
          ]
        },
        {
          "name": "stderr",
          "output_type": "stream",
          "text": [
            "WARNING:tensorflow:Can save best model only with val_prc available, skipping.\n"
          ]
        },
        {
          "name": "stdout",
          "output_type": "stream",
          "text": [
            "1027/1027 [==============================] - 112s 109ms/step - loss: 0.8217 - accuracy: 0.6825 - val_loss: 0.8183 - val_accuracy: 0.7150 - lr: 2.5000e-05\n",
            "Epoch 39/1000\n",
            "1027/1027 [==============================] - ETA: 0s - loss: 0.8267 - accuracy: 0.6855"
          ]
        },
        {
          "name": "stderr",
          "output_type": "stream",
          "text": [
            "WARNING:tensorflow:Can save best model only with val_prc available, skipping.\n"
          ]
        },
        {
          "name": "stdout",
          "output_type": "stream",
          "text": [
            "1027/1027 [==============================] - 112s 109ms/step - loss: 0.8267 - accuracy: 0.6855 - val_loss: 0.8183 - val_accuracy: 0.7150 - lr: 2.5000e-05\n",
            "Epoch 40/1000\n",
            "1027/1027 [==============================] - ETA: 0s - loss: 0.8272 - accuracy: 0.6817"
          ]
        },
        {
          "name": "stderr",
          "output_type": "stream",
          "text": [
            "WARNING:tensorflow:Can save best model only with val_prc available, skipping.\n"
          ]
        },
        {
          "name": "stdout",
          "output_type": "stream",
          "text": [
            "1027/1027 [==============================] - 112s 109ms/step - loss: 0.8272 - accuracy: 0.6817 - val_loss: 0.8183 - val_accuracy: 0.7150 - lr: 2.5000e-05\n",
            "Epoch 41/1000\n",
            "1027/1027 [==============================] - ETA: 0s - loss: 0.8226 - accuracy: 0.6855"
          ]
        },
        {
          "name": "stderr",
          "output_type": "stream",
          "text": [
            "WARNING:tensorflow:Can save best model only with val_prc available, skipping.\n"
          ]
        },
        {
          "name": "stdout",
          "output_type": "stream",
          "text": [
            "1027/1027 [==============================] - 112s 109ms/step - loss: 0.8226 - accuracy: 0.6855 - val_loss: 0.8183 - val_accuracy: 0.7150 - lr: 2.5000e-05\n",
            "Epoch 42/1000\n",
            "1027/1027 [==============================] - ETA: 0s - loss: 0.8167 - accuracy: 0.6870"
          ]
        },
        {
          "name": "stderr",
          "output_type": "stream",
          "text": [
            "WARNING:tensorflow:Can save best model only with val_prc available, skipping.\n"
          ]
        },
        {
          "name": "stdout",
          "output_type": "stream",
          "text": [
            "1027/1027 [==============================] - 112s 109ms/step - loss: 0.8167 - accuracy: 0.6870 - val_loss: 0.8183 - val_accuracy: 0.7150 - lr: 2.5000e-05\n",
            "Epoch 43/1000\n",
            "1027/1027 [==============================] - ETA: 0s - loss: 0.8205 - accuracy: 0.6855"
          ]
        },
        {
          "name": "stderr",
          "output_type": "stream",
          "text": [
            "WARNING:tensorflow:Can save best model only with val_prc available, skipping.\n"
          ]
        },
        {
          "name": "stdout",
          "output_type": "stream",
          "text": [
            "1027/1027 [==============================] - 112s 109ms/step - loss: 0.8205 - accuracy: 0.6855 - val_loss: 0.8183 - val_accuracy: 0.7150 - lr: 1.2500e-05\n",
            "Epoch 44/1000\n",
            "1027/1027 [==============================] - ETA: 0s - loss: 0.8262 - accuracy: 0.6837"
          ]
        },
        {
          "name": "stderr",
          "output_type": "stream",
          "text": [
            "WARNING:tensorflow:Can save best model only with val_prc available, skipping.\n"
          ]
        },
        {
          "name": "stdout",
          "output_type": "stream",
          "text": [
            "1027/1027 [==============================] - 112s 109ms/step - loss: 0.8262 - accuracy: 0.6837 - val_loss: 0.8183 - val_accuracy: 0.7150 - lr: 1.2500e-05\n",
            "Epoch 45/1000\n",
            "1027/1027 [==============================] - ETA: 0s - loss: 0.8236 - accuracy: 0.6841"
          ]
        },
        {
          "name": "stderr",
          "output_type": "stream",
          "text": [
            "WARNING:tensorflow:Can save best model only with val_prc available, skipping.\n"
          ]
        },
        {
          "name": "stdout",
          "output_type": "stream",
          "text": [
            "1027/1027 [==============================] - 112s 109ms/step - loss: 0.8236 - accuracy: 0.6841 - val_loss: 0.8183 - val_accuracy: 0.7150 - lr: 1.2500e-05\n",
            "Epoch 46/1000\n",
            "1027/1027 [==============================] - ETA: 0s - loss: 0.8260 - accuracy: 0.6840"
          ]
        },
        {
          "name": "stderr",
          "output_type": "stream",
          "text": [
            "WARNING:tensorflow:Can save best model only with val_prc available, skipping.\n"
          ]
        },
        {
          "name": "stdout",
          "output_type": "stream",
          "text": [
            "1027/1027 [==============================] - 112s 109ms/step - loss: 0.8260 - accuracy: 0.6840 - val_loss: 0.8183 - val_accuracy: 0.7150 - lr: 1.2500e-05\n",
            "Epoch 47/1000\n",
            "1027/1027 [==============================] - ETA: 0s - loss: 0.8257 - accuracy: 0.6817"
          ]
        },
        {
          "name": "stderr",
          "output_type": "stream",
          "text": [
            "WARNING:tensorflow:Can save best model only with val_prc available, skipping.\n"
          ]
        },
        {
          "name": "stdout",
          "output_type": "stream",
          "text": [
            "1027/1027 [==============================] - 112s 109ms/step - loss: 0.8257 - accuracy: 0.6817 - val_loss: 0.8183 - val_accuracy: 0.7150 - lr: 1.2500e-05\n",
            "Epoch 48/1000\n",
            "1027/1027 [==============================] - ETA: 0s - loss: 0.8198 - accuracy: 0.6842"
          ]
        },
        {
          "name": "stderr",
          "output_type": "stream",
          "text": [
            "WARNING:tensorflow:Can save best model only with val_prc available, skipping.\n"
          ]
        },
        {
          "name": "stdout",
          "output_type": "stream",
          "text": [
            "1027/1027 [==============================] - 112s 109ms/step - loss: 0.8198 - accuracy: 0.6842 - val_loss: 0.8183 - val_accuracy: 0.7150 - lr: 1.2500e-05\n",
            "Epoch 49/1000\n",
            "1027/1027 [==============================] - ETA: 0s - loss: 0.8262 - accuracy: 0.6864"
          ]
        },
        {
          "name": "stderr",
          "output_type": "stream",
          "text": [
            "WARNING:tensorflow:Can save best model only with val_prc available, skipping.\n"
          ]
        },
        {
          "name": "stdout",
          "output_type": "stream",
          "text": [
            "1027/1027 [==============================] - 112s 109ms/step - loss: 0.8262 - accuracy: 0.6864 - val_loss: 0.8183 - val_accuracy: 0.7150 - lr: 1.2500e-05\n",
            "Epoch 50/1000\n",
            "1027/1027 [==============================] - ETA: 0s - loss: 0.8268 - accuracy: 0.6840"
          ]
        },
        {
          "name": "stderr",
          "output_type": "stream",
          "text": [
            "WARNING:tensorflow:Can save best model only with val_prc available, skipping.\n"
          ]
        },
        {
          "name": "stdout",
          "output_type": "stream",
          "text": [
            "1027/1027 [==============================] - 112s 109ms/step - loss: 0.8268 - accuracy: 0.6840 - val_loss: 0.8183 - val_accuracy: 0.7150 - lr: 1.2500e-05\n",
            "Epoch 51/1000\n",
            "1027/1027 [==============================] - ETA: 0s - loss: 0.8207 - accuracy: 0.6870"
          ]
        },
        {
          "name": "stderr",
          "output_type": "stream",
          "text": [
            "WARNING:tensorflow:Can save best model only with val_prc available, skipping.\n"
          ]
        },
        {
          "name": "stdout",
          "output_type": "stream",
          "text": [
            "1027/1027 [==============================] - 112s 109ms/step - loss: 0.8207 - accuracy: 0.6870 - val_loss: 0.8183 - val_accuracy: 0.7150 - lr: 1.2500e-05\n",
            "Epoch 52/1000\n",
            "1027/1027 [==============================] - ETA: 0s - loss: 0.8244 - accuracy: 0.6840"
          ]
        },
        {
          "name": "stderr",
          "output_type": "stream",
          "text": [
            "WARNING:tensorflow:Can save best model only with val_prc available, skipping.\n"
          ]
        },
        {
          "name": "stdout",
          "output_type": "stream",
          "text": [
            "1027/1027 [==============================] - 112s 109ms/step - loss: 0.8244 - accuracy: 0.6840 - val_loss: 0.8183 - val_accuracy: 0.7150 - lr: 1.2500e-05\n",
            "Epoch 53/1000\n",
            "1027/1027 [==============================] - ETA: 0s - loss: 0.8189 - accuracy: 0.6905"
          ]
        },
        {
          "name": "stderr",
          "output_type": "stream",
          "text": [
            "WARNING:tensorflow:Can save best model only with val_prc available, skipping.\n"
          ]
        },
        {
          "name": "stdout",
          "output_type": "stream",
          "text": [
            "1027/1027 [==============================] - 112s 109ms/step - loss: 0.8189 - accuracy: 0.6905 - val_loss: 0.8183 - val_accuracy: 0.7150 - lr: 1.0000e-05\n",
            "Epoch 54/1000\n",
            "1027/1027 [==============================] - ETA: 0s - loss: 0.8231 - accuracy: 0.6818"
          ]
        },
        {
          "name": "stderr",
          "output_type": "stream",
          "text": [
            "WARNING:tensorflow:Can save best model only with val_prc available, skipping.\n"
          ]
        },
        {
          "name": "stdout",
          "output_type": "stream",
          "text": [
            "1027/1027 [==============================] - 112s 109ms/step - loss: 0.8231 - accuracy: 0.6818 - val_loss: 0.8183 - val_accuracy: 0.7150 - lr: 1.0000e-05\n",
            "Epoch 55/1000\n",
            "1027/1027 [==============================] - ETA: 0s - loss: 0.8232 - accuracy: 0.6839"
          ]
        },
        {
          "name": "stderr",
          "output_type": "stream",
          "text": [
            "WARNING:tensorflow:Can save best model only with val_prc available, skipping.\n"
          ]
        },
        {
          "name": "stdout",
          "output_type": "stream",
          "text": [
            "1027/1027 [==============================] - 112s 109ms/step - loss: 0.8232 - accuracy: 0.6839 - val_loss: 0.8183 - val_accuracy: 0.7150 - lr: 1.0000e-05\n",
            "Epoch 56/1000\n",
            "1027/1027 [==============================] - ETA: 0s - loss: 0.8288 - accuracy: 0.6833"
          ]
        },
        {
          "name": "stderr",
          "output_type": "stream",
          "text": [
            "WARNING:tensorflow:Can save best model only with val_prc available, skipping.\n"
          ]
        },
        {
          "name": "stdout",
          "output_type": "stream",
          "text": [
            "1027/1027 [==============================] - 112s 109ms/step - loss: 0.8288 - accuracy: 0.6833 - val_loss: 0.8183 - val_accuracy: 0.7150 - lr: 1.0000e-05\n",
            "Epoch 57/1000\n",
            "1027/1027 [==============================] - ETA: 0s - loss: 0.8194 - accuracy: 0.6879"
          ]
        },
        {
          "name": "stderr",
          "output_type": "stream",
          "text": [
            "WARNING:tensorflow:Can save best model only with val_prc available, skipping.\n"
          ]
        },
        {
          "name": "stdout",
          "output_type": "stream",
          "text": [
            "1027/1027 [==============================] - 112s 109ms/step - loss: 0.8194 - accuracy: 0.6879 - val_loss: 0.8183 - val_accuracy: 0.7150 - lr: 1.0000e-05\n",
            "Epoch 58/1000\n",
            "1027/1027 [==============================] - ETA: 0s - loss: 0.8287 - accuracy: 0.6827"
          ]
        },
        {
          "name": "stderr",
          "output_type": "stream",
          "text": [
            "WARNING:tensorflow:Can save best model only with val_prc available, skipping.\n"
          ]
        },
        {
          "name": "stdout",
          "output_type": "stream",
          "text": [
            "1027/1027 [==============================] - 113s 110ms/step - loss: 0.8287 - accuracy: 0.6827 - val_loss: 0.8183 - val_accuracy: 0.7150 - lr: 1.0000e-05\n",
            "Epoch 59/1000\n",
            "1027/1027 [==============================] - ETA: 0s - loss: 0.8197 - accuracy: 0.6873"
          ]
        },
        {
          "name": "stderr",
          "output_type": "stream",
          "text": [
            "WARNING:tensorflow:Can save best model only with val_prc available, skipping.\n"
          ]
        },
        {
          "name": "stdout",
          "output_type": "stream",
          "text": [
            "1027/1027 [==============================] - 112s 109ms/step - loss: 0.8197 - accuracy: 0.6873 - val_loss: 0.8183 - val_accuracy: 0.7150 - lr: 1.0000e-05\n",
            "Epoch 60/1000\n",
            "1027/1027 [==============================] - ETA: 0s - loss: 0.8175 - accuracy: 0.6900"
          ]
        },
        {
          "name": "stderr",
          "output_type": "stream",
          "text": [
            "WARNING:tensorflow:Can save best model only with val_prc available, skipping.\n"
          ]
        },
        {
          "name": "stdout",
          "output_type": "stream",
          "text": [
            "1027/1027 [==============================] - 112s 109ms/step - loss: 0.8175 - accuracy: 0.6900 - val_loss: 0.8183 - val_accuracy: 0.7150 - lr: 1.0000e-05\n",
            "Epoch 61/1000\n",
            "1027/1027 [==============================] - ETA: 0s - loss: 0.8235 - accuracy: 0.6888"
          ]
        },
        {
          "name": "stderr",
          "output_type": "stream",
          "text": [
            "WARNING:tensorflow:Can save best model only with val_prc available, skipping.\n"
          ]
        },
        {
          "name": "stdout",
          "output_type": "stream",
          "text": [
            "1027/1027 [==============================] - 112s 109ms/step - loss: 0.8235 - accuracy: 0.6888 - val_loss: 0.8183 - val_accuracy: 0.7150 - lr: 1.0000e-05\n",
            "Epoch 62/1000\n",
            "1027/1027 [==============================] - ETA: 0s - loss: 0.8238 - accuracy: 0.6863"
          ]
        },
        {
          "name": "stderr",
          "output_type": "stream",
          "text": [
            "WARNING:tensorflow:Can save best model only with val_prc available, skipping.\n"
          ]
        },
        {
          "name": "stdout",
          "output_type": "stream",
          "text": [
            "\b\b\b\b\b\b\b\b\b\b\b\b\b\b\b\b\b\b\b\b\b\b\b\b\b\b\b\b\b\b\b\b\b\b\b\b\b\b\b\b\b\b\b\b\b\b\b\b\b\b\b\b\b\b\b\b\b\b\b\b\b\b\b\b\b\b\b\b\b\b\b\b\b\b\b\b\b\b\b\b\b\b\b\b\b\b\r1027/1027 [==============================] - 112s 109ms/step - loss: 0.8238 - accuracy: 0.6863 - val_loss: 0.8183 - val_accuracy: 0.7150 - lr: 1.0000e-05\n"
          ]
        }
      ],
      "source": [
        "# we chose to train the top 2 resnet blocks, i.e. we will freeze\n",
        "# the first 49 layers and unfreeze the rest:\n",
        "limit = 171\n",
        "for layer in model.layers[:limit]:\n",
        "   layer.trainable = False\n",
        "for layer in model.layers[limit:]:\n",
        "   layer.trainable = True\n",
        "\n",
        "# we need to recompile the model for these modifications to take effect\n",
        "# we use SGD with a low learning rate\n",
        "from tensorflow.keras.optimizers import SGD\n",
        "#model.compile(optimizer=SGD(learning_rate=0.0001, momentum=0.9), loss='categorical_crossentropy', metrics=[\"accuracy\"])\n",
        "\n",
        "# we train our model again (this time fine-tuning the top 2 inception blocks\n",
        "# alongside the top Dense layers\n",
        "#hst2 = model.fit(X_train, y_train, batch_size=BATCH_SIZE, epochs=EPOCHS, validation_data=(X_val, y_val))\n",
        "optimizer_SGD = SGD(learning_rate=0.0001, momentum=0.9)\n",
        "model.compile(optimizer = optimizer , loss = \"categorical_crossentropy\", metrics=['accuracy', keras.metrics.AUC(name='prc', curve='PR')])\n",
        "#hst2 = model.fit(dataaugment.flow(X_train,y_train, batch_size=BATCH_SIZE),\n",
        "hst2 = model.fit(train_data_batches,\n",
        "                    epochs = EPOCHS, validation_data = valid_data_batches,\n",
        " #                   steps_per_epoch=X_train.shape[0] // BATCH_SIZE, \n",
        "                    callbacks=[learning_rate_reduction,early_stopping_monitor, mc])\n"
      ]
    },
    {
      "cell_type": "code",
      "execution_count": null,
      "metadata": {
        "id": "1QoiQK0xECpU"
      },
      "outputs": [],
      "source": [
        "# load the saved model\n",
        "finetune_model = load_model(best_model_fpath)\n",
        "# evaluate the model\n",
        "#_, train_acc = finetune_model.evaluate(X_train, y_train, verbose=0)\n",
        "#_, test_acc = finetune_model.evaluate(X_val, y_val, verbose=0)\n",
        "#print('Train: %.3f, Val: %.3f' % (train_acc, test_acc))"
      ]
    },
    {
      "cell_type": "code",
      "execution_count": 42,
      "metadata": {
        "id": "3EeAKIX_EB9d",
        "colab": {
          "base_uri": "https://localhost:8080/"
        },
        "outputId": "b4ba9463-2521-427d-d612-7dca7d49dc7e"
      },
      "outputs": [
        {
          "output_type": "stream",
          "name": "stdout",
          "text": [
            "balanced accuracy on validation 0.5952252741451348\n"
          ]
        }
      ],
      "source": [
        "y_val_pred = finetune_model.predict(X_val)\n",
        "y_train_pred = finetune_model.predict(X_train)\n",
        "\n",
        "print('balanced accuracy on training',balanced_accuracy_score(np.argmax(y_train, axis=1), np.argmax(y_train_pred, axis=1)))\n",
        "print('balanced accuracy on validation',balanced_accuracy_score(np.argmax(y_val, axis=1), np.argmax(y_val_pred, axis=1)))"
      ]
    },
    {
      "cell_type": "code",
      "execution_count": 43,
      "metadata": {
        "id": "gH92sRmlETE8",
        "colab": {
          "base_uri": "https://localhost:8080/"
        },
        "outputId": "0f5a5a5b-3a8f-4d97-9900-e77e714a10ac"
      },
      "outputs": [
        {
          "output_type": "stream",
          "name": "stdout",
          "text": [
            "Score on val data:  (0.5480594343000358, 0.5952252741451348, 0.4979639157140638, None)\n"
          ]
        }
      ],
      "source": [
        "print('Score on val data: ',precision_recall_fscore_support(np.argmax(y_val, axis=1), np.argmax(y_val_pred, axis=1), average='macro'))\n",
        "#print('Score on test data: ',precision_recall_fscore_support(y_test, y_pred2, average='macro'))"
      ]
    },
    {
      "cell_type": "code",
      "execution_count": 44,
      "metadata": {
        "id": "vO1aAQBmiy0K",
        "colab": {
          "base_uri": "https://localhost:8080/",
          "height": 295
        },
        "outputId": "e575f321-5579-422d-aef7-0e6ce6819520"
      },
      "outputs": [
        {
          "output_type": "display_data",
          "data": {
            "text/plain": [
              "<Figure size 432x288 with 1 Axes>"
            ],
            "image/png": "[encoded data removed]"
          },
          "metadata": {
            "needs_background": "light"
          }
        }
      ],
      "source": [
        "# summarize history for accuracy\n",
        "plt.plot(hst2.history['accuracy'])\n",
        "plt.plot(hst2.history['val_accuracy'])\n",
        "plt.title('model accuracy after tunning')\n",
        "plt.ylabel('accuracy')\n",
        "plt.xlabel('epoch')\n",
        "plt.legend(['train', 'val'], loc='upper left')\n",
        "plt.show()"
      ]
    },
    {
      "cell_type": "markdown",
      "metadata": {
        "id": "3K908bbiYwbS"
      },
      "source": [
        "#Testing\n",
        "Result from ISIC Live\n",
        "last_model: 0.506\n",
        "best_model: 0.478"
      ]
    },
    {
      "cell_type": "code",
      "execution_count": 45,
      "metadata": {
        "id": "NeMY2yvMYxsC"
      },
      "outputs": [],
      "source": [
        "dir_test = '/content/drive/MyDrive/PHD/Datasets/isic2018/ISIC2018_Task3_Test_Input/'\n",
        "filepaths = sorted( filter( lambda x: (os.path.isfile(os.path.join(dir_test, x))) and (x.endswith('.jpg')),\n",
        "                        os.listdir(dir_test) ) )"
      ]
    },
    {
      "cell_type": "code",
      "execution_count": 46,
      "metadata": {
        "id": "6ic95mefkpG3",
        "colab": {
          "base_uri": "https://localhost:8080/",
          "height": 424
        },
        "outputId": "f85c8947-9fb2-4402-e24b-39c508703cd0"
      },
      "outputs": [
        {
          "output_type": "execute_result",
          "data": {
            "text/plain": [
              "                 image                                          FilePaths\n",
              "0     ISIC_0034524.jpg  /content/drive/MyDrive/PHD/Datasets/isic2018/I...\n",
              "1     ISIC_0034525.jpg  /content/drive/MyDrive/PHD/Datasets/isic2018/I...\n",
              "2     ISIC_0034526.jpg  /content/drive/MyDrive/PHD/Datasets/isic2018/I...\n",
              "3     ISIC_0034527.jpg  /content/drive/MyDrive/PHD/Datasets/isic2018/I...\n",
              "4     ISIC_0034528.jpg  /content/drive/MyDrive/PHD/Datasets/isic2018/I...\n",
              "...                ...                                                ...\n",
              "1507  ISIC_0036060.jpg  /content/drive/MyDrive/PHD/Datasets/isic2018/I...\n",
              "1508  ISIC_0036061.jpg  /content/drive/MyDrive/PHD/Datasets/isic2018/I...\n",
              "1509  ISIC_0036062.jpg  /content/drive/MyDrive/PHD/Datasets/isic2018/I...\n",
              "1510  ISIC_0036063.jpg  /content/drive/MyDrive/PHD/Datasets/isic2018/I...\n",
              "1511  ISIC_0036064.jpg  /content/drive/MyDrive/PHD/Datasets/isic2018/I...\n",
              "\n",
              "[1512 rows x 2 columns]"
            ],
            "text/html": [
              "\n",
              "  <div id=\"df-9c1d5209-6f9a-49fa-982b-f64ddd632c26\">\n",
              "    <div class=\"colab-df-container\">\n",
              "      <div>\n",
              "<style scoped>\n",
              "    .dataframe tbody tr th:only-of-type {\n",
              "        vertical-align: middle;\n",
              "    }\n",
              "\n",
              "    .dataframe tbody tr th {\n",
              "        vertical-align: top;\n",
              "    }\n",
              "\n",
              "    .dataframe thead th {\n",
              "        text-align: right;\n",
              "    }\n",
              "</style>\n",
              "<table border=\"1\" class=\"dataframe\">\n",
              "  <thead>\n",
              "    <tr style=\"text-align: right;\">\n",
              "      <th></th>\n",
              "      <th>image</th>\n",
              "      <th>FilePaths</th>\n",
              "    </tr>\n",
              "  </thead>\n",
              "  <tbody>\n",
              "    <tr>\n",
              "      <th>0</th>\n",
              "      <td>ISIC_0034524.jpg</td>\n",
              "      <td>/content/drive/MyDrive/PHD/Datasets/isic2018/I...</td>\n",
              "    </tr>\n",
              "    <tr>\n",
              "      <th>1</th>\n",
              "      <td>ISIC_0034525.jpg</td>\n",
              "      <td>/content/drive/MyDrive/PHD/Datasets/isic2018/I...</td>\n",
              "    </tr>\n",
              "    <tr>\n",
              "      <th>2</th>\n",
              "      <td>ISIC_0034526.jpg</td>\n",
              "      <td>/content/drive/MyDrive/PHD/Datasets/isic2018/I...</td>\n",
              "    </tr>\n",
              "    <tr>\n",
              "      <th>3</th>\n",
              "      <td>ISIC_0034527.jpg</td>\n",
              "      <td>/content/drive/MyDrive/PHD/Datasets/isic2018/I...</td>\n",
              "    </tr>\n",
              "    <tr>\n",
              "      <th>4</th>\n",
              "      <td>ISIC_0034528.jpg</td>\n",
              "      <td>/content/drive/MyDrive/PHD/Datasets/isic2018/I...</td>\n",
              "    </tr>\n",
              "    <tr>\n",
              "      <th>...</th>\n",
              "      <td>...</td>\n",
              "      <td>...</td>\n",
              "    </tr>\n",
              "    <tr>\n",
              "      <th>1507</th>\n",
              "      <td>ISIC_0036060.jpg</td>\n",
              "      <td>/content/drive/MyDrive/PHD/Datasets/isic2018/I...</td>\n",
              "    </tr>\n",
              "    <tr>\n",
              "      <th>1508</th>\n",
              "      <td>ISIC_0036061.jpg</td>\n",
              "      <td>/content/drive/MyDrive/PHD/Datasets/isic2018/I...</td>\n",
              "    </tr>\n",
              "    <tr>\n",
              "      <th>1509</th>\n",
              "      <td>ISIC_0036062.jpg</td>\n",
              "      <td>/content/drive/MyDrive/PHD/Datasets/isic2018/I...</td>\n",
              "    </tr>\n",
              "    <tr>\n",
              "      <th>1510</th>\n",
              "      <td>ISIC_0036063.jpg</td>\n",
              "      <td>/content/drive/MyDrive/PHD/Datasets/isic2018/I...</td>\n",
              "    </tr>\n",
              "    <tr>\n",
              "      <th>1511</th>\n",
              "      <td>ISIC_0036064.jpg</td>\n",
              "      <td>/content/drive/MyDrive/PHD/Datasets/isic2018/I...</td>\n",
              "    </tr>\n",
              "  </tbody>\n",
              "</table>\n",
              "<p>1512 rows × 2 columns</p>\n",
              "</div>\n",
              "      <button class=\"colab-df-convert\" onclick=\"convertToInteractive('df-9c1d5209-6f9a-49fa-982b-f64ddd632c26')\"\n",
              "              title=\"Convert this dataframe to an interactive table.\"\n",
              "              style=\"display:none;\">\n",
              "        \n",
              "  <svg xmlns=\"http://www.w3.org/2000/svg\" height=\"24px\"viewBox=\"0 0 24 24\"\n",
              "       width=\"24px\">\n",
              "    <path d=\"M0 0h24v24H0V0z\" fill=\"none\"/>\n",
              "    <path d=\"M18.56 5.44l.94 2.06.94-2.06 2.06-.94-2.06-.94-.94-2.06-.94 2.06-2.06.94zm-11 1L8.5 8.5l.94-2.06 2.06-.94-2.06-.94L8.5 2.5l-.94 2.06-2.06.94zm10 10l.94 2.06.94-2.06 2.06-.94-2.06-.94-.94-2.06-.94 2.06-2.06.94z\"/><path d=\"M17.41 7.96l-1.37-1.37c-.4-.4-.92-.59-1.43-.59-.52 0-1.04.2-1.43.59L10.3 9.45l-7.72 7.72c-.78.78-.78 2.05 0 2.83L4 21.41c.39.39.9.59 1.41.59.51 0 1.02-.2 1.41-.59l7.78-7.78 2.81-2.81c.8-.78.8-2.07 0-2.86zM5.41 20L4 18.59l7.72-7.72 1.47 1.35L5.41 20z\"/>\n",
              "  </svg>\n",
              "      </button>\n",
              "      \n",
              "  <style>\n",
              "    .colab-df-container {\n",
              "      display:flex;\n",
              "      flex-wrap:wrap;\n",
              "      gap: 12px;\n",
              "    }\n",
              "\n",
              "    .colab-df-convert {\n",
              "      background-color: #E8F0FE;\n",
              "      border: none;\n",
              "      border-radius: 50%;\n",
              "      cursor: pointer;\n",
              "      display: none;\n",
              "      fill: #1967D2;\n",
              "      height: 32px;\n",
              "      padding: 0 0 0 0;\n",
              "      width: 32px;\n",
              "    }\n",
              "\n",
              "    .colab-df-convert:hover {\n",
              "      background-color: #E2EBFA;\n",
              "      box-shadow: 0px 1px 2px rgba(60, 64, 67, 0.3), 0px 1px 3px 1px rgba(60, 64, 67, 0.15);\n",
              "      fill: #174EA6;\n",
              "    }\n",
              "\n",
              "    [theme=dark] .colab-df-convert {\n",
              "      background-color: #3B4455;\n",
              "      fill: #D2E3FC;\n",
              "    }\n",
              "\n",
              "    [theme=dark] .colab-df-convert:hover {\n",
              "      background-color: #434B5C;\n",
              "      box-shadow: 0px 1px 3px 1px rgba(0, 0, 0, 0.15);\n",
              "      filter: drop-shadow(0px 1px 2px rgba(0, 0, 0, 0.3));\n",
              "      fill: #FFFFFF;\n",
              "    }\n",
              "  </style>\n",
              "\n",
              "      <script>\n",
              "        const buttonEl =\n",
              "          document.querySelector('#df-9c1d5209-6f9a-49fa-982b-f64ddd632c26 button.colab-df-convert');\n",
              "        buttonEl.style.display =\n",
              "          google.colab.kernel.accessAllowed ? 'block' : 'none';\n",
              "\n",
              "        async function convertToInteractive(key) {\n",
              "          const element = document.querySelector('#df-9c1d5209-6f9a-49fa-982b-f64ddd632c26');\n",
              "          const dataTable =\n",
              "            await google.colab.kernel.invokeFunction('convertToInteractive',\n",
              "                                                     [key], {});\n",
              "          if (!dataTable) return;\n",
              "\n",
              "          const docLinkHtml = 'Like what you see? Visit the ' +\n",
              "            '<a target=\"_blank\" href=https://colab.research.google.com/notebooks/data_table.ipynb>data table notebook</a>'\n",
              "            + ' to learn more about interactive tables.';\n",
              "          element.innerHTML = '';\n",
              "          dataTable['output_type'] = 'display_data';\n",
              "          await google.colab.output.renderOutput(dataTable, element);\n",
              "          const docLink = document.createElement('div');\n",
              "          docLink.innerHTML = docLinkHtml;\n",
              "          element.appendChild(docLink);\n",
              "        }\n",
              "      </script>\n",
              "    </div>\n",
              "  </div>\n",
              "  "
            ]
          },
          "metadata": {},
          "execution_count": 46
        }
      ],
      "source": [
        "df_test = pd.DataFrame(filepaths, columns =['image'])\n",
        "df_test['FilePaths'] = dir_test + df_test['image']\n",
        "#df_test"
      ]
    },
    {
      "cell_type": "code",
      "execution_count": 47,
      "metadata": {
        "id": "NBa1TxPuY8ni"
      },
      "outputs": [],
      "source": [
        "df_test['image'] = df_test['FilePaths'].map(lambda x: np.asarray(Image.open(x).resize(IMG_SIZE)))"
      ]
    },
    {
      "cell_type": "code",
      "execution_count": 48,
      "metadata": {
        "id": "60LYAT7VsNOZ",
        "colab": {
          "base_uri": "https://localhost:8080/"
        },
        "outputId": "250ff47a-6c6e-40e7-c950-d600f9a18bfa"
      },
      "outputs": [
        {
          "output_type": "stream",
          "name": "stdout",
          "text": [
            "(1512, 224, 224, 3)\n"
          ]
        }
      ],
      "source": [
        "X_test = np.asarray(df_test['image'].tolist())\n",
        "print(np.array(X_test).shape)"
      ]
    },
    {
      "cell_type": "markdown",
      "metadata": {
        "id": "FF7ml90JZ8FK"
      },
      "source": [
        "Calculate y_pred from training and testing for analysis"
      ]
    },
    {
      "cell_type": "code",
      "execution_count": 52,
      "metadata": {
        "id": "dIX0AmEFNv3Y",
        "colab": {
          "base_uri": "https://localhost:8080/"
        },
        "outputId": "86fe2da0-3eba-4fba-ee42-c8ff0fff5709"
      },
      "outputs": [
        {
          "output_type": "stream",
          "name": "stdout",
          "text": [
            "Y_pred2 (1512, 7)\n",
            "y_pred2 1512\n"
          ]
        }
      ],
      "source": [
        "# predicted labels\n",
        "Y_pred2 = model.predict(X_test)\n",
        "print(\"Y_pred2\", Y_pred2.shape)\n",
        "# rounded labels\n",
        "y_pred2 = np.argmax(Y_pred2, axis=1)\n",
        "print(\"y_pred2\", y_pred2.size)"
      ]
    },
    {
      "cell_type": "code",
      "execution_count": 53,
      "metadata": {
        "id": "7oeArO5CtxGb"
      },
      "outputs": [],
      "source": [
        "df_pred = pd.DataFrame(Y_pred2, columns = ['AKIEC', 'BCC', 'BKL', 'DF', 'MEL', 'NV', 'VASC'])\n",
        "df_pred['image'] = df_test['FilePaths'].map(lambda x: x.replace(dir_test, '').replace('.jpg', ''))\n",
        "df_pred = df_pred[['image', 'MEL', 'NV', 'BCC', 'AKIEC', 'BKL', 'DF', 'VASC']]"
      ]
    },
    {
      "cell_type": "code",
      "execution_count": 54,
      "metadata": {
        "id": "sOnjc3RJ0e4T"
      },
      "outputs": [],
      "source": [
        "df_pred.set_index(\"image\", inplace = True)\n",
        "df_pred.to_csv('/content/drive/MyDrive/PHD/Datasets/isic2018/response_SMOTEOversampling_last.csv')"
      ]
    },
    {
      "cell_type": "markdown",
      "metadata": {
        "id": "eaK4zbtoaAaC"
      },
      "source": [
        "#Confusion Metric on Validation Set"
      ]
    },
    {
      "cell_type": "code",
      "execution_count": 58,
      "metadata": {
        "id": "E4nEpmkZaTZC",
        "colab": {
          "base_uri": "https://localhost:8080/"
        },
        "outputId": "3ea76e83-81a6-469b-d404-1dc445918d17"
      },
      "outputs": [
        {
          "output_type": "stream",
          "name": "stdout",
          "text": [
            "[[  2   0   3   1   2   0   0]\n",
            " [  2   6   1   5   0   1   0]\n",
            " [  0   0  13   1   4   4   0]\n",
            " [  0   0   0   1   0   0   0]\n",
            " [  0   0   4   1  15   1   0]\n",
            " [  0   2   4   1   7 108   1]\n",
            " [  0   0   0   2   0   0   1]]\n"
          ]
        }
      ],
      "source": [
        "#Get the confusion matrix\n",
        "cf_matrix = confusion_matrix(np.argmax(y_val, axis=1), np.argmax(y_val_pred, axis=1))\n",
        "\n",
        "print(cf_matrix)"
      ]
    },
    {
      "cell_type": "code",
      "execution_count": 59,
      "metadata": {
        "id": "gVtvW3YeaLlC",
        "colab": {
          "base_uri": "https://localhost:8080/",
          "height": 340
        },
        "outputId": "1a55d66f-5af9-495a-da91-8c22c53e53f3"
      },
      "outputs": [
        {
          "output_type": "display_data",
          "data": {
            "text/plain": [
              "<Figure size 432x288 with 2 Axes>"
            ],
            "image/png": "[encoded data removed]"
          },
          "metadata": {
            "needs_background": "light"
          }
        }
      ],
      "source": [
        "ax = sns.heatmap(cf_matrix / cf_matrix.sum(axis=1, keepdims=True), annot=True, \n",
        "            cmap='Blues')\n",
        "\n",
        "ax.set_title('Confusion Matrix \\n');\n",
        "ax.set_xlabel('\\nPredicted')\n",
        "ax.set_ylabel('Actual ');\n",
        "\n",
        "## Ticket labels - List must be in alphabetical order\n",
        "ax.xaxis.set_ticklabels(['AKIEC', 'BCC', 'BKL', 'DF', 'MEL', 'NV', 'VASC'])\n",
        "ax.yaxis.set_ticklabels(['AKIEC', 'BCC', 'BKL', 'DF', 'MEL', 'NV', 'VASC'])\n",
        "\n",
        "plt.rcParams[\"figure.figsize\"] = (15,3)\n",
        "\n",
        "## Display the visualization of the Confusion Matrix.\n",
        "plt.xticks(rotation=45, ha='right')\n",
        "plt.yticks(rotation=0, ha='right')\n",
        "plt.show()"
      ]
    },
    {
      "cell_type": "code",
      "execution_count": 60,
      "metadata": {
        "id": "Ey-1yjWGeKs7",
        "colab": {
          "base_uri": "https://localhost:8080/",
          "height": 509
        },
        "outputId": "8de78d76-eaa9-415c-e4ab-bc6d8e292395"
      },
      "outputs": [
        {
          "output_type": "execute_result",
          "data": {
            "text/plain": [
              "[Text(0, 0, 'AKIEC'),\n",
              " Text(0, 0, 'BCC'),\n",
              " Text(0, 0, 'BKL'),\n",
              " Text(0, 0, 'DF'),\n",
              " Text(0, 0, 'MEL'),\n",
              " Text(0, 0, 'NV'),\n",
              " Text(0, 0, 'VASC')]"
            ]
          },
          "metadata": {},
          "execution_count": 60
        },
        {
          "output_type": "display_data",
          "data": {
            "text/plain": [
              "<Figure size 1080x432 with 1 Axes>"
            ],
            "image/png": "[encoded data removed]"
          },
          "metadata": {
            "needs_background": "light"
          }
        }
      ],
      "source": [
        "# ordered count of rows per unique label\n",
        "labels_count = df_val['Labels'].value_counts().sort_index()\n",
        "\n",
        "f = plt.figure(figsize=(15, 6))\n",
        "s = sns.barplot(x=labels_count.index,y=labels_count.values)\n",
        "s.set_xticklabels(s.get_xticklabels(), rotation = 30)"
      ]
    }
  ],
  "metadata": {
    "accelerator": "GPU",
    "colab": {
      "collapsed_sections": [
        "RcRGeofw-8tK",
        "uZv-B-ygCD57",
        "cNBXx28B9yGu",
        "US0KkIaVlTdU",
        "0jrJ33lUDkCM",
        "3K908bbiYwbS"
      ],
      "machine_shape": "hm",
      "name": "Skin Cancer Diagnosis using ISIC 2018 Dataset.ipynb",
      "provenance": [],
      "include_colab_link": true
    },
    "gpuClass": "standard",
    "kernelspec": {
      "display_name": "Python 3",
      "name": "python3"
    },
    "language_info": {
      "name": "python"
    }
  },
  "nbformat": 4,
  "nbformat_minor": 0
}
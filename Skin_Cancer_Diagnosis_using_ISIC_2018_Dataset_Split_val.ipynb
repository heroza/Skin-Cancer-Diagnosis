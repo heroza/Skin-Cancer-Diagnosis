{
  "cells": [
    {
      "cell_type": "markdown",
      "metadata": {
        "id": "view-in-github",
        "colab_type": "text"
      },
      "source": [
        "<a href=\"https://colab.research.google.com/github/heroza/Skin-Cancer-Diagnosis/blob/main/Skin_Cancer_Diagnosis_using_ISIC_2018_Dataset_Split_val.ipynb\" target=\"_parent\"><img src=\"https://colab.research.google.com/assets/colab-badge.svg\" alt=\"Open In Colab\"/></a>"
      ]
    },
    {
      "cell_type": "markdown",
      "metadata": {
        "id": "PUusDE1Z9TNb"
      },
      "source": [
        "Prepare the dataset. \n",
        "Currently, we use skin cancer ISIC dataset from Kaggle https://www.kaggle.com/datasets/nodoubttome/skin-cancer9-classesisic\n",
        "\n",
        "Tutorial for how to load Kaggle dataset can be found in https://www.analyticsvidhya.com/blog/2021/06/how-to-load-kaggle-datasets-directly-into-google-colab/"
      ]
    },
    {
      "cell_type": "code",
      "execution_count": 1,
      "metadata": {
        "colab": {
          "base_uri": "https://localhost:8080/"
        },
        "id": "Eus_4tUgfEk9",
        "outputId": "6aaab11d-83e4-49c2-b3f9-00bf7c0e65a7"
      },
      "outputs": [
        {
          "output_type": "stream",
          "name": "stdout",
          "text": [
            "Mounted at /content/drive\n"
          ]
        }
      ],
      "source": [
        "from google.colab import drive\n",
        "drive.mount('/content/drive')"
      ]
    },
    {
      "cell_type": "markdown",
      "metadata": {
        "id": "E_x4c0_DTkaa"
      },
      "source": [
        "#Library and Atribut"
      ]
    },
    {
      "cell_type": "code",
      "execution_count": 2,
      "metadata": {
        "colab": {
          "base_uri": "https://localhost:8080/"
        },
        "id": "nR2MJBYq-oiB",
        "outputId": "82c933a9-7431-4d82-f620-bcacb204d85e"
      },
      "outputs": [
        {
          "output_type": "stream",
          "name": "stdout",
          "text": [
            "Looking in indexes: https://pypi.org/simple, https://us-python.pkg.dev/colab-wheels/public/simple/\n",
            "Requirement already satisfied: imbalanced-learn in /usr/local/lib/python3.7/dist-packages (0.8.1)\n",
            "Requirement already satisfied: scikit-learn>=0.24 in /usr/local/lib/python3.7/dist-packages (from imbalanced-learn) (1.0.2)\n",
            "Requirement already satisfied: joblib>=0.11 in /usr/local/lib/python3.7/dist-packages (from imbalanced-learn) (1.1.0)\n",
            "Requirement already satisfied: scipy>=0.19.1 in /usr/local/lib/python3.7/dist-packages (from imbalanced-learn) (1.7.3)\n",
            "Requirement already satisfied: numpy>=1.13.3 in /usr/local/lib/python3.7/dist-packages (from imbalanced-learn) (1.21.6)\n",
            "Requirement already satisfied: threadpoolctl>=2.0.0 in /usr/local/lib/python3.7/dist-packages (from scikit-learn>=0.24->imbalanced-learn) (3.1.0)\n"
          ]
        }
      ],
      "source": [
        "import pandas as pd\n",
        "import numpy as np\n",
        "import tensorflow as tf\n",
        "import matplotlib.pyplot as plt\n",
        "import seaborn as sns\n",
        "import os\n",
        "from collections import Counter\n",
        "from pathlib import Path\n",
        "from PIL import Image\n",
        "from sklearn import preprocessing\n",
        "from sklearn.metrics import precision_recall_fscore_support, balanced_accuracy_score, confusion_matrix, accuracy_score\n",
        "from keras.callbacks import ReduceLROnPlateau, EarlyStopping, ModelCheckpoint\n",
        "from keras.preprocessing.image import ImageDataGenerator\n",
        "from keras.models import Sequential\n",
        "from keras.layers import Conv2D, MaxPooling2D, UpSampling2D\n",
        "from tensorflow import keras\n",
        "from tensorflow.keras import layers\n",
        "from tensorflow.keras.optimizers import Adam, SGD\n",
        "from tensorflow.keras.preprocessing import image\n",
        "from tensorflow.keras.applications.resnet50 import ResNet50, preprocess_input, decode_predictions\n",
        "from tensorflow.keras.layers import GlobalAveragePooling2D, Dense, Input, Dropout, Flatten\n",
        "from tensorflow.keras.models import Model, load_model\n",
        "from keras.utils.np_utils import to_categorical\n",
        "\n",
        "!pip install imbalanced-learn\n",
        "import imblearn\n",
        "from imblearn.over_sampling import SMOTE"
      ]
    },
    {
      "cell_type": "code",
      "execution_count": 3,
      "metadata": {
        "id": "9-c7Xghg4SB4"
      },
      "outputs": [],
      "source": [
        "# input image size\n",
        "IMAGE_W = 224\n",
        "IMAGE_H = 224\n",
        "IMG_SIZE = (IMAGE_W,IMAGE_H)\n",
        "num_classes = 7\n",
        "EPOCHS = 100\n",
        "BATCH_SIZE = 64\n",
        "opt_adam = Adam(learning_rate=0.001, beta_1=0.9, beta_2=0.999, epsilon=None, decay=0.0, amsgrad=False)\n",
        "opt_SGD = SGD(learning_rate=0.001)\n",
        "\n",
        "#Data augmentation\n",
        "data_augmentation = tf.keras.Sequential([\n",
        "  layers.experimental.preprocessing.RandomFlip(\"horizontal_and_vertical\"),\n",
        "  layers.experimental.preprocessing.RandomRotation(0.2), \n",
        "  layers.experimental.preprocessing.RandomZoom(height_factor=(0.2, 0.3), width_factor=(0.2, 0.3)),\n",
        "  layers.experimental.preprocessing.RandomTranslation(0.3, 0.3, fill_mode='reflect', interpolation='bilinear',)\n",
        "])\n",
        "\n",
        "#Callbacks\n",
        "best_model_fpath = '/content/drive/MyDrive/PHD/Model/best_model_no.h5'\n",
        "last_model_fpath = '/content/drive/MyDrive/PHD/Model/last_model_no.h5'\n",
        "mc = ModelCheckpoint(best_model_fpath, monitor='val_balanced_acc', mode='max', verbose=1, save_best_only=True)\n",
        "learning_rate_reduction = ReduceLROnPlateau(monitor='val_balanced_acc', patience=10, verbose=1, factor=0.5, min_lr=0.00001)\n",
        "early_stopping_monitor = EarlyStopping(patience=30,monitor='val_balanced_acc')\n"
      ]
    },
    {
      "cell_type": "markdown",
      "metadata": {
        "id": "XDsZpuTROVJ5"
      },
      "source": [
        "#Function Definition"
      ]
    },
    {
      "cell_type": "code",
      "execution_count": 4,
      "metadata": {
        "id": "JffFid9sOXeo"
      },
      "outputs": [],
      "source": [
        "# load train and test dataset\n",
        "def preprocess_image_input(input_images):\n",
        "  input_images = input_images.astype('float32')\n",
        "  output_ims = tf.keras.applications.resnet50.preprocess_input(input_images)\n",
        "  return output_ims\n",
        "\n",
        "def load_cifar10_dataset():\n",
        "  from keras.datasets import cifar10\n",
        "\t# load dataset\n",
        "  (X_train, y_train), (X_val, y_val) = cifar10.load_data()\n",
        "\t# one hot encode target values\n",
        "  y_train = to_categorical(y_train)\n",
        "  y_val = to_categorical(y_val)\n",
        "  X_train = preprocess_image_input(X_train)\n",
        "  X_val = preprocess_image_input(X_val)\n",
        "\n",
        "  return X_train, y_train, X_val, y_val\n",
        "\n",
        "def balanced_acc(y_true, y_pred):\n",
        "    from keras import backend as K\n",
        "\n",
        "    tensor1 = tf.math.argmax(y_true, axis=1)\n",
        "    tensor2 = tf.math.argmax(y_pred, axis=1)\n",
        "\n",
        "    cm = tf.math.confusion_matrix(tensor1, tensor2)\n",
        "    \n",
        "    diag = tf.linalg.tensor_diag_part (cm)\n",
        "    tpfn = tf.cast(K.sum(cm, axis = 1), tf.float32) + K.epsilon()\n",
        "    recall = tf.divide(tf.cast(diag, tf.float32),tpfn)\n",
        "    balanced_acc = K.mean(recall)\n",
        "    return balanced_acc\n",
        "\n",
        "def define_model():\n",
        "\tmodel = Sequential()\n",
        "\tmodel.add(Conv2D(32, (3, 3), activation='relu', kernel_initializer='he_uniform', padding='same', input_shape=(32, 32, 3)))\n",
        "\tmodel.add(Conv2D(32, (3, 3), activation='relu', kernel_initializer='he_uniform', padding='same'))\n",
        "\tmodel.add(MaxPooling2D((2, 2)))\n",
        "\tmodel.add(Flatten())\n",
        "\tmodel.add(Dense(128, activation='relu', kernel_initializer='he_uniform'))\n",
        "\tmodel.add(Dense(10, activation='softmax'))\n",
        "\t# compile model\n",
        "\topt = SGD(learning_rate=0.001, momentum=0.9)\n",
        "\tmodel.compile(optimizer=opt, loss='categorical_crossentropy', metrics=['accuracy'])\n",
        "\treturn model\n",
        "\n",
        "def define_model_resnet():\n",
        "  input_tensor = Input(shape=(IMAGE_H, IMAGE_W, 3))\n",
        "  #x = UpSampling2D(size=(7,7))(input_tensor)\n",
        "  #x = data_augmentation(input_tensor)\n",
        "  #x = layers.Rescaling(1.0 / 255)(input_tensor)  # Rescale inputs\n",
        "  x = ResNet50(input_shape=(224,224,3), weights='imagenet', include_top=False)(input_tensor, training=False)\n",
        "  x = GlobalAveragePooling2D()(x)\n",
        "  x = Flatten()(x)\n",
        "  x = Dense(1024, activation='relu')(x)\n",
        "  x = Dense(512, activation='relu')(x)\n",
        "  predictions = Dense(num_classes, activation='softmax')(x)\n",
        "  model = Model(inputs=input_tensor, outputs=predictions)\n",
        "  model.compile(optimizer = opt_SGD , loss = \"categorical_crossentropy\", metrics=['accuracy', balanced_acc])\n",
        "  return model\n",
        "\n",
        "# plot diagnostic learning curves\n",
        "def summarize_diagnostics(history):\n",
        "\t# plot loss\n",
        "\tplt.subplot(211)\n",
        "\tplt.title('Cross Entropy Loss')\n",
        "\tplt.plot(history.history['loss'], color='blue', label='train')\n",
        "\tplt.plot(history.history['val_loss'], color='orange', label='test')\n",
        "\t# plot accuracy\n",
        "\tplt.subplot(212)\n",
        "\tplt.title('Classification Accuracy')\n",
        "\tplt.plot(history.history['accuracy'], color='blue', label='train')\n",
        "\tplt.plot(history.history['val_accuracy'], color='orange', label='test')\n",
        "\tplt.close()\n",
        " \n",
        "# scale pixels\n",
        "def norm_pixels(train, test):\n",
        "\t# convert from integers to floats\n",
        "\ttrain_norm = train.astype('float32')\n",
        "\ttest_norm = test.astype('float32')\n",
        "\t# normalize to range 0-1\n",
        "\ttrain_norm = train_norm / 255.0\n",
        "\ttest_norm = test_norm / 255.0\n",
        "\t# return normalized images\n",
        "\treturn train_norm, test_norm\n",
        "\n",
        "def load_isic2018_dataset(train_under_frac = 0):\n",
        "  df_train = pd.read_csv('/content/drive/MyDrive/PHD/Datasets/isic2018/ISIC2018_Task3_Training_GroundTruth/ISIC2018_Task3_Training_GroundTruth.csv') \n",
        "  df_val = pd.read_csv('/content/drive/MyDrive/PHD/Datasets/isic2018/ISIC2018_Task3_Validation_GroundTruth/ISIC2018_Task3_Validation_GroundTruth.csv') \n",
        "\n",
        "  #decode one hot label\n",
        "  df_train[\"Labels\"] = (df_train.iloc[:, 1:]).idxmax(axis=1)\n",
        "  df_val[\"Labels\"] = (df_val.iloc[:, 1:]).idxmax(axis=1)\n",
        "\n",
        "  #random undersampling for training dataset\n",
        "  if train_under_frac !=0:\n",
        "    df_train = df_train.drop(df_train[df_train['Labels'] == 'NV'].sample(frac=train_under_frac).index)\n",
        "\n",
        "  #drop one-hot column\n",
        "  df_train = df_train.drop(columns=['MEL', 'NV', 'BCC', 'AKIEC', 'BKL', 'DF', 'VASC'])\n",
        "  df_val = df_val.drop(columns=['MEL', 'NV', 'BCC', 'AKIEC', 'BKL', 'DF', 'VASC'])\n",
        "\n",
        "  #make filepaths of the image\n",
        "  dir_train = '/content/drive/MyDrive/PHD/Datasets/isic2018/ISIC2018_Task3_Training_Input/'\n",
        "  dir_val = '/content/drive/MyDrive/PHD/Datasets/isic2018/ISIC2018_Task3_Validation_Input/'\n",
        "  df_train['FilePaths'] = dir_train + df_train['image'] + '.jpg'\n",
        "  df_val['FilePaths'] = dir_val + df_val['image'] + '.jpg'\n",
        "  \n",
        "  #load image pixels to dataframe\n",
        "  df_train['image_px'] = df_train['FilePaths'].map(lambda x: np.asarray(Image.open(x).resize(IMG_SIZE)))\n",
        "  df_val['image_px'] = df_val['FilePaths'].map(lambda x: np.asarray(Image.open(x).resize(IMG_SIZE)))\n",
        "\n",
        "  X_train = np.asarray(df_train['image_px'].tolist())\n",
        "  X_val = np.asarray(df_val['image_px'].tolist())\n",
        "  y_train = np.array(df_train['Labels'].values)\n",
        "  y_val = np.array(df_val['Labels'].values)\n",
        "\n",
        "  X_train = preprocess_image_input(X_train)\n",
        "  X_val = preprocess_image_input(X_val)\n",
        "\n",
        "  label_encoder = preprocessing.LabelEncoder()\n",
        "  y_train = label_encoder.fit_transform(y_train)\n",
        "  y_val = label_encoder.fit_transform(y_val)\n",
        "  \n",
        "  y_train = to_categorical(y_train, num_classes = num_classes)\n",
        "  y_val = to_categorical(y_val, num_classes = num_classes)\n",
        "\n",
        "  return X_train, y_train, X_val, y_val, df_train, df_val\n",
        "\n",
        "def reset_X(df_train, df_val):\n",
        "  X_train = np.asarray(df_train['image_px'].tolist())\n",
        "  X_val = np.asarray(df_val['image_px'].tolist())\n",
        "  X_train = preprocess_image_input(X_train)\n",
        "  X_val = preprocess_image_input(X_val)\n",
        "  return X_train, X_val\n",
        "\n",
        "def SMOTE_Data(X, y, one_hot = False, k = 5):\n",
        "  if one_hot:\n",
        "    y = np.argmax(y, axis=1)\n",
        "  sm = SMOTE(random_state=42, k_neighbors=k)\n",
        "  X_resampled, y_resampled = sm.fit_resample(X.reshape((-1, IMAGE_W * IMAGE_H * 3)), y)\n",
        "  X_resampled = X_resampled.reshape(-1, IMAGE_W, IMAGE_H, 3)\n",
        "  if one_hot:\n",
        "    y_resampled = to_categorical(y_resampled, num_classes = num_classes)\n",
        "  else:\n",
        "    y_resampled = y_resampled.reshape(-1,1)\n",
        "  return X_resampled, y_resampled"
      ]
    },
    {
      "cell_type": "markdown",
      "metadata": {
        "id": "RcRGeofw-8tK"
      },
      "source": [
        "#Load ISIC 2018 Challange Data"
      ]
    },
    {
      "cell_type": "code",
      "execution_count": null,
      "metadata": {
        "id": "l3P7IjyLuZGY"
      },
      "outputs": [],
      "source": [
        "X_train, y_train, X_val, y_val = load_isic2018_dataset(train_under_frac = 0.7)"
      ]
    },
    {
      "cell_type": "code",
      "execution_count": null,
      "metadata": {
        "colab": {
          "base_uri": "https://localhost:8080/",
          "height": 512
        },
        "id": "2IncA-_o_n5w",
        "outputId": "6db08704-addd-42d9-9371-4d805a2db101"
      },
      "outputs": [
        {
          "data": {
            "text/plain": [
              "[Text(0, 0, 'DF'),\n",
              " Text(0, 0, 'VASC'),\n",
              " Text(0, 0, 'AKIEC'),\n",
              " Text(0, 0, 'BCC'),\n",
              " Text(0, 0, 'BKL'),\n",
              " Text(0, 0, 'MEL'),\n",
              " Text(0, 0, 'NV')]"
            ]
          },
          "execution_count": 5,
          "metadata": {},
          "output_type": "execute_result"
        },
        {
          "data": {
            "image/png": "[encoded data removed]",
            "text/plain": [
              "<Figure size 1080x432 with 1 Axes>"
            ]
          },
          "metadata": {},
          "output_type": "display_data"
        }
      ],
      "source": [
        "# ordered count of rows per unique label\n",
        "labels_count = y_train.value_counts(ascending=True)\n",
        "\n",
        "f = plt.figure(figsize=(15, 6))\n",
        "s = sns.barplot(x=labels_count.index,y=labels_count.values)\n",
        "s.set_xticklabels(s.get_xticklabels(), rotation = 30)"
      ]
    },
    {
      "cell_type": "markdown",
      "metadata": {
        "id": "AnKMKSb4Bkym"
      },
      "source": [
        "Plot 3 images per label"
      ]
    },
    {
      "cell_type": "code",
      "execution_count": null,
      "metadata": {
        "id": "jdnVuqbFBW3K"
      },
      "outputs": [],
      "source": [
        "def plot_images_per_label(df, label, cols: int, size: tuple):\n",
        "    fig, axs = plt.subplots(nrows=1, ncols=cols, figsize=size)\n",
        "\n",
        "    cntMax = cols\n",
        "    cntCur = 0\n",
        "    for index, row in df.iterrows():\n",
        "        if(y_train == label and cntCur < cntMax):\n",
        "            axs[cntCur].imshow(plt.imread(df.FilePaths[index]))\n",
        "            axs[cntCur].set_title(df.Labels[index])\n",
        "\n",
        "            cntCur += 1\n",
        "        else:\n",
        "            if(cntCur >= cntMax):\n",
        "                break\n",
        "    \n",
        "    plt.tight_layout()\n",
        "    plt.show()\n",
        "\n",
        "\n",
        "# unique labels\n",
        "#labels = sorted(df_train['Labels'].unique())\n",
        "#for label in range(7):\n",
        "#    plot_images_per_label(y_train, 3, (12,9))"
      ]
    },
    {
      "cell_type": "markdown",
      "metadata": {
        "id": "qRKKrNacAZtl"
      },
      "source": [
        "Drop duplicate images"
      ]
    },
    {
      "cell_type": "code",
      "execution_count": null,
      "metadata": {
        "id": "ERwfyPDHP-zC"
      },
      "outputs": [],
      "source": [
        "#df_group = pd.read_csv('/content/drive/MyDrive/PHD/Datasets/isic2018/ISIC2018_Task3_Training_LesionGroupings.csv') \n",
        "#df_train = df_train.set_index('image').join(df_group.set_index('image'))\n",
        "#df_train = df_train.drop_duplicates(subset=['lesion_id'])"
      ]
    },
    {
      "cell_type": "markdown",
      "metadata": {
        "id": "uZv-B-ygCD57"
      },
      "source": [
        "#SMOTE Oversampling"
      ]
    },
    {
      "cell_type": "code",
      "execution_count": null,
      "metadata": {
        "colab": {
          "base_uri": "https://localhost:8080/"
        },
        "id": "brshqGvOCDJL",
        "outputId": "163c70a0-6314-4888-fba5-8f1c703cd79d"
      },
      "outputs": [
        {
          "name": "stdout",
          "output_type": "stream",
          "text": [
            "(14077, 150528)\n",
            "(14077,)\n"
          ]
        }
      ],
      "source": [
        "X_train, y_train = SMOTE_Data(X_train, y_train) #beware of the actual parameter\n",
        "print(X_train.shape)\n",
        "print(y_train.shape)"
      ]
    },
    {
      "cell_type": "markdown",
      "metadata": {
        "id": "cNBXx28B9yGu"
      },
      "source": [
        "#DeepSMOTE Oversampling"
      ]
    },
    {
      "cell_type": "code",
      "execution_count": null,
      "metadata": {
        "id": "YmX_Uqbmj-tN"
      },
      "outputs": [],
      "source": [
        "from numpy import moveaxis\n",
        "from sklearn.neighbors import NearestNeighbors\n",
        "import torch\n",
        "import torch.nn as nn\n",
        "\n",
        "max_el = np.inf\n",
        "\n",
        "args = {}\n",
        "args['dim_h'] = 64         # factor controlling size of hidden layers\n",
        "args['n_channel'] = 3#1    # number of channels in the input data \n",
        "args['n_z'] = 600 #300     # number of dimensions in latent space. \n",
        "args['sigma'] = 1.0        # variance in n_z\n",
        "args['lambda'] = 0.01      # hyper param for weight of discriminator loss\n",
        "args['lr'] = 0.0002        # learning rate for Adam optimizer .000\n",
        "args['epochs'] = 300       # how many epochs to run for\n",
        "args['batch_size'] = 100   # batch size for SGD\n",
        "args['save'] = True        # save weights at each epoch of training if True\n",
        "args['train'] = True       # train networks if True, else load networks from\n",
        "args['patience'] = 20"
      ]
    },
    {
      "cell_type": "code",
      "execution_count": null,
      "metadata": {
        "id": "NydOdPMajEfT"
      },
      "outputs": [],
      "source": [
        "class Encoder(nn.Module):\n",
        "    def __init__(self, args):\n",
        "        super(Encoder, self).__init__()\n",
        "\n",
        "        self.n_channel = args['n_channel']\n",
        "        self.dim_h = args['dim_h']\n",
        "        self.n_z = args['n_z']\n",
        "        \n",
        "        # convolutional filters, work excellent with image data\n",
        "        # [(W−K+2P)/S]+1\n",
        "        self.conv = nn.Sequential(\n",
        "            nn.AvgPool2d(7, stride=7),\n",
        "            nn.Conv2d(self.n_channel, self.dim_h, 4, 2, 1, bias=False),# 16\n",
        "            nn.LeakyReLU(0.2, inplace=True),\n",
        "            nn.Conv2d(self.dim_h, self.dim_h * 2, 4, 2, 1, bias=False), # 8\n",
        "            nn.BatchNorm2d(self.dim_h * 2),\n",
        "            nn.LeakyReLU(0.2, inplace=True),\n",
        "            nn.Conv2d(self.dim_h * 2, self.dim_h * 4, 4, 2, 1, bias=False),# 4\n",
        "            nn.BatchNorm2d(self.dim_h * 4),\n",
        "            nn.LeakyReLU(0.2, inplace=True),\n",
        "            nn.Conv2d(self.dim_h * 4, self.dim_h * 8, 4, 2, 0, bias=False),#14\n",
        "            nn.BatchNorm2d(self.dim_h * 8),\n",
        "            nn.LeakyReLU(0.2, inplace=True))\n",
        "        self.fc = nn.Linear(self.dim_h * (2 ** 3), self.n_z)\n",
        "\n",
        "    def forward(self, x):\n",
        "        x = self.conv(x)\n",
        "        \n",
        "        x = x.squeeze()\n",
        "        x = self.fc(x)\n",
        "        return x\n",
        "\n",
        "\n",
        "class Decoder(nn.Module):\n",
        "    def __init__(self, args):\n",
        "        super(Decoder, self).__init__()\n",
        "\n",
        "        self.n_channel = args['n_channel']\n",
        "        self.dim_h = args['dim_h']\n",
        "        self.n_z = args['n_z']\n",
        "\n",
        "        # first layer is fully connected\n",
        "        self.fc = nn.Sequential(\n",
        "            nn.Linear(self.n_z, self.dim_h * 2**3 * 7 * 7),\n",
        "            nn.ReLU())\n",
        "\n",
        "        # deconvolutional filters, essentially inverse of convolutional filters\n",
        "        # H_out ​= (H_in​−1)*stride[0] − 2×padding[0] + dilation[0]×(kernel_size[0]−1) + output_padding[0] + 1\n",
        "        self.deconv = nn.Sequential(\n",
        "            nn.ConvTranspose2d(self.dim_h * 8, self.dim_h * 4, 4), #10\n",
        "            nn.BatchNorm2d(self.dim_h * 4),\n",
        "            nn.ReLU(True),\n",
        "            nn.ConvTranspose2d(self.dim_h * 4, self.dim_h * 2, 4), #13\n",
        "            nn.BatchNorm2d(self.dim_h * 2),\n",
        "            nn.ReLU(True),\n",
        "            nn.ConvTranspose2d(self.dim_h * 2, self.dim_h, 4),# 16\n",
        "            nn.BatchNorm2d(self.dim_h),\n",
        "            nn.ReLU(True),\n",
        "            nn.ConvTranspose2d(self.dim_h, 3, 4, 2, 1),# 32\n",
        "            nn.UpsamplingBilinear2d(scale_factor=7),\n",
        "            nn.Tanh())\n",
        "\n",
        "    def forward(self, x):\n",
        "        x = self.fc(x)\n",
        "        x = x.view(-1, self.dim_h * 2**3, 7, 7)\n",
        "        x = self.deconv(x)\n",
        "        return x\n",
        "\n",
        "##############################################################################\n",
        "\"\"\"set models, loss functions\"\"\"\n",
        "# control which parameters are frozen / free for optimization\n",
        "def free_params(module: nn.Module):\n",
        "    for p in module.parameters():\n",
        "        p.requires_grad = True\n",
        "\n",
        "def frozen_params(module: nn.Module):\n",
        "    for p in module.parameters():\n",
        "        p.requires_grad = False\n",
        "\n",
        "def biased_get_class(X, y, c):\n",
        "    \n",
        "    xbeg = X[y == c]\n",
        "    ybeg = y[y == c]\n",
        "    \n",
        "    return xbeg, ybeg\n",
        "    #return xclass, yclass\n",
        "\n",
        "def G_SM(X, y,n_to_sample,cl):\n",
        "    n_neigh = 5\n",
        "    nn = NearestNeighbors(n_neighbors=n_neigh, n_jobs=1)\n",
        "    nn.fit(X)\n",
        "    dist, ind = nn.kneighbors(X)\n",
        "\n",
        "    # generating samples\n",
        "    base_indices = np.random.choice(list(range(len(X))),n_to_sample)\n",
        "    neighbor_indices = np.random.choice(list(range(1, n_neigh)),n_to_sample)\n",
        "\n",
        "    X_base = X[base_indices]\n",
        "    X_neighbor = X[ind[base_indices, neighbor_indices]]\n",
        "\n",
        "    samples = X_base + np.multiply(np.random.rand(n_to_sample,1),\n",
        "            X_neighbor - X_base)\n",
        "\n",
        "    #use 10 as label because 0 to 9 real classes and 1 fake/smoted = 10\n",
        "    return samples, [cl]*n_to_sample\n",
        "\n",
        "def DeepSMOTE_train(X_train, y_train, one_hot = False):\n",
        "  from torch.utils.data import TensorDataset\n",
        "  import os\n",
        "\n",
        "  max_el = np.max(X_train)\n",
        "  X_train = X_train / max_el\n",
        "  X_train = moveaxis(X_train, 3, 1)\n",
        "  if one_hot:\n",
        "    y_train = np.argmax(y_train, axis=1)\n",
        "  #X_train = X_train.astype('float32') / 255.\n",
        "  \n",
        "  batch_size = args['batch_size']\n",
        "  patience = args['patience']\n",
        "  encoder = Encoder(args)\n",
        "  decoder = Decoder(args)\n",
        "\n",
        "  device = 'cuda' if torch.cuda.is_available() else 'cpu'\n",
        "  print(device)\n",
        "  decoder = decoder.to(device)\n",
        "  encoder = encoder.to(device)\n",
        "\n",
        "  train_on_gpu = torch.cuda.is_available()\n",
        "\n",
        "  #decoder loss function\n",
        "  criterion = nn.MSELoss()\n",
        "  criterion = criterion.to(device)\n",
        "\n",
        "  num_workers = 0\n",
        "\n",
        "  #torch.Tensor returns float so if want long then use torch.tensor\n",
        "  tensor_x = torch.from_numpy(X_train.copy())#torch.Tensor(X_train)\n",
        "  tensor_y = torch.tensor(y_train,dtype=torch.long)\n",
        "  mnist_bal = TensorDataset(tensor_x,tensor_y) \n",
        "  train_loader = torch.utils.data.DataLoader(mnist_bal, \n",
        "      batch_size=batch_size,shuffle=True,num_workers=num_workers)\n",
        "\n",
        "  best_loss = np.inf\n",
        "\n",
        "  enc_optim = torch.optim.Adam(encoder.parameters(), lr = args['lr'])\n",
        "  dec_optim = torch.optim.Adam(decoder.parameters(), lr = args['lr'])\n",
        "\n",
        "  for epoch in range(args['epochs']):\n",
        "      train_loss = 0.0\n",
        "      tmse_loss = 0.0\n",
        "      tdiscr_loss = 0.0\n",
        "      # train for one epoch -- set nets to train mode\n",
        "      encoder.train()\n",
        "      decoder.train()\n",
        "  \n",
        "      for images,labs in train_loader:\n",
        "      \n",
        "          # zero gradients for each batch\n",
        "          encoder.zero_grad()\n",
        "          decoder.zero_grad()\n",
        "          images, labs = images.to(device), labs.to(device)\n",
        "          labsn = labs.detach().cpu().numpy()\n",
        "#            print('images shape', images.shape)\n",
        "          # run images\n",
        "          z_hat = encoder(images)\n",
        "#            print('images shape after encoding', z_hat.shape)\n",
        "      \n",
        "          x_hat = decoder(z_hat) #decoder outputs tanh\n",
        "#            print('images shape after decoding', x_hat.shape)\n",
        "          mse = criterion(x_hat,images)\n",
        "                  \n",
        "          resx = []\n",
        "          resy = []\n",
        "      \n",
        "          tc = np.random.choice(num_classes,1)\n",
        "          #tc = 9\n",
        "          xbeg = X_train[y_train == tc]\n",
        "          ybeg = y_train[y_train == tc] \n",
        "          xlen = len(xbeg)\n",
        "          nsamp = min(xlen, 100)\n",
        "          ind = np.random.choice(list(range(len(xbeg))),nsamp,replace=False)\n",
        "          xclass = xbeg[ind]\n",
        "          yclass = ybeg[ind]\n",
        "      \n",
        "          xclen = len(xclass)\n",
        "          xcminus = np.arange(1,xclen)\n",
        "          \n",
        "          xcplus = np.append(xcminus,0)\n",
        "          xcnew = (xclass[[xcplus],:])\n",
        "          xcnew = xcnew.reshape(xcnew.shape[1],xcnew.shape[2],xcnew.shape[3],xcnew.shape[4])\n",
        "      \n",
        "          xcnew = torch.Tensor(xcnew)\n",
        "          xcnew = xcnew.to(device)\n",
        "      \n",
        "          #encode xclass to feature space\n",
        "          xclass = torch.Tensor(xclass)\n",
        "          xclass = xclass.to(device)\n",
        "          xclass = encoder(xclass)\n",
        "      \n",
        "          xclass = xclass.detach().cpu().numpy()\n",
        "      \n",
        "          xc_enc = (xclass[[xcplus],:])\n",
        "          xc_enc = np.squeeze(xc_enc)\n",
        "      \n",
        "          xc_enc = torch.Tensor(xc_enc)\n",
        "          xc_enc = xc_enc.to(device)\n",
        "          \n",
        "          ximg = decoder(xc_enc)\n",
        "          \n",
        "          mse2 = criterion(ximg,xcnew)\n",
        "      \n",
        "          comb_loss = mse2 + mse\n",
        "          comb_loss.backward()\n",
        "      \n",
        "          enc_optim.step()\n",
        "          dec_optim.step()\n",
        "      \n",
        "          train_loss += comb_loss.item()*images.size(0)\n",
        "          tmse_loss += mse.item()*images.size(0)\n",
        "          tdiscr_loss += mse2.item()*images.size(0)\n",
        "\n",
        "      train_loss = train_loss/len(train_loader)\n",
        "      tmse_loss = tmse_loss/len(train_loader)\n",
        "      tdiscr_loss = tdiscr_loss/len(train_loader)\n",
        "      print('Epoch: {} \\tTrain Loss: {:.6f} \\tmse loss: {:.6f} \\tmse2 loss: {:.6f}'.format(epoch,\n",
        "              train_loss,tmse_loss,tdiscr_loss))\n",
        "      \n",
        "  \n",
        "  \n",
        "      #store the best encoder and decoder models\n",
        "      #here, /crs5 is a reference to 5 way cross validation, but is not\n",
        "      #necessary for illustration purposes\n",
        "      if train_loss < best_loss:\n",
        "          print('Saving..')\n",
        "          patience = args['patience']\n",
        "          path_enc = '/content/drive/MyDrive/PHD/Model/DeepSMOTE/32/bst_enc.pth'\n",
        "          path_dec = '/content/drive/MyDrive/PHD/Model/DeepSMOTE/32/bst_dec.pth'\n",
        "        \n",
        "          torch.save(encoder.state_dict(), path_enc)\n",
        "          torch.save(decoder.state_dict(), path_dec)\n",
        "  \n",
        "          best_loss = train_loss\n",
        "      else:\n",
        "          patience = patience - 1\n",
        "\n",
        "      if patience == 0:\n",
        "          print('Out of patience. \\n')\n",
        "          break\n",
        "\n",
        "def DeepSMOTE_Data(X_train, y_train, one_hot = False):\n",
        "  batch_size = args['batch_size']\n",
        "  max_el = np.max(X_train)\n",
        "  X_train = X_train / max_el\n",
        "  X_train = moveaxis(X_train, 3, 1)\n",
        "  if one_hot:\n",
        "    y_train = np.argmax(y_train, axis=1)\n",
        "  #Generate artificial images\n",
        "  import torch\n",
        "  np.printoptions(precision=5,suppress=True)\n",
        "\n",
        "  #path on the computer where the models are stored\n",
        "  modpth = '/content/drive/MyDrive/PHD/Model/DeepSMOTE/32/'\n",
        "\n",
        "  path_enc = modpth + '/bst_enc.pth'\n",
        "  path_dec = modpth + '/bst_dec.pth'\n",
        "  \n",
        "  train_on_gpu = torch.cuda.is_available()\n",
        "  device = 'cuda' if torch.cuda.is_available() else 'cpu'\n",
        "\n",
        "  encoder = Encoder(args)\n",
        "  encoder.load_state_dict(torch.load(path_enc), strict=False)\n",
        "  encoder = encoder.to(device)\n",
        "\n",
        "  decoder = Decoder(args)\n",
        "  decoder.load_state_dict(torch.load(path_dec), strict=False)\n",
        "  decoder = decoder.to(device)\n",
        "\n",
        "  encoder.eval()\n",
        "  decoder.eval()\n",
        "\n",
        "  resx = []\n",
        "  resy = []\n",
        "  \n",
        "  counter = Counter(y_train)\n",
        "  counter = sorted(counter.items())\n",
        "  counter = [value for _, value in counter]\n",
        "\n",
        "  for i in range(num_classes):\n",
        "      torch.cuda.empty_cache()\n",
        "\n",
        "      xclass, yclass = biased_get_class(X_train, y_train, i)\n",
        "      #encode xclass to feature space\n",
        "      xclass = torch.Tensor(xclass)\n",
        "      xclass = xclass.to(device)\n",
        "      xclass = encoder(xclass)\n",
        "          \n",
        "      xclass = xclass.detach().cpu().numpy()\n",
        "      n = np.max(counter) - counter[i]\n",
        "      if n == 0:\n",
        "        continue\n",
        "#        resx2 = []\n",
        "#        resy2 = []\n",
        "#        for j in range(batch_size, n+batch_size+1, batch_size):\n",
        "#          if j <= n:\n",
        "#            batch_size_max = batch_size\n",
        "#          elif n % batch_size != 0:\n",
        "#            batch_size_max = n%batch_size\n",
        "#          else:\n",
        "#            break\n",
        "#          xsamp, ysamp = G_SM(xclass,yclass,batch_size_max,i)\n",
        "      xsamp, ysamp = G_SM(xclass,yclass,n,i)\n",
        "      ysamp = np.array(ysamp)\n",
        "  \n",
        "      \"\"\"to generate samples for resnet\"\"\"   \n",
        "      xsamp = torch.Tensor(xsamp)\n",
        "      xsamp = xsamp.to(device)\n",
        "      ximg = decoder(xsamp)\n",
        "\n",
        "      ximn = ximg.detach().cpu().numpy()\n",
        "#        resx2.append(ximn)\n",
        "#        resy2.append(ysamp)\n",
        "#        \n",
        "#        resx2 = np.vstack(resx2)\n",
        "#        resy2 = np.hstack(resy2)\n",
        "      resx.append(ximn)\n",
        "      resy.append(ysamp)\n",
        "  \n",
        "  resx1 = np.vstack(resx)\n",
        "  resy1 = np.hstack(resy)\n",
        "  resx1 = resx1.reshape(resx1.shape[0],-1)\n",
        "  X_train = X_train.reshape(X_train.shape[0],-1)\n",
        "  X_train = np.vstack((resx1,X_train))\n",
        "  y_train = np.hstack((resy1,y_train))\n",
        "  y_train = to_categorical(y_train)\n",
        "  X_train = X_train.reshape(-1, 3, IMAGE_W, IMAGE_H)\n",
        "  X_train = moveaxis(X_train, 1, 3)\n",
        "  X_train = X_train * max_el\n",
        "  return X_train, y_train"
      ]
    },
    {
      "cell_type": "markdown",
      "metadata": {
        "id": "0jrJ33lUDkCM"
      },
      "source": [
        "#Split dataset to train and val"
      ]
    },
    {
      "cell_type": "code",
      "execution_count": 8,
      "metadata": {
        "colab": {
          "base_uri": "https://localhost:8080/"
        },
        "id": "e6qneWL_Bs2U",
        "outputId": "83d0e07e-5ae2-47d6-bc76-b3c203ec2eea"
      },
      "outputs": [
        {
          "output_type": "stream",
          "name": "stdout",
          "text": [
            "Train Data:  (4256, 224, 224, 3)\n",
            "Remaining Data:  (1065, 224, 224, 3)\n"
          ]
        }
      ],
      "source": [
        "# stratified train and rem (20%) datasets\n",
        "from sklearn.model_selection import train_test_split\n",
        "X_train, X_val, y_train, y_val = train_test_split(X_train, y_train, test_size=0.2, stratify=y_train, random_state=1)\n",
        "\n",
        "print('Train Data: ', X_train.shape)\n",
        "print('Remaining Data: ', X_val.shape)"
      ]
    },
    {
      "cell_type": "code",
      "execution_count": null,
      "metadata": {
        "colab": {
          "base_uri": "https://localhost:8080/"
        },
        "id": "Vai7M7WSXVY4",
        "outputId": "b9bc1199-a518-4a8b-9d6e-4d6038efbafe"
      },
      "outputs": [
        {
          "name": "stdout",
          "output_type": "stream",
          "text": [
            "Test Data:  (416, 32, 32, 3)\n",
            "Val Data:  (416, 32, 32, 3)\n"
          ]
        }
      ],
      "source": [
        "# stratified val and test (50%) \n",
        "from sklearn.model_selection import train_test_split\n",
        "X_test, X_val, y_test, y_val = train_test_split(X_rem, y_rem, test_size=0.5, stratify=y_rem, random_state=1)\n",
        "\n",
        "print('Test Data: ', X_test.shape)\n",
        "print('Val Data: ', X_val.shape)"
      ]
    },
    {
      "cell_type": "markdown",
      "metadata": {
        "id": "I15HgVuhjFlm"
      },
      "source": []
    },
    {
      "cell_type": "code",
      "execution_count": null,
      "metadata": {
        "colab": {
          "base_uri": "https://localhost:8080/"
        },
        "id": "oVVOQPNiHXHw",
        "outputId": "a1e60310-4f3b-4063-8465-4d7120d225c9"
      },
      "outputs": [
        {
          "name": "stdout",
          "output_type": "stream",
          "text": [
            "Train Data:  (2015, 32, 32, 3)\n",
            "Test Data:  (224, 32, 32, 3)\n"
          ]
        }
      ],
      "source": [
        "#optional\n",
        "# stratified train and test (10%) datasets\n",
        "from sklearn.model_selection import train_test_split\n",
        "X_train, X_test, y_train, y_test = train_test_split(X, y, test_size=0.1, stratify=y, random_state=1)\n",
        "\n",
        "print('Train Data: ', X_train.shape)\n",
        "print('Test Data: ', X_test.shape)"
      ]
    },
    {
      "cell_type": "code",
      "execution_count": null,
      "metadata": {
        "colab": {
          "base_uri": "https://localhost:8080/"
        },
        "id": "0_oaUYYgJNV7",
        "outputId": "ca2f393a-0599-4cfc-b330-45d723f2bb06"
      },
      "outputs": [
        {
          "name": "stdout",
          "output_type": "stream",
          "text": [
            "Train Data:  (3369, 32, 32, 3)\n",
            "Val Data:  (375, 32, 32, 3)\n"
          ]
        }
      ],
      "source": [
        "#optional\n",
        "# stratified train and val (10%) datasets\n",
        "from sklearn.model_selection import train_test_split\n",
        "X_train, X_val, y_train, y_val = train_test_split(X, y, test_size=0.1, stratify=y, random_state=1)\n",
        "\n",
        "print('Train Data: ', X_train.shape)\n",
        "print('Val Data: ', X_val.shape)"
      ]
    },
    {
      "cell_type": "markdown",
      "metadata": {
        "id": "ZklPzWxCCtTW"
      },
      "source": [
        "Create and compile the model"
      ]
    },
    {
      "cell_type": "code",
      "execution_count": null,
      "metadata": {
        "id": "7jFShRvTHnqi"
      },
      "outputs": [],
      "source": [
        "print(X_train)"
      ]
    },
    {
      "cell_type": "code",
      "execution_count": null,
      "metadata": {
        "id": "8Kef4r_zxjgk"
      },
      "outputs": [],
      "source": [
        "#Data Augmentation\n",
        "dataaugment = ImageDataGenerator(\n",
        "        rotation_range=90,  # randomly rotate images in the range (degrees, 0 to 180)\n",
        "        zoom_range = 0.1, # Randomly zoom image \n",
        "        width_shift_range=0.1,  # randomly shift images horizontally (fraction of total width)\n",
        "        height_shift_range=0.1,  # randomly shift images vertically (fraction of total height)\n",
        "        horizontal_flip=True,  # randomly flip images\n",
        "        vertical_flip=True,  # randomly flip images\n",
        "        shear_range = 10) \n",
        "\n",
        "dataaugment.fit(X_train)"
      ]
    },
    {
      "cell_type": "markdown",
      "metadata": {
        "id": "5v7sLC2svMuJ"
      },
      "source": [
        "# Main"
      ]
    },
    {
      "cell_type": "code",
      "execution_count": null,
      "metadata": {
        "id": "4Bw4C7Fwwxad"
      },
      "outputs": [],
      "source": [
        "X_train, y_train, X_val, y_val = load_cifar10_dataset()"
      ]
    },
    {
      "cell_type": "code",
      "execution_count": 5,
      "metadata": {
        "id": "9QM00erNGU32",
        "colab": {
          "base_uri": "https://localhost:8080/"
        },
        "outputId": "8bb3e2d2-e187-4339-8f33-b39fe07160e9"
      },
      "outputs": [
        {
          "output_type": "stream",
          "name": "stdout",
          "text": [
            "(5321, 224, 224, 3)\n",
            "(5321, 7)\n",
            "(193, 224, 224, 3)\n",
            "(193, 7)\n"
          ]
        }
      ],
      "source": [
        "#load data\n",
        "X_train, y_train, X_val, y_val, df_train, df_val = load_isic2018_dataset(train_under_frac = 0.7)\n",
        "print(X_train.shape)\n",
        "print(y_train.shape)\n",
        "print(X_val.shape)\n",
        "print(y_val.shape)"
      ]
    },
    {
      "cell_type": "code",
      "execution_count": null,
      "metadata": {
        "id": "xArGWuciBt_-"
      },
      "outputs": [],
      "source": [
        "X_train, y_train = SMOTE_Data(X_train, y_train, True, 3)\n",
        "print(X_train.shape)\n",
        "print(y_train.shape)\n",
        "print(X_val.shape)\n",
        "print(y_val.shape)\n",
        "print('Counter train data: ', Counter(np.argmax(y_train, axis=1)))\n",
        "print('Counter val data: ', Counter(np.argmax(y_val, axis=1)))"
      ]
    },
    {
      "cell_type": "code",
      "execution_count": null,
      "metadata": {
        "id": "jpueuzs7ZBw9"
      },
      "outputs": [],
      "source": [
        "X_train, X_val= reset_X(df_train, df_val)"
      ]
    },
    {
      "cell_type": "code",
      "execution_count": null,
      "metadata": {
        "id": "A8eRZiucdYnP"
      },
      "outputs": [],
      "source": [
        "#USe TF.data\n",
        "training_data = tf.data.Dataset.from_tensor_slices((X_train, y_train))\n",
        "validation_data = tf.data.Dataset.from_tensor_slices((X_val, y_val))\n",
        "\n",
        "autotune = tf.data.AUTOTUNE\n",
        "train_data_batches = training_data.shuffle(buffer_size=40000).batch(BATCH_SIZE).prefetch(buffer_size=autotune)\n",
        "valid_data_batches = validation_data.shuffle(buffer_size=10000).batch(BATCH_SIZE).prefetch(buffer_size=autotune)"
      ]
    },
    {
      "cell_type": "code",
      "execution_count": 28,
      "metadata": {
        "id": "nAMBgWqIsAAB",
        "outputId": "2b53b3d1-e209-4d65-ef94-5eded05d9a9d",
        "colab": {
          "base_uri": "https://localhost:8080/"
        }
      },
      "outputs": [
        {
          "output_type": "stream",
          "name": "stdout",
          "text": [
            "(4256, 224, 224, 3)\n",
            "(4256, 7)\n",
            "(1065, 224, 224, 3)\n",
            "(1065, 7)\n",
            "Counter train data:  Counter({5: 1608, 4: 890, 2: 879, 1: 411, 0: 262, 6: 114, 3: 92})\n",
            "Counter val data:  Counter({5: 403, 4: 223, 2: 220, 1: 103, 0: 65, 6: 28, 3: 23})\n"
          ]
        }
      ],
      "source": [
        "print(X_train.shape)\n",
        "print(y_train.shape)\n",
        "print(X_val.shape)\n",
        "print(y_val.shape)\n",
        "print('Counter train data: ', Counter(np.argmax(y_train, axis=1)))\n",
        "print('Counter val data: ', Counter(np.argmax(y_val, axis=1)))"
      ]
    },
    {
      "cell_type": "code",
      "execution_count": 10,
      "metadata": {
        "id": "vIygrW81Ln4z",
        "colab": {
          "base_uri": "https://localhost:8080/"
        },
        "outputId": "66e92965-e02b-4a7b-81fb-f961364df09e"
      },
      "outputs": [
        {
          "output_type": "stream",
          "name": "stdout",
          "text": [
            "Downloading data from https://storage.googleapis.com/tensorflow/keras-applications/resnet/resnet50_weights_tf_dim_ordering_tf_kernels_notop.h5\n",
            "94773248/94765736 [==============================] - 1s 0us/step\n",
            "94781440/94765736 [==============================] - 1s 0us/step\n",
            "Epoch 1/100\n",
            "66/66 [==============================] - ETA: 0s - loss: 1.3645 - accuracy: 0.4813 - balanced_acc: 0.2737\n",
            "Epoch 1: val_balanced_acc improved from -inf to 0.34037, saving model to /content/drive/MyDrive/PHD/Model/best_model_no.h5\n",
            "66/66 [==============================] - 46s 427ms/step - loss: 1.3645 - accuracy: 0.4813 - balanced_acc: 0.2737 - val_loss: 1.1194 - val_accuracy: 0.5596 - val_balanced_acc: 0.3404 - lr: 0.0010\n",
            "Epoch 2/100\n",
            "66/66 [==============================] - ETA: 0s - loss: 1.0429 - accuracy: 0.5940 - balanced_acc: 0.4073\n",
            "Epoch 2: val_balanced_acc improved from 0.34037 to 0.44413, saving model to /content/drive/MyDrive/PHD/Model/best_model_no.h5\n",
            "66/66 [==============================] - 26s 391ms/step - loss: 1.0429 - accuracy: 0.5940 - balanced_acc: 0.4073 - val_loss: 1.0048 - val_accuracy: 0.6047 - val_balanced_acc: 0.4441 - lr: 0.0010\n",
            "Epoch 3/100\n",
            "66/66 [==============================] - ETA: 0s - loss: 0.9126 - accuracy: 0.6565 - balanced_acc: 0.4944\n",
            "Epoch 3: val_balanced_acc improved from 0.44413 to 0.50682, saving model to /content/drive/MyDrive/PHD/Model/best_model_no.h5\n",
            "66/66 [==============================] - 25s 386ms/step - loss: 0.9126 - accuracy: 0.6565 - balanced_acc: 0.4944 - val_loss: 0.9803 - val_accuracy: 0.6197 - val_balanced_acc: 0.5068 - lr: 0.0010\n",
            "Epoch 4/100\n",
            "66/66 [==============================] - ETA: 0s - loss: 0.8382 - accuracy: 0.6830 - balanced_acc: 0.5437\n",
            "Epoch 4: val_balanced_acc did not improve from 0.50682\n",
            "66/66 [==============================] - 24s 365ms/step - loss: 0.8382 - accuracy: 0.6830 - balanced_acc: 0.5437 - val_loss: 1.1055 - val_accuracy: 0.5803 - val_balanced_acc: 0.3861 - lr: 0.0010\n",
            "Epoch 5/100\n",
            "66/66 [==============================] - ETA: 0s - loss: 0.7493 - accuracy: 0.7159 - balanced_acc: 0.5937\n",
            "Epoch 5: val_balanced_acc improved from 0.50682 to 0.53597, saving model to /content/drive/MyDrive/PHD/Model/best_model_no.h5\n",
            "66/66 [==============================] - 26s 389ms/step - loss: 0.7493 - accuracy: 0.7159 - balanced_acc: 0.5937 - val_loss: 0.8234 - val_accuracy: 0.6676 - val_balanced_acc: 0.5360 - lr: 0.0010\n",
            "Epoch 6/100\n",
            "66/66 [==============================] - ETA: 0s - loss: 0.7111 - accuracy: 0.7312 - balanced_acc: 0.6162\n",
            "Epoch 6: val_balanced_acc did not improve from 0.53597\n",
            "66/66 [==============================] - 24s 367ms/step - loss: 0.7111 - accuracy: 0.7312 - balanced_acc: 0.6162 - val_loss: 0.9346 - val_accuracy: 0.6516 - val_balanced_acc: 0.4601 - lr: 0.0010\n",
            "Epoch 7/100\n",
            "66/66 [==============================] - ETA: 0s - loss: 0.6471 - accuracy: 0.7552 - balanced_acc: 0.6358\n",
            "Epoch 7: val_balanced_acc improved from 0.53597 to 0.58351, saving model to /content/drive/MyDrive/PHD/Model/best_model_no.h5\n",
            "66/66 [==============================] - 25s 387ms/step - loss: 0.6471 - accuracy: 0.7552 - balanced_acc: 0.6358 - val_loss: 0.7914 - val_accuracy: 0.7070 - val_balanced_acc: 0.5835 - lr: 0.0010\n",
            "Epoch 8/100\n",
            "66/66 [==============================] - ETA: 0s - loss: 0.6135 - accuracy: 0.7634 - balanced_acc: 0.6548\n",
            "Epoch 8: val_balanced_acc improved from 0.58351 to 0.62791, saving model to /content/drive/MyDrive/PHD/Model/best_model_no.h5\n",
            "66/66 [==============================] - 25s 386ms/step - loss: 0.6135 - accuracy: 0.7634 - balanced_acc: 0.6548 - val_loss: 0.8248 - val_accuracy: 0.6930 - val_balanced_acc: 0.6279 - lr: 0.0010\n",
            "Epoch 9/100\n",
            "66/66 [==============================] - ETA: 0s - loss: 0.5687 - accuracy: 0.7934 - balanced_acc: 0.6974\n",
            "Epoch 9: val_balanced_acc did not improve from 0.62791\n",
            "66/66 [==============================] - 24s 366ms/step - loss: 0.5687 - accuracy: 0.7934 - balanced_acc: 0.6974 - val_loss: 0.9070 - val_accuracy: 0.6685 - val_balanced_acc: 0.5470 - lr: 0.0010\n",
            "Epoch 10/100\n",
            "66/66 [==============================] - ETA: 0s - loss: 0.5434 - accuracy: 0.7913 - balanced_acc: 0.6968\n",
            "Epoch 10: val_balanced_acc did not improve from 0.62791\n",
            "66/66 [==============================] - 24s 366ms/step - loss: 0.5434 - accuracy: 0.7913 - balanced_acc: 0.6968 - val_loss: 0.7492 - val_accuracy: 0.7202 - val_balanced_acc: 0.5973 - lr: 0.0010\n",
            "Epoch 11/100\n",
            "66/66 [==============================] - ETA: 0s - loss: 0.4843 - accuracy: 0.8232 - balanced_acc: 0.7395\n",
            "Epoch 11: val_balanced_acc did not improve from 0.62791\n",
            "66/66 [==============================] - 24s 367ms/step - loss: 0.4843 - accuracy: 0.8232 - balanced_acc: 0.7395 - val_loss: 0.7783 - val_accuracy: 0.7070 - val_balanced_acc: 0.6099 - lr: 0.0010\n",
            "Epoch 12/100\n",
            "66/66 [==============================] - ETA: 0s - loss: 0.4811 - accuracy: 0.8242 - balanced_acc: 0.7445\n",
            "Epoch 12: val_balanced_acc improved from 0.62791 to 0.64922, saving model to /content/drive/MyDrive/PHD/Model/best_model_no.h5\n",
            "66/66 [==============================] - 25s 386ms/step - loss: 0.4811 - accuracy: 0.8242 - balanced_acc: 0.7445 - val_loss: 0.7224 - val_accuracy: 0.7437 - val_balanced_acc: 0.6492 - lr: 0.0010\n",
            "Epoch 13/100\n",
            "66/66 [==============================] - ETA: 0s - loss: 0.4233 - accuracy: 0.8471 - balanced_acc: 0.7881\n",
            "Epoch 13: val_balanced_acc did not improve from 0.64922\n",
            "66/66 [==============================] - 24s 366ms/step - loss: 0.4233 - accuracy: 0.8471 - balanced_acc: 0.7881 - val_loss: 0.8232 - val_accuracy: 0.6967 - val_balanced_acc: 0.5920 - lr: 0.0010\n",
            "Epoch 14/100\n",
            "66/66 [==============================] - ETA: 0s - loss: 0.4036 - accuracy: 0.8559 - balanced_acc: 0.7897\n",
            "Epoch 14: val_balanced_acc improved from 0.64922 to 0.66472, saving model to /content/drive/MyDrive/PHD/Model/best_model_no.h5\n",
            "66/66 [==============================] - 26s 391ms/step - loss: 0.4036 - accuracy: 0.8559 - balanced_acc: 0.7897 - val_loss: 0.7412 - val_accuracy: 0.7352 - val_balanced_acc: 0.6647 - lr: 0.0010\n",
            "Epoch 15/100\n",
            "66/66 [==============================] - ETA: 0s - loss: 0.3754 - accuracy: 0.8643 - balanced_acc: 0.7951\n",
            "Epoch 15: val_balanced_acc did not improve from 0.66472\n",
            "66/66 [==============================] - 24s 366ms/step - loss: 0.3754 - accuracy: 0.8643 - balanced_acc: 0.7951 - val_loss: 0.6997 - val_accuracy: 0.7437 - val_balanced_acc: 0.6630 - lr: 0.0010\n",
            "Epoch 16/100\n",
            "66/66 [==============================] - ETA: 0s - loss: 0.3598 - accuracy: 0.8745 - balanced_acc: 0.8248\n",
            "Epoch 16: val_balanced_acc improved from 0.66472 to 0.66968, saving model to /content/drive/MyDrive/PHD/Model/best_model_no.h5\n",
            "66/66 [==============================] - 26s 389ms/step - loss: 0.3598 - accuracy: 0.8745 - balanced_acc: 0.8248 - val_loss: 0.6845 - val_accuracy: 0.7446 - val_balanced_acc: 0.6697 - lr: 0.0010\n",
            "Epoch 17/100\n",
            "66/66 [==============================] - ETA: 0s - loss: 0.2954 - accuracy: 0.9020 - balanced_acc: 0.8375\n",
            "Epoch 17: val_balanced_acc did not improve from 0.66968\n",
            "66/66 [==============================] - 24s 366ms/step - loss: 0.2954 - accuracy: 0.9020 - balanced_acc: 0.8375 - val_loss: 0.6638 - val_accuracy: 0.7502 - val_balanced_acc: 0.6633 - lr: 0.0010\n",
            "Epoch 18/100\n",
            "66/66 [==============================] - ETA: 0s - loss: 0.2897 - accuracy: 0.9058 - balanced_acc: 0.8678\n",
            "Epoch 18: val_balanced_acc did not improve from 0.66968\n",
            "66/66 [==============================] - 24s 365ms/step - loss: 0.2897 - accuracy: 0.9058 - balanced_acc: 0.8678 - val_loss: 0.9540 - val_accuracy: 0.6977 - val_balanced_acc: 0.5719 - lr: 0.0010\n",
            "Epoch 19/100\n",
            "66/66 [==============================] - ETA: 0s - loss: 0.2560 - accuracy: 0.9141 - balanced_acc: 0.8612\n",
            "Epoch 19: val_balanced_acc did not improve from 0.66968\n",
            "66/66 [==============================] - 24s 365ms/step - loss: 0.2560 - accuracy: 0.9141 - balanced_acc: 0.8612 - val_loss: 0.8617 - val_accuracy: 0.7108 - val_balanced_acc: 0.6264 - lr: 0.0010\n",
            "Epoch 20/100\n",
            "66/66 [==============================] - ETA: 0s - loss: 0.2671 - accuracy: 0.9117 - balanced_acc: 0.8771\n",
            "Epoch 20: val_balanced_acc did not improve from 0.66968\n",
            "66/66 [==============================] - 24s 366ms/step - loss: 0.2671 - accuracy: 0.9117 - balanced_acc: 0.8771 - val_loss: 0.8008 - val_accuracy: 0.7380 - val_balanced_acc: 0.6150 - lr: 0.0010\n",
            "Epoch 21/100\n",
            "66/66 [==============================] - ETA: 0s - loss: 0.2178 - accuracy: 0.9334 - balanced_acc: 0.8882\n",
            "Epoch 21: val_balanced_acc did not improve from 0.66968\n",
            "66/66 [==============================] - 24s 366ms/step - loss: 0.2178 - accuracy: 0.9334 - balanced_acc: 0.8882 - val_loss: 0.7615 - val_accuracy: 0.7512 - val_balanced_acc: 0.6479 - lr: 0.0010\n",
            "Epoch 22/100\n",
            "66/66 [==============================] - ETA: 0s - loss: 0.1930 - accuracy: 0.9377 - balanced_acc: 0.9090\n",
            "Epoch 22: val_balanced_acc did not improve from 0.66968\n",
            "66/66 [==============================] - 24s 366ms/step - loss: 0.1930 - accuracy: 0.9377 - balanced_acc: 0.9090 - val_loss: 0.7066 - val_accuracy: 0.7512 - val_balanced_acc: 0.6444 - lr: 0.0010\n",
            "Epoch 23/100\n",
            "66/66 [==============================] - ETA: 0s - loss: 0.1853 - accuracy: 0.9478 - balanced_acc: 0.8986\n",
            "Epoch 23: val_balanced_acc did not improve from 0.66968\n",
            "66/66 [==============================] - 24s 367ms/step - loss: 0.1853 - accuracy: 0.9478 - balanced_acc: 0.8986 - val_loss: 0.7474 - val_accuracy: 0.7549 - val_balanced_acc: 0.6557 - lr: 0.0010\n",
            "Epoch 24/100\n",
            "66/66 [==============================] - ETA: 0s - loss: 0.2285 - accuracy: 0.9339 - balanced_acc: 0.9022\n",
            "Epoch 24: val_balanced_acc did not improve from 0.66968\n",
            "66/66 [==============================] - 24s 366ms/step - loss: 0.2285 - accuracy: 0.9339 - balanced_acc: 0.9022 - val_loss: 0.7922 - val_accuracy: 0.7671 - val_balanced_acc: 0.6443 - lr: 0.0010\n",
            "Epoch 25/100\n",
            "66/66 [==============================] - ETA: 0s - loss: 0.1607 - accuracy: 0.9571 - balanced_acc: 0.9072\n",
            "Epoch 25: val_balanced_acc improved from 0.66968 to 0.67152, saving model to /content/drive/MyDrive/PHD/Model/best_model_no.h5\n",
            "66/66 [==============================] - 26s 387ms/step - loss: 0.1607 - accuracy: 0.9571 - balanced_acc: 0.9072 - val_loss: 0.7377 - val_accuracy: 0.7587 - val_balanced_acc: 0.6715 - lr: 0.0010\n",
            "Epoch 26/100\n",
            "66/66 [==============================] - ETA: 0s - loss: 0.1470 - accuracy: 0.9633 - balanced_acc: 0.9233\n",
            "Epoch 26: val_balanced_acc improved from 0.67152 to 0.69066, saving model to /content/drive/MyDrive/PHD/Model/best_model_no.h5\n",
            "66/66 [==============================] - 26s 388ms/step - loss: 0.1470 - accuracy: 0.9633 - balanced_acc: 0.9233 - val_loss: 0.7571 - val_accuracy: 0.7737 - val_balanced_acc: 0.6907 - lr: 0.0010\n",
            "Epoch 27/100\n",
            "66/66 [==============================] - ETA: 0s - loss: 0.1096 - accuracy: 0.9757 - balanced_acc: 0.9208\n",
            "Epoch 27: val_balanced_acc improved from 0.69066 to 0.71511, saving model to /content/drive/MyDrive/PHD/Model/best_model_no.h5\n",
            "66/66 [==============================] - 26s 388ms/step - loss: 0.1096 - accuracy: 0.9757 - balanced_acc: 0.9208 - val_loss: 0.7270 - val_accuracy: 0.7746 - val_balanced_acc: 0.7151 - lr: 0.0010\n",
            "Epoch 28/100\n",
            "66/66 [==============================] - ETA: 0s - loss: 0.1938 - accuracy: 0.9528 - balanced_acc: 0.9118\n",
            "Epoch 28: val_balanced_acc did not improve from 0.71511\n",
            "66/66 [==============================] - 24s 366ms/step - loss: 0.1938 - accuracy: 0.9528 - balanced_acc: 0.9118 - val_loss: 0.7499 - val_accuracy: 0.7690 - val_balanced_acc: 0.6729 - lr: 0.0010\n",
            "Epoch 29/100\n",
            "66/66 [==============================] - ETA: 0s - loss: 0.0933 - accuracy: 0.9769 - balanced_acc: 0.9263\n",
            "Epoch 29: val_balanced_acc did not improve from 0.71511\n",
            "66/66 [==============================] - 24s 367ms/step - loss: 0.0933 - accuracy: 0.9769 - balanced_acc: 0.9263 - val_loss: 1.1868 - val_accuracy: 0.6995 - val_balanced_acc: 0.6316 - lr: 0.0010\n",
            "Epoch 30/100\n",
            "66/66 [==============================] - ETA: 0s - loss: 0.1219 - accuracy: 0.9745 - balanced_acc: 0.9339\n",
            "Epoch 30: val_balanced_acc did not improve from 0.71511\n",
            "66/66 [==============================] - 24s 367ms/step - loss: 0.1219 - accuracy: 0.9745 - balanced_acc: 0.9339 - val_loss: 0.7838 - val_accuracy: 0.7587 - val_balanced_acc: 0.6691 - lr: 0.0010\n",
            "Epoch 31/100\n",
            "66/66 [==============================] - ETA: 0s - loss: 0.0236 - accuracy: 0.9990 - balanced_acc: 0.9605\n",
            "Epoch 31: val_balanced_acc did not improve from 0.71511\n",
            "66/66 [==============================] - 24s 367ms/step - loss: 0.0236 - accuracy: 0.9990 - balanced_acc: 0.9605 - val_loss: 0.8255 - val_accuracy: 0.7765 - val_balanced_acc: 0.6963 - lr: 0.0010\n",
            "Epoch 32/100\n",
            "66/66 [==============================] - ETA: 0s - loss: 0.0159 - accuracy: 0.9995 - balanced_acc: 0.9663\n",
            "Epoch 32: val_balanced_acc did not improve from 0.71511\n",
            "66/66 [==============================] - 24s 366ms/step - loss: 0.0159 - accuracy: 0.9995 - balanced_acc: 0.9663 - val_loss: 0.8650 - val_accuracy: 0.7803 - val_balanced_acc: 0.6867 - lr: 0.0010\n",
            "Epoch 33/100\n",
            "66/66 [==============================] - ETA: 0s - loss: 0.0122 - accuracy: 1.0000 - balanced_acc: 0.9553\n",
            "Epoch 33: val_balanced_acc did not improve from 0.71511\n",
            "66/66 [==============================] - 24s 366ms/step - loss: 0.0122 - accuracy: 1.0000 - balanced_acc: 0.9553 - val_loss: 0.8985 - val_accuracy: 0.7793 - val_balanced_acc: 0.6942 - lr: 0.0010\n",
            "Epoch 34/100\n",
            "66/66 [==============================] - ETA: 0s - loss: 0.0095 - accuracy: 1.0000 - balanced_acc: 0.9600\n",
            "Epoch 34: val_balanced_acc did not improve from 0.71511\n",
            "66/66 [==============================] - 24s 366ms/step - loss: 0.0095 - accuracy: 1.0000 - balanced_acc: 0.9600 - val_loss: 0.9120 - val_accuracy: 0.7850 - val_balanced_acc: 0.6995 - lr: 0.0010\n",
            "Epoch 35/100\n",
            "66/66 [==============================] - ETA: 0s - loss: 0.0071 - accuracy: 1.0000 - balanced_acc: 0.9596\n",
            "Epoch 35: val_balanced_acc did not improve from 0.71511\n",
            "66/66 [==============================] - 24s 365ms/step - loss: 0.0071 - accuracy: 1.0000 - balanced_acc: 0.9596 - val_loss: 0.9398 - val_accuracy: 0.7803 - val_balanced_acc: 0.7062 - lr: 0.0010\n",
            "Epoch 36/100\n",
            "66/66 [==============================] - ETA: 0s - loss: 0.0068 - accuracy: 1.0000 - balanced_acc: 0.9578\n",
            "Epoch 36: val_balanced_acc did not improve from 0.71511\n",
            "66/66 [==============================] - 24s 366ms/step - loss: 0.0068 - accuracy: 1.0000 - balanced_acc: 0.9578 - val_loss: 0.9520 - val_accuracy: 0.7850 - val_balanced_acc: 0.7011 - lr: 0.0010\n",
            "Epoch 37/100\n",
            "66/66 [==============================] - ETA: 0s - loss: 0.0048 - accuracy: 1.0000 - balanced_acc: 0.9632\n",
            "Epoch 37: ReduceLROnPlateau reducing learning rate to 0.0005000000237487257.\n",
            "\n",
            "Epoch 37: val_balanced_acc did not improve from 0.71511\n",
            "66/66 [==============================] - 24s 367ms/step - loss: 0.0048 - accuracy: 1.0000 - balanced_acc: 0.9632 - val_loss: 0.9825 - val_accuracy: 0.7793 - val_balanced_acc: 0.6918 - lr: 0.0010\n",
            "Epoch 38/100\n",
            "66/66 [==============================] - ETA: 0s - loss: 0.0046 - accuracy: 1.0000 - balanced_acc: 0.9578\n",
            "Epoch 38: val_balanced_acc did not improve from 0.71511\n",
            "66/66 [==============================] - 24s 366ms/step - loss: 0.0046 - accuracy: 1.0000 - balanced_acc: 0.9578 - val_loss: 0.9859 - val_accuracy: 0.7822 - val_balanced_acc: 0.6959 - lr: 5.0000e-04\n",
            "Epoch 39/100\n",
            "66/66 [==============================] - ETA: 0s - loss: 0.0041 - accuracy: 1.0000 - balanced_acc: 0.9646\n",
            "Epoch 39: val_balanced_acc did not improve from 0.71511\n",
            "66/66 [==============================] - 24s 366ms/step - loss: 0.0041 - accuracy: 1.0000 - balanced_acc: 0.9646 - val_loss: 0.9989 - val_accuracy: 0.7822 - val_balanced_acc: 0.6965 - lr: 5.0000e-04\n",
            "Epoch 40/100\n",
            "66/66 [==============================] - ETA: 0s - loss: 0.0040 - accuracy: 1.0000 - balanced_acc: 0.9639\n",
            "Epoch 40: val_balanced_acc did not improve from 0.71511\n",
            "66/66 [==============================] - 24s 367ms/step - loss: 0.0040 - accuracy: 1.0000 - balanced_acc: 0.9639 - val_loss: 1.0109 - val_accuracy: 0.7831 - val_balanced_acc: 0.6965 - lr: 5.0000e-04\n",
            "Epoch 41/100\n",
            "66/66 [==============================] - ETA: 0s - loss: 0.0037 - accuracy: 1.0000 - balanced_acc: 0.9578\n",
            "Epoch 41: val_balanced_acc did not improve from 0.71511\n",
            "66/66 [==============================] - 24s 366ms/step - loss: 0.0037 - accuracy: 1.0000 - balanced_acc: 0.9578 - val_loss: 1.0153 - val_accuracy: 0.7812 - val_balanced_acc: 0.6952 - lr: 5.0000e-04\n",
            "Epoch 42/100\n",
            "66/66 [==============================] - ETA: 0s - loss: 0.0036 - accuracy: 1.0000 - balanced_acc: 0.9643\n",
            "Epoch 42: val_balanced_acc did not improve from 0.71511\n",
            "66/66 [==============================] - 24s 366ms/step - loss: 0.0036 - accuracy: 1.0000 - balanced_acc: 0.9643 - val_loss: 1.0220 - val_accuracy: 0.7840 - val_balanced_acc: 0.6988 - lr: 5.0000e-04\n",
            "Epoch 43/100\n",
            "66/66 [==============================] - ETA: 0s - loss: 0.0033 - accuracy: 1.0000 - balanced_acc: 0.9708\n",
            "Epoch 43: val_balanced_acc did not improve from 0.71511\n",
            "66/66 [==============================] - 24s 366ms/step - loss: 0.0033 - accuracy: 1.0000 - balanced_acc: 0.9708 - val_loss: 1.0343 - val_accuracy: 0.7822 - val_balanced_acc: 0.6964 - lr: 5.0000e-04\n",
            "Epoch 44/100\n",
            "66/66 [==============================] - ETA: 0s - loss: 0.0032 - accuracy: 1.0000 - balanced_acc: 0.9524\n",
            "Epoch 44: val_balanced_acc did not improve from 0.71511\n",
            "66/66 [==============================] - 24s 366ms/step - loss: 0.0032 - accuracy: 1.0000 - balanced_acc: 0.9524 - val_loss: 1.0368 - val_accuracy: 0.7822 - val_balanced_acc: 0.6959 - lr: 5.0000e-04\n",
            "Epoch 45/100\n",
            "66/66 [==============================] - ETA: 0s - loss: 0.0031 - accuracy: 1.0000 - balanced_acc: 0.9686\n",
            "Epoch 45: val_balanced_acc did not improve from 0.71511\n",
            "66/66 [==============================] - 24s 366ms/step - loss: 0.0031 - accuracy: 1.0000 - balanced_acc: 0.9686 - val_loss: 1.0497 - val_accuracy: 0.7850 - val_balanced_acc: 0.6981 - lr: 5.0000e-04\n",
            "Epoch 46/100\n",
            "66/66 [==============================] - ETA: 0s - loss: 0.0029 - accuracy: 1.0000 - balanced_acc: 0.9610\n",
            "Epoch 46: val_balanced_acc did not improve from 0.71511\n",
            "66/66 [==============================] - 24s 366ms/step - loss: 0.0029 - accuracy: 1.0000 - balanced_acc: 0.9610 - val_loss: 1.0514 - val_accuracy: 0.7850 - val_balanced_acc: 0.6998 - lr: 5.0000e-04\n",
            "Epoch 47/100\n",
            "66/66 [==============================] - ETA: 0s - loss: 0.0028 - accuracy: 1.0000 - balanced_acc: 0.9668\n",
            "Epoch 47: ReduceLROnPlateau reducing learning rate to 0.0002500000118743628.\n",
            "\n",
            "Epoch 47: val_balanced_acc did not improve from 0.71511\n",
            "66/66 [==============================] - 24s 367ms/step - loss: 0.0028 - accuracy: 1.0000 - balanced_acc: 0.9668 - val_loss: 1.0642 - val_accuracy: 0.7831 - val_balanced_acc: 0.6967 - lr: 5.0000e-04\n",
            "Epoch 48/100\n",
            "66/66 [==============================] - ETA: 0s - loss: 0.0027 - accuracy: 1.0000 - balanced_acc: 0.9513\n",
            "Epoch 48: val_balanced_acc did not improve from 0.71511\n",
            "66/66 [==============================] - 24s 365ms/step - loss: 0.0027 - accuracy: 1.0000 - balanced_acc: 0.9513 - val_loss: 1.0627 - val_accuracy: 0.7812 - val_balanced_acc: 0.6971 - lr: 2.5000e-04\n",
            "Epoch 49/100\n",
            "66/66 [==============================] - ETA: 0s - loss: 0.0026 - accuracy: 1.0000 - balanced_acc: 0.9553\n",
            "Epoch 49: val_balanced_acc did not improve from 0.71511\n",
            "66/66 [==============================] - 24s 367ms/step - loss: 0.0026 - accuracy: 1.0000 - balanced_acc: 0.9553 - val_loss: 1.0643 - val_accuracy: 0.7822 - val_balanced_acc: 0.6976 - lr: 2.5000e-04\n",
            "Epoch 50/100\n",
            "66/66 [==============================] - ETA: 0s - loss: 0.0025 - accuracy: 1.0000 - balanced_acc: 0.9711\n",
            "Epoch 50: val_balanced_acc did not improve from 0.71511\n",
            "66/66 [==============================] - 24s 366ms/step - loss: 0.0025 - accuracy: 1.0000 - balanced_acc: 0.9711 - val_loss: 1.0686 - val_accuracy: 0.7850 - val_balanced_acc: 0.6983 - lr: 2.5000e-04\n",
            "Epoch 51/100\n",
            "66/66 [==============================] - ETA: 0s - loss: 0.0025 - accuracy: 1.0000 - balanced_acc: 0.9563\n",
            "Epoch 51: val_balanced_acc did not improve from 0.71511\n",
            "66/66 [==============================] - 24s 366ms/step - loss: 0.0025 - accuracy: 1.0000 - balanced_acc: 0.9563 - val_loss: 1.0716 - val_accuracy: 0.7812 - val_balanced_acc: 0.6971 - lr: 2.5000e-04\n",
            "Epoch 52/100\n",
            "66/66 [==============================] - ETA: 0s - loss: 0.0026 - accuracy: 1.0000 - balanced_acc: 0.9618\n",
            "Epoch 52: val_balanced_acc did not improve from 0.71511\n",
            "66/66 [==============================] - 24s 365ms/step - loss: 0.0026 - accuracy: 1.0000 - balanced_acc: 0.9618 - val_loss: 1.0765 - val_accuracy: 0.7831 - val_balanced_acc: 0.6981 - lr: 2.5000e-04\n",
            "Epoch 53/100\n",
            "66/66 [==============================] - ETA: 0s - loss: 0.0024 - accuracy: 1.0000 - balanced_acc: 0.9646\n",
            "Epoch 53: val_balanced_acc did not improve from 0.71511\n",
            "66/66 [==============================] - 24s 365ms/step - loss: 0.0024 - accuracy: 1.0000 - balanced_acc: 0.9646 - val_loss: 1.0781 - val_accuracy: 0.7822 - val_balanced_acc: 0.6980 - lr: 2.5000e-04\n",
            "Epoch 54/100\n",
            "66/66 [==============================] - ETA: 0s - loss: 0.0023 - accuracy: 1.0000 - balanced_acc: 0.9582\n",
            "Epoch 54: val_balanced_acc did not improve from 0.71511\n",
            "66/66 [==============================] - 24s 366ms/step - loss: 0.0023 - accuracy: 1.0000 - balanced_acc: 0.9582 - val_loss: 1.0821 - val_accuracy: 0.7822 - val_balanced_acc: 0.6976 - lr: 2.5000e-04\n",
            "Epoch 55/100\n",
            "66/66 [==============================] - ETA: 0s - loss: 0.0024 - accuracy: 1.0000 - balanced_acc: 0.9628\n",
            "Epoch 55: val_balanced_acc did not improve from 0.71511\n",
            "66/66 [==============================] - 24s 366ms/step - loss: 0.0024 - accuracy: 1.0000 - balanced_acc: 0.9628 - val_loss: 1.0870 - val_accuracy: 0.7812 - val_balanced_acc: 0.6971 - lr: 2.5000e-04\n",
            "Epoch 56/100\n",
            "66/66 [==============================] - ETA: 0s - loss: 0.0022 - accuracy: 1.0000 - balanced_acc: 0.9585\n",
            "Epoch 56: val_balanced_acc did not improve from 0.71511\n",
            "66/66 [==============================] - 24s 366ms/step - loss: 0.0022 - accuracy: 1.0000 - balanced_acc: 0.9585 - val_loss: 1.0869 - val_accuracy: 0.7812 - val_balanced_acc: 0.6958 - lr: 2.5000e-04\n",
            "Epoch 57/100\n",
            "66/66 [==============================] - ETA: 0s - loss: 0.0023 - accuracy: 1.0000 - balanced_acc: 0.9618\n",
            "Epoch 57: ReduceLROnPlateau reducing learning rate to 0.0001250000059371814.\n",
            "\n",
            "Epoch 57: val_balanced_acc did not improve from 0.71511\n",
            "66/66 [==============================] - 24s 367ms/step - loss: 0.0023 - accuracy: 1.0000 - balanced_acc: 0.9618 - val_loss: 1.0894 - val_accuracy: 0.7812 - val_balanced_acc: 0.6971 - lr: 2.5000e-04\n"
          ]
        }
      ],
      "source": [
        "# define model\n",
        "model = define_model_resnet()\n",
        "hst = model.fit(X_train, y_train, epochs=EPOCHS, batch_size=BATCH_SIZE, validation_data=(X_val, y_val), verbose=1,\n",
        "                    steps_per_epoch=X_train.shape[0] // BATCH_SIZE, \n",
        "                    callbacks=[learning_rate_reduction,early_stopping_monitor, mc])\n",
        "# learning curves\n",
        "summarize_diagnostics(hst)"
      ]
    },
    {
      "cell_type": "code",
      "execution_count": null,
      "metadata": {
        "id": "rwwLiXUSG0IZ"
      },
      "outputs": [],
      "source": [
        "#Training\n",
        "#hst = model.fit(train_data_batches,\n",
        "#                    epochs = EPOCHS, validation_data = valid_data_batches,      \n",
        "                    #steps_per_epoch=X_train.shape[0] // BATCH_SIZE, \n",
        "#                    callbacks=[learning_rate_reduction,early_stopping_monitor, mc])\n"
      ]
    },
    {
      "cell_type": "code",
      "execution_count": 11,
      "metadata": {
        "id": "vXnW3lmCgln3",
        "colab": {
          "base_uri": "https://localhost:8080/",
          "height": 295
        },
        "outputId": "1ebc1666-45cf-41a4-c4b9-8dc68c00dec8"
      },
      "outputs": [
        {
          "output_type": "display_data",
          "data": {
            "text/plain": [
              "<Figure size 432x288 with 1 Axes>"
            ],
            "image/png": "[encoded data removed]"
          },
          "metadata": {
            "needs_background": "light"
          }
        }
      ],
      "source": [
        "# summarize history for accuracy\n",
        "plt.plot(hst.history['accuracy'])\n",
        "plt.plot(hst.history['balanced_acc'])\n",
        "plt.plot(hst.history['val_accuracy'])\n",
        "plt.plot(hst.history['val_balanced_acc'])\n",
        "plt.title('Model accuracy')\n",
        "plt.ylabel('Performance')\n",
        "plt.xlabel('epoch')\n",
        "plt.legend(['train accuracy', 'train balanced acc.', 'val. accuracy', 'val. balanced acc.'], loc='lower right')\n",
        "plt.show()"
      ]
    },
    {
      "cell_type": "markdown",
      "metadata": {
        "id": "B2PgksTFkOAq"
      },
      "source": [
        "#Fine Tune"
      ]
    },
    {
      "cell_type": "code",
      "execution_count": null,
      "metadata": {
        "id": "Nr1jnSM7yzJc"
      },
      "outputs": [],
      "source": [
        "limit = 171\n",
        "for layer in model.layers[:limit]:\n",
        "   layer.trainable = False\n",
        "for layer in model.layers[limit:]:\n",
        "   layer.trainable = True\n",
        "\n",
        "optimizer_SGD = SGD(learning_rate=0.0001, momentum=0.9)\n",
        "model.compile(optimizer = optimizer_SGD , loss = \"categorical_crossentropy\", metrics=['accuracy', balanced_acc])\n",
        "hst2 = model.fit(train_data_batches,\n",
        "                    epochs = EPOCHS, validation_data = valid_data_batches,\n",
        "                    callbacks=[learning_rate_reduction,early_stopping_monitor, mc])\n"
      ]
    },
    {
      "cell_type": "code",
      "execution_count": null,
      "metadata": {
        "id": "vO1aAQBmiy0K"
      },
      "outputs": [],
      "source": [
        "# summarize history for accuracy\n",
        "plt.plot(hst2.history['balanced_acc'])\n",
        "plt.plot(hst2.history['val_balanced_acc'])\n",
        "plt.title('model balance_acc after tunning')\n",
        "plt.ylabel('accuracy')\n",
        "plt.xlabel('epoch')\n",
        "plt.legend(['train', 'val'], loc='upper left')\n",
        "plt.show()"
      ]
    },
    {
      "cell_type": "markdown",
      "source": [
        "#Evaluate"
      ],
      "metadata": {
        "id": "icgjmi-4UIT-"
      }
    },
    {
      "cell_type": "code",
      "execution_count": 12,
      "metadata": {
        "id": "SPz8NH1Oylv9"
      },
      "outputs": [],
      "source": [
        "#save last model\n",
        "model.save(last_model_fpath)"
      ]
    },
    {
      "cell_type": "code",
      "execution_count": 13,
      "metadata": {
        "id": "lS3ewyxO_anU",
        "colab": {
          "base_uri": "https://localhost:8080/"
        },
        "outputId": "28cb58b4-d4ea-4f6a-fef2-b5a84b485b30"
      },
      "outputs": [
        {
          "output_type": "stream",
          "name": "stdout",
          "text": [
            "accuracy on training 1.0\n",
            "balanced accuracy on training 1.0\n",
            "accuracy on validation 0.7812206572769953\n",
            "balanced accuracy on validation 0.7055088657773556\n",
            "Score on val data:  (0.7468333194331817, 0.7055088657773556, 0.7235311265927574, None)\n"
          ]
        }
      ],
      "source": [
        "last_model = load_model(last_model_fpath, custom_objects={'balanced_acc' : balanced_acc})\n",
        "y_train_pred = last_model.predict(X_train)\n",
        "y_val_pred = last_model.predict(X_val)\n",
        "\n",
        "#print('accuracy on training',accuracy_score(np.argmax(y_train, axis=1), np.argmax(y_train_pred, axis=1)))\n",
        "print('accuracy on training',accuracy_score(np.argmax(y_train, axis=1), np.argmax(y_train_pred, axis=1)))\n",
        "print('balanced accuracy on training',balanced_accuracy_score(np.argmax(y_train, axis=1), np.argmax(y_train_pred, axis=1)))\n",
        "print('accuracy on validation',accuracy_score(np.argmax(y_val, axis=1), np.argmax(y_val_pred, axis=1)))\n",
        "print('balanced accuracy on validation',balanced_accuracy_score(np.argmax(y_val, axis=1), np.argmax(y_val_pred, axis=1)))\n",
        "print('Score on val data: ',precision_recall_fscore_support(np.argmax(y_val, axis=1), np.argmax(y_val_pred, axis=1), average='macro'))"
      ]
    },
    {
      "cell_type": "code",
      "execution_count": 14,
      "metadata": {
        "id": "W3IyWjdGG4Xq",
        "colab": {
          "base_uri": "https://localhost:8080/"
        },
        "outputId": "3967b6a0-e1f9-484e-96fb-0dbce69544b6"
      },
      "outputs": [
        {
          "output_type": "stream",
          "name": "stdout",
          "text": [
            "accuracy on training 0.9974154135338346\n",
            "balanced accuracy on training 0.9979112359140486\n",
            "accuracy on validation 0.7746478873239436\n",
            "balanced accuracy on validation 0.7253847478493088\n",
            "Score on val data:  (0.7393739449426127, 0.7253847478493088, 0.7313271807727036, None)\n"
          ]
        }
      ],
      "source": [
        "best_model = load_model(best_model_fpath, custom_objects={'balanced_acc' : balanced_acc})\n",
        "y_train_pred = best_model.predict(X_train)\n",
        "y_val_pred = best_model.predict(X_val)\n",
        "\n",
        "print('accuracy on training',accuracy_score(np.argmax(y_train, axis=1), np.argmax(y_train_pred, axis=1)))\n",
        "print('balanced accuracy on training',balanced_accuracy_score(np.argmax(y_train, axis=1), np.argmax(y_train_pred, axis=1)))\n",
        "print('accuracy on validation',accuracy_score(np.argmax(y_val, axis=1), np.argmax(y_val_pred, axis=1)))\n",
        "print('balanced accuracy on validation',balanced_accuracy_score(np.argmax(y_val, axis=1), np.argmax(y_val_pred, axis=1)))\n",
        "print('Score on val data: ',precision_recall_fscore_support(np.argmax(y_val, axis=1), np.argmax(y_val_pred, axis=1), average='macro'))"
      ]
    },
    {
      "cell_type": "markdown",
      "metadata": {
        "id": "iDRWiTnO0MGh"
      },
      "source": [
        "#Cut-off"
      ]
    },
    {
      "cell_type": "code",
      "execution_count": 15,
      "metadata": {
        "id": "tGnCoIdLyDHS"
      },
      "outputs": [],
      "source": [
        "df_val_pred = pd.DataFrame(y_val_pred, columns = ['AKIEC', 'BCC', 'BKL', 'DF', 'MEL', 'NV', 'VASC'])"
      ]
    },
    {
      "cell_type": "code",
      "execution_count": 16,
      "metadata": {
        "id": "QdyCbloQyWTC",
        "colab": {
          "base_uri": "https://localhost:8080/",
          "height": 206
        },
        "outputId": "666546a4-6e84-41dc-e583-da06d34dfc38"
      },
      "outputs": [
        {
          "output_type": "execute_result",
          "data": {
            "text/plain": [
              "      AKIEC           BCC       BKL            DF       MEL        NV  \\\n",
              "0  0.000375  2.723620e-05  0.998427  3.008762e-04  0.000625  0.000244   \n",
              "1  0.039329  4.519087e-07  0.009708  8.283301e-01  0.005861  0.116771   \n",
              "2  0.000003  1.263549e-04  0.565666  8.585044e-07  0.220015  0.214187   \n",
              "3  0.000224  4.507595e-02  0.000097  2.229270e-05  0.053691  0.520665   \n",
              "4  0.002575  3.686495e-07  0.981849  2.585367e-05  0.013826  0.001724   \n",
              "\n",
              "           VASC  0.0  0.05  0.1  0.15  0.2  0.25  0.3  0.35  0.4  0.45  0.5  \n",
              "0  1.780823e-07    1     0    0     0    0     0    0     0    0     0    0  \n",
              "1  3.500386e-07    1     0    0     0    0     0    0     0    0     0    0  \n",
              "2  2.469018e-06    1     1    1     1    1     0    0     0    0     0    0  \n",
              "3  3.802254e-01    1     1    0     0    0     0    0     0    0     0    0  \n",
              "4  5.354867e-08    1     0    0     0    0     0    0     0    0     0    0  "
            ],
            "text/html": [
              "\n",
              "  <div id=\"df-d7a2b775-d7a7-4603-9bf6-270e816c2279\">\n",
              "    <div class=\"colab-df-container\">\n",
              "      <div>\n",
              "<style scoped>\n",
              "    .dataframe tbody tr th:only-of-type {\n",
              "        vertical-align: middle;\n",
              "    }\n",
              "\n",
              "    .dataframe tbody tr th {\n",
              "        vertical-align: top;\n",
              "    }\n",
              "\n",
              "    .dataframe thead th {\n",
              "        text-align: right;\n",
              "    }\n",
              "</style>\n",
              "<table border=\"1\" class=\"dataframe\">\n",
              "  <thead>\n",
              "    <tr style=\"text-align: right;\">\n",
              "      <th></th>\n",
              "      <th>AKIEC</th>\n",
              "      <th>BCC</th>\n",
              "      <th>BKL</th>\n",
              "      <th>DF</th>\n",
              "      <th>MEL</th>\n",
              "      <th>NV</th>\n",
              "      <th>VASC</th>\n",
              "      <th>0.0</th>\n",
              "      <th>0.05</th>\n",
              "      <th>0.1</th>\n",
              "      <th>0.15</th>\n",
              "      <th>0.2</th>\n",
              "      <th>0.25</th>\n",
              "      <th>0.3</th>\n",
              "      <th>0.35</th>\n",
              "      <th>0.4</th>\n",
              "      <th>0.45</th>\n",
              "      <th>0.5</th>\n",
              "    </tr>\n",
              "  </thead>\n",
              "  <tbody>\n",
              "    <tr>\n",
              "      <th>0</th>\n",
              "      <td>0.000375</td>\n",
              "      <td>2.723620e-05</td>\n",
              "      <td>0.998427</td>\n",
              "      <td>3.008762e-04</td>\n",
              "      <td>0.000625</td>\n",
              "      <td>0.000244</td>\n",
              "      <td>1.780823e-07</td>\n",
              "      <td>1</td>\n",
              "      <td>0</td>\n",
              "      <td>0</td>\n",
              "      <td>0</td>\n",
              "      <td>0</td>\n",
              "      <td>0</td>\n",
              "      <td>0</td>\n",
              "      <td>0</td>\n",
              "      <td>0</td>\n",
              "      <td>0</td>\n",
              "      <td>0</td>\n",
              "    </tr>\n",
              "    <tr>\n",
              "      <th>1</th>\n",
              "      <td>0.039329</td>\n",
              "      <td>4.519087e-07</td>\n",
              "      <td>0.009708</td>\n",
              "      <td>8.283301e-01</td>\n",
              "      <td>0.005861</td>\n",
              "      <td>0.116771</td>\n",
              "      <td>3.500386e-07</td>\n",
              "      <td>1</td>\n",
              "      <td>0</td>\n",
              "      <td>0</td>\n",
              "      <td>0</td>\n",
              "      <td>0</td>\n",
              "      <td>0</td>\n",
              "      <td>0</td>\n",
              "      <td>0</td>\n",
              "      <td>0</td>\n",
              "      <td>0</td>\n",
              "      <td>0</td>\n",
              "    </tr>\n",
              "    <tr>\n",
              "      <th>2</th>\n",
              "      <td>0.000003</td>\n",
              "      <td>1.263549e-04</td>\n",
              "      <td>0.565666</td>\n",
              "      <td>8.585044e-07</td>\n",
              "      <td>0.220015</td>\n",
              "      <td>0.214187</td>\n",
              "      <td>2.469018e-06</td>\n",
              "      <td>1</td>\n",
              "      <td>1</td>\n",
              "      <td>1</td>\n",
              "      <td>1</td>\n",
              "      <td>1</td>\n",
              "      <td>0</td>\n",
              "      <td>0</td>\n",
              "      <td>0</td>\n",
              "      <td>0</td>\n",
              "      <td>0</td>\n",
              "      <td>0</td>\n",
              "    </tr>\n",
              "    <tr>\n",
              "      <th>3</th>\n",
              "      <td>0.000224</td>\n",
              "      <td>4.507595e-02</td>\n",
              "      <td>0.000097</td>\n",
              "      <td>2.229270e-05</td>\n",
              "      <td>0.053691</td>\n",
              "      <td>0.520665</td>\n",
              "      <td>3.802254e-01</td>\n",
              "      <td>1</td>\n",
              "      <td>1</td>\n",
              "      <td>0</td>\n",
              "      <td>0</td>\n",
              "      <td>0</td>\n",
              "      <td>0</td>\n",
              "      <td>0</td>\n",
              "      <td>0</td>\n",
              "      <td>0</td>\n",
              "      <td>0</td>\n",
              "      <td>0</td>\n",
              "    </tr>\n",
              "    <tr>\n",
              "      <th>4</th>\n",
              "      <td>0.002575</td>\n",
              "      <td>3.686495e-07</td>\n",
              "      <td>0.981849</td>\n",
              "      <td>2.585367e-05</td>\n",
              "      <td>0.013826</td>\n",
              "      <td>0.001724</td>\n",
              "      <td>5.354867e-08</td>\n",
              "      <td>1</td>\n",
              "      <td>0</td>\n",
              "      <td>0</td>\n",
              "      <td>0</td>\n",
              "      <td>0</td>\n",
              "      <td>0</td>\n",
              "      <td>0</td>\n",
              "      <td>0</td>\n",
              "      <td>0</td>\n",
              "      <td>0</td>\n",
              "      <td>0</td>\n",
              "    </tr>\n",
              "  </tbody>\n",
              "</table>\n",
              "</div>\n",
              "      <button class=\"colab-df-convert\" onclick=\"convertToInteractive('df-d7a2b775-d7a7-4603-9bf6-270e816c2279')\"\n",
              "              title=\"Convert this dataframe to an interactive table.\"\n",
              "              style=\"display:none;\">\n",
              "        \n",
              "  <svg xmlns=\"http://www.w3.org/2000/svg\" height=\"24px\"viewBox=\"0 0 24 24\"\n",
              "       width=\"24px\">\n",
              "    <path d=\"M0 0h24v24H0V0z\" fill=\"none\"/>\n",
              "    <path d=\"M18.56 5.44l.94 2.06.94-2.06 2.06-.94-2.06-.94-.94-2.06-.94 2.06-2.06.94zm-11 1L8.5 8.5l.94-2.06 2.06-.94-2.06-.94L8.5 2.5l-.94 2.06-2.06.94zm10 10l.94 2.06.94-2.06 2.06-.94-2.06-.94-.94-2.06-.94 2.06-2.06.94z\"/><path d=\"M17.41 7.96l-1.37-1.37c-.4-.4-.92-.59-1.43-.59-.52 0-1.04.2-1.43.59L10.3 9.45l-7.72 7.72c-.78.78-.78 2.05 0 2.83L4 21.41c.39.39.9.59 1.41.59.51 0 1.02-.2 1.41-.59l7.78-7.78 2.81-2.81c.8-.78.8-2.07 0-2.86zM5.41 20L4 18.59l7.72-7.72 1.47 1.35L5.41 20z\"/>\n",
              "  </svg>\n",
              "      </button>\n",
              "      \n",
              "  <style>\n",
              "    .colab-df-container {\n",
              "      display:flex;\n",
              "      flex-wrap:wrap;\n",
              "      gap: 12px;\n",
              "    }\n",
              "\n",
              "    .colab-df-convert {\n",
              "      background-color: #E8F0FE;\n",
              "      border: none;\n",
              "      border-radius: 50%;\n",
              "      cursor: pointer;\n",
              "      display: none;\n",
              "      fill: #1967D2;\n",
              "      height: 32px;\n",
              "      padding: 0 0 0 0;\n",
              "      width: 32px;\n",
              "    }\n",
              "\n",
              "    .colab-df-convert:hover {\n",
              "      background-color: #E2EBFA;\n",
              "      box-shadow: 0px 1px 2px rgba(60, 64, 67, 0.3), 0px 1px 3px 1px rgba(60, 64, 67, 0.15);\n",
              "      fill: #174EA6;\n",
              "    }\n",
              "\n",
              "    [theme=dark] .colab-df-convert {\n",
              "      background-color: #3B4455;\n",
              "      fill: #D2E3FC;\n",
              "    }\n",
              "\n",
              "    [theme=dark] .colab-df-convert:hover {\n",
              "      background-color: #434B5C;\n",
              "      box-shadow: 0px 1px 3px 1px rgba(0, 0, 0, 0.15);\n",
              "      filter: drop-shadow(0px 1px 2px rgba(0, 0, 0, 0.3));\n",
              "      fill: #FFFFFF;\n",
              "    }\n",
              "  </style>\n",
              "\n",
              "      <script>\n",
              "        const buttonEl =\n",
              "          document.querySelector('#df-d7a2b775-d7a7-4603-9bf6-270e816c2279 button.colab-df-convert');\n",
              "        buttonEl.style.display =\n",
              "          google.colab.kernel.accessAllowed ? 'block' : 'none';\n",
              "\n",
              "        async function convertToInteractive(key) {\n",
              "          const element = document.querySelector('#df-d7a2b775-d7a7-4603-9bf6-270e816c2279');\n",
              "          const dataTable =\n",
              "            await google.colab.kernel.invokeFunction('convertToInteractive',\n",
              "                                                     [key], {});\n",
              "          if (!dataTable) return;\n",
              "\n",
              "          const docLinkHtml = 'Like what you see? Visit the ' +\n",
              "            '<a target=\"_blank\" href=https://colab.research.google.com/notebooks/data_table.ipynb>data table notebook</a>'\n",
              "            + ' to learn more about interactive tables.';\n",
              "          element.innerHTML = '';\n",
              "          dataTable['output_type'] = 'display_data';\n",
              "          await google.colab.output.renderOutput(dataTable, element);\n",
              "          const docLink = document.createElement('div');\n",
              "          docLink.innerHTML = docLinkHtml;\n",
              "          element.appendChild(docLink);\n",
              "        }\n",
              "      </script>\n",
              "    </div>\n",
              "  </div>\n",
              "  "
            ]
          },
          "metadata": {},
          "execution_count": 16
        }
      ],
      "source": [
        "numbers = [float(x)/20 for x in range(11)]\n",
        "\n",
        "for i in numbers:\n",
        "    df_val_pred[i]= df_val_pred.MEL.map(lambda x: 1 if x > i else 0)\n",
        "df_val_pred.head()"
      ]
    },
    {
      "cell_type": "code",
      "execution_count": 17,
      "metadata": {
        "id": "G4SQsRx73kgk"
      },
      "outputs": [],
      "source": [
        "y_val_true= [1 if x == 4 else 0 for x in np.argmax(y_val, axis=1)]"
      ]
    },
    {
      "cell_type": "code",
      "execution_count": 18,
      "metadata": {
        "id": "QcUISWFi0J05"
      },
      "outputs": [],
      "source": [
        "num = [0.0,0.05,0.1,0.15,0.2,0.25,0.3,0.35,0.4,0.45,0.5]\n",
        "cutoff_df = pd.DataFrame( columns = ['Probability','Accuracy','Sensitivity','Specificity'])\n",
        "for i in num:\n",
        "    cm1 = confusion_matrix(y_val_true, df_val_pred[i])\n",
        "    total1=sum(sum(cm1))\n",
        "    Accuracy = (cm1[0,0]+cm1[1,1])/total1\n",
        "    Specificity = cm1[0,0]/(cm1[0,0]+cm1[0,1])\n",
        "    Sensitivity = cm1[1,1]/(cm1[1,0]+cm1[1,1])\n",
        "    cutoff_df.loc[i] =[ i ,Accuracy,Sensitivity,Specificity]"
      ]
    },
    {
      "cell_type": "code",
      "execution_count": 19,
      "metadata": {
        "id": "W31LSzov1tCt",
        "colab": {
          "base_uri": "https://localhost:8080/",
          "height": 265
        },
        "outputId": "319f70d6-7395-4356-b552-f411531f513c"
      },
      "outputs": [
        {
          "output_type": "display_data",
          "data": {
            "text/plain": [
              "<Figure size 432x288 with 1 Axes>"
            ],
            "image/png": "[encoded data removed]"
          },
          "metadata": {
            "needs_background": "light"
          }
        }
      ],
      "source": [
        "cutoff_df[['Accuracy','Sensitivity','Specificity']].plot()\n",
        "\n",
        "plt.show()"
      ]
    },
    {
      "cell_type": "markdown",
      "metadata": {
        "id": "eaK4zbtoaAaC"
      },
      "source": [
        "#Confusion Metric on Validation Set"
      ]
    },
    {
      "cell_type": "code",
      "execution_count": 24,
      "metadata": {
        "id": "P6CIKT94Jqye"
      },
      "outputs": [],
      "source": [
        "i = 0.05\n",
        "cm1 = confusion_matrix(y_val_true, df_val_pred[i])\n",
        "total1=sum(sum(cm1))\n",
        "Accuracy = (cm1[0,0]+cm1[1,1])/total1\n",
        "Specificity = cm1[0,0]/(cm1[0,0]+cm1[0,1])\n",
        "Sensitivity = cm1[1,1]/(cm1[1,0]+cm1[1,1])"
      ]
    },
    {
      "cell_type": "code",
      "execution_count": 25,
      "metadata": {
        "colab": {
          "base_uri": "https://localhost:8080/"
        },
        "id": "3U2tkFebL_VC",
        "outputId": "7fb55fae-3394-4253-d353-a8a4b63d1d50"
      },
      "outputs": [
        {
          "output_type": "stream",
          "name": "stdout",
          "text": [
            "Accuracy:  0.6140845070422535\n",
            "Sensitivity:  0.0\n",
            "Specificity:  1.0\n"
          ]
        }
      ],
      "source": [
        "print('Accuracy: ', Accuracy)\n",
        "print('Sensitivity: ', Sensitivity)\n",
        "print('Specificity: ', Specificity)"
      ]
    },
    {
      "cell_type": "code",
      "execution_count": 22,
      "metadata": {
        "id": "YkPOFLehOmFg"
      },
      "outputs": [],
      "source": [
        "#change melanoma flag back to 4\n",
        "df_val_pred[df_val_pred[i] == 1] = 4\n",
        "#decode one-hot y_val_pred while use cut-off melanoma data\n",
        "condition = df_val_pred[i] == 4\n",
        "y_val_pred2 = np.where(condition, df_val_pred[i], np.argmax(y_val_pred, axis=1))"
      ]
    },
    {
      "cell_type": "code",
      "execution_count": 23,
      "metadata": {
        "colab": {
          "base_uri": "https://localhost:8080/"
        },
        "id": "LOVl6dWlTDLo",
        "outputId": "26e1aa0d-0086-4ee6-9224-05f23b5625b1"
      },
      "outputs": [
        {
          "output_type": "stream",
          "name": "stdout",
          "text": [
            "Accuracy:  0.7305164319248826\n",
            "Balanced accuracy:  0.6941582458603631\n"
          ]
        }
      ],
      "source": [
        "print('Accuracy: ',accuracy_score(np.argmax(y_val, axis=1), y_val_pred2))\n",
        "print('Balanced accuracy: ',balanced_accuracy_score(np.argmax(y_val, axis=1), y_val_pred2))"
      ]
    },
    {
      "cell_type": "code",
      "execution_count": 26,
      "metadata": {
        "colab": {
          "base_uri": "https://localhost:8080/"
        },
        "id": "mqvYutTKRhR_",
        "outputId": "fa6ab513-433f-4c77-bf06-3ee5fc0364f6"
      },
      "outputs": [
        {
          "output_type": "stream",
          "name": "stdout",
          "text": [
            "[[ 35   6   7   3  13   1   0]\n",
            " [  8  74   4   0  14   1   2]\n",
            " [  6  10 120   1  69  14   0]\n",
            " [  3   1   1  14   4   0   0]\n",
            " [  1   0   6   0 211   5   0]\n",
            " [  0   5   7   1  86 303   1]\n",
            " [  0   1   0   0   2   4  21]]\n"
          ]
        }
      ],
      "source": [
        "#Get the confusion matrix\n",
        "cf_matrix = confusion_matrix(np.argmax(y_val, axis=1), y_val_pred2)\n",
        "print(cf_matrix)"
      ]
    },
    {
      "cell_type": "code",
      "execution_count": 27,
      "metadata": {
        "colab": {
          "base_uri": "https://localhost:8080/",
          "height": 340
        },
        "id": "gVtvW3YeaLlC",
        "outputId": "6599c1fe-88af-45d4-f54f-3d99f47e8489"
      },
      "outputs": [
        {
          "output_type": "display_data",
          "data": {
            "text/plain": [
              "<Figure size 432x288 with 2 Axes>"
            ],
            "image/png": "[encoded data removed]"
          },
          "metadata": {
            "needs_background": "light"
          }
        }
      ],
      "source": [
        "ax = sns.heatmap(cf_matrix / cf_matrix.sum(axis=1, keepdims=True), annot=True, \n",
        "            cmap='Blues')\n",
        "\n",
        "ax.set_title('Confusion Matrix \\n');\n",
        "ax.set_xlabel('\\nPredicted')\n",
        "ax.set_ylabel('Actual ');\n",
        "\n",
        "## Ticket labels - List must be in alphabetical order\n",
        "ax.xaxis.set_ticklabels(['AKIEC', 'BCC', 'BKL', 'DF', 'MEL', 'NV', 'VASC'])\n",
        "ax.yaxis.set_ticklabels(['AKIEC', 'BCC', 'BKL', 'DF', 'MEL', 'NV', 'VASC'])\n",
        "\n",
        "plt.rcParams[\"figure.figsize\"] = (15,3)\n",
        "\n",
        "## Display the visualization of the Confusion Matrix.\n",
        "plt.xticks(rotation=45, ha='right')\n",
        "plt.yticks(rotation=0, ha='right')\n",
        "plt.show()"
      ]
    },
    {
      "cell_type": "code",
      "execution_count": null,
      "metadata": {
        "colab": {
          "base_uri": "https://localhost:8080/",
          "height": 509
        },
        "id": "Ey-1yjWGeKs7",
        "outputId": "b27447c6-bd65-4449-c265-d68ee8b0f0df"
      },
      "outputs": [
        {
          "data": {
            "text/plain": [
              "[Text(0, 0, 'AKIEC'),\n",
              " Text(0, 0, 'BCC'),\n",
              " Text(0, 0, 'BKL'),\n",
              " Text(0, 0, 'DF'),\n",
              " Text(0, 0, 'MEL'),\n",
              " Text(0, 0, 'NV'),\n",
              " Text(0, 0, 'VASC')]"
            ]
          },
          "execution_count": 31,
          "metadata": {},
          "output_type": "execute_result"
        },
        {
          "data": {
            "image/png": "[encoded data removed]",
            "text/plain": [
              "<Figure size 1080x432 with 1 Axes>"
            ]
          },
          "metadata": {},
          "output_type": "display_data"
        }
      ],
      "source": [
        "# ordered count of rows per unique label\n",
        "labels_count = df_val['Labels'].value_counts().sort_index()\n",
        "\n",
        "f = plt.figure(figsize=(15, 6))\n",
        "s = sns.barplot(x=labels_count.index,y=labels_count.values)\n",
        "s.set_xticklabels(s.get_xticklabels(), rotation = 30)"
      ]
    },
    {
      "cell_type": "markdown",
      "metadata": {
        "id": "3K908bbiYwbS"
      },
      "source": [
        "#Testing\n",
        "Result from ISIC Live\n",
        "last_model: 0.506\n",
        "best_model: 0.478"
      ]
    },
    {
      "cell_type": "code",
      "execution_count": null,
      "metadata": {
        "id": "NeMY2yvMYxsC"
      },
      "outputs": [],
      "source": [
        "dir_test = '/content/drive/MyDrive/PHD/Datasets/isic2018/ISIC2018_Task3_Test_Input/'\n",
        "filepaths = sorted( filter( lambda x: (os.path.isfile(os.path.join(dir_test, x))) and (x.endswith('.jpg')),\n",
        "                        os.listdir(dir_test) ) )"
      ]
    },
    {
      "cell_type": "code",
      "execution_count": null,
      "metadata": {
        "id": "6ic95mefkpG3"
      },
      "outputs": [],
      "source": [
        "df_test = pd.DataFrame(filepaths, columns =['image'])\n",
        "df_test['FilePaths'] = dir_test + df_test['image']\n",
        "#df_test"
      ]
    },
    {
      "cell_type": "code",
      "execution_count": null,
      "metadata": {
        "id": "NBa1TxPuY8ni"
      },
      "outputs": [],
      "source": [
        "df_test['image_px'] = df_test['FilePaths'].map(lambda x: np.asarray(Image.open(x).resize(IMG_SIZE)))"
      ]
    },
    {
      "cell_type": "code",
      "execution_count": null,
      "metadata": {
        "id": "60LYAT7VsNOZ"
      },
      "outputs": [],
      "source": [
        "X_test = np.asarray(df_test['image_px'].tolist())\n",
        "print(np.array(X_test).shape)"
      ]
    },
    {
      "cell_type": "code",
      "execution_count": null,
      "metadata": {
        "id": "cXnnIIwC4cHE"
      },
      "outputs": [],
      "source": [
        "#preprocess\n",
        "X_test = preprocess_image_input(X_test)"
      ]
    },
    {
      "cell_type": "markdown",
      "metadata": {
        "id": "FF7ml90JZ8FK"
      },
      "source": [
        "Calculate y_pred from training and testing for analysis"
      ]
    },
    {
      "cell_type": "code",
      "execution_count": null,
      "metadata": {
        "id": "dIX0AmEFNv3Y"
      },
      "outputs": [],
      "source": [
        "# predicting\n",
        "Y_pred2 = best_model.predict(X_test)\n",
        "print(\"Y_pred2\", Y_pred2.shape)"
      ]
    },
    {
      "cell_type": "code",
      "execution_count": null,
      "metadata": {
        "id": "7oeArO5CtxGb"
      },
      "outputs": [],
      "source": [
        "df_pred = pd.DataFrame(Y_pred2, columns = ['AKIEC', 'BCC', 'BKL', 'DF', 'MEL', 'NV', 'VASC'])\n",
        "df_pred['image'] = df_test['FilePaths'].map(lambda x: x.replace(dir_test, '').replace('.jpg', ''))\n",
        "df_pred = df_pred[['image', 'MEL', 'NV', 'BCC', 'AKIEC', 'BKL', 'DF', 'VASC']]\n",
        "df_pred.set_index(\"image\", inplace = True)"
      ]
    },
    {
      "cell_type": "code",
      "execution_count": null,
      "metadata": {
        "id": "9ynyd8PjT589"
      },
      "outputs": [],
      "source": [
        "#update MEL data using cut-off value\n",
        "df_pred.MEL[df_pred.MEL > i] = 1"
      ]
    },
    {
      "cell_type": "code",
      "execution_count": null,
      "metadata": {
        "id": "fjRdONoQVMq0"
      },
      "outputs": [],
      "source": [
        "df_pred.loc[df_pred.MEL > i, ['NV', 'BCC', 'AKIEC', 'BKL', 'DF', 'VASC']] = 0"
      ]
    },
    {
      "cell_type": "code",
      "execution_count": null,
      "metadata": {
        "id": "sOnjc3RJ0e4T"
      },
      "outputs": [],
      "source": [
        "df_pred.to_csv('/content/drive/MyDrive/PHD/Datasets/isic2018/response_SMOTEOversampling_cut-off.csv')"
      ]
    }
  ],
  "metadata": {
    "accelerator": "GPU",
    "colab": {
      "collapsed_sections": [
        "E_x4c0_DTkaa",
        "XDsZpuTROVJ5",
        "RcRGeofw-8tK",
        "uZv-B-ygCD57",
        "cNBXx28B9yGu",
        "0jrJ33lUDkCM",
        "3K908bbiYwbS"
      ],
      "machine_shape": "hm",
      "provenance": [],
      "include_colab_link": true
    },
    "gpuClass": "standard",
    "kernelspec": {
      "display_name": "Python 3",
      "name": "python3"
    },
    "language_info": {
      "name": "python"
    }
  },
  "nbformat": 4,
  "nbformat_minor": 0
}
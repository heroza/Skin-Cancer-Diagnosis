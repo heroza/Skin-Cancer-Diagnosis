{
  "cells": [
    {
      "cell_type": "markdown",
      "metadata": {
        "id": "view-in-github",
        "colab_type": "text"
      },
      "source": [
        "<a href=\"https://colab.research.google.com/github/heroza/Skin-Cancer-Diagnosis/blob/main/Skin_Cancer_Diagnosis_using_ISIC_2018_Dataset.ipynb\" target=\"_parent\"><img src=\"https://colab.research.google.com/assets/colab-badge.svg\" alt=\"Open In Colab\"/></a>"
      ]
    },
    {
      "cell_type": "markdown",
      "metadata": {
        "id": "PUusDE1Z9TNb"
      },
      "source": [
        "Prepare the dataset. \n",
        "Currently, we use skin cancer ISIC dataset from Kaggle https://www.kaggle.com/datasets/nodoubttome/skin-cancer9-classesisic\n",
        "\n",
        "Tutorial for how to load Kaggle dataset can be found in https://www.analyticsvidhya.com/blog/2021/06/how-to-load-kaggle-datasets-directly-into-google-colab/"
      ]
    },
    {
      "cell_type": "code",
      "execution_count": 1,
      "metadata": {
        "colab": {
          "base_uri": "https://localhost:8080/"
        },
        "id": "Eus_4tUgfEk9",
        "outputId": "baeaa36f-823b-4d9b-80db-fda6ef4e6e8d"
      },
      "outputs": [
        {
          "output_type": "stream",
          "name": "stdout",
          "text": [
            "Mounted at /content/drive\n"
          ]
        }
      ],
      "source": [
        "from google.colab import drive\n",
        "drive.mount('/content/drive')"
      ]
    },
    {
      "cell_type": "markdown",
      "metadata": {
        "id": "RcRGeofw-8tK"
      },
      "source": [
        "#Load Data"
      ]
    },
    {
      "cell_type": "code",
      "execution_count": 2,
      "metadata": {
        "colab": {
          "base_uri": "https://localhost:8080/"
        },
        "id": "nR2MJBYq-oiB",
        "outputId": "496f0242-c90d-442c-c653-8ff800d50492"
      },
      "outputs": [
        {
          "output_type": "stream",
          "name": "stdout",
          "text": [
            "Looking in indexes: https://pypi.org/simple, https://us-python.pkg.dev/colab-wheels/public/simple/\n",
            "Requirement already satisfied: imbalanced-learn in /usr/local/lib/python3.7/dist-packages (0.8.1)\n",
            "Requirement already satisfied: numpy>=1.13.3 in /usr/local/lib/python3.7/dist-packages (from imbalanced-learn) (1.21.6)\n",
            "Requirement already satisfied: scikit-learn>=0.24 in /usr/local/lib/python3.7/dist-packages (from imbalanced-learn) (1.0.2)\n",
            "Requirement already satisfied: scipy>=0.19.1 in /usr/local/lib/python3.7/dist-packages (from imbalanced-learn) (1.7.3)\n",
            "Requirement already satisfied: joblib>=0.11 in /usr/local/lib/python3.7/dist-packages (from imbalanced-learn) (1.1.0)\n",
            "Requirement already satisfied: threadpoolctl>=2.0.0 in /usr/local/lib/python3.7/dist-packages (from scikit-learn>=0.24->imbalanced-learn) (3.1.0)\n"
          ]
        }
      ],
      "source": [
        "import pandas as pd\n",
        "import numpy as np\n",
        "import tensorflow as tf\n",
        "import matplotlib.pyplot as plt\n",
        "import seaborn as sns\n",
        "import os\n",
        "from pathlib import Path\n",
        "from PIL import Image\n",
        "from sklearn import preprocessing\n",
        "from sklearn.metrics import precision_recall_fscore_support, balanced_accuracy_score, confusion_matrix\n",
        "from keras.callbacks import ReduceLROnPlateau, EarlyStopping, ModelCheckpoint\n",
        "from keras.preprocessing.image import ImageDataGenerator\n",
        "from tensorflow import keras\n",
        "from tensorflow.keras import layers\n",
        "from tensorflow.keras.optimizers import Adam, SGD\n",
        "from tensorflow.keras.preprocessing import image\n",
        "from tensorflow.keras.applications.resnet50 import ResNet50, preprocess_input, decode_predictions\n",
        "from tensorflow.keras.layers import GlobalAveragePooling2D, Dense, Input, Dropout, Flatten\n",
        "from tensorflow.keras.models import Model, load_model\n",
        "\n",
        "!pip install imbalanced-learn\n",
        "import imblearn\n",
        "from imblearn.over_sampling import SMOTE"
      ]
    },
    {
      "cell_type": "code",
      "execution_count": 3,
      "metadata": {
        "id": "3mnEebdJH6Ex"
      },
      "outputs": [],
      "source": [
        "df_train = pd.read_csv('/content/drive/MyDrive/PHD/Datasets/isic2018/ISIC2018_Task3_Training_GroundTruth/ISIC2018_Task3_Training_GroundTruth.csv') \n",
        "df_val = pd.read_csv('/content/drive/MyDrive/PHD/Datasets/isic2018/ISIC2018_Task3_Validation_GroundTruth/ISIC2018_Task3_Validation_GroundTruth.csv') \n",
        "num_classes = 7\n",
        "#df_train"
      ]
    },
    {
      "cell_type": "code",
      "execution_count": 4,
      "metadata": {
        "id": "aFSe3uekK67v"
      },
      "outputs": [],
      "source": [
        "#decode one hot label\n",
        "df_train[\"Labels\"] = (df_train.iloc[:, 1:]).idxmax(axis=1)\n",
        "df_val[\"Labels\"] = (df_val.iloc[:, 1:]).idxmax(axis=1)\n",
        "\n",
        "#drop one-hot column\n",
        "df_train = df_train.drop(columns=['MEL', 'NV', 'BCC', 'AKIEC', 'BKL', 'DF', 'VASC'])\n",
        "df_val = df_val.drop(columns=['MEL', 'NV', 'BCC', 'AKIEC', 'BKL', 'DF', 'VASC'])\n",
        "\n",
        "#make filepaths of the image\n",
        "dir_train = '/content/drive/MyDrive/PHD/Datasets/isic2018/ISIC2018_Task3_Training_Input/'\n",
        "dir_val = '/content/drive/MyDrive/PHD/Datasets/isic2018/ISIC2018_Task3_Validation_Input/'\n",
        "df_train['FilePaths'] = dir_train + df_train['image'] + '.jpg'\n",
        "df_val['FilePaths'] = dir_val + df_val['image'] + '.jpg'"
      ]
    },
    {
      "cell_type": "markdown",
      "metadata": {
        "id": "38f3dgvyBqFM"
      },
      "source": [
        "Label Distribution"
      ]
    },
    {
      "cell_type": "code",
      "execution_count": 5,
      "metadata": {
        "colab": {
          "base_uri": "https://localhost:8080/",
          "height": 512
        },
        "id": "2IncA-_o_n5w",
        "outputId": "90f2e054-b6a0-4702-e2ed-59cb1aa6ecae"
      },
      "outputs": [
        {
          "output_type": "execute_result",
          "data": {
            "text/plain": [
              "[Text(0, 0, 'DF'),\n",
              " Text(0, 0, 'VASC'),\n",
              " Text(0, 0, 'AKIEC'),\n",
              " Text(0, 0, 'BCC'),\n",
              " Text(0, 0, 'BKL'),\n",
              " Text(0, 0, 'MEL'),\n",
              " Text(0, 0, 'NV')]"
            ]
          },
          "metadata": {},
          "execution_count": 5
        },
        {
          "output_type": "display_data",
          "data": {
            "text/plain": [
              "<Figure size 1080x432 with 1 Axes>"
            ],
            "image/png": "[encoded data removed]"
          },
          "metadata": {
            "needs_background": "light"
          }
        }
      ],
      "source": [
        "# ordered count of rows per unique label\n",
        "labels_count = df_train['Labels'].value_counts(ascending=True)\n",
        "\n",
        "f = plt.figure(figsize=(15, 6))\n",
        "s = sns.barplot(x=labels_count.index,y=labels_count.values)\n",
        "s.set_xticklabels(s.get_xticklabels(), rotation = 30)"
      ]
    },
    {
      "cell_type": "markdown",
      "metadata": {
        "id": "AnKMKSb4Bkym"
      },
      "source": [
        "Plot 3 images per label"
      ]
    },
    {
      "cell_type": "code",
      "execution_count": 6,
      "metadata": {
        "id": "jdnVuqbFBW3K"
      },
      "outputs": [],
      "source": [
        "def plot_images_per_label(df, label, cols: int, size: tuple):\n",
        "    fig, axs = plt.subplots(nrows=1, ncols=cols, figsize=size)\n",
        "\n",
        "    cntMax = cols\n",
        "    cntCur = 0\n",
        "    for index, row in df.iterrows():\n",
        "        if(row['Labels'] == label and cntCur < cntMax):\n",
        "            axs[cntCur].imshow(plt.imread(df.FilePaths[index]))\n",
        "            axs[cntCur].set_title(df.Labels[index])\n",
        "\n",
        "            cntCur += 1\n",
        "        else:\n",
        "            if(cntCur >= cntMax):\n",
        "                break\n",
        "    \n",
        "    plt.tight_layout()\n",
        "    plt.show()\n",
        "\n",
        "\n",
        "# unique labels\n",
        "labels = sorted(df_train['Labels'].unique())\n",
        "#for label in labels:\n",
        "#    plot_images_per_label(df_train, label, 3, (12,9))"
      ]
    },
    {
      "cell_type": "markdown",
      "metadata": {
        "id": "qRKKrNacAZtl"
      },
      "source": [
        "Drop duplicate images"
      ]
    },
    {
      "cell_type": "code",
      "execution_count": 7,
      "metadata": {
        "id": "ERwfyPDHP-zC"
      },
      "outputs": [],
      "source": [
        "#df_group = pd.read_csv('/content/drive/MyDrive/PHD/Datasets/isic2018/ISIC2018_Task3_Training_LesionGroupings.csv') \n",
        "#df_train = df_train.set_index('image').join(df_group.set_index('image'))\n",
        "#df_train = df_train.drop_duplicates(subset=['lesion_id'])\n"
      ]
    },
    {
      "cell_type": "markdown",
      "metadata": {
        "id": "h35T8vKRVV1Y"
      },
      "source": [
        "Manual undersampling majority class"
      ]
    },
    {
      "cell_type": "code",
      "execution_count": 8,
      "metadata": {
        "id": "BeldhlTdVQlT"
      },
      "outputs": [],
      "source": [
        "df_train = df_train.drop(df_train[df_train['Labels'] == 'NV'].sample(frac=.7).index)"
      ]
    },
    {
      "cell_type": "markdown",
      "metadata": {
        "id": "DKjC59JOB_6d"
      },
      "source": [
        "Prepare X,y"
      ]
    },
    {
      "cell_type": "code",
      "execution_count": 9,
      "metadata": {
        "id": "9-c7Xghg4SB4"
      },
      "outputs": [],
      "source": [
        "# input image size\n",
        "IMAGE_W = 224\n",
        "IMAGE_H = 224\n",
        "IMG_SIZE = (IMAGE_W,IMAGE_H)"
      ]
    },
    {
      "cell_type": "code",
      "execution_count": 10,
      "metadata": {
        "id": "3jyCpXnlFoQK"
      },
      "outputs": [],
      "source": [
        "#TIME CONSUMING OPERATION\n",
        "#from tensorflow.keras.preprocessing.image import load_img, img_to_array\n",
        "#X = []\n",
        "#for img in df['FilePaths']:\n",
        "    #img_arr = load_img(img, target_size=IMG_SIZE)\n",
        "#    with load_img(img, target_size=IMG_SIZE) as img_arr:\n",
        "#      X.append(img_to_array(img_arr))\n",
        "\n",
        "#X = np.array(X)\n",
        "df_train['image_px'] = df_train['FilePaths'].map(lambda x: np.asarray(Image.open(x).resize(IMG_SIZE)))\n",
        "df_val['image_px'] = df_val['FilePaths'].map(lambda x: np.asarray(Image.open(x).resize(IMG_SIZE)))"
      ]
    },
    {
      "cell_type": "code",
      "execution_count": 179,
      "metadata": {
        "colab": {
          "base_uri": "https://localhost:8080/"
        },
        "id": "UZyZMydSgvZo",
        "outputId": "595ae911-5a8d-4ba7-e561-8118ff0b5284"
      },
      "outputs": [
        {
          "output_type": "stream",
          "name": "stdout",
          "text": [
            "(5321, 224, 224, 3)\n",
            "(193, 224, 224, 3)\n"
          ]
        }
      ],
      "source": [
        "X_train = np.asarray(df_train['image_px'].tolist())\n",
        "X_val = np.asarray(df_val['image_px'].tolist())\n",
        "print(np.array(X_train).shape)\n",
        "print(np.array(X_val).shape)"
      ]
    },
    {
      "cell_type": "code",
      "execution_count": 12,
      "metadata": {
        "colab": {
          "base_uri": "https://localhost:8080/"
        },
        "id": "uqYLmicGAjZz",
        "outputId": "3191ece9-ff24-46bc-9099-504a34d077e7"
      },
      "outputs": [
        {
          "output_type": "stream",
          "name": "stdout",
          "text": [
            "Counter({'NV': 2011, 'MEL': 1113, 'BKL': 1099, 'BCC': 514, 'AKIEC': 327, 'VASC': 142, 'DF': 115})\n",
            "(5321,)\n"
          ]
        }
      ],
      "source": [
        "y_train = np.array(df_train['Labels'].values)\n",
        "\n",
        "# summarize class distribution\n",
        "from collections import Counter\n",
        "counter = Counter(y_train)\n",
        "print(counter)\n",
        "print(y_train.shape)"
      ]
    },
    {
      "cell_type": "code",
      "execution_count": 13,
      "metadata": {
        "colab": {
          "base_uri": "https://localhost:8080/"
        },
        "id": "kEuVIGc3g859",
        "outputId": "e3c35ce6-d813-4212-b145-95cbe3a16ce3"
      },
      "outputs": [
        {
          "output_type": "stream",
          "name": "stdout",
          "text": [
            "Counter({'NV': 123, 'BKL': 22, 'MEL': 21, 'BCC': 15, 'AKIEC': 8, 'VASC': 3, 'DF': 1})\n",
            "(193,)\n"
          ]
        }
      ],
      "source": [
        "y_val = np.array(df_val['Labels'].values)\n",
        "print(Counter(y_val))\n",
        "print(y_val.shape)"
      ]
    },
    {
      "cell_type": "code",
      "execution_count": 14,
      "metadata": {
        "colab": {
          "base_uri": "https://localhost:8080/"
        },
        "id": "QfvEVGIQhIr2",
        "outputId": "949de556-fa67-4417-f4dd-9dfa359755e9"
      },
      "outputs": [
        {
          "output_type": "execute_result",
          "data": {
            "text/plain": [
              "array([5, 5, 5, ..., 4, 4, 2])"
            ]
          },
          "metadata": {},
          "execution_count": 14
        }
      ],
      "source": [
        "#label encoding\n",
        "label_encoder = preprocessing.LabelEncoder()\n",
        "y_train = label_encoder.fit_transform(y_train)\n",
        "y_val = label_encoder.fit_transform(y_val)\n",
        "y_train"
      ]
    },
    {
      "cell_type": "markdown",
      "metadata": {
        "id": "uZv-B-ygCD57"
      },
      "source": [
        "#SMOTE Oversampling"
      ]
    },
    {
      "cell_type": "code",
      "execution_count": null,
      "metadata": {
        "id": "RDskF1wjGffh"
      },
      "outputs": [],
      "source": [
        "def SMOTE_Data(X, y):\n",
        "  sm = SMOTE(random_state=42, k_neighbors=5)\n",
        "  X_resampled, y_resampled = sm.fit_resample(X.reshape((-1, IMAGE_W * IMAGE_H * 3)), y)\n",
        "  X_resampled.reshape(-1, IMAGE_W, IMAGE_H, 3)\n",
        "  return X_resampled, y_resampled"
      ]
    },
    {
      "cell_type": "code",
      "execution_count": null,
      "metadata": {
        "colab": {
          "base_uri": "https://localhost:8080/"
        },
        "id": "brshqGvOCDJL",
        "outputId": "69cd1efa-ecf2-4066-fcb2-6e76150c29a3"
      },
      "outputs": [
        {
          "name": "stdout",
          "output_type": "stream",
          "text": [
            "(32851, 150528)\n",
            "(32851,)\n"
          ]
        }
      ],
      "source": [
        "X_train, y_train = SMOTE_Data(X_train, y_train) #beware of the actual parameter\n",
        "print(X_train.shape)\n",
        "print(y_train.shape)"
      ]
    },
    {
      "cell_type": "code",
      "execution_count": null,
      "metadata": {
        "colab": {
          "base_uri": "https://localhost:8080/"
        },
        "id": "8GfOtcbV5vVZ",
        "outputId": "835b01d9-1627-4c85-fde0-c4a58a2ace7f"
      },
      "outputs": [
        {
          "name": "stdout",
          "output_type": "stream",
          "text": [
            "Counter({5: 4693, 4: 4693, 2: 4693, 3: 4693, 0: 4693, 1: 4693, 6: 4693})\n"
          ]
        }
      ],
      "source": [
        "counter = Counter(y_train)\n",
        "print(counter)"
      ]
    },
    {
      "cell_type": "code",
      "execution_count": null,
      "metadata": {
        "colab": {
          "base_uri": "https://localhost:8080/"
        },
        "id": "dl-nmACZOZpg",
        "outputId": "b35b1691-9cd5-4b83-ccf6-2b4cfdfd8fcc"
      },
      "outputs": [
        {
          "name": "stdout",
          "output_type": "stream",
          "text": [
            "X_train shape:  (32851, 224, 224, 3)\n"
          ]
        }
      ],
      "source": [
        "X_train = X_train.reshape(-1, IMAGE_W, IMAGE_H, 3)\n",
        "print('X_train shape: ',X_train.shape)"
      ]
    },
    {
      "cell_type": "markdown",
      "metadata": {
        "id": "cNBXx28B9yGu"
      },
      "source": [
        "#DeepSMOTE Oversampling"
      ]
    },
    {
      "cell_type": "code",
      "execution_count": null,
      "metadata": {
        "id": "RAxUkXy8ueYG"
      },
      "outputs": [],
      "source": [
        "#Normalization\n",
        "#X_train_mean = np.mean(X_train)\n",
        "#X_train_std = np.std(X_train)\n",
        "\n",
        "#X_train = (X_train - X_train_mean)/X_train_std\n",
        "#X_val = (X_val - X_train_mean)/X_train_std"
      ]
    },
    {
      "cell_type": "code",
      "execution_count": null,
      "metadata": {
        "id": "h-Xqj-WQ90L_"
      },
      "outputs": [],
      "source": [
        "#optional\n",
        "#X=X_train\n",
        "#y=y_train\n",
        "\n",
        "from numpy import moveaxis\n",
        "X_train = moveaxis(X_train, 3, 1)\n",
        "X_train = X_train.astype('float32') / 255.\n",
        "#dec_x = X_train \n",
        "#dec_y = y\n",
        "\n",
        "#create counter for encoder\n",
        "counter = sorted(counter.items())\n",
        "counter = [value for _, value in counter]"
      ]
    },
    {
      "cell_type": "code",
      "execution_count": null,
      "metadata": {
        "colab": {
          "base_uri": "https://localhost:8080/"
        },
        "id": "0kMMmX7r-fV5",
        "outputId": "6e64d509-8163-41f8-a5a3-ba1aeeac1244"
      },
      "outputs": [
        {
          "name": "stdout",
          "output_type": "stream",
          "text": [
            "11.3\n"
          ]
        }
      ],
      "source": [
        "import torch\n",
        "import torch.nn as nn\n",
        "from torch.utils.data import TensorDataset\n",
        "from sklearn.neighbors import NearestNeighbors\n",
        "import time\n",
        "import os\n",
        "\n",
        "print(torch.version.cuda) #10.1\n",
        "\n",
        "args = {}\n",
        "args['dim_h'] = 64         # factor controlling size of hidden layers\n",
        "args['n_channel'] = 3#1    # number of channels in the input data \n",
        "\n",
        "args['n_z'] = 600 #300     # number of dimensions in latent space. \n",
        "\n",
        "args['sigma'] = 1.0        # variance in n_z\n",
        "args['lambda'] = 0.01      # hyper param for weight of discriminator loss\n",
        "args['lr'] = 0.0002        # learning rate for Adam optimizer .000\n",
        "args['epochs'] = 300       # how many epochs to run for\n",
        "args['batch_size'] = 12   # batch size for SGD\n",
        "args['save'] = True        # save weights at each epoch of training if True\n",
        "args['train'] = True       # train networks if True, else load networks from\n",
        "\n",
        "args['patience'] = 20\n",
        "\n",
        "## create encoder model and decoder model\n",
        "class Encoder(nn.Module):\n",
        "    def __init__(self, args):\n",
        "        super(Encoder, self).__init__()\n",
        "\n",
        "        self.n_channel = args['n_channel']\n",
        "        self.dim_h = args['dim_h']\n",
        "        self.n_z = args['n_z']\n",
        "        \n",
        "        # convolutional filters, work excellent with image data\n",
        "        self.conv = nn.Sequential(\n",
        "            nn.Conv2d(self.n_channel, self.dim_h, 4, 2, 1, bias=False),\n",
        "            #nn.ReLU(True),\n",
        "            nn.LeakyReLU(0.2, inplace=True),\n",
        "            nn.Conv2d(self.dim_h, self.dim_h * 2, 4, 2, 1, bias=False),\n",
        "            nn.BatchNorm2d(self.dim_h * 2),\n",
        "            #nn.ReLU(True),\n",
        "            nn.LeakyReLU(0.2, inplace=True),\n",
        "            nn.Conv2d(self.dim_h * 2, self.dim_h * 4, 4, 2, 1, bias=False),\n",
        "            nn.BatchNorm2d(self.dim_h * 4),\n",
        "            #nn.ReLU(True),\n",
        "            nn.LeakyReLU(0.2, inplace=True),\n",
        "            \n",
        "            \n",
        "            #nn.Conv2d(self.dim_h * 4, self.dim_h * 8, 4, 2, 0, bias=False),\n",
        "            \n",
        "            #3d and 32 by 32\n",
        "            nn.Conv2d(self.dim_h * 4, self.dim_h * 8, 4, 1, 0, bias=False),\n",
        "            \n",
        "            nn.BatchNorm2d(self.dim_h * 8), # 40 X 8 = 320\n",
        "            #nn.ReLU(True),\n",
        "            nn.LeakyReLU(0.2, inplace=True) )#,\n",
        "            #nn.Conv2d(self.dim_h * 8, 1, 2, 1, 0, bias=False))\n",
        "            #nn.Conv2d(self.dim_h * 8, 1, 4, 1, 0, bias=False))\n",
        "        # final layer is fully connected\n",
        "        self.fc = nn.Linear(self.dim_h * (2 ** 3), self.n_z)\n",
        "        \n",
        "\n",
        "    def forward(self, x):\n",
        "        #print('enc')\n",
        "        #print('input ',x.size()) #torch.Size([100, 3,32,32])\n",
        "        x = self.conv(x)\n",
        "        \n",
        "        x = x.squeeze()\n",
        "        #print('aft squeeze ',x.size()) #torch.Size([128, 320])\n",
        "        #aft squeeze  torch.Size([100, 320])\n",
        "        x = self.fc(x)\n",
        "        #print('out ',x.size()) #torch.Size([128, 20])\n",
        "        #out  torch.Size([100, 300])\n",
        "        return x\n",
        "\n",
        "\n",
        "class Decoder(nn.Module):\n",
        "    def __init__(self, args):\n",
        "        super(Decoder, self).__init__()\n",
        "\n",
        "        self.n_channel = args['n_channel']\n",
        "        self.dim_h = args['dim_h']\n",
        "        self.n_z = args['n_z']\n",
        "\n",
        "        # first layer is fully connected\n",
        "        self.fc = nn.Sequential(\n",
        "            nn.Linear(self.n_z, self.dim_h * 2**4 * 8 * 8),\n",
        "            nn.ReLU())\n",
        "\n",
        "        # deconvolutional filters, essentially inverse of convolutional filters\n",
        "        self.deconv = nn.Sequential(\n",
        "            nn.ConvTranspose2d(self.dim_h * 16, self.dim_h * 8, 4),\n",
        "            nn.BatchNorm2d(self.dim_h * 8),\n",
        "            nn.ReLU(True),\n",
        "            nn.ConvTranspose2d(self.dim_h * 8, self.dim_h * 4, 4),\n",
        "            nn.BatchNorm2d(self.dim_h * 4),\n",
        "            nn.ReLU(True),\n",
        "            nn.ConvTranspose2d(self.dim_h * 4, self.dim_h * 2, 4),\n",
        "            nn.BatchNorm2d(self.dim_h * 2),\n",
        "            nn.ReLU(True),\n",
        "            nn.ConvTranspose2d(self.dim_h * 2, 3, 4, stride=2, padding=2),\n",
        "            #nn.Sigmoid())\n",
        "            nn.Tanh())\n",
        "\n",
        "    def forward(self, x):\n",
        "        #print('dec')\n",
        "        #print('input ',x.size())\n",
        "        x = self.fc(x)\n",
        "        x = x.view(-1, self.dim_h * 2**4, 8, 8)\n",
        "        x = self.deconv(x)\n",
        "        return x\n",
        "\n",
        "##############################################################################\n",
        "\"\"\"set models, loss functions\"\"\"\n",
        "# control which parameters are frozen / free for optimization\n",
        "def free_params(module: nn.Module):\n",
        "    for p in module.parameters():\n",
        "        p.requires_grad = True\n",
        "\n",
        "def frozen_params(module: nn.Module):\n",
        "    for p in module.parameters():\n",
        "        p.requires_grad = False\n",
        "\n",
        "\n",
        "##############################################################################\n",
        "\"\"\"functions to create SMOTE images\"\"\"\n",
        "\n",
        "def biased_get_class(X, y, c):\n",
        "    \n",
        "    xbeg = X[y == c]\n",
        "    ybeg = y[y == c]\n",
        "    \n",
        "    return xbeg, ybeg\n",
        "    #return xclass, yclass\n",
        "\n",
        "\n",
        "def G_SM(X, y,n_to_sample,cl):\n",
        "\n",
        "    # determining the number of samples to generate\n",
        "    #n_to_sample = 10 \n",
        "\n",
        "    # fitting the model\n",
        "    n_neigh = 6\n",
        "    nn = NearestNeighbors(n_neighbors=n_neigh, n_jobs=1)\n",
        "    nn.fit(X)\n",
        "    dist, ind = nn.kneighbors(X)\n",
        "\n",
        "    # generating samples\n",
        "    base_indices = np.random.choice(list(range(len(X))),n_to_sample)\n",
        "    neighbor_indices = np.random.choice(list(range(1, n_neigh)),n_to_sample)\n",
        "\n",
        "    X_base = X[base_indices]\n",
        "    X_neighbor = X[ind[base_indices, neighbor_indices]]\n",
        "\n",
        "    samples = X_base + np.multiply(np.random.rand(n_to_sample,1),\n",
        "            X_neighbor - X_base)\n",
        "\n",
        "    #use 10 as label because 0 to 9 real classes and 1 fake/smoted = 10\n",
        "    return samples, [cl]*n_to_sample\n",
        "\n",
        "#xsamp, ysamp = SM(xclass,yclass)"
      ]
    },
    {
      "cell_type": "code",
      "execution_count": null,
      "metadata": {
        "colab": {
          "background_save": true,
          "base_uri": "https://localhost:8080/"
        },
        "id": "oHtLISURIMTg",
        "outputId": "3c2a9014-8236-44ed-c938-7cf534e4ca39"
      },
      "outputs": [
        {
          "name": "stdout",
          "output_type": "stream",
          "text": [
            "cuda\n",
            "Epoch: 0 \tTrain Loss: 0.610381 \tmse loss: 0.318809 \tmse2 loss: 0.291571\n",
            "Saving..\n",
            "Epoch: 1 \tTrain Loss: 0.156314 \tmse loss: 0.081827 \tmse2 loss: 0.074487\n",
            "Saving..\n",
            "Epoch: 2 \tTrain Loss: 0.122643 \tmse loss: 0.064346 \tmse2 loss: 0.058297\n",
            "Saving..\n",
            "Epoch: 3 \tTrain Loss: 0.104264 \tmse loss: 0.056006 \tmse2 loss: 0.048258\n",
            "Saving..\n",
            "Epoch: 4 \tTrain Loss: 0.094684 \tmse loss: 0.051268 \tmse2 loss: 0.043416\n",
            "Saving..\n",
            "Epoch: 5 \tTrain Loss: 0.085152 \tmse loss: 0.046846 \tmse2 loss: 0.038307\n",
            "Saving..\n",
            "Epoch: 6 \tTrain Loss: 0.079042 \tmse loss: 0.044378 \tmse2 loss: 0.034665\n",
            "Saving..\n",
            "Epoch: 7 \tTrain Loss: 0.077456 \tmse loss: 0.043071 \tmse2 loss: 0.034385\n",
            "Saving..\n",
            "Epoch: 8 \tTrain Loss: 0.070160 \tmse loss: 0.039750 \tmse2 loss: 0.030410\n",
            "Saving..\n",
            "Epoch: 9 \tTrain Loss: 0.066997 \tmse loss: 0.038873 \tmse2 loss: 0.028124\n",
            "Saving..\n",
            "Epoch: 10 \tTrain Loss: 0.065848 \tmse loss: 0.038258 \tmse2 loss: 0.027590\n",
            "Saving..\n",
            "Epoch: 11 \tTrain Loss: 0.064435 \tmse loss: 0.037299 \tmse2 loss: 0.027135\n",
            "Saving..\n",
            "Epoch: 12 \tTrain Loss: 0.058701 \tmse loss: 0.034630 \tmse2 loss: 0.024071\n",
            "Saving..\n",
            "Epoch: 13 \tTrain Loss: 0.054673 \tmse loss: 0.032533 \tmse2 loss: 0.022141\n",
            "Saving..\n",
            "Epoch: 14 \tTrain Loss: 0.052829 \tmse loss: 0.031594 \tmse2 loss: 0.021235\n",
            "Saving..\n",
            "Epoch: 15 \tTrain Loss: 0.053818 \tmse loss: 0.032062 \tmse2 loss: 0.021756\n",
            "Epoch: 16 \tTrain Loss: 0.050689 \tmse loss: 0.030790 \tmse2 loss: 0.019899\n",
            "Saving..\n",
            "Epoch: 17 \tTrain Loss: 0.047679 \tmse loss: 0.029072 \tmse2 loss: 0.018607\n",
            "Saving..\n",
            "Epoch: 18 \tTrain Loss: 0.045814 \tmse loss: 0.028188 \tmse2 loss: 0.017627\n",
            "Saving..\n",
            "Epoch: 19 \tTrain Loss: 0.043147 \tmse loss: 0.026314 \tmse2 loss: 0.016833\n",
            "Saving..\n",
            "Epoch: 20 \tTrain Loss: 0.042771 \tmse loss: 0.026631 \tmse2 loss: 0.016139\n",
            "Saving..\n",
            "Epoch: 21 \tTrain Loss: 0.038895 \tmse loss: 0.024140 \tmse2 loss: 0.014754\n",
            "Saving..\n",
            "Epoch: 22 \tTrain Loss: 0.039646 \tmse loss: 0.024615 \tmse2 loss: 0.015031\n",
            "Epoch: 23 \tTrain Loss: 0.037996 \tmse loss: 0.023383 \tmse2 loss: 0.014613\n",
            "Saving..\n",
            "Epoch: 24 \tTrain Loss: 0.037236 \tmse loss: 0.023173 \tmse2 loss: 0.014063\n",
            "Saving..\n",
            "Epoch: 25 \tTrain Loss: 0.034592 \tmse loss: 0.021773 \tmse2 loss: 0.012818\n",
            "Saving..\n",
            "Epoch: 26 \tTrain Loss: 0.034419 \tmse loss: 0.021875 \tmse2 loss: 0.012543\n",
            "Saving..\n",
            "Epoch: 27 \tTrain Loss: 0.034299 \tmse loss: 0.021906 \tmse2 loss: 0.012393\n",
            "Saving..\n",
            "Epoch: 28 \tTrain Loss: 0.032516 \tmse loss: 0.020699 \tmse2 loss: 0.011818\n",
            "Saving..\n",
            "Epoch: 29 \tTrain Loss: 0.030791 \tmse loss: 0.019514 \tmse2 loss: 0.011277\n",
            "Saving..\n",
            "Epoch: 30 \tTrain Loss: 0.030056 \tmse loss: 0.019394 \tmse2 loss: 0.010662\n",
            "Saving..\n",
            "Epoch: 31 \tTrain Loss: 0.028422 \tmse loss: 0.018462 \tmse2 loss: 0.009960\n",
            "Saving..\n",
            "Epoch: 32 \tTrain Loss: 0.028033 \tmse loss: 0.018082 \tmse2 loss: 0.009951\n",
            "Saving..\n",
            "Epoch: 33 \tTrain Loss: 0.027334 \tmse loss: 0.017879 \tmse2 loss: 0.009455\n",
            "Saving..\n",
            "Epoch: 34 \tTrain Loss: 0.027319 \tmse loss: 0.017620 \tmse2 loss: 0.009698\n",
            "Saving..\n",
            "Epoch: 35 \tTrain Loss: 0.026480 \tmse loss: 0.017170 \tmse2 loss: 0.009309\n",
            "Saving..\n",
            "Epoch: 36 \tTrain Loss: 0.026360 \tmse loss: 0.017114 \tmse2 loss: 0.009246\n",
            "Saving..\n",
            "Epoch: 37 \tTrain Loss: 0.024962 \tmse loss: 0.016327 \tmse2 loss: 0.008636\n",
            "Saving..\n",
            "Epoch: 38 \tTrain Loss: 0.024123 \tmse loss: 0.015833 \tmse2 loss: 0.008290\n",
            "Saving..\n",
            "Epoch: 39 \tTrain Loss: 0.023904 \tmse loss: 0.015556 \tmse2 loss: 0.008347\n",
            "Saving..\n",
            "Epoch: 40 \tTrain Loss: 0.022242 \tmse loss: 0.014694 \tmse2 loss: 0.007548\n",
            "Saving..\n",
            "Epoch: 41 \tTrain Loss: 0.023130 \tmse loss: 0.015279 \tmse2 loss: 0.007851\n",
            "Epoch: 42 \tTrain Loss: 0.021489 \tmse loss: 0.014339 \tmse2 loss: 0.007150\n",
            "Saving..\n",
            "Epoch: 43 \tTrain Loss: 0.021795 \tmse loss: 0.014347 \tmse2 loss: 0.007448\n",
            "Epoch: 44 \tTrain Loss: 0.020928 \tmse loss: 0.013956 \tmse2 loss: 0.006972\n",
            "Saving..\n",
            "Epoch: 45 \tTrain Loss: 0.020674 \tmse loss: 0.013728 \tmse2 loss: 0.006946\n",
            "Saving..\n",
            "Epoch: 46 \tTrain Loss: 0.019984 \tmse loss: 0.013368 \tmse2 loss: 0.006616\n",
            "Saving..\n",
            "Epoch: 47 \tTrain Loss: 0.019759 \tmse loss: 0.013058 \tmse2 loss: 0.006702\n",
            "Saving..\n",
            "Epoch: 48 \tTrain Loss: 0.020550 \tmse loss: 0.013738 \tmse2 loss: 0.006812\n",
            "Epoch: 49 \tTrain Loss: 0.019322 \tmse loss: 0.012814 \tmse2 loss: 0.006507\n",
            "Saving..\n",
            "Epoch: 50 \tTrain Loss: 0.018960 \tmse loss: 0.012577 \tmse2 loss: 0.006384\n",
            "Saving..\n",
            "Epoch: 51 \tTrain Loss: 0.020172 \tmse loss: 0.013231 \tmse2 loss: 0.006941\n",
            "Epoch: 52 \tTrain Loss: 0.019502 \tmse loss: 0.013010 \tmse2 loss: 0.006492\n",
            "Epoch: 53 \tTrain Loss: 0.017952 \tmse loss: 0.011884 \tmse2 loss: 0.006067\n",
            "Saving..\n",
            "Epoch: 54 \tTrain Loss: 0.017392 \tmse loss: 0.011692 \tmse2 loss: 0.005701\n",
            "Saving..\n",
            "Epoch: 55 \tTrain Loss: 0.017671 \tmse loss: 0.011815 \tmse2 loss: 0.005856\n",
            "Epoch: 56 \tTrain Loss: 0.018032 \tmse loss: 0.012093 \tmse2 loss: 0.005939\n",
            "Epoch: 57 \tTrain Loss: 0.017471 \tmse loss: 0.011803 \tmse2 loss: 0.005668\n",
            "Epoch: 58 \tTrain Loss: 0.016957 \tmse loss: 0.011427 \tmse2 loss: 0.005530\n",
            "Saving..\n",
            "Epoch: 59 \tTrain Loss: 0.016498 \tmse loss: 0.011149 \tmse2 loss: 0.005349\n",
            "Saving..\n",
            "Epoch: 60 \tTrain Loss: 0.016042 \tmse loss: 0.010738 \tmse2 loss: 0.005304\n",
            "Saving..\n",
            "Epoch: 61 \tTrain Loss: 0.015801 \tmse loss: 0.010663 \tmse2 loss: 0.005138\n",
            "Saving..\n",
            "Epoch: 62 \tTrain Loss: 0.015618 \tmse loss: 0.010490 \tmse2 loss: 0.005129\n",
            "Saving..\n",
            "Epoch: 63 \tTrain Loss: 0.016105 \tmse loss: 0.010786 \tmse2 loss: 0.005319\n",
            "Epoch: 64 \tTrain Loss: 0.015004 \tmse loss: 0.010184 \tmse2 loss: 0.004821\n",
            "Saving..\n",
            "Epoch: 65 \tTrain Loss: 0.015077 \tmse loss: 0.010194 \tmse2 loss: 0.004883\n",
            "Epoch: 66 \tTrain Loss: 0.014802 \tmse loss: 0.009985 \tmse2 loss: 0.004817\n",
            "Saving..\n",
            "Epoch: 67 \tTrain Loss: 0.014560 \tmse loss: 0.009884 \tmse2 loss: 0.004676\n",
            "Saving..\n",
            "Epoch: 68 \tTrain Loss: 0.014312 \tmse loss: 0.009619 \tmse2 loss: 0.004692\n",
            "Saving..\n",
            "Epoch: 69 \tTrain Loss: 0.014541 \tmse loss: 0.009746 \tmse2 loss: 0.004795\n",
            "Epoch: 70 \tTrain Loss: 0.014178 \tmse loss: 0.009565 \tmse2 loss: 0.004613\n",
            "Saving..\n",
            "Epoch: 71 \tTrain Loss: 0.014344 \tmse loss: 0.009644 \tmse2 loss: 0.004700\n",
            "Epoch: 72 \tTrain Loss: 0.014120 \tmse loss: 0.009548 \tmse2 loss: 0.004572\n",
            "Saving..\n",
            "Epoch: 73 \tTrain Loss: 0.013265 \tmse loss: 0.008995 \tmse2 loss: 0.004270\n",
            "Saving..\n",
            "Epoch: 74 \tTrain Loss: 0.013443 \tmse loss: 0.009033 \tmse2 loss: 0.004411\n",
            "Epoch: 75 \tTrain Loss: 0.013623 \tmse loss: 0.009332 \tmse2 loss: 0.004291\n",
            "Epoch: 76 \tTrain Loss: 0.012842 \tmse loss: 0.008615 \tmse2 loss: 0.004227\n",
            "Saving..\n",
            "Epoch: 77 \tTrain Loss: 0.013178 \tmse loss: 0.008950 \tmse2 loss: 0.004228\n",
            "Epoch: 78 \tTrain Loss: 0.013539 \tmse loss: 0.009199 \tmse2 loss: 0.004340\n",
            "Epoch: 79 \tTrain Loss: 0.012730 \tmse loss: 0.008673 \tmse2 loss: 0.004058\n",
            "Saving..\n",
            "Epoch: 80 \tTrain Loss: 0.012310 \tmse loss: 0.008349 \tmse2 loss: 0.003961\n",
            "Saving..\n",
            "Epoch: 81 \tTrain Loss: 0.012168 \tmse loss: 0.008233 \tmse2 loss: 0.003935\n",
            "Saving..\n",
            "Epoch: 82 \tTrain Loss: 0.012518 \tmse loss: 0.008450 \tmse2 loss: 0.004068\n",
            "Epoch: 83 \tTrain Loss: 0.011971 \tmse loss: 0.008168 \tmse2 loss: 0.003802\n",
            "Saving..\n",
            "Epoch: 84 \tTrain Loss: 0.012115 \tmse loss: 0.008272 \tmse2 loss: 0.003843\n",
            "Epoch: 85 \tTrain Loss: 0.011899 \tmse loss: 0.008157 \tmse2 loss: 0.003742\n",
            "Saving..\n",
            "Epoch: 86 \tTrain Loss: 0.011966 \tmse loss: 0.008301 \tmse2 loss: 0.003665\n",
            "Epoch: 87 \tTrain Loss: 0.011663 \tmse loss: 0.008037 \tmse2 loss: 0.003626\n",
            "Saving..\n",
            "Epoch: 88 \tTrain Loss: 0.011480 \tmse loss: 0.007836 \tmse2 loss: 0.003644\n",
            "Saving..\n",
            "Epoch: 89 \tTrain Loss: 0.011494 \tmse loss: 0.007840 \tmse2 loss: 0.003654\n",
            "Epoch: 90 \tTrain Loss: 0.011816 \tmse loss: 0.007993 \tmse2 loss: 0.003822\n",
            "Epoch: 91 \tTrain Loss: 0.011703 \tmse loss: 0.007843 \tmse2 loss: 0.003861\n",
            "Epoch: 92 \tTrain Loss: 0.010740 \tmse loss: 0.007436 \tmse2 loss: 0.003304\n",
            "Saving..\n",
            "Epoch: 93 \tTrain Loss: 0.010922 \tmse loss: 0.007417 \tmse2 loss: 0.003505\n",
            "Epoch: 94 \tTrain Loss: 0.010691 \tmse loss: 0.007305 \tmse2 loss: 0.003386\n",
            "Saving..\n",
            "Epoch: 95 \tTrain Loss: 0.010783 \tmse loss: 0.007387 \tmse2 loss: 0.003396\n",
            "Epoch: 96 \tTrain Loss: 0.010514 \tmse loss: 0.007175 \tmse2 loss: 0.003339\n",
            "Saving..\n",
            "Epoch: 97 \tTrain Loss: 0.010314 \tmse loss: 0.007095 \tmse2 loss: 0.003219\n",
            "Saving..\n",
            "Epoch: 98 \tTrain Loss: 0.010381 \tmse loss: 0.007078 \tmse2 loss: 0.003303\n",
            "Epoch: 99 \tTrain Loss: 0.010283 \tmse loss: 0.007092 \tmse2 loss: 0.003191\n",
            "Saving..\n",
            "Epoch: 100 \tTrain Loss: 0.010435 \tmse loss: 0.007166 \tmse2 loss: 0.003269\n",
            "Epoch: 101 \tTrain Loss: 0.010044 \tmse loss: 0.006864 \tmse2 loss: 0.003180\n",
            "Saving..\n",
            "Epoch: 102 \tTrain Loss: 0.010528 \tmse loss: 0.007225 \tmse2 loss: 0.003303\n",
            "Epoch: 103 \tTrain Loss: 0.009853 \tmse loss: 0.006850 \tmse2 loss: 0.003002\n",
            "Saving..\n",
            "Epoch: 104 \tTrain Loss: 0.009681 \tmse loss: 0.006692 \tmse2 loss: 0.002988\n",
            "Saving..\n",
            "Epoch: 105 \tTrain Loss: 0.010108 \tmse loss: 0.006980 \tmse2 loss: 0.003128\n",
            "Epoch: 106 \tTrain Loss: 0.009788 \tmse loss: 0.006702 \tmse2 loss: 0.003086\n",
            "Epoch: 107 \tTrain Loss: 0.010047 \tmse loss: 0.006828 \tmse2 loss: 0.003219\n",
            "Epoch: 108 \tTrain Loss: 0.009424 \tmse loss: 0.006478 \tmse2 loss: 0.002946\n",
            "Saving..\n",
            "Epoch: 109 \tTrain Loss: 0.009296 \tmse loss: 0.006409 \tmse2 loss: 0.002887\n",
            "Saving..\n",
            "Epoch: 110 \tTrain Loss: 0.009328 \tmse loss: 0.006402 \tmse2 loss: 0.002926\n",
            "Epoch: 111 \tTrain Loss: 0.009434 \tmse loss: 0.006501 \tmse2 loss: 0.002933\n",
            "Epoch: 112 \tTrain Loss: 0.009416 \tmse loss: 0.006462 \tmse2 loss: 0.002954\n",
            "Epoch: 113 \tTrain Loss: 0.010648 \tmse loss: 0.007224 \tmse2 loss: 0.003424\n",
            "Epoch: 114 \tTrain Loss: 0.009508 \tmse loss: 0.006634 \tmse2 loss: 0.002874\n",
            "Epoch: 115 \tTrain Loss: 0.008886 \tmse loss: 0.006181 \tmse2 loss: 0.002705\n",
            "Saving..\n",
            "Epoch: 116 \tTrain Loss: 0.008665 \tmse loss: 0.006000 \tmse2 loss: 0.002665\n",
            "Saving..\n",
            "Epoch: 117 \tTrain Loss: 0.008503 \tmse loss: 0.005974 \tmse2 loss: 0.002529\n",
            "Saving..\n",
            "Epoch: 118 \tTrain Loss: 0.008851 \tmse loss: 0.006150 \tmse2 loss: 0.002701\n",
            "Epoch: 119 \tTrain Loss: 0.008653 \tmse loss: 0.005941 \tmse2 loss: 0.002712\n",
            "Epoch: 120 \tTrain Loss: 0.008476 \tmse loss: 0.005869 \tmse2 loss: 0.002607\n",
            "Saving..\n",
            "Epoch: 121 \tTrain Loss: 0.008787 \tmse loss: 0.006092 \tmse2 loss: 0.002694\n",
            "Epoch: 122 \tTrain Loss: 0.009026 \tmse loss: 0.006234 \tmse2 loss: 0.002791\n",
            "Epoch: 123 \tTrain Loss: 0.008547 \tmse loss: 0.005877 \tmse2 loss: 0.002670\n",
            "Epoch: 124 \tTrain Loss: 0.008419 \tmse loss: 0.005880 \tmse2 loss: 0.002539\n",
            "Saving..\n",
            "Epoch: 125 \tTrain Loss: 0.008077 \tmse loss: 0.005589 \tmse2 loss: 0.002487\n",
            "Saving..\n",
            "Epoch: 126 \tTrain Loss: 0.008665 \tmse loss: 0.005991 \tmse2 loss: 0.002674\n"
          ]
        }
      ],
      "source": [
        "#Begin the training\n",
        "batch_size = args['batch_size']\n",
        "patience = args['patience']\n",
        "encoder = Encoder(args)\n",
        "decoder = Decoder(args)\n",
        "\n",
        "device = 'cuda' if torch.cuda.is_available() else 'cpu'\n",
        "print(device)\n",
        "decoder = decoder.to(device)\n",
        "encoder = encoder.to(device)\n",
        "\n",
        "train_on_gpu = torch.cuda.is_available()\n",
        "\n",
        "#decoder loss function\n",
        "criterion = nn.MSELoss()\n",
        "criterion = criterion.to(device)\n",
        "\n",
        "num_workers = 0\n",
        "\n",
        "#torch.Tensor returns float so if want long then use torch.tensor\n",
        "tensor_x = torch.Tensor(X_train)\n",
        "tensor_y = torch.tensor(y_train,dtype=torch.long)\n",
        "mnist_bal = TensorDataset(tensor_x,tensor_y) \n",
        "train_loader = torch.utils.data.DataLoader(mnist_bal, \n",
        "    batch_size=batch_size,shuffle=True,num_workers=num_workers)\n",
        "\n",
        "best_loss = np.inf\n",
        "\n",
        "t0 = time.time()\n",
        "if args['train']:\n",
        "    enc_optim = torch.optim.Adam(encoder.parameters(), lr = args['lr'])\n",
        "    dec_optim = torch.optim.Adam(decoder.parameters(), lr = args['lr'])\n",
        "\n",
        "    for epoch in range(args['epochs']):\n",
        "        train_loss = 0.0\n",
        "        tmse_loss = 0.0\n",
        "        tdiscr_loss = 0.0\n",
        "        # train for one epoch -- set nets to train mode\n",
        "        encoder.train()\n",
        "        decoder.train()\n",
        "    \n",
        "        for images,labs in train_loader:\n",
        "        \n",
        "            # zero gradients for each batch\n",
        "            encoder.zero_grad()\n",
        "            decoder.zero_grad()\n",
        "            images, labs = images.to(device), labs.to(device)\n",
        "            labsn = labs.detach().cpu().numpy()\n",
        "#            print('images shape', images.shape)\n",
        "            # run images\n",
        "            z_hat = encoder(images)\n",
        "#            print('images shape after encoding', z_hat.shape)\n",
        "        \n",
        "            x_hat = decoder(z_hat) #decoder outputs tanh\n",
        "#            print('images shape after decoding', x_hat.shape)\n",
        "            mse = criterion(x_hat,images)\n",
        "                    \n",
        "            resx = []\n",
        "            resy = []\n",
        "        \n",
        "            tc = np.random.choice(num_classes,1)\n",
        "            #tc = 9\n",
        "            xbeg = X_train[y_train == tc]\n",
        "            ybeg = y_train[y_train == tc] \n",
        "            xlen = len(xbeg)\n",
        "            nsamp = min(xlen, 100)\n",
        "            ind = np.random.choice(list(range(len(xbeg))),nsamp,replace=False)\n",
        "            xclass = xbeg[ind]\n",
        "            yclass = ybeg[ind]\n",
        "        \n",
        "            xclen = len(xclass)\n",
        "            xcminus = np.arange(1,xclen)\n",
        "            \n",
        "            xcplus = np.append(xcminus,0)\n",
        "            xcnew = (xclass[[xcplus],:])\n",
        "            xcnew = xcnew.reshape(xcnew.shape[1],xcnew.shape[2],xcnew.shape[3],xcnew.shape[4])\n",
        "        \n",
        "            xcnew = torch.Tensor(xcnew)\n",
        "            xcnew = xcnew.to(device)\n",
        "        \n",
        "            #encode xclass to feature space\n",
        "            xclass = torch.Tensor(xclass)\n",
        "            xclass = xclass.to(device)\n",
        "            xclass = encoder(xclass)\n",
        "        \n",
        "            xclass = xclass.detach().cpu().numpy()\n",
        "        \n",
        "            xc_enc = (xclass[[xcplus],:])\n",
        "            xc_enc = np.squeeze(xc_enc)\n",
        "        \n",
        "            xc_enc = torch.Tensor(xc_enc)\n",
        "            xc_enc = xc_enc.to(device)\n",
        "            \n",
        "            ximg = decoder(xc_enc)\n",
        "            \n",
        "            mse2 = criterion(ximg,xcnew)\n",
        "        \n",
        "            comb_loss = mse2 + mse\n",
        "            comb_loss.backward()\n",
        "        \n",
        "            enc_optim.step()\n",
        "            dec_optim.step()\n",
        "        \n",
        "            train_loss += comb_loss.item()*images.size(0)\n",
        "            tmse_loss += mse.item()*images.size(0)\n",
        "            tdiscr_loss += mse2.item()*images.size(0)\n",
        "\n",
        "        train_loss = train_loss/len(train_loader)\n",
        "        tmse_loss = tmse_loss/len(train_loader)\n",
        "        tdiscr_loss = tdiscr_loss/len(train_loader)\n",
        "        print('Epoch: {} \\tTrain Loss: {:.6f} \\tmse loss: {:.6f} \\tmse2 loss: {:.6f}'.format(epoch,\n",
        "                train_loss,tmse_loss,tdiscr_loss))\n",
        "        \n",
        "    \n",
        "    \n",
        "        #store the best encoder and decoder models\n",
        "        #here, /crs5 is a reference to 5 way cross validation, but is not\n",
        "        #necessary for illustration purposes\n",
        "        if train_loss < best_loss:\n",
        "            print('Saving..')\n",
        "            patience = args['patience']\n",
        "            path_enc = '/content/drive/MyDrive/PHD/Model/DeepSMOTE/bst_enc.pth'\n",
        "            path_dec = '/content/drive/MyDrive/PHD/Model/DeepSMOTE/bst_dec.pth'\n",
        "          \n",
        "            torch.save(encoder.state_dict(), path_enc)\n",
        "            torch.save(decoder.state_dict(), path_dec)\n",
        "    \n",
        "            best_loss = train_loss\n",
        "        else:\n",
        "            patience = patience - 1\n",
        "\n",
        "        if patience == 0:\n",
        "            print('Out of patience. \\n')\n",
        "            break\n",
        "    \n",
        "    \n",
        "    #in addition, store the final model (may not be the best) for\n",
        "    #informational purposes\n",
        "    path_enc = '/content/drive/MyDrive/PHD/Model/DeepSMOTE/f_enc.pth'\n",
        "    path_dec = '/content/drive/MyDrive/PHD/Model/DeepSMOTE/f_dec.pth'\n",
        "    print(path_enc)\n",
        "    print(path_dec)\n",
        "    torch.save(encoder.state_dict(), path_enc)\n",
        "    torch.save(decoder.state_dict(), path_dec)"
      ]
    },
    {
      "cell_type": "code",
      "execution_count": null,
      "metadata": {
        "id": "NoqPIVKqF5Ug"
      },
      "outputs": [],
      "source": [
        "#Generate artificial images\n",
        "import torch\n",
        "np.printoptions(precision=5,suppress=True)\n",
        "\n",
        "#path on the computer where the models are stored\n",
        "modpth = '/content/drive/MyDrive/PHD/Model/DeepSMOTE/'\n",
        "\n",
        "encf = []\n",
        "decf = []\n",
        "for p in range(1):\n",
        "    enc = modpth + '/bst_enc.pth'\n",
        "    dec = modpth + '/bst_dec.pth'\n",
        "    encf.append(enc)\n",
        "    decf.append(dec)\n",
        "\n",
        "for m in range(1):\n",
        "    print('train imgs shape ',X_train.shape) #(45000,3,32,32)\n",
        "    print('decy ',y_train.shape)\n",
        "    \n",
        "    #generate some images \n",
        "    train_on_gpu = torch.cuda.is_available()\n",
        "    device = 'cuda' if torch.cuda.is_available() else 'cpu'\n",
        "    \n",
        "    path_enc = encf[m]\n",
        "    path_dec = decf[m]\n",
        "\n",
        "    encoder = Encoder(args)\n",
        "    encoder.load_state_dict(torch.load(path_enc), strict=False)\n",
        "    encoder = encoder.to(device)\n",
        "\n",
        "    decoder = Decoder(args)\n",
        "    decoder.load_state_dict(torch.load(path_dec), strict=False)\n",
        "    decoder = decoder.to(device)\n",
        "\n",
        "    encoder.eval()\n",
        "    decoder.eval()\n",
        "\n",
        "    resx = []\n",
        "    resy = []\n",
        "\n",
        "    for i in [0,1,2,3,4,6]: #skip class 5 since it's max class\n",
        "        torch.cuda.empty_cache()\n",
        "\n",
        "        xclass, yclass = biased_get_class(X_train, y_train, i)\n",
        "#        print(xclass.shape) #(500, 3, 32, 32)\n",
        "#        print(yclass[0]) #(500,)\n",
        "            \n",
        "        #encode xclass to feature space\n",
        "        xclass = torch.Tensor(xclass)\n",
        "        xclass = xclass.to(device)\n",
        "        xclass = encoder(xclass)\n",
        "            \n",
        "        xclass = xclass.detach().cpu().numpy()\n",
        "        n = np.max(counter) - counter[i]\n",
        "        xsamp, ysamp = G_SM(xclass,yclass,n,i)\n",
        "#        print(xsamp.shape) #(4500, 600)\n",
        "#        print(len(ysamp)) #4500\n",
        "        ysamp = np.array(ysamp)\n",
        "    \n",
        "        \"\"\"to generate samples for resnet\"\"\"   \n",
        "        xsamp = torch.Tensor(xsamp)\n",
        "        xsamp = xsamp.to(device)\n",
        "        ximg = decoder(xsamp)\n",
        "\n",
        "        ximn = ximg.detach().cpu().numpy()\n",
        "#        print(ximn.shape) \n",
        "        resx.append(ximn)\n",
        "        resy.append(ysamp)\n",
        "    \n",
        "    resx1 = np.vstack(resx)\n",
        "    resy1 = np.hstack(resy)\n",
        "#    print(resx1.shape) #(34720, 3, 32, 32)\n",
        "\n",
        "    resx1 = resx1.reshape(resx1.shape[0],-1)\n",
        "#    print(resx1.shape) #(34720, 3072)\n",
        "    \n",
        "    dec_x1 = X_train.reshape(X_train.shape[0],-1)\n",
        "#    print('decx1 ',dec_x1.shape)\n",
        "    combx = np.vstack((resx1,dec_x1))\n",
        "    comby = np.hstack((resy1,y_train))\n",
        "\n",
        "    print(combx.shape) #(45000, 3, 32, 32)\n",
        "    print(comby.shape) #(45000,)\n",
        "#    print()"
      ]
    },
    {
      "cell_type": "code",
      "execution_count": null,
      "metadata": {
        "id": "76bpFBQcHLIY"
      },
      "outputs": [],
      "source": [
        "X_train = combx.reshape(-1, 3, IMAGE_W, IMAGE_H)\n",
        "X_train = moveaxis(X_train, 1, 3)\n",
        "print('X_train shape: ',X_train.shape)\n",
        "y_train = comby\n",
        "print(Counter(comby))"
      ]
    },
    {
      "cell_type": "code",
      "execution_count": null,
      "metadata": {
        "colab": {
          "background_save": true
        },
        "id": "8SqyvSgX8sLO"
      },
      "outputs": [],
      "source": [
        "X_train = X_train * 255\n",
        "X_train = X_train.astype(int)"
      ]
    },
    {
      "cell_type": "code",
      "execution_count": null,
      "metadata": {
        "id": "we4D35jnEOqs"
      },
      "outputs": [],
      "source": [
        "#de-standardization\n",
        "#X_train = (X_train * X_train_std + X_train_mean).astype(int)\n",
        "#X_val = (X_val * X_train_std + X_train_mean).astype(int)"
      ]
    },
    {
      "cell_type": "markdown",
      "metadata": {
        "id": "US0KkIaVlTdU"
      },
      "source": [
        "#Data Transformation"
      ]
    },
    {
      "cell_type": "code",
      "execution_count": 15,
      "metadata": {
        "id": "_a_lPCqbibaS",
        "colab": {
          "base_uri": "https://localhost:8080/"
        },
        "outputId": "da502cbf-9319-470d-c2f2-4e27e43c64d8"
      },
      "outputs": [
        {
          "output_type": "stream",
          "name": "stdout",
          "text": [
            "y_train shape:  (5321, 1)\n"
          ]
        }
      ],
      "source": [
        "y_train = y_train.reshape(-1, 1)\n",
        "y_val = y_val.reshape(-1, 1)\n",
        "print('y_train shape: ',y_train.shape)"
      ]
    },
    {
      "cell_type": "code",
      "execution_count": 16,
      "metadata": {
        "id": "ja5ZmgbCvDw5"
      },
      "outputs": [],
      "source": [
        "from keras.utils.np_utils import to_categorical\n",
        "y_train = to_categorical(y_train, num_classes = num_classes)\n",
        "y_val = to_categorical(y_val, num_classes = num_classes)"
      ]
    },
    {
      "cell_type": "code",
      "execution_count": 164,
      "metadata": {
        "id": "9QM00erNGU32",
        "colab": {
          "base_uri": "https://localhost:8080/"
        },
        "outputId": "06fc603c-0da3-4dd7-e8f8-6f321c3bfac1"
      },
      "outputs": [
        {
          "output_type": "stream",
          "name": "stdout",
          "text": [
            "(5321, 224, 224, 3)\n",
            "(5321, 7)\n",
            "(193, 224, 224, 3)\n",
            "(193, 7)\n"
          ]
        }
      ],
      "source": [
        "print(X_train.shape)\n",
        "print(y_train.shape)\n",
        "print(X_val.shape)\n",
        "print(y_val.shape)"
      ]
    },
    {
      "cell_type": "markdown",
      "metadata": {
        "id": "0jrJ33lUDkCM"
      },
      "source": [
        "#Split dataset to train and val"
      ]
    },
    {
      "cell_type": "code",
      "execution_count": null,
      "metadata": {
        "colab": {
          "base_uri": "https://localhost:8080/"
        },
        "id": "e6qneWL_Bs2U",
        "outputId": "22c2c4ff-5544-4dd8-b69a-af96b4b97616"
      },
      "outputs": [
        {
          "name": "stdout",
          "output_type": "stream",
          "text": [
            "Train Data:  (9814, 32, 32, 3)\n",
            "Remaining Data:  (201, 32, 32, 3)\n"
          ]
        }
      ],
      "source": [
        "# stratified train and rem (20%) datasets\n",
        "from sklearn.model_selection import train_test_split\n",
        "X_train, X_val, y_train, y_val = train_test_split(X, y, test_size=0.02, stratify=y, random_state=1)\n",
        "\n",
        "print('Train Data: ', X_train.shape)\n",
        "print('Remaining Data: ', X_val.shape)"
      ]
    },
    {
      "cell_type": "code",
      "execution_count": null,
      "metadata": {
        "colab": {
          "base_uri": "https://localhost:8080/"
        },
        "id": "Vai7M7WSXVY4",
        "outputId": "b9bc1199-a518-4a8b-9d6e-4d6038efbafe"
      },
      "outputs": [
        {
          "name": "stdout",
          "output_type": "stream",
          "text": [
            "Test Data:  (416, 32, 32, 3)\n",
            "Val Data:  (416, 32, 32, 3)\n"
          ]
        }
      ],
      "source": [
        "# stratified val and test (50%) \n",
        "from sklearn.model_selection import train_test_split\n",
        "X_test, X_val, y_test, y_val = train_test_split(X_rem, y_rem, test_size=0.5, stratify=y_rem, random_state=1)\n",
        "\n",
        "print('Test Data: ', X_test.shape)\n",
        "print('Val Data: ', X_val.shape)"
      ]
    },
    {
      "cell_type": "markdown",
      "metadata": {
        "id": "I15HgVuhjFlm"
      },
      "source": []
    },
    {
      "cell_type": "code",
      "execution_count": null,
      "metadata": {
        "colab": {
          "base_uri": "https://localhost:8080/"
        },
        "id": "oVVOQPNiHXHw",
        "outputId": "a1e60310-4f3b-4063-8465-4d7120d225c9"
      },
      "outputs": [
        {
          "name": "stdout",
          "output_type": "stream",
          "text": [
            "Train Data:  (2015, 32, 32, 3)\n",
            "Test Data:  (224, 32, 32, 3)\n"
          ]
        }
      ],
      "source": [
        "#optional\n",
        "# stratified train and test (10%) datasets\n",
        "from sklearn.model_selection import train_test_split\n",
        "X_train, X_test, y_train, y_test = train_test_split(X, y, test_size=0.1, stratify=y, random_state=1)\n",
        "\n",
        "print('Train Data: ', X_train.shape)\n",
        "print('Test Data: ', X_test.shape)"
      ]
    },
    {
      "cell_type": "code",
      "execution_count": null,
      "metadata": {
        "colab": {
          "base_uri": "https://localhost:8080/"
        },
        "id": "0_oaUYYgJNV7",
        "outputId": "ca2f393a-0599-4cfc-b330-45d723f2bb06"
      },
      "outputs": [
        {
          "name": "stdout",
          "output_type": "stream",
          "text": [
            "Train Data:  (3369, 32, 32, 3)\n",
            "Val Data:  (375, 32, 32, 3)\n"
          ]
        }
      ],
      "source": [
        "#optional\n",
        "# stratified train and val (10%) datasets\n",
        "from sklearn.model_selection import train_test_split\n",
        "X_train, X_val, y_train, y_val = train_test_split(X, y, test_size=0.1, stratify=y, random_state=1)\n",
        "\n",
        "print('Train Data: ', X_train.shape)\n",
        "print('Val Data: ', X_val.shape)"
      ]
    },
    {
      "cell_type": "markdown",
      "metadata": {
        "id": "ZklPzWxCCtTW"
      },
      "source": [
        "Create and compile the model"
      ]
    },
    {
      "cell_type": "code",
      "execution_count": null,
      "metadata": {
        "id": "7jFShRvTHnqi"
      },
      "outputs": [],
      "source": [
        "print(X_train)"
      ]
    },
    {
      "cell_type": "code",
      "execution_count": null,
      "metadata": {
        "id": "8Kef4r_zxjgk"
      },
      "outputs": [],
      "source": [
        "#Data Augmentation\n",
        "dataaugment = ImageDataGenerator(\n",
        "        rotation_range=90,  # randomly rotate images in the range (degrees, 0 to 180)\n",
        "        zoom_range = 0.1, # Randomly zoom image \n",
        "        width_shift_range=0.1,  # randomly shift images horizontally (fraction of total width)\n",
        "        height_shift_range=0.1,  # randomly shift images vertically (fraction of total height)\n",
        "        horizontal_flip=True,  # randomly flip images\n",
        "        vertical_flip=True,  # randomly flip images\n",
        "        shear_range = 10) \n",
        "\n",
        "dataaugment.fit(X_train)"
      ]
    },
    {
      "cell_type": "markdown",
      "metadata": {
        "id": "5v7sLC2svMuJ"
      },
      "source": [
        "# Classification\n",
        "Model from https://github.com/AnasBrital98/CNN-From-Scratch/tree/master/Inception-V3"
      ]
    },
    {
      "cell_type": "code",
      "execution_count": 155,
      "metadata": {
        "id": "A8eRZiucdYnP"
      },
      "outputs": [],
      "source": [
        "EPOCHS = 1000\n",
        "BATCH_SIZE = 32\n",
        "optimizer = Adam(learning_rate=0.0005, beta_1=0.9, beta_2=0.999, epsilon=None, decay=0.0, amsgrad=False)\n",
        "\n",
        "#USe TF.data\n",
        "training_data = tf.data.Dataset.from_tensor_slices((X_train, y_train))\n",
        "validation_data = tf.data.Dataset.from_tensor_slices((X_val, y_val))\n",
        "\n",
        "autotune = tf.data.AUTOTUNE\n",
        "train_data_batches = training_data.shuffle(buffer_size=40000).batch(32).prefetch(buffer_size=autotune)\n",
        "valid_data_batches = validation_data.shuffle(buffer_size=10000).batch(32).prefetch(buffer_size=autotune)\n",
        "\n",
        "#Data augmentation\n",
        "rescale_layer = tf.keras.Sequential([layers.experimental.preprocessing.Rescaling(1./255)])\n",
        "data_augmentation = tf.keras.Sequential([\n",
        "  layers.experimental.preprocessing.RandomFlip(\"horizontal_and_vertical\"),\n",
        "  layers.experimental.preprocessing.RandomRotation(0.2), \n",
        "  layers.experimental.preprocessing.RandomZoom(height_factor=(0.2, 0.3), width_factor=(0.2, 0.3)),\n",
        "  layers.experimental.preprocessing.RandomTranslation(0.3, 0.3, fill_mode='reflect', interpolation='bilinear',)\n",
        "])\n",
        "\n",
        "def balanced_acc(y_true, y_pred):\n",
        "    from sklearn.metrics import confusion_matrix\n",
        "    import numpy as np\n",
        "    from keras import backend as K\n",
        "\n",
        "    tensor1 = tf.math.argmax(y_true, axis=1)\n",
        "    tensor2 = tf.math.argmax(y_pred, axis=1)\n",
        "\n",
        "    cm = tf.math.confusion_matrix(tensor1, tensor2)\n",
        "    \n",
        "    diag = tf.linalg.tensor_diag_part (cm)\n",
        "    tpfn = tf.cast(K.sum(cm, axis = 1), tf.float32) + K.epsilon()\n",
        "    recall = tf.divide(tf.cast(diag, tf.float32),tpfn)\n",
        "    balanced_acc = K.mean(recall)\n",
        "    return balanced_acc\n",
        "\n",
        "#Callbacks\n",
        "best_model_fpath = '/content/drive/MyDrive/PHD/Model/best_model.h5'\n",
        "last_model_fpath = '/content/drive/MyDrive/PHD/Model/last_model.h5'\n",
        "mc = ModelCheckpoint(best_model_fpath, monitor='val_balanced_acc', mode='max', verbose=1, save_best_only=True)\n",
        "learning_rate_reduction = ReduceLROnPlateau(monitor='val_loss', patience=10, verbose=0, factor=0.5, min_lr=0.00001)\n",
        "early_stopping_monitor = EarlyStopping(patience=30,monitor='val_balanced_acc')\n"
      ]
    },
    {
      "cell_type": "code",
      "execution_count": 156,
      "metadata": {
        "id": "rwwLiXUSG0IZ",
        "colab": {
          "base_uri": "https://localhost:8080/"
        },
        "outputId": "8de34b64-0a22-4257-dff7-09cbc63db112"
      },
      "outputs": [
        {
          "output_type": "stream",
          "name": "stdout",
          "text": [
            "Epoch 1/1000\n",
            "166/167 [============================>.] - ETA: 0s - loss: 1.6522 - accuracy: 0.4780 - balanced_acc: 0.2771\n",
            "Epoch 1: val_balanced_acc improved from -inf to 0.29294, saving model to /content/drive/MyDrive/PHD/Model/best_model.h5\n",
            "167/167 [==============================] - 25s 130ms/step - loss: 1.6514 - accuracy: 0.4781 - balanced_acc: 0.2767 - val_loss: 0.9710 - val_accuracy: 0.6736 - val_balanced_acc: 0.2929 - lr: 5.0000e-04\n",
            "Epoch 2/1000\n",
            "166/167 [============================>.] - ETA: 0s - loss: 1.2353 - accuracy: 0.5286 - balanced_acc: 0.3150\n",
            "Epoch 2: val_balanced_acc improved from 0.29294 to 0.30720, saving model to /content/drive/MyDrive/PHD/Model/best_model.h5\n",
            "167/167 [==============================] - 21s 128ms/step - loss: 1.2358 - accuracy: 0.5285 - balanced_acc: 0.3150 - val_loss: 0.9638 - val_accuracy: 0.6632 - val_balanced_acc: 0.3072 - lr: 5.0000e-04\n",
            "Epoch 3/1000\n",
            "166/167 [============================>.] - ETA: 0s - loss: 1.1932 - accuracy: 0.5499 - balanced_acc: 0.3415\n",
            "Epoch 3: val_balanced_acc improved from 0.30720 to 0.35621, saving model to /content/drive/MyDrive/PHD/Model/best_model.h5\n",
            "167/167 [==============================] - 21s 125ms/step - loss: 1.1935 - accuracy: 0.5497 - balanced_acc: 0.3420 - val_loss: 0.9446 - val_accuracy: 0.6528 - val_balanced_acc: 0.3562 - lr: 5.0000e-04\n",
            "Epoch 4/1000\n",
            "166/167 [============================>.] - ETA: 0s - loss: 1.1539 - accuracy: 0.5638 - balanced_acc: 0.3554\n",
            "Epoch 4: val_balanced_acc improved from 0.35621 to 0.46916, saving model to /content/drive/MyDrive/PHD/Model/best_model.h5\n",
            "167/167 [==============================] - 22s 131ms/step - loss: 1.1539 - accuracy: 0.5636 - balanced_acc: 0.3551 - val_loss: 0.8514 - val_accuracy: 0.7306 - val_balanced_acc: 0.4692 - lr: 5.0000e-04\n",
            "Epoch 5/1000\n",
            "166/167 [============================>.] - ETA: 0s - loss: 1.1401 - accuracy: 0.5683 - balanced_acc: 0.3608\n",
            "Epoch 5: val_balanced_acc did not improve from 0.46916\n",
            "167/167 [==============================] - 19s 113ms/step - loss: 1.1402 - accuracy: 0.5681 - balanced_acc: 0.3602 - val_loss: 0.7996 - val_accuracy: 0.6995 - val_balanced_acc: 0.3455 - lr: 5.0000e-04\n",
            "Epoch 6/1000\n",
            "166/167 [============================>.] - ETA: 0s - loss: 1.0838 - accuracy: 0.5911 - balanced_acc: 0.3932\n",
            "Epoch 6: val_balanced_acc did not improve from 0.46916\n",
            "167/167 [==============================] - 19s 112ms/step - loss: 1.0838 - accuracy: 0.5911 - balanced_acc: 0.3937 - val_loss: 0.7950 - val_accuracy: 0.7202 - val_balanced_acc: 0.3570 - lr: 5.0000e-04\n",
            "Epoch 7/1000\n",
            "166/167 [============================>.] - ETA: 0s - loss: 1.0753 - accuracy: 0.5853 - balanced_acc: 0.3938\n",
            "Epoch 7: val_balanced_acc did not improve from 0.46916\n",
            "167/167 [==============================] - 19s 111ms/step - loss: 1.0750 - accuracy: 0.5856 - balanced_acc: 0.3947 - val_loss: 0.9163 - val_accuracy: 0.6995 - val_balanced_acc: 0.4145 - lr: 5.0000e-04\n",
            "Epoch 8/1000\n",
            "166/167 [============================>.] - ETA: 0s - loss: 1.0507 - accuracy: 0.6050 - balanced_acc: 0.4056\n",
            "Epoch 8: val_balanced_acc did not improve from 0.46916\n",
            "167/167 [==============================] - 19s 113ms/step - loss: 1.0517 - accuracy: 0.6048 - balanced_acc: 0.4048 - val_loss: 0.8678 - val_accuracy: 0.6995 - val_balanced_acc: 0.4277 - lr: 5.0000e-04\n",
            "Epoch 9/1000\n",
            "166/167 [============================>.] - ETA: 0s - loss: 1.0150 - accuracy: 0.6162 - balanced_acc: 0.4348\n",
            "Epoch 9: val_balanced_acc did not improve from 0.46916\n",
            "167/167 [==============================] - 19s 111ms/step - loss: 1.0147 - accuracy: 0.6162 - balanced_acc: 0.4353 - val_loss: 0.8334 - val_accuracy: 0.7358 - val_balanced_acc: 0.4269 - lr: 5.0000e-04\n",
            "Epoch 10/1000\n",
            "166/167 [============================>.] - ETA: 0s - loss: 1.0081 - accuracy: 0.6233 - balanced_acc: 0.4485\n",
            "Epoch 10: val_balanced_acc did not improve from 0.46916\n",
            "167/167 [==============================] - 19s 113ms/step - loss: 1.0083 - accuracy: 0.6232 - balanced_acc: 0.4471 - val_loss: 0.8250 - val_accuracy: 0.7254 - val_balanced_acc: 0.4444 - lr: 5.0000e-04\n",
            "Epoch 11/1000\n",
            "166/167 [============================>.] - ETA: 0s - loss: 0.9885 - accuracy: 0.6212 - balanced_acc: 0.4582\n",
            "Epoch 11: val_balanced_acc did not improve from 0.46916\n",
            "167/167 [==============================] - 19s 112ms/step - loss: 0.9877 - accuracy: 0.6217 - balanced_acc: 0.4575 - val_loss: 0.7687 - val_accuracy: 0.7565 - val_balanced_acc: 0.4040 - lr: 5.0000e-04\n",
            "Epoch 12/1000\n",
            "166/167 [============================>.] - ETA: 0s - loss: 0.9631 - accuracy: 0.6306 - balanced_acc: 0.4688\n",
            "Epoch 12: val_balanced_acc did not improve from 0.46916\n",
            "167/167 [==============================] - 19s 112ms/step - loss: 0.9619 - accuracy: 0.6313 - balanced_acc: 0.4700 - val_loss: 0.8018 - val_accuracy: 0.7565 - val_balanced_acc: 0.4498 - lr: 5.0000e-04\n",
            "Epoch 13/1000\n",
            "166/167 [============================>.] - ETA: 0s - loss: 0.9565 - accuracy: 0.6369 - balanced_acc: 0.4800\n",
            "Epoch 13: val_balanced_acc did not improve from 0.46916\n",
            "167/167 [==============================] - 19s 113ms/step - loss: 0.9560 - accuracy: 0.6369 - balanced_acc: 0.4799 - val_loss: 0.7688 - val_accuracy: 0.7461 - val_balanced_acc: 0.3954 - lr: 5.0000e-04\n",
            "Epoch 14/1000\n",
            "166/167 [============================>.] - ETA: 0s - loss: 0.9244 - accuracy: 0.6416 - balanced_acc: 0.4817\n",
            "Epoch 14: val_balanced_acc did not improve from 0.46916\n",
            "167/167 [==============================] - 19s 112ms/step - loss: 0.9246 - accuracy: 0.6416 - balanced_acc: 0.4819 - val_loss: 0.9286 - val_accuracy: 0.6839 - val_balanced_acc: 0.3979 - lr: 5.0000e-04\n",
            "Epoch 15/1000\n",
            "166/167 [============================>.] - ETA: 0s - loss: 0.9272 - accuracy: 0.6459 - balanced_acc: 0.4935\n",
            "Epoch 15: val_balanced_acc did not improve from 0.46916\n",
            "167/167 [==============================] - 19s 114ms/step - loss: 0.9272 - accuracy: 0.6457 - balanced_acc: 0.4926 - val_loss: 0.7445 - val_accuracy: 0.7461 - val_balanced_acc: 0.4531 - lr: 5.0000e-04\n",
            "Epoch 16/1000\n",
            "166/167 [============================>.] - ETA: 0s - loss: 0.9250 - accuracy: 0.6485 - balanced_acc: 0.4865\n",
            "Epoch 16: val_balanced_acc did not improve from 0.46916\n",
            "167/167 [==============================] - 19s 112ms/step - loss: 0.9247 - accuracy: 0.6484 - balanced_acc: 0.4851 - val_loss: 0.8346 - val_accuracy: 0.7254 - val_balanced_acc: 0.4066 - lr: 5.0000e-04\n",
            "Epoch 17/1000\n",
            "166/167 [============================>.] - ETA: 0s - loss: 0.9046 - accuracy: 0.6512 - balanced_acc: 0.4966\n",
            "Epoch 17: val_balanced_acc did not improve from 0.46916\n",
            "167/167 [==============================] - 19s 113ms/step - loss: 0.9053 - accuracy: 0.6514 - balanced_acc: 0.4968 - val_loss: 0.6889 - val_accuracy: 0.7668 - val_balanced_acc: 0.4344 - lr: 5.0000e-04\n",
            "Epoch 18/1000\n",
            "166/167 [============================>.] - ETA: 0s - loss: 0.9034 - accuracy: 0.6491 - balanced_acc: 0.4977\n",
            "Epoch 18: val_balanced_acc improved from 0.46916 to 0.49246, saving model to /content/drive/MyDrive/PHD/Model/best_model.h5\n",
            "167/167 [==============================] - 21s 127ms/step - loss: 0.9030 - accuracy: 0.6491 - balanced_acc: 0.4975 - val_loss: 0.7894 - val_accuracy: 0.7409 - val_balanced_acc: 0.4925 - lr: 5.0000e-04\n",
            "Epoch 19/1000\n",
            "166/167 [============================>.] - ETA: 0s - loss: 0.8791 - accuracy: 0.6696 - balanced_acc: 0.5169\n",
            "Epoch 19: val_balanced_acc did not improve from 0.49246\n",
            "167/167 [==============================] - 19s 113ms/step - loss: 0.8786 - accuracy: 0.6698 - balanced_acc: 0.5158 - val_loss: 0.7947 - val_accuracy: 0.7668 - val_balanced_acc: 0.4561 - lr: 5.0000e-04\n",
            "Epoch 20/1000\n",
            "166/167 [============================>.] - ETA: 0s - loss: 0.8803 - accuracy: 0.6574 - balanced_acc: 0.5145\n",
            "Epoch 20: val_balanced_acc did not improve from 0.49246\n",
            "167/167 [==============================] - 19s 114ms/step - loss: 0.8804 - accuracy: 0.6570 - balanced_acc: 0.5127 - val_loss: 0.9202 - val_accuracy: 0.6995 - val_balanced_acc: 0.4198 - lr: 5.0000e-04\n",
            "Epoch 21/1000\n",
            "166/167 [============================>.] - ETA: 0s - loss: 0.8844 - accuracy: 0.6628 - balanced_acc: 0.5164\n",
            "Epoch 21: val_balanced_acc did not improve from 0.49246\n",
            "167/167 [==============================] - 19s 113ms/step - loss: 0.8855 - accuracy: 0.6623 - balanced_acc: 0.5145 - val_loss: 0.7503 - val_accuracy: 0.7409 - val_balanced_acc: 0.4740 - lr: 5.0000e-04\n",
            "Epoch 22/1000\n",
            "166/167 [============================>.] - ETA: 0s - loss: 0.8766 - accuracy: 0.6600 - balanced_acc: 0.5231\n",
            "Epoch 22: val_balanced_acc did not improve from 0.49246\n",
            "167/167 [==============================] - 19s 114ms/step - loss: 0.8762 - accuracy: 0.6604 - balanced_acc: 0.5235 - val_loss: 0.7040 - val_accuracy: 0.7461 - val_balanced_acc: 0.4429 - lr: 5.0000e-04\n",
            "Epoch 23/1000\n",
            "166/167 [============================>.] - ETA: 0s - loss: 0.8519 - accuracy: 0.6687 - balanced_acc: 0.5260\n",
            "Epoch 23: val_balanced_acc did not improve from 0.49246\n",
            "167/167 [==============================] - 19s 114ms/step - loss: 0.8515 - accuracy: 0.6685 - balanced_acc: 0.5256 - val_loss: 0.7651 - val_accuracy: 0.7254 - val_balanced_acc: 0.4320 - lr: 5.0000e-04\n",
            "Epoch 24/1000\n",
            "166/167 [============================>.] - ETA: 0s - loss: 0.8543 - accuracy: 0.6747 - balanced_acc: 0.5337\n",
            "Epoch 24: val_balanced_acc did not improve from 0.49246\n",
            "167/167 [==============================] - 19s 113ms/step - loss: 0.8549 - accuracy: 0.6745 - balanced_acc: 0.5331 - val_loss: 0.8233 - val_accuracy: 0.7150 - val_balanced_acc: 0.4335 - lr: 5.0000e-04\n",
            "Epoch 25/1000\n",
            "166/167 [============================>.] - ETA: 0s - loss: 0.8475 - accuracy: 0.6728 - balanced_acc: 0.5461\n",
            "Epoch 25: val_balanced_acc did not improve from 0.49246\n",
            "167/167 [==============================] - 19s 113ms/step - loss: 0.8476 - accuracy: 0.6728 - balanced_acc: 0.5454 - val_loss: 0.7368 - val_accuracy: 0.7720 - val_balanced_acc: 0.4185 - lr: 5.0000e-04\n",
            "Epoch 26/1000\n",
            "166/167 [============================>.] - ETA: 0s - loss: 0.8348 - accuracy: 0.6817 - balanced_acc: 0.5464\n",
            "Epoch 26: val_balanced_acc did not improve from 0.49246\n",
            "167/167 [==============================] - 19s 113ms/step - loss: 0.8359 - accuracy: 0.6813 - balanced_acc: 0.5455 - val_loss: 0.7563 - val_accuracy: 0.7358 - val_balanced_acc: 0.4376 - lr: 5.0000e-04\n",
            "Epoch 27/1000\n",
            "166/167 [============================>.] - ETA: 0s - loss: 0.8218 - accuracy: 0.6867 - balanced_acc: 0.5462\n",
            "Epoch 27: val_balanced_acc did not improve from 0.49246\n",
            "167/167 [==============================] - 19s 114ms/step - loss: 0.8225 - accuracy: 0.6867 - balanced_acc: 0.5452 - val_loss: 0.9003 - val_accuracy: 0.7098 - val_balanced_acc: 0.4191 - lr: 5.0000e-04\n",
            "Epoch 28/1000\n",
            "166/167 [============================>.] - ETA: 0s - loss: 0.7919 - accuracy: 0.6973 - balanced_acc: 0.5658\n",
            "Epoch 28: val_balanced_acc did not improve from 0.49246\n",
            "167/167 [==============================] - 19s 113ms/step - loss: 0.7911 - accuracy: 0.6976 - balanced_acc: 0.5641 - val_loss: 0.7580 - val_accuracy: 0.7461 - val_balanced_acc: 0.4434 - lr: 2.5000e-04\n",
            "Epoch 29/1000\n",
            "166/167 [============================>.] - ETA: 0s - loss: 0.7910 - accuracy: 0.6950 - balanced_acc: 0.5583\n",
            "Epoch 29: val_balanced_acc did not improve from 0.49246\n",
            "167/167 [==============================] - 19s 113ms/step - loss: 0.7909 - accuracy: 0.6950 - balanced_acc: 0.5570 - val_loss: 0.7813 - val_accuracy: 0.7617 - val_balanced_acc: 0.4538 - lr: 2.5000e-04\n",
            "Epoch 30/1000\n",
            "166/167 [============================>.] - ETA: 0s - loss: 0.7753 - accuracy: 0.7011 - balanced_acc: 0.5587\n",
            "Epoch 30: val_balanced_acc did not improve from 0.49246\n",
            "167/167 [==============================] - 19s 113ms/step - loss: 0.7753 - accuracy: 0.7012 - balanced_acc: 0.5588 - val_loss: 0.7828 - val_accuracy: 0.7513 - val_balanced_acc: 0.4147 - lr: 2.5000e-04\n",
            "Epoch 31/1000\n",
            "166/167 [============================>.] - ETA: 0s - loss: 0.7745 - accuracy: 0.7050 - balanced_acc: 0.5738\n",
            "Epoch 31: val_balanced_acc did not improve from 0.49246\n",
            "167/167 [==============================] - 19s 112ms/step - loss: 0.7744 - accuracy: 0.7053 - balanced_acc: 0.5742 - val_loss: 0.7061 - val_accuracy: 0.7513 - val_balanced_acc: 0.4438 - lr: 2.5000e-04\n",
            "Epoch 32/1000\n",
            "166/167 [============================>.] - ETA: 0s - loss: 0.7746 - accuracy: 0.7016 - balanced_acc: 0.5708\n",
            "Epoch 32: val_balanced_acc did not improve from 0.49246\n",
            "167/167 [==============================] - 19s 113ms/step - loss: 0.7740 - accuracy: 0.7017 - balanced_acc: 0.5714 - val_loss: 0.8513 - val_accuracy: 0.7461 - val_balanced_acc: 0.4457 - lr: 2.5000e-04\n",
            "Epoch 33/1000\n",
            "166/167 [============================>.] - ETA: 0s - loss: 0.7739 - accuracy: 0.6986 - balanced_acc: 0.5707\n",
            "Epoch 33: val_balanced_acc did not improve from 0.49246\n",
            "167/167 [==============================] - 19s 112ms/step - loss: 0.7737 - accuracy: 0.6987 - balanced_acc: 0.5699 - val_loss: 0.8107 - val_accuracy: 0.7254 - val_balanced_acc: 0.4214 - lr: 2.5000e-04\n",
            "Epoch 34/1000\n",
            "166/167 [============================>.] - ETA: 0s - loss: 0.7716 - accuracy: 0.6980 - balanced_acc: 0.5704\n",
            "Epoch 34: val_balanced_acc did not improve from 0.49246\n",
            "167/167 [==============================] - 19s 113ms/step - loss: 0.7709 - accuracy: 0.6984 - balanced_acc: 0.5708 - val_loss: 0.7422 - val_accuracy: 0.7617 - val_balanced_acc: 0.4568 - lr: 2.5000e-04\n",
            "Epoch 35/1000\n",
            "167/167 [==============================] - ETA: 0s - loss: 0.7566 - accuracy: 0.7121 - balanced_acc: 0.5791\n",
            "Epoch 35: val_balanced_acc did not improve from 0.49246\n",
            "167/167 [==============================] - 19s 113ms/step - loss: 0.7566 - accuracy: 0.7121 - balanced_acc: 0.5791 - val_loss: 0.8043 - val_accuracy: 0.7150 - val_balanced_acc: 0.3996 - lr: 2.5000e-04\n",
            "Epoch 36/1000\n",
            "166/167 [============================>.] - ETA: 0s - loss: 0.7560 - accuracy: 0.7112 - balanced_acc: 0.5729\n",
            "Epoch 36: val_balanced_acc did not improve from 0.49246\n",
            "167/167 [==============================] - 19s 113ms/step - loss: 0.7564 - accuracy: 0.7110 - balanced_acc: 0.5719 - val_loss: 0.7827 - val_accuracy: 0.7565 - val_balanced_acc: 0.4085 - lr: 2.5000e-04\n",
            "Epoch 37/1000\n",
            "166/167 [============================>.] - ETA: 0s - loss: 0.7454 - accuracy: 0.7157 - balanced_acc: 0.5875\n",
            "Epoch 37: val_balanced_acc did not improve from 0.49246\n",
            "167/167 [==============================] - 19s 113ms/step - loss: 0.7451 - accuracy: 0.7157 - balanced_acc: 0.5860 - val_loss: 0.8180 - val_accuracy: 0.7513 - val_balanced_acc: 0.4236 - lr: 2.5000e-04\n",
            "Epoch 38/1000\n",
            "166/167 [============================>.] - ETA: 0s - loss: 0.7544 - accuracy: 0.7114 - balanced_acc: 0.5785\n",
            "Epoch 38: val_balanced_acc did not improve from 0.49246\n",
            "167/167 [==============================] - 19s 113ms/step - loss: 0.7549 - accuracy: 0.7111 - balanced_acc: 0.5774 - val_loss: 0.8398 - val_accuracy: 0.7306 - val_balanced_acc: 0.4732 - lr: 1.2500e-04\n",
            "Epoch 39/1000\n",
            "166/167 [============================>.] - ETA: 0s - loss: 0.7377 - accuracy: 0.7182 - balanced_acc: 0.5921\n",
            "Epoch 39: val_balanced_acc did not improve from 0.49246\n",
            "167/167 [==============================] - 19s 113ms/step - loss: 0.7378 - accuracy: 0.7181 - balanced_acc: 0.5913 - val_loss: 0.7779 - val_accuracy: 0.7461 - val_balanced_acc: 0.4335 - lr: 1.2500e-04\n",
            "Epoch 40/1000\n",
            "166/167 [============================>.] - ETA: 0s - loss: 0.7245 - accuracy: 0.7285 - balanced_acc: 0.6102\n",
            "Epoch 40: val_balanced_acc did not improve from 0.49246\n",
            "167/167 [==============================] - 19s 113ms/step - loss: 0.7239 - accuracy: 0.7286 - balanced_acc: 0.6099 - val_loss: 0.8187 - val_accuracy: 0.7254 - val_balanced_acc: 0.4035 - lr: 1.2500e-04\n",
            "Epoch 41/1000\n",
            "166/167 [============================>.] - ETA: 0s - loss: 0.7350 - accuracy: 0.7144 - balanced_acc: 0.5892\n",
            "Epoch 41: val_balanced_acc did not improve from 0.49246\n",
            "167/167 [==============================] - 19s 113ms/step - loss: 0.7341 - accuracy: 0.7149 - balanced_acc: 0.5897 - val_loss: 0.8744 - val_accuracy: 0.7202 - val_balanced_acc: 0.4821 - lr: 1.2500e-04\n",
            "Epoch 42/1000\n",
            "167/167 [==============================] - ETA: 0s - loss: 0.7250 - accuracy: 0.7235 - balanced_acc: 0.5819\n",
            "Epoch 42: val_balanced_acc did not improve from 0.49246\n",
            "167/167 [==============================] - 19s 113ms/step - loss: 0.7250 - accuracy: 0.7235 - balanced_acc: 0.5819 - val_loss: 0.8783 - val_accuracy: 0.7202 - val_balanced_acc: 0.4101 - lr: 1.2500e-04\n",
            "Epoch 43/1000\n",
            "166/167 [============================>.] - ETA: 0s - loss: 0.7250 - accuracy: 0.7218 - balanced_acc: 0.5916\n",
            "Epoch 43: val_balanced_acc did not improve from 0.49246\n",
            "167/167 [==============================] - 19s 113ms/step - loss: 0.7249 - accuracy: 0.7219 - balanced_acc: 0.5898 - val_loss: 0.7840 - val_accuracy: 0.7513 - val_balanced_acc: 0.4232 - lr: 1.2500e-04\n",
            "Epoch 44/1000\n",
            "166/167 [============================>.] - ETA: 0s - loss: 0.7168 - accuracy: 0.7240 - balanced_acc: 0.5948\n",
            "Epoch 44: val_balanced_acc did not improve from 0.49246\n",
            "167/167 [==============================] - 19s 113ms/step - loss: 0.7167 - accuracy: 0.7243 - balanced_acc: 0.5942 - val_loss: 0.8552 - val_accuracy: 0.7358 - val_balanced_acc: 0.4548 - lr: 1.2500e-04\n",
            "Epoch 45/1000\n",
            "166/167 [============================>.] - ETA: 0s - loss: 0.7188 - accuracy: 0.7165 - balanced_acc: 0.5885\n",
            "Epoch 45: val_balanced_acc did not improve from 0.49246\n",
            "167/167 [==============================] - 19s 112ms/step - loss: 0.7183 - accuracy: 0.7166 - balanced_acc: 0.5883 - val_loss: 0.8050 - val_accuracy: 0.7513 - val_balanced_acc: 0.4393 - lr: 1.2500e-04\n",
            "Epoch 46/1000\n",
            "166/167 [============================>.] - ETA: 0s - loss: 0.7070 - accuracy: 0.7304 - balanced_acc: 0.6009\n",
            "Epoch 46: val_balanced_acc did not improve from 0.49246\n",
            "167/167 [==============================] - 19s 113ms/step - loss: 0.7073 - accuracy: 0.7301 - balanced_acc: 0.5991 - val_loss: 0.7915 - val_accuracy: 0.7617 - val_balanced_acc: 0.4266 - lr: 1.2500e-04\n",
            "Epoch 47/1000\n",
            "166/167 [============================>.] - ETA: 0s - loss: 0.7193 - accuracy: 0.7167 - balanced_acc: 0.5843\n",
            "Epoch 47: val_balanced_acc did not improve from 0.49246\n",
            "167/167 [==============================] - 19s 112ms/step - loss: 0.7189 - accuracy: 0.7170 - balanced_acc: 0.5838 - val_loss: 0.8312 - val_accuracy: 0.7254 - val_balanced_acc: 0.4431 - lr: 1.2500e-04\n",
            "Epoch 48/1000\n",
            "167/167 [==============================] - ETA: 0s - loss: 0.7096 - accuracy: 0.7299 - balanced_acc: 0.6053\n",
            "Epoch 48: val_balanced_acc did not improve from 0.49246\n",
            "167/167 [==============================] - 19s 112ms/step - loss: 0.7096 - accuracy: 0.7299 - balanced_acc: 0.6053 - val_loss: 0.8343 - val_accuracy: 0.7461 - val_balanced_acc: 0.4530 - lr: 6.2500e-05\n"
          ]
        }
      ],
      "source": [
        "#Training\n",
        "input_shape = X_train.shape[1:]\n",
        "input_tensor = Input(shape=(IMAGE_H, IMAGE_W, 3))\n",
        "x = data_augmentation(input_tensor)\n",
        "#x = rescale_layer(x)\n",
        "\n",
        "base_model = ResNet50(input_shape=input_shape, weights='imagenet', include_top=False)\n",
        "x = base_model(x)\n",
        "x = Flatten()(x)\n",
        "x = Dense(128, activation='relu')(x)\n",
        "predictions = Dense(7, activation='softmax')(x)\n",
        "model = Model(inputs=input_tensor, outputs=predictions)\n",
        "\n",
        "for layer in base_model.layers:\n",
        "    layer.trainable = False\n",
        "\n",
        "model.compile(optimizer = optimizer , loss = \"categorical_crossentropy\", metrics=['accuracy', balanced_acc])\n",
        "#hst = model.fit(dataaugment.flow(X_train,y_train, batch_size=BATCH_SIZE),\n",
        "hst = model.fit(train_data_batches,\n",
        "                    epochs = EPOCHS, validation_data = valid_data_batches,      \n",
        "                    #steps_per_epoch=X_train.shape[0] // BATCH_SIZE, \n",
        "                    callbacks=[learning_rate_reduction,early_stopping_monitor, mc])\n"
      ]
    },
    {
      "cell_type": "code",
      "execution_count": 157,
      "metadata": {
        "id": "vXnW3lmCgln3",
        "colab": {
          "base_uri": "https://localhost:8080/",
          "height": 295
        },
        "outputId": "ea5ea35c-f123-46a0-e0da-d0b7365031ea"
      },
      "outputs": [
        {
          "output_type": "display_data",
          "data": {
            "text/plain": [
              "<Figure size 432x288 with 1 Axes>"
            ],
            "image/png": "[encoded data removed]"
          },
          "metadata": {
            "needs_background": "light"
          }
        }
      ],
      "source": [
        "# summarize history for accuracy\n",
        "plt.plot(hst.history['balanced_acc'])\n",
        "plt.plot(hst.history['val_balanced_acc'])\n",
        "plt.title('Model balanced accuracy')\n",
        "plt.ylabel('Balanced Accuracy')\n",
        "plt.xlabel('epoch')\n",
        "plt.legend(['train', 'val'], loc='upper left')\n",
        "plt.show()"
      ]
    },
    {
      "cell_type": "markdown",
      "metadata": {
        "id": "B2PgksTFkOAq"
      },
      "source": [
        "#Fine Tune"
      ]
    },
    {
      "cell_type": "code",
      "execution_count": 158,
      "metadata": {
        "id": "Nr1jnSM7yzJc",
        "colab": {
          "base_uri": "https://localhost:8080/"
        },
        "outputId": "45404064-a825-485f-a797-d67e05d32092"
      },
      "outputs": [
        {
          "output_type": "stream",
          "name": "stdout",
          "text": [
            "Epoch 1/1000\n",
            "166/167 [============================>.] - ETA: 0s - loss: 0.7033 - accuracy: 0.7321 - balanced_acc: 0.6114\n",
            "Epoch 1: val_balanced_acc did not improve from 0.49246\n",
            "167/167 [==============================] - 24s 114ms/step - loss: 0.7035 - accuracy: 0.7320 - balanced_acc: 0.6112 - val_loss: 0.8343 - val_accuracy: 0.7461 - val_balanced_acc: 0.4540 - lr: 1.0000e-04\n",
            "Epoch 2/1000\n",
            "166/167 [============================>.] - ETA: 0s - loss: 0.6902 - accuracy: 0.7351 - balanced_acc: 0.6104\n",
            "Epoch 2: val_balanced_acc did not improve from 0.49246\n",
            "167/167 [==============================] - 18s 108ms/step - loss: 0.6897 - accuracy: 0.7356 - balanced_acc: 0.6117 - val_loss: 0.8343 - val_accuracy: 0.7461 - val_balanced_acc: 0.4528 - lr: 1.0000e-04\n",
            "Epoch 3/1000\n",
            "166/167 [============================>.] - ETA: 0s - loss: 0.7027 - accuracy: 0.7280 - balanced_acc: 0.6049\n",
            "Epoch 3: val_balanced_acc did not improve from 0.49246\n",
            "167/167 [==============================] - 18s 108ms/step - loss: 0.7027 - accuracy: 0.7277 - balanced_acc: 0.6025 - val_loss: 0.8343 - val_accuracy: 0.7461 - val_balanced_acc: 0.4591 - lr: 1.0000e-04\n",
            "Epoch 4/1000\n",
            "166/167 [============================>.] - ETA: 0s - loss: 0.6960 - accuracy: 0.7267 - balanced_acc: 0.6063\n",
            "Epoch 4: val_balanced_acc did not improve from 0.49246\n",
            "167/167 [==============================] - 18s 109ms/step - loss: 0.6956 - accuracy: 0.7267 - balanced_acc: 0.6063 - val_loss: 0.8343 - val_accuracy: 0.7461 - val_balanced_acc: 0.4238 - lr: 1.0000e-04\n",
            "Epoch 5/1000\n",
            "166/167 [============================>.] - ETA: 0s - loss: 0.7068 - accuracy: 0.7257 - balanced_acc: 0.6068\n",
            "Epoch 5: val_balanced_acc did not improve from 0.49246\n",
            "167/167 [==============================] - 18s 109ms/step - loss: 0.7074 - accuracy: 0.7252 - balanced_acc: 0.6042 - val_loss: 0.8343 - val_accuracy: 0.7461 - val_balanced_acc: 0.4232 - lr: 1.0000e-04\n",
            "Epoch 6/1000\n",
            "166/167 [============================>.] - ETA: 0s - loss: 0.7024 - accuracy: 0.7221 - balanced_acc: 0.5996\n",
            "Epoch 6: val_balanced_acc did not improve from 0.49246\n",
            "167/167 [==============================] - 18s 110ms/step - loss: 0.7023 - accuracy: 0.7220 - balanced_acc: 0.5982 - val_loss: 0.8343 - val_accuracy: 0.7461 - val_balanced_acc: 0.4379 - lr: 1.0000e-04\n",
            "Epoch 7/1000\n",
            "166/167 [============================>.] - ETA: 0s - loss: 0.7057 - accuracy: 0.7308 - balanced_acc: 0.6119\n",
            "Epoch 7: val_balanced_acc did not improve from 0.49246\n",
            "167/167 [==============================] - 18s 110ms/step - loss: 0.7058 - accuracy: 0.7307 - balanced_acc: 0.6103 - val_loss: 0.8343 - val_accuracy: 0.7461 - val_balanced_acc: 0.4581 - lr: 1.0000e-04\n",
            "Epoch 8/1000\n",
            "166/167 [============================>.] - ETA: 0s - loss: 0.7014 - accuracy: 0.7297 - balanced_acc: 0.6052\n",
            "Epoch 8: val_balanced_acc did not improve from 0.49246\n",
            "167/167 [==============================] - 18s 110ms/step - loss: 0.7023 - accuracy: 0.7292 - balanced_acc: 0.6032 - val_loss: 0.8343 - val_accuracy: 0.7461 - val_balanced_acc: 0.4569 - lr: 1.0000e-04\n",
            "Epoch 9/1000\n",
            "166/167 [============================>.] - ETA: 0s - loss: 0.7104 - accuracy: 0.7274 - balanced_acc: 0.6026\n",
            "Epoch 9: val_balanced_acc improved from 0.49246 to 0.49268, saving model to /content/drive/MyDrive/PHD/Model/best_model.h5\n",
            "167/167 [==============================] - 21s 124ms/step - loss: 0.7095 - accuracy: 0.7277 - balanced_acc: 0.6020 - val_loss: 0.8343 - val_accuracy: 0.7461 - val_balanced_acc: 0.4927 - lr: 1.0000e-04\n",
            "Epoch 10/1000\n",
            "166/167 [============================>.] - ETA: 0s - loss: 0.6977 - accuracy: 0.7359 - balanced_acc: 0.6160\n",
            "Epoch 10: val_balanced_acc did not improve from 0.49268\n",
            "167/167 [==============================] - 19s 111ms/step - loss: 0.6973 - accuracy: 0.7361 - balanced_acc: 0.6158 - val_loss: 0.8343 - val_accuracy: 0.7461 - val_balanced_acc: 0.4393 - lr: 1.0000e-04\n",
            "Epoch 11/1000\n",
            "166/167 [============================>.] - ETA: 0s - loss: 0.7009 - accuracy: 0.7299 - balanced_acc: 0.5970\n",
            "Epoch 11: val_balanced_acc did not improve from 0.49268\n",
            "167/167 [==============================] - 18s 111ms/step - loss: 0.7000 - accuracy: 0.7303 - balanced_acc: 0.5968 - val_loss: 0.8343 - val_accuracy: 0.7461 - val_balanced_acc: 0.4569 - lr: 1.0000e-04\n",
            "Epoch 12/1000\n",
            "166/167 [============================>.] - ETA: 0s - loss: 0.7126 - accuracy: 0.7246 - balanced_acc: 0.5958\n",
            "Epoch 12: val_balanced_acc did not improve from 0.49268\n",
            "167/167 [==============================] - 19s 111ms/step - loss: 0.7127 - accuracy: 0.7249 - balanced_acc: 0.5957 - val_loss: 0.8343 - val_accuracy: 0.7461 - val_balanced_acc: 0.4200 - lr: 5.0000e-05\n",
            "Epoch 13/1000\n",
            "166/167 [============================>.] - ETA: 0s - loss: 0.7061 - accuracy: 0.7270 - balanced_acc: 0.6074\n",
            "Epoch 13: val_balanced_acc did not improve from 0.49268\n",
            "167/167 [==============================] - 19s 111ms/step - loss: 0.7054 - accuracy: 0.7275 - balanced_acc: 0.6077 - val_loss: 0.8343 - val_accuracy: 0.7461 - val_balanced_acc: 0.4690 - lr: 5.0000e-05\n",
            "Epoch 14/1000\n",
            "166/167 [============================>.] - ETA: 0s - loss: 0.7075 - accuracy: 0.7193 - balanced_acc: 0.5971\n",
            "Epoch 14: val_balanced_acc did not improve from 0.49268\n",
            "167/167 [==============================] - 19s 111ms/step - loss: 0.7069 - accuracy: 0.7198 - balanced_acc: 0.5975 - val_loss: 0.8343 - val_accuracy: 0.7461 - val_balanced_acc: 0.4900 - lr: 5.0000e-05\n",
            "Epoch 15/1000\n",
            "166/167 [============================>.] - ETA: 0s - loss: 0.6989 - accuracy: 0.7340 - balanced_acc: 0.6041\n",
            "Epoch 15: val_balanced_acc did not improve from 0.49268\n",
            "167/167 [==============================] - 19s 111ms/step - loss: 0.6988 - accuracy: 0.7341 - balanced_acc: 0.6031 - val_loss: 0.8343 - val_accuracy: 0.7461 - val_balanced_acc: 0.4572 - lr: 5.0000e-05\n",
            "Epoch 16/1000\n",
            "166/167 [============================>.] - ETA: 0s - loss: 0.7069 - accuracy: 0.7327 - balanced_acc: 0.6069\n",
            "Epoch 16: val_balanced_acc did not improve from 0.49268\n",
            "167/167 [==============================] - 19s 111ms/step - loss: 0.7062 - accuracy: 0.7331 - balanced_acc: 0.6076 - val_loss: 0.8343 - val_accuracy: 0.7461 - val_balanced_acc: 0.4249 - lr: 5.0000e-05\n",
            "Epoch 17/1000\n",
            "166/167 [============================>.] - ETA: 0s - loss: 0.7138 - accuracy: 0.7270 - balanced_acc: 0.6037\n",
            "Epoch 17: val_balanced_acc did not improve from 0.49268\n",
            "167/167 [==============================] - 19s 111ms/step - loss: 0.7136 - accuracy: 0.7271 - balanced_acc: 0.6034 - val_loss: 0.8343 - val_accuracy: 0.7461 - val_balanced_acc: 0.4417 - lr: 5.0000e-05\n",
            "Epoch 18/1000\n",
            "166/167 [============================>.] - ETA: 0s - loss: 0.6944 - accuracy: 0.7278 - balanced_acc: 0.6025\n",
            "Epoch 18: val_balanced_acc did not improve from 0.49268\n",
            "167/167 [==============================] - 19s 111ms/step - loss: 0.6941 - accuracy: 0.7277 - balanced_acc: 0.5997 - val_loss: 0.8343 - val_accuracy: 0.7461 - val_balanced_acc: 0.4785 - lr: 5.0000e-05\n",
            "Epoch 19/1000\n",
            "166/167 [============================>.] - ETA: 0s - loss: 0.6991 - accuracy: 0.7272 - balanced_acc: 0.6153\n",
            "Epoch 19: val_balanced_acc did not improve from 0.49268\n",
            "167/167 [==============================] - 19s 111ms/step - loss: 0.6990 - accuracy: 0.7271 - balanced_acc: 0.6146 - val_loss: 0.8343 - val_accuracy: 0.7461 - val_balanced_acc: 0.4683 - lr: 5.0000e-05\n",
            "Epoch 20/1000\n",
            "166/167 [============================>.] - ETA: 0s - loss: 0.6948 - accuracy: 0.7299 - balanced_acc: 0.6074\n",
            "Epoch 20: val_balanced_acc improved from 0.49268 to 0.50187, saving model to /content/drive/MyDrive/PHD/Model/best_model.h5\n",
            "167/167 [==============================] - 21s 123ms/step - loss: 0.6947 - accuracy: 0.7298 - balanced_acc: 0.6071 - val_loss: 0.8343 - val_accuracy: 0.7461 - val_balanced_acc: 0.5019 - lr: 5.0000e-05\n",
            "Epoch 21/1000\n",
            "166/167 [============================>.] - ETA: 0s - loss: 0.7179 - accuracy: 0.7174 - balanced_acc: 0.5973\n",
            "Epoch 21: val_balanced_acc did not improve from 0.50187\n",
            "167/167 [==============================] - 19s 111ms/step - loss: 0.7176 - accuracy: 0.7175 - balanced_acc: 0.5966 - val_loss: 0.8343 - val_accuracy: 0.7461 - val_balanced_acc: 0.3720 - lr: 5.0000e-05\n",
            "Epoch 22/1000\n",
            "166/167 [============================>.] - ETA: 0s - loss: 0.6979 - accuracy: 0.7282 - balanced_acc: 0.6057\n",
            "Epoch 22: val_balanced_acc did not improve from 0.50187\n",
            "167/167 [==============================] - 19s 111ms/step - loss: 0.6984 - accuracy: 0.7281 - balanced_acc: 0.6049 - val_loss: 0.8343 - val_accuracy: 0.7461 - val_balanced_acc: 0.4523 - lr: 2.5000e-05\n",
            "Epoch 23/1000\n",
            "166/167 [============================>.] - ETA: 0s - loss: 0.6920 - accuracy: 0.7304 - balanced_acc: 0.6080\n",
            "Epoch 23: val_balanced_acc did not improve from 0.50187\n",
            "167/167 [==============================] - 19s 111ms/step - loss: 0.6924 - accuracy: 0.7303 - balanced_acc: 0.6067 - val_loss: 0.8343 - val_accuracy: 0.7461 - val_balanced_acc: 0.4713 - lr: 2.5000e-05\n",
            "Epoch 24/1000\n",
            "166/167 [============================>.] - ETA: 0s - loss: 0.6998 - accuracy: 0.7280 - balanced_acc: 0.6084\n",
            "Epoch 24: val_balanced_acc did not improve from 0.50187\n",
            "167/167 [==============================] - 19s 111ms/step - loss: 0.6996 - accuracy: 0.7279 - balanced_acc: 0.6071 - val_loss: 0.8343 - val_accuracy: 0.7461 - val_balanced_acc: 0.4381 - lr: 2.5000e-05\n",
            "Epoch 25/1000\n",
            "166/167 [============================>.] - ETA: 0s - loss: 0.7077 - accuracy: 0.7276 - balanced_acc: 0.6059\n",
            "Epoch 25: val_balanced_acc did not improve from 0.50187\n",
            "167/167 [==============================] - 19s 111ms/step - loss: 0.7080 - accuracy: 0.7271 - balanced_acc: 0.6049 - val_loss: 0.8343 - val_accuracy: 0.7461 - val_balanced_acc: 0.4472 - lr: 2.5000e-05\n",
            "Epoch 26/1000\n",
            "166/167 [============================>.] - ETA: 0s - loss: 0.6971 - accuracy: 0.7312 - balanced_acc: 0.6079\n",
            "Epoch 26: val_balanced_acc did not improve from 0.50187\n",
            "167/167 [==============================] - 19s 111ms/step - loss: 0.6967 - accuracy: 0.7313 - balanced_acc: 0.6067 - val_loss: 0.8343 - val_accuracy: 0.7461 - val_balanced_acc: 0.4751 - lr: 2.5000e-05\n",
            "Epoch 27/1000\n",
            "166/167 [============================>.] - ETA: 0s - loss: 0.7029 - accuracy: 0.7255 - balanced_acc: 0.6156\n",
            "Epoch 27: val_balanced_acc did not improve from 0.50187\n",
            "167/167 [==============================] - 19s 111ms/step - loss: 0.7024 - accuracy: 0.7258 - balanced_acc: 0.6164 - val_loss: 0.8343 - val_accuracy: 0.7461 - val_balanced_acc: 0.4432 - lr: 2.5000e-05\n",
            "Epoch 28/1000\n",
            "166/167 [============================>.] - ETA: 0s - loss: 0.7003 - accuracy: 0.7284 - balanced_acc: 0.6137\n",
            "Epoch 28: val_balanced_acc did not improve from 0.50187\n",
            "167/167 [==============================] - 19s 111ms/step - loss: 0.7003 - accuracy: 0.7282 - balanced_acc: 0.6130 - val_loss: 0.8343 - val_accuracy: 0.7461 - val_balanced_acc: 0.4248 - lr: 2.5000e-05\n",
            "Epoch 29/1000\n",
            "166/167 [============================>.] - ETA: 0s - loss: 0.7006 - accuracy: 0.7342 - balanced_acc: 0.6157\n",
            "Epoch 29: val_balanced_acc did not improve from 0.50187\n",
            "167/167 [==============================] - 19s 111ms/step - loss: 0.7000 - accuracy: 0.7346 - balanced_acc: 0.6150 - val_loss: 0.8343 - val_accuracy: 0.7461 - val_balanced_acc: 0.4154 - lr: 2.5000e-05\n",
            "Epoch 30/1000\n",
            "166/167 [============================>.] - ETA: 0s - loss: 0.7079 - accuracy: 0.7235 - balanced_acc: 0.5997\n",
            "Epoch 30: val_balanced_acc did not improve from 0.50187\n",
            "167/167 [==============================] - 19s 111ms/step - loss: 0.7085 - accuracy: 0.7234 - balanced_acc: 0.5987 - val_loss: 0.8343 - val_accuracy: 0.7461 - val_balanced_acc: 0.4746 - lr: 2.5000e-05\n",
            "Epoch 31/1000\n",
            "166/167 [============================>.] - ETA: 0s - loss: 0.7038 - accuracy: 0.7287 - balanced_acc: 0.6085\n",
            "Epoch 31: val_balanced_acc did not improve from 0.50187\n",
            "167/167 [==============================] - 19s 111ms/step - loss: 0.7037 - accuracy: 0.7288 - balanced_acc: 0.6084 - val_loss: 0.8343 - val_accuracy: 0.7461 - val_balanced_acc: 0.4215 - lr: 2.5000e-05\n",
            "Epoch 32/1000\n",
            "166/167 [============================>.] - ETA: 0s - loss: 0.7186 - accuracy: 0.7204 - balanced_acc: 0.6027\n",
            "Epoch 32: val_balanced_acc did not improve from 0.50187\n",
            "167/167 [==============================] - 19s 111ms/step - loss: 0.7185 - accuracy: 0.7205 - balanced_acc: 0.6018 - val_loss: 0.8343 - val_accuracy: 0.7461 - val_balanced_acc: 0.4289 - lr: 1.2500e-05\n",
            "Epoch 33/1000\n",
            "166/167 [============================>.] - ETA: 0s - loss: 0.6994 - accuracy: 0.7268 - balanced_acc: 0.6067\n",
            "Epoch 33: val_balanced_acc did not improve from 0.50187\n",
            "167/167 [==============================] - 19s 111ms/step - loss: 0.6994 - accuracy: 0.7269 - balanced_acc: 0.6066 - val_loss: 0.8343 - val_accuracy: 0.7461 - val_balanced_acc: 0.4656 - lr: 1.2500e-05\n",
            "Epoch 34/1000\n",
            "166/167 [============================>.] - ETA: 0s - loss: 0.6973 - accuracy: 0.7280 - balanced_acc: 0.6049\n",
            "Epoch 34: val_balanced_acc did not improve from 0.50187\n",
            "167/167 [==============================] - 19s 111ms/step - loss: 0.6973 - accuracy: 0.7282 - balanced_acc: 0.6032 - val_loss: 0.8343 - val_accuracy: 0.7461 - val_balanced_acc: 0.4724 - lr: 1.2500e-05\n",
            "Epoch 35/1000\n",
            "166/167 [============================>.] - ETA: 0s - loss: 0.7090 - accuracy: 0.7287 - balanced_acc: 0.6035\n",
            "Epoch 35: val_balanced_acc did not improve from 0.50187\n",
            "167/167 [==============================] - 19s 111ms/step - loss: 0.7093 - accuracy: 0.7286 - balanced_acc: 0.6022 - val_loss: 0.8343 - val_accuracy: 0.7461 - val_balanced_acc: 0.4357 - lr: 1.2500e-05\n",
            "Epoch 36/1000\n",
            "166/167 [============================>.] - ETA: 0s - loss: 0.7097 - accuracy: 0.7212 - balanced_acc: 0.6020\n",
            "Epoch 36: val_balanced_acc did not improve from 0.50187\n",
            "167/167 [==============================] - 19s 111ms/step - loss: 0.7098 - accuracy: 0.7211 - balanced_acc: 0.5999 - val_loss: 0.8343 - val_accuracy: 0.7461 - val_balanced_acc: 0.4522 - lr: 1.2500e-05\n",
            "Epoch 37/1000\n",
            "166/167 [============================>.] - ETA: 0s - loss: 0.7070 - accuracy: 0.7317 - balanced_acc: 0.6057\n",
            "Epoch 37: val_balanced_acc did not improve from 0.50187\n",
            "167/167 [==============================] - 19s 111ms/step - loss: 0.7066 - accuracy: 0.7320 - balanced_acc: 0.6050 - val_loss: 0.8343 - val_accuracy: 0.7461 - val_balanced_acc: 0.4532 - lr: 1.2500e-05\n",
            "Epoch 38/1000\n",
            "166/167 [============================>.] - ETA: 0s - loss: 0.6989 - accuracy: 0.7250 - balanced_acc: 0.6050\n",
            "Epoch 38: val_balanced_acc did not improve from 0.50187\n",
            "167/167 [==============================] - 19s 111ms/step - loss: 0.6985 - accuracy: 0.7249 - balanced_acc: 0.6042 - val_loss: 0.8343 - val_accuracy: 0.7461 - val_balanced_acc: 0.4565 - lr: 1.2500e-05\n",
            "Epoch 39/1000\n",
            "166/167 [============================>.] - ETA: 0s - loss: 0.7073 - accuracy: 0.7259 - balanced_acc: 0.6045\n",
            "Epoch 39: val_balanced_acc did not improve from 0.50187\n",
            "167/167 [==============================] - 19s 111ms/step - loss: 0.7068 - accuracy: 0.7260 - balanced_acc: 0.6043 - val_loss: 0.8343 - val_accuracy: 0.7461 - val_balanced_acc: 0.4980 - lr: 1.2500e-05\n",
            "Epoch 40/1000\n",
            "166/167 [============================>.] - ETA: 0s - loss: 0.7029 - accuracy: 0.7270 - balanced_acc: 0.6127\n",
            "Epoch 40: val_balanced_acc did not improve from 0.50187\n",
            "167/167 [==============================] - 19s 111ms/step - loss: 0.7031 - accuracy: 0.7269 - balanced_acc: 0.6112 - val_loss: 0.8343 - val_accuracy: 0.7461 - val_balanced_acc: 0.4732 - lr: 1.2500e-05\n",
            "Epoch 41/1000\n",
            "166/167 [============================>.] - ETA: 0s - loss: 0.6931 - accuracy: 0.7299 - balanced_acc: 0.6029\n",
            "Epoch 41: val_balanced_acc did not improve from 0.50187\n",
            "167/167 [==============================] - 19s 111ms/step - loss: 0.6927 - accuracy: 0.7298 - balanced_acc: 0.6019 - val_loss: 0.8343 - val_accuracy: 0.7461 - val_balanced_acc: 0.4725 - lr: 1.2500e-05\n",
            "Epoch 42/1000\n",
            "166/167 [============================>.] - ETA: 0s - loss: 0.7005 - accuracy: 0.7272 - balanced_acc: 0.6095\n",
            "Epoch 42: val_balanced_acc did not improve from 0.50187\n",
            "167/167 [==============================] - 19s 111ms/step - loss: 0.7002 - accuracy: 0.7273 - balanced_acc: 0.6081 - val_loss: 0.8343 - val_accuracy: 0.7461 - val_balanced_acc: 0.4267 - lr: 1.0000e-05\n",
            "Epoch 43/1000\n",
            "166/167 [============================>.] - ETA: 0s - loss: 0.7087 - accuracy: 0.7308 - balanced_acc: 0.6168\n",
            "Epoch 43: val_balanced_acc did not improve from 0.50187\n",
            "167/167 [==============================] - 19s 111ms/step - loss: 0.7092 - accuracy: 0.7307 - balanced_acc: 0.6157 - val_loss: 0.8343 - val_accuracy: 0.7461 - val_balanced_acc: 0.4510 - lr: 1.0000e-05\n",
            "Epoch 44/1000\n",
            "166/167 [============================>.] - ETA: 0s - loss: 0.7004 - accuracy: 0.7316 - balanced_acc: 0.6064\n",
            "Epoch 44: val_balanced_acc did not improve from 0.50187\n",
            "167/167 [==============================] - 19s 111ms/step - loss: 0.7002 - accuracy: 0.7316 - balanced_acc: 0.6063 - val_loss: 0.8343 - val_accuracy: 0.7461 - val_balanced_acc: 0.4365 - lr: 1.0000e-05\n",
            "Epoch 45/1000\n",
            "166/167 [============================>.] - ETA: 0s - loss: 0.7000 - accuracy: 0.7278 - balanced_acc: 0.5969\n",
            "Epoch 45: val_balanced_acc did not improve from 0.50187\n",
            "167/167 [==============================] - 19s 111ms/step - loss: 0.6994 - accuracy: 0.7281 - balanced_acc: 0.5958 - val_loss: 0.8343 - val_accuracy: 0.7461 - val_balanced_acc: 0.4591 - lr: 1.0000e-05\n",
            "Epoch 46/1000\n",
            "166/167 [============================>.] - ETA: 0s - loss: 0.7088 - accuracy: 0.7248 - balanced_acc: 0.6060\n",
            "Epoch 46: val_balanced_acc did not improve from 0.50187\n",
            "167/167 [==============================] - 19s 111ms/step - loss: 0.7089 - accuracy: 0.7249 - balanced_acc: 0.6049 - val_loss: 0.8343 - val_accuracy: 0.7461 - val_balanced_acc: 0.4268 - lr: 1.0000e-05\n",
            "Epoch 47/1000\n",
            "166/167 [============================>.] - ETA: 0s - loss: 0.7066 - accuracy: 0.7310 - balanced_acc: 0.6093\n",
            "Epoch 47: val_balanced_acc did not improve from 0.50187\n",
            "167/167 [==============================] - 19s 111ms/step - loss: 0.7062 - accuracy: 0.7311 - balanced_acc: 0.6093 - val_loss: 0.8343 - val_accuracy: 0.7461 - val_balanced_acc: 0.4615 - lr: 1.0000e-05\n",
            "Epoch 48/1000\n",
            "166/167 [============================>.] - ETA: 0s - loss: 0.6899 - accuracy: 0.7396 - balanced_acc: 0.6187\n",
            "Epoch 48: val_balanced_acc did not improve from 0.50187\n",
            "167/167 [==============================] - 19s 111ms/step - loss: 0.6894 - accuracy: 0.7399 - balanced_acc: 0.6178 - val_loss: 0.8343 - val_accuracy: 0.7461 - val_balanced_acc: 0.4496 - lr: 1.0000e-05\n",
            "Epoch 49/1000\n",
            "166/167 [============================>.] - ETA: 0s - loss: 0.6958 - accuracy: 0.7331 - balanced_acc: 0.6097\n",
            "Epoch 49: val_balanced_acc did not improve from 0.50187\n",
            "167/167 [==============================] - 19s 111ms/step - loss: 0.6961 - accuracy: 0.7329 - balanced_acc: 0.6086 - val_loss: 0.8343 - val_accuracy: 0.7461 - val_balanced_acc: 0.4682 - lr: 1.0000e-05\n",
            "Epoch 50/1000\n",
            "166/167 [============================>.] - ETA: 0s - loss: 0.7008 - accuracy: 0.7306 - balanced_acc: 0.6078\n",
            "Epoch 50: val_balanced_acc did not improve from 0.50187\n",
            "167/167 [==============================] - 19s 111ms/step - loss: 0.7005 - accuracy: 0.7307 - balanced_acc: 0.6070 - val_loss: 0.8343 - val_accuracy: 0.7461 - val_balanced_acc: 0.4435 - lr: 1.0000e-05\n"
          ]
        }
      ],
      "source": [
        "limit = 171\n",
        "for layer in model.layers[:limit]:\n",
        "   layer.trainable = False\n",
        "for layer in model.layers[limit:]:\n",
        "   layer.trainable = True\n",
        "\n",
        "optimizer_SGD = SGD(learning_rate=0.0001, momentum=0.9)\n",
        "model.compile(optimizer = optimizer_SGD , loss = \"categorical_crossentropy\", metrics=['accuracy', balanced_acc])\n",
        "hst2 = model.fit(train_data_batches,\n",
        "                    epochs = EPOCHS, validation_data = valid_data_batches,\n",
        "                    callbacks=[learning_rate_reduction,early_stopping_monitor, mc])\n"
      ]
    },
    {
      "cell_type": "code",
      "execution_count": 159,
      "metadata": {
        "id": "SPz8NH1Oylv9"
      },
      "outputs": [],
      "source": [
        "#save last model\n",
        "\n",
        "model.save(last_model_fpath)"
      ]
    },
    {
      "cell_type": "code",
      "execution_count": 165,
      "metadata": {
        "id": "lS3ewyxO_anU",
        "colab": {
          "base_uri": "https://localhost:8080/"
        },
        "outputId": "98d498e4-83ac-42d3-eab8-8fc6e06869f1"
      },
      "outputs": [
        {
          "output_type": "stream",
          "name": "stdout",
          "text": [
            "balanced accuracy on training 0.6251440391318218\n",
            "balanced accuracy on validation 0.6145979456083985\n",
            "Score on val data:  (0.5389483846343818, 0.6145979456083985, 0.49876847290640386, None)\n"
          ]
        },
        {
          "output_type": "stream",
          "name": "stderr",
          "text": [
            "/usr/local/lib/python3.7/dist-packages/sklearn/metrics/_classification.py:1318: UndefinedMetricWarning: Precision and F-score are ill-defined and being set to 0.0 in labels with no predicted samples. Use `zero_division` parameter to control this behavior.\n",
            "  _warn_prf(average, modifier, msg_start, len(result))\n"
          ]
        }
      ],
      "source": [
        "#last_model = load_model(last_model_fpath)\n",
        "y_train_pred = model.predict(X_train)\n",
        "y_val_pred = model.predict(X_val)\n",
        "\n",
        "print('balanced accuracy on training',balanced_accuracy_score(np.argmax(y_train, axis=1), np.argmax(y_train_pred, axis=1)))\n",
        "print('balanced accuracy on validation',balanced_accuracy_score(np.argmax(y_val, axis=1), np.argmax(y_val_pred, axis=1)))\n",
        "print('Score on val data: ',precision_recall_fscore_support(np.argmax(y_val, axis=1), np.argmax(y_val_pred, axis=1), average='macro'))"
      ]
    },
    {
      "cell_type": "code",
      "execution_count": null,
      "metadata": {
        "id": "W3IyWjdGG4Xq"
      },
      "outputs": [],
      "source": [
        "best_model = load_model(best_model_fpath)\n",
        "y_train_pred = best_model.predict(X_train)\n",
        "y_val_pred = best_model.predict(X_val)\n",
        "\n",
        "print('balanced accuracy on training',balanced_accuracy_score(np.argmax(y_train, axis=1), np.argmax(y_train_pred, axis=1)))\n",
        "print('balanced accuracy on validation',balanced_accuracy_score(np.argmax(y_val, axis=1), np.argmax(y_val_pred, axis=1)))\n",
        "print('Score on val data: ',precision_recall_fscore_support(np.argmax(y_val, axis=1), np.argmax(y_val_pred, axis=1), average='macro'))"
      ]
    },
    {
      "cell_type": "code",
      "execution_count": 163,
      "metadata": {
        "id": "vO1aAQBmiy0K",
        "colab": {
          "base_uri": "https://localhost:8080/",
          "height": 295
        },
        "outputId": "a80bddb1-e1a2-457f-9569-eee911191751"
      },
      "outputs": [
        {
          "output_type": "display_data",
          "data": {
            "text/plain": [
              "<Figure size 432x288 with 1 Axes>"
            ],
            "image/png": "[encoded data removed]"
          },
          "metadata": {
            "needs_background": "light"
          }
        }
      ],
      "source": [
        "# summarize history for accuracy\n",
        "plt.plot(hst2.history['balanced_acc'])\n",
        "plt.plot(hst2.history['val_balanced_acc'])\n",
        "plt.title('model balance_acc after tunning')\n",
        "plt.ylabel('accuracy')\n",
        "plt.xlabel('epoch')\n",
        "plt.legend(['train', 'val'], loc='upper left')\n",
        "plt.show()"
      ]
    },
    {
      "cell_type": "markdown",
      "metadata": {
        "id": "3K908bbiYwbS"
      },
      "source": [
        "#Testing\n",
        "Result from ISIC Live\n",
        "last_model: 0.506\n",
        "best_model: 0.478"
      ]
    },
    {
      "cell_type": "code",
      "execution_count": 166,
      "metadata": {
        "id": "NeMY2yvMYxsC"
      },
      "outputs": [],
      "source": [
        "dir_test = '/content/drive/MyDrive/PHD/Datasets/isic2018/ISIC2018_Task3_Test_Input/'\n",
        "filepaths = sorted( filter( lambda x: (os.path.isfile(os.path.join(dir_test, x))) and (x.endswith('.jpg')),\n",
        "                        os.listdir(dir_test) ) )"
      ]
    },
    {
      "cell_type": "code",
      "execution_count": 167,
      "metadata": {
        "id": "6ic95mefkpG3"
      },
      "outputs": [],
      "source": [
        "df_test = pd.DataFrame(filepaths, columns =['image'])\n",
        "df_test['FilePaths'] = dir_test + df_test['image']\n",
        "#df_test"
      ]
    },
    {
      "cell_type": "code",
      "execution_count": 168,
      "metadata": {
        "id": "NBa1TxPuY8ni"
      },
      "outputs": [],
      "source": [
        "df_test['image_px'] = df_test['FilePaths'].map(lambda x: np.asarray(Image.open(x).resize(IMG_SIZE)))"
      ]
    },
    {
      "cell_type": "code",
      "execution_count": 169,
      "metadata": {
        "id": "60LYAT7VsNOZ",
        "colab": {
          "base_uri": "https://localhost:8080/"
        },
        "outputId": "ea6c84b7-fe4d-4e5f-f5ff-075a41a8c084"
      },
      "outputs": [
        {
          "output_type": "stream",
          "name": "stdout",
          "text": [
            "(1512, 224, 224, 3)\n"
          ]
        }
      ],
      "source": [
        "X_test = np.asarray(df_test['image_px'].tolist())\n",
        "print(np.array(X_test).shape)"
      ]
    },
    {
      "cell_type": "markdown",
      "metadata": {
        "id": "FF7ml90JZ8FK"
      },
      "source": [
        "Calculate y_pred from training and testing for analysis"
      ]
    },
    {
      "cell_type": "code",
      "execution_count": 170,
      "metadata": {
        "id": "dIX0AmEFNv3Y",
        "colab": {
          "base_uri": "https://localhost:8080/"
        },
        "outputId": "210647f3-18e9-4849-98ee-99a631064e58"
      },
      "outputs": [
        {
          "output_type": "stream",
          "name": "stdout",
          "text": [
            "Y_pred2 (1512, 7)\n",
            "y_pred2 1512\n"
          ]
        }
      ],
      "source": [
        "# predicted labels\n",
        "Y_pred2 = model.predict(X_test)\n",
        "print(\"Y_pred2\", Y_pred2.shape)\n",
        "# rounded labels\n",
        "y_pred2 = np.argmax(Y_pred2, axis=1)\n",
        "print(\"y_pred2\", y_pred2.size)"
      ]
    },
    {
      "cell_type": "code",
      "execution_count": 177,
      "metadata": {
        "id": "7oeArO5CtxGb"
      },
      "outputs": [],
      "source": [
        "df_pred = pd.DataFrame(Y_pred2, columns = ['AKIEC', 'BCC', 'BKL', 'DF', 'MEL', 'NV', 'VASC'])\n",
        "df_pred['image'] = df_test['FilePaths'].map(lambda x: x.replace(dir_test, '').replace('.jpg', ''))\n",
        "df_pred = df_pred[['image', 'MEL', 'NV', 'BCC', 'AKIEC', 'BKL', 'DF', 'VASC']]"
      ]
    },
    {
      "cell_type": "code",
      "execution_count": 178,
      "metadata": {
        "id": "sOnjc3RJ0e4T"
      },
      "outputs": [],
      "source": [
        "df_pred.set_index(\"image\", inplace = True)\n",
        "df_pred.to_csv('/content/drive/MyDrive/PHD/Datasets/isic2018/response_NoOversampling_last.csv')"
      ]
    },
    {
      "cell_type": "markdown",
      "metadata": {
        "id": "eaK4zbtoaAaC"
      },
      "source": [
        "#Confusion Metric on Validation Set"
      ]
    },
    {
      "cell_type": "code",
      "execution_count": 173,
      "metadata": {
        "id": "E4nEpmkZaTZC",
        "colab": {
          "base_uri": "https://localhost:8080/"
        },
        "outputId": "904d0aa5-5900-4173-d2db-699d9953038d"
      },
      "outputs": [
        {
          "output_type": "stream",
          "name": "stdout",
          "text": [
            "[[  0   0   6   0   1   1   0]\n",
            " [  0  10   1   3   1   0   0]\n",
            " [  0   1  16   0   5   0   0]\n",
            " [  0   0   0   1   0   0   0]\n",
            " [  0   0   5   0  16   0   0]\n",
            " [  0   3   8   1  11 100   0]\n",
            " [  0   0   0   1   1   0   1]]\n"
          ]
        }
      ],
      "source": [
        "#Get the confusion matrix\n",
        "cf_matrix = confusion_matrix(np.argmax(y_val, axis=1), np.argmax(y_val_pred, axis=1))\n",
        "\n",
        "print(cf_matrix)"
      ]
    },
    {
      "cell_type": "code",
      "execution_count": 174,
      "metadata": {
        "id": "gVtvW3YeaLlC",
        "colab": {
          "base_uri": "https://localhost:8080/",
          "height": 340
        },
        "outputId": "cb71e841-5640-47ee-bc73-22a8ee76b147"
      },
      "outputs": [
        {
          "output_type": "display_data",
          "data": {
            "text/plain": [
              "<Figure size 432x288 with 2 Axes>"
            ],
            "image/png": "[encoded data removed]"
          },
          "metadata": {
            "needs_background": "light"
          }
        }
      ],
      "source": [
        "ax = sns.heatmap(cf_matrix / cf_matrix.sum(axis=1, keepdims=True), annot=True, \n",
        "            cmap='Blues')\n",
        "\n",
        "ax.set_title('Confusion Matrix \\n');\n",
        "ax.set_xlabel('\\nPredicted')\n",
        "ax.set_ylabel('Actual ');\n",
        "\n",
        "## Ticket labels - List must be in alphabetical order\n",
        "ax.xaxis.set_ticklabels(['AKIEC', 'BCC', 'BKL', 'DF', 'MEL', 'NV', 'VASC'])\n",
        "ax.yaxis.set_ticklabels(['AKIEC', 'BCC', 'BKL', 'DF', 'MEL', 'NV', 'VASC'])\n",
        "\n",
        "plt.rcParams[\"figure.figsize\"] = (15,3)\n",
        "\n",
        "## Display the visualization of the Confusion Matrix.\n",
        "plt.xticks(rotation=45, ha='right')\n",
        "plt.yticks(rotation=0, ha='right')\n",
        "plt.show()"
      ]
    },
    {
      "cell_type": "code",
      "execution_count": 175,
      "metadata": {
        "id": "Ey-1yjWGeKs7",
        "colab": {
          "base_uri": "https://localhost:8080/",
          "height": 509
        },
        "outputId": "1c566ff4-c919-4269-cbab-8e55e5d3c8e7"
      },
      "outputs": [
        {
          "output_type": "execute_result",
          "data": {
            "text/plain": [
              "[Text(0, 0, 'AKIEC'),\n",
              " Text(0, 0, 'BCC'),\n",
              " Text(0, 0, 'BKL'),\n",
              " Text(0, 0, 'DF'),\n",
              " Text(0, 0, 'MEL'),\n",
              " Text(0, 0, 'NV'),\n",
              " Text(0, 0, 'VASC')]"
            ]
          },
          "metadata": {},
          "execution_count": 175
        },
        {
          "output_type": "display_data",
          "data": {
            "text/plain": [
              "<Figure size 1080x432 with 1 Axes>"
            ],
            "image/png": "[encoded data removed]"
          },
          "metadata": {
            "needs_background": "light"
          }
        }
      ],
      "source": [
        "# ordered count of rows per unique label\n",
        "labels_count = df_val['Labels'].value_counts().sort_index()\n",
        "\n",
        "f = plt.figure(figsize=(15, 6))\n",
        "s = sns.barplot(x=labels_count.index,y=labels_count.values)\n",
        "s.set_xticklabels(s.get_xticklabels(), rotation = 30)"
      ]
    }
  ],
  "metadata": {
    "accelerator": "GPU",
    "colab": {
      "collapsed_sections": [
        "uZv-B-ygCD57",
        "cNBXx28B9yGu",
        "0jrJ33lUDkCM",
        "3K908bbiYwbS"
      ],
      "machine_shape": "hm",
      "name": "Skin Cancer Diagnosis using ISIC 2018 Dataset.ipynb",
      "provenance": [],
      "include_colab_link": true
    },
    "gpuClass": "standard",
    "kernelspec": {
      "display_name": "Python 3",
      "name": "python3"
    },
    "language_info": {
      "name": "python"
    }
  },
  "nbformat": 4,
  "nbformat_minor": 0
}
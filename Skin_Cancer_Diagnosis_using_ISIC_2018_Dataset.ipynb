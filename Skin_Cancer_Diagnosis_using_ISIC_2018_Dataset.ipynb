{
  "nbformat": 4,
  "nbformat_minor": 0,
  "metadata": {
    "colab": {
      "name": "Skin Cancer Diagnosis using ISIC 2018 Dataset.ipynb",
      "provenance": [],
      "machine_shape": "hm",
      "include_colab_link": true
    },
    "kernelspec": {
      "name": "python3",
      "display_name": "Python 3"
    },
    "language_info": {
      "name": "python"
    },
    "accelerator": "GPU",
    "gpuClass": "standard"
  },
  "cells": [
    {
      "cell_type": "markdown",
      "metadata": {
        "id": "view-in-github",
        "colab_type": "text"
      },
      "source": [
        "<a href=\"https://colab.research.google.com/github/heroza/Skin-Cancer-Diagnosis/blob/main/Skin_Cancer_Diagnosis_using_ISIC_2018_Dataset.ipynb\" target=\"_parent\"><img src=\"https://colab.research.google.com/assets/colab-badge.svg\" alt=\"Open In Colab\"/></a>"
      ]
    },
    {
      "cell_type": "markdown",
      "source": [
        "Prepare the dataset. \n",
        "Currently, we use skin cancer ISIC dataset from Kaggle https://www.kaggle.com/datasets/nodoubttome/skin-cancer9-classesisic\n",
        "\n",
        "Tutorial for how to load Kaggle dataset can be found in https://www.analyticsvidhya.com/blog/2021/06/how-to-load-kaggle-datasets-directly-into-google-colab/"
      ],
      "metadata": {
        "id": "PUusDE1Z9TNb"
      }
    },
    {
      "cell_type": "code",
      "source": [
        "from google.colab import drive\n",
        "drive.mount('/content/drive')"
      ],
      "metadata": {
        "id": "Eus_4tUgfEk9",
        "outputId": "103674bc-dfca-4cba-d9dc-3e1adc5e207c",
        "colab": {
          "base_uri": "https://localhost:8080/"
        }
      },
      "execution_count": 1,
      "outputs": [
        {
          "output_type": "stream",
          "name": "stdout",
          "text": [
            "Mounted at /content/drive\n"
          ]
        }
      ]
    },
    {
      "cell_type": "markdown",
      "source": [
        "Load Data"
      ],
      "metadata": {
        "id": "RcRGeofw-8tK"
      }
    },
    {
      "cell_type": "code",
      "source": [
        "import pandas as pd\n",
        "import numpy as np\n",
        "import tensorflow as tf\n",
        "import matplotlib.pyplot as plt\n",
        "import seaborn as sns\n",
        "from pathlib import Path\n",
        "from PIL import Image\n",
        "from sklearn import preprocessing\n",
        "from sklearn.metrics import precision_recall_fscore_support\n",
        "from sklearn.metrics import confusion_matrix\n",
        "from keras.callbacks import ReduceLROnPlateau, EarlyStopping\n",
        "from keras.preprocessing.image import ImageDataGenerator\n",
        "from tensorflow.keras.optimizers import Adam, SGD\n",
        "from tensorflow.keras.preprocessing import image\n",
        "from tensorflow.keras.applications.resnet50 import ResNet50, preprocess_input, decode_predictions\n",
        "from tensorflow.keras.layers import GlobalAveragePooling2D, Dense, Input, Dropout, Flatten\n",
        "from tensorflow.keras.models import Model\n",
        "\n",
        "!pip install imbalanced-learn\n",
        "import imblearn\n",
        "from imblearn.over_sampling import SMOTE"
      ],
      "metadata": {
        "id": "nR2MJBYq-oiB"
      },
      "execution_count": 2,
      "outputs": []
    },
    {
      "cell_type": "code",
      "source": [
        "df_train = pd.read_csv('/content/drive/MyDrive/PHD/Datasets/isic2018/ISIC2018_Task3_Training_GroundTruth/ISIC2018_Task3_Training_GroundTruth.csv') \n",
        "df_val = pd.read_csv('/content/drive/MyDrive/PHD/Datasets/isic2018/ISIC2018_Task3_Validation_GroundTruth/ISIC2018_Task3_Validation_GroundTruth.csv') \n",
        "num_classes = 7\n",
        "#df_train"
      ],
      "metadata": {
        "id": "3mnEebdJH6Ex"
      },
      "execution_count": 3,
      "outputs": []
    },
    {
      "cell_type": "code",
      "source": [
        "#decode one hot label\n",
        "df_train[\"Labels\"] = (df_train.iloc[:, 1:]).idxmax(axis=1)\n",
        "df_val[\"Labels\"] = (df_val.iloc[:, 1:]).idxmax(axis=1)\n",
        "\n",
        "#drop one-hot column\n",
        "df_train = df_train.drop(columns=['MEL', 'NV', 'BCC', 'AKIEC', 'BKL', 'DF', 'VASC'])\n",
        "df_val = df_val.drop(columns=['MEL', 'NV', 'BCC', 'AKIEC', 'BKL', 'DF', 'VASC'])\n",
        "\n",
        "#make filepaths of the image\n",
        "dir_train = '/content/drive/MyDrive/PHD/Datasets/isic2018/ISIC2018_Task3_Training_Input/'\n",
        "dir_val = '/content/drive/MyDrive/PHD/Datasets/isic2018/ISIC2018_Task3_Validation_Input/'\n",
        "df_train['FilePaths'] = dir_train + df_train['image'] + '.jpg'\n",
        "df_val['FilePaths'] = dir_val + df_val['image'] + '.jpg'"
      ],
      "metadata": {
        "id": "aFSe3uekK67v"
      },
      "execution_count": 5,
      "outputs": []
    },
    {
      "cell_type": "code",
      "source": [
        "df_train"
      ],
      "metadata": {
        "colab": {
          "base_uri": "https://localhost:8080/",
          "height": 424
        },
        "id": "GovSOaBxI_KG",
        "outputId": "e737613f-b71f-47ec-e795-a66ebb6cfe0d"
      },
      "execution_count": 8,
      "outputs": [
        {
          "output_type": "execute_result",
          "data": {
            "text/plain": [
              "              image Labels                                          FilePaths\n",
              "0      ISIC_0024306     NV  /content/drive/MyDrive/PHD/Datasets/isic2018/I...\n",
              "1      ISIC_0024307     NV  /content/drive/MyDrive/PHD/Datasets/isic2018/I...\n",
              "2      ISIC_0024308     NV  /content/drive/MyDrive/PHD/Datasets/isic2018/I...\n",
              "3      ISIC_0024309     NV  /content/drive/MyDrive/PHD/Datasets/isic2018/I...\n",
              "4      ISIC_0024310    MEL  /content/drive/MyDrive/PHD/Datasets/isic2018/I...\n",
              "...             ...    ...                                                ...\n",
              "10010  ISIC_0034316    MEL  /content/drive/MyDrive/PHD/Datasets/isic2018/I...\n",
              "10011  ISIC_0034317    MEL  /content/drive/MyDrive/PHD/Datasets/isic2018/I...\n",
              "10012  ISIC_0034318    BKL  /content/drive/MyDrive/PHD/Datasets/isic2018/I...\n",
              "10013  ISIC_0034319     NV  /content/drive/MyDrive/PHD/Datasets/isic2018/I...\n",
              "10014  ISIC_0034320     NV  /content/drive/MyDrive/PHD/Datasets/isic2018/I...\n",
              "\n",
              "[10015 rows x 3 columns]"
            ],
            "text/html": [
              "\n",
              "  <div id=\"df-cc89811f-7f1a-4991-bbf1-bec668e3625b\">\n",
              "    <div class=\"colab-df-container\">\n",
              "      <div>\n",
              "<style scoped>\n",
              "    .dataframe tbody tr th:only-of-type {\n",
              "        vertical-align: middle;\n",
              "    }\n",
              "\n",
              "    .dataframe tbody tr th {\n",
              "        vertical-align: top;\n",
              "    }\n",
              "\n",
              "    .dataframe thead th {\n",
              "        text-align: right;\n",
              "    }\n",
              "</style>\n",
              "<table border=\"1\" class=\"dataframe\">\n",
              "  <thead>\n",
              "    <tr style=\"text-align: right;\">\n",
              "      <th></th>\n",
              "      <th>image</th>\n",
              "      <th>Labels</th>\n",
              "      <th>FilePaths</th>\n",
              "    </tr>\n",
              "  </thead>\n",
              "  <tbody>\n",
              "    <tr>\n",
              "      <th>0</th>\n",
              "      <td>ISIC_0024306</td>\n",
              "      <td>NV</td>\n",
              "      <td>/content/drive/MyDrive/PHD/Datasets/isic2018/I...</td>\n",
              "    </tr>\n",
              "    <tr>\n",
              "      <th>1</th>\n",
              "      <td>ISIC_0024307</td>\n",
              "      <td>NV</td>\n",
              "      <td>/content/drive/MyDrive/PHD/Datasets/isic2018/I...</td>\n",
              "    </tr>\n",
              "    <tr>\n",
              "      <th>2</th>\n",
              "      <td>ISIC_0024308</td>\n",
              "      <td>NV</td>\n",
              "      <td>/content/drive/MyDrive/PHD/Datasets/isic2018/I...</td>\n",
              "    </tr>\n",
              "    <tr>\n",
              "      <th>3</th>\n",
              "      <td>ISIC_0024309</td>\n",
              "      <td>NV</td>\n",
              "      <td>/content/drive/MyDrive/PHD/Datasets/isic2018/I...</td>\n",
              "    </tr>\n",
              "    <tr>\n",
              "      <th>4</th>\n",
              "      <td>ISIC_0024310</td>\n",
              "      <td>MEL</td>\n",
              "      <td>/content/drive/MyDrive/PHD/Datasets/isic2018/I...</td>\n",
              "    </tr>\n",
              "    <tr>\n",
              "      <th>...</th>\n",
              "      <td>...</td>\n",
              "      <td>...</td>\n",
              "      <td>...</td>\n",
              "    </tr>\n",
              "    <tr>\n",
              "      <th>10010</th>\n",
              "      <td>ISIC_0034316</td>\n",
              "      <td>MEL</td>\n",
              "      <td>/content/drive/MyDrive/PHD/Datasets/isic2018/I...</td>\n",
              "    </tr>\n",
              "    <tr>\n",
              "      <th>10011</th>\n",
              "      <td>ISIC_0034317</td>\n",
              "      <td>MEL</td>\n",
              "      <td>/content/drive/MyDrive/PHD/Datasets/isic2018/I...</td>\n",
              "    </tr>\n",
              "    <tr>\n",
              "      <th>10012</th>\n",
              "      <td>ISIC_0034318</td>\n",
              "      <td>BKL</td>\n",
              "      <td>/content/drive/MyDrive/PHD/Datasets/isic2018/I...</td>\n",
              "    </tr>\n",
              "    <tr>\n",
              "      <th>10013</th>\n",
              "      <td>ISIC_0034319</td>\n",
              "      <td>NV</td>\n",
              "      <td>/content/drive/MyDrive/PHD/Datasets/isic2018/I...</td>\n",
              "    </tr>\n",
              "    <tr>\n",
              "      <th>10014</th>\n",
              "      <td>ISIC_0034320</td>\n",
              "      <td>NV</td>\n",
              "      <td>/content/drive/MyDrive/PHD/Datasets/isic2018/I...</td>\n",
              "    </tr>\n",
              "  </tbody>\n",
              "</table>\n",
              "<p>10015 rows × 3 columns</p>\n",
              "</div>\n",
              "      <button class=\"colab-df-convert\" onclick=\"convertToInteractive('df-cc89811f-7f1a-4991-bbf1-bec668e3625b')\"\n",
              "              title=\"Convert this dataframe to an interactive table.\"\n",
              "              style=\"display:none;\">\n",
              "        \n",
              "  <svg xmlns=\"http://www.w3.org/2000/svg\" height=\"24px\"viewBox=\"0 0 24 24\"\n",
              "       width=\"24px\">\n",
              "    <path d=\"M0 0h24v24H0V0z\" fill=\"none\"/>\n",
              "    <path d=\"M18.56 5.44l.94 2.06.94-2.06 2.06-.94-2.06-.94-.94-2.06-.94 2.06-2.06.94zm-11 1L8.5 8.5l.94-2.06 2.06-.94-2.06-.94L8.5 2.5l-.94 2.06-2.06.94zm10 10l.94 2.06.94-2.06 2.06-.94-2.06-.94-.94-2.06-.94 2.06-2.06.94z\"/><path d=\"M17.41 7.96l-1.37-1.37c-.4-.4-.92-.59-1.43-.59-.52 0-1.04.2-1.43.59L10.3 9.45l-7.72 7.72c-.78.78-.78 2.05 0 2.83L4 21.41c.39.39.9.59 1.41.59.51 0 1.02-.2 1.41-.59l7.78-7.78 2.81-2.81c.8-.78.8-2.07 0-2.86zM5.41 20L4 18.59l7.72-7.72 1.47 1.35L5.41 20z\"/>\n",
              "  </svg>\n",
              "      </button>\n",
              "      \n",
              "  <style>\n",
              "    .colab-df-container {\n",
              "      display:flex;\n",
              "      flex-wrap:wrap;\n",
              "      gap: 12px;\n",
              "    }\n",
              "\n",
              "    .colab-df-convert {\n",
              "      background-color: #E8F0FE;\n",
              "      border: none;\n",
              "      border-radius: 50%;\n",
              "      cursor: pointer;\n",
              "      display: none;\n",
              "      fill: #1967D2;\n",
              "      height: 32px;\n",
              "      padding: 0 0 0 0;\n",
              "      width: 32px;\n",
              "    }\n",
              "\n",
              "    .colab-df-convert:hover {\n",
              "      background-color: #E2EBFA;\n",
              "      box-shadow: 0px 1px 2px rgba(60, 64, 67, 0.3), 0px 1px 3px 1px rgba(60, 64, 67, 0.15);\n",
              "      fill: #174EA6;\n",
              "    }\n",
              "\n",
              "    [theme=dark] .colab-df-convert {\n",
              "      background-color: #3B4455;\n",
              "      fill: #D2E3FC;\n",
              "    }\n",
              "\n",
              "    [theme=dark] .colab-df-convert:hover {\n",
              "      background-color: #434B5C;\n",
              "      box-shadow: 0px 1px 3px 1px rgba(0, 0, 0, 0.15);\n",
              "      filter: drop-shadow(0px 1px 2px rgba(0, 0, 0, 0.3));\n",
              "      fill: #FFFFFF;\n",
              "    }\n",
              "  </style>\n",
              "\n",
              "      <script>\n",
              "        const buttonEl =\n",
              "          document.querySelector('#df-cc89811f-7f1a-4991-bbf1-bec668e3625b button.colab-df-convert');\n",
              "        buttonEl.style.display =\n",
              "          google.colab.kernel.accessAllowed ? 'block' : 'none';\n",
              "\n",
              "        async function convertToInteractive(key) {\n",
              "          const element = document.querySelector('#df-cc89811f-7f1a-4991-bbf1-bec668e3625b');\n",
              "          const dataTable =\n",
              "            await google.colab.kernel.invokeFunction('convertToInteractive',\n",
              "                                                     [key], {});\n",
              "          if (!dataTable) return;\n",
              "\n",
              "          const docLinkHtml = 'Like what you see? Visit the ' +\n",
              "            '<a target=\"_blank\" href=https://colab.research.google.com/notebooks/data_table.ipynb>data table notebook</a>'\n",
              "            + ' to learn more about interactive tables.';\n",
              "          element.innerHTML = '';\n",
              "          dataTable['output_type'] = 'display_data';\n",
              "          await google.colab.output.renderOutput(dataTable, element);\n",
              "          const docLink = document.createElement('div');\n",
              "          docLink.innerHTML = docLinkHtml;\n",
              "          element.appendChild(docLink);\n",
              "        }\n",
              "      </script>\n",
              "    </div>\n",
              "  </div>\n",
              "  "
            ]
          },
          "metadata": {},
          "execution_count": 8
        }
      ]
    },
    {
      "cell_type": "markdown",
      "source": [
        "Label Distribution"
      ],
      "metadata": {
        "id": "38f3dgvyBqFM"
      }
    },
    {
      "cell_type": "code",
      "source": [
        "# ordered count of rows per unique label\n",
        "labels_count = df_train['Labels'].value_counts(ascending=True)\n",
        "\n",
        "f = plt.figure(figsize=(15, 6))\n",
        "s = sns.barplot(x=labels_count.index,y=labels_count.values)\n",
        "s.set_xticklabels(s.get_xticklabels(), rotation = 30)"
      ],
      "metadata": {
        "colab": {
          "base_uri": "https://localhost:8080/",
          "height": 512
        },
        "id": "2IncA-_o_n5w",
        "outputId": "954d124f-97a8-4661-efe3-6da5c7be30ec"
      },
      "execution_count": 9,
      "outputs": [
        {
          "output_type": "execute_result",
          "data": {
            "text/plain": [
              "[Text(0, 0, 'DF'),\n",
              " Text(0, 0, 'VASC'),\n",
              " Text(0, 0, 'AKIEC'),\n",
              " Text(0, 0, 'BCC'),\n",
              " Text(0, 0, 'BKL'),\n",
              " Text(0, 0, 'MEL'),\n",
              " Text(0, 0, 'NV')]"
            ]
          },
          "metadata": {},
          "execution_count": 9
        },
        {
          "output_type": "display_data",
          "data": {
            "text/plain": [
              "<Figure size 1080x432 with 1 Axes>"
            ],
            "image/png": "[encoded data removed]"
          },
          "metadata": {
            "needs_background": "light"
          }
        }
      ]
    },
    {
      "cell_type": "markdown",
      "source": [
        "Plot 3 images per label"
      ],
      "metadata": {
        "id": "AnKMKSb4Bkym"
      }
    },
    {
      "cell_type": "code",
      "source": [
        "def plot_images_per_label(df, label, cols: int, size: tuple):\n",
        "    fig, axs = plt.subplots(nrows=1, ncols=cols, figsize=size)\n",
        "\n",
        "    cntMax = cols\n",
        "    cntCur = 0\n",
        "    for index, row in df.iterrows():\n",
        "        if(row['Labels'] == label and cntCur < cntMax):\n",
        "            axs[cntCur].imshow(plt.imread(df.FilePaths[index]))\n",
        "            axs[cntCur].set_title(df.Labels[index])\n",
        "\n",
        "            cntCur += 1\n",
        "        else:\n",
        "            if(cntCur >= cntMax):\n",
        "                break\n",
        "    \n",
        "    plt.tight_layout()\n",
        "    plt.show()\n",
        "\n",
        "\n",
        "# unique labels\n",
        "labels = sorted(df_train['Labels'].unique())\n",
        "for label in labels:\n",
        "    plot_images_per_label(df_train, label, 3, (12,9))"
      ],
      "metadata": {
        "id": "jdnVuqbFBW3K"
      },
      "execution_count": 10,
      "outputs": []
    },
    {
      "cell_type": "markdown",
      "source": [
        "Dataset Balancer"
      ],
      "metadata": {
        "id": "qRKKrNacAZtl"
      }
    },
    {
      "cell_type": "code",
      "source": [
        "print(imblearn.__version__)"
      ],
      "metadata": {
        "id": "Yk4vJgHeAbnT",
        "outputId": "d7ac715c-25ea-4b3d-d6c4-7ebf8fb0c7ba",
        "colab": {
          "base_uri": "https://localhost:8080/"
        }
      },
      "execution_count": null,
      "outputs": [
        {
          "output_type": "stream",
          "name": "stdout",
          "text": [
            "Looking in indexes: https://pypi.org/simple, https://us-python.pkg.dev/colab-wheels/public/simple/\n",
            "Requirement already satisfied: imbalanced-learn in /usr/local/lib/python3.7/dist-packages (0.8.1)\n",
            "Requirement already satisfied: joblib>=0.11 in /usr/local/lib/python3.7/dist-packages (from imbalanced-learn) (1.1.0)\n",
            "Requirement already satisfied: scikit-learn>=0.24 in /usr/local/lib/python3.7/dist-packages (from imbalanced-learn) (1.0.2)\n",
            "Requirement already satisfied: scipy>=0.19.1 in /usr/local/lib/python3.7/dist-packages (from imbalanced-learn) (1.7.3)\n",
            "Requirement already satisfied: numpy>=1.13.3 in /usr/local/lib/python3.7/dist-packages (from imbalanced-learn) (1.21.6)\n",
            "Requirement already satisfied: threadpoolctl>=2.0.0 in /usr/local/lib/python3.7/dist-packages (from scikit-learn>=0.24->imbalanced-learn) (3.1.0)\n"
          ]
        }
      ]
    },
    {
      "cell_type": "markdown",
      "source": [
        "Prepare X,y"
      ],
      "metadata": {
        "id": "DKjC59JOB_6d"
      }
    },
    {
      "cell_type": "code",
      "source": [
        "# input image size\n",
        "IMAGE_W = 32\n",
        "IMAGE_H = 32\n",
        "IMG_SIZE = (IMAGE_W,IMAGE_H)"
      ],
      "metadata": {
        "id": "9-c7Xghg4SB4"
      },
      "execution_count": 12,
      "outputs": []
    },
    {
      "cell_type": "code",
      "source": [
        "#TIME CONSUMING OPERATION\n",
        "#from tensorflow.keras.preprocessing.image import load_img, img_to_array\n",
        "#X = []\n",
        "#for img in df['FilePaths']:\n",
        "    #img_arr = load_img(img, target_size=IMG_SIZE)\n",
        "#    with load_img(img, target_size=IMG_SIZE) as img_arr:\n",
        "#      X.append(img_to_array(img_arr))\n",
        "\n",
        "#X = np.array(X)\n",
        "df_train['image'] = df_train['FilePaths'].map(lambda x: np.asarray(Image.open(x).resize(IMG_SIZE)))\n",
        "df_val['image'] = df_val['FilePaths'].map(lambda x: np.asarray(Image.open(x).resize(IMG_SIZE)))\n"
      ],
      "metadata": {
        "id": "3jyCpXnlFoQK"
      },
      "execution_count": 13,
      "outputs": []
    },
    {
      "cell_type": "code",
      "source": [
        "#X_val = []\n",
        "#for img in df_val['FilePaths']:\n",
        "#    with load_img(img, target_size=IMG_SIZE) as img_arr:\n",
        "#      X_val.append(img_to_array(img_arr))\n",
        "\n",
        "#X_val = np.array(X_val)\n",
        "X_train = np.asarray(df_train['image'].tolist())\n",
        "X_val = np.asarray(df_val['image'].tolist())\n",
        "print(np.array(X_train).shape)\n",
        "print(np.array(X_val).shape)"
      ],
      "metadata": {
        "id": "UZyZMydSgvZo",
        "outputId": "ef4810b0-afb2-476c-f59b-080115209635",
        "colab": {
          "base_uri": "https://localhost:8080/"
        }
      },
      "execution_count": 62,
      "outputs": [
        {
          "output_type": "stream",
          "name": "stdout",
          "text": [
            "(10015, 32, 32, 3)\n",
            "(193, 32, 32, 3)\n"
          ]
        }
      ]
    },
    {
      "cell_type": "code",
      "source": [
        "#Normalization\n",
        "X_train_mean = np.mean(X_train)\n",
        "X_train_std = np.std(X_train)\n",
        "\n",
        "X_train = (X_train - X_train_mean)/X_train_std\n",
        "X_val = (X_val - X_train_mean)/X_train_std"
      ],
      "metadata": {
        "id": "RAxUkXy8ueYG"
      },
      "execution_count": 69,
      "outputs": []
    },
    {
      "cell_type": "code",
      "source": [
        "y_train = np.array(df_train['Labels'].values)\n",
        "\n",
        "# summarize class distribution\n",
        "from collections import Counter\n",
        "counter = Counter(y_train)\n",
        "print(counter)\n",
        "print(y_train.shape)"
      ],
      "metadata": {
        "id": "uqYLmicGAjZz",
        "outputId": "a1ea1fd9-9023-4844-86c9-140fbd826140",
        "colab": {
          "base_uri": "https://localhost:8080/"
        }
      },
      "execution_count": 63,
      "outputs": [
        {
          "output_type": "stream",
          "name": "stdout",
          "text": [
            "Counter({'NV': 6705, 'MEL': 1113, 'BKL': 1099, 'BCC': 514, 'AKIEC': 327, 'VASC': 142, 'DF': 115})\n",
            "(10015,)\n"
          ]
        }
      ]
    },
    {
      "cell_type": "code",
      "source": [
        "y_val = np.array(df_val['Labels'].values)\n",
        "print(Counter(y_val))\n",
        "print(y_val.shape)"
      ],
      "metadata": {
        "id": "kEuVIGc3g859",
        "outputId": "f3fa4fa1-8cdd-4149-ea43-7569d8917726",
        "colab": {
          "base_uri": "https://localhost:8080/"
        }
      },
      "execution_count": 64,
      "outputs": [
        {
          "output_type": "stream",
          "name": "stdout",
          "text": [
            "Counter({'NV': 123, 'BKL': 22, 'MEL': 21, 'BCC': 15, 'AKIEC': 8, 'VASC': 3, 'DF': 1})\n",
            "(193,)\n"
          ]
        }
      ]
    },
    {
      "cell_type": "code",
      "source": [
        "#label encoding\n",
        "label_encoder = preprocessing.LabelEncoder()\n",
        "y_train = label_encoder.fit_transform(y_train)\n",
        "y_val = label_encoder.fit_transform(y_val)\n",
        "y_train"
      ],
      "metadata": {
        "id": "QfvEVGIQhIr2",
        "outputId": "4bdf4e85-8135-49ac-cba5-16287003cdb6",
        "colab": {
          "base_uri": "https://localhost:8080/"
        }
      },
      "execution_count": 65,
      "outputs": [
        {
          "output_type": "execute_result",
          "data": {
            "text/plain": [
              "array([5, 5, 5, ..., 2, 5, 5])"
            ]
          },
          "metadata": {},
          "execution_count": 65
        }
      ]
    },
    {
      "cell_type": "markdown",
      "source": [
        "SMOTE Oversampling"
      ],
      "metadata": {
        "id": "uZv-B-ygCD57"
      }
    },
    {
      "cell_type": "code",
      "source": [
        "def SMOTE_Data(X, y):\n",
        "    sm = SMOTE(random_state=42)\n",
        "    X_resampled, y_resampled = sm.fit_resample(X.reshape((-1, IMAGE_W * IMAGE_H * 3)), y)\n",
        "    X_resampled.reshape(-1, IMAGE_W, IMAGE_H, 3)\n",
        "    return X_resampled, y_resampled"
      ],
      "metadata": {
        "id": "RDskF1wjGffh"
      },
      "execution_count": 47,
      "outputs": []
    },
    {
      "cell_type": "code",
      "source": [
        "X_train, y_train = SMOTE_Data(X_train, y_train) #beware of the actual parameter\n",
        "print(X_train.shape)\n",
        "print(y_train.shape)"
      ],
      "metadata": {
        "id": "brshqGvOCDJL",
        "outputId": "22be3a64-4add-4b2f-f5b7-c7a33728cde8",
        "colab": {
          "base_uri": "https://localhost:8080/"
        }
      },
      "execution_count": 48,
      "outputs": [
        {
          "output_type": "stream",
          "name": "stdout",
          "text": [
            "(46935, 3072)\n",
            "(46935, 7)\n"
          ]
        }
      ]
    },
    {
      "cell_type": "code",
      "source": [
        "counter = Counter(y_train[:,0])\n",
        "print(counter)"
      ],
      "metadata": {
        "id": "8GfOtcbV5vVZ",
        "outputId": "aa91fc02-12b3-45c0-aa38-2110578303ee",
        "colab": {
          "base_uri": "https://localhost:8080/"
        }
      },
      "execution_count": 53,
      "outputs": [
        {
          "output_type": "stream",
          "name": "stdout",
          "text": [
            "Counter({0: 40230, 1: 6705})\n"
          ]
        }
      ]
    },
    {
      "cell_type": "code",
      "source": [
        "X_train = X_train.reshape(-1, IMAGE_W, IMAGE_H, 3)\n",
        "print('X_train shape: ',X_train.shape)"
      ],
      "metadata": {
        "id": "dl-nmACZOZpg",
        "outputId": "f1537d3d-f5f6-4830-c169-a7cdb3cf70fe",
        "colab": {
          "base_uri": "https://localhost:8080/"
        }
      },
      "execution_count": 54,
      "outputs": [
        {
          "output_type": "stream",
          "name": "stdout",
          "text": [
            "X_train shape:  (46935, 32, 32, 3)\n"
          ]
        }
      ]
    },
    {
      "cell_type": "markdown",
      "source": [
        "DeepSMOTE Oversampling"
      ],
      "metadata": {
        "id": "cNBXx28B9yGu"
      }
    },
    {
      "cell_type": "code",
      "source": [
        "X_train"
      ],
      "metadata": {
        "id": "vi8RRUWEBD3s"
      },
      "execution_count": null,
      "outputs": []
    },
    {
      "cell_type": "code",
      "source": [
        "#optional\n",
        "X=X_train\n",
        "y=y_train\n",
        "\n",
        "from numpy import moveaxis\n",
        "dec_x = moveaxis(X, 3, 1)\n",
        "#dec_x = dec_x.astype('float32') / 255.\n",
        "#dec_x = X_train \n",
        "dec_y = y\n",
        "\n",
        "#create counter for encoder\n",
        "counter = sorted(counter.items())\n",
        "counter = [value for _, value in counter]"
      ],
      "metadata": {
        "id": "h-Xqj-WQ90L_"
      },
      "execution_count": 72,
      "outputs": []
    },
    {
      "cell_type": "code",
      "source": [
        "import torch\n",
        "import torch.nn as nn\n",
        "from torch.utils.data import TensorDataset\n",
        "from sklearn.neighbors import NearestNeighbors\n",
        "import time\n",
        "import os\n",
        "\n",
        "print(torch.version.cuda) #10.1\n",
        "\n",
        "args = {}\n",
        "args['dim_h'] = 64         # factor controlling size of hidden layers\n",
        "args['n_channel'] = 3#1    # number of channels in the input data \n",
        "\n",
        "args['n_z'] = 600 #300     # number of dimensions in latent space. \n",
        "\n",
        "args['sigma'] = 1.0        # variance in n_z\n",
        "args['lambda'] = 0.01      # hyper param for weight of discriminator loss\n",
        "args['lr'] = 0.0002        # learning rate for Adam optimizer .000\n",
        "args['epochs'] = 100       # how many epochs to run for\n",
        "args['batch_size'] = 32   # batch size for SGD\n",
        "args['save'] = True        # save weights at each epoch of training if True\n",
        "args['train'] = True       # train networks if True, else load networks from\n",
        "\n",
        "## create encoder model and decoder model\n",
        "class Encoder(nn.Module):\n",
        "    def __init__(self, args):\n",
        "        super(Encoder, self).__init__()\n",
        "\n",
        "        self.n_channel = args['n_channel']\n",
        "        self.dim_h = args['dim_h']\n",
        "        self.n_z = args['n_z']\n",
        "        \n",
        "        # convolutional filters, work excellent with image data\n",
        "        self.conv = nn.Sequential(\n",
        "            nn.Conv2d(self.n_channel, self.dim_h, 4, 2, 1, bias=False),\n",
        "            #nn.ReLU(True),\n",
        "            nn.LeakyReLU(0.2, inplace=True),\n",
        "            nn.Conv2d(self.dim_h, self.dim_h * 2, 4, 2, 1, bias=False),\n",
        "            nn.BatchNorm2d(self.dim_h * 2),\n",
        "            #nn.ReLU(True),\n",
        "            nn.LeakyReLU(0.2, inplace=True),\n",
        "            nn.Conv2d(self.dim_h * 2, self.dim_h * 4, 4, 2, 1, bias=False),\n",
        "            nn.BatchNorm2d(self.dim_h * 4),\n",
        "            #nn.ReLU(True),\n",
        "            nn.LeakyReLU(0.2, inplace=True),\n",
        "            \n",
        "            \n",
        "            #nn.Conv2d(self.dim_h * 4, self.dim_h * 8, 4, 2, 0, bias=False),\n",
        "            \n",
        "            #3d and 32 by 32\n",
        "            nn.Conv2d(self.dim_h * 4, self.dim_h * 8, 4, 1, 0, bias=False),\n",
        "            \n",
        "            nn.BatchNorm2d(self.dim_h * 8), # 40 X 8 = 320\n",
        "            #nn.ReLU(True),\n",
        "            nn.LeakyReLU(0.2, inplace=True) )#,\n",
        "            #nn.Conv2d(self.dim_h * 8, 1, 2, 1, 0, bias=False))\n",
        "            #nn.Conv2d(self.dim_h * 8, 1, 4, 1, 0, bias=False))\n",
        "        # final layer is fully connected\n",
        "        self.fc = nn.Linear(self.dim_h * (2 ** 3), self.n_z)\n",
        "        \n",
        "\n",
        "    def forward(self, x):\n",
        "        #print('enc')\n",
        "        #print('input ',x.size()) #torch.Size([100, 3,32,32])\n",
        "        x = self.conv(x)\n",
        "        \n",
        "        x = x.squeeze()\n",
        "        #print('aft squeeze ',x.size()) #torch.Size([128, 320])\n",
        "        #aft squeeze  torch.Size([100, 320])\n",
        "        x = self.fc(x)\n",
        "        #print('out ',x.size()) #torch.Size([128, 20])\n",
        "        #out  torch.Size([100, 300])\n",
        "        return x\n",
        "\n",
        "\n",
        "class Decoder(nn.Module):\n",
        "    def __init__(self, args):\n",
        "        super(Decoder, self).__init__()\n",
        "\n",
        "        self.n_channel = args['n_channel']\n",
        "        self.dim_h = args['dim_h']\n",
        "        self.n_z = args['n_z']\n",
        "\n",
        "        # first layer is fully connected\n",
        "        self.fc = nn.Sequential(\n",
        "            nn.Linear(self.n_z, self.dim_h * 2**4 * 8 * 8),\n",
        "            nn.ReLU())\n",
        "\n",
        "        # deconvolutional filters, essentially inverse of convolutional filters\n",
        "        self.deconv = nn.Sequential(\n",
        "            nn.ConvTranspose2d(self.dim_h * 16, self.dim_h * 8, 4),\n",
        "            nn.BatchNorm2d(self.dim_h * 8),\n",
        "            nn.ReLU(True),\n",
        "            nn.ConvTranspose2d(self.dim_h * 8, self.dim_h * 4, 4),\n",
        "            nn.BatchNorm2d(self.dim_h * 4),\n",
        "            nn.ReLU(True),\n",
        "            nn.ConvTranspose2d(self.dim_h * 4, self.dim_h * 2, 4),\n",
        "            nn.BatchNorm2d(self.dim_h * 2),\n",
        "            nn.ReLU(True),\n",
        "            nn.ConvTranspose2d(self.dim_h * 2, 3, 4, stride=2, padding=2),\n",
        "            #nn.Sigmoid())\n",
        "            nn.Tanh())\n",
        "\n",
        "    def forward(self, x):\n",
        "        #print('dec')\n",
        "        #print('input ',x.size())\n",
        "        x = self.fc(x)\n",
        "        x = x.view(-1, self.dim_h * 2**4, 8, 8)\n",
        "        x = self.deconv(x)\n",
        "        return x\n",
        "\n",
        "##############################################################################\n",
        "\"\"\"set models, loss functions\"\"\"\n",
        "# control which parameters are frozen / free for optimization\n",
        "def free_params(module: nn.Module):\n",
        "    for p in module.parameters():\n",
        "        p.requires_grad = True\n",
        "\n",
        "def frozen_params(module: nn.Module):\n",
        "    for p in module.parameters():\n",
        "        p.requires_grad = False\n",
        "\n",
        "\n",
        "##############################################################################\n",
        "\"\"\"functions to create SMOTE images\"\"\"\n",
        "\n",
        "def biased_get_class(c):\n",
        "    \n",
        "    xbeg = dec_x[dec_y == c]\n",
        "    ybeg = dec_y[dec_y == c]\n",
        "    \n",
        "    return xbeg, ybeg\n",
        "    #return xclass, yclass\n",
        "\n",
        "\n",
        "def G_SM(X, y,n_to_sample,cl):\n",
        "\n",
        "    # determining the number of samples to generate\n",
        "    #n_to_sample = 10 \n",
        "\n",
        "    # fitting the model\n",
        "    n_neigh = 5 + 1\n",
        "    nn = NearestNeighbors(n_neighbors=n_neigh, n_jobs=1)\n",
        "    nn.fit(X)\n",
        "    dist, ind = nn.kneighbors(X)\n",
        "\n",
        "    # generating samples\n",
        "    base_indices = np.random.choice(list(range(len(X))),n_to_sample)\n",
        "    neighbor_indices = np.random.choice(list(range(1, n_neigh)),n_to_sample)\n",
        "\n",
        "    X_base = X[base_indices]\n",
        "    X_neighbor = X[ind[base_indices, neighbor_indices]]\n",
        "\n",
        "    samples = X_base + np.multiply(np.random.rand(n_to_sample,1),\n",
        "            X_neighbor - X_base)\n",
        "\n",
        "    #use 10 as label because 0 to 9 real classes and 1 fake/smoted = 10\n",
        "    return samples, [cl]*n_to_sample\n",
        "\n",
        "#xsamp, ysamp = SM(xclass,yclass)\n",
        "\n",
        "#Begin the training\n",
        "batch_size = args['batch_size']\n",
        "encoder = Encoder(args)\n",
        "decoder = Decoder(args)\n",
        "\n",
        "device = 'cuda' if torch.cuda.is_available() else 'cpu'\n",
        "print(device)\n",
        "decoder = decoder.to(device)\n",
        "encoder = encoder.to(device)\n",
        "\n",
        "train_on_gpu = torch.cuda.is_available()\n",
        "\n",
        "#decoder loss function\n",
        "criterion = nn.MSELoss()\n",
        "criterion = criterion.to(device)\n",
        "\n",
        "num_workers = 0\n",
        "\n",
        "#torch.Tensor returns float so if want long then use torch.tensor\n",
        "tensor_x = torch.Tensor(dec_x)\n",
        "tensor_y = torch.tensor(dec_y,dtype=torch.long)\n",
        "mnist_bal = TensorDataset(tensor_x,tensor_y) \n",
        "train_loader = torch.utils.data.DataLoader(mnist_bal, \n",
        "    batch_size=batch_size,shuffle=True,num_workers=num_workers)\n",
        "\n",
        "best_loss = np.inf\n",
        "\n",
        "t0 = time.time()\n",
        "if args['train']:\n",
        "    enc_optim = torch.optim.Adam(encoder.parameters(), lr = args['lr'])\n",
        "    dec_optim = torch.optim.Adam(decoder.parameters(), lr = args['lr'])\n",
        "\n",
        "    for epoch in range(args['epochs']):\n",
        "        train_loss = 0.0\n",
        "        tmse_loss = 0.0\n",
        "        tdiscr_loss = 0.0\n",
        "        # train for one epoch -- set nets to train mode\n",
        "        encoder.train()\n",
        "        decoder.train()\n",
        "    \n",
        "        for images,labs in train_loader:\n",
        "        \n",
        "            # zero gradients for each batch\n",
        "            encoder.zero_grad()\n",
        "            decoder.zero_grad()\n",
        "            images, labs = images.to(device), labs.to(device)\n",
        "            labsn = labs.detach().cpu().numpy()\n",
        "#            print('images shape', images.shape)\n",
        "            # run images\n",
        "            z_hat = encoder(images)\n",
        "#            print('images shape after encoding', z_hat.shape)\n",
        "        \n",
        "            x_hat = decoder(z_hat) #decoder outputs tanh\n",
        "#            print('images shape after decoding', x_hat.shape)\n",
        "            mse = criterion(x_hat,images)\n",
        "                    \n",
        "            resx = []\n",
        "            resy = []\n",
        "        \n",
        "            tc = np.random.choice(num_classes,1)\n",
        "            #tc = 9\n",
        "            xbeg = dec_x[dec_y == tc]\n",
        "            ybeg = dec_y[dec_y == tc] \n",
        "            xlen = len(xbeg)\n",
        "            nsamp = min(xlen, 100)\n",
        "            ind = np.random.choice(list(range(len(xbeg))),nsamp,replace=False)\n",
        "            xclass = xbeg[ind]\n",
        "            yclass = ybeg[ind]\n",
        "        \n",
        "            xclen = len(xclass)\n",
        "            xcminus = np.arange(1,xclen)\n",
        "            \n",
        "            xcplus = np.append(xcminus,0)\n",
        "            xcnew = (xclass[[xcplus],:])\n",
        "            xcnew = xcnew.reshape(xcnew.shape[1],xcnew.shape[2],xcnew.shape[3],xcnew.shape[4])\n",
        "        \n",
        "            xcnew = torch.Tensor(xcnew)\n",
        "            xcnew = xcnew.to(device)\n",
        "        \n",
        "            #encode xclass to feature space\n",
        "            xclass = torch.Tensor(xclass)\n",
        "            xclass = xclass.to(device)\n",
        "            xclass = encoder(xclass)\n",
        "        \n",
        "            xclass = xclass.detach().cpu().numpy()\n",
        "        \n",
        "            xc_enc = (xclass[[xcplus],:])\n",
        "            xc_enc = np.squeeze(xc_enc)\n",
        "        \n",
        "            xc_enc = torch.Tensor(xc_enc)\n",
        "            xc_enc = xc_enc.to(device)\n",
        "            \n",
        "            ximg = decoder(xc_enc)\n",
        "            \n",
        "            mse2 = criterion(ximg,xcnew)\n",
        "        \n",
        "            comb_loss = mse2 + mse\n",
        "            comb_loss.backward()\n",
        "        \n",
        "            enc_optim.step()\n",
        "            dec_optim.step()\n",
        "        \n",
        "            train_loss += comb_loss.item()*images.size(0)\n",
        "            tmse_loss += mse.item()*images.size(0)\n",
        "            tdiscr_loss += mse2.item()*images.size(0)\n",
        "\n",
        "        train_loss = train_loss/len(train_loader)\n",
        "        tmse_loss = tmse_loss/len(train_loader)\n",
        "        tdiscr_loss = tdiscr_loss/len(train_loader)\n",
        "        print('Epoch: {} \\tTrain Loss: {:.6f} \\tmse loss: {:.6f} \\tmse2 loss: {:.6f}'.format(epoch,\n",
        "                train_loss,tmse_loss,tdiscr_loss))\n",
        "        \n",
        "    \n",
        "    \n",
        "        #store the best encoder and decoder models\n",
        "        #here, /crs5 is a reference to 5 way cross validation, but is not\n",
        "        #necessary for illustration purposes\n",
        "        if train_loss < best_loss:\n",
        "            print('Saving..')\n",
        "            path_enc = '/content/drive/MyDrive/PHD/Model/DeepSMOTE/bst_enc.pth'\n",
        "            path_dec = '/content/drive/MyDrive/PHD/Model/DeepSMOTE/bst_dec.pth'\n",
        "          \n",
        "            torch.save(encoder.state_dict(), path_enc)\n",
        "            torch.save(decoder.state_dict(), path_dec)\n",
        "    \n",
        "            best_loss = train_loss\n",
        "    \n",
        "    \n",
        "    #in addition, store the final model (may not be the best) for\n",
        "    #informational purposes\n",
        "    path_enc = '/content/drive/MyDrive/PHD/Model/DeepSMOTE/f_enc.pth'\n",
        "    path_dec = '/content/drive/MyDrive/PHD/Model/DeepSMOTE/f_dec.pth'\n",
        "    print(path_enc)\n",
        "    print(path_dec)\n",
        "    torch.save(encoder.state_dict(), path_enc)\n",
        "    torch.save(decoder.state_dict(), path_dec)\n"
      ],
      "metadata": {
        "colab": {
          "base_uri": "https://localhost:8080/"
        },
        "id": "0kMMmX7r-fV5",
        "outputId": "d591f662-aa22-4714-87bf-72cb5c498787"
      },
      "execution_count": null,
      "outputs": [
        {
          "output_type": "stream",
          "name": "stdout",
          "text": [
            "11.3\n",
            "cuda\n",
            "Epoch: 0 \tTrain Loss: 17.758066 \tmse loss: 9.451456 \tmse2 loss: 8.306611\n",
            "Saving..\n",
            "Epoch: 1 \tTrain Loss: 13.375766 \tmse loss: 7.124884 \tmse2 loss: 6.250882\n",
            "Saving..\n",
            "Epoch: 2 \tTrain Loss: 12.254844 \tmse loss: 6.819355 \tmse2 loss: 5.435488\n",
            "Saving..\n",
            "Epoch: 3 \tTrain Loss: 11.537239 \tmse loss: 6.560107 \tmse2 loss: 4.977132\n",
            "Saving..\n",
            "Epoch: 4 \tTrain Loss: 11.379381 \tmse loss: 6.433396 \tmse2 loss: 4.945985\n",
            "Saving..\n",
            "Epoch: 5 \tTrain Loss: 10.916566 \tmse loss: 6.270719 \tmse2 loss: 4.645847\n",
            "Saving..\n",
            "Epoch: 6 \tTrain Loss: 10.928581 \tmse loss: 6.224287 \tmse2 loss: 4.704294\n",
            "Epoch: 7 \tTrain Loss: 10.523825 \tmse loss: 6.143813 \tmse2 loss: 4.380011\n",
            "Saving..\n",
            "Epoch: 8 \tTrain Loss: 10.213302 \tmse loss: 6.047119 \tmse2 loss: 4.166183\n",
            "Saving..\n",
            "Epoch: 9 \tTrain Loss: 10.288031 \tmse loss: 6.002253 \tmse2 loss: 4.285777\n",
            "Epoch: 10 \tTrain Loss: 10.097670 \tmse loss: 5.960416 \tmse2 loss: 4.137254\n",
            "Saving..\n",
            "Epoch: 11 \tTrain Loss: 9.815287 \tmse loss: 5.932556 \tmse2 loss: 3.882731\n",
            "Saving..\n",
            "Epoch: 12 \tTrain Loss: 9.924999 \tmse loss: 5.881083 \tmse2 loss: 4.043917\n",
            "Epoch: 13 \tTrain Loss: 9.875691 \tmse loss: 5.858244 \tmse2 loss: 4.017447\n",
            "Epoch: 14 \tTrain Loss: 9.850689 \tmse loss: 5.820588 \tmse2 loss: 4.030101\n",
            "Epoch: 15 \tTrain Loss: 9.988450 \tmse loss: 5.807092 \tmse2 loss: 4.181358\n",
            "Epoch: 16 \tTrain Loss: 9.798204 \tmse loss: 5.781799 \tmse2 loss: 4.016406\n",
            "Saving..\n",
            "Epoch: 17 \tTrain Loss: 9.617900 \tmse loss: 5.753132 \tmse2 loss: 3.864769\n",
            "Saving..\n"
          ]
        }
      ]
    },
    {
      "cell_type": "code",
      "source": [
        "#Generate artificial images\n",
        "import torch\n",
        "np.printoptions(precision=5,suppress=True)\n",
        "\n",
        "#path on the computer where the models are stored\n",
        "modpth = '/content/drive/MyDrive/PHD/Model/DeepSMOTE/'\n",
        "\n",
        "encf = []\n",
        "decf = []\n",
        "for p in range(1):\n",
        "    enc = modpth + '/bst_enc.pth'\n",
        "    dec = modpth + '/bst_dec.pth'\n",
        "    encf.append(enc)\n",
        "    decf.append(dec)\n",
        "\n",
        "for m in range(1):\n",
        "    print('decy ',dec_y.shape)\n",
        "    print('train imgs shape ',dec_x.shape) #(45000,3,32,32)\n",
        "    \n",
        "    #generate some images \n",
        "    train_on_gpu = torch.cuda.is_available()\n",
        "    device = 'cuda' if torch.cuda.is_available() else 'cpu'\n",
        "    \n",
        "    path_enc = encf[m]\n",
        "    path_dec = decf[m]\n",
        "\n",
        "    encoder = Encoder(args)\n",
        "    encoder.load_state_dict(torch.load(path_enc), strict=False)\n",
        "    encoder = encoder.to(device)\n",
        "\n",
        "    decoder = Decoder(args)\n",
        "    decoder.load_state_dict(torch.load(path_dec), strict=False)\n",
        "    decoder = decoder.to(device)\n",
        "\n",
        "    encoder.eval()\n",
        "    decoder.eval()\n",
        "\n",
        "    imbal = counter#[114, 376, 95, 438, 357, 462, 77, 181, 139]\n",
        "\n",
        "    resx = []\n",
        "    resy = []\n",
        "\n",
        "    for i in [0,1,2,3,4,6]: #skip class 5 since it's max class\n",
        "        torch.cuda.empty_cache()\n",
        "\n",
        "        xclass, yclass = biased_get_class(i)\n",
        "        print(xclass.shape) #(500, 3, 32, 32)\n",
        "        print(yclass[0]) #(500,)\n",
        "            \n",
        "        #encode xclass to feature space\n",
        "        xclass = torch.Tensor(xclass)\n",
        "        xclass = xclass.to(device)\n",
        "        xclass = encoder(xclass)\n",
        "            \n",
        "        xclass = xclass.detach().cpu().numpy()\n",
        "        n = imbal[5] - imbal[i]\n",
        "        xsamp, ysamp = G_SM(xclass,yclass,n,i)\n",
        "        print(xsamp.shape) #(4500, 600)\n",
        "        print(len(ysamp)) #4500\n",
        "        ysamp = np.array(ysamp)\n",
        "    \n",
        "        \"\"\"to generate samples for resnet\"\"\"   \n",
        "        xsamp = torch.Tensor(xsamp)\n",
        "        xsamp = xsamp.to(device)\n",
        "        ximg = decoder(xsamp)\n",
        "\n",
        "        ximn = ximg.detach().cpu().numpy()\n",
        "        print(ximn.shape) \n",
        "        resx.append(ximn)\n",
        "        resy.append(ysamp)\n",
        "    \n",
        "    resx1 = np.vstack(resx)\n",
        "    resy1 = np.hstack(resy)\n",
        "    print(resx1.shape) #(34720, 3, 32, 32)\n",
        "\n",
        "    resx1 = resx1.reshape(resx1.shape[0],-1)\n",
        "    print(resx1.shape) #(34720, 3072)\n",
        "    \n",
        "    dec_x1 = dec_x.reshape(dec_x.shape[0],-1)\n",
        "    print('decx1 ',dec_x1.shape)\n",
        "    combx = np.vstack((resx1,dec_x1))\n",
        "    comby = np.hstack((resy1,dec_y))\n",
        "\n",
        "    print(combx.shape) #(45000, 3, 32, 32)\n",
        "    print(comby.shape) #(45000,)\n",
        "    print()"
      ],
      "metadata": {
        "id": "NoqPIVKqF5Ug"
      },
      "execution_count": null,
      "outputs": []
    },
    {
      "cell_type": "code",
      "source": [
        "X_train = combx.reshape(-1, 3, IMAGE_W, IMAGE_H)\n",
        "X_train = moveaxis(X_train, 1, 3)\n",
        "print('X_train shape: ',X_train.shape)\n",
        "print(Counter(comby))"
      ],
      "metadata": {
        "id": "76bpFBQcHLIY"
      },
      "execution_count": null,
      "outputs": []
    },
    {
      "cell_type": "markdown",
      "source": [
        "Prepare for Classification"
      ],
      "metadata": {
        "id": "US0KkIaVlTdU"
      }
    },
    {
      "cell_type": "code",
      "source": [
        "y_train = y_train.reshape(-1, 1)\n",
        "y_val = y_val.reshape(-1, 1)\n",
        "print('y_train shape: ',y_train.shape)"
      ],
      "metadata": {
        "id": "_a_lPCqbibaS",
        "outputId": "fea0c22d-8083-4a27-9743-565485465e47",
        "colab": {
          "base_uri": "https://localhost:8080/"
        }
      },
      "execution_count": 21,
      "outputs": [
        {
          "output_type": "stream",
          "name": "stdout",
          "text": [
            "y_train shape:  (10015, 1)\n"
          ]
        }
      ]
    },
    {
      "cell_type": "code",
      "source": [
        "from keras.utils.np_utils import to_categorical\n",
        "y_train = to_categorical(y_train, num_classes = num_classes)\n",
        "y_val = to_categorical(y_val, num_classes = num_classes)"
      ],
      "metadata": {
        "id": "ja5ZmgbCvDw5"
      },
      "execution_count": 36,
      "outputs": []
    },
    {
      "cell_type": "code",
      "source": [
        "X = X.astype(int)\n",
        "X_val = X_val.astype(int)"
      ],
      "metadata": {
        "id": "ioaoIkk4G2pf"
      },
      "execution_count": null,
      "outputs": []
    },
    {
      "cell_type": "code",
      "source": [
        "X_train[:1]"
      ],
      "metadata": {
        "id": "9QM00erNGU32"
      },
      "execution_count": null,
      "outputs": []
    },
    {
      "cell_type": "markdown",
      "source": [
        "Split dataset to train and val"
      ],
      "metadata": {
        "id": "0jrJ33lUDkCM"
      }
    },
    {
      "cell_type": "code",
      "source": [
        "# stratified train and rem (20%) datasets\n",
        "from sklearn.model_selection import train_test_split\n",
        "X_train, X_val, y_train, y_val = train_test_split(X, y, test_size=0.02, stratify=y, random_state=1)\n",
        "\n",
        "print('Train Data: ', X_train.shape)\n",
        "print('Remaining Data: ', X_val.shape)"
      ],
      "metadata": {
        "colab": {
          "base_uri": "https://localhost:8080/"
        },
        "id": "e6qneWL_Bs2U",
        "outputId": "22c2c4ff-5544-4dd8-b69a-af96b4b97616"
      },
      "execution_count": null,
      "outputs": [
        {
          "output_type": "stream",
          "name": "stdout",
          "text": [
            "Train Data:  (9814, 32, 32, 3)\n",
            "Remaining Data:  (201, 32, 32, 3)\n"
          ]
        }
      ]
    },
    {
      "cell_type": "code",
      "source": [
        "# stratified val and test (50%) \n",
        "from sklearn.model_selection import train_test_split\n",
        "X_test, X_val, y_test, y_val = train_test_split(X_rem, y_rem, test_size=0.5, stratify=y_rem, random_state=1)\n",
        "\n",
        "print('Test Data: ', X_test.shape)\n",
        "print('Val Data: ', X_val.shape)"
      ],
      "metadata": {
        "id": "Vai7M7WSXVY4",
        "outputId": "b9bc1199-a518-4a8b-9d6e-4d6038efbafe",
        "colab": {
          "base_uri": "https://localhost:8080/"
        }
      },
      "execution_count": null,
      "outputs": [
        {
          "output_type": "stream",
          "name": "stdout",
          "text": [
            "Test Data:  (416, 32, 32, 3)\n",
            "Val Data:  (416, 32, 32, 3)\n"
          ]
        }
      ]
    },
    {
      "cell_type": "code",
      "source": [
        "#optional\n",
        "# stratified train and test (10%) datasets\n",
        "from sklearn.model_selection import train_test_split\n",
        "X_train, X_test, y_train, y_test = train_test_split(X, y, test_size=0.1, stratify=y, random_state=1)\n",
        "\n",
        "print('Train Data: ', X_train.shape)\n",
        "print('Test Data: ', X_test.shape)"
      ],
      "metadata": {
        "colab": {
          "base_uri": "https://localhost:8080/"
        },
        "id": "oVVOQPNiHXHw",
        "outputId": "a1e60310-4f3b-4063-8465-4d7120d225c9"
      },
      "execution_count": null,
      "outputs": [
        {
          "output_type": "stream",
          "name": "stdout",
          "text": [
            "Train Data:  (2015, 32, 32, 3)\n",
            "Test Data:  (224, 32, 32, 3)\n"
          ]
        }
      ]
    },
    {
      "cell_type": "code",
      "source": [
        "#optional\n",
        "# stratified train and val (10%) datasets\n",
        "from sklearn.model_selection import train_test_split\n",
        "X_train, X_val, y_train, y_val = train_test_split(X, y, test_size=0.1, stratify=y, random_state=1)\n",
        "\n",
        "print('Train Data: ', X_train.shape)\n",
        "print('Val Data: ', X_val.shape)"
      ],
      "metadata": {
        "colab": {
          "base_uri": "https://localhost:8080/"
        },
        "id": "0_oaUYYgJNV7",
        "outputId": "ca2f393a-0599-4cfc-b330-45d723f2bb06"
      },
      "execution_count": null,
      "outputs": [
        {
          "output_type": "stream",
          "name": "stdout",
          "text": [
            "Train Data:  (3369, 32, 32, 3)\n",
            "Val Data:  (375, 32, 32, 3)\n"
          ]
        }
      ]
    },
    {
      "cell_type": "code",
      "source": [
        "print(Counter(y_train[:,0]))"
      ],
      "metadata": {
        "colab": {
          "base_uri": "https://localhost:8080/"
        },
        "id": "7jFShRvTHnqi",
        "outputId": "a9aa38ba-7bf7-4c1c-a3fd-a213ab261ba4"
      },
      "execution_count": null,
      "outputs": [
        {
          "output_type": "stream",
          "name": "stdout",
          "text": [
            "Counter({5: 6570, 4: 1091, 2: 1077, 1: 504, 0: 320, 6: 139, 3: 113})\n"
          ]
        }
      ]
    },
    {
      "cell_type": "markdown",
      "source": [
        "Create and compile the model"
      ],
      "metadata": {
        "id": "ZklPzWxCCtTW"
      }
    },
    {
      "cell_type": "markdown",
      "source": [
        "# ResNet Transfer Learning\n",
        "Model from https://github.com/AnasBrital98/CNN-From-Scratch/tree/master/Inception-V3"
      ],
      "metadata": {
        "id": "5v7sLC2svMuJ"
      }
    },
    {
      "cell_type": "code",
      "source": [
        "optimizer = Adam(learning_rate=0.001, beta_1=0.9, beta_2=0.999, epsilon=None, decay=0.0, amsgrad=False)\n",
        "\n",
        "EPOCHS = 100\n",
        "BATCH_SIZE = 50\n",
        "\n",
        "#Callbacks\n",
        "learning_rate_reduction = ReduceLROnPlateau(monitor='val_accuracy', patience=5, verbose=0, factor=0.5, min_lr=0.00001)\n",
        "early_stopping_monitor = EarlyStopping(patience=20,monitor='val_accuracy')\n",
        "\n",
        "#Data Augmentation\n",
        "dataaugment = ImageDataGenerator(\n",
        "        featurewise_center=False,  # set input mean to 0 over the dataset\n",
        "        samplewise_center=False,  # set each sample mean to 0\n",
        "        featurewise_std_normalization=False,  # divide inputs by std of the dataset\n",
        "        samplewise_std_normalization=False,  # divide each input by its std\n",
        "        zca_whitening=False,  # apply ZCA whitening\n",
        "        rotation_range=90,  # randomly rotate images in the range (degrees, 0 to 180)\n",
        "        zoom_range = 0.1, # Randomly zoom image \n",
        "        width_shift_range=0.1,  # randomly shift images horizontally (fraction of total width)\n",
        "        height_shift_range=0.1,  # randomly shift images vertically (fraction of total height)\n",
        "        horizontal_flip=True,  # randomly flip images\n",
        "        vertical_flip=True,  # randomly flip images\n",
        "        shear_range = 10) \n",
        "\n",
        "dataaugment.fit(X_train)"
      ],
      "metadata": {
        "id": "8Kef4r_zxjgk"
      },
      "execution_count": 60,
      "outputs": []
    },
    {
      "cell_type": "code",
      "source": [
        "# this could also be the output a different Keras model or layer\n",
        "input_tensor = Input(shape=(IMAGE_H, IMAGE_W, 3))\n",
        "# create the base pre-trained model\n",
        "base_model = ResNet50(input_tensor=input_tensor, weights='imagenet', include_top=False)\n",
        "# add a global spatial average pooling layer\n",
        "x = base_model.output\n",
        "x = GlobalAveragePooling2D()(x)\n",
        "x = Dropout(0.5)(x)\n",
        "x = Flatten()(x)\n",
        "# let's add a fully-connected layer\n",
        "x = Dense(1024, activation='relu')(x)\n",
        "# and a logistic layer -- let's say we have 200 classes\n",
        "predictions = Dense(7, activation='softmax')(x)\n",
        "#predictions = Dense(9)(x)\n",
        "\n",
        "# this is the model we will train\n",
        "model = Model(inputs=base_model.input, outputs=predictions)\n",
        "\n",
        "# first: train only the top layers (which were randomly initialized)\n",
        "# i.e. freeze all convolutional InceptionV3 layers\n",
        "for layer in base_model.layers:\n",
        "    layer.trainable = False\n",
        "\n",
        "# compile the model (should be done *after* setting layers to non-trainable)\n",
        "#model.compile(optimizer='rmsprop', loss='categorical_crossentropy')\n",
        "#model.compile(optimizer=\"adam\", loss=\"sparse_categorical_crossentropy\", metrics=[\"accuracy\"])\n",
        "\n",
        "# train the model on the new data for a few epochs\n",
        "#hst = model.fit(X, y, batch_size=BATCH_SIZE, epochs=EPOCHS, validation_data=(X_val, y_val))\n",
        "\n",
        "model.compile(optimizer = optimizer , loss = \"categorical_crossentropy\", metrics=[\"accuracy\"])\n",
        "hst = model.fit(dataaugment.flow(X_train,y_train, batch_size=BATCH_SIZE),\n",
        "                    epochs = EPOCHS, validation_data = (X_val,y_val),\n",
        "                    steps_per_epoch=X_train.shape[0] // BATCH_SIZE, \n",
        "                    callbacks=[learning_rate_reduction,early_stopping_monitor])"
      ],
      "metadata": {
        "id": "rwwLiXUSG0IZ",
        "colab": {
          "base_uri": "https://localhost:8080/"
        },
        "outputId": "9c8a0d0d-ef74-4eb0-b4b6-ef7da8c62736"
      },
      "execution_count": 61,
      "outputs": [
        {
          "output_type": "stream",
          "name": "stdout",
          "text": [
            "Epoch 1/100\n",
            "938/938 [==============================] - 29s 28ms/step - loss: 1.7938 - accuracy: 0.2804 - val_loss: 1.5675 - val_accuracy: 0.4093 - lr: 0.0010\n",
            "Epoch 2/100\n",
            "938/938 [==============================] - 24s 26ms/step - loss: 1.6770 - accuracy: 0.3077 - val_loss: 1.6775 - val_accuracy: 0.3782 - lr: 0.0010\n",
            "Epoch 3/100\n",
            "938/938 [==============================] - 24s 26ms/step - loss: 1.6558 - accuracy: 0.3226 - val_loss: 1.6363 - val_accuracy: 0.3731 - lr: 0.0010\n",
            "Epoch 4/100\n",
            "938/938 [==============================] - 25s 27ms/step - loss: 1.6389 - accuracy: 0.3292 - val_loss: 1.4553 - val_accuracy: 0.4819 - lr: 0.0010\n",
            "Epoch 5/100\n",
            "938/938 [==============================] - 24s 26ms/step - loss: 1.6330 - accuracy: 0.3346 - val_loss: 1.6457 - val_accuracy: 0.2694 - lr: 0.0010\n",
            "Epoch 6/100\n",
            "938/938 [==============================] - 24s 26ms/step - loss: 1.6187 - accuracy: 0.3409 - val_loss: 1.6897 - val_accuracy: 0.3109 - lr: 0.0010\n",
            "Epoch 7/100\n",
            "938/938 [==============================] - 24s 26ms/step - loss: 1.6160 - accuracy: 0.3450 - val_loss: 1.7375 - val_accuracy: 0.3109 - lr: 0.0010\n",
            "Epoch 8/100\n",
            "938/938 [==============================] - 24s 26ms/step - loss: 1.6153 - accuracy: 0.3455 - val_loss: 1.5558 - val_accuracy: 0.3679 - lr: 0.0010\n",
            "Epoch 9/100\n",
            "938/938 [==============================] - 25s 26ms/step - loss: 1.6081 - accuracy: 0.3480 - val_loss: 1.7075 - val_accuracy: 0.2228 - lr: 0.0010\n",
            "Epoch 10/100\n",
            "938/938 [==============================] - 25s 26ms/step - loss: 1.5951 - accuracy: 0.3520 - val_loss: 1.6251 - val_accuracy: 0.3679 - lr: 5.0000e-04\n",
            "Epoch 11/100\n",
            "938/938 [==============================] - 24s 26ms/step - loss: 1.5871 - accuracy: 0.3583 - val_loss: 1.7110 - val_accuracy: 0.2798 - lr: 5.0000e-04\n",
            "Epoch 12/100\n",
            "938/938 [==============================] - 24s 26ms/step - loss: 1.5858 - accuracy: 0.3612 - val_loss: 1.5703 - val_accuracy: 0.3679 - lr: 5.0000e-04\n",
            "Epoch 13/100\n",
            "938/938 [==============================] - 25s 26ms/step - loss: 1.5829 - accuracy: 0.3606 - val_loss: 1.5936 - val_accuracy: 0.3834 - lr: 5.0000e-04\n",
            "Epoch 14/100\n",
            "938/938 [==============================] - 25s 26ms/step - loss: 1.5789 - accuracy: 0.3605 - val_loss: 1.5757 - val_accuracy: 0.3523 - lr: 5.0000e-04\n",
            "Epoch 15/100\n",
            "938/938 [==============================] - 24s 26ms/step - loss: 1.5704 - accuracy: 0.3675 - val_loss: 1.6811 - val_accuracy: 0.2798 - lr: 2.5000e-04\n",
            "Epoch 16/100\n",
            "938/938 [==============================] - 25s 26ms/step - loss: 1.5729 - accuracy: 0.3658 - val_loss: 1.6064 - val_accuracy: 0.3057 - lr: 2.5000e-04\n",
            "Epoch 17/100\n",
            "938/938 [==============================] - 24s 26ms/step - loss: 1.5663 - accuracy: 0.3686 - val_loss: 1.5748 - val_accuracy: 0.3316 - lr: 2.5000e-04\n",
            "Epoch 18/100\n",
            "938/938 [==============================] - 24s 26ms/step - loss: 1.5728 - accuracy: 0.3617 - val_loss: 1.5615 - val_accuracy: 0.3782 - lr: 2.5000e-04\n",
            "Epoch 19/100\n",
            "938/938 [==============================] - 24s 26ms/step - loss: 1.5663 - accuracy: 0.3720 - val_loss: 1.5549 - val_accuracy: 0.3523 - lr: 2.5000e-04\n",
            "Epoch 20/100\n",
            "938/938 [==============================] - 25s 26ms/step - loss: 1.5614 - accuracy: 0.3723 - val_loss: 1.5609 - val_accuracy: 0.3523 - lr: 1.2500e-04\n",
            "Epoch 21/100\n",
            "938/938 [==============================] - 24s 26ms/step - loss: 1.5562 - accuracy: 0.3727 - val_loss: 1.5927 - val_accuracy: 0.3368 - lr: 1.2500e-04\n",
            "Epoch 22/100\n",
            "938/938 [==============================] - 24s 26ms/step - loss: 1.5640 - accuracy: 0.3689 - val_loss: 1.5928 - val_accuracy: 0.3316 - lr: 1.2500e-04\n",
            "Epoch 23/100\n",
            "938/938 [==============================] - 24s 26ms/step - loss: 1.5564 - accuracy: 0.3734 - val_loss: 1.5689 - val_accuracy: 0.3523 - lr: 1.2500e-04\n",
            "Epoch 24/100\n",
            "938/938 [==============================] - 24s 26ms/step - loss: 1.5562 - accuracy: 0.3757 - val_loss: 1.5700 - val_accuracy: 0.3523 - lr: 1.2500e-04\n"
          ]
        }
      ]
    },
    {
      "cell_type": "code",
      "source": [
        "model.save('/content/drive/MyDrive/models')"
      ],
      "metadata": {
        "id": "LD5TzcPDvuWe",
        "outputId": "099be7ab-b086-4283-d523-0f45f2ea186f",
        "colab": {
          "base_uri": "https://localhost:8080/"
        }
      },
      "execution_count": null,
      "outputs": [
        {
          "output_type": "stream",
          "name": "stdout",
          "text": [
            "INFO:tensorflow:Assets written to: /content/drive/MyDrive/models/assets\n"
          ]
        }
      ]
    },
    {
      "cell_type": "code",
      "source": [
        "# summarize history for accuracy\n",
        "plt.plot(hst.history['accuracy'])\n",
        "plt.plot(hst.history['val_accuracy'])\n",
        "plt.title('model accuracy')\n",
        "plt.ylabel('accuracy')\n",
        "plt.xlabel('epoch')\n",
        "plt.legend(['train', 'val'], loc='upper left')\n",
        "plt.show()"
      ],
      "metadata": {
        "id": "vXnW3lmCgln3",
        "outputId": "38661855-aa65-4785-f89d-5397320961bf",
        "colab": {
          "base_uri": "https://localhost:8080/",
          "height": 295
        }
      },
      "execution_count": 38,
      "outputs": [
        {
          "output_type": "display_data",
          "data": {
            "text/plain": [
              "<Figure size 432x288 with 1 Axes>"
            ],
            "image/png": "[encoded data removed]"
          },
          "metadata": {
            "needs_background": "light"
          }
        }
      ]
    },
    {
      "cell_type": "code",
      "source": [
        "# we chose to train the top 2 resnet blocks, i.e. we will freeze\n",
        "# the first 49 layers and unfreeze the rest:\n",
        "limit = 171\n",
        "for layer in model.layers[:limit]:\n",
        "   layer.trainable = False\n",
        "for layer in model.layers[limit:]:\n",
        "   layer.trainable = True\n",
        "\n",
        "# we need to recompile the model for these modifications to take effect\n",
        "# we use SGD with a low learning rate\n",
        "from tensorflow.keras.optimizers import SGD\n",
        "#model.compile(optimizer=SGD(learning_rate=0.0001, momentum=0.9), loss='categorical_crossentropy', metrics=[\"accuracy\"])\n",
        "\n",
        "# we train our model again (this time fine-tuning the top 2 inception blocks\n",
        "# alongside the top Dense layers\n",
        "#hst2 = model.fit(X_train, y_train, batch_size=BATCH_SIZE, epochs=EPOCHS, validation_data=(X_val, y_val))\n",
        "optimizer_SGD = SGD(learning_rate=0.0001, momentum=0.9)\n",
        "model.compile(optimizer = optimizer_SGD , loss = \"categorical_crossentropy\", metrics=[\"accuracy\"])\n",
        "hst2 = model.fit(dataaugment.flow(X_train,y_train, batch_size=BATCH_SIZE),\n",
        "                    epochs = EPOCHS, validation_data = (X_val,y_val),\n",
        "                    steps_per_epoch=X_train.shape[0] // BATCH_SIZE, \n",
        "                    callbacks=[learning_rate_reduction,early_stopping_monitor])"
      ],
      "metadata": {
        "id": "Nr1jnSM7yzJc",
        "outputId": "a67d3a73-3706-4838-d59c-ffa67a1be5bd",
        "colab": {
          "base_uri": "https://localhost:8080/"
        }
      },
      "execution_count": 42,
      "outputs": [
        {
          "output_type": "stream",
          "name": "stdout",
          "text": [
            "Epoch 1/100\n",
            "500/500 [==============================] - 13s 17ms/step - loss: 1.1472 - accuracy: 0.6429 - val_loss: 1.0885 - val_accuracy: 0.6269 - lr: 1.0000e-04\n",
            "Epoch 2/100\n",
            "500/500 [==============================] - 8s 15ms/step - loss: 1.0733 - accuracy: 0.6574 - val_loss: 1.0622 - val_accuracy: 0.6477 - lr: 1.0000e-04\n",
            "Epoch 3/100\n",
            "500/500 [==============================] - 8s 16ms/step - loss: 1.0268 - accuracy: 0.6643 - val_loss: 1.0647 - val_accuracy: 0.6477 - lr: 1.0000e-04\n",
            "Epoch 4/100\n",
            "500/500 [==============================] - 8s 15ms/step - loss: 1.0137 - accuracy: 0.6673 - val_loss: 1.0914 - val_accuracy: 0.6528 - lr: 1.0000e-04\n",
            "Epoch 5/100\n",
            "500/500 [==============================] - 8s 15ms/step - loss: 1.0093 - accuracy: 0.6667 - val_loss: 1.0976 - val_accuracy: 0.6114 - lr: 1.0000e-04\n",
            "Epoch 6/100\n",
            "500/500 [==============================] - 8s 15ms/step - loss: 0.9939 - accuracy: 0.6708 - val_loss: 1.0236 - val_accuracy: 0.6477 - lr: 1.0000e-04\n",
            "Epoch 7/100\n",
            "500/500 [==============================] - 8s 16ms/step - loss: 0.9886 - accuracy: 0.6742 - val_loss: 1.0148 - val_accuracy: 0.6684 - lr: 1.0000e-04\n",
            "Epoch 8/100\n",
            "500/500 [==============================] - 8s 16ms/step - loss: 0.9728 - accuracy: 0.6773 - val_loss: 1.0508 - val_accuracy: 0.6477 - lr: 1.0000e-04\n",
            "Epoch 9/100\n",
            "500/500 [==============================] - 8s 15ms/step - loss: 0.9701 - accuracy: 0.6756 - val_loss: 0.9984 - val_accuracy: 0.6632 - lr: 1.0000e-04\n",
            "Epoch 10/100\n",
            "500/500 [==============================] - 8s 16ms/step - loss: 0.9591 - accuracy: 0.6804 - val_loss: 1.0083 - val_accuracy: 0.6632 - lr: 1.0000e-04\n",
            "Epoch 11/100\n",
            "500/500 [==============================] - 8s 15ms/step - loss: 0.9598 - accuracy: 0.6778 - val_loss: 0.9781 - val_accuracy: 0.6788 - lr: 1.0000e-04\n",
            "Epoch 12/100\n",
            "500/500 [==============================] - 8s 15ms/step - loss: 0.9505 - accuracy: 0.6798 - val_loss: 1.0392 - val_accuracy: 0.6684 - lr: 1.0000e-04\n",
            "Epoch 13/100\n",
            "500/500 [==============================] - 8s 15ms/step - loss: 0.9507 - accuracy: 0.6786 - val_loss: 1.0584 - val_accuracy: 0.6528 - lr: 1.0000e-04\n",
            "Epoch 14/100\n",
            "500/500 [==============================] - 8s 15ms/step - loss: 0.9535 - accuracy: 0.6795 - val_loss: 0.9962 - val_accuracy: 0.6736 - lr: 1.0000e-04\n",
            "Epoch 15/100\n",
            "500/500 [==============================] - 8s 16ms/step - loss: 0.9440 - accuracy: 0.6812 - val_loss: 1.0151 - val_accuracy: 0.6736 - lr: 1.0000e-04\n",
            "Epoch 16/100\n",
            "500/500 [==============================] - 8s 15ms/step - loss: 0.9384 - accuracy: 0.6833 - val_loss: 1.0233 - val_accuracy: 0.6477 - lr: 1.0000e-04\n",
            "Epoch 17/100\n",
            "500/500 [==============================] - 8s 15ms/step - loss: 0.9367 - accuracy: 0.6819 - val_loss: 0.9911 - val_accuracy: 0.6736 - lr: 5.0000e-05\n",
            "Epoch 18/100\n",
            "500/500 [==============================] - 8s 15ms/step - loss: 0.9302 - accuracy: 0.6841 - val_loss: 0.9967 - val_accuracy: 0.6736 - lr: 5.0000e-05\n",
            "Epoch 19/100\n",
            "500/500 [==============================] - 8s 15ms/step - loss: 0.9228 - accuracy: 0.6842 - val_loss: 0.9752 - val_accuracy: 0.6788 - lr: 5.0000e-05\n",
            "Epoch 20/100\n",
            "500/500 [==============================] - 8s 16ms/step - loss: 0.9396 - accuracy: 0.6821 - val_loss: 0.9953 - val_accuracy: 0.6891 - lr: 5.0000e-05\n",
            "Epoch 21/100\n",
            "500/500 [==============================] - 8s 15ms/step - loss: 0.9320 - accuracy: 0.6854 - val_loss: 0.9935 - val_accuracy: 0.6943 - lr: 5.0000e-05\n",
            "Epoch 22/100\n",
            "500/500 [==============================] - 8s 15ms/step - loss: 0.9278 - accuracy: 0.6852 - val_loss: 1.0543 - val_accuracy: 0.6477 - lr: 5.0000e-05\n",
            "Epoch 23/100\n",
            "500/500 [==============================] - 8s 15ms/step - loss: 0.9232 - accuracy: 0.6878 - val_loss: 0.9918 - val_accuracy: 0.6891 - lr: 5.0000e-05\n",
            "Epoch 24/100\n",
            "500/500 [==============================] - 8s 15ms/step - loss: 0.9258 - accuracy: 0.6873 - val_loss: 0.9842 - val_accuracy: 0.6891 - lr: 5.0000e-05\n",
            "Epoch 25/100\n",
            "500/500 [==============================] - 8s 15ms/step - loss: 0.9210 - accuracy: 0.6847 - val_loss: 0.9772 - val_accuracy: 0.6891 - lr: 5.0000e-05\n",
            "Epoch 26/100\n",
            "500/500 [==============================] - 8s 15ms/step - loss: 0.9181 - accuracy: 0.6881 - val_loss: 0.9938 - val_accuracy: 0.6788 - lr: 5.0000e-05\n",
            "Epoch 27/100\n",
            "500/500 [==============================] - 8s 15ms/step - loss: 0.9187 - accuracy: 0.6853 - val_loss: 0.9831 - val_accuracy: 0.6736 - lr: 2.5000e-05\n",
            "Epoch 28/100\n",
            "500/500 [==============================] - 8s 15ms/step - loss: 0.9137 - accuracy: 0.6863 - val_loss: 0.9808 - val_accuracy: 0.6736 - lr: 2.5000e-05\n",
            "Epoch 29/100\n",
            "500/500 [==============================] - 8s 15ms/step - loss: 0.9135 - accuracy: 0.6892 - val_loss: 0.9738 - val_accuracy: 0.6684 - lr: 2.5000e-05\n",
            "Epoch 30/100\n",
            "500/500 [==============================] - 8s 15ms/step - loss: 0.9146 - accuracy: 0.6920 - val_loss: 0.9821 - val_accuracy: 0.6788 - lr: 2.5000e-05\n",
            "Epoch 31/100\n",
            "500/500 [==============================] - 8s 16ms/step - loss: 0.9179 - accuracy: 0.6852 - val_loss: 0.9812 - val_accuracy: 0.6632 - lr: 2.5000e-05\n",
            "Epoch 32/100\n",
            "500/500 [==============================] - 8s 15ms/step - loss: 0.9188 - accuracy: 0.6858 - val_loss: 0.9799 - val_accuracy: 0.6684 - lr: 1.2500e-05\n",
            "Epoch 33/100\n",
            "500/500 [==============================] - 8s 15ms/step - loss: 0.9148 - accuracy: 0.6894 - val_loss: 0.9799 - val_accuracy: 0.6684 - lr: 1.2500e-05\n",
            "Epoch 34/100\n",
            "500/500 [==============================] - 8s 16ms/step - loss: 0.9129 - accuracy: 0.6874 - val_loss: 0.9843 - val_accuracy: 0.6736 - lr: 1.2500e-05\n",
            "Epoch 35/100\n",
            "500/500 [==============================] - 8s 15ms/step - loss: 0.9084 - accuracy: 0.6907 - val_loss: 0.9805 - val_accuracy: 0.6632 - lr: 1.2500e-05\n",
            "Epoch 36/100\n",
            "500/500 [==============================] - 8s 16ms/step - loss: 0.9150 - accuracy: 0.6892 - val_loss: 0.9805 - val_accuracy: 0.6684 - lr: 1.2500e-05\n",
            "Epoch 37/100\n",
            "500/500 [==============================] - 8s 15ms/step - loss: 0.9109 - accuracy: 0.6873 - val_loss: 0.9919 - val_accuracy: 0.6684 - lr: 1.0000e-05\n",
            "Epoch 38/100\n",
            "500/500 [==============================] - 8s 16ms/step - loss: 0.9127 - accuracy: 0.6912 - val_loss: 0.9782 - val_accuracy: 0.6788 - lr: 1.0000e-05\n",
            "Epoch 39/100\n",
            "500/500 [==============================] - 8s 15ms/step - loss: 0.9148 - accuracy: 0.6878 - val_loss: 0.9797 - val_accuracy: 0.6684 - lr: 1.0000e-05\n",
            "Epoch 40/100\n",
            "500/500 [==============================] - 8s 15ms/step - loss: 0.9143 - accuracy: 0.6892 - val_loss: 0.9942 - val_accuracy: 0.6736 - lr: 1.0000e-05\n",
            "Epoch 41/100\n",
            "500/500 [==============================] - 8s 15ms/step - loss: 0.9162 - accuracy: 0.6863 - val_loss: 0.9810 - val_accuracy: 0.6788 - lr: 1.0000e-05\n"
          ]
        }
      ]
    },
    {
      "cell_type": "code",
      "source": [
        "# summarize history for accuracy\n",
        "plt.plot(hst2.history['accuracy'])\n",
        "plt.plot(hst2.history['val_accuracy'])\n",
        "plt.title('model accuracy after tunning')\n",
        "plt.ylabel('accuracy')\n",
        "plt.xlabel('epoch')\n",
        "plt.legend(['train', 'val'], loc='upper left')\n",
        "plt.show()"
      ],
      "metadata": {
        "id": "vO1aAQBmiy0K",
        "outputId": "3fb8c829-37aa-443d-a8a9-72290946e464",
        "colab": {
          "base_uri": "https://localhost:8080/",
          "height": 295
        }
      },
      "execution_count": 43,
      "outputs": [
        {
          "output_type": "display_data",
          "data": {
            "text/plain": [
              "<Figure size 432x288 with 1 Axes>"
            ],
            "image/png": "[encoded data removed]"
          },
          "metadata": {
            "needs_background": "light"
          }
        }
      ]
    },
    {
      "cell_type": "code",
      "source": [
        "# accuracy\n",
        "print(f'Train Accuracy: {hst2.history[\"accuracy\"][-1:][0] * 100:.2f}')\n",
        "print(f'Val Accuracy: {hst2.history[\"val_accuracy\"][-1:][0] * 100:.2f}')\n",
        "# loss\n",
        "print(f'Train Loss: {hst2.history[\"loss\"][-1:][0] * 100:.2f}')\n",
        "print(f'Val Loss: {hst2.history[\"val_loss\"][-1:][0] * 100:.2f}')"
      ],
      "metadata": {
        "id": "xcXzznVpiDt2",
        "outputId": "afcd4467-2f02-4b44-ac71-800e16fafd4f",
        "colab": {
          "base_uri": "https://localhost:8080/"
        }
      },
      "execution_count": 44,
      "outputs": [
        {
          "output_type": "stream",
          "name": "stdout",
          "text": [
            "Train Accuracy: 68.63\n",
            "Val Accuracy: 67.88\n",
            "Train Loss: 91.62\n",
            "Val Loss: 98.10\n"
          ]
        }
      ]
    },
    {
      "cell_type": "markdown",
      "source": [
        "Load test data"
      ],
      "metadata": {
        "id": "3K908bbiYwbS"
      }
    },
    {
      "cell_type": "code",
      "source": [
        "X_test = load_data('Skin cancer ISIC The International Skin Imaging Collaboration/Test')"
      ],
      "metadata": {
        "id": "NeMY2yvMYxsC"
      },
      "execution_count": null,
      "outputs": []
    },
    {
      "cell_type": "markdown",
      "source": [
        "Print head data"
      ],
      "metadata": {
        "id": "JFk6KpN2YdF6"
      }
    },
    {
      "cell_type": "code",
      "source": [
        "X_test.head(3)"
      ],
      "metadata": {
        "id": "NBa1TxPuY8ni",
        "outputId": "c1504d3e-d24a-48fd-ffb8-3f3a92b30068",
        "colab": {
          "base_uri": "https://localhost:8080/",
          "height": 143
        }
      },
      "execution_count": null,
      "outputs": [
        {
          "output_type": "execute_result",
          "data": {
            "text/plain": [
              "                                           FilePaths  \\\n",
              "0  Skin cancer ISIC The International Skin Imagin...   \n",
              "1  Skin cancer ISIC The International Skin Imagin...   \n",
              "2  Skin cancer ISIC The International Skin Imagin...   \n",
              "\n",
              "                       Labels  \n",
              "0             vascular lesion  \n",
              "1  pigmented benign keratosis  \n",
              "2     squamous cell carcinoma  "
            ],
            "text/html": [
              "\n",
              "  <div id=\"df-aa779b20-ba90-49f7-86a7-c05a226c8a92\">\n",
              "    <div class=\"colab-df-container\">\n",
              "      <div>\n",
              "<style scoped>\n",
              "    .dataframe tbody tr th:only-of-type {\n",
              "        vertical-align: middle;\n",
              "    }\n",
              "\n",
              "    .dataframe tbody tr th {\n",
              "        vertical-align: top;\n",
              "    }\n",
              "\n",
              "    .dataframe thead th {\n",
              "        text-align: right;\n",
              "    }\n",
              "</style>\n",
              "<table border=\"1\" class=\"dataframe\">\n",
              "  <thead>\n",
              "    <tr style=\"text-align: right;\">\n",
              "      <th></th>\n",
              "      <th>FilePaths</th>\n",
              "      <th>Labels</th>\n",
              "    </tr>\n",
              "  </thead>\n",
              "  <tbody>\n",
              "    <tr>\n",
              "      <th>0</th>\n",
              "      <td>Skin cancer ISIC The International Skin Imagin...</td>\n",
              "      <td>vascular lesion</td>\n",
              "    </tr>\n",
              "    <tr>\n",
              "      <th>1</th>\n",
              "      <td>Skin cancer ISIC The International Skin Imagin...</td>\n",
              "      <td>pigmented benign keratosis</td>\n",
              "    </tr>\n",
              "    <tr>\n",
              "      <th>2</th>\n",
              "      <td>Skin cancer ISIC The International Skin Imagin...</td>\n",
              "      <td>squamous cell carcinoma</td>\n",
              "    </tr>\n",
              "  </tbody>\n",
              "</table>\n",
              "</div>\n",
              "      <button class=\"colab-df-convert\" onclick=\"convertToInteractive('df-aa779b20-ba90-49f7-86a7-c05a226c8a92')\"\n",
              "              title=\"Convert this dataframe to an interactive table.\"\n",
              "              style=\"display:none;\">\n",
              "        \n",
              "  <svg xmlns=\"http://www.w3.org/2000/svg\" height=\"24px\"viewBox=\"0 0 24 24\"\n",
              "       width=\"24px\">\n",
              "    <path d=\"M0 0h24v24H0V0z\" fill=\"none\"/>\n",
              "    <path d=\"M18.56 5.44l.94 2.06.94-2.06 2.06-.94-2.06-.94-.94-2.06-.94 2.06-2.06.94zm-11 1L8.5 8.5l.94-2.06 2.06-.94-2.06-.94L8.5 2.5l-.94 2.06-2.06.94zm10 10l.94 2.06.94-2.06 2.06-.94-2.06-.94-.94-2.06-.94 2.06-2.06.94z\"/><path d=\"M17.41 7.96l-1.37-1.37c-.4-.4-.92-.59-1.43-.59-.52 0-1.04.2-1.43.59L10.3 9.45l-7.72 7.72c-.78.78-.78 2.05 0 2.83L4 21.41c.39.39.9.59 1.41.59.51 0 1.02-.2 1.41-.59l7.78-7.78 2.81-2.81c.8-.78.8-2.07 0-2.86zM5.41 20L4 18.59l7.72-7.72 1.47 1.35L5.41 20z\"/>\n",
              "  </svg>\n",
              "      </button>\n",
              "      \n",
              "  <style>\n",
              "    .colab-df-container {\n",
              "      display:flex;\n",
              "      flex-wrap:wrap;\n",
              "      gap: 12px;\n",
              "    }\n",
              "\n",
              "    .colab-df-convert {\n",
              "      background-color: #E8F0FE;\n",
              "      border: none;\n",
              "      border-radius: 50%;\n",
              "      cursor: pointer;\n",
              "      display: none;\n",
              "      fill: #1967D2;\n",
              "      height: 32px;\n",
              "      padding: 0 0 0 0;\n",
              "      width: 32px;\n",
              "    }\n",
              "\n",
              "    .colab-df-convert:hover {\n",
              "      background-color: #E2EBFA;\n",
              "      box-shadow: 0px 1px 2px rgba(60, 64, 67, 0.3), 0px 1px 3px 1px rgba(60, 64, 67, 0.15);\n",
              "      fill: #174EA6;\n",
              "    }\n",
              "\n",
              "    [theme=dark] .colab-df-convert {\n",
              "      background-color: #3B4455;\n",
              "      fill: #D2E3FC;\n",
              "    }\n",
              "\n",
              "    [theme=dark] .colab-df-convert:hover {\n",
              "      background-color: #434B5C;\n",
              "      box-shadow: 0px 1px 3px 1px rgba(0, 0, 0, 0.15);\n",
              "      filter: drop-shadow(0px 1px 2px rgba(0, 0, 0, 0.3));\n",
              "      fill: #FFFFFF;\n",
              "    }\n",
              "  </style>\n",
              "\n",
              "      <script>\n",
              "        const buttonEl =\n",
              "          document.querySelector('#df-aa779b20-ba90-49f7-86a7-c05a226c8a92 button.colab-df-convert');\n",
              "        buttonEl.style.display =\n",
              "          google.colab.kernel.accessAllowed ? 'block' : 'none';\n",
              "\n",
              "        async function convertToInteractive(key) {\n",
              "          const element = document.querySelector('#df-aa779b20-ba90-49f7-86a7-c05a226c8a92');\n",
              "          const dataTable =\n",
              "            await google.colab.kernel.invokeFunction('convertToInteractive',\n",
              "                                                     [key], {});\n",
              "          if (!dataTable) return;\n",
              "\n",
              "          const docLinkHtml = 'Like what you see? Visit the ' +\n",
              "            '<a target=\"_blank\" href=https://colab.research.google.com/notebooks/data_table.ipynb>data table notebook</a>'\n",
              "            + ' to learn more about interactive tables.';\n",
              "          element.innerHTML = '';\n",
              "          dataTable['output_type'] = 'display_data';\n",
              "          await google.colab.output.renderOutput(dataTable, element);\n",
              "          const docLink = document.createElement('div');\n",
              "          docLink.innerHTML = docLinkHtml;\n",
              "          element.appendChild(docLink);\n",
              "        }\n",
              "      </script>\n",
              "    </div>\n",
              "  </div>\n",
              "  "
            ]
          },
          "metadata": {},
          "execution_count": 25
        }
      ]
    },
    {
      "cell_type": "code",
      "source": [
        "print('Test Data: ', X_test.shape)\n",
        "\n",
        "# ordered count of rows per unique label\n",
        "X_test['Labels'].value_counts(ascending=True)"
      ],
      "metadata": {
        "id": "7n9d5GXUZNfK",
        "outputId": "e06c74b8-ee8d-47af-efea-379ebb891449",
        "colab": {
          "base_uri": "https://localhost:8080/"
        }
      },
      "execution_count": null,
      "outputs": [
        {
          "output_type": "stream",
          "name": "stdout",
          "text": [
            "Test Data:  (118, 2)\n"
          ]
        },
        {
          "output_type": "execute_result",
          "data": {
            "text/plain": [
              "vascular lesion                3\n",
              "seborrheic keratosis           3\n",
              "pigmented benign keratosis    16\n",
              "squamous cell carcinoma       16\n",
              "actinic keratosis             16\n",
              "melanoma                      16\n",
              "nevus                         16\n",
              "dermatofibroma                16\n",
              "basal cell carcinoma          16\n",
              "Name: Labels, dtype: int64"
            ]
          },
          "metadata": {},
          "execution_count": 26
        }
      ]
    },
    {
      "cell_type": "markdown",
      "source": [
        "Preprocess test image"
      ],
      "metadata": {
        "id": "9IJs6HpqZUUh"
      }
    },
    {
      "cell_type": "code",
      "source": [
        "X_test_arr = []\n",
        "for img in X_test['FilePaths']:\n",
        "    loaded_img = load_img(img, target_size=IMG_SIZE)\n",
        "    img_arr = img_to_array(loaded_img)\n",
        "    X_test_arr.append(img_arr)\n",
        "    \n",
        "print(np.array(X_test_arr).shape)  \n",
        "y_test = X_test['Labels']\n",
        "X_test = X_test_arr\n",
        "\n",
        "y_test = np.array(y_test.values)\n",
        "X_test = np.array(X_test)"
      ],
      "metadata": {
        "id": "yf5w07qoYmdh",
        "outputId": "2c2c2d7e-eb01-45f4-bd43-c19e95ad8c1f",
        "colab": {
          "base_uri": "https://localhost:8080/"
        }
      },
      "execution_count": null,
      "outputs": [
        {
          "output_type": "stream",
          "name": "stdout",
          "text": [
            "(118, 224, 224, 3)\n"
          ]
        }
      ]
    },
    {
      "cell_type": "code",
      "source": [
        "#resampling test set\n",
        "\n",
        "from imblearn.over_sampling import SMOTE\n",
        "sm = SMOTE(random_state=42, k_neighbors=2)\n",
        "X_test, y_test = sm.fit_resample(X_test.reshape((-1, IMAGE_W * IMAGE_H * 3)), y_test)\n",
        "X_test.reshape(-1, IMAGE_W, IMAGE_H, 3)\n",
        "print(X_test.shape)\n",
        "print(y_test.shape)"
      ],
      "metadata": {
        "id": "UL5LK86wJCzi",
        "outputId": "35523bfd-ec76-4b40-bd11-3931f7af4ea1",
        "colab": {
          "base_uri": "https://localhost:8080/"
        }
      },
      "execution_count": null,
      "outputs": [
        {
          "output_type": "stream",
          "name": "stdout",
          "text": [
            "(144, 150528)\n",
            "(144,)\n"
          ]
        }
      ]
    },
    {
      "cell_type": "code",
      "source": [
        "X_test"
      ],
      "metadata": {
        "id": "sTPfjpMUJhGG",
        "outputId": "a957a8f8-201b-4814-c00b-d96c1a2b79ea",
        "colab": {
          "base_uri": "https://localhost:8080/"
        }
      },
      "execution_count": null,
      "outputs": [
        {
          "output_type": "execute_result",
          "data": {
            "text/plain": [
              "array([[171.     , 149.     , 170.     , ...,  37.     ,  34.     ,\n",
              "         53.     ],\n",
              "       [172.     , 135.     , 169.     , ..., 173.     , 138.     ,\n",
              "        171.     ],\n",
              "       [184.     , 149.     , 155.     , ..., 198.     , 158.     ,\n",
              "        166.     ],\n",
              "       ...,\n",
              "       [190.80458, 136.39708, 150.79555, ..., 131.82196,  90.41307,\n",
              "        102.2114 ],\n",
              "       [204.09334, 129.02664, 138.69998, ..., 195.18666, 128.88664,\n",
              "        135.74664],\n",
              "       [204.05249, 128.57738, 138.39366, ..., 195.10498, 128.49864,\n",
              "        135.4199 ]], dtype=float32)"
            ]
          },
          "metadata": {},
          "execution_count": 36
        }
      ]
    },
    {
      "cell_type": "code",
      "source": [
        "X_test = X_test.reshape(-1, IMAGE_W, IMAGE_H, 3)"
      ],
      "metadata": {
        "id": "C6HD0g67WIbt"
      },
      "execution_count": null,
      "outputs": []
    },
    {
      "cell_type": "code",
      "source": [
        "y_test = y_test.reshape(-1,1)\n",
        "y_test= label_encoder.fit_transform(y_test)\n",
        "y_test"
      ],
      "metadata": {
        "id": "GMycB4NLarTZ",
        "outputId": "de20166c-040e-4d4d-c35e-d0179c76497c",
        "colab": {
          "base_uri": "https://localhost:8080/"
        }
      },
      "execution_count": null,
      "outputs": [
        {
          "output_type": "stream",
          "name": "stderr",
          "text": [
            "/usr/local/lib/python3.7/dist-packages/sklearn/preprocessing/_label.py:115: DataConversionWarning: A column-vector y was passed when a 1d array was expected. Please change the shape of y to (n_samples, ), for example using ravel().\n",
            "  y = column_or_1d(y, warn=True)\n"
          ]
        },
        {
          "output_type": "execute_result",
          "data": {
            "text/plain": [
              "array([8, 5, 7, 0, 3, 5, 4, 2, 1, 0, 5, 5, 2, 4, 6, 1, 0, 5, 2, 0, 4, 3,\n",
              "       4, 7, 3, 5, 2, 2, 0, 7, 1, 1, 3, 0, 4, 0, 1, 2, 5, 3, 0, 1, 2, 7,\n",
              "       3, 2, 4, 7, 3, 0, 1, 7, 1, 3, 2, 7, 4, 7, 7, 1, 7, 3, 8, 6, 2, 5,\n",
              "       5, 0, 5, 4, 4, 3, 7, 5, 3, 2, 7, 3, 0, 8, 2, 1, 1, 3, 1, 0, 4, 7,\n",
              "       2, 7, 4, 1, 0, 7, 2, 5, 4, 3, 3, 3, 1, 2, 5, 0, 0, 4, 0, 2, 5, 5,\n",
              "       4, 5, 7, 1, 4, 4, 6, 1, 6, 6, 6, 6, 6, 6, 6, 6, 6, 6, 6, 6, 6, 8,\n",
              "       8, 8, 8, 8, 8, 8, 8, 8, 8, 8, 8, 8])"
            ]
          },
          "metadata": {},
          "execution_count": 37
        }
      ]
    },
    {
      "cell_type": "code",
      "source": [
        "#y_test = y_test.reshape(-1,1)"
      ],
      "metadata": {
        "id": "gxcMQD1hbOws"
      },
      "execution_count": null,
      "outputs": []
    },
    {
      "cell_type": "code",
      "source": [
        "#X_test = X_test.astype('float32') / 255."
      ],
      "metadata": {
        "id": "wG1VxNMxWbmF"
      },
      "execution_count": null,
      "outputs": []
    },
    {
      "cell_type": "markdown",
      "source": [
        "Evaluate model againts test data"
      ],
      "metadata": {
        "id": "79JETqujZcES"
      }
    },
    {
      "cell_type": "code",
      "source": [
        "res = model.evaluate(X_test,y_test)"
      ],
      "metadata": {
        "id": "Yksa4b9ZcZGX",
        "outputId": "82b87102-06b2-4fd8-c2e0-03ee9311457b",
        "colab": {
          "base_uri": "https://localhost:8080/"
        }
      },
      "execution_count": null,
      "outputs": [
        {
          "output_type": "stream",
          "name": "stdout",
          "text": [
            "7/7 [==============================] - 1s 15ms/step - loss: 3.5914 - accuracy: 0.4509\n"
          ]
        }
      ]
    },
    {
      "cell_type": "markdown",
      "source": [
        "The accuracy"
      ],
      "metadata": {
        "id": "rJIAGUn1ZlN5"
      }
    },
    {
      "cell_type": "code",
      "source": [
        "# accuracy\n",
        "print(f'Train Accuracy: {hst2.history[\"accuracy\"][-1:][0] * 100:.2f}')\n",
        "print(f'Val Accuracy: {hst2.history[\"val_accuracy\"][-1:][0] * 100:.2f}')\n",
        "print(f'Test Accuracy: {res[1] * 100:.2f}')\n",
        "# loss\n",
        "print(f'Train Loss: {hst2.history[\"loss\"][-1:][0] * 100:.2f}')\n",
        "print(f'Val Loss: {hst2.history[\"val_loss\"][-1:][0] * 100:.2f}')\n",
        "print(f'Test Loss: {res[0] * 100:.2f}')"
      ],
      "metadata": {
        "id": "dtQLnVELZjYZ",
        "outputId": "65de2efb-ec47-4862-c25d-495a3570998c",
        "colab": {
          "base_uri": "https://localhost:8080/"
        }
      },
      "execution_count": null,
      "outputs": [
        {
          "output_type": "stream",
          "name": "stdout",
          "text": [
            "Train Accuracy: 95.73\n",
            "Val Accuracy: 73.07\n",
            "Test Accuracy: 45.09\n",
            "Train Loss: 9.05\n",
            "Val Loss: 161.83\n",
            "Test Loss: 359.14\n"
          ]
        }
      ]
    },
    {
      "cell_type": "markdown",
      "source": [
        "Calculate y_pred from training and testing for analysis"
      ],
      "metadata": {
        "id": "FF7ml90JZ8FK"
      }
    },
    {
      "cell_type": "code",
      "source": [
        "# predicted labels\n",
        "Y_pred = model.predict(X_val)\n",
        "print(\"Y_pred\", Y_pred.shape)\n",
        "# rounded labels\n",
        "y_pred = np.argmax(Y_pred, axis=1)\n",
        "print(\"y_pred\", y_pred.size)"
      ],
      "metadata": {
        "id": "zm9_KAwqZ9lK",
        "outputId": "66627e90-0af3-41d1-f95c-a28b51a0a992",
        "colab": {
          "base_uri": "https://localhost:8080/"
        }
      },
      "execution_count": null,
      "outputs": [
        {
          "output_type": "stream",
          "name": "stdout",
          "text": [
            "Y_pred (193, 9)\n",
            "y_pred 193\n"
          ]
        }
      ]
    },
    {
      "cell_type": "code",
      "source": [
        "# predicted labels\n",
        "Y_pred2 = model.predict(X_test)\n",
        "print(\"Y_pred2\", Y_pred2.shape)\n",
        "# rounded labels\n",
        "y_pred2 = np.argmax(Y_pred2, axis=1)\n",
        "print(\"y_pred2\", y_pred2.size)"
      ],
      "metadata": {
        "id": "dIX0AmEFNv3Y",
        "outputId": "c7a3095f-984e-4f9f-8997-b0e34ab17ec4",
        "colab": {
          "base_uri": "https://localhost:8080/"
        }
      },
      "execution_count": null,
      "outputs": [
        {
          "output_type": "stream",
          "name": "stdout",
          "text": [
            "Y_pred2 (224, 9)\n",
            "y_pred2 224\n"
          ]
        }
      ]
    },
    {
      "cell_type": "markdown",
      "source": [
        "Calculate y_true"
      ],
      "metadata": {
        "id": "eaK4zbtoaAaC"
      }
    },
    {
      "cell_type": "code",
      "source": [
        "# true labels\n",
        "#y_true = X_test.classes\n",
        "print(\"y_pred\", len(y_pred))\n",
        "# label classes\n",
        "#class_labels = list(X_test.class_indices.keys())\n",
        "print(\"labels\", len(y_val))"
      ],
      "metadata": {
        "id": "cxPTyKixaCFa",
        "outputId": "211f1962-b509-420f-bf3a-9c3ad030df8c",
        "colab": {
          "base_uri": "https://localhost:8080/"
        }
      },
      "execution_count": null,
      "outputs": [
        {
          "output_type": "stream",
          "name": "stdout",
          "text": [
            "y_pred 193\n",
            "labels 193\n"
          ]
        }
      ]
    },
    {
      "cell_type": "code",
      "source": [
        "y_pred[:10]"
      ],
      "metadata": {
        "id": "9QmfNme9e2Iv",
        "outputId": "258f6bd5-0d29-4dac-b253-b04c430085e8",
        "colab": {
          "base_uri": "https://localhost:8080/"
        }
      },
      "execution_count": null,
      "outputs": [
        {
          "output_type": "execute_result",
          "data": {
            "text/plain": [
              "array([5, 5, 0, 5, 5, 5, 5, 5, 5, 5])"
            ]
          },
          "metadata": {},
          "execution_count": 47
        }
      ]
    },
    {
      "cell_type": "markdown",
      "source": [
        "F1 Score"
      ],
      "metadata": {
        "id": "Rb07kKePETk0"
      }
    },
    {
      "cell_type": "code",
      "source": [
        "print('Score on val data: ',precision_recall_fscore_support(y_val, y_pred, average='macro'))\n",
        "#print('Score on test data: ',precision_recall_fscore_support(y_test, y_pred2, average='macro'))"
      ],
      "metadata": {
        "colab": {
          "base_uri": "https://localhost:8080/"
        },
        "id": "gH92sRmlETE8",
        "outputId": "9ef64da1-7e17-4b4b-b91c-0b48dcf6bf71"
      },
      "execution_count": null,
      "outputs": [
        {
          "output_type": "stream",
          "name": "stdout",
          "text": [
            "Score on val data:  (0.5306913674560734, 0.3937889346425932, 0.42846503137856523, None)\n"
          ]
        }
      ]
    },
    {
      "cell_type": "markdown",
      "source": [
        "The confusion metric"
      ],
      "metadata": {
        "id": "oB-DZbhIaI_a"
      }
    },
    {
      "cell_type": "code",
      "source": [
        "#Get the confusion matrix\n",
        "cf_matrix = confusion_matrix(y_val, y_pred)\n",
        "\n",
        "print(cf_matrix)"
      ],
      "metadata": {
        "id": "E4nEpmkZaTZC",
        "outputId": "1234d24f-5310-40cd-82d8-15d106d260dd",
        "colab": {
          "base_uri": "https://localhost:8080/"
        }
      },
      "execution_count": null,
      "outputs": [
        {
          "output_type": "stream",
          "name": "stdout",
          "text": [
            "[[  3   2   2   0   0   1   0]\n",
            " [  5   6   3   1   0   0   0]\n",
            " [  2   0   8   0   3   9   0]\n",
            " [  0   0   0   0   0   1   0]\n",
            " [  0   1   4   1   7   8   0]\n",
            " [  1   0   3   1   1 117   0]\n",
            " [  0   2   0   0   0   0   1]]\n"
          ]
        }
      ]
    },
    {
      "cell_type": "code",
      "source": [
        "cf_matrix2 = confusion_matrix(y_test, y_pred2)\n",
        "print(cf_matrix2)"
      ],
      "metadata": {
        "id": "JBH8jKjwOBOH",
        "outputId": "5cb017e3-cadf-49a7-a7bf-1f8859341bb4",
        "colab": {
          "base_uri": "https://localhost:8080/"
        }
      },
      "execution_count": null,
      "outputs": [
        {
          "output_type": "stream",
          "name": "stdout",
          "text": [
            "[[ 3  2  1  0  4  0  0  1  0]\n",
            " [ 2 16  0  4  0  7  0  6  3]\n",
            " [ 2  1  4  1  0  0  0  1  0]\n",
            " [ 0  2  0 25  4  5  7  1  0]\n",
            " [ 5  1  0  6 19  4  0  1  0]\n",
            " [ 3 10  2  4  1 18  1  5  2]\n",
            " [ 0  0  0  8  0  0  0  0  0]\n",
            " [ 4  5  0  2  0  1  0  6  0]\n",
            " [ 0  2  0  0  1  0  0  1 10]]\n"
          ]
        }
      ]
    },
    {
      "cell_type": "code",
      "source": [
        "ax = sns.heatmap(cf_matrix, annot=True, \n",
        "            cmap='Blues')\n",
        "\n",
        "ax.set_title('Confusion Matrix \\n');\n",
        "ax.set_xlabel('\\nPredicted')\n",
        "ax.set_ylabel('Actual ');\n",
        "\n",
        "## Ticket labels - List must be in alphabetical order\n",
        "ax.xaxis.set_ticklabels(['AKIEC', 'BCC', 'BKL', 'DF', 'MEL', 'NV', 'VASC'])\n",
        "ax.yaxis.set_ticklabels(['AKIEC', 'BCC', 'BKL', 'DF', 'MEL', 'NV', 'VASC'])\n",
        "\n",
        "plt.rcParams[\"figure.figsize\"] = (15,3)\n",
        "\n",
        "## Display the visualization of the Confusion Matrix.\n",
        "plt.xticks(rotation=45, ha='right')\n",
        "plt.yticks(rotation=0, ha='right')\n",
        "plt.show()"
      ],
      "metadata": {
        "id": "gVtvW3YeaLlC",
        "outputId": "a2c05f8a-7925-4a2e-b949-bce4330e5864",
        "colab": {
          "base_uri": "https://localhost:8080/",
          "height": 285
        }
      },
      "execution_count": null,
      "outputs": [
        {
          "output_type": "display_data",
          "data": {
            "text/plain": [
              "<Figure size 1080x216 with 2 Axes>"
            ],
            "image/png": "[encoded data removed]"
          },
          "metadata": {
            "needs_background": "light"
          }
        }
      ]
    },
    {
      "cell_type": "code",
      "source": [
        "# ordered count of rows per unique label\n",
        "labels_count = df['Labels'].value_counts().sort_index()\n",
        "\n",
        "f = plt.figure(figsize=(15, 6))\n",
        "s = sns.barplot(x=labels_count.index,y=labels_count.values)\n",
        "s.set_xticklabels(s.get_xticklabels(), rotation = 30)"
      ],
      "metadata": {
        "id": "Ey-1yjWGeKs7",
        "colab": {
          "base_uri": "https://localhost:8080/",
          "height": 512
        },
        "outputId": "65c136b7-891f-4c2f-886c-d1ed6207efd6"
      },
      "execution_count": null,
      "outputs": [
        {
          "output_type": "execute_result",
          "data": {
            "text/plain": [
              "[Text(0, 0, 'AKIEC'),\n",
              " Text(0, 0, 'BCC'),\n",
              " Text(0, 0, 'BKL'),\n",
              " Text(0, 0, 'DF'),\n",
              " Text(0, 0, 'MEL'),\n",
              " Text(0, 0, 'NV'),\n",
              " Text(0, 0, 'VASC')]"
            ]
          },
          "metadata": {},
          "execution_count": 52
        },
        {
          "output_type": "display_data",
          "data": {
            "text/plain": [
              "<Figure size 1080x432 with 1 Axes>"
            ],
            "image/png": "[encoded data removed]"
          },
          "metadata": {
            "needs_background": "light"
          }
        }
      ]
    }
  ]
}